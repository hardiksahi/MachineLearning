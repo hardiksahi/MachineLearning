{
 "cells": [
  {
   "cell_type": "markdown",
   "id": "8b648f8a-550c-4e82-9858-435f898b7c84",
   "metadata": {},
   "source": [
    "## Experiment with using Transformer LM to do sentence classification"
   ]
  },
  {
   "cell_type": "markdown",
   "id": "8fcf0035-5c05-4279-9027-408ab8b8e344",
   "metadata": {},
   "source": [
    "1. Finetune a classifier head on top of pretrained BERT\n",
    "<!-- 2. Take embeddings from pretrained BERT and train a classifier on top of it. This is not finetuning of BERT since BERT is used only for getting embeddings\n",
    "3. Finetune GPT based LM to classify sentence. -->"
   ]
  },
  {
   "cell_type": "markdown",
   "id": "72b64061-83ae-4436-b1e0-fd22aed1d440",
   "metadata": {},
   "source": [
    "- Use pretrained DistilBERT model from HuggingFace"
   ]
  },
  {
   "cell_type": "code",
   "execution_count": 1,
   "id": "322555d5-e64f-4774-89ed-c6732bdf7031",
   "metadata": {},
   "outputs": [
    {
     "data": {
      "text/html": [
       "<style>:root { --jp-notebook-max-width: 100% !important; }</style>"
      ],
      "text/plain": [
       "<IPython.core.display.HTML object>"
      ]
     },
     "metadata": {},
     "output_type": "display_data"
    }
   ],
   "source": [
    "from IPython.display import display, HTML\n",
    "display(HTML(\"<style>:root { --jp-notebook-max-width: 100% !important; }</style>\"))"
   ]
  },
  {
   "cell_type": "code",
   "execution_count": 2,
   "id": "b8e9edae-8ee0-4bbb-9fe1-b51d207bb7c6",
   "metadata": {},
   "outputs": [],
   "source": [
    "import numpy as np\n",
    "import pandas as pd"
   ]
  },
  {
   "cell_type": "code",
   "execution_count": 3,
   "id": "522b0ebe-5a60-49e5-b9f7-425430e49f25",
   "metadata": {},
   "outputs": [],
   "source": [
    "from functools import partial"
   ]
  },
  {
   "cell_type": "code",
   "execution_count": 4,
   "id": "f1d04cba-d361-43bc-9ffa-9a338d499c42",
   "metadata": {},
   "outputs": [],
   "source": [
    "from transformers import AutoTokenizer"
   ]
  },
  {
   "cell_type": "code",
   "execution_count": 5,
   "id": "afbbcbb7-5562-4ae5-82c4-5ee102dd17ee",
   "metadata": {},
   "outputs": [],
   "source": [
    "from transformers import DistilBertModel, DistilBertConfig"
   ]
  },
  {
   "cell_type": "code",
   "execution_count": 6,
   "id": "33d1a4ed-a732-47f5-b53f-f61661f8802e",
   "metadata": {},
   "outputs": [],
   "source": [
    "from transformers import DataCollatorWithPadding"
   ]
  },
  {
   "cell_type": "code",
   "execution_count": 7,
   "id": "379f8cc2-9734-4ca8-93fc-7de480860016",
   "metadata": {},
   "outputs": [],
   "source": [
    "import evaluate"
   ]
  },
  {
   "cell_type": "code",
   "execution_count": 8,
   "id": "3c30cf55-2ef0-4261-8eb0-893ae8d11af2",
   "metadata": {},
   "outputs": [],
   "source": [
    "from transformers import AutoModelForSequenceClassification, TrainingArguments, Trainer"
   ]
  },
  {
   "cell_type": "code",
   "execution_count": 9,
   "id": "f38091be-002d-4fea-a6a7-19784cc05d7e",
   "metadata": {},
   "outputs": [],
   "source": [
    "from datasets import load_dataset"
   ]
  },
  {
   "cell_type": "code",
   "execution_count": 10,
   "id": "dae9d9da-3a74-4c2c-a365-06394f68e87d",
   "metadata": {},
   "outputs": [],
   "source": [
    "import torch"
   ]
  },
  {
   "cell_type": "code",
   "execution_count": 11,
   "id": "28319368-ef0a-42cb-9083-50708af618e2",
   "metadata": {},
   "outputs": [
    {
     "data": {
      "text/plain": [
       "False"
      ]
     },
     "execution_count": 11,
     "metadata": {},
     "output_type": "execute_result"
    }
   ],
   "source": [
    "torch.cuda.is_available()"
   ]
  },
  {
   "cell_type": "markdown",
   "id": "db6f748e-bab9-4166-a66f-ea17cf2fd858",
   "metadata": {},
   "source": [
    "## 1. Finetune a classifier head on top of pretrained BERT"
   ]
  },
  {
   "cell_type": "code",
   "execution_count": 12,
   "id": "d93b924f-331c-4b68-9594-3cbda7196873",
   "metadata": {},
   "outputs": [],
   "source": [
    "# train_df = pd.read_csv('https://github.com/clairett/pytorch-sentiment-classification/raw/master/data/SST2/train.tsv', delimiter='\\t', header=None).rename(columns={0: \"text\", 1:\"label\"})\n",
    "# dev_df = pd.read_csv('https://github.com/clairett/pytorch-sentiment-classification/raw/master/data/SST2/dev.tsv', delimiter='\\t', header=None).rename(columns={0: \"text\", 1:\"label\"})\n",
    "# test_df = pd.read_csv('https://github.com/clairett/pytorch-sentiment-classification/raw/master/data/SST2/test.tsv', delimiter='\\t', header=None).rename(columns={0: \"text\", 1:\"label\"})\n",
    "\n",
    "# dev_df.shape\n",
    "\n",
    "# base_url = \"https://github.com/clairett/pytorch-sentiment-classification/raw/master/data/SST2/\"\n",
    "# data = load_dataset(\"csv\", data_files={\"train\": f\"{base_url}train.tsv\", \"validate\": f\"{base_url}dev.tsv\", \"test\": f\"{base_url}test.tsv\"}, delimiter=\"\\t\")\n",
    "\n",
    "# train_df[\"data_type\"] = \"train\"\n",
    "# dev_df[\"data_type\"] = \"dev\"\n",
    "# test_df[\"data_type\"] = \"test\"\n",
    "\n",
    "# df = pd.concat([train_df, dev_df, test_df], axis=0).reset_index(drop=True)\n",
    "\n",
    "# print(f\"Shape of df: {df.shape}\")\n",
    "\n",
    "# df.head()\n",
    "\n",
    "# ## Quite balanced\n",
    "# df[df.data_type =='train'].label.value_counts(normalize=True)"
   ]
  },
  {
   "cell_type": "markdown",
   "id": "e2afebe9-60f6-4ac3-8c3d-dd210634db1d",
   "metadata": {},
   "source": [
    "## Load dataset at https://huggingface.co/datasets/stanfordnlp/sst2"
   ]
  },
  {
   "cell_type": "code",
   "execution_count": 13,
   "id": "e0a9e45b-7338-4ed1-a957-0a37f9330d77",
   "metadata": {},
   "outputs": [],
   "source": [
    "df = load_dataset('stanfordnlp/sst2')"
   ]
  },
  {
   "cell_type": "code",
   "execution_count": 48,
   "id": "e814933d-dd01-4cca-a108-8b96eb763f20",
   "metadata": {},
   "outputs": [
    {
     "data": {
      "text/plain": [
       "{'idx': 0, 'sentence': 'uneasy mishmash of styles and genres .', 'label': -1}"
      ]
     },
     "execution_count": 48,
     "metadata": {},
     "output_type": "execute_result"
    }
   ],
   "source": [
    "df[\"test\"][0]"
   ]
  },
  {
   "cell_type": "markdown",
   "id": "a37b73cf-050f-4432-8598-d5a2867bfdd0",
   "metadata": {},
   "source": [
    "DistilBERT is a transformers model, smaller and faster than BERT, which was pretrained on the same corpus in a self-supervised fashion, using the BERT base model as a teacher. It was pretrainined with the following objectives:\n",
    "it was pretrained with three objectives:\n",
    "\n",
    "1. Distillation loss: the model was trained to return the same probabilities as the BERT base model.\n",
    "2. Masked language modeling (MLM): this is part of the original training loss of the BERT base model. When taking a sentence, the model randomly masks 15% of the words in the input then run the entire masked sentence through the model and has to predict the masked words. This is different from traditional recurrent neural networks (RNNs) that usually see the words one after the other, or from autoregressive models like GPT which internally mask the future tokens. It allows the model to learn a bidirectional representation of the sentence.\n",
    "3. Cosine embedding loss: the model was also trained to generate hidden states as close as possible as the BERT base model.\n",
    "\n",
    "https://huggingface.co/distilbert/distilbert-base-uncased"
   ]
  },
  {
   "cell_type": "markdown",
   "id": "84fcd90c-e795-439d-8925-55bd31c9a995",
   "metadata": {},
   "source": [
    "## Step1: Get tokenizer for specific model"
   ]
  },
  {
   "cell_type": "code",
   "execution_count": 14,
   "id": "fdb10f28-f325-47d6-9d62-87e75f0d61f2",
   "metadata": {},
   "outputs": [
    {
     "name": "stderr",
     "output_type": "stream",
     "text": [
      "/Users/hardiksahi/miniconda3/envs/personal_env/lib/python3.9/site-packages/huggingface_hub/file_download.py:1132: FutureWarning: `resume_download` is deprecated and will be removed in version 1.0.0. Downloads always resume when possible. If you want to force a new download, use `force_download=True`.\n",
      "  warnings.warn(\n"
     ]
    }
   ],
   "source": [
    "## Based on the name of the model(distilbert), AutoTokenizer automatically instantiates one of the tokenizer classes of the library from a pretrained model vocabulary.\n",
    "## https://huggingface.co/docs/transformers/model_doc/auto#transformers.AutoTokenizer\n",
    "## WordPiece based tokizer\n",
    "## Returns DistilBertTokenizer or DistilBertTokenizerFast based on use_fast=True\n",
    "tokenizer = AutoTokenizer.from_pretrained(\"distilbert/distilbert-base-uncased\", use_fast=True)"
   ]
  },
  {
   "cell_type": "code",
   "execution_count": 15,
   "id": "873b826e-e026-4a53-9abb-6325a45a01e0",
   "metadata": {},
   "outputs": [
    {
     "name": "stdout",
     "output_type": "stream",
     "text": [
      "tokenizer model_max_length: 1000000000000000019884624838656\n",
      "tokenizer truncation_side: right\n",
      "tokenizer padding_side: right\n",
      "tokenizer model_input_names: ['input_ids', 'attention_mask']\n",
      "tokenizer bos_token: None\n",
      "tokenizer eos_token: None\n",
      "tokenizer unk_token: [UNK]\n",
      "tokenizer sep_token: [SEP]\n",
      "tokenizer pad_token: [PAD]\n",
      "tokenizer cls_token: [CLS]\n",
      "tokenizer mask_token: [MASK]\n"
     ]
    }
   ],
   "source": [
    "print(f\"tokenizer model_max_length: {tokenizer.model_max_length}\") ## A very large values => unreliable\n",
    "print(f\"tokenizer truncation_side: {tokenizer.truncation_side}\")\n",
    "print(f\"tokenizer padding_side: {tokenizer.padding_side}\") \n",
    "print(f\"tokenizer model_input_names: {tokenizer.model_input_names}\") \n",
    "print(f\"tokenizer bos_token: {tokenizer.bos_token}\") \n",
    "print(f\"tokenizer eos_token: {tokenizer.eos_token}\") \n",
    "print(f\"tokenizer unk_token: {tokenizer.unk_token}\") \n",
    "print(f\"tokenizer sep_token: {tokenizer.sep_token}\") \n",
    "print(f\"tokenizer pad_token: {tokenizer.pad_token}\") \n",
    "print(f\"tokenizer cls_token: {tokenizer.cls_token}\") \n",
    "print(f\"tokenizer mask_token: {tokenizer.mask_token}\") "
   ]
  },
  {
   "cell_type": "code",
   "execution_count": 16,
   "id": "e3dafb96-b0a3-4759-8a1c-dd672a9ac83e",
   "metadata": {},
   "outputs": [
    {
     "name": "stdout",
     "output_type": "stream",
     "text": [
      "DistilBERT config: DistilBertConfig {\n",
      "  \"activation\": \"gelu\",\n",
      "  \"attention_dropout\": 0.1,\n",
      "  \"dim\": 768,\n",
      "  \"dropout\": 0.1,\n",
      "  \"hidden_dim\": 3072,\n",
      "  \"initializer_range\": 0.02,\n",
      "  \"max_position_embeddings\": 512,\n",
      "  \"model_type\": \"distilbert\",\n",
      "  \"n_heads\": 12,\n",
      "  \"n_layers\": 6,\n",
      "  \"pad_token_id\": 0,\n",
      "  \"qa_dropout\": 0.1,\n",
      "  \"seq_classif_dropout\": 0.2,\n",
      "  \"sinusoidal_pos_embds\": false,\n",
      "  \"transformers_version\": \"4.40.1\",\n",
      "  \"vocab_size\": 30522\n",
      "}\n",
      "\n"
     ]
    }
   ],
   "source": [
    "## Check configuration of pretrained DistilBERT model\n",
    "configuration = DistilBertConfig()\n",
    "print(f\"DistilBERT config: {configuration}\")"
   ]
  },
  {
   "cell_type": "code",
   "execution_count": 17,
   "id": "ad5d3dac-af8f-4f4f-8568-393dd98f273a",
   "metadata": {},
   "outputs": [],
   "source": [
    "def preprocess_function(df, text_column=\"text\"):\n",
    "    ## truncation=True ensures that sequences to be no longer than DistilBERT’s maximum input length\n",
    "    ## https://huggingface.co/docs/transformers/v4.40.1/en/internal/tokenization_utils#transformers.PreTrainedTokenizerBase.__call__\n",
    "    return tokenizer(df[text_column], truncation=True)"
   ]
  },
  {
   "cell_type": "markdown",
   "id": "c44c7a7d-166d-41ec-933d-1e440ac83b94",
   "metadata": {},
   "source": [
    "## tokenizer returns input_ids (token id) and attention_mask to be input to model\n",
    " https://huggingface.co/docs/transformers/v4.40.1/en/main_classes/tokenizer#transformers.PreTrainedTokenizerFast"
   ]
  },
  {
   "cell_type": "code",
   "execution_count": 18,
   "id": "a1a25897-39ef-45b4-ac95-12adb1f160da",
   "metadata": {},
   "outputs": [
    {
     "name": "stderr",
     "output_type": "stream",
     "text": [
      "Asking to truncate to max_length but no maximum length is provided and the model has no predefined maximum length. Default to no truncation.\n"
     ]
    },
    {
     "data": {
      "text/plain": [
       "{'input_ids': [[101, 1037, 18385, 1010, 6057, 1998, 2633, 18276, 2128, 16603, 1997, 5053, 1998, 1996, 6841, 1998, 5687, 5469, 3152, 102], [101, 2026, 2171, 2003, 2524, 5480, 102]], 'attention_mask': [[1, 1, 1, 1, 1, 1, 1, 1, 1, 1, 1, 1, 1, 1, 1, 1, 1, 1, 1, 1], [1, 1, 1, 1, 1, 1, 1]]}"
      ]
     },
     "execution_count": 18,
     "metadata": {},
     "output_type": "execute_result"
    }
   ],
   "source": [
    "tokenizer(['a stirring , funny and finally transporting re imagining of beauty and the beast and 1930s horror films', 'my name is hardik'], truncation=True)"
   ]
  },
  {
   "cell_type": "markdown",
   "id": "fdbcd294-7d7e-4fe2-8187-88a50db94698",
   "metadata": {},
   "source": [
    "## encode returns input_ids\n",
    "https://huggingface.co/docs/transformers/v4.40.1/en/main_classes/tokenizer#transformers.PreTrainedTokenizerFast"
   ]
  },
  {
   "cell_type": "code",
   "execution_count": 19,
   "id": "5ccb39ed-6afd-4eb8-9754-1a895d840e54",
   "metadata": {},
   "outputs": [],
   "source": [
    "sample_encoding = tokenizer.encode('A stirring , Funny and finally transporting re imagining of beauty and the beast and 1930s horror films amzertfys', truncation=True)"
   ]
  },
  {
   "cell_type": "markdown",
   "id": "76d2819c-9e3a-451f-bca6-107ec1ab976b",
   "metadata": {},
   "source": [
    "## decode converts token/ input_ids to tokens and returns sentences\n",
    "https://huggingface.co/docs/transformers/v4.40.1/en/main_classes/tokenizer#transformers.PreTrainedTokenizerFast"
   ]
  },
  {
   "cell_type": "code",
   "execution_count": 20,
   "id": "9e0a747b-2bcd-4211-9656-fe3dc0ebda5e",
   "metadata": {},
   "outputs": [
    {
     "data": {
      "text/plain": [
       "'[CLS] a stirring, funny and finally transporting re imagining of beauty and the beast and 1930s horror films amzertfys [SEP]'"
      ]
     },
     "execution_count": 20,
     "metadata": {},
     "output_type": "execute_result"
    }
   ],
   "source": [
    "tokenizer.decode(sample_encoding)"
   ]
  },
  {
   "cell_type": "markdown",
   "id": "a228b8eb-c77f-45ec-a531-6de2a4bbdf09",
   "metadata": {},
   "source": [
    "## See the tokenization (Wordpiece result) using convert_ids_to_tokens\n",
    "https://huggingface.co/docs/transformers/v4.40.1/en/main_classes/tokenizer#transformers.PreTrainedTokenizerFast"
   ]
  },
  {
   "cell_type": "code",
   "execution_count": 21,
   "id": "6051a84d-cede-4f11-9133-319ef6080059",
   "metadata": {},
   "outputs": [
    {
     "data": {
      "text/plain": [
       "['[CLS]',\n",
       " 'a',\n",
       " 'stirring',\n",
       " ',',\n",
       " 'funny',\n",
       " 'and',\n",
       " 'finally',\n",
       " 'transporting',\n",
       " 're',\n",
       " 'imagining',\n",
       " 'of',\n",
       " 'beauty',\n",
       " 'and',\n",
       " 'the',\n",
       " 'beast',\n",
       " 'and',\n",
       " '1930s',\n",
       " 'horror',\n",
       " 'films',\n",
       " 'am',\n",
       " '##zer',\n",
       " '##tf',\n",
       " '##ys',\n",
       " '[SEP]']"
      ]
     },
     "execution_count": 21,
     "metadata": {},
     "output_type": "execute_result"
    }
   ],
   "source": [
    "tokenizer.convert_ids_to_tokens(sample_encoding)"
   ]
  },
  {
   "cell_type": "markdown",
   "id": "d57cf789-d81e-4c0f-9925-36a08ae9eca4",
   "metadata": {},
   "source": [
    "## Step2: Tokenize the entries in text column to get input_ids(token_ids) and attention masks"
   ]
  },
  {
   "cell_type": "code",
   "execution_count": 22,
   "id": "f0832cc6-7533-427f-8d05-b56bb78a3df0",
   "metadata": {},
   "outputs": [],
   "source": [
    "#tokenized_dict_list = preprocess_function(df, text_column=\"text\")\n",
    "tokenized_df = df.map(partial(preprocess_function, text_column=\"sentence\"), batched=True)"
   ]
  },
  {
   "cell_type": "code",
   "execution_count": 23,
   "id": "2e0fa5a6-7fa5-42fd-ad3a-4ee8cd38b27c",
   "metadata": {},
   "outputs": [
    {
     "data": {
      "text/plain": [
       "DatasetDict({\n",
       "    train: Dataset({\n",
       "        features: ['idx', 'sentence', 'label', 'input_ids', 'attention_mask'],\n",
       "        num_rows: 67349\n",
       "    })\n",
       "    validation: Dataset({\n",
       "        features: ['idx', 'sentence', 'label', 'input_ids', 'attention_mask'],\n",
       "        num_rows: 872\n",
       "    })\n",
       "    test: Dataset({\n",
       "        features: ['idx', 'sentence', 'label', 'input_ids', 'attention_mask'],\n",
       "        num_rows: 1821\n",
       "    })\n",
       "})"
      ]
     },
     "execution_count": 23,
     "metadata": {},
     "output_type": "execute_result"
    }
   ],
   "source": [
    "tokenized_df"
   ]
  },
  {
   "cell_type": "markdown",
   "id": "cbbdc99c-1447-4f1c-89d4-72ab590cf332",
   "metadata": {},
   "source": [
    "## Step3: Padd shorted sequences to ensure all are of length 512 tokens (In step 2 we truncated long sequences)"
   ]
  },
  {
   "cell_type": "markdown",
   "id": "910b3dd5-16b3-4e04-a641-d47c971c0e71",
   "metadata": {},
   "source": [
    "https://huggingface.co/docs/transformers/v4.40.1/en/main_classes/data_collator#transformers.DataCollatorWithPadding"
   ]
  },
  {
   "cell_type": "code",
   "execution_count": 24,
   "id": "e2d6a06d-852a-44ee-8f17-0808322a8d63",
   "metadata": {},
   "outputs": [],
   "source": [
    "data_collator = DataCollatorWithPadding(tokenizer=tokenizer, padding=True)"
   ]
  },
  {
   "cell_type": "markdown",
   "id": "47ca0f05-96c3-42b2-b21a-86473081bd8c",
   "metadata": {},
   "source": [
    "## Step 4: Get eveluation metric (scikit learn or evaluate library)\n",
    "https://huggingface.co/docs/evaluate/package_reference/loading_methods"
   ]
  },
  {
   "cell_type": "code",
   "execution_count": 25,
   "id": "9dd5de39-3889-4eb5-9dd9-9cb17423f571",
   "metadata": {},
   "outputs": [],
   "source": [
    "##evaluate.list_evaluation_modules(module_type=\"metric\", include_community=True, with_details=True)"
   ]
  },
  {
   "cell_type": "code",
   "execution_count": 26,
   "id": "12590c2a-9096-4c84-9f66-a3dd176152de",
   "metadata": {},
   "outputs": [
    {
     "data": {
      "text/plain": [
       "['nbansal/semf1']"
      ]
     },
     "execution_count": 26,
     "metadata": {},
     "output_type": "execute_result"
    }
   ],
   "source": [
    "[metric for metric in evaluate.list_evaluation_modules(module_type=\"metric\", include_community=True) if 'f1' in metric]"
   ]
  },
  {
   "cell_type": "code",
   "execution_count": 27,
   "id": "bb0e3c8f-ae58-4688-b0a1-d56c1e1a5681",
   "metadata": {},
   "outputs": [],
   "source": [
    "accuracy = evaluate.load(\"accuracy\")\n",
    "precision = evaluate.load(\"precision\")\n",
    "recall = evaluate.load(\"recall\")\n",
    "f1 = evaluate.load(\"f1\")"
   ]
  },
  {
   "cell_type": "code",
   "execution_count": 28,
   "id": "c90ff801-af18-4a71-8257-15e00acb4f5c",
   "metadata": {},
   "outputs": [],
   "source": [
    "def compute_metrics(eval_pred):\n",
    "    predictions, labels = eval_pred\n",
    "    predictions = np.argmax(predictions, axis=1)\n",
    "    accuracy_value = accuracy.compute(predictions=predictions, references=labels)[\"accuracy\"]\n",
    "    precision_value = precision.compute(predictions=predictions, references=labels)[\"precision\"]\n",
    "    recall_value = recall.compute(predictions=predictions, references=labels)[\"recall\"]\n",
    "    f1_value = f1.compute(predictions=predictions, references=labels)[\"f1\"]\n",
    "    return {\"accuracy\": accuracy_value, \"precision\":precision_value, \"recall\":recall_value, \"f1\":f1_value}"
   ]
  },
  {
   "cell_type": "markdown",
   "id": "f68edd58-6fc4-43de-a270-b561e2cb2040",
   "metadata": {},
   "source": [
    "## Step 5: Get id2label and label2id mapping"
   ]
  },
  {
   "cell_type": "code",
   "execution_count": 29,
   "id": "b6920e15-a790-49ec-97c2-b7249e7f33c3",
   "metadata": {},
   "outputs": [],
   "source": [
    "id2label = {0:\"negative\", 1:\"positive\"}\n",
    "label2id = {\"negative\":0, \"positive\":1}"
   ]
  },
  {
   "cell_type": "code",
   "execution_count": null,
   "id": "ba975b6f-36b4-4a57-801b-c5d8949c6266",
   "metadata": {},
   "outputs": [],
   "source": []
  },
  {
   "cell_type": "markdown",
   "id": "21b2da3f-c130-45ad-8f6c-93de3678ffc6",
   "metadata": {},
   "source": [
    "## Step 6: Train model\n",
    "1. Use Trainer API by Hugging face which abstracts the training loop\n",
    "2. Manually write training loop in native Pytorch/ Tensorflow"
   ]
  },
  {
   "cell_type": "markdown",
   "id": "23f5e2d6-a27d-47af-8641-248ed1ea4000",
   "metadata": {},
   "source": [
    "### Step 6.1 Use Trainer API\n",
    "https://huggingface.co/docs/transformers/en/training#train-with-pytorch-trainer"
   ]
  },
  {
   "cell_type": "code",
   "execution_count": 30,
   "id": "7678aaf2-1faa-4dfe-bd84-fbdd1c013fbf",
   "metadata": {},
   "outputs": [
    {
     "name": "stderr",
     "output_type": "stream",
     "text": [
      "Some weights of DistilBertForSequenceClassification were not initialized from the model checkpoint at distilbert/distilbert-base-uncased and are newly initialized: ['classifier.bias', 'classifier.weight', 'pre_classifier.bias', 'pre_classifier.weight']\n",
      "You should probably TRAIN this model on a down-stream task to be able to use it for predictions and inference.\n"
     ]
    }
   ],
   "source": [
    "## https://huggingface.co/docs/transformers/v4.40.1/en/model_doc/auto#transformers.AutoModelForSequenceClassification\n",
    "## model with be instantiated with a classification head (Linear+Softmax)\n",
    "## https://huggingface.co/docs/transformers/v4.40.1/en/main_classes/configuration#transformers.PretrainedConfig\n",
    "model = AutoModelForSequenceClassification.from_pretrained(\"distilbert/distilbert-base-uncased\", num_labels=2, id2label=id2label, label2id=label2id)"
   ]
  },
  {
   "cell_type": "code",
   "execution_count": 31,
   "id": "bd396fb4-bfe6-45c3-98bc-e4381f35b8d8",
   "metadata": {},
   "outputs": [
    {
     "name": "stdout",
     "output_type": "stream",
     "text": [
      "Pretrained model with classification head architecture: DistilBertForSequenceClassification(\n",
      "  (distilbert): DistilBertModel(\n",
      "    (embeddings): Embeddings(\n",
      "      (word_embeddings): Embedding(30522, 768, padding_idx=0)\n",
      "      (position_embeddings): Embedding(512, 768)\n",
      "      (LayerNorm): LayerNorm((768,), eps=1e-12, elementwise_affine=True)\n",
      "      (dropout): Dropout(p=0.1, inplace=False)\n",
      "    )\n",
      "    (transformer): Transformer(\n",
      "      (layer): ModuleList(\n",
      "        (0-5): 6 x TransformerBlock(\n",
      "          (attention): MultiHeadSelfAttention(\n",
      "            (dropout): Dropout(p=0.1, inplace=False)\n",
      "            (q_lin): Linear(in_features=768, out_features=768, bias=True)\n",
      "            (k_lin): Linear(in_features=768, out_features=768, bias=True)\n",
      "            (v_lin): Linear(in_features=768, out_features=768, bias=True)\n",
      "            (out_lin): Linear(in_features=768, out_features=768, bias=True)\n",
      "          )\n",
      "          (sa_layer_norm): LayerNorm((768,), eps=1e-12, elementwise_affine=True)\n",
      "          (ffn): FFN(\n",
      "            (dropout): Dropout(p=0.1, inplace=False)\n",
      "            (lin1): Linear(in_features=768, out_features=3072, bias=True)\n",
      "            (lin2): Linear(in_features=3072, out_features=768, bias=True)\n",
      "            (activation): GELUActivation()\n",
      "          )\n",
      "          (output_layer_norm): LayerNorm((768,), eps=1e-12, elementwise_affine=True)\n",
      "        )\n",
      "      )\n",
      "    )\n",
      "  )\n",
      "  (pre_classifier): Linear(in_features=768, out_features=768, bias=True)\n",
      "  (classifier): Linear(in_features=768, out_features=2, bias=True)\n",
      "  (dropout): Dropout(p=0.2, inplace=False)\n",
      ")\n"
     ]
    }
   ],
   "source": [
    "print(f\"Pretrained model with classification head architecture: {model}\")"
   ]
  },
  {
   "cell_type": "code",
   "execution_count": 32,
   "id": "0c9f25fb-c03b-4bcf-af6c-692bfd8148cc",
   "metadata": {},
   "outputs": [],
   "source": [
    "##https://huggingface.co/docs/transformers/v4.17.0/en/main_classes/trainer#transformers.TrainingArguments\n",
    "## num_train_epochs,  + arguments to control optimizer like learning rate (default: 5e-5)\n",
    "## Checkpoints are saved every 500 steps since save_strategy=steps and save_steps=500 by default\n",
    "training_arguments = TrainingArguments(output_dir=\"./results\", learning_rate=2e-5, per_device_train_batch_size=16, per_device_eval_batch_size=16, num_train_epochs=5, weight_decay=0.01, evaluation_strategy=\"epoch\")"
   ]
  },
  {
   "cell_type": "code",
   "execution_count": 33,
   "id": "97ad812a-8342-4273-a9ce-d46bee39d3fc",
   "metadata": {},
   "outputs": [],
   "source": [
    "## https://huggingface.co/docs/transformers/v4.17.0/en/main_classes/trainer#transformers.Trainer\n",
    "## INformaitoj like train / val dataset, data_collator, metrics to compute, optimzer and scheduler to use (default:  AdamW with get_linear_schedule_with_warmup())\n",
    "trainer = Trainer(model=model, args=training_arguments, train_dataset=tokenized_df[\"train\"], eval_dataset=tokenized_df[\"validation\"], tokenizer=tokenizer, data_collator=data_collator, compute_metrics=compute_metrics)"
   ]
  },
  {
   "cell_type": "code",
   "execution_count": 34,
   "id": "e30467e6-715b-4780-adae-447af5e20a7c",
   "metadata": {},
   "outputs": [
    {
     "data": {
      "text/plain": [
       "DatasetDict({\n",
       "    train: Dataset({\n",
       "        features: ['idx', 'sentence', 'label', 'input_ids', 'attention_mask'],\n",
       "        num_rows: 67349\n",
       "    })\n",
       "    validation: Dataset({\n",
       "        features: ['idx', 'sentence', 'label', 'input_ids', 'attention_mask'],\n",
       "        num_rows: 872\n",
       "    })\n",
       "    test: Dataset({\n",
       "        features: ['idx', 'sentence', 'label', 'input_ids', 'attention_mask'],\n",
       "        num_rows: 1821\n",
       "    })\n",
       "})"
      ]
     },
     "execution_count": 34,
     "metadata": {},
     "output_type": "execute_result"
    }
   ],
   "source": [
    "tokenized_df"
   ]
  },
  {
   "cell_type": "code",
   "execution_count": 35,
   "id": "b7b0adbf-e77c-4d52-a643-a8cef388e71a",
   "metadata": {},
   "outputs": [
    {
     "data": {
      "text/html": [
       "\n",
       "    <div>\n",
       "      \n",
       "      <progress value='21050' max='21050' style='width:300px; height:20px; vertical-align: middle;'></progress>\n",
       "      [21050/21050 2:25:19, Epoch 5/5]\n",
       "    </div>\n",
       "    <table border=\"1\" class=\"dataframe\">\n",
       "  <thead>\n",
       " <tr style=\"text-align: left;\">\n",
       "      <th>Epoch</th>\n",
       "      <th>Training Loss</th>\n",
       "      <th>Validation Loss</th>\n",
       "      <th>Accuracy</th>\n",
       "      <th>Precision</th>\n",
       "      <th>Recall</th>\n",
       "      <th>F1</th>\n",
       "    </tr>\n",
       "  </thead>\n",
       "  <tbody>\n",
       "    <tr>\n",
       "      <td>1</td>\n",
       "      <td>0.190600</td>\n",
       "      <td>0.300889</td>\n",
       "      <td>0.902523</td>\n",
       "      <td>0.896247</td>\n",
       "      <td>0.914414</td>\n",
       "      <td>0.905240</td>\n",
       "    </tr>\n",
       "    <tr>\n",
       "      <td>2</td>\n",
       "      <td>0.141300</td>\n",
       "      <td>0.423986</td>\n",
       "      <td>0.892202</td>\n",
       "      <td>0.860082</td>\n",
       "      <td>0.941441</td>\n",
       "      <td>0.898925</td>\n",
       "    </tr>\n",
       "    <tr>\n",
       "      <td>3</td>\n",
       "      <td>0.089600</td>\n",
       "      <td>0.372025</td>\n",
       "      <td>0.908257</td>\n",
       "      <td>0.917431</td>\n",
       "      <td>0.900901</td>\n",
       "      <td>0.909091</td>\n",
       "    </tr>\n",
       "    <tr>\n",
       "      <td>4</td>\n",
       "      <td>0.074000</td>\n",
       "      <td>0.416255</td>\n",
       "      <td>0.909404</td>\n",
       "      <td>0.915718</td>\n",
       "      <td>0.905405</td>\n",
       "      <td>0.910532</td>\n",
       "    </tr>\n",
       "    <tr>\n",
       "      <td>5</td>\n",
       "      <td>0.040700</td>\n",
       "      <td>0.506876</td>\n",
       "      <td>0.907110</td>\n",
       "      <td>0.895425</td>\n",
       "      <td>0.925676</td>\n",
       "      <td>0.910299</td>\n",
       "    </tr>\n",
       "  </tbody>\n",
       "</table><p>"
      ],
      "text/plain": [
       "<IPython.core.display.HTML object>"
      ]
     },
     "metadata": {},
     "output_type": "display_data"
    },
    {
     "data": {
      "text/plain": [
       "TrainOutput(global_step=21050, training_loss=0.11261694814133814, metrics={'train_runtime': 8719.9981, 'train_samples_per_second': 38.618, 'train_steps_per_second': 2.414, 'total_flos': 3067639398189732.0, 'train_loss': 0.11261694814133814, 'epoch': 5.0})"
      ]
     },
     "execution_count": 35,
     "metadata": {},
     "output_type": "execute_result"
    }
   ],
   "source": [
    "trainer.train()"
   ]
  },
  {
   "cell_type": "code",
   "execution_count": 76,
   "id": "38a7558d-09fe-41ae-8f0e-9485fd9766bb",
   "metadata": {},
   "outputs": [],
   "source": [
    "trainer.save_model(\"./results/finetuned_model\")"
   ]
  },
  {
   "cell_type": "markdown",
   "id": "018fc876-bac6-4d80-a6db-d7e82ee59996",
   "metadata": {},
   "source": [
    "## Evaluating on validation dataset outside model training"
   ]
  },
  {
   "cell_type": "code",
   "execution_count": 40,
   "id": "68f8f1dc-d3ee-44e1-b634-ace2f1742eb5",
   "metadata": {},
   "outputs": [
    {
     "data": {
      "text/html": [],
      "text/plain": [
       "<IPython.core.display.HTML object>"
      ]
     },
     "metadata": {},
     "output_type": "display_data"
    },
    {
     "data": {
      "text/plain": [
       "{'eval_loss': 0.5068759918212891,\n",
       " 'eval_accuracy': 0.9071100917431193,\n",
       " 'eval_precision': 0.8954248366013072,\n",
       " 'eval_recall': 0.9256756756756757,\n",
       " 'eval_f1': 0.9102990033222591,\n",
       " 'eval_runtime': 2.2542,\n",
       " 'eval_samples_per_second': 386.825,\n",
       " 'eval_steps_per_second': 24.398,\n",
       " 'epoch': 5.0}"
      ]
     },
     "execution_count": 40,
     "metadata": {},
     "output_type": "execute_result"
    }
   ],
   "source": [
    "trainer.evaluate(eval_dataset=tokenized_df[\"validation\"])"
   ]
  },
  {
   "cell_type": "code",
   "execution_count": 51,
   "id": "4a4d5c03-3a70-4283-85fe-ec5805b4e842",
   "metadata": {},
   "outputs": [
    {
     "data": {
      "text/plain": [
       "{'idx': 0,\n",
       " 'sentence': 'uneasy mishmash of styles and genres .',\n",
       " 'label': -1,\n",
       " 'input_ids': [101,\n",
       "  15491,\n",
       "  28616,\n",
       "  22444,\n",
       "  4095,\n",
       "  1997,\n",
       "  6782,\n",
       "  1998,\n",
       "  11541,\n",
       "  1012,\n",
       "  102],\n",
       " 'attention_mask': [1, 1, 1, 1, 1, 1, 1, 1, 1, 1, 1]}"
      ]
     },
     "execution_count": 51,
     "metadata": {},
     "output_type": "execute_result"
    }
   ],
   "source": [
    "tokenized_df[\"test\"][0]"
   ]
  },
  {
   "cell_type": "code",
   "execution_count": 64,
   "id": "eada5592-0b5b-45c0-8416-96231311a4b1",
   "metadata": {},
   "outputs": [],
   "source": [
    "test_dataset = tokenized_df[\"test\"].remove_columns(\"label\")"
   ]
  },
  {
   "cell_type": "code",
   "execution_count": 65,
   "id": "4b6b23d9-794f-40a0-92b4-22d04a8b883d",
   "metadata": {},
   "outputs": [
    {
     "data": {
      "text/html": [],
      "text/plain": [
       "<IPython.core.display.HTML object>"
      ]
     },
     "metadata": {},
     "output_type": "display_data"
    }
   ],
   "source": [
    "predictions = trainer.predict(test_dataset)"
   ]
  },
  {
   "cell_type": "code",
   "execution_count": 66,
   "id": "5f4f695d-44ea-47f0-9ea0-0e73f1ca5f04",
   "metadata": {},
   "outputs": [
    {
     "name": "stdout",
     "output_type": "stream",
     "text": [
      "(1821, 2)\n"
     ]
    }
   ],
   "source": [
    "print(predictions.predictions.shape)"
   ]
  },
  {
   "cell_type": "code",
   "execution_count": 67,
   "id": "579b42a4-b69b-49be-b2d4-01f2a0021587",
   "metadata": {},
   "outputs": [],
   "source": [
    "preds = np.argmax(predictions.predictions, axis=-1)"
   ]
  },
  {
   "cell_type": "code",
   "execution_count": 70,
   "id": "c565306a-c2f0-421a-b3a1-4dc951804e63",
   "metadata": {},
   "outputs": [],
   "source": [
    "predicted_test_dataset = test_dataset.add_column(\"prediction\", [id2label[pred] for pred in preds])"
   ]
  },
  {
   "cell_type": "code",
   "execution_count": 71,
   "id": "d0bcb8d5-ba19-4c48-b0a9-d75a0b544ce6",
   "metadata": {},
   "outputs": [
    {
     "data": {
      "text/plain": [
       "Dataset({\n",
       "    features: ['idx', 'sentence', 'input_ids', 'attention_mask', 'prediction'],\n",
       "    num_rows: 1821\n",
       "})"
      ]
     },
     "execution_count": 71,
     "metadata": {},
     "output_type": "execute_result"
    }
   ],
   "source": [
    "predicted_test_dataset"
   ]
  },
  {
   "cell_type": "markdown",
   "id": "a6384ad9-87c3-4b76-9188-d04bee52ce13",
   "metadata": {},
   "source": [
    "## Load pretrained model"
   ]
  },
  {
   "cell_type": "code",
   "execution_count": 77,
   "id": "1366d0b7-7eea-4d92-aac0-cfb325c8cbda",
   "metadata": {},
   "outputs": [],
   "source": [
    "finetuned_model = AutoModelForSequenceClassification.from_pretrained(\"./results/finetuned_model\")"
   ]
  },
  {
   "cell_type": "code",
   "execution_count": 81,
   "id": "f22de167-469e-4822-b90e-dfa02577f836",
   "metadata": {},
   "outputs": [],
   "source": [
    "from transformers import pipeline"
   ]
  },
  {
   "cell_type": "code",
   "execution_count": 96,
   "id": "02c5e234-b0a8-41a5-87ab-885d2462dd2c",
   "metadata": {},
   "outputs": [],
   "source": [
    "clf = pipeline(task=\"text-classification\", model=\"./results/finetuned_model\", device=0)"
   ]
  },
  {
   "cell_type": "code",
   "execution_count": 97,
   "id": "78e22f82-d299-4ff3-8de7-a8da693d88a0",
   "metadata": {},
   "outputs": [
    {
     "data": {
      "text/plain": [
       "[{'label': 'negative', 'score': 0.9996662139892578},\n",
       " {'label': 'negative', 'score': 0.9998437166213989},\n",
       " {'label': 'positive', 'score': 0.9964599013328552},\n",
       " {'label': 'positive', 'score': 0.9999748468399048},\n",
       " {'label': 'positive', 'score': 0.9999774694442749},\n",
       " {'label': 'positive', 'score': 0.9999819993972778},\n",
       " {'label': 'negative', 'score': 0.9991306662559509},\n",
       " {'label': 'positive', 'score': 0.9999715089797974},\n",
       " {'label': 'negative', 'score': 0.9991692304611206},\n",
       " {'label': 'negative', 'score': 0.9998565912246704},\n",
       " {'label': 'negative', 'score': 0.9995132684707642},\n",
       " {'label': 'positive', 'score': 0.9993029832839966},\n",
       " {'label': 'positive', 'score': 0.99802565574646},\n",
       " {'label': 'positive', 'score': 0.9999134540557861},\n",
       " {'label': 'positive', 'score': 0.9999322891235352},\n",
       " {'label': 'positive', 'score': 0.999873161315918},\n",
       " {'label': 'positive', 'score': 0.9999581575393677},\n",
       " {'label': 'positive', 'score': 0.9999799728393555},\n",
       " {'label': 'positive', 'score': 0.9995744824409485},\n",
       " {'label': 'negative', 'score': 0.9997316002845764},\n",
       " {'label': 'negative', 'score': 0.9998301267623901},\n",
       " {'label': 'positive', 'score': 0.9999778270721436},\n",
       " {'label': 'negative', 'score': 0.9990723133087158},\n",
       " {'label': 'positive', 'score': 0.99997878074646},\n",
       " {'label': 'negative', 'score': 0.9997172951698303},\n",
       " {'label': 'negative', 'score': 0.9993851184844971},\n",
       " {'label': 'negative', 'score': 0.59697026014328},\n",
       " {'label': 'negative', 'score': 0.9996576309204102},\n",
       " {'label': 'positive', 'score': 0.9999632835388184},\n",
       " {'label': 'positive', 'score': 0.9982811212539673},\n",
       " {'label': 'positive', 'score': 0.9999504089355469},\n",
       " {'label': 'negative', 'score': 0.9774994254112244},\n",
       " {'label': 'negative', 'score': 0.9997991919517517},\n",
       " {'label': 'positive', 'score': 0.9999396800994873},\n",
       " {'label': 'negative', 'score': 0.9998144507408142},\n",
       " {'label': 'positive', 'score': 0.999980092048645},\n",
       " {'label': 'negative', 'score': 0.9998548030853271},\n",
       " {'label': 'negative', 'score': 0.9998179078102112},\n",
       " {'label': 'negative', 'score': 0.9998488426208496},\n",
       " {'label': 'negative', 'score': 0.9996262788772583},\n",
       " {'label': 'positive', 'score': 0.9999481439590454},\n",
       " {'label': 'negative', 'score': 0.9966950416564941},\n",
       " {'label': 'positive', 'score': 0.9999816417694092},\n",
       " {'label': 'positive', 'score': 0.9999803304672241},\n",
       " {'label': 'negative', 'score': 0.9997941851615906},\n",
       " {'label': 'positive', 'score': 0.9996981620788574},\n",
       " {'label': 'negative', 'score': 0.9743256568908691},\n",
       " {'label': 'negative', 'score': 0.9855212569236755},\n",
       " {'label': 'negative', 'score': 0.9998587369918823},\n",
       " {'label': 'negative', 'score': 0.9990372657775879},\n",
       " {'label': 'negative', 'score': 0.9957874417304993},\n",
       " {'label': 'positive', 'score': 0.9997525811195374},\n",
       " {'label': 'negative', 'score': 0.9997277855873108},\n",
       " {'label': 'positive', 'score': 0.7380924820899963},\n",
       " {'label': 'positive', 'score': 0.9999817609786987},\n",
       " {'label': 'negative', 'score': 0.9962448477745056},\n",
       " {'label': 'negative', 'score': 0.9994807839393616},\n",
       " {'label': 'negative', 'score': 0.9988834261894226},\n",
       " {'label': 'negative', 'score': 0.9997485280036926},\n",
       " {'label': 'positive', 'score': 0.9989388585090637},\n",
       " {'label': 'positive', 'score': 0.998474657535553},\n",
       " {'label': 'negative', 'score': 0.9996373653411865},\n",
       " {'label': 'positive', 'score': 0.8706431984901428},\n",
       " {'label': 'positive', 'score': 0.9999814033508301},\n",
       " {'label': 'positive', 'score': 0.9999758005142212},\n",
       " {'label': 'positive', 'score': 0.9999755620956421},\n",
       " {'label': 'negative', 'score': 0.9448708891868591},\n",
       " {'label': 'negative', 'score': 0.9993762373924255},\n",
       " {'label': 'negative', 'score': 0.999841570854187},\n",
       " {'label': 'negative', 'score': 0.9997497200965881},\n",
       " {'label': 'negative', 'score': 0.9939239621162415},\n",
       " {'label': 'positive', 'score': 0.9999815225601196},\n",
       " {'label': 'positive', 'score': 0.9999738931655884},\n",
       " {'label': 'positive', 'score': 0.9999793767929077},\n",
       " {'label': 'negative', 'score': 0.9998146891593933},\n",
       " {'label': 'negative', 'score': 0.9997287392616272},\n",
       " {'label': 'negative', 'score': 0.9998164772987366},\n",
       " {'label': 'positive', 'score': 0.9999783039093018},\n",
       " {'label': 'negative', 'score': 0.9996953010559082},\n",
       " {'label': 'positive', 'score': 0.9999815225601196},\n",
       " {'label': 'negative', 'score': 0.9997945427894592},\n",
       " {'label': 'positive', 'score': 0.9999759197235107},\n",
       " {'label': 'positive', 'score': 0.9953675270080566},\n",
       " {'label': 'positive', 'score': 0.9999783039093018},\n",
       " {'label': 'positive', 'score': 0.9999608993530273},\n",
       " {'label': 'positive', 'score': 0.9989884495735168},\n",
       " {'label': 'negative', 'score': 0.9990664124488831},\n",
       " {'label': 'negative', 'score': 0.8773571252822876},\n",
       " {'label': 'negative', 'score': 0.9997929930686951},\n",
       " {'label': 'negative', 'score': 0.9971776008605957},\n",
       " {'label': 'positive', 'score': 0.9999767541885376},\n",
       " {'label': 'positive', 'score': 0.9999804496765137},\n",
       " {'label': 'negative', 'score': 0.9998422861099243},\n",
       " {'label': 'positive', 'score': 0.9999769926071167},\n",
       " {'label': 'positive', 'score': 0.9999793767929077},\n",
       " {'label': 'positive', 'score': 0.9999806880950928},\n",
       " {'label': 'positive', 'score': 0.9999674558639526},\n",
       " {'label': 'positive', 'score': 0.999774158000946},\n",
       " {'label': 'negative', 'score': 0.9985585808753967},\n",
       " {'label': 'negative', 'score': 0.9994175434112549},\n",
       " {'label': 'negative', 'score': 0.9995872378349304},\n",
       " {'label': 'negative', 'score': 0.9998811483383179},\n",
       " {'label': 'negative', 'score': 0.999861478805542},\n",
       " {'label': 'positive', 'score': 0.9994956254959106},\n",
       " {'label': 'positive', 'score': 0.9999790191650391},\n",
       " {'label': 'negative', 'score': 0.999830961227417},\n",
       " {'label': 'positive', 'score': 0.9999608993530273},\n",
       " {'label': 'negative', 'score': 0.9643075466156006},\n",
       " {'label': 'positive', 'score': 0.999363362789154},\n",
       " {'label': 'negative', 'score': 0.9989926218986511},\n",
       " {'label': 'negative', 'score': 0.9995075464248657},\n",
       " {'label': 'positive', 'score': 0.999941349029541},\n",
       " {'label': 'negative', 'score': 0.7775958776473999},\n",
       " {'label': 'positive', 'score': 0.99994957447052},\n",
       " {'label': 'positive', 'score': 0.9993187189102173},\n",
       " {'label': 'positive', 'score': 0.9999682903289795},\n",
       " {'label': 'positive', 'score': 0.999957799911499},\n",
       " {'label': 'negative', 'score': 0.9996960163116455},\n",
       " {'label': 'negative', 'score': 0.9985783100128174},\n",
       " {'label': 'positive', 'score': 0.9998596906661987},\n",
       " {'label': 'positive', 'score': 0.9999651908874512},\n",
       " {'label': 'negative', 'score': 0.9994021654129028},\n",
       " {'label': 'positive', 'score': 0.9999587535858154},\n",
       " {'label': 'negative', 'score': 0.9983420372009277},\n",
       " {'label': 'positive', 'score': 0.9999724626541138},\n",
       " {'label': 'positive', 'score': 0.9999747276306152},\n",
       " {'label': 'positive', 'score': 0.9999537467956543},\n",
       " {'label': 'negative', 'score': 0.9997082352638245},\n",
       " {'label': 'negative', 'score': 0.9998419284820557},\n",
       " {'label': 'positive', 'score': 0.9997952580451965},\n",
       " {'label': 'positive', 'score': 0.999972939491272},\n",
       " {'label': 'negative', 'score': 0.9996417760848999},\n",
       " {'label': 'positive', 'score': 0.9997130036354065},\n",
       " {'label': 'positive', 'score': 0.9999794960021973},\n",
       " {'label': 'negative', 'score': 0.9998575448989868},\n",
       " {'label': 'positive', 'score': 0.9999368190765381},\n",
       " {'label': 'positive', 'score': 0.999980092048645},\n",
       " {'label': 'positive', 'score': 0.9999810457229614},\n",
       " {'label': 'positive', 'score': 0.9999790191650391},\n",
       " {'label': 'positive', 'score': 0.999948263168335},\n",
       " {'label': 'positive', 'score': 0.9999581575393677},\n",
       " {'label': 'positive', 'score': 0.9999797344207764},\n",
       " {'label': 'negative', 'score': 0.9980849027633667},\n",
       " {'label': 'positive', 'score': 0.9999754428863525},\n",
       " {'label': 'positive', 'score': 0.9999809265136719},\n",
       " {'label': 'positive', 'score': 0.9999417066574097},\n",
       " {'label': 'negative', 'score': 0.9967543482780457},\n",
       " {'label': 'negative', 'score': 0.9996644258499146},\n",
       " {'label': 'negative', 'score': 0.9227487444877625},\n",
       " {'label': 'negative', 'score': 0.9106892347335815},\n",
       " {'label': 'positive', 'score': 0.9999794960021973},\n",
       " {'label': 'negative', 'score': 0.9995967745780945},\n",
       " {'label': 'positive', 'score': 0.9994718432426453},\n",
       " {'label': 'negative', 'score': 0.9994184970855713},\n",
       " {'label': 'negative', 'score': 0.9997968077659607},\n",
       " {'label': 'positive', 'score': 0.99997878074646},\n",
       " {'label': 'positive', 'score': 0.9999668598175049},\n",
       " {'label': 'positive', 'score': 0.9999808073043823},\n",
       " {'label': 'positive', 'score': 0.9996803998947144},\n",
       " {'label': 'positive', 'score': 0.999980092048645},\n",
       " {'label': 'positive', 'score': 0.9999535083770752},\n",
       " {'label': 'positive', 'score': 0.9983591437339783},\n",
       " {'label': 'negative', 'score': 0.9996292591094971},\n",
       " {'label': 'negative', 'score': 0.9998276233673096},\n",
       " {'label': 'negative', 'score': 0.998898983001709},\n",
       " {'label': 'negative', 'score': 0.9997932314872742},\n",
       " {'label': 'negative', 'score': 0.9990552067756653},\n",
       " {'label': 'positive', 'score': 0.9999387264251709},\n",
       " {'label': 'positive', 'score': 0.999980092048645},\n",
       " {'label': 'positive', 'score': 0.9999762773513794},\n",
       " {'label': 'positive', 'score': 0.9999682903289795},\n",
       " {'label': 'positive', 'score': 0.999976634979248},\n",
       " {'label': 'negative', 'score': 0.9996160268783569},\n",
       " {'label': 'negative', 'score': 0.9997710585594177},\n",
       " {'label': 'negative', 'score': 0.9994675517082214},\n",
       " {'label': 'negative', 'score': 0.9998112320899963},\n",
       " {'label': 'positive', 'score': 0.9999150037765503},\n",
       " {'label': 'negative', 'score': 0.9997544884681702},\n",
       " {'label': 'positive', 'score': 0.999976396560669},\n",
       " {'label': 'positive', 'score': 0.9999607801437378},\n",
       " {'label': 'positive', 'score': 0.9999381303787231},\n",
       " {'label': 'negative', 'score': 0.9996901750564575},\n",
       " {'label': 'positive', 'score': 0.9973043203353882},\n",
       " {'label': 'positive', 'score': 0.999957799911499},\n",
       " {'label': 'negative', 'score': 0.999744713306427},\n",
       " {'label': 'positive', 'score': 0.9999188184738159},\n",
       " {'label': 'positive', 'score': 0.99996018409729},\n",
       " {'label': 'positive', 'score': 0.9999576807022095},\n",
       " {'label': 'positive', 'score': 0.9903780221939087},\n",
       " {'label': 'positive', 'score': 0.9999803304672241},\n",
       " {'label': 'positive', 'score': 0.9995019435882568},\n",
       " {'label': 'negative', 'score': 0.9998354911804199},\n",
       " {'label': 'positive', 'score': 0.9959707856178284},\n",
       " {'label': 'positive', 'score': 0.997177243232727},\n",
       " {'label': 'negative', 'score': 0.9993120431900024},\n",
       " {'label': 'positive', 'score': 0.914132297039032},\n",
       " {'label': 'positive', 'score': 0.9999796152114868},\n",
       " {'label': 'positive', 'score': 0.9999790191650391},\n",
       " {'label': 'positive', 'score': 0.9999815225601196},\n",
       " {'label': 'negative', 'score': 0.9990949630737305},\n",
       " {'label': 'negative', 'score': 0.9998650550842285},\n",
       " {'label': 'negative', 'score': 0.9997398257255554},\n",
       " {'label': 'positive', 'score': 0.9766271710395813},\n",
       " {'label': 'negative', 'score': 0.9998672008514404},\n",
       " {'label': 'positive', 'score': 0.9999724626541138},\n",
       " {'label': 'positive', 'score': 0.9998071789741516},\n",
       " {'label': 'positive', 'score': 0.999976396560669},\n",
       " {'label': 'positive', 'score': 0.999897837638855},\n",
       " {'label': 'negative', 'score': 0.9998196959495544},\n",
       " {'label': 'negative', 'score': 0.9866254329681396},\n",
       " {'label': 'positive', 'score': 0.9999494552612305},\n",
       " {'label': 'positive', 'score': 0.9999812841415405},\n",
       " {'label': 'positive', 'score': 0.9999808073043823},\n",
       " {'label': 'negative', 'score': 0.9997336268424988},\n",
       " {'label': 'positive', 'score': 0.9999655485153198},\n",
       " {'label': 'positive', 'score': 0.999980092048645},\n",
       " {'label': 'positive', 'score': 0.9999703168869019},\n",
       " {'label': 'negative', 'score': 0.9997932314872742},\n",
       " {'label': 'positive', 'score': 0.999976634979248},\n",
       " {'label': 'positive', 'score': 0.9998828172683716},\n",
       " {'label': 'negative', 'score': 0.9955242872238159},\n",
       " {'label': 'positive', 'score': 0.999975323677063},\n",
       " {'label': 'positive', 'score': 0.99997878074646},\n",
       " {'label': 'negative', 'score': 0.9954657554626465},\n",
       " {'label': 'negative', 'score': 0.9998373985290527},\n",
       " {'label': 'positive', 'score': 0.9999078512191772},\n",
       " {'label': 'negative', 'score': 0.9932189583778381},\n",
       " {'label': 'positive', 'score': 0.9999690055847168},\n",
       " {'label': 'positive', 'score': 0.999980092048645},\n",
       " {'label': 'positive', 'score': 0.9999752044677734},\n",
       " {'label': 'negative', 'score': 0.9982686042785645},\n",
       " {'label': 'negative', 'score': 0.9998278617858887},\n",
       " {'label': 'negative', 'score': 0.9998533725738525},\n",
       " {'label': 'negative', 'score': 0.9990400671958923},\n",
       " {'label': 'negative', 'score': 0.9998295307159424},\n",
       " {'label': 'negative', 'score': 0.9995125532150269},\n",
       " {'label': 'negative', 'score': 0.8297929763793945},\n",
       " {'label': 'negative', 'score': 0.999701201915741},\n",
       " {'label': 'negative', 'score': 0.9997625946998596},\n",
       " {'label': 'positive', 'score': 0.9997914433479309},\n",
       " {'label': 'negative', 'score': 0.9997183680534363},\n",
       " {'label': 'negative', 'score': 0.9997252821922302},\n",
       " {'label': 'positive', 'score': 0.9999816417694092},\n",
       " {'label': 'positive', 'score': 0.9981259703636169},\n",
       " {'label': 'positive', 'score': 0.999958872795105},\n",
       " {'label': 'negative', 'score': 0.9990925788879395},\n",
       " {'label': 'negative', 'score': 0.9997755885124207},\n",
       " {'label': 'negative', 'score': 0.9957219362258911},\n",
       " {'label': 'negative', 'score': 0.99983811378479},\n",
       " {'label': 'positive', 'score': 0.9999557733535767},\n",
       " {'label': 'negative', 'score': 0.9995831847190857},\n",
       " {'label': 'negative', 'score': 0.9998366832733154},\n",
       " {'label': 'positive', 'score': 0.9999805688858032},\n",
       " {'label': 'negative', 'score': 0.999818742275238},\n",
       " {'label': 'positive', 'score': 0.9883946180343628},\n",
       " {'label': 'positive', 'score': 0.9998699426651001},\n",
       " {'label': 'negative', 'score': 0.9996881484985352},\n",
       " {'label': 'negative', 'score': 0.9914031624794006},\n",
       " {'label': 'negative', 'score': 0.9986868500709534},\n",
       " {'label': 'negative', 'score': 0.9980301260948181},\n",
       " {'label': 'negative', 'score': 0.9990056157112122},\n",
       " {'label': 'negative', 'score': 0.9998683929443359},\n",
       " {'label': 'negative', 'score': 0.9785957336425781},\n",
       " {'label': 'negative', 'score': 0.9986892342567444},\n",
       " {'label': 'positive', 'score': 0.9999799728393555},\n",
       " {'label': 'positive', 'score': 0.9999258518218994},\n",
       " {'label': 'positive', 'score': 0.9875640273094177},\n",
       " {'label': 'positive', 'score': 0.9999772310256958},\n",
       " {'label': 'positive', 'score': 0.9999436140060425},\n",
       " {'label': 'negative', 'score': 0.9998086094856262},\n",
       " {'label': 'negative', 'score': 0.9998464584350586},\n",
       " {'label': 'negative', 'score': 0.9448371529579163},\n",
       " {'label': 'positive', 'score': 0.9998372793197632},\n",
       " {'label': 'positive', 'score': 0.9999774694442749},\n",
       " {'label': 'positive', 'score': 0.9852597713470459},\n",
       " {'label': 'positive', 'score': 0.9999775886535645},\n",
       " {'label': 'negative', 'score': 0.9998013377189636},\n",
       " {'label': 'negative', 'score': 0.9998575448989868},\n",
       " {'label': 'positive', 'score': 0.9915973544120789},\n",
       " {'label': 'positive', 'score': 0.9999816417694092},\n",
       " {'label': 'positive', 'score': 0.9997542500495911},\n",
       " {'label': 'positive', 'score': 0.9999561309814453},\n",
       " {'label': 'negative', 'score': 0.9995589852333069},\n",
       " {'label': 'negative', 'score': 0.9136891961097717},\n",
       " {'label': 'positive', 'score': 0.997073769569397},\n",
       " {'label': 'positive', 'score': 0.9999817609786987},\n",
       " {'label': 'positive', 'score': 0.9999809265136719},\n",
       " {'label': 'positive', 'score': 0.9997689127922058},\n",
       " {'label': 'positive', 'score': 0.999936580657959},\n",
       " {'label': 'positive', 'score': 0.9999604225158691},\n",
       " {'label': 'positive', 'score': 0.9986597299575806},\n",
       " {'label': 'positive', 'score': 0.9999803304672241},\n",
       " {'label': 'negative', 'score': 0.9998512268066406},\n",
       " {'label': 'positive', 'score': 0.9999120235443115},\n",
       " {'label': 'negative', 'score': 0.9998264908790588},\n",
       " {'label': 'positive', 'score': 0.9999799728393555},\n",
       " {'label': 'negative', 'score': 0.9993597865104675},\n",
       " {'label': 'negative', 'score': 0.9996320009231567},\n",
       " {'label': 'positive', 'score': 0.9999827146530151},\n",
       " {'label': 'positive', 'score': 0.9999814033508301},\n",
       " {'label': 'negative', 'score': 0.9996296167373657},\n",
       " {'label': 'positive', 'score': 0.9999756813049316},\n",
       " {'label': 'positive', 'score': 0.9999507665634155},\n",
       " {'label': 'positive', 'score': 0.9999796152114868},\n",
       " {'label': 'negative', 'score': 0.5457091331481934},\n",
       " {'label': 'positive', 'score': 0.9998464584350586},\n",
       " {'label': 'negative', 'score': 0.99985671043396},\n",
       " {'label': 'positive', 'score': 0.9999661445617676},\n",
       " {'label': 'positive', 'score': 0.9998772144317627},\n",
       " {'label': 'positive', 'score': 0.9999594688415527},\n",
       " {'label': 'negative', 'score': 0.9994680285453796},\n",
       " {'label': 'positive', 'score': 0.9991803765296936},\n",
       " {'label': 'positive', 'score': 0.9999700784683228},\n",
       " {'label': 'negative', 'score': 0.9982794523239136},\n",
       " {'label': 'negative', 'score': 0.9998278617858887},\n",
       " {'label': 'positive', 'score': 0.9998440742492676},\n",
       " {'label': 'positive', 'score': 0.9999773502349854},\n",
       " {'label': 'positive', 'score': 0.9999791383743286},\n",
       " {'label': 'positive', 'score': 0.999761164188385},\n",
       " {'label': 'negative', 'score': 0.9997606873512268},\n",
       " {'label': 'negative', 'score': 0.999187171459198},\n",
       " {'label': 'negative', 'score': 0.999854564666748},\n",
       " {'label': 'negative', 'score': 0.9998216032981873},\n",
       " {'label': 'negative', 'score': 0.9926983714103699},\n",
       " {'label': 'positive', 'score': 0.9999716281890869},\n",
       " {'label': 'positive', 'score': 0.9999582767486572},\n",
       " {'label': 'negative', 'score': 0.9971840977668762},\n",
       " {'label': 'positive', 'score': 0.9999212026596069},\n",
       " {'label': 'positive', 'score': 0.9999350309371948},\n",
       " {'label': 'positive', 'score': 0.9999819993972778},\n",
       " {'label': 'positive', 'score': 0.9999788999557495},\n",
       " {'label': 'positive', 'score': 0.9999514818191528},\n",
       " {'label': 'positive', 'score': 0.9872840642929077},\n",
       " {'label': 'positive', 'score': 0.792276918888092},\n",
       " {'label': 'negative', 'score': 0.9995445609092712},\n",
       " {'label': 'positive', 'score': 0.9982594847679138},\n",
       " {'label': 'negative', 'score': 0.9986411929130554},\n",
       " {'label': 'positive', 'score': 0.9999551773071289},\n",
       " {'label': 'positive', 'score': 0.9999808073043823},\n",
       " {'label': 'negative', 'score': 0.9997820258140564},\n",
       " {'label': 'positive', 'score': 0.9998506307601929},\n",
       " {'label': 'negative', 'score': 0.9998412132263184},\n",
       " {'label': 'negative', 'score': 0.9992056488990784},\n",
       " {'label': 'positive', 'score': 0.9999707937240601},\n",
       " {'label': 'negative', 'score': 0.9995718598365784},\n",
       " {'label': 'negative', 'score': 0.9997356534004211},\n",
       " {'label': 'positive', 'score': 0.9999750852584839},\n",
       " {'label': 'positive', 'score': 0.9998332262039185},\n",
       " {'label': 'positive', 'score': 0.9995286464691162},\n",
       " {'label': 'negative', 'score': 0.9995618462562561},\n",
       " {'label': 'positive', 'score': 0.9996956586837769},\n",
       " {'label': 'negative', 'score': 0.9996774196624756},\n",
       " {'label': 'positive', 'score': 0.9991662502288818},\n",
       " {'label': 'negative', 'score': 0.9906373620033264},\n",
       " {'label': 'positive', 'score': 0.9994984865188599},\n",
       " {'label': 'positive', 'score': 0.9999792575836182},\n",
       " {'label': 'positive', 'score': 0.999974250793457},\n",
       " {'label': 'positive', 'score': 0.9955226182937622},\n",
       " {'label': 'positive', 'score': 0.872990071773529},\n",
       " {'label': 'negative', 'score': 0.9992166757583618},\n",
       " {'label': 'positive', 'score': 0.9999678134918213},\n",
       " {'label': 'positive', 'score': 0.9997797608375549},\n",
       " {'label': 'negative', 'score': 0.6887935996055603},\n",
       " {'label': 'negative', 'score': 0.945763885974884},\n",
       " {'label': 'positive', 'score': 0.9999768733978271},\n",
       " {'label': 'negative', 'score': 0.9998169541358948},\n",
       " {'label': 'positive', 'score': 0.9998764991760254},\n",
       " {'label': 'positive', 'score': 0.9964812994003296},\n",
       " {'label': 'positive', 'score': 0.9999597072601318},\n",
       " {'label': 'negative', 'score': 0.9998093247413635},\n",
       " {'label': 'negative', 'score': 0.9997921586036682},\n",
       " {'label': 'negative', 'score': 0.9997979998588562},\n",
       " {'label': 'negative', 'score': 0.9957363605499268},\n",
       " {'label': 'positive', 'score': 0.999981164932251},\n",
       " {'label': 'negative', 'score': 0.9998284578323364},\n",
       " {'label': 'negative', 'score': 0.9961936473846436},\n",
       " {'label': 'positive', 'score': 0.999975323677063},\n",
       " {'label': 'positive', 'score': 0.9933694005012512},\n",
       " {'label': 'negative', 'score': 0.9996240139007568},\n",
       " {'label': 'positive', 'score': 0.999981164932251},\n",
       " {'label': 'negative', 'score': 0.9997275471687317},\n",
       " {'label': 'negative', 'score': 0.9998459815979004},\n",
       " {'label': 'negative', 'score': 0.9997143149375916},\n",
       " {'label': 'positive', 'score': 0.9997078776359558},\n",
       " {'label': 'positive', 'score': 0.999954104423523},\n",
       " {'label': 'negative', 'score': 0.999806821346283},\n",
       " {'label': 'positive', 'score': 0.9999512434005737},\n",
       " {'label': 'negative', 'score': 0.9998763799667358},\n",
       " {'label': 'positive', 'score': 0.9997289776802063},\n",
       " {'label': 'negative', 'score': 0.9867494702339172},\n",
       " {'label': 'positive', 'score': 0.9995236396789551},\n",
       " {'label': 'positive', 'score': 0.992587149143219},\n",
       " {'label': 'positive', 'score': 0.9999622106552124},\n",
       " {'label': 'positive', 'score': 0.9999511241912842},\n",
       " {'label': 'positive', 'score': 0.9999818801879883},\n",
       " {'label': 'negative', 'score': 0.9991210103034973},\n",
       " {'label': 'negative', 'score': 0.9998173117637634},\n",
       " {'label': 'negative', 'score': 0.9997227787971497},\n",
       " {'label': 'negative', 'score': 0.9997261166572571},\n",
       " {'label': 'negative', 'score': 0.999812662601471},\n",
       " {'label': 'positive', 'score': 0.9996078610420227},\n",
       " {'label': 'positive', 'score': 0.9999765157699585},\n",
       " {'label': 'positive', 'score': 0.9999415874481201},\n",
       " {'label': 'positive', 'score': 0.9999809265136719},\n",
       " {'label': 'negative', 'score': 0.9992526173591614},\n",
       " {'label': 'positive', 'score': 0.9990845918655396},\n",
       " {'label': 'positive', 'score': 0.9999812841415405},\n",
       " {'label': 'positive', 'score': 0.9999706745147705},\n",
       " {'label': 'negative', 'score': 0.9986472725868225},\n",
       " {'label': 'negative', 'score': 0.9833642244338989},\n",
       " {'label': 'negative', 'score': 0.9930577278137207},\n",
       " {'label': 'negative', 'score': 0.9988728165626526},\n",
       " {'label': 'negative', 'score': 0.9987363219261169},\n",
       " {'label': 'positive', 'score': 0.9999790191650391},\n",
       " {'label': 'negative', 'score': 0.9997581839561462},\n",
       " {'label': 'negative', 'score': 0.9998650550842285},\n",
       " {'label': 'positive', 'score': 0.9999651908874512},\n",
       " {'label': 'positive', 'score': 0.9999109506607056},\n",
       " {'label': 'positive', 'score': 0.9999352693557739},\n",
       " {'label': 'positive', 'score': 0.9999830722808838},\n",
       " {'label': 'negative', 'score': 0.9995706677436829},\n",
       " {'label': 'positive', 'score': 0.9980085492134094},\n",
       " {'label': 'positive', 'score': 0.9999754428863525},\n",
       " {'label': 'negative', 'score': 0.9997827410697937},\n",
       " {'label': 'negative', 'score': 0.9997053742408752},\n",
       " {'label': 'negative', 'score': 0.9996718168258667},\n",
       " {'label': 'positive', 'score': 0.9999814033508301},\n",
       " {'label': 'positive', 'score': 0.9999347925186157},\n",
       " {'label': 'positive', 'score': 0.9999574422836304},\n",
       " {'label': 'positive', 'score': 0.9949504137039185},\n",
       " {'label': 'negative', 'score': 0.999698281288147},\n",
       " {'label': 'positive', 'score': 0.9999788999557495},\n",
       " {'label': 'negative', 'score': 0.999772846698761},\n",
       " {'label': 'negative', 'score': 0.9998347759246826},\n",
       " {'label': 'positive', 'score': 0.9999706745147705},\n",
       " {'label': 'negative', 'score': 0.9989842772483826},\n",
       " {'label': 'negative', 'score': 0.9998655319213867},\n",
       " {'label': 'negative', 'score': 0.9977941513061523},\n",
       " {'label': 'negative', 'score': 0.9996664524078369},\n",
       " {'label': 'negative', 'score': 0.9983505010604858},\n",
       " {'label': 'negative', 'score': 0.6858231425285339},\n",
       " {'label': 'positive', 'score': 0.9999288320541382},\n",
       " {'label': 'positive', 'score': 0.9998490810394287},\n",
       " {'label': 'negative', 'score': 0.9299620389938354},\n",
       " {'label': 'positive', 'score': 0.9999761581420898},\n",
       " {'label': 'negative', 'score': 0.9974144697189331},\n",
       " {'label': 'negative', 'score': 0.9982739686965942},\n",
       " {'label': 'negative', 'score': 0.8472654223442078},\n",
       " {'label': 'positive', 'score': 0.999941349029541},\n",
       " {'label': 'negative', 'score': 0.9660652279853821},\n",
       " {'label': 'positive', 'score': 0.999962329864502},\n",
       " {'label': 'positive', 'score': 0.9999490976333618},\n",
       " {'label': 'positive', 'score': 0.9999808073043823},\n",
       " {'label': 'negative', 'score': 0.9998296499252319},\n",
       " {'label': 'positive', 'score': 0.999976396560669},\n",
       " {'label': 'negative', 'score': 0.9988235831260681},\n",
       " {'label': 'positive', 'score': 0.9746270179748535},\n",
       " {'label': 'negative', 'score': 0.999672532081604},\n",
       " {'label': 'positive', 'score': 0.999946117401123},\n",
       " {'label': 'negative', 'score': 0.8833906650543213},\n",
       " {'label': 'negative', 'score': 0.999683141708374},\n",
       " {'label': 'positive', 'score': 0.9999791383743286},\n",
       " {'label': 'negative', 'score': 0.9919231534004211},\n",
       " {'label': 'negative', 'score': 0.9850495457649231},\n",
       " {'label': 'positive', 'score': 0.9999767541885376},\n",
       " {'label': 'negative', 'score': 0.9996598958969116},\n",
       " {'label': 'negative', 'score': 0.9986973404884338},\n",
       " {'label': 'positive', 'score': 0.999340832233429},\n",
       " {'label': 'negative', 'score': 0.9968223571777344},\n",
       " {'label': 'positive', 'score': 0.9998732805252075},\n",
       " {'label': 'positive', 'score': 0.9999783039093018},\n",
       " {'label': 'negative', 'score': 0.9941819310188293},\n",
       " {'label': 'negative', 'score': 0.9966155886650085},\n",
       " {'label': 'positive', 'score': 0.9999730587005615},\n",
       " {'label': 'positive', 'score': 0.9997854828834534},\n",
       " {'label': 'negative', 'score': 0.9997707009315491},\n",
       " {'label': 'negative', 'score': 0.9992818236351013},\n",
       " {'label': 'positive', 'score': 0.9999781847000122},\n",
       " {'label': 'negative', 'score': 0.9995952248573303},\n",
       " {'label': 'positive', 'score': 0.9999568462371826},\n",
       " {'label': 'positive', 'score': 0.9999693632125854},\n",
       " {'label': 'negative', 'score': 0.7011857032775879},\n",
       " {'label': 'negative', 'score': 0.9997158646583557},\n",
       " {'label': 'positive', 'score': 0.9999773502349854},\n",
       " {'label': 'negative', 'score': 0.9995610117912292},\n",
       " {'label': 'negative', 'score': 0.9998674392700195},\n",
       " {'label': 'negative', 'score': 0.9997547268867493},\n",
       " {'label': 'negative', 'score': 0.9815395474433899},\n",
       " {'label': 'positive', 'score': 0.703281581401825},\n",
       " {'label': 'positive', 'score': 0.9999707937240601},\n",
       " {'label': 'positive', 'score': 0.9999141693115234},\n",
       " {'label': 'positive', 'score': 0.9999823570251465},\n",
       " {'label': 'negative', 'score': 0.9998304843902588},\n",
       " {'label': 'positive', 'score': 0.9999810457229614},\n",
       " {'label': 'positive', 'score': 0.9930477738380432},\n",
       " {'label': 'positive', 'score': 0.999966025352478},\n",
       " {'label': 'negative', 'score': 0.9995342493057251},\n",
       " {'label': 'positive', 'score': 0.9997984766960144},\n",
       " {'label': 'positive', 'score': 0.9999761581420898},\n",
       " {'label': 'negative', 'score': 0.9996457099914551},\n",
       " {'label': 'negative', 'score': 0.9985347986221313},\n",
       " {'label': 'negative', 'score': 0.9992464780807495},\n",
       " {'label': 'positive', 'score': 0.9936569333076477},\n",
       " {'label': 'negative', 'score': 0.999765932559967},\n",
       " {'label': 'positive', 'score': 0.9999781847000122},\n",
       " {'label': 'negative', 'score': 0.9947562217712402},\n",
       " {'label': 'positive', 'score': 0.9999691247940063},\n",
       " {'label': 'positive', 'score': 0.9998525381088257},\n",
       " {'label': 'positive', 'score': 0.999944806098938},\n",
       " {'label': 'negative', 'score': 0.999698281288147},\n",
       " {'label': 'negative', 'score': 0.9997605681419373},\n",
       " {'label': 'negative', 'score': 0.999810516834259},\n",
       " {'label': 'negative', 'score': 0.9998739957809448},\n",
       " {'label': 'negative', 'score': 0.9997666478157043},\n",
       " {'label': 'negative', 'score': 0.9970659613609314},\n",
       " {'label': 'positive', 'score': 0.9999750852584839},\n",
       " {'label': 'positive', 'score': 0.9999736547470093},\n",
       " {'label': 'positive', 'score': 0.99997878074646},\n",
       " {'label': 'positive', 'score': 0.9991905093193054},\n",
       " {'label': 'negative', 'score': 0.9998137354850769},\n",
       " {'label': 'negative', 'score': 0.9993556141853333},\n",
       " {'label': 'positive', 'score': 0.9999773502349854},\n",
       " {'label': 'negative', 'score': 0.9996956586837769},\n",
       " {'label': 'negative', 'score': 0.9970046877861023},\n",
       " {'label': 'negative', 'score': 0.9965665340423584},\n",
       " {'label': 'positive', 'score': 0.9999812841415405},\n",
       " {'label': 'negative', 'score': 0.9997944235801697},\n",
       " {'label': 'positive', 'score': 0.9993120431900024},\n",
       " {'label': 'negative', 'score': 0.9997431635856628},\n",
       " {'label': 'positive', 'score': 0.99997878074646},\n",
       " {'label': 'negative', 'score': 0.99886155128479},\n",
       " {'label': 'negative', 'score': 0.9997294545173645},\n",
       " {'label': 'negative', 'score': 0.9998769760131836},\n",
       " {'label': 'positive', 'score': 0.9985495209693909},\n",
       " {'label': 'positive', 'score': 0.9206177592277527},\n",
       " {'label': 'positive', 'score': 0.9996596574783325},\n",
       " {'label': 'positive', 'score': 0.9996368885040283},\n",
       " {'label': 'negative', 'score': 0.9831021428108215},\n",
       " {'label': 'negative', 'score': 0.9885169267654419},\n",
       " {'label': 'positive', 'score': 0.9998024106025696},\n",
       " {'label': 'positive', 'score': 0.9999505281448364},\n",
       " {'label': 'positive', 'score': 0.9952310919761658},\n",
       " {'label': 'positive', 'score': 0.9999822378158569},\n",
       " {'label': 'positive', 'score': 0.9999293088912964},\n",
       " {'label': 'negative', 'score': 0.9998103976249695},\n",
       " {'label': 'positive', 'score': 0.9779948592185974},\n",
       " {'label': 'positive', 'score': 0.9964616894721985},\n",
       " {'label': 'negative', 'score': 0.9994179010391235},\n",
       " {'label': 'positive', 'score': 0.9999129772186279},\n",
       " {'label': 'negative', 'score': 0.9996906518936157},\n",
       " {'label': 'negative', 'score': 0.9998313188552856},\n",
       " {'label': 'negative', 'score': 0.9997947812080383},\n",
       " {'label': 'negative', 'score': 0.9988190531730652},\n",
       " {'label': 'positive', 'score': 0.9999698400497437},\n",
       " {'label': 'positive', 'score': 0.9991884827613831},\n",
       " {'label': 'positive', 'score': 0.9995600581169128},\n",
       " {'label': 'negative', 'score': 0.9997040629386902},\n",
       " {'label': 'positive', 'score': 0.9996299743652344},\n",
       " {'label': 'negative', 'score': 0.9986473917961121},\n",
       " {'label': 'negative', 'score': 0.9997836947441101},\n",
       " {'label': 'positive', 'score': 0.9999024868011475},\n",
       " {'label': 'negative', 'score': 0.999854564666748},\n",
       " {'label': 'positive', 'score': 0.9957665205001831},\n",
       " {'label': 'negative', 'score': 0.9993255138397217},\n",
       " {'label': 'negative', 'score': 0.9987103939056396},\n",
       " {'label': 'negative', 'score': 0.9997634291648865},\n",
       " {'label': 'negative', 'score': 0.6892348527908325},\n",
       " {'label': 'positive', 'score': 0.9999814033508301},\n",
       " {'label': 'positive', 'score': 0.683049201965332},\n",
       " {'label': 'positive', 'score': 0.9999797344207764},\n",
       " {'label': 'positive', 'score': 0.9855884909629822},\n",
       " {'label': 'negative', 'score': 0.9996408224105835},\n",
       " {'label': 'positive', 'score': 0.9999736547470093},\n",
       " {'label': 'positive', 'score': 0.9999536275863647},\n",
       " {'label': 'negative', 'score': 0.9994338154792786},\n",
       " {'label': 'negative', 'score': 0.9879108667373657},\n",
       " {'label': 'positive', 'score': 0.9999089241027832},\n",
       " {'label': 'negative', 'score': 0.9990066885948181},\n",
       " {'label': 'negative', 'score': 0.9998286962509155},\n",
       " {'label': 'positive', 'score': 0.9996010661125183},\n",
       " {'label': 'negative', 'score': 0.9998106360435486},\n",
       " {'label': 'positive', 'score': 0.9999769926071167},\n",
       " {'label': 'positive', 'score': 0.9999632835388184},\n",
       " {'label': 'negative', 'score': 0.6575091481208801},\n",
       " {'label': 'positive', 'score': 0.9999794960021973},\n",
       " {'label': 'positive', 'score': 0.9999797344207764},\n",
       " {'label': 'negative', 'score': 0.9994866847991943},\n",
       " {'label': 'negative', 'score': 0.9997530579566956},\n",
       " {'label': 'positive', 'score': 0.9996699094772339},\n",
       " {'label': 'negative', 'score': 0.8695918321609497},\n",
       " {'label': 'negative', 'score': 0.9744589924812317},\n",
       " {'label': 'positive', 'score': 0.9999797344207764},\n",
       " {'label': 'positive', 'score': 0.997271716594696},\n",
       " {'label': 'negative', 'score': 0.9998143315315247},\n",
       " {'label': 'negative', 'score': 0.9987443685531616},\n",
       " {'label': 'negative', 'score': 0.9995120763778687},\n",
       " {'label': 'positive', 'score': 0.9999666213989258},\n",
       " {'label': 'negative', 'score': 0.9998432397842407},\n",
       " {'label': 'positive', 'score': 0.9999598264694214},\n",
       " {'label': 'negative', 'score': 0.9994912147521973},\n",
       " {'label': 'positive', 'score': 0.9935042262077332},\n",
       " {'label': 'negative', 'score': 0.9987678527832031},\n",
       " {'label': 'positive', 'score': 0.9999552965164185},\n",
       " {'label': 'positive', 'score': 0.9993752837181091},\n",
       " {'label': 'positive', 'score': 0.9998903274536133},\n",
       " {'label': 'positive', 'score': 0.9999701976776123},\n",
       " {'label': 'negative', 'score': 0.9395646452903748},\n",
       " {'label': 'negative', 'score': 0.9998270869255066},\n",
       " {'label': 'positive', 'score': 0.9999799728393555},\n",
       " {'label': 'positive', 'score': 0.9999526739120483},\n",
       " {'label': 'positive', 'score': 0.9999682903289795},\n",
       " {'label': 'negative', 'score': 0.9994981288909912},\n",
       " {'label': 'positive', 'score': 0.9976315498352051},\n",
       " {'label': 'positive', 'score': 0.9999568462371826},\n",
       " {'label': 'positive', 'score': 0.8930578827857971},\n",
       " {'label': 'negative', 'score': 0.9983726143836975},\n",
       " {'label': 'negative', 'score': 0.9998414516448975},\n",
       " {'label': 'positive', 'score': 0.9997813105583191},\n",
       " {'label': 'negative', 'score': 0.9854447245597839},\n",
       " {'label': 'positive', 'score': 0.9999815225601196},\n",
       " {'label': 'negative', 'score': 0.9998008608818054},\n",
       " {'label': 'positive', 'score': 0.9999682903289795},\n",
       " {'label': 'positive', 'score': 0.9992579817771912},\n",
       " {'label': 'negative', 'score': 0.9996992349624634},\n",
       " {'label': 'positive', 'score': 0.9999791383743286},\n",
       " {'label': 'negative', 'score': 0.9997925162315369},\n",
       " {'label': 'positive', 'score': 0.9999525547027588},\n",
       " {'label': 'positive', 'score': 0.9998974800109863},\n",
       " {'label': 'positive', 'score': 0.9996547698974609},\n",
       " {'label': 'positive', 'score': 0.9998027682304382},\n",
       " {'label': 'negative', 'score': 0.9997487664222717},\n",
       " {'label': 'negative', 'score': 0.9993613362312317},\n",
       " {'label': 'negative', 'score': 0.999721348285675},\n",
       " {'label': 'positive', 'score': 0.9999748468399048},\n",
       " {'label': 'positive', 'score': 0.9999483823776245},\n",
       " {'label': 'negative', 'score': 0.9998319149017334},\n",
       " {'label': 'negative', 'score': 0.9990839958190918},\n",
       " {'label': 'positive', 'score': 0.9955937266349792},\n",
       " {'label': 'positive', 'score': 0.9999796152114868},\n",
       " {'label': 'positive', 'score': 0.999944806098938},\n",
       " {'label': 'negative', 'score': 0.999804675579071},\n",
       " {'label': 'positive', 'score': 0.9999716281890869},\n",
       " {'label': 'positive', 'score': 0.9999802112579346},\n",
       " {'label': 'positive', 'score': 0.9999532699584961},\n",
       " {'label': 'negative', 'score': 0.9994741082191467},\n",
       " {'label': 'negative', 'score': 0.9998636245727539},\n",
       " {'label': 'positive', 'score': 0.9999531507492065},\n",
       " {'label': 'negative', 'score': 0.9980693459510803},\n",
       " {'label': 'positive', 'score': 0.9997283816337585},\n",
       " {'label': 'positive', 'score': 0.9996758699417114},\n",
       " {'label': 'negative', 'score': 0.7765215039253235},\n",
       " {'label': 'positive', 'score': 0.9990265369415283},\n",
       " {'label': 'positive', 'score': 0.9999804496765137},\n",
       " {'label': 'negative', 'score': 0.9572120308876038},\n",
       " {'label': 'positive', 'score': 0.9806826114654541},\n",
       " {'label': 'positive', 'score': 0.9999806880950928},\n",
       " {'label': 'positive', 'score': 0.9999772310256958},\n",
       " {'label': 'positive', 'score': 0.9998239874839783},\n",
       " {'label': 'negative', 'score': 0.9986730813980103},\n",
       " {'label': 'positive', 'score': 0.9999204874038696},\n",
       " {'label': 'positive', 'score': 0.9889791011810303},\n",
       " {'label': 'negative', 'score': 0.9998376369476318},\n",
       " {'label': 'negative', 'score': 0.9994574189186096},\n",
       " {'label': 'negative', 'score': 0.9998646974563599},\n",
       " {'label': 'negative', 'score': 0.9993854761123657},\n",
       " {'label': 'positive', 'score': 0.9998729228973389},\n",
       " {'label': 'negative', 'score': 0.9997610449790955},\n",
       " {'label': 'positive', 'score': 0.999976634979248},\n",
       " {'label': 'positive', 'score': 0.9999384880065918},\n",
       " {'label': 'negative', 'score': 0.9972057938575745},\n",
       " {'label': 'negative', 'score': 0.9984508752822876},\n",
       " {'label': 'positive', 'score': 0.9999607801437378},\n",
       " {'label': 'positive', 'score': 0.9999676942825317},\n",
       " {'label': 'positive', 'score': 0.9909488558769226},\n",
       " {'label': 'positive', 'score': 0.999968409538269},\n",
       " {'label': 'positive', 'score': 0.9999768733978271},\n",
       " {'label': 'negative', 'score': 0.9996676445007324},\n",
       " {'label': 'positive', 'score': 0.9999812841415405},\n",
       " {'label': 'negative', 'score': 0.9995701909065247},\n",
       " {'label': 'positive', 'score': 0.9998887777328491},\n",
       " {'label': 'negative', 'score': 0.9998325109481812},\n",
       " {'label': 'positive', 'score': 0.9844641089439392},\n",
       " {'label': 'positive', 'score': 0.9999761581420898},\n",
       " {'label': 'negative', 'score': 0.9995459914207458},\n",
       " {'label': 'negative', 'score': 0.9996170997619629},\n",
       " {'label': 'positive', 'score': 0.9999817609786987},\n",
       " {'label': 'negative', 'score': 0.9998335838317871},\n",
       " {'label': 'positive', 'score': 0.9921002984046936},\n",
       " {'label': 'negative', 'score': 0.9997499585151672},\n",
       " {'label': 'positive', 'score': 0.9999804496765137},\n",
       " {'label': 'positive', 'score': 0.9955623149871826},\n",
       " {'label': 'negative', 'score': 0.99647456407547},\n",
       " {'label': 'negative', 'score': 0.999862551689148},\n",
       " {'label': 'positive', 'score': 0.9999762773513794},\n",
       " {'label': 'negative', 'score': 0.9997373223304749},\n",
       " {'label': 'positive', 'score': 0.9998939037322998},\n",
       " {'label': 'positive', 'score': 0.9999804496765137},\n",
       " {'label': 'positive', 'score': 0.9962618947029114},\n",
       " {'label': 'negative', 'score': 0.9992971420288086},\n",
       " {'label': 'positive', 'score': 0.9990742206573486},\n",
       " {'label': 'negative', 'score': 0.9998067021369934},\n",
       " {'label': 'negative', 'score': 0.9998362064361572},\n",
       " {'label': 'positive', 'score': 0.9998612403869629},\n",
       " {'label': 'negative', 'score': 0.9991130232810974},\n",
       " {'label': 'positive', 'score': 0.9999769926071167},\n",
       " {'label': 'positive', 'score': 0.9999790191650391},\n",
       " {'label': 'positive', 'score': 0.9642851948738098},\n",
       " {'label': 'negative', 'score': 0.9998379945755005},\n",
       " {'label': 'positive', 'score': 0.9999796152114868},\n",
       " {'label': 'negative', 'score': 0.9997178912162781},\n",
       " {'label': 'positive', 'score': 0.999980092048645},\n",
       " {'label': 'positive', 'score': 0.999685525894165},\n",
       " {'label': 'negative', 'score': 0.9974873065948486},\n",
       " {'label': 'positive', 'score': 0.9996988773345947},\n",
       " {'label': 'negative', 'score': 0.9997279047966003},\n",
       " {'label': 'negative', 'score': 0.9998551607131958},\n",
       " {'label': 'positive', 'score': 0.9999810457229614},\n",
       " {'label': 'negative', 'score': 0.9998395442962646},\n",
       " {'label': 'positive', 'score': 0.998729407787323},\n",
       " {'label': 'positive', 'score': 0.9993914365768433},\n",
       " {'label': 'negative', 'score': 0.9990423321723938},\n",
       " {'label': 'negative', 'score': 0.9973880648612976},\n",
       " {'label': 'positive', 'score': 0.9999814033508301},\n",
       " {'label': 'positive', 'score': 0.999975323677063},\n",
       " {'label': 'positive', 'score': 0.9996424913406372},\n",
       " {'label': 'positive', 'score': 0.9966859221458435},\n",
       " {'label': 'positive', 'score': 0.999894380569458},\n",
       " {'label': 'negative', 'score': 0.9998437166213989},\n",
       " {'label': 'negative', 'score': 0.9996417760848999},\n",
       " {'label': 'negative', 'score': 0.9997771382331848},\n",
       " {'label': 'negative', 'score': 0.9998214840888977},\n",
       " {'label': 'positive', 'score': 0.9995500445365906},\n",
       " {'label': 'negative', 'score': 0.9982056617736816},\n",
       " {'label': 'positive', 'score': 0.9999806880950928},\n",
       " {'label': 'negative', 'score': 0.9986271858215332},\n",
       " {'label': 'negative', 'score': 0.9901838898658752},\n",
       " {'label': 'negative', 'score': 0.9890486001968384},\n",
       " {'label': 'positive', 'score': 0.9258783459663391},\n",
       " {'label': 'negative', 'score': 0.9998177886009216},\n",
       " {'label': 'negative', 'score': 0.9982240796089172},\n",
       " {'label': 'positive', 'score': 0.9997360110282898},\n",
       " {'label': 'positive', 'score': 0.9969794750213623},\n",
       " {'label': 'positive', 'score': 0.9784254431724548},\n",
       " {'label': 'positive', 'score': 0.999970555305481},\n",
       " {'label': 'positive', 'score': 0.9994827508926392},\n",
       " {'label': 'positive', 'score': 0.99997878074646},\n",
       " {'label': 'negative', 'score': 0.9947821497917175},\n",
       " {'label': 'positive', 'score': 0.9999812841415405},\n",
       " {'label': 'positive', 'score': 0.9999794960021973},\n",
       " {'label': 'positive', 'score': 0.9886274933815002},\n",
       " {'label': 'negative', 'score': 0.9759146571159363},\n",
       " {'label': 'negative', 'score': 0.9986016154289246},\n",
       " {'label': 'negative', 'score': 0.9985803365707397},\n",
       " {'label': 'positive', 'score': 0.9999713897705078},\n",
       " {'label': 'negative', 'score': 0.9998313188552856},\n",
       " {'label': 'positive', 'score': 0.9999799728393555},\n",
       " {'label': 'negative', 'score': 0.9998435974121094},\n",
       " {'label': 'negative', 'score': 0.9994070529937744},\n",
       " {'label': 'positive', 'score': 0.9997037053108215},\n",
       " {'label': 'positive', 'score': 0.9999767541885376},\n",
       " {'label': 'negative', 'score': 0.9997770190238953},\n",
       " {'label': 'positive', 'score': 0.9996098875999451},\n",
       " {'label': 'negative', 'score': 0.9997226595878601},\n",
       " {'label': 'positive', 'score': 0.9999760389328003},\n",
       " {'label': 'positive', 'score': 0.9999815225601196},\n",
       " {'label': 'positive', 'score': 0.9999723434448242},\n",
       " {'label': 'negative', 'score': 0.9997418522834778},\n",
       " {'label': 'negative', 'score': 0.9998799562454224},\n",
       " {'label': 'positive', 'score': 0.9999786615371704},\n",
       " {'label': 'positive', 'score': 0.9999016523361206},\n",
       " {'label': 'positive', 'score': 0.999981164932251},\n",
       " {'label': 'negative', 'score': 0.9998058676719666},\n",
       " {'label': 'positive', 'score': 0.996364951133728},\n",
       " {'label': 'positive', 'score': 0.9997928738594055},\n",
       " {'label': 'positive', 'score': 0.9999575614929199},\n",
       " {'label': 'negative', 'score': 0.9362541437149048},\n",
       " {'label': 'positive', 'score': 0.9998935461044312},\n",
       " {'label': 'positive', 'score': 0.9999774694442749},\n",
       " {'label': 'negative', 'score': 0.999758780002594},\n",
       " {'label': 'positive', 'score': 0.9999696016311646},\n",
       " {'label': 'positive', 'score': 0.9999791383743286},\n",
       " {'label': 'negative', 'score': 0.9997935891151428},\n",
       " {'label': 'negative', 'score': 0.9996894598007202},\n",
       " {'label': 'negative', 'score': 0.99980229139328},\n",
       " {'label': 'positive', 'score': 0.9989062547683716},\n",
       " {'label': 'negative', 'score': 0.9997143149375916},\n",
       " {'label': 'negative', 'score': 0.99950110912323},\n",
       " {'label': 'negative', 'score': 0.9929423332214355},\n",
       " {'label': 'positive', 'score': 0.9999771118164062},\n",
       " {'label': 'negative', 'score': 0.9998190999031067},\n",
       " {'label': 'positive', 'score': 0.9929990768432617},\n",
       " {'label': 'positive', 'score': 0.9999784231185913},\n",
       " {'label': 'negative', 'score': 0.9997896552085876},\n",
       " {'label': 'negative', 'score': 0.9987313151359558},\n",
       " {'label': 'negative', 'score': 0.9998594522476196},\n",
       " {'label': 'negative', 'score': 0.9996334314346313},\n",
       " {'label': 'positive', 'score': 0.999976634979248},\n",
       " {'label': 'positive', 'score': 0.9868729114532471},\n",
       " {'label': 'negative', 'score': 0.9996905326843262},\n",
       " {'label': 'positive', 'score': 0.999976396560669},\n",
       " {'label': 'negative', 'score': 0.9997269511222839},\n",
       " {'label': 'positive', 'score': 0.9997259974479675},\n",
       " {'label': 'negative', 'score': 0.9997702240943909},\n",
       " {'label': 'positive', 'score': 0.9983645081520081},\n",
       " {'label': 'positive', 'score': 0.9999771118164062},\n",
       " {'label': 'negative', 'score': 0.9997116923332214},\n",
       " {'label': 'negative', 'score': 0.9974367022514343},\n",
       " {'label': 'negative', 'score': 0.999723494052887},\n",
       " {'label': 'positive', 'score': 0.999968409538269},\n",
       " {'label': 'positive', 'score': 0.9999765157699585},\n",
       " {'label': 'negative', 'score': 0.9997830986976624},\n",
       " {'label': 'negative', 'score': 0.9997422099113464},\n",
       " {'label': 'positive', 'score': 0.9999749660491943},\n",
       " {'label': 'negative', 'score': 0.9995542168617249},\n",
       " {'label': 'negative', 'score': 0.9995529055595398},\n",
       " {'label': 'positive', 'score': 0.9993901252746582},\n",
       " {'label': 'positive', 'score': 0.9993919134140015},\n",
       " {'label': 'positive', 'score': 0.9995372295379639},\n",
       " {'label': 'positive', 'score': 0.9995774626731873},\n",
       " {'label': 'positive', 'score': 0.9999809265136719},\n",
       " {'label': 'negative', 'score': 0.9998131394386292},\n",
       " {'label': 'negative', 'score': 0.9998315572738647},\n",
       " {'label': 'negative', 'score': 0.9997981190681458},\n",
       " {'label': 'positive', 'score': 0.995979905128479},\n",
       " {'label': 'positive', 'score': 0.9999817609786987},\n",
       " {'label': 'negative', 'score': 0.999535083770752},\n",
       " {'label': 'positive', 'score': 0.9999654293060303},\n",
       " {'label': 'negative', 'score': 0.9985492825508118},\n",
       " {'label': 'negative', 'score': 0.9982383251190186},\n",
       " {'label': 'negative', 'score': 0.9995555281639099},\n",
       " {'label': 'negative', 'score': 0.9998273849487305},\n",
       " {'label': 'negative', 'score': 0.9998202919960022},\n",
       " {'label': 'negative', 'score': 0.9998175501823425},\n",
       " {'label': 'negative', 'score': 0.9971912503242493},\n",
       " {'label': 'negative', 'score': 0.9993597865104675},\n",
       " {'label': 'negative', 'score': 0.999829888343811},\n",
       " {'label': 'positive', 'score': 0.7044057846069336},\n",
       " {'label': 'positive', 'score': 0.990461528301239},\n",
       " {'label': 'negative', 'score': 0.9953923225402832},\n",
       " {'label': 'negative', 'score': 0.9997227787971497},\n",
       " {'label': 'positive', 'score': 0.997581958770752},\n",
       " {'label': 'positive', 'score': 0.9999722242355347},\n",
       " {'label': 'positive', 'score': 0.999976634979248},\n",
       " {'label': 'negative', 'score': 0.9998325109481812},\n",
       " {'label': 'negative', 'score': 0.9995947480201721},\n",
       " {'label': 'positive', 'score': 0.9999736547470093},\n",
       " {'label': 'negative', 'score': 0.9952680468559265},\n",
       " {'label': 'negative', 'score': 0.9985401630401611},\n",
       " {'label': 'negative', 'score': 0.9989738464355469},\n",
       " {'label': 'positive', 'score': 0.999980092048645},\n",
       " {'label': 'positive', 'score': 0.9966292977333069},\n",
       " {'label': 'positive', 'score': 0.999954104423523},\n",
       " {'label': 'negative', 'score': 0.9872690439224243},\n",
       " {'label': 'positive', 'score': 0.9999712705612183},\n",
       " {'label': 'positive', 'score': 0.9705110192298889},\n",
       " {'label': 'positive', 'score': 0.9999798536300659},\n",
       " {'label': 'negative', 'score': 0.9998132586479187},\n",
       " {'label': 'positive', 'score': 0.997199296951294},\n",
       " {'label': 'positive', 'score': 0.9997643828392029},\n",
       " {'label': 'negative', 'score': 0.9997754693031311},\n",
       " {'label': 'positive', 'score': 0.9999781847000122},\n",
       " {'label': 'negative', 'score': 0.9997554421424866},\n",
       " {'label': 'positive', 'score': 0.6686202883720398},\n",
       " {'label': 'negative', 'score': 0.5745295882225037},\n",
       " {'label': 'positive', 'score': 0.9999653100967407},\n",
       " {'label': 'positive', 'score': 0.9965469241142273},\n",
       " {'label': 'positive', 'score': 0.9969526529312134},\n",
       " {'label': 'positive', 'score': 0.9999774694442749},\n",
       " {'label': 'positive', 'score': 0.9999475479125977},\n",
       " {'label': 'negative', 'score': 0.9997561573982239},\n",
       " {'label': 'positive', 'score': 0.9997736811637878},\n",
       " {'label': 'positive', 'score': 0.9999655485153198},\n",
       " {'label': 'negative', 'score': 0.7429238557815552},\n",
       " {'label': 'negative', 'score': 0.9996076226234436},\n",
       " {'label': 'positive', 'score': 0.9999815225601196},\n",
       " {'label': 'negative', 'score': 0.9854689240455627},\n",
       " {'label': 'positive', 'score': 0.9999752044677734},\n",
       " {'label': 'positive', 'score': 0.9998130202293396},\n",
       " {'label': 'negative', 'score': 0.9996646642684937},\n",
       " {'label': 'negative', 'score': 0.9907406568527222},\n",
       " {'label': 'negative', 'score': 0.9997393488883972},\n",
       " {'label': 'negative', 'score': 0.9997602105140686},\n",
       " {'label': 'negative', 'score': 0.9968129992485046},\n",
       " {'label': 'positive', 'score': 0.9985207915306091},\n",
       " {'label': 'negative', 'score': 0.6970188021659851},\n",
       " {'label': 'positive', 'score': 0.9977816939353943},\n",
       " {'label': 'positive', 'score': 0.9974633455276489},\n",
       " {'label': 'negative', 'score': 0.9998337030410767},\n",
       " {'label': 'negative', 'score': 0.9983452558517456},\n",
       " {'label': 'positive', 'score': 0.9999580383300781},\n",
       " {'label': 'negative', 'score': 0.9986618757247925},\n",
       " {'label': 'positive', 'score': 0.9999080896377563},\n",
       " {'label': 'positive', 'score': 0.999968409538269},\n",
       " {'label': 'negative', 'score': 0.9997565150260925},\n",
       " {'label': 'positive', 'score': 0.9998769760131836},\n",
       " {'label': 'positive', 'score': 0.9999735355377197},\n",
       " {'label': 'negative', 'score': 0.9997828602790833},\n",
       " {'label': 'negative', 'score': 0.9996011853218079},\n",
       " {'label': 'negative', 'score': 0.9995678067207336},\n",
       " {'label': 'positive', 'score': 0.999980092048645},\n",
       " {'label': 'negative', 'score': 0.9996390342712402},\n",
       " {'label': 'negative', 'score': 0.9991238713264465},\n",
       " {'label': 'positive', 'score': 0.9999803304672241},\n",
       " {'label': 'negative', 'score': 0.9998071789741516},\n",
       " {'label': 'positive', 'score': 0.9999707937240601},\n",
       " {'label': 'negative', 'score': 0.9969720840454102},\n",
       " {'label': 'positive', 'score': 0.9979466795921326},\n",
       " {'label': 'negative', 'score': 0.9997897744178772},\n",
       " {'label': 'positive', 'score': 0.9983674883842468},\n",
       " {'label': 'negative', 'score': 0.999761164188385},\n",
       " {'label': 'negative', 'score': 0.9966358542442322},\n",
       " {'label': 'positive', 'score': 0.9999803304672241},\n",
       " {'label': 'positive', 'score': 0.9998769760131836},\n",
       " {'label': 'positive', 'score': 0.9999815225601196},\n",
       " {'label': 'positive', 'score': 0.9972019195556641},\n",
       " {'label': 'negative', 'score': 0.9997935891151428},\n",
       " {'label': 'positive', 'score': 0.9999812841415405},\n",
       " {'label': 'positive', 'score': 0.9998593330383301},\n",
       " {'label': 'negative', 'score': 0.9984431862831116},\n",
       " {'label': 'positive', 'score': 0.9991705417633057},\n",
       " {'label': 'positive', 'score': 0.9993100166320801},\n",
       " {'label': 'positive', 'score': 0.9999818801879883},\n",
       " {'label': 'positive', 'score': 0.9999130964279175},\n",
       " {'label': 'negative', 'score': 0.9994949102401733},\n",
       " {'label': 'negative', 'score': 0.999666690826416},\n",
       " {'label': 'positive', 'score': 0.9997398257255554},\n",
       " {'label': 'negative', 'score': 0.9877251982688904},\n",
       " {'label': 'positive', 'score': 0.9999778270721436},\n",
       " {'label': 'positive', 'score': 0.9999750852584839},\n",
       " {'label': 'negative', 'score': 0.9939467310905457},\n",
       " {'label': 'negative', 'score': 0.9998356103897095},\n",
       " {'label': 'negative', 'score': 0.9998090863227844},\n",
       " {'label': 'positive', 'score': 0.9999711513519287},\n",
       " {'label': 'negative', 'score': 0.9998016953468323},\n",
       " {'label': 'negative', 'score': 0.9941017031669617},\n",
       " {'label': 'positive', 'score': 0.9999018907546997},\n",
       " {'label': 'negative', 'score': 0.9998190999031067},\n",
       " {'label': 'positive', 'score': 0.9982494711875916},\n",
       " {'label': 'negative', 'score': 0.9997126460075378},\n",
       " {'label': 'positive', 'score': 0.9999796152114868},\n",
       " {'label': 'positive', 'score': 0.9997914433479309},\n",
       " {'label': 'positive', 'score': 0.9999814033508301},\n",
       " {'label': 'negative', 'score': 0.9996147155761719},\n",
       " {'label': 'positive', 'score': 0.9998161196708679},\n",
       " {'label': 'positive', 'score': 0.9998799562454224},\n",
       " {'label': 'negative', 'score': 0.9995417594909668},\n",
       " {'label': 'positive', 'score': 0.9970260262489319},\n",
       " {'label': 'negative', 'score': 0.9935947060585022},\n",
       " {'label': 'positive', 'score': 0.9996590614318848},\n",
       " {'label': 'positive', 'score': 0.9993610978126526},\n",
       " {'label': 'positive', 'score': 0.9999803304672241},\n",
       " {'label': 'positive', 'score': 0.9995875954627991},\n",
       " {'label': 'negative', 'score': 0.997220516204834},\n",
       " {'label': 'negative', 'score': 0.9520661234855652},\n",
       " {'label': 'negative', 'score': 0.9975312352180481},\n",
       " {'label': 'positive', 'score': 0.999718964099884},\n",
       " {'label': 'negative', 'score': 0.9014538526535034},\n",
       " {'label': 'negative', 'score': 0.993243396282196},\n",
       " {'label': 'positive', 'score': 0.999975323677063},\n",
       " {'label': 'negative', 'score': 0.998964786529541},\n",
       " {'label': 'negative', 'score': 0.9997733235359192},\n",
       " {'label': 'positive', 'score': 0.9987810254096985},\n",
       " {'label': 'positive', 'score': 0.9595139026641846},\n",
       " {'label': 'negative', 'score': 0.9997910857200623},\n",
       " {'label': 'negative', 'score': 0.9995212554931641},\n",
       " {'label': 'negative', 'score': 0.9943459630012512},\n",
       " {'label': 'positive', 'score': 0.9999673366546631},\n",
       " {'label': 'negative', 'score': 0.99955815076828},\n",
       " {'label': 'positive', 'score': 0.9999765157699585},\n",
       " {'label': 'negative', 'score': 0.9998815059661865},\n",
       " {'label': 'negative', 'score': 0.9998294115066528},\n",
       " {'label': 'negative', 'score': 0.9993078708648682},\n",
       " {'label': 'negative', 'score': 0.9998291730880737},\n",
       " {'label': 'positive', 'score': 0.9999734163284302},\n",
       " {'label': 'positive', 'score': 0.9999736547470093},\n",
       " {'label': 'negative', 'score': 0.9997830986976624},\n",
       " {'label': 'positive', 'score': 0.9999796152114868},\n",
       " {'label': 'positive', 'score': 0.9999434947967529},\n",
       " {'label': 'positive', 'score': 0.9972242116928101},\n",
       " {'label': 'negative', 'score': 0.9954081177711487},\n",
       " {'label': 'positive', 'score': 0.9999760389328003},\n",
       " {'label': 'positive', 'score': 0.9999617338180542},\n",
       " {'label': 'positive', 'score': 0.999855637550354},\n",
       " {'label': 'positive', 'score': 0.9999802112579346},\n",
       " {'label': 'negative', 'score': 0.9998347759246826},\n",
       " {'label': 'positive', 'score': 0.9992569088935852},\n",
       " {'label': 'positive', 'score': 0.998863697052002},\n",
       " {'label': 'positive', 'score': 0.9999295473098755},\n",
       " {'label': 'negative', 'score': 0.9998500347137451},\n",
       " {'label': 'positive', 'score': 0.9994379878044128},\n",
       " {'label': 'negative', 'score': 0.9998248219490051},\n",
       " {'label': 'positive', 'score': 0.9999113082885742},\n",
       " {'label': 'positive', 'score': 0.9999442100524902},\n",
       " {'label': 'positive', 'score': 0.9999682903289795},\n",
       " {'label': 'negative', 'score': 0.994356095790863},\n",
       " {'label': 'positive', 'score': 0.9999600648880005},\n",
       " {'label': 'positive', 'score': 0.9999707937240601},\n",
       " {'label': 'positive', 'score': 0.9995054006576538},\n",
       " {'label': 'positive', 'score': 0.9977735877037048},\n",
       " {'label': 'negative', 'score': 0.9970728158950806},\n",
       " ...]"
      ]
     },
     "execution_count": 97,
     "metadata": {},
     "output_type": "execute_result"
    }
   ],
   "source": [
    "clf([dd[\"sentence\"] for dd in test_dataset])"
   ]
  },
  {
   "cell_type": "code",
   "execution_count": 94,
   "id": "0dc45d96-ab41-4031-b3a7-da2edf7b0ed9",
   "metadata": {},
   "outputs": [
    {
     "data": {
      "text/plain": [
       "{'idx': 0,\n",
       " 'sentence': 'uneasy mishmash of styles and genres .',\n",
       " 'input_ids': [101,\n",
       "  15491,\n",
       "  28616,\n",
       "  22444,\n",
       "  4095,\n",
       "  1997,\n",
       "  6782,\n",
       "  1998,\n",
       "  11541,\n",
       "  1012,\n",
       "  102],\n",
       " 'attention_mask': [1, 1, 1, 1, 1, 1, 1, 1, 1, 1, 1]}"
      ]
     },
     "execution_count": 94,
     "metadata": {},
     "output_type": "execute_result"
    }
   ],
   "source": [
    "[dd[\"sentence\"] for dd in test_dataset]"
   ]
  },
  {
   "cell_type": "code",
   "execution_count": null,
   "id": "7f22f92d-ce8a-40df-8a3a-14485ce3bde5",
   "metadata": {},
   "outputs": [],
   "source": []
  }
 ],
 "metadata": {
  "kernelspec": {
   "display_name": "personal_env",
   "language": "python",
   "name": "personal_env"
  },
  "language_info": {
   "codemirror_mode": {
    "name": "ipython",
    "version": 3
   },
   "file_extension": ".py",
   "mimetype": "text/x-python",
   "name": "python",
   "nbconvert_exporter": "python",
   "pygments_lexer": "ipython3",
   "version": "3.9.17"
  }
 },
 "nbformat": 4,
 "nbformat_minor": 5
}
