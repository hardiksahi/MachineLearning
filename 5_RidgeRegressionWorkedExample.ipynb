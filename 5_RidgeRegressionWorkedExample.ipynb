{
  "nbformat": 4,
  "nbformat_minor": 0,
  "metadata": {
    "colab": {
      "provenance": [],
      "authorship_tag": "ABX9TyOoFF6NGAIw7PSHmIozziVz",
      "include_colab_link": true
    },
    "kernelspec": {
      "name": "python3",
      "display_name": "Python 3"
    },
    "language_info": {
      "name": "python"
    }
  },
  "cells": [
    {
      "cell_type": "markdown",
      "metadata": {
        "id": "view-in-github",
        "colab_type": "text"
      },
      "source": [
        "<a href=\"https://colab.research.google.com/github/hardiksahi/MachineLearning/blob/main/5_RidgeRegressionWorkedExample.ipynb\" target=\"_parent\"><img src=\"https://colab.research.google.com/assets/colab-badge.svg\" alt=\"Open In Colab\"/></a>"
      ]
    },
    {
      "cell_type": "markdown",
      "source": [
        "## Follow example in https://www.statlect.com/machine-learning/choice-of-a-regularization-parameter"
      ],
      "metadata": {
        "id": "Iz-9gV3uqUU6"
      }
    },
    {
      "cell_type": "code",
      "execution_count": 1,
      "metadata": {
        "id": "VKbXvGVHqN-B"
      },
      "outputs": [],
      "source": [
        "import numpy as np\n",
        "import pandas as pd\n",
        "import urllib.request"
      ]
    },
    {
      "cell_type": "code",
      "source": [
        "from sklearn.model_selection import train_test_split, LeaveOneOut\n",
        "from sklearn.model_selection import cross_validate\n",
        "from sklearn.model_selection import GridSearchCV"
      ],
      "metadata": {
        "id": "IFYXc6Uvqb53"
      },
      "execution_count": 292,
      "outputs": []
    },
    {
      "cell_type": "code",
      "source": [
        "from sklearn import linear_model\n",
        "from sklearn.metrics import mean_squared_error, r2_score"
      ],
      "metadata": {
        "id": "krplM9BzrbBd"
      },
      "execution_count": 177,
      "outputs": []
    },
    {
      "cell_type": "code",
      "source": [
        "from statsmodels.formula.api import ols\n",
        "import statsmodels.api as sm"
      ],
      "metadata": {
        "id": "swZFgcg7ryyj"
      },
      "execution_count": 4,
      "outputs": []
    },
    {
      "cell_type": "code",
      "source": [
        "from sklearn.preprocessing import StandardScaler"
      ],
      "metadata": {
        "id": "tFaQvueF2YKZ"
      },
      "execution_count": 5,
      "outputs": []
    },
    {
      "cell_type": "code",
      "source": [
        "from numpy.linalg import cond, inv"
      ],
      "metadata": {
        "id": "tvghp6bu6VfC"
      },
      "execution_count": 6,
      "outputs": []
    },
    {
      "cell_type": "code",
      "source": [
        "from sklearn.compose import ColumnTransformer\n",
        "from sklearn.compose import TransformedTargetRegressor\n",
        "from sklearn.pipeline import Pipeline"
      ],
      "metadata": {
        "id": "wFK1tTOvW-iU"
      },
      "execution_count": 128,
      "outputs": []
    },
    {
      "cell_type": "code",
      "source": [
        "import matplotlib.pyplot as plt\n",
        "import seaborn as sns"
      ],
      "metadata": {
        "id": "X-5Oraof-DPh"
      },
      "execution_count": 419,
      "outputs": []
    },
    {
      "cell_type": "code",
      "source": [
        "def get_r2_predicted(X, y, model):\n",
        "  loo_res = []\n",
        "  for train_index, test_index in LeaveOneOut().split(X):\n",
        "    X_train, X_test = X[train_index], X[test_index]\n",
        "    y_train, y_test = y[train_index], y[test_index]\n",
        "    model.fit(X_train, y_train)\n",
        "    loo_res.append(*(y_test - model.predict(X_test)))\n",
        "\n",
        "  centered_y = y.reshape(-1, ) - np.mean(y.reshape(-1, ))\n",
        "  pred_rsq = 1 - np.sum(np.square(loo_res)) / (np.dot(centered_y, centered_y))\n",
        "\n",
        "  return pred_rsq"
      ],
      "metadata": {
        "id": "h8je6YQVsxDM"
      },
      "execution_count": 381,
      "outputs": []
    },
    {
      "cell_type": "code",
      "source": [
        "## Retreive data\n",
        "remoteAddress = 'https://www.statlect.com/ml-assets/y_hicp.csv'\n",
        "localAddress = './y_hicp.csv'\n",
        "try:\n",
        "    y = pd.read_csv(localAddress, header=None)\n",
        "except:\n",
        "    urllib.request.urlretrieve(remoteAddress, localAddress)\n",
        "    y = pd.read_csv(localAddress, header=None)\n",
        "y = y.values # Transform y into a numpy array"
      ],
      "metadata": {
        "id": "viXE7E1mqjYl"
      },
      "execution_count": 382,
      "outputs": []
    },
    {
      "cell_type": "code",
      "source": [
        "print(f\"Shape of y: {y.shape}\")"
      ],
      "metadata": {
        "colab": {
          "base_uri": "https://localhost:8080/"
        },
        "id": "r6sgKjsSqp6o",
        "outputId": "c9785ae4-624c-4de3-b01b-948cd766ccf9"
      },
      "execution_count": 8,
      "outputs": [
        {
          "output_type": "stream",
          "name": "stdout",
          "text": [
            "Shape of y: (270, 1)\n"
          ]
        }
      ]
    },
    {
      "cell_type": "code",
      "source": [
        "# Load the input variables with pandas\n",
        "remoteAddress = 'https://www.statlect.com/ml-assets/x_hicp.csv'\n",
        "localAddress = './x_hicp.csv'\n",
        "try:\n",
        "    x = pd.read_csv(localAddress, header=None)\n",
        "except:\n",
        "    urllib.request.urlretrieve(remoteAddress, localAddress)\n",
        "    x = pd.read_csv(localAddress, header=None)\n",
        "x_columns = x.columns"
      ],
      "metadata": {
        "id": "uIWtRjIlqyJa"
      },
      "execution_count": 383,
      "outputs": []
    },
    {
      "cell_type": "code",
      "source": [
        "x = x.values\n",
        "print(f\"Shape of x: {x.shape}\")"
      ],
      "metadata": {
        "colab": {
          "base_uri": "https://localhost:8080/"
        },
        "id": "6pvD5tj3q3R-",
        "outputId": "943742be-db86-44a8-a22c-7d3bb77b24f8"
      },
      "execution_count": 384,
      "outputs": [
        {
          "output_type": "stream",
          "name": "stdout",
          "text": [
            "Shape of x: (270, 113)\n"
          ]
        }
      ]
    },
    {
      "cell_type": "code",
      "source": [
        "## Split data into train, test and validation set\n",
        "x_train, x_val_test, y_train, y_val_test = train_test_split(x, y, test_size=0.4, random_state=1)\n",
        "x_val, x_test, y_val, y_test = train_test_split(x_val_test, y_val_test, test_size=0.5, random_state=1)\n",
        "print(f\"Shape of x_train: {x_train.shape}\")\n",
        "print(f\"Shape of x_val: {x_val.shape}\")\n",
        "print(f\"Shape of x_test: {x_test.shape}\")"
      ],
      "metadata": {
        "colab": {
          "base_uri": "https://localhost:8080/"
        },
        "id": "WZJa9BBkrALJ",
        "outputId": "7b5327a5-96ab-4245-e27d-a31d0a6729ae"
      },
      "execution_count": 11,
      "outputs": [
        {
          "output_type": "stream",
          "name": "stdout",
          "text": [
            "Shape of x_train: (162, 113)\n",
            "Shape of x_val: (54, 113)\n",
            "Shape of x_test: (54, 113)\n"
          ]
        }
      ]
    },
    {
      "cell_type": "markdown",
      "source": [
        "## Create benchmark model (OLS)"
      ],
      "metadata": {
        "id": "CZ6xaPNmrkMv"
      }
    },
    {
      "cell_type": "code",
      "source": [
        "ols_model = sm.OLS(y_train,sm.add_constant(x_train), hasconst=True)\n",
        "ols_model_results = ols_model.fit()"
      ],
      "metadata": {
        "id": "gQWb0Xu6rjm9"
      },
      "execution_count": 12,
      "outputs": []
    },
    {
      "cell_type": "code",
      "source": [
        "ols_model_train_prediction = ols_model.predict(params=ols_model_results.params, exog=sm.add_constant(x_train))\n",
        "print(f\"Shape of ols_model_train_prediction: {ols_model_train_prediction.shape}\")"
      ],
      "metadata": {
        "colab": {
          "base_uri": "https://localhost:8080/"
        },
        "id": "S1Fe2Y1NuRTo",
        "outputId": "d7f81686-3a03-45d7-a037-88c84e736a39"
      },
      "execution_count": 13,
      "outputs": [
        {
          "output_type": "stream",
          "name": "stdout",
          "text": [
            "Shape of ols_model_train_prediction: (162,)\n"
          ]
        }
      ]
    },
    {
      "cell_type": "code",
      "source": [
        "ols_model_val_prediction = ols_model.predict(params=ols_model_results.params, exog=sm.add_constant(x_val))\n",
        "print(f\"Shape of ols_model_val_prediction: {ols_model_val_prediction.shape}\")"
      ],
      "metadata": {
        "colab": {
          "base_uri": "https://localhost:8080/"
        },
        "id": "q6qgiPB4ukmq",
        "outputId": "75e235a0-18e9-4bca-d0ce-6f7bcf6a76b1"
      },
      "execution_count": 14,
      "outputs": [
        {
          "output_type": "stream",
          "name": "stdout",
          "text": [
            "Shape of ols_model_val_prediction: (54,)\n"
          ]
        }
      ]
    },
    {
      "cell_type": "code",
      "source": [
        "print(f\"MSE on train set: {mean_squared_error(y_train, ols_model_train_prediction)}\")\n",
        "print(f\"R2 on train set: {r2_score(y_train, ols_model_train_prediction)}\")"
      ],
      "metadata": {
        "colab": {
          "base_uri": "https://localhost:8080/"
        },
        "id": "14YcQpDfuxIm",
        "outputId": "af730857-ba71-4638-ae7b-19aafe1a5b12"
      },
      "execution_count": 15,
      "outputs": [
        {
          "output_type": "stream",
          "name": "stdout",
          "text": [
            "MSE on train set: 0.014389920273540512\n",
            "R2 on train set: 0.9084867354573687\n"
          ]
        }
      ]
    },
    {
      "cell_type": "code",
      "source": [
        "print(f\"MSE on val set: {mean_squared_error(y_val, ols_model_val_prediction)}\")\n",
        "print(f\"R2 on val set: {r2_score(y_val, ols_model_val_prediction)}\")"
      ],
      "metadata": {
        "colab": {
          "base_uri": "https://localhost:8080/"
        },
        "id": "YNL7lInXvEMK",
        "outputId": "a00cdc91-dc2d-4373-a10a-98641e33d628"
      },
      "execution_count": 16,
      "outputs": [
        {
          "output_type": "stream",
          "name": "stdout",
          "text": [
            "MSE on val set: 0.16796103899804601\n",
            "R2 on val set: 0.28945157593066584\n"
          ]
        }
      ]
    },
    {
      "cell_type": "markdown",
      "source": [
        "OLS regressor:\n",
        "1. MSE train set is very low, R2 on train set is very high => LOW BIAS\n",
        "2. abs(MSE Train - MSE val) = 0.1535 (Very high)\n",
        "3. abs(R2 Train - R2 Val) = 0.61903515952 (Very high)Both 2 and 3 imply that the model has very high variance\n",
        "\n",
        "=> Model is overfitting"
      ],
      "metadata": {
        "id": "MYo7-vr7vKgW"
      }
    },
    {
      "cell_type": "markdown",
      "source": [
        "## Ridge regression to handle overfitting"
      ],
      "metadata": {
        "id": "8q2xfny9ympv"
      }
    },
    {
      "cell_type": "code",
      "source": [
        "x_scaler = StandardScaler()\n",
        "x_train_scaled = x_scaler.fit_transform(x_train)\n",
        "y_scaler = StandardScaler()\n",
        "y_train_scaled = y_scaler.fit_transform(y_train)"
      ],
      "metadata": {
        "id": "ijFB4NqN49JV"
      },
      "execution_count": 17,
      "outputs": []
    },
    {
      "cell_type": "code",
      "source": [
        "x_val_scaled = x_scaler.transform(x_val)\n",
        "y_val_scaled = y_scaler.transform(y_val)"
      ],
      "metadata": {
        "id": "Iw-E1OAp49LZ"
      },
      "execution_count": 18,
      "outputs": []
    },
    {
      "cell_type": "code",
      "source": [
        "lambda_val = 10"
      ],
      "metadata": {
        "id": "VlMwZdgp5wN2"
      },
      "execution_count": 19,
      "outputs": []
    },
    {
      "cell_type": "code",
      "source": [
        "inverse_part = inv(np.dot(x_train_scaled.transpose(), x_train_scaled) + lambda_val*np.eye(x_train_scaled.shape[1]))"
      ],
      "metadata": {
        "id": "CVfCfk6Z5wQG"
      },
      "execution_count": 20,
      "outputs": []
    },
    {
      "cell_type": "code",
      "source": [
        "beta_ridge_coefficients = np.dot(inverse_part, np.dot(x_train_scaled.transpose(), y_train_scaled))"
      ],
      "metadata": {
        "id": "4VkDmsGg5wSM"
      },
      "execution_count": 21,
      "outputs": []
    },
    {
      "cell_type": "code",
      "source": [
        "ridge_model_train_prediction = np.dot(x_train_scaled, beta_ridge_coefficients)\n",
        "print(f\"Shape of ridge_model_train_prediction: {ridge_model_train_prediction.shape}\")"
      ],
      "metadata": {
        "colab": {
          "base_uri": "https://localhost:8080/"
        },
        "id": "faI6V7c76yl1",
        "outputId": "bc5f3000-fa53-4660-b2d7-8897fe13d3fc"
      },
      "execution_count": 22,
      "outputs": [
        {
          "output_type": "stream",
          "name": "stdout",
          "text": [
            "Shape of ridge_model_train_prediction: (162, 1)\n"
          ]
        }
      ]
    },
    {
      "cell_type": "code",
      "source": [
        "ridge_model_val_prediction = np.dot(x_val_scaled, beta_ridge_coefficients)\n",
        "print(f\"Shape of ridge_model_val_prediction: {ridge_model_val_prediction.shape}\")"
      ],
      "metadata": {
        "colab": {
          "base_uri": "https://localhost:8080/"
        },
        "id": "_HWTFB5s5wUK",
        "outputId": "88b8242b-2393-4c51-e34d-20a5c89926fd"
      },
      "execution_count": 23,
      "outputs": [
        {
          "output_type": "stream",
          "name": "stdout",
          "text": [
            "Shape of ridge_model_val_prediction: (54, 1)\n"
          ]
        }
      ]
    },
    {
      "cell_type": "code",
      "source": [
        "print(f\"MSE on train set [Ridge]: {mean_squared_error(y_train_scaled, ridge_model_train_prediction)}\")\n",
        "print(f\"R2 on train set [Ridge]: {r2_score(y_train_scaled, ridge_model_train_prediction)}\")"
      ],
      "metadata": {
        "colab": {
          "base_uri": "https://localhost:8080/"
        },
        "id": "iQDsI7NQ49Ng",
        "outputId": "aae0724a-9b42-4a3a-ec44-304180c4fc9d"
      },
      "execution_count": 24,
      "outputs": [
        {
          "output_type": "stream",
          "name": "stdout",
          "text": [
            "MSE on train set [Ridge]: 0.10057794301203454\n",
            "R2 on train set [Ridge]: 0.8994220569879654\n"
          ]
        }
      ]
    },
    {
      "cell_type": "code",
      "source": [
        "print(f\"MSE on val set [Ridge]: {mean_squared_error(y_val_scaled, ridge_model_val_prediction)}\")\n",
        "print(f\"R2 on val set [Ridge]: {r2_score(y_val_scaled, ridge_model_val_prediction)}\")"
      ],
      "metadata": {
        "colab": {
          "base_uri": "https://localhost:8080/"
        },
        "id": "R29SacpC7N8c",
        "outputId": "8b0357f4-24e4-49e1-9373-1ee83ea48ca9"
      },
      "execution_count": 25,
      "outputs": [
        {
          "output_type": "stream",
          "name": "stdout",
          "text": [
            "MSE on val set [Ridge]: 0.7677457820048922\n",
            "R2 on val set [Ridge]: 0.48928700708706907\n"
          ]
        }
      ]
    },
    {
      "cell_type": "markdown",
      "source": [
        "## Compare coefficients with the ones obtained from sklearn\n"
      ],
      "metadata": {
        "id": "7ctReqniE9Q7"
      }
    },
    {
      "cell_type": "code",
      "source": [
        "sklearn_ridge_model = linear_model.Ridge(alpha = lambda_val, fit_intercept=False)"
      ],
      "metadata": {
        "id": "dy31zr0V7N-t"
      },
      "execution_count": 26,
      "outputs": []
    },
    {
      "cell_type": "code",
      "source": [
        "sklearn_ridge_model.fit(x_train_scaled, y_train_scaled)"
      ],
      "metadata": {
        "colab": {
          "base_uri": "https://localhost:8080/",
          "height": 75
        },
        "id": "OMaxqkCp7OAr",
        "outputId": "e4aa4736-06f5-483e-a0ed-e03ecbe06cf7"
      },
      "execution_count": 27,
      "outputs": [
        {
          "output_type": "execute_result",
          "data": {
            "text/plain": [
              "Ridge(alpha=10, fit_intercept=False)"
            ],
            "text/html": [
              "<style>#sk-container-id-1 {color: black;}#sk-container-id-1 pre{padding: 0;}#sk-container-id-1 div.sk-toggleable {background-color: white;}#sk-container-id-1 label.sk-toggleable__label {cursor: pointer;display: block;width: 100%;margin-bottom: 0;padding: 0.3em;box-sizing: border-box;text-align: center;}#sk-container-id-1 label.sk-toggleable__label-arrow:before {content: \"▸\";float: left;margin-right: 0.25em;color: #696969;}#sk-container-id-1 label.sk-toggleable__label-arrow:hover:before {color: black;}#sk-container-id-1 div.sk-estimator:hover label.sk-toggleable__label-arrow:before {color: black;}#sk-container-id-1 div.sk-toggleable__content {max-height: 0;max-width: 0;overflow: hidden;text-align: left;background-color: #f0f8ff;}#sk-container-id-1 div.sk-toggleable__content pre {margin: 0.2em;color: black;border-radius: 0.25em;background-color: #f0f8ff;}#sk-container-id-1 input.sk-toggleable__control:checked~div.sk-toggleable__content {max-height: 200px;max-width: 100%;overflow: auto;}#sk-container-id-1 input.sk-toggleable__control:checked~label.sk-toggleable__label-arrow:before {content: \"▾\";}#sk-container-id-1 div.sk-estimator input.sk-toggleable__control:checked~label.sk-toggleable__label {background-color: #d4ebff;}#sk-container-id-1 div.sk-label input.sk-toggleable__control:checked~label.sk-toggleable__label {background-color: #d4ebff;}#sk-container-id-1 input.sk-hidden--visually {border: 0;clip: rect(1px 1px 1px 1px);clip: rect(1px, 1px, 1px, 1px);height: 1px;margin: -1px;overflow: hidden;padding: 0;position: absolute;width: 1px;}#sk-container-id-1 div.sk-estimator {font-family: monospace;background-color: #f0f8ff;border: 1px dotted black;border-radius: 0.25em;box-sizing: border-box;margin-bottom: 0.5em;}#sk-container-id-1 div.sk-estimator:hover {background-color: #d4ebff;}#sk-container-id-1 div.sk-parallel-item::after {content: \"\";width: 100%;border-bottom: 1px solid gray;flex-grow: 1;}#sk-container-id-1 div.sk-label:hover label.sk-toggleable__label {background-color: #d4ebff;}#sk-container-id-1 div.sk-serial::before {content: \"\";position: absolute;border-left: 1px solid gray;box-sizing: border-box;top: 0;bottom: 0;left: 50%;z-index: 0;}#sk-container-id-1 div.sk-serial {display: flex;flex-direction: column;align-items: center;background-color: white;padding-right: 0.2em;padding-left: 0.2em;position: relative;}#sk-container-id-1 div.sk-item {position: relative;z-index: 1;}#sk-container-id-1 div.sk-parallel {display: flex;align-items: stretch;justify-content: center;background-color: white;position: relative;}#sk-container-id-1 div.sk-item::before, #sk-container-id-1 div.sk-parallel-item::before {content: \"\";position: absolute;border-left: 1px solid gray;box-sizing: border-box;top: 0;bottom: 0;left: 50%;z-index: -1;}#sk-container-id-1 div.sk-parallel-item {display: flex;flex-direction: column;z-index: 1;position: relative;background-color: white;}#sk-container-id-1 div.sk-parallel-item:first-child::after {align-self: flex-end;width: 50%;}#sk-container-id-1 div.sk-parallel-item:last-child::after {align-self: flex-start;width: 50%;}#sk-container-id-1 div.sk-parallel-item:only-child::after {width: 0;}#sk-container-id-1 div.sk-dashed-wrapped {border: 1px dashed gray;margin: 0 0.4em 0.5em 0.4em;box-sizing: border-box;padding-bottom: 0.4em;background-color: white;}#sk-container-id-1 div.sk-label label {font-family: monospace;font-weight: bold;display: inline-block;line-height: 1.2em;}#sk-container-id-1 div.sk-label-container {text-align: center;}#sk-container-id-1 div.sk-container {/* jupyter's `normalize.less` sets `[hidden] { display: none; }` but bootstrap.min.css set `[hidden] { display: none !important; }` so we also need the `!important` here to be able to override the default hidden behavior on the sphinx rendered scikit-learn.org. See: https://github.com/scikit-learn/scikit-learn/issues/21755 */display: inline-block !important;position: relative;}#sk-container-id-1 div.sk-text-repr-fallback {display: none;}</style><div id=\"sk-container-id-1\" class=\"sk-top-container\"><div class=\"sk-text-repr-fallback\"><pre>Ridge(alpha=10, fit_intercept=False)</pre><b>In a Jupyter environment, please rerun this cell to show the HTML representation or trust the notebook. <br />On GitHub, the HTML representation is unable to render, please try loading this page with nbviewer.org.</b></div><div class=\"sk-container\" hidden><div class=\"sk-item\"><div class=\"sk-estimator sk-toggleable\"><input class=\"sk-toggleable__control sk-hidden--visually\" id=\"sk-estimator-id-1\" type=\"checkbox\" checked><label for=\"sk-estimator-id-1\" class=\"sk-toggleable__label sk-toggleable__label-arrow\">Ridge</label><div class=\"sk-toggleable__content\"><pre>Ridge(alpha=10, fit_intercept=False)</pre></div></div></div></div></div>"
            ]
          },
          "metadata": {},
          "execution_count": 27
        }
      ]
    },
    {
      "cell_type": "code",
      "source": [
        "sklearn_ridge_coefficients = sklearn_ridge_model.coef_.reshape(-1, 1)"
      ],
      "metadata": {
        "id": "yTO_Baom7OCl"
      },
      "execution_count": 37,
      "outputs": []
    },
    {
      "cell_type": "code",
      "source": [
        "np.allclose(sklearn_ridge_coefficients, beta_ridge_coefficients)"
      ],
      "metadata": {
        "colab": {
          "base_uri": "https://localhost:8080/"
        },
        "id": "ztv9oOw9FgA9",
        "outputId": "f47887f6-afc4-4bb2-b4a5-69c656f797c2"
      },
      "execution_count": 38,
      "outputs": [
        {
          "output_type": "execute_result",
          "data": {
            "text/plain": [
              "True"
            ]
          },
          "metadata": {},
          "execution_count": 38
        }
      ]
    },
    {
      "cell_type": "markdown",
      "source": [
        "## Compare coefficients with ones obtained from statsmodels. It uses different loss function (elastic_net) https://www.statsmodels.org/dev/generated/statsmodels.regression.linear_model.OLS.fit_regularized.html#statsmodels.regression.linear_model.OLS.fit_regularized. Hence coeff are not same"
      ],
      "metadata": {
        "id": "--UdgcGnF5_L"
      }
    },
    {
      "cell_type": "code",
      "source": [
        "stats_models_ridge_model = sm.OLS(x_train_scaled, y_train_scaled, hasconst=False)\n",
        "stats_models_ridge_model_results = stats_models_ridge_model.fit_regularized(method=\"elastic_net\", alpha=lambda_val, L1_wt=0)"
      ],
      "metadata": {
        "id": "Q243MXt-F0Lv"
      },
      "execution_count": 42,
      "outputs": []
    },
    {
      "cell_type": "code",
      "source": [],
      "metadata": {
        "id": "OoO3Bk06qjWE"
      },
      "execution_count": null,
      "outputs": []
    },
    {
      "cell_type": "code",
      "source": [],
      "metadata": {
        "id": "EOFCP2yuqjYW"
      },
      "execution_count": null,
      "outputs": []
    },
    {
      "cell_type": "code",
      "source": [],
      "metadata": {
        "id": "eL6EDQiHqjaO"
      },
      "execution_count": null,
      "outputs": []
    },
    {
      "cell_type": "markdown",
      "source": [
        "# ============================================================================\n",
        "# [Start] Use sklearn pipeline to train OLS and Ridge regression models, check for overfitting and choose best lambda for Ridge\n",
        "# ====================================================================="
      ],
      "metadata": {
        "id": "Rqqxvj6RVj4h"
      }
    },
    {
      "cell_type": "markdown",
      "source": [
        "## Step 1: Split x and y into train and test set"
      ],
      "metadata": {
        "id": "6ihk5gt7VxA9"
      }
    },
    {
      "cell_type": "code",
      "source": [
        "x_train, x_test, y_train, y_test = train_test_split(x, y, test_size=0.2, random_state=1)\n",
        "print(f\"Shape of x_train: {x_train.shape}\")\n",
        "print(f\"Shape of x_test: {x_test.shape}\")"
      ],
      "metadata": {
        "colab": {
          "base_uri": "https://localhost:8080/"
        },
        "id": "ZFzplF3OVgqB",
        "outputId": "36e993f1-d699-4053-e775-13196e733f18"
      },
      "execution_count": 123,
      "outputs": [
        {
          "output_type": "stream",
          "name": "stdout",
          "text": [
            "Shape of x_train: (216, 113)\n",
            "Shape of x_test: (54, 113)\n"
          ]
        }
      ]
    },
    {
      "cell_type": "code",
      "source": [
        "## Scaled versiond of data\n",
        "x_scaler = StandardScaler()\n",
        "x_train_scaled = x_scaler.fit_transform(x_train)\n",
        "x_test_scaled = x_scaler.transform(x_test)\n",
        "\n",
        "y_scaler = StandardScaler()\n",
        "y_train_scaled = y_scaler.fit_transform(y_train)\n",
        "y_test_scaled = y_scaler.transform(y_test)"
      ],
      "metadata": {
        "id": "hXlOM7xoVjFO"
      },
      "execution_count": 124,
      "outputs": []
    },
    {
      "cell_type": "markdown",
      "source": [
        "## Step 2: Train OLS on train data directly (on standardized version)"
      ],
      "metadata": {
        "id": "xjss3UdUWEH8"
      }
    },
    {
      "cell_type": "markdown",
      "source": [
        "### Way 1: Train using statsmodels"
      ],
      "metadata": {
        "id": "lsuFt2tfWLLM"
      }
    },
    {
      "cell_type": "code",
      "source": [
        "statsmodels_ols_model = sm.OLS(y_train_scaled, x_train_scaled, hasconst=False)\n",
        "statsmodels_ols_model_results = statsmodels_ols_model.fit()\n",
        "statsmodels_ols_model_results_params = statsmodels_ols_model_results.params\n",
        "print(f\"Shape of statsmodels_ols_model_results_params: {statsmodels_ols_model_results_params.shape}\")"
      ],
      "metadata": {
        "colab": {
          "base_uri": "https://localhost:8080/"
        },
        "id": "Gdb8M2A5VjHU",
        "outputId": "22d477bf-4958-4105-f3cc-e959e5757f9e"
      },
      "execution_count": 141,
      "outputs": [
        {
          "output_type": "stream",
          "name": "stdout",
          "text": [
            "Shape of statsmodels_ols_model_results_params: (113,)\n"
          ]
        }
      ]
    },
    {
      "cell_type": "code",
      "source": [
        "## Predict on train set\n",
        "statsmodels_ols_model_train_prediction = statsmodels_ols_model.predict(params=statsmodels_ols_model_results_params, exog=x_train_scaled)\n",
        "print(f\"Shape of statsmodels_ols_model_train_prediction: {statsmodels_ols_model_train_prediction.shape}\")"
      ],
      "metadata": {
        "colab": {
          "base_uri": "https://localhost:8080/"
        },
        "id": "U0jlOXmOVjJa",
        "outputId": "ac5047a7-1425-4822-f0d6-13cea7955fc5"
      },
      "execution_count": 142,
      "outputs": [
        {
          "output_type": "stream",
          "name": "stdout",
          "text": [
            "Shape of statsmodels_ols_model_train_prediction: (216,)\n"
          ]
        }
      ]
    },
    {
      "cell_type": "code",
      "source": [
        "## Predict on test set\n",
        "statsmodels_ols_model_test_prediction = statsmodels_ols_model.predict(params=statsmodels_ols_model_results_params, exog=x_test_scaled)\n",
        "print(f\"Shape of statsmodels_ols_model_test_prediction: {statsmodels_ols_model_test_prediction.shape}\")"
      ],
      "metadata": {
        "colab": {
          "base_uri": "https://localhost:8080/"
        },
        "id": "1nSRitvqVjLV",
        "outputId": "5b58dc1e-8809-459e-e91a-db308906870a"
      },
      "execution_count": 143,
      "outputs": [
        {
          "output_type": "stream",
          "name": "stdout",
          "text": [
            "Shape of statsmodels_ols_model_test_prediction: (54,)\n"
          ]
        }
      ]
    },
    {
      "cell_type": "markdown",
      "source": [
        "### Way 2: Train using sklearn pipeline"
      ],
      "metadata": {
        "id": "pJgFi5mvW6Lo"
      }
    },
    {
      "cell_type": "code",
      "source": [
        "sklearn_ols_standardize_pipeline = Pipeline([('scaler', StandardScaler(with_mean=True, with_std=True))])\n",
        "sklearn_ols_pipeline = Pipeline(steps=[('standardize', sklearn_ols_standardize_pipeline), ('model',linear_model.LinearRegression(fit_intercept=False))])\n",
        "sklearn_ols_model = TransformedTargetRegressor(regressor=sklearn_ols_pipeline, transformer=StandardScaler(with_mean=True, with_std=True))"
      ],
      "metadata": {
        "id": "x6q3vXwGW4vv"
      },
      "execution_count": 144,
      "outputs": []
    },
    {
      "cell_type": "code",
      "source": [
        "sklearn_ols_model.fit(x_train, y_train)"
      ],
      "metadata": {
        "colab": {
          "base_uri": "https://localhost:8080/",
          "height": 178
        },
        "id": "PHAp5X5hXMBB",
        "outputId": "b39986cd-8bc1-4196-83aa-f01187d42a6e"
      },
      "execution_count": 145,
      "outputs": [
        {
          "output_type": "execute_result",
          "data": {
            "text/plain": [
              "TransformedTargetRegressor(regressor=Pipeline(steps=[('standardize',\n",
              "                                                      Pipeline(steps=[('scaler',\n",
              "                                                                       StandardScaler())])),\n",
              "                                                     ('model',\n",
              "                                                      LinearRegression(fit_intercept=False))]),\n",
              "                           transformer=StandardScaler())"
            ],
            "text/html": [
              "<style>#sk-container-id-14 {color: black;}#sk-container-id-14 pre{padding: 0;}#sk-container-id-14 div.sk-toggleable {background-color: white;}#sk-container-id-14 label.sk-toggleable__label {cursor: pointer;display: block;width: 100%;margin-bottom: 0;padding: 0.3em;box-sizing: border-box;text-align: center;}#sk-container-id-14 label.sk-toggleable__label-arrow:before {content: \"▸\";float: left;margin-right: 0.25em;color: #696969;}#sk-container-id-14 label.sk-toggleable__label-arrow:hover:before {color: black;}#sk-container-id-14 div.sk-estimator:hover label.sk-toggleable__label-arrow:before {color: black;}#sk-container-id-14 div.sk-toggleable__content {max-height: 0;max-width: 0;overflow: hidden;text-align: left;background-color: #f0f8ff;}#sk-container-id-14 div.sk-toggleable__content pre {margin: 0.2em;color: black;border-radius: 0.25em;background-color: #f0f8ff;}#sk-container-id-14 input.sk-toggleable__control:checked~div.sk-toggleable__content {max-height: 200px;max-width: 100%;overflow: auto;}#sk-container-id-14 input.sk-toggleable__control:checked~label.sk-toggleable__label-arrow:before {content: \"▾\";}#sk-container-id-14 div.sk-estimator input.sk-toggleable__control:checked~label.sk-toggleable__label {background-color: #d4ebff;}#sk-container-id-14 div.sk-label input.sk-toggleable__control:checked~label.sk-toggleable__label {background-color: #d4ebff;}#sk-container-id-14 input.sk-hidden--visually {border: 0;clip: rect(1px 1px 1px 1px);clip: rect(1px, 1px, 1px, 1px);height: 1px;margin: -1px;overflow: hidden;padding: 0;position: absolute;width: 1px;}#sk-container-id-14 div.sk-estimator {font-family: monospace;background-color: #f0f8ff;border: 1px dotted black;border-radius: 0.25em;box-sizing: border-box;margin-bottom: 0.5em;}#sk-container-id-14 div.sk-estimator:hover {background-color: #d4ebff;}#sk-container-id-14 div.sk-parallel-item::after {content: \"\";width: 100%;border-bottom: 1px solid gray;flex-grow: 1;}#sk-container-id-14 div.sk-label:hover label.sk-toggleable__label {background-color: #d4ebff;}#sk-container-id-14 div.sk-serial::before {content: \"\";position: absolute;border-left: 1px solid gray;box-sizing: border-box;top: 0;bottom: 0;left: 50%;z-index: 0;}#sk-container-id-14 div.sk-serial {display: flex;flex-direction: column;align-items: center;background-color: white;padding-right: 0.2em;padding-left: 0.2em;position: relative;}#sk-container-id-14 div.sk-item {position: relative;z-index: 1;}#sk-container-id-14 div.sk-parallel {display: flex;align-items: stretch;justify-content: center;background-color: white;position: relative;}#sk-container-id-14 div.sk-item::before, #sk-container-id-14 div.sk-parallel-item::before {content: \"\";position: absolute;border-left: 1px solid gray;box-sizing: border-box;top: 0;bottom: 0;left: 50%;z-index: -1;}#sk-container-id-14 div.sk-parallel-item {display: flex;flex-direction: column;z-index: 1;position: relative;background-color: white;}#sk-container-id-14 div.sk-parallel-item:first-child::after {align-self: flex-end;width: 50%;}#sk-container-id-14 div.sk-parallel-item:last-child::after {align-self: flex-start;width: 50%;}#sk-container-id-14 div.sk-parallel-item:only-child::after {width: 0;}#sk-container-id-14 div.sk-dashed-wrapped {border: 1px dashed gray;margin: 0 0.4em 0.5em 0.4em;box-sizing: border-box;padding-bottom: 0.4em;background-color: white;}#sk-container-id-14 div.sk-label label {font-family: monospace;font-weight: bold;display: inline-block;line-height: 1.2em;}#sk-container-id-14 div.sk-label-container {text-align: center;}#sk-container-id-14 div.sk-container {/* jupyter's `normalize.less` sets `[hidden] { display: none; }` but bootstrap.min.css set `[hidden] { display: none !important; }` so we also need the `!important` here to be able to override the default hidden behavior on the sphinx rendered scikit-learn.org. See: https://github.com/scikit-learn/scikit-learn/issues/21755 */display: inline-block !important;position: relative;}#sk-container-id-14 div.sk-text-repr-fallback {display: none;}</style><div id=\"sk-container-id-14\" class=\"sk-top-container\"><div class=\"sk-text-repr-fallback\"><pre>TransformedTargetRegressor(regressor=Pipeline(steps=[(&#x27;standardize&#x27;,\n",
              "                                                      Pipeline(steps=[(&#x27;scaler&#x27;,\n",
              "                                                                       StandardScaler())])),\n",
              "                                                     (&#x27;model&#x27;,\n",
              "                                                      LinearRegression(fit_intercept=False))]),\n",
              "                           transformer=StandardScaler())</pre><b>In a Jupyter environment, please rerun this cell to show the HTML representation or trust the notebook. <br />On GitHub, the HTML representation is unable to render, please try loading this page with nbviewer.org.</b></div><div class=\"sk-container\" hidden><div class=\"sk-item sk-dashed-wrapped\"><div class=\"sk-label-container\"><div class=\"sk-label sk-toggleable\"><input class=\"sk-toggleable__control sk-hidden--visually\" id=\"sk-estimator-id-58\" type=\"checkbox\" ><label for=\"sk-estimator-id-58\" class=\"sk-toggleable__label sk-toggleable__label-arrow\">TransformedTargetRegressor</label><div class=\"sk-toggleable__content\"><pre>TransformedTargetRegressor(regressor=Pipeline(steps=[(&#x27;standardize&#x27;,\n",
              "                                                      Pipeline(steps=[(&#x27;scaler&#x27;,\n",
              "                                                                       StandardScaler())])),\n",
              "                                                     (&#x27;model&#x27;,\n",
              "                                                      LinearRegression(fit_intercept=False))]),\n",
              "                           transformer=StandardScaler())</pre></div></div></div><div class=\"sk-parallel\"><div class=\"sk-parallel-item\"><div class=\"sk-item\"><div class=\"sk-label-container\"><div class=\"sk-label sk-toggleable\"><input class=\"sk-toggleable__control sk-hidden--visually\" id=\"sk-estimator-id-59\" type=\"checkbox\" ><label for=\"sk-estimator-id-59\" class=\"sk-toggleable__label sk-toggleable__label-arrow\">regressor: Pipeline</label><div class=\"sk-toggleable__content\"><pre>Pipeline(steps=[(&#x27;standardize&#x27;, Pipeline(steps=[(&#x27;scaler&#x27;, StandardScaler())])),\n",
              "                (&#x27;model&#x27;, LinearRegression(fit_intercept=False))])</pre></div></div></div><div class=\"sk-serial\"><div class=\"sk-item\"><div class=\"sk-serial\"><div class=\"sk-item\"><div class=\"sk-label-container\"><div class=\"sk-label sk-toggleable\"><input class=\"sk-toggleable__control sk-hidden--visually\" id=\"sk-estimator-id-60\" type=\"checkbox\" ><label for=\"sk-estimator-id-60\" class=\"sk-toggleable__label sk-toggleable__label-arrow\">standardize: Pipeline</label><div class=\"sk-toggleable__content\"><pre>Pipeline(steps=[(&#x27;scaler&#x27;, StandardScaler())])</pre></div></div></div><div class=\"sk-serial\"><div class=\"sk-item\"><div class=\"sk-estimator sk-toggleable\"><input class=\"sk-toggleable__control sk-hidden--visually\" id=\"sk-estimator-id-61\" type=\"checkbox\" ><label for=\"sk-estimator-id-61\" class=\"sk-toggleable__label sk-toggleable__label-arrow\">StandardScaler</label><div class=\"sk-toggleable__content\"><pre>StandardScaler()</pre></div></div></div></div></div><div class=\"sk-item\"><div class=\"sk-estimator sk-toggleable\"><input class=\"sk-toggleable__control sk-hidden--visually\" id=\"sk-estimator-id-62\" type=\"checkbox\" ><label for=\"sk-estimator-id-62\" class=\"sk-toggleable__label sk-toggleable__label-arrow\">LinearRegression</label><div class=\"sk-toggleable__content\"><pre>LinearRegression(fit_intercept=False)</pre></div></div></div></div></div></div></div></div><div class=\"sk-parallel-item\"><div class=\"sk-item\"><div class=\"sk-label-container\"><div class=\"sk-label sk-toggleable\"><input class=\"sk-toggleable__control sk-hidden--visually\" id=\"sk-estimator-id-63\" type=\"checkbox\" ><label for=\"sk-estimator-id-63\" class=\"sk-toggleable__label sk-toggleable__label-arrow\">transformer: StandardScaler</label><div class=\"sk-toggleable__content\"><pre>StandardScaler()</pre></div></div></div><div class=\"sk-serial\"><div class=\"sk-item\"><div class=\"sk-estimator sk-toggleable\"><input class=\"sk-toggleable__control sk-hidden--visually\" id=\"sk-estimator-id-64\" type=\"checkbox\" ><label for=\"sk-estimator-id-64\" class=\"sk-toggleable__label sk-toggleable__label-arrow\">StandardScaler</label><div class=\"sk-toggleable__content\"><pre>StandardScaler()</pre></div></div></div></div></div></div></div></div></div></div>"
            ]
          },
          "metadata": {},
          "execution_count": 145
        }
      ]
    },
    {
      "cell_type": "code",
      "source": [
        "sklearn_ols_model_results_params = sklearn_ols_model.regressor_.named_steps[\"model\"].coef_\n",
        "print(f\"Shape of sklearn_ols_model_results_params: {sklearn_ols_model_results_params.shape}\")"
      ],
      "metadata": {
        "colab": {
          "base_uri": "https://localhost:8080/"
        },
        "id": "M51Ff391XlqN",
        "outputId": "499a0b26-3aca-4fd1-c65c-4425542c09c8"
      },
      "execution_count": 146,
      "outputs": [
        {
          "output_type": "stream",
          "name": "stdout",
          "text": [
            "Shape of sklearn_ols_model_results_params: (113,)\n"
          ]
        }
      ]
    },
    {
      "cell_type": "code",
      "source": [
        "## Predict on train set\n",
        "sklearn_ols_model_train_prediction = sklearn_ols_model.predict(x_train).reshape(-1, )\n",
        "print(f\"Shape of sklearn_ols_model_train_prediction: {sklearn_ols_model_train_prediction.shape}\")"
      ],
      "metadata": {
        "colab": {
          "base_uri": "https://localhost:8080/"
        },
        "id": "AuflZ4D1W4yF",
        "outputId": "c82ecc84-4727-46db-ab43-70e61d095b95"
      },
      "execution_count": 147,
      "outputs": [
        {
          "output_type": "stream",
          "name": "stdout",
          "text": [
            "Shape of sklearn_ols_model_train_prediction: (216,)\n"
          ]
        }
      ]
    },
    {
      "cell_type": "code",
      "source": [
        "## Predict on test set\n",
        "sklearn_ols_model_test_prediction = sklearn_ols_model.predict(x_test).reshape(-1, )\n",
        "print(f\"Shape of sklearn_ols_model_test_prediction: {sklearn_ols_model_test_prediction.shape}\")"
      ],
      "metadata": {
        "colab": {
          "base_uri": "https://localhost:8080/"
        },
        "id": "jmQ2MdLjW40H",
        "outputId": "12b4a530-876d-40d3-b4a0-18fc0a462681"
      },
      "execution_count": 148,
      "outputs": [
        {
          "output_type": "stream",
          "name": "stdout",
          "text": [
            "Shape of sklearn_ols_model_test_prediction: (54,)\n"
          ]
        }
      ]
    },
    {
      "cell_type": "code",
      "source": [
        "## Check if values are close using 2 approaches\n",
        "np.allclose(statsmodels_ols_model_results_params, sklearn_ols_model_results_params)"
      ],
      "metadata": {
        "colab": {
          "base_uri": "https://localhost:8080/"
        },
        "id": "kDERUvsxW42B",
        "outputId": "deed16e9-0fa9-463f-d7a1-d802d4ccf5bc"
      },
      "execution_count": 149,
      "outputs": [
        {
          "output_type": "execute_result",
          "data": {
            "text/plain": [
              "True"
            ]
          },
          "metadata": {},
          "execution_count": 149
        }
      ]
    },
    {
      "cell_type": "code",
      "source": [
        "np.allclose(y_scaler.inverse_transform(statsmodels_ols_model_train_prediction.reshape(-1, 1)).reshape(-1, ), sklearn_ols_model_train_prediction)"
      ],
      "metadata": {
        "colab": {
          "base_uri": "https://localhost:8080/"
        },
        "id": "0rbJojanW438",
        "outputId": "2e064679-317b-4b57-b060-7f21966c52f3"
      },
      "execution_count": 158,
      "outputs": [
        {
          "output_type": "execute_result",
          "data": {
            "text/plain": [
              "True"
            ]
          },
          "metadata": {},
          "execution_count": 158
        }
      ]
    },
    {
      "cell_type": "code",
      "source": [
        "np.allclose(y_scaler.inverse_transform(statsmodels_ols_model_test_prediction.reshape(-1, 1)).reshape(-1, ), sklearn_ols_model_test_prediction)"
      ],
      "metadata": {
        "colab": {
          "base_uri": "https://localhost:8080/"
        },
        "id": "rWfLEw7rW46D",
        "outputId": "72d12204-6d52-4802-acbd-103b3577eba0"
      },
      "execution_count": 159,
      "outputs": [
        {
          "output_type": "execute_result",
          "data": {
            "text/plain": [
              "True"
            ]
          },
          "metadata": {},
          "execution_count": 159
        }
      ]
    },
    {
      "cell_type": "markdown",
      "source": [
        "## This shows that the predictions for both Way1 and Way2 are same (sklearn or statsmodels)"
      ],
      "metadata": {
        "id": "So6vYthAYz8S"
      }
    },
    {
      "cell_type": "markdown",
      "source": [
        "## Step 2.1 Check how the OLS model will perform on unseen data using CV (Basically check if model is under or overfitting)"
      ],
      "metadata": {
        "id": "eCcNSb_DY_J0"
      }
    },
    {
      "cell_type": "code",
      "source": [
        "sklearn_ols_cv_scores = cross_validate(sklearn_ols_model, x_train, y_train, cv=5, scoring=('r2', 'neg_mean_squared_error'), return_train_score=True)"
      ],
      "metadata": {
        "id": "h49szlToVjPl"
      },
      "execution_count": 161,
      "outputs": []
    },
    {
      "cell_type": "code",
      "source": [
        "sklearn_ols_cv_scores"
      ],
      "metadata": {
        "colab": {
          "base_uri": "https://localhost:8080/"
        },
        "id": "_Hxv1I6vZG-_",
        "outputId": "75e20ebb-55b4-49b1-cb48-4ac16c2be8db"
      },
      "execution_count": 162,
      "outputs": [
        {
          "output_type": "execute_result",
          "data": {
            "text/plain": [
              "{'fit_time': array([0.00811911, 0.00926828, 0.00532484, 0.00516939, 0.12037563]),\n",
              " 'score_time': array([0.00147533, 0.00126743, 0.00107789, 0.00112772, 0.00152493]),\n",
              " 'test_r2': array([ 0.2928094 , -0.29596513, -0.04464911, -0.35850734,  0.02348783]),\n",
              " 'train_r2': array([0.89491606, 0.90161087, 0.91569828, 0.90356863, 0.89363159]),\n",
              " 'test_neg_mean_squared_error': array([-0.13319731, -0.25449225, -0.14856253, -0.17378526, -0.15944091]),\n",
              " 'train_neg_mean_squared_error': array([-0.01682528, -0.01572579, -0.01447745, -0.01696388, -0.01775269])}"
            ]
          },
          "metadata": {},
          "execution_count": 162
        }
      ]
    },
    {
      "cell_type": "code",
      "source": [
        "sklearn_ols_bias_score_based_on_r2 = np.mean(sklearn_ols_cv_scores[\"train_r2\"])\n",
        "sklearn_ols_bias_score_based_on_neg_mean_squared_error = np.mean(sklearn_ols_cv_scores[\"train_neg_mean_squared_error\"])\n",
        "print(f\"sklearn_ols_bias_score_based_on_r2: {sklearn_ols_bias_score_based_on_r2}\")\n",
        "print(f\"sklearn_ols_bias_score_based_on_neg_mean_squared_error: {sklearn_ols_bias_score_based_on_neg_mean_squared_error}\")"
      ],
      "metadata": {
        "colab": {
          "base_uri": "https://localhost:8080/"
        },
        "id": "cuZIt9RfZHBE",
        "outputId": "92926260-a235-411d-f831-e2a031bb1451"
      },
      "execution_count": 165,
      "outputs": [
        {
          "output_type": "stream",
          "name": "stdout",
          "text": [
            "sklearn_ols_bias_score_based_on_r2: 0.9018850880030043\n",
            "sklearn_ols_bias_score_based_on_neg_mean_squared_error: -0.016349015974874873\n"
          ]
        }
      ]
    },
    {
      "cell_type": "code",
      "source": [
        "sklearn_ols_variance_score_based_on_r2 = np.mean(100*(sklearn_ols_cv_scores[\"test_r2\"] - sklearn_ols_cv_scores[\"train_r2\"])/sklearn_ols_cv_scores[\"train_r2\"])\n",
        "print(f\"sklearn_ols_variance_score_based_on_r2: {sklearn_ols_variance_score_based_on_r2}%\")"
      ],
      "metadata": {
        "colab": {
          "base_uri": "https://localhost:8080/"
        },
        "id": "ejKd55K4kdOJ",
        "outputId": "7365173a-0be7-414b-fe07-f6f801ffd842"
      },
      "execution_count": 215,
      "outputs": [
        {
          "output_type": "stream",
          "name": "stdout",
          "text": [
            "sklearn_ols_variance_score_based_on_r2: -108.40629754932186%\n"
          ]
        }
      ]
    },
    {
      "cell_type": "code",
      "source": [
        "sklearn_ols_variance_score_based_on_neg_mean_squared_error = np.mean(100*(sklearn_ols_cv_scores[\"test_neg_mean_squared_error\"] - sklearn_ols_cv_scores[\"train_neg_mean_squared_error\"])/sklearn_ols_cv_scores[\"train_neg_mean_squared_error\"])\n",
        "print(f\"sklearn_ols_variance_score_based_on_neg_mean_squared_error: {sklearn_ols_variance_score_based_on_neg_mean_squared_error}%\")"
      ],
      "metadata": {
        "colab": {
          "base_uri": "https://localhost:8080/"
        },
        "id": "wFNxXOoRk54U",
        "outputId": "d0426709-e5a2-4996-ee4a-d73c727f5122"
      },
      "execution_count": 216,
      "outputs": [
        {
          "output_type": "stream",
          "name": "stdout",
          "text": [
            "sklearn_ols_variance_score_based_on_neg_mean_squared_error: 971.7384765905368%\n"
          ]
        }
      ]
    },
    {
      "cell_type": "markdown",
      "source": [
        "## Check https://machinelearningcompass.com/model_optimization/bias_and_variance/ to see how to quantify variance"
      ],
      "metadata": {
        "id": "Hfvu6Ibzlplg"
      }
    },
    {
      "cell_type": "code",
      "source": [
        "# sklearn_ols_variance_score_based_on_r2 = np.sqrt(np.mean((sklearn_ols_cv_scores[\"train_r2\"] - sklearn_ols_cv_scores[\"test_r2\"])**2))\n",
        "# print(f\"sklearn_ols_variance_score_based_on_r2: {sklearn_ols_variance_score_based_on_r2}\")\n",
        "# np.sqrt(mean_squared_error(sklearn_ols_cv_scores[\"train_r2\"], sklearn_ols_cv_scores[\"test_r2\"]))"
      ],
      "metadata": {
        "id": "j-w6fqDGZHDM"
      },
      "execution_count": 210,
      "outputs": []
    },
    {
      "cell_type": "code",
      "source": [
        "# sklearn_ols_variance_score_based_on_neg_mean_squared_error = np.sqrt(np.mean((sklearn_ols_cv_scores[\"train_neg_mean_squared_error\"] - sklearn_ols_cv_scores[\"test_neg_mean_squared_error\"])**2))\n",
        "# print(f\"sklearn_ols_variance_score_based_on_neg_mean_squared_error: {sklearn_ols_variance_score_based_on_neg_mean_squared_error}\")\n",
        "# np.sqrt(mean_squared_error(sklearn_ols_cv_scores[\"train_neg_mean_squared_error\"], sklearn_ols_cv_scores[\"test_neg_mean_squared_error\"]))"
      ],
      "metadata": {
        "id": "aawpuLNyZHJe"
      },
      "execution_count": 214,
      "outputs": []
    },
    {
      "cell_type": "markdown",
      "source": [
        "## This shows that the model has very low bias. Also, model has very high variance. This shows model overfits a lot!!"
      ],
      "metadata": {
        "id": "2sB3ub2cbT-w"
      }
    },
    {
      "cell_type": "code",
      "source": [
        "print(f\"Expected train set r2: {np.mean(sklearn_ols_cv_scores['train_r2'])}\")\n",
        "print(f\"Expected test set r2: {np.mean(sklearn_ols_cv_scores['test_r2'])}\")\n",
        "\n",
        "print(f\"Expected train set mse: {np.abs(np.mean(sklearn_ols_cv_scores['train_neg_mean_squared_error']))}\")\n",
        "print(f\"Expected test set mse: {np.abs(np.mean(sklearn_ols_cv_scores['test_neg_mean_squared_error']))}\")"
      ],
      "metadata": {
        "colab": {
          "base_uri": "https://localhost:8080/"
        },
        "id": "RuP5zLK_fElJ",
        "outputId": "62c2abe5-83b3-446b-f23d-e17c441775f5"
      },
      "execution_count": 192,
      "outputs": [
        {
          "output_type": "stream",
          "name": "stdout",
          "text": [
            "Expected train set r2: 0.9018850880030043\n",
            "Expected test set r2: -0.07656486993768477\n",
            "Expected train set mse: 0.016349015974874873\n",
            "Expected test set mse: 0.17389565347384223\n"
          ]
        }
      ]
    },
    {
      "cell_type": "code",
      "source": [
        "print(f\"Actual train set r2: {r2_score(y_train, sklearn_ols_model_train_prediction)}\")\n",
        "print(f\"Actual train set mse: {mean_squared_error(y_train, sklearn_ols_model_train_prediction)}\")"
      ],
      "metadata": {
        "colab": {
          "base_uri": "https://localhost:8080/"
        },
        "id": "f74pcpXsjl6x",
        "outputId": "4a9a3ef2-7029-4605-a94d-8fce5700d5ff"
      },
      "execution_count": 206,
      "outputs": [
        {
          "output_type": "stream",
          "name": "stdout",
          "text": [
            "Actual train set r2: 0.8637173797873098\n",
            "Actual train set mse: 0.02277531779280668\n"
          ]
        }
      ]
    },
    {
      "cell_type": "code",
      "source": [
        "print(f\"Actual test set r2: {r2_score(y_test, sklearn_ols_model_test_prediction)}\")\n",
        "print(f\"Actual test set mse: {mean_squared_error(y_test, sklearn_ols_model_test_prediction)}\")"
      ],
      "metadata": {
        "colab": {
          "base_uri": "https://localhost:8080/"
        },
        "id": "GgUzV4OdfcT8",
        "outputId": "a020bc1e-be6e-4115-93d9-585caecfec38"
      },
      "execution_count": 193,
      "outputs": [
        {
          "output_type": "stream",
          "name": "stdout",
          "text": [
            "Actual test set r2: 0.374929696536931\n",
            "Actual test set mse: 0.15434360319929916\n"
          ]
        }
      ]
    },
    {
      "cell_type": "markdown",
      "source": [
        "## Step 2.2 Another way to see overfitting is to calculate predicted R2 (ONLY FOR LINEAR REGRESSION!!)\n",
        "- https://statisticsbyjim.com/regression/overfitting-regression-models/\n",
        "- https://statisticsbyjim.com/regression/interpret-adjusted-r-squared-predicted-r-squared-regression/\n",
        "- https://stats.stackexchange.com/questions/592653/how-to-get-predicted-r-square-from-statmodels"
      ],
      "metadata": {
        "id": "B_fTgiERg1NK"
      }
    },
    {
      "cell_type": "code",
      "source": [
        "sklean_ols_predicted_r2 = get_r2_predicted(x_train, y_train, TransformedTargetRegressor(regressor=sklearn_ols_pipeline, transformer=StandardScaler(with_mean=True, with_std=True)))\n",
        "print(f\"sklean_ols_predicted_r2: {sklean_ols_predicted_r2}\")"
      ],
      "metadata": {
        "colab": {
          "base_uri": "https://localhost:8080/"
        },
        "id": "yZdLAJzefkiN",
        "outputId": "5551bb6b-3339-406a-d232-86b6da47d833"
      },
      "execution_count": 235,
      "outputs": [
        {
          "output_type": "stream",
          "name": "stdout",
          "text": [
            "sklean_ols_predicted_r2: 0.3696968808415816\n"
          ]
        }
      ]
    },
    {
      "cell_type": "code",
      "source": [
        "print(f\"Difference between R2 and predicted R2: {r2_score(y_train, sklearn_ols_model_train_prediction) - sklean_ols_predicted_r2}\")"
      ],
      "metadata": {
        "colab": {
          "base_uri": "https://localhost:8080/"
        },
        "id": "UVMKQmkUpSI0",
        "outputId": "1cf3745c-2e3c-4a24-c20c-3c7ee7868737"
      },
      "execution_count": 236,
      "outputs": [
        {
          "output_type": "stream",
          "name": "stdout",
          "text": [
            "Difference between R2 and predicted R2: 0.4940204989457282\n"
          ]
        }
      ]
    },
    {
      "cell_type": "markdown",
      "source": [
        "## Since there is a large discrepancy between R2 and predicted R2 => MODEL OVERFITS!!!!"
      ],
      "metadata": {
        "id": "MuEjtNplpP9Q"
      }
    },
    {
      "cell_type": "markdown",
      "source": [
        "## Step 3: Train Ridge on train data directly (on standardized version)"
      ],
      "metadata": {
        "id": "eU0D1emcpxiD"
      }
    },
    {
      "cell_type": "markdown",
      "source": [
        "### Way 1: Train using self implementation (Note: statsmodels implements different loss function. Hence results cannot be compared directly with sklearn)"
      ],
      "metadata": {
        "id": "M3-cZUdmqCNN"
      }
    },
    {
      "cell_type": "code",
      "source": [
        "lambda_val = 30"
      ],
      "metadata": {
        "id": "3HWch4E6fkkc"
      },
      "execution_count": 262,
      "outputs": []
    },
    {
      "cell_type": "code",
      "source": [
        "self_model_inverse_part = inv(np.dot(x_train_scaled.transpose(), x_train_scaled) + lambda_val*np.eye(x_train_scaled.shape[1]))"
      ],
      "metadata": {
        "id": "DiT21rUGVjRq"
      },
      "execution_count": 263,
      "outputs": []
    },
    {
      "cell_type": "code",
      "source": [
        "self_model_beta_ridge_coefficients = np.dot(self_model_inverse_part, np.dot(x_train_scaled.transpose(), y_train_scaled))"
      ],
      "metadata": {
        "id": "E-6619xwVjTm"
      },
      "execution_count": 264,
      "outputs": []
    },
    {
      "cell_type": "code",
      "source": [
        "## Predict on train set\n",
        "self_ridge_model_train_prediction = np.dot(x_train_scaled, self_model_beta_ridge_coefficients)\n",
        "print(f\"Shape of self_ridge_model_train_prediction: {self_ridge_model_train_prediction.shape}\")"
      ],
      "metadata": {
        "colab": {
          "base_uri": "https://localhost:8080/"
        },
        "id": "FJUQq-eApuJS",
        "outputId": "8bf50667-5613-49d9-fab4-926ae0028e5d"
      },
      "execution_count": 265,
      "outputs": [
        {
          "output_type": "stream",
          "name": "stdout",
          "text": [
            "Shape of self_ridge_model_train_prediction: (216, 1)\n"
          ]
        }
      ]
    },
    {
      "cell_type": "code",
      "source": [
        "## Predict on test set\n",
        "self_ridge_model_test_prediction = np.dot(x_test_scaled, self_model_beta_ridge_coefficients)\n",
        "print(f\"Shape of self_ridge_model_test_prediction: {self_ridge_model_test_prediction.shape}\")"
      ],
      "metadata": {
        "colab": {
          "base_uri": "https://localhost:8080/"
        },
        "id": "aCZCInKRpuLl",
        "outputId": "8a1d8a34-6319-42fa-96a5-58ad84951aef"
      },
      "execution_count": 266,
      "outputs": [
        {
          "output_type": "stream",
          "name": "stdout",
          "text": [
            "Shape of self_ridge_model_test_prediction: (54, 1)\n"
          ]
        }
      ]
    },
    {
      "cell_type": "markdown",
      "source": [
        "### Way 2: Train using sklearn pipeline"
      ],
      "metadata": {
        "id": "sN7BM-f_rh0O"
      }
    },
    {
      "cell_type": "code",
      "source": [
        "sklearn_ridge_standardize_pipeline = Pipeline([('scaler', StandardScaler(with_mean=True, with_std=True))])\n",
        "sklearn_ridge_pipeline = Pipeline(steps=[('standardize', sklearn_ridge_standardize_pipeline), ('model',linear_model.Ridge(alpha=lambda_val, fit_intercept=False))])\n",
        "sklearn_ridge_model = TransformedTargetRegressor(regressor=sklearn_ridge_pipeline, transformer=StandardScaler(with_mean=True, with_std=True))"
      ],
      "metadata": {
        "id": "LH-PD_2_puNi"
      },
      "execution_count": 267,
      "outputs": []
    },
    {
      "cell_type": "code",
      "source": [
        "sklearn_ridge_model.fit(x_train, y_train)"
      ],
      "metadata": {
        "colab": {
          "base_uri": "https://localhost:8080/",
          "height": 178
        },
        "id": "EreK_OvrpuPk",
        "outputId": "4eceed52-d4cd-41f6-810a-1d634e7da27c"
      },
      "execution_count": 268,
      "outputs": [
        {
          "output_type": "execute_result",
          "data": {
            "text/plain": [
              "TransformedTargetRegressor(regressor=Pipeline(steps=[('standardize',\n",
              "                                                      Pipeline(steps=[('scaler',\n",
              "                                                                       StandardScaler())])),\n",
              "                                                     ('model',\n",
              "                                                      Ridge(alpha=30,\n",
              "                                                            fit_intercept=False))]),\n",
              "                           transformer=StandardScaler())"
            ],
            "text/html": [
              "<style>#sk-container-id-16 {color: black;}#sk-container-id-16 pre{padding: 0;}#sk-container-id-16 div.sk-toggleable {background-color: white;}#sk-container-id-16 label.sk-toggleable__label {cursor: pointer;display: block;width: 100%;margin-bottom: 0;padding: 0.3em;box-sizing: border-box;text-align: center;}#sk-container-id-16 label.sk-toggleable__label-arrow:before {content: \"▸\";float: left;margin-right: 0.25em;color: #696969;}#sk-container-id-16 label.sk-toggleable__label-arrow:hover:before {color: black;}#sk-container-id-16 div.sk-estimator:hover label.sk-toggleable__label-arrow:before {color: black;}#sk-container-id-16 div.sk-toggleable__content {max-height: 0;max-width: 0;overflow: hidden;text-align: left;background-color: #f0f8ff;}#sk-container-id-16 div.sk-toggleable__content pre {margin: 0.2em;color: black;border-radius: 0.25em;background-color: #f0f8ff;}#sk-container-id-16 input.sk-toggleable__control:checked~div.sk-toggleable__content {max-height: 200px;max-width: 100%;overflow: auto;}#sk-container-id-16 input.sk-toggleable__control:checked~label.sk-toggleable__label-arrow:before {content: \"▾\";}#sk-container-id-16 div.sk-estimator input.sk-toggleable__control:checked~label.sk-toggleable__label {background-color: #d4ebff;}#sk-container-id-16 div.sk-label input.sk-toggleable__control:checked~label.sk-toggleable__label {background-color: #d4ebff;}#sk-container-id-16 input.sk-hidden--visually {border: 0;clip: rect(1px 1px 1px 1px);clip: rect(1px, 1px, 1px, 1px);height: 1px;margin: -1px;overflow: hidden;padding: 0;position: absolute;width: 1px;}#sk-container-id-16 div.sk-estimator {font-family: monospace;background-color: #f0f8ff;border: 1px dotted black;border-radius: 0.25em;box-sizing: border-box;margin-bottom: 0.5em;}#sk-container-id-16 div.sk-estimator:hover {background-color: #d4ebff;}#sk-container-id-16 div.sk-parallel-item::after {content: \"\";width: 100%;border-bottom: 1px solid gray;flex-grow: 1;}#sk-container-id-16 div.sk-label:hover label.sk-toggleable__label {background-color: #d4ebff;}#sk-container-id-16 div.sk-serial::before {content: \"\";position: absolute;border-left: 1px solid gray;box-sizing: border-box;top: 0;bottom: 0;left: 50%;z-index: 0;}#sk-container-id-16 div.sk-serial {display: flex;flex-direction: column;align-items: center;background-color: white;padding-right: 0.2em;padding-left: 0.2em;position: relative;}#sk-container-id-16 div.sk-item {position: relative;z-index: 1;}#sk-container-id-16 div.sk-parallel {display: flex;align-items: stretch;justify-content: center;background-color: white;position: relative;}#sk-container-id-16 div.sk-item::before, #sk-container-id-16 div.sk-parallel-item::before {content: \"\";position: absolute;border-left: 1px solid gray;box-sizing: border-box;top: 0;bottom: 0;left: 50%;z-index: -1;}#sk-container-id-16 div.sk-parallel-item {display: flex;flex-direction: column;z-index: 1;position: relative;background-color: white;}#sk-container-id-16 div.sk-parallel-item:first-child::after {align-self: flex-end;width: 50%;}#sk-container-id-16 div.sk-parallel-item:last-child::after {align-self: flex-start;width: 50%;}#sk-container-id-16 div.sk-parallel-item:only-child::after {width: 0;}#sk-container-id-16 div.sk-dashed-wrapped {border: 1px dashed gray;margin: 0 0.4em 0.5em 0.4em;box-sizing: border-box;padding-bottom: 0.4em;background-color: white;}#sk-container-id-16 div.sk-label label {font-family: monospace;font-weight: bold;display: inline-block;line-height: 1.2em;}#sk-container-id-16 div.sk-label-container {text-align: center;}#sk-container-id-16 div.sk-container {/* jupyter's `normalize.less` sets `[hidden] { display: none; }` but bootstrap.min.css set `[hidden] { display: none !important; }` so we also need the `!important` here to be able to override the default hidden behavior on the sphinx rendered scikit-learn.org. See: https://github.com/scikit-learn/scikit-learn/issues/21755 */display: inline-block !important;position: relative;}#sk-container-id-16 div.sk-text-repr-fallback {display: none;}</style><div id=\"sk-container-id-16\" class=\"sk-top-container\"><div class=\"sk-text-repr-fallback\"><pre>TransformedTargetRegressor(regressor=Pipeline(steps=[(&#x27;standardize&#x27;,\n",
              "                                                      Pipeline(steps=[(&#x27;scaler&#x27;,\n",
              "                                                                       StandardScaler())])),\n",
              "                                                     (&#x27;model&#x27;,\n",
              "                                                      Ridge(alpha=30,\n",
              "                                                            fit_intercept=False))]),\n",
              "                           transformer=StandardScaler())</pre><b>In a Jupyter environment, please rerun this cell to show the HTML representation or trust the notebook. <br />On GitHub, the HTML representation is unable to render, please try loading this page with nbviewer.org.</b></div><div class=\"sk-container\" hidden><div class=\"sk-item sk-dashed-wrapped\"><div class=\"sk-label-container\"><div class=\"sk-label sk-toggleable\"><input class=\"sk-toggleable__control sk-hidden--visually\" id=\"sk-estimator-id-72\" type=\"checkbox\" ><label for=\"sk-estimator-id-72\" class=\"sk-toggleable__label sk-toggleable__label-arrow\">TransformedTargetRegressor</label><div class=\"sk-toggleable__content\"><pre>TransformedTargetRegressor(regressor=Pipeline(steps=[(&#x27;standardize&#x27;,\n",
              "                                                      Pipeline(steps=[(&#x27;scaler&#x27;,\n",
              "                                                                       StandardScaler())])),\n",
              "                                                     (&#x27;model&#x27;,\n",
              "                                                      Ridge(alpha=30,\n",
              "                                                            fit_intercept=False))]),\n",
              "                           transformer=StandardScaler())</pre></div></div></div><div class=\"sk-parallel\"><div class=\"sk-parallel-item\"><div class=\"sk-item\"><div class=\"sk-label-container\"><div class=\"sk-label sk-toggleable\"><input class=\"sk-toggleable__control sk-hidden--visually\" id=\"sk-estimator-id-73\" type=\"checkbox\" ><label for=\"sk-estimator-id-73\" class=\"sk-toggleable__label sk-toggleable__label-arrow\">regressor: Pipeline</label><div class=\"sk-toggleable__content\"><pre>Pipeline(steps=[(&#x27;standardize&#x27;, Pipeline(steps=[(&#x27;scaler&#x27;, StandardScaler())])),\n",
              "                (&#x27;model&#x27;, Ridge(alpha=30, fit_intercept=False))])</pre></div></div></div><div class=\"sk-serial\"><div class=\"sk-item\"><div class=\"sk-serial\"><div class=\"sk-item\"><div class=\"sk-label-container\"><div class=\"sk-label sk-toggleable\"><input class=\"sk-toggleable__control sk-hidden--visually\" id=\"sk-estimator-id-74\" type=\"checkbox\" ><label for=\"sk-estimator-id-74\" class=\"sk-toggleable__label sk-toggleable__label-arrow\">standardize: Pipeline</label><div class=\"sk-toggleable__content\"><pre>Pipeline(steps=[(&#x27;scaler&#x27;, StandardScaler())])</pre></div></div></div><div class=\"sk-serial\"><div class=\"sk-item\"><div class=\"sk-estimator sk-toggleable\"><input class=\"sk-toggleable__control sk-hidden--visually\" id=\"sk-estimator-id-75\" type=\"checkbox\" ><label for=\"sk-estimator-id-75\" class=\"sk-toggleable__label sk-toggleable__label-arrow\">StandardScaler</label><div class=\"sk-toggleable__content\"><pre>StandardScaler()</pre></div></div></div></div></div><div class=\"sk-item\"><div class=\"sk-estimator sk-toggleable\"><input class=\"sk-toggleable__control sk-hidden--visually\" id=\"sk-estimator-id-76\" type=\"checkbox\" ><label for=\"sk-estimator-id-76\" class=\"sk-toggleable__label sk-toggleable__label-arrow\">Ridge</label><div class=\"sk-toggleable__content\"><pre>Ridge(alpha=30, fit_intercept=False)</pre></div></div></div></div></div></div></div></div><div class=\"sk-parallel-item\"><div class=\"sk-item\"><div class=\"sk-label-container\"><div class=\"sk-label sk-toggleable\"><input class=\"sk-toggleable__control sk-hidden--visually\" id=\"sk-estimator-id-77\" type=\"checkbox\" ><label for=\"sk-estimator-id-77\" class=\"sk-toggleable__label sk-toggleable__label-arrow\">transformer: StandardScaler</label><div class=\"sk-toggleable__content\"><pre>StandardScaler()</pre></div></div></div><div class=\"sk-serial\"><div class=\"sk-item\"><div class=\"sk-estimator sk-toggleable\"><input class=\"sk-toggleable__control sk-hidden--visually\" id=\"sk-estimator-id-78\" type=\"checkbox\" ><label for=\"sk-estimator-id-78\" class=\"sk-toggleable__label sk-toggleable__label-arrow\">StandardScaler</label><div class=\"sk-toggleable__content\"><pre>StandardScaler()</pre></div></div></div></div></div></div></div></div></div></div>"
            ]
          },
          "metadata": {},
          "execution_count": 268
        }
      ]
    },
    {
      "cell_type": "code",
      "source": [
        "sklearn_ridge_model_results_params = sklearn_ridge_model.regressor_.named_steps[\"model\"].coef_\n",
        "print(f\"Shape of sklearn_ridge_model_results_params: {sklearn_ridge_model_results_params.shape}\")"
      ],
      "metadata": {
        "colab": {
          "base_uri": "https://localhost:8080/"
        },
        "id": "ax-smneZpuRs",
        "outputId": "808876e6-ee35-4a82-c363-2790088e4976"
      },
      "execution_count": 269,
      "outputs": [
        {
          "output_type": "stream",
          "name": "stdout",
          "text": [
            "Shape of sklearn_ridge_model_results_params: (113,)\n"
          ]
        }
      ]
    },
    {
      "cell_type": "code",
      "source": [
        "## Predict on train set\n",
        "sklearn_ridge_model_train_prediction = sklearn_ridge_model.predict(x_train).reshape(-1, )\n",
        "print(f\"Shape of sklearn_ridge_model_train_prediction: {sklearn_ridge_model_train_prediction.shape}\")"
      ],
      "metadata": {
        "colab": {
          "base_uri": "https://localhost:8080/"
        },
        "id": "RdEgg6DRpuUC",
        "outputId": "660e5639-73d6-4829-c11b-710fac16fbf1"
      },
      "execution_count": 270,
      "outputs": [
        {
          "output_type": "stream",
          "name": "stdout",
          "text": [
            "Shape of sklearn_ridge_model_train_prediction: (216,)\n"
          ]
        }
      ]
    },
    {
      "cell_type": "code",
      "source": [
        "## Predict on test set\n",
        "sklearn_ridge_model_test_prediction = sklearn_ridge_model.predict(x_test).reshape(-1, )\n",
        "print(f\"Shape of sklearn_ridge_model_test_prediction: {sklearn_ridge_model_test_prediction.shape}\")"
      ],
      "metadata": {
        "colab": {
          "base_uri": "https://localhost:8080/"
        },
        "id": "kRQLMNq2puWH",
        "outputId": "d0c73080-e82d-4a78-fa5f-c95e33299213"
      },
      "execution_count": 271,
      "outputs": [
        {
          "output_type": "stream",
          "name": "stdout",
          "text": [
            "Shape of sklearn_ridge_model_test_prediction: (54,)\n"
          ]
        }
      ]
    },
    {
      "cell_type": "code",
      "source": [
        "## Check if values are close using 2 approaches\n",
        "np.allclose(self_model_beta_ridge_coefficients.reshape(-1, ), sklearn_ridge_model_results_params)"
      ],
      "metadata": {
        "colab": {
          "base_uri": "https://localhost:8080/"
        },
        "id": "r5qSuS6opuYT",
        "outputId": "c1b6082e-4bbe-44b1-889b-4a70f6f585f7"
      },
      "execution_count": 272,
      "outputs": [
        {
          "output_type": "execute_result",
          "data": {
            "text/plain": [
              "True"
            ]
          },
          "metadata": {},
          "execution_count": 272
        }
      ]
    },
    {
      "cell_type": "code",
      "source": [
        "np.allclose(y_scaler.inverse_transform(self_ridge_model_train_prediction.reshape(-1, 1)).reshape(-1, ), sklearn_ridge_model_train_prediction)"
      ],
      "metadata": {
        "colab": {
          "base_uri": "https://localhost:8080/"
        },
        "id": "YJgEFm9JpuaT",
        "outputId": "09eee3a5-9039-4572-b7a7-d29e27c6dca8"
      },
      "execution_count": 273,
      "outputs": [
        {
          "output_type": "execute_result",
          "data": {
            "text/plain": [
              "True"
            ]
          },
          "metadata": {},
          "execution_count": 273
        }
      ]
    },
    {
      "cell_type": "code",
      "source": [
        "np.allclose(y_scaler.inverse_transform(self_ridge_model_test_prediction.reshape(-1, 1)).reshape(-1, ), sklearn_ridge_model_test_prediction)"
      ],
      "metadata": {
        "colab": {
          "base_uri": "https://localhost:8080/"
        },
        "id": "7Ciy1mEopucc",
        "outputId": "f6344682-0bf1-4e0f-cefa-42f53ad8151a"
      },
      "execution_count": 274,
      "outputs": [
        {
          "output_type": "execute_result",
          "data": {
            "text/plain": [
              "True"
            ]
          },
          "metadata": {},
          "execution_count": 274
        }
      ]
    },
    {
      "cell_type": "markdown",
      "source": [
        "## This shows that the predictions for both Way1 and Way2 are same (self model or statsmodels)"
      ],
      "metadata": {
        "id": "voKqSCeFstCv"
      }
    },
    {
      "cell_type": "markdown",
      "source": [
        "## Step 3.1 Use CV to see if model overfits. This specific model with lambda = lambda_val"
      ],
      "metadata": {
        "id": "AfRCRe0Zs38o"
      }
    },
    {
      "cell_type": "code",
      "source": [
        "sklearn_ridge_cv_scores = cross_validate(sklearn_ridge_model, x_train, y_train, cv=5, scoring=('r2', 'neg_mean_squared_error'), return_train_score=True)"
      ],
      "metadata": {
        "id": "5hkaCfPls8Zv"
      },
      "execution_count": 275,
      "outputs": []
    },
    {
      "cell_type": "code",
      "source": [
        "sklearn_ridge_cv_scores"
      ],
      "metadata": {
        "colab": {
          "base_uri": "https://localhost:8080/"
        },
        "id": "a5Xqr99ps8cC",
        "outputId": "dc0b98b1-c290-46af-9a78-54a44bbcb99f"
      },
      "execution_count": 276,
      "outputs": [
        {
          "output_type": "execute_result",
          "data": {
            "text/plain": [
              "{'fit_time': array([0.00795889, 0.00591874, 0.00620127, 0.00465298, 0.00595355]),\n",
              " 'score_time': array([0.00131679, 0.0012455 , 0.00184774, 0.00125003, 0.00140047]),\n",
              " 'test_r2': array([0.52524276, 0.2937116 , 0.24282193, 0.58453916, 0.54975049]),\n",
              " 'train_r2': array([0.86642478, 0.87156885, 0.89236223, 0.85605022, 0.85902678]),\n",
              " 'test_neg_mean_squared_error': array([-0.08941916, -0.1386958 , -0.10768046, -0.05314728, -0.0735149 ]),\n",
              " 'train_neg_mean_squared_error': array([-0.02138709, -0.02052748, -0.01848503, -0.02532316, -0.02352817])}"
            ]
          },
          "metadata": {},
          "execution_count": 276
        }
      ]
    },
    {
      "cell_type": "code",
      "source": [
        "sklearn_ridge_bias_score_based_on_r2 = np.mean(sklearn_ridge_cv_scores[\"train_r2\"])\n",
        "sklearn_ridge_bias_score_based_on_neg_mean_squared_error = np.mean(sklearn_ridge_cv_scores[\"train_neg_mean_squared_error\"])\n",
        "print(f\"sklearn_ridge_bias_score_based_on_r2: {sklearn_ridge_bias_score_based_on_r2}\")\n",
        "print(f\"sklearn_ridge_bias_score_based_on_neg_mean_squared_error: {sklearn_ridge_bias_score_based_on_neg_mean_squared_error}\")"
      ],
      "metadata": {
        "colab": {
          "base_uri": "https://localhost:8080/"
        },
        "id": "VjT88Cips8eH",
        "outputId": "e03fc372-dd61-4fd4-c0a0-236e0d6a5d53"
      },
      "execution_count": 277,
      "outputs": [
        {
          "output_type": "stream",
          "name": "stdout",
          "text": [
            "sklearn_ridge_bias_score_based_on_r2: 0.8690865690656169\n",
            "sklearn_ridge_bias_score_based_on_neg_mean_squared_error: -0.02185018728733839\n"
          ]
        }
      ]
    },
    {
      "cell_type": "code",
      "source": [
        "sklearn_ridge_variance_score_based_on_r2 = np.mean(100*(sklearn_ridge_cv_scores[\"test_r2\"] - sklearn_ridge_cv_scores[\"train_r2\"])/sklearn_ridge_cv_scores[\"train_r2\"])\n",
        "print(f\"sklearn_ridge_variance_score_based_on_r2: {sklearn_ridge_variance_score_based_on_r2}%\")"
      ],
      "metadata": {
        "colab": {
          "base_uri": "https://localhost:8080/"
        },
        "id": "YpZiw8gOpuey",
        "outputId": "0345fe34-9191-4482-955a-0472235f383f"
      },
      "execution_count": 278,
      "outputs": [
        {
          "output_type": "stream",
          "name": "stdout",
          "text": [
            "sklearn_ridge_variance_score_based_on_r2: -49.23752912207975%\n"
          ]
        }
      ]
    },
    {
      "cell_type": "code",
      "source": [
        "sklearn_ridge_variance_score_based_on_neg_mean_squared_error = np.mean(100*(sklearn_ridge_cv_scores[\"test_neg_mean_squared_error\"] - sklearn_ridge_cv_scores[\"train_neg_mean_squared_error\"])/sklearn_ridge_cv_scores[\"train_neg_mean_squared_error\"])\n",
        "print(f\"sklearn_ridge_variance_score_based_on_neg_mean_squared_error: {sklearn_ridge_variance_score_based_on_neg_mean_squared_error}%\")"
      ],
      "metadata": {
        "colab": {
          "base_uri": "https://localhost:8080/"
        },
        "id": "A29hRVlapug9",
        "outputId": "065e61b0-1c67-4e4d-d25a-a6870249f135"
      },
      "execution_count": 279,
      "outputs": [
        {
          "output_type": "stream",
          "name": "stdout",
          "text": [
            "sklearn_ridge_variance_score_based_on_neg_mean_squared_error: 339.72331464808263%\n"
          ]
        }
      ]
    },
    {
      "cell_type": "markdown",
      "source": [
        "## It is very clear that as lamba increase bias increases and variance decreases. Hence model is getting regularized/ less overfitting!!!"
      ],
      "metadata": {
        "id": "h0gOiqpQuDC-"
      }
    },
    {
      "cell_type": "code",
      "source": [
        "print(f\"Expected train set r2: {np.mean(sklearn_ridge_cv_scores['train_r2'])}\")\n",
        "print(f\"Expected test set r2: {np.mean(sklearn_ridge_cv_scores['test_r2'])}\")\n",
        "\n",
        "print(f\"Expected train set mse: {np.abs(np.mean(sklearn_ridge_cv_scores['train_neg_mean_squared_error']))}\")\n",
        "print(f\"Expected test set mse: {np.abs(np.mean(sklearn_ridge_cv_scores['test_neg_mean_squared_error']))}\")"
      ],
      "metadata": {
        "colab": {
          "base_uri": "https://localhost:8080/"
        },
        "id": "X8kv_KGrpujQ",
        "outputId": "f2558548-e319-4a2a-bcec-7414a075e9b2"
      },
      "execution_count": 280,
      "outputs": [
        {
          "output_type": "stream",
          "name": "stdout",
          "text": [
            "Expected train set r2: 0.8690865690656169\n",
            "Expected test set r2: 0.4392131859213057\n",
            "Expected train set mse: 0.02185018728733839\n",
            "Expected test set mse: 0.09249151940370359\n"
          ]
        }
      ]
    },
    {
      "cell_type": "code",
      "source": [
        "print(f\"Actual train set r2: {r2_score(y_train, sklearn_ridge_model_train_prediction)}\")\n",
        "print(f\"Actual train set mse: {mean_squared_error(y_train, sklearn_ridge_model_train_prediction)}\")"
      ],
      "metadata": {
        "colab": {
          "base_uri": "https://localhost:8080/"
        },
        "id": "yAV_0P25pulN",
        "outputId": "97687901-76a3-433e-a0d7-dd6cba66c94a"
      },
      "execution_count": 281,
      "outputs": [
        {
          "output_type": "stream",
          "name": "stdout",
          "text": [
            "Actual train set r2: 0.8440643226287541\n",
            "Actual train set mse: 0.02605970300412522\n"
          ]
        }
      ]
    },
    {
      "cell_type": "code",
      "source": [
        "print(f\"Actual test set r2: {r2_score(y_test, sklearn_ridge_model_test_prediction)}\")\n",
        "print(f\"Actual test set mse: {mean_squared_error(y_test, sklearn_ridge_model_test_prediction)}\")"
      ],
      "metadata": {
        "colab": {
          "base_uri": "https://localhost:8080/"
        },
        "id": "K3dgDmevpung",
        "outputId": "c74575b2-714c-4eb1-9c0a-ae0cc30f9038"
      },
      "execution_count": 283,
      "outputs": [
        {
          "output_type": "stream",
          "name": "stdout",
          "text": [
            "Actual test set r2: 0.5088587873149075\n",
            "Actual test set mse: 0.12127356559016127\n"
          ]
        }
      ]
    },
    {
      "cell_type": "markdown",
      "source": [
        "## Actual test set performance is now closer to what is expected from CV !!!"
      ],
      "metadata": {
        "id": "RCyyxZpguyCM"
      }
    },
    {
      "cell_type": "markdown",
      "source": [
        "## Step 3.2 Another way to see overfitting is to calculate predicted R2 (ONLY FOR LINEAR REGRESSION!!)"
      ],
      "metadata": {
        "id": "oKqIhOCvu7me"
      }
    },
    {
      "cell_type": "code",
      "source": [
        "sklean_ridge_predicted_r2 = get_r2_predicted(x_train, y_train, TransformedTargetRegressor(regressor=sklearn_ridge_pipeline, transformer=StandardScaler(with_mean=True, with_std=True)))\n",
        "print(f\"sklean_ridge_predicted_r2: {sklean_ridge_predicted_r2}\")"
      ],
      "metadata": {
        "colab": {
          "base_uri": "https://localhost:8080/"
        },
        "id": "5iepwAt4F0gm",
        "outputId": "9a82fbe0-0183-442d-b9b6-34009509d3c1"
      },
      "execution_count": 284,
      "outputs": [
        {
          "output_type": "stream",
          "name": "stdout",
          "text": [
            "sklean_ridge_predicted_r2: 0.5195777858723686\n"
          ]
        }
      ]
    },
    {
      "cell_type": "code",
      "source": [
        "print(f\"Difference between R2 and predicted R2: {r2_score(y_train, sklearn_ridge_model_train_prediction) - sklean_ridge_predicted_r2}\")"
      ],
      "metadata": {
        "colab": {
          "base_uri": "https://localhost:8080/"
        },
        "id": "qZJyZK2UvKun",
        "outputId": "197b9511-6a37-477d-922e-71417bee980a"
      },
      "execution_count": 285,
      "outputs": [
        {
          "output_type": "stream",
          "name": "stdout",
          "text": [
            "Difference between R2 and predicted R2: 0.3244865367563855\n"
          ]
        }
      ]
    },
    {
      "cell_type": "markdown",
      "source": [
        "## Difference between R2 and R_predicted has reduced => Overfitting is reduced!!!!"
      ],
      "metadata": {
        "id": "yMhBQnElvTAr"
      }
    },
    {
      "cell_type": "markdown",
      "source": [
        "## Step 4: Use CV to choose best Ridge param lambda [Hyperparameter tuning!!!]"
      ],
      "metadata": {
        "id": "LYBnipARvX3a"
      }
    },
    {
      "cell_type": "markdown",
      "source": [
        "Search for the best ridge model\n",
        "In the following code:\n",
        "\n",
        "we estimate several Ridge regression models (with different values of the regularization parameter) on the training set;\n",
        "\n",
        "we perform model selection, choosing the Ridge regression that has the best performance on the validation set;\n",
        "\n",
        "we check the performance of the chosen model on the test set.\n",
        "\n",
        "Check : https://www.statlect.com/machine-learning/choice-of-a-regularization-parameter"
      ],
      "metadata": {
        "id": "2xRyDvKNyaRk"
      }
    },
    {
      "cell_type": "code",
      "source": [
        "cv_sklearn_ridge_standardize_pipeline = Pipeline([('scaler', StandardScaler(with_mean=True, with_std=True))])\n",
        "cv_sklearn_ridge_pipeline = Pipeline(steps=[('standardize', cv_sklearn_ridge_standardize_pipeline), ('model',linear_model.Ridge(fit_intercept=False))])\n",
        "cv_sklearn_ridge_model = TransformedTargetRegressor(regressor=cv_sklearn_ridge_pipeline, transformer=StandardScaler(with_mean=True, with_std=True))"
      ],
      "metadata": {
        "id": "2HKqUCcFvgU4"
      },
      "execution_count": 457,
      "outputs": []
    },
    {
      "cell_type": "code",
      "source": [
        "#cv_grid_params = {\"regressor__model__alpha\": 10 * 0.90 ** np.arange(1,300)}\n",
        "cv_grid_params = {\"regressor__model__alpha\": np.linspace(0.1, 2000)}"
      ],
      "metadata": {
        "id": "IeOcWm_ovgXG"
      },
      "execution_count": 458,
      "outputs": []
    },
    {
      "cell_type": "code",
      "source": [
        "grid_cv =  GridSearchCV(cv_sklearn_ridge_model, cv_grid_params, return_train_score=True, refit=\"neg_mean_squared_error\", cv=5, scoring=('r2', 'neg_mean_squared_error'))"
      ],
      "metadata": {
        "id": "rPfYqoLCxsIJ"
      },
      "execution_count": 459,
      "outputs": []
    },
    {
      "cell_type": "code",
      "source": [
        "grid_cv.fit(x_train, y_train)"
      ],
      "metadata": {
        "colab": {
          "base_uri": "https://localhost:8080/",
          "height": 218
        },
        "id": "DLWm_VrvvgZL",
        "outputId": "4513d520-d03b-4d04-8ca8-4cd0e22336c2"
      },
      "execution_count": 460,
      "outputs": [
        {
          "output_type": "execute_result",
          "data": {
            "text/plain": [
              "GridSearchCV(cv=5,\n",
              "             estimator=TransformedTargetRegressor(regressor=Pipeline(steps=[('standardize',\n",
              "                                                                             Pipeline(steps=[('scaler',\n",
              "                                                                                              StandardScaler())])),\n",
              "                                                                            ('model',\n",
              "                                                                             Ridge(fit_intercept=False))]),\n",
              "                                                  transformer=StandardScaler()),\n",
              "             param_grid={'regressor__model__alpha': array([1.00000000e-01, 4.09142857e+01, 8.17285714e+01, 1.22542857e+02,\n",
              "       1.63357143e+02, 2.04171429e+02, 2.4...\n",
              "       1.30615714e+03, 1.34697143e+03, 1.38778571e+03, 1.42860000e+03,\n",
              "       1.46941429e+03, 1.51022857e+03, 1.55104286e+03, 1.59185714e+03,\n",
              "       1.63267143e+03, 1.67348571e+03, 1.71430000e+03, 1.75511429e+03,\n",
              "       1.79592857e+03, 1.83674286e+03, 1.87755714e+03, 1.91837143e+03,\n",
              "       1.95918571e+03, 2.00000000e+03])},\n",
              "             refit='neg_mean_squared_error', return_train_score=True,\n",
              "             scoring=('r2', 'neg_mean_squared_error'))"
            ],
            "text/html": [
              "<style>#sk-container-id-27 {color: black;}#sk-container-id-27 pre{padding: 0;}#sk-container-id-27 div.sk-toggleable {background-color: white;}#sk-container-id-27 label.sk-toggleable__label {cursor: pointer;display: block;width: 100%;margin-bottom: 0;padding: 0.3em;box-sizing: border-box;text-align: center;}#sk-container-id-27 label.sk-toggleable__label-arrow:before {content: \"▸\";float: left;margin-right: 0.25em;color: #696969;}#sk-container-id-27 label.sk-toggleable__label-arrow:hover:before {color: black;}#sk-container-id-27 div.sk-estimator:hover label.sk-toggleable__label-arrow:before {color: black;}#sk-container-id-27 div.sk-toggleable__content {max-height: 0;max-width: 0;overflow: hidden;text-align: left;background-color: #f0f8ff;}#sk-container-id-27 div.sk-toggleable__content pre {margin: 0.2em;color: black;border-radius: 0.25em;background-color: #f0f8ff;}#sk-container-id-27 input.sk-toggleable__control:checked~div.sk-toggleable__content {max-height: 200px;max-width: 100%;overflow: auto;}#sk-container-id-27 input.sk-toggleable__control:checked~label.sk-toggleable__label-arrow:before {content: \"▾\";}#sk-container-id-27 div.sk-estimator input.sk-toggleable__control:checked~label.sk-toggleable__label {background-color: #d4ebff;}#sk-container-id-27 div.sk-label input.sk-toggleable__control:checked~label.sk-toggleable__label {background-color: #d4ebff;}#sk-container-id-27 input.sk-hidden--visually {border: 0;clip: rect(1px 1px 1px 1px);clip: rect(1px, 1px, 1px, 1px);height: 1px;margin: -1px;overflow: hidden;padding: 0;position: absolute;width: 1px;}#sk-container-id-27 div.sk-estimator {font-family: monospace;background-color: #f0f8ff;border: 1px dotted black;border-radius: 0.25em;box-sizing: border-box;margin-bottom: 0.5em;}#sk-container-id-27 div.sk-estimator:hover {background-color: #d4ebff;}#sk-container-id-27 div.sk-parallel-item::after {content: \"\";width: 100%;border-bottom: 1px solid gray;flex-grow: 1;}#sk-container-id-27 div.sk-label:hover label.sk-toggleable__label {background-color: #d4ebff;}#sk-container-id-27 div.sk-serial::before {content: \"\";position: absolute;border-left: 1px solid gray;box-sizing: border-box;top: 0;bottom: 0;left: 50%;z-index: 0;}#sk-container-id-27 div.sk-serial {display: flex;flex-direction: column;align-items: center;background-color: white;padding-right: 0.2em;padding-left: 0.2em;position: relative;}#sk-container-id-27 div.sk-item {position: relative;z-index: 1;}#sk-container-id-27 div.sk-parallel {display: flex;align-items: stretch;justify-content: center;background-color: white;position: relative;}#sk-container-id-27 div.sk-item::before, #sk-container-id-27 div.sk-parallel-item::before {content: \"\";position: absolute;border-left: 1px solid gray;box-sizing: border-box;top: 0;bottom: 0;left: 50%;z-index: -1;}#sk-container-id-27 div.sk-parallel-item {display: flex;flex-direction: column;z-index: 1;position: relative;background-color: white;}#sk-container-id-27 div.sk-parallel-item:first-child::after {align-self: flex-end;width: 50%;}#sk-container-id-27 div.sk-parallel-item:last-child::after {align-self: flex-start;width: 50%;}#sk-container-id-27 div.sk-parallel-item:only-child::after {width: 0;}#sk-container-id-27 div.sk-dashed-wrapped {border: 1px dashed gray;margin: 0 0.4em 0.5em 0.4em;box-sizing: border-box;padding-bottom: 0.4em;background-color: white;}#sk-container-id-27 div.sk-label label {font-family: monospace;font-weight: bold;display: inline-block;line-height: 1.2em;}#sk-container-id-27 div.sk-label-container {text-align: center;}#sk-container-id-27 div.sk-container {/* jupyter's `normalize.less` sets `[hidden] { display: none; }` but bootstrap.min.css set `[hidden] { display: none !important; }` so we also need the `!important` here to be able to override the default hidden behavior on the sphinx rendered scikit-learn.org. See: https://github.com/scikit-learn/scikit-learn/issues/21755 */display: inline-block !important;position: relative;}#sk-container-id-27 div.sk-text-repr-fallback {display: none;}</style><div id=\"sk-container-id-27\" class=\"sk-top-container\"><div class=\"sk-text-repr-fallback\"><pre>GridSearchCV(cv=5,\n",
              "             estimator=TransformedTargetRegressor(regressor=Pipeline(steps=[(&#x27;standardize&#x27;,\n",
              "                                                                             Pipeline(steps=[(&#x27;scaler&#x27;,\n",
              "                                                                                              StandardScaler())])),\n",
              "                                                                            (&#x27;model&#x27;,\n",
              "                                                                             Ridge(fit_intercept=False))]),\n",
              "                                                  transformer=StandardScaler()),\n",
              "             param_grid={&#x27;regressor__model__alpha&#x27;: array([1.00000000e-01, 4.09142857e+01, 8.17285714e+01, 1.22542857e+02,\n",
              "       1.63357143e+02, 2.04171429e+02, 2.4...\n",
              "       1.30615714e+03, 1.34697143e+03, 1.38778571e+03, 1.42860000e+03,\n",
              "       1.46941429e+03, 1.51022857e+03, 1.55104286e+03, 1.59185714e+03,\n",
              "       1.63267143e+03, 1.67348571e+03, 1.71430000e+03, 1.75511429e+03,\n",
              "       1.79592857e+03, 1.83674286e+03, 1.87755714e+03, 1.91837143e+03,\n",
              "       1.95918571e+03, 2.00000000e+03])},\n",
              "             refit=&#x27;neg_mean_squared_error&#x27;, return_train_score=True,\n",
              "             scoring=(&#x27;r2&#x27;, &#x27;neg_mean_squared_error&#x27;))</pre><b>In a Jupyter environment, please rerun this cell to show the HTML representation or trust the notebook. <br />On GitHub, the HTML representation is unable to render, please try loading this page with nbviewer.org.</b></div><div class=\"sk-container\" hidden><div class=\"sk-item sk-dashed-wrapped\"><div class=\"sk-label-container\"><div class=\"sk-label sk-toggleable\"><input class=\"sk-toggleable__control sk-hidden--visually\" id=\"sk-estimator-id-137\" type=\"checkbox\" ><label for=\"sk-estimator-id-137\" class=\"sk-toggleable__label sk-toggleable__label-arrow\">GridSearchCV</label><div class=\"sk-toggleable__content\"><pre>GridSearchCV(cv=5,\n",
              "             estimator=TransformedTargetRegressor(regressor=Pipeline(steps=[(&#x27;standardize&#x27;,\n",
              "                                                                             Pipeline(steps=[(&#x27;scaler&#x27;,\n",
              "                                                                                              StandardScaler())])),\n",
              "                                                                            (&#x27;model&#x27;,\n",
              "                                                                             Ridge(fit_intercept=False))]),\n",
              "                                                  transformer=StandardScaler()),\n",
              "             param_grid={&#x27;regressor__model__alpha&#x27;: array([1.00000000e-01, 4.09142857e+01, 8.17285714e+01, 1.22542857e+02,\n",
              "       1.63357143e+02, 2.04171429e+02, 2.4...\n",
              "       1.30615714e+03, 1.34697143e+03, 1.38778571e+03, 1.42860000e+03,\n",
              "       1.46941429e+03, 1.51022857e+03, 1.55104286e+03, 1.59185714e+03,\n",
              "       1.63267143e+03, 1.67348571e+03, 1.71430000e+03, 1.75511429e+03,\n",
              "       1.79592857e+03, 1.83674286e+03, 1.87755714e+03, 1.91837143e+03,\n",
              "       1.95918571e+03, 2.00000000e+03])},\n",
              "             refit=&#x27;neg_mean_squared_error&#x27;, return_train_score=True,\n",
              "             scoring=(&#x27;r2&#x27;, &#x27;neg_mean_squared_error&#x27;))</pre></div></div></div><div class=\"sk-parallel\"><div class=\"sk-parallel-item\"><div class=\"sk-item\"><div class=\"sk-label-container\"><div class=\"sk-label sk-toggleable\"><input class=\"sk-toggleable__control sk-hidden--visually\" id=\"sk-estimator-id-138\" type=\"checkbox\" ><label for=\"sk-estimator-id-138\" class=\"sk-toggleable__label sk-toggleable__label-arrow\">estimator: TransformedTargetRegressor</label><div class=\"sk-toggleable__content\"><pre>TransformedTargetRegressor(regressor=Pipeline(steps=[(&#x27;standardize&#x27;,\n",
              "                                                      Pipeline(steps=[(&#x27;scaler&#x27;,\n",
              "                                                                       StandardScaler())])),\n",
              "                                                     (&#x27;model&#x27;,\n",
              "                                                      Ridge(fit_intercept=False))]),\n",
              "                           transformer=StandardScaler())</pre></div></div></div><div class=\"sk-serial\"><div class=\"sk-item sk-dashed-wrapped\"><div class=\"sk-parallel\"><div class=\"sk-parallel-item\"><div class=\"sk-item\"><div class=\"sk-label-container\"><div class=\"sk-label sk-toggleable\"><input class=\"sk-toggleable__control sk-hidden--visually\" id=\"sk-estimator-id-139\" type=\"checkbox\" ><label for=\"sk-estimator-id-139\" class=\"sk-toggleable__label sk-toggleable__label-arrow\">regressor: Pipeline</label><div class=\"sk-toggleable__content\"><pre>Pipeline(steps=[(&#x27;standardize&#x27;, Pipeline(steps=[(&#x27;scaler&#x27;, StandardScaler())])),\n",
              "                (&#x27;model&#x27;, Ridge(fit_intercept=False))])</pre></div></div></div><div class=\"sk-serial\"><div class=\"sk-item\"><div class=\"sk-serial\"><div class=\"sk-item\"><div class=\"sk-label-container\"><div class=\"sk-label sk-toggleable\"><input class=\"sk-toggleable__control sk-hidden--visually\" id=\"sk-estimator-id-140\" type=\"checkbox\" ><label for=\"sk-estimator-id-140\" class=\"sk-toggleable__label sk-toggleable__label-arrow\">standardize: Pipeline</label><div class=\"sk-toggleable__content\"><pre>Pipeline(steps=[(&#x27;scaler&#x27;, StandardScaler())])</pre></div></div></div><div class=\"sk-serial\"><div class=\"sk-item\"><div class=\"sk-estimator sk-toggleable\"><input class=\"sk-toggleable__control sk-hidden--visually\" id=\"sk-estimator-id-141\" type=\"checkbox\" ><label for=\"sk-estimator-id-141\" class=\"sk-toggleable__label sk-toggleable__label-arrow\">StandardScaler</label><div class=\"sk-toggleable__content\"><pre>StandardScaler()</pre></div></div></div></div></div><div class=\"sk-item\"><div class=\"sk-estimator sk-toggleable\"><input class=\"sk-toggleable__control sk-hidden--visually\" id=\"sk-estimator-id-142\" type=\"checkbox\" ><label for=\"sk-estimator-id-142\" class=\"sk-toggleable__label sk-toggleable__label-arrow\">Ridge</label><div class=\"sk-toggleable__content\"><pre>Ridge(fit_intercept=False)</pre></div></div></div></div></div></div></div></div><div class=\"sk-parallel-item\"><div class=\"sk-item\"><div class=\"sk-label-container\"><div class=\"sk-label sk-toggleable\"><input class=\"sk-toggleable__control sk-hidden--visually\" id=\"sk-estimator-id-143\" type=\"checkbox\" ><label for=\"sk-estimator-id-143\" class=\"sk-toggleable__label sk-toggleable__label-arrow\">transformer: StandardScaler</label><div class=\"sk-toggleable__content\"><pre>StandardScaler()</pre></div></div></div><div class=\"sk-serial\"><div class=\"sk-item\"><div class=\"sk-estimator sk-toggleable\"><input class=\"sk-toggleable__control sk-hidden--visually\" id=\"sk-estimator-id-144\" type=\"checkbox\" ><label for=\"sk-estimator-id-144\" class=\"sk-toggleable__label sk-toggleable__label-arrow\">StandardScaler</label><div class=\"sk-toggleable__content\"><pre>StandardScaler()</pre></div></div></div></div></div></div></div></div></div></div></div></div></div></div></div>"
            ]
          },
          "metadata": {},
          "execution_count": 460
        }
      ]
    },
    {
      "cell_type": "code",
      "source": [
        "hyperparam_cv_results = pd.DataFrame.from_records(grid_cv.cv_results_)"
      ],
      "metadata": {
        "id": "uB9Svf3yvgbd"
      },
      "execution_count": 461,
      "outputs": []
    },
    {
      "cell_type": "code",
      "source": [
        "sorted_by_mse_hyperparam_cv_results = hyperparam_cv_results.sort_values(by=[\"rank_test_neg_mean_squared_error\"], ascending=True)"
      ],
      "metadata": {
        "id": "H7Y63ogIvgda"
      },
      "execution_count": 462,
      "outputs": []
    },
    {
      "cell_type": "code",
      "source": [
        "print(f\"Best model sklearn_ridge_bias_score_based_on_r2: {sorted_by_mse_hyperparam_cv_results.iloc[0]['mean_train_r2']}\")\n",
        "print(f\"Best model sklearn_ridge_bias_score_based_on_mse: {sorted_by_mse_hyperparam_cv_results.iloc[0]['mean_train_neg_mean_squared_error']}\")"
      ],
      "metadata": {
        "colab": {
          "base_uri": "https://localhost:8080/"
        },
        "id": "VDE2Q-slz4Qq",
        "outputId": "d8e69b24-3bd5-478c-9767-c922eb7152bb"
      },
      "execution_count": 463,
      "outputs": [
        {
          "output_type": "stream",
          "name": "stdout",
          "text": [
            "Best model sklearn_ridge_bias_score_based_on_r2: 0.8090739984721415\n",
            "Best model sklearn_ridge_bias_score_based_on_mse: -0.03187824763958709\n"
          ]
        }
      ]
    },
    {
      "cell_type": "code",
      "source": [
        "best_model_hyperparam_df = sorted_by_mse_hyperparam_cv_results.reset_index(drop=True).iloc[0].reset_index().rename(columns={0: \"val\"})#.query(\"index.str.contains(r'(split\\d+_train_neg_mean_squared_error)', regex=True)\")"
      ],
      "metadata": {
        "id": "DdSeqJpg0Fo7"
      },
      "execution_count": 476,
      "outputs": []
    },
    {
      "cell_type": "code",
      "source": [
        "best_model_hyperparam_train_df = best_model_hyperparam_df[best_model_hyperparam_df[\"index\"].str.contains(r\"split\\d+_train_neg_mean_squared_error\")]\n",
        "best_model_hyperparam_train_df = best_model_hyperparam_train_df.rename(columns={\"val\": \"train_neg_mean_squared_error\"})\n",
        "best_model_hyperparam_train_df[\"index\"] = best_model_hyperparam_train_df[\"index\"].str.extract(r\"(split\\d+)\", expand=False)"
      ],
      "metadata": {
        "id": "cdXr7g0U0FrF"
      },
      "execution_count": 478,
      "outputs": []
    },
    {
      "cell_type": "code",
      "source": [
        "best_model_hyperparam_train_df.head()"
      ],
      "metadata": {
        "colab": {
          "base_uri": "https://localhost:8080/",
          "height": 206
        },
        "id": "yciOi3FlGG-h",
        "outputId": "05d83f29-f59f-493e-d7fc-2d456c075eed"
      },
      "execution_count": 479,
      "outputs": [
        {
          "output_type": "execute_result",
          "data": {
            "text/plain": [
              "     index train_neg_mean_squared_error\n",
              "12  split0                    -0.031156\n",
              "16  split1                    -0.029259\n",
              "20  split2                    -0.028601\n",
              "24  split3                    -0.036549\n",
              "28  split4                    -0.033825"
            ],
            "text/html": [
              "\n",
              "  <div id=\"df-77ce8326-9dca-4372-8909-91fe57d8ea37\" class=\"colab-df-container\">\n",
              "    <div>\n",
              "<style scoped>\n",
              "    .dataframe tbody tr th:only-of-type {\n",
              "        vertical-align: middle;\n",
              "    }\n",
              "\n",
              "    .dataframe tbody tr th {\n",
              "        vertical-align: top;\n",
              "    }\n",
              "\n",
              "    .dataframe thead th {\n",
              "        text-align: right;\n",
              "    }\n",
              "</style>\n",
              "<table border=\"1\" class=\"dataframe\">\n",
              "  <thead>\n",
              "    <tr style=\"text-align: right;\">\n",
              "      <th></th>\n",
              "      <th>index</th>\n",
              "      <th>train_neg_mean_squared_error</th>\n",
              "    </tr>\n",
              "  </thead>\n",
              "  <tbody>\n",
              "    <tr>\n",
              "      <th>12</th>\n",
              "      <td>split0</td>\n",
              "      <td>-0.031156</td>\n",
              "    </tr>\n",
              "    <tr>\n",
              "      <th>16</th>\n",
              "      <td>split1</td>\n",
              "      <td>-0.029259</td>\n",
              "    </tr>\n",
              "    <tr>\n",
              "      <th>20</th>\n",
              "      <td>split2</td>\n",
              "      <td>-0.028601</td>\n",
              "    </tr>\n",
              "    <tr>\n",
              "      <th>24</th>\n",
              "      <td>split3</td>\n",
              "      <td>-0.036549</td>\n",
              "    </tr>\n",
              "    <tr>\n",
              "      <th>28</th>\n",
              "      <td>split4</td>\n",
              "      <td>-0.033825</td>\n",
              "    </tr>\n",
              "  </tbody>\n",
              "</table>\n",
              "</div>\n",
              "    <div class=\"colab-df-buttons\">\n",
              "\n",
              "  <div class=\"colab-df-container\">\n",
              "    <button class=\"colab-df-convert\" onclick=\"convertToInteractive('df-77ce8326-9dca-4372-8909-91fe57d8ea37')\"\n",
              "            title=\"Convert this dataframe to an interactive table.\"\n",
              "            style=\"display:none;\">\n",
              "\n",
              "  <svg xmlns=\"http://www.w3.org/2000/svg\" height=\"24px\" viewBox=\"0 -960 960 960\">\n",
              "    <path d=\"M120-120v-720h720v720H120Zm60-500h600v-160H180v160Zm220 220h160v-160H400v160Zm0 220h160v-160H400v160ZM180-400h160v-160H180v160Zm440 0h160v-160H620v160ZM180-180h160v-160H180v160Zm440 0h160v-160H620v160Z\"/>\n",
              "  </svg>\n",
              "    </button>\n",
              "\n",
              "  <style>\n",
              "    .colab-df-container {\n",
              "      display:flex;\n",
              "      gap: 12px;\n",
              "    }\n",
              "\n",
              "    .colab-df-convert {\n",
              "      background-color: #E8F0FE;\n",
              "      border: none;\n",
              "      border-radius: 50%;\n",
              "      cursor: pointer;\n",
              "      display: none;\n",
              "      fill: #1967D2;\n",
              "      height: 32px;\n",
              "      padding: 0 0 0 0;\n",
              "      width: 32px;\n",
              "    }\n",
              "\n",
              "    .colab-df-convert:hover {\n",
              "      background-color: #E2EBFA;\n",
              "      box-shadow: 0px 1px 2px rgba(60, 64, 67, 0.3), 0px 1px 3px 1px rgba(60, 64, 67, 0.15);\n",
              "      fill: #174EA6;\n",
              "    }\n",
              "\n",
              "    .colab-df-buttons div {\n",
              "      margin-bottom: 4px;\n",
              "    }\n",
              "\n",
              "    [theme=dark] .colab-df-convert {\n",
              "      background-color: #3B4455;\n",
              "      fill: #D2E3FC;\n",
              "    }\n",
              "\n",
              "    [theme=dark] .colab-df-convert:hover {\n",
              "      background-color: #434B5C;\n",
              "      box-shadow: 0px 1px 3px 1px rgba(0, 0, 0, 0.15);\n",
              "      filter: drop-shadow(0px 1px 2px rgba(0, 0, 0, 0.3));\n",
              "      fill: #FFFFFF;\n",
              "    }\n",
              "  </style>\n",
              "\n",
              "    <script>\n",
              "      const buttonEl =\n",
              "        document.querySelector('#df-77ce8326-9dca-4372-8909-91fe57d8ea37 button.colab-df-convert');\n",
              "      buttonEl.style.display =\n",
              "        google.colab.kernel.accessAllowed ? 'block' : 'none';\n",
              "\n",
              "      async function convertToInteractive(key) {\n",
              "        const element = document.querySelector('#df-77ce8326-9dca-4372-8909-91fe57d8ea37');\n",
              "        const dataTable =\n",
              "          await google.colab.kernel.invokeFunction('convertToInteractive',\n",
              "                                                    [key], {});\n",
              "        if (!dataTable) return;\n",
              "\n",
              "        const docLinkHtml = 'Like what you see? Visit the ' +\n",
              "          '<a target=\"_blank\" href=https://colab.research.google.com/notebooks/data_table.ipynb>data table notebook</a>'\n",
              "          + ' to learn more about interactive tables.';\n",
              "        element.innerHTML = '';\n",
              "        dataTable['output_type'] = 'display_data';\n",
              "        await google.colab.output.renderOutput(dataTable, element);\n",
              "        const docLink = document.createElement('div');\n",
              "        docLink.innerHTML = docLinkHtml;\n",
              "        element.appendChild(docLink);\n",
              "      }\n",
              "    </script>\n",
              "  </div>\n",
              "\n",
              "\n",
              "<div id=\"df-2b05ae8a-44da-4a21-b351-4fd7427d0f2d\">\n",
              "  <button class=\"colab-df-quickchart\" onclick=\"quickchart('df-2b05ae8a-44da-4a21-b351-4fd7427d0f2d')\"\n",
              "            title=\"Suggest charts\"\n",
              "            style=\"display:none;\">\n",
              "\n",
              "<svg xmlns=\"http://www.w3.org/2000/svg\" height=\"24px\"viewBox=\"0 0 24 24\"\n",
              "     width=\"24px\">\n",
              "    <g>\n",
              "        <path d=\"M19 3H5c-1.1 0-2 .9-2 2v14c0 1.1.9 2 2 2h14c1.1 0 2-.9 2-2V5c0-1.1-.9-2-2-2zM9 17H7v-7h2v7zm4 0h-2V7h2v10zm4 0h-2v-4h2v4z\"/>\n",
              "    </g>\n",
              "</svg>\n",
              "  </button>\n",
              "\n",
              "<style>\n",
              "  .colab-df-quickchart {\n",
              "      --bg-color: #E8F0FE;\n",
              "      --fill-color: #1967D2;\n",
              "      --hover-bg-color: #E2EBFA;\n",
              "      --hover-fill-color: #174EA6;\n",
              "      --disabled-fill-color: #AAA;\n",
              "      --disabled-bg-color: #DDD;\n",
              "  }\n",
              "\n",
              "  [theme=dark] .colab-df-quickchart {\n",
              "      --bg-color: #3B4455;\n",
              "      --fill-color: #D2E3FC;\n",
              "      --hover-bg-color: #434B5C;\n",
              "      --hover-fill-color: #FFFFFF;\n",
              "      --disabled-bg-color: #3B4455;\n",
              "      --disabled-fill-color: #666;\n",
              "  }\n",
              "\n",
              "  .colab-df-quickchart {\n",
              "    background-color: var(--bg-color);\n",
              "    border: none;\n",
              "    border-radius: 50%;\n",
              "    cursor: pointer;\n",
              "    display: none;\n",
              "    fill: var(--fill-color);\n",
              "    height: 32px;\n",
              "    padding: 0;\n",
              "    width: 32px;\n",
              "  }\n",
              "\n",
              "  .colab-df-quickchart:hover {\n",
              "    background-color: var(--hover-bg-color);\n",
              "    box-shadow: 0 1px 2px rgba(60, 64, 67, 0.3), 0 1px 3px 1px rgba(60, 64, 67, 0.15);\n",
              "    fill: var(--button-hover-fill-color);\n",
              "  }\n",
              "\n",
              "  .colab-df-quickchart-complete:disabled,\n",
              "  .colab-df-quickchart-complete:disabled:hover {\n",
              "    background-color: var(--disabled-bg-color);\n",
              "    fill: var(--disabled-fill-color);\n",
              "    box-shadow: none;\n",
              "  }\n",
              "\n",
              "  .colab-df-spinner {\n",
              "    border: 2px solid var(--fill-color);\n",
              "    border-color: transparent;\n",
              "    border-bottom-color: var(--fill-color);\n",
              "    animation:\n",
              "      spin 1s steps(1) infinite;\n",
              "  }\n",
              "\n",
              "  @keyframes spin {\n",
              "    0% {\n",
              "      border-color: transparent;\n",
              "      border-bottom-color: var(--fill-color);\n",
              "      border-left-color: var(--fill-color);\n",
              "    }\n",
              "    20% {\n",
              "      border-color: transparent;\n",
              "      border-left-color: var(--fill-color);\n",
              "      border-top-color: var(--fill-color);\n",
              "    }\n",
              "    30% {\n",
              "      border-color: transparent;\n",
              "      border-left-color: var(--fill-color);\n",
              "      border-top-color: var(--fill-color);\n",
              "      border-right-color: var(--fill-color);\n",
              "    }\n",
              "    40% {\n",
              "      border-color: transparent;\n",
              "      border-right-color: var(--fill-color);\n",
              "      border-top-color: var(--fill-color);\n",
              "    }\n",
              "    60% {\n",
              "      border-color: transparent;\n",
              "      border-right-color: var(--fill-color);\n",
              "    }\n",
              "    80% {\n",
              "      border-color: transparent;\n",
              "      border-right-color: var(--fill-color);\n",
              "      border-bottom-color: var(--fill-color);\n",
              "    }\n",
              "    90% {\n",
              "      border-color: transparent;\n",
              "      border-bottom-color: var(--fill-color);\n",
              "    }\n",
              "  }\n",
              "</style>\n",
              "\n",
              "  <script>\n",
              "    async function quickchart(key) {\n",
              "      const quickchartButtonEl =\n",
              "        document.querySelector('#' + key + ' button');\n",
              "      quickchartButtonEl.disabled = true;  // To prevent multiple clicks.\n",
              "      quickchartButtonEl.classList.add('colab-df-spinner');\n",
              "      try {\n",
              "        const charts = await google.colab.kernel.invokeFunction(\n",
              "            'suggestCharts', [key], {});\n",
              "      } catch (error) {\n",
              "        console.error('Error during call to suggestCharts:', error);\n",
              "      }\n",
              "      quickchartButtonEl.classList.remove('colab-df-spinner');\n",
              "      quickchartButtonEl.classList.add('colab-df-quickchart-complete');\n",
              "    }\n",
              "    (() => {\n",
              "      let quickchartButtonEl =\n",
              "        document.querySelector('#df-2b05ae8a-44da-4a21-b351-4fd7427d0f2d button');\n",
              "      quickchartButtonEl.style.display =\n",
              "        google.colab.kernel.accessAllowed ? 'block' : 'none';\n",
              "    })();\n",
              "  </script>\n",
              "</div>\n",
              "\n",
              "    </div>\n",
              "  </div>\n"
            ],
            "application/vnd.google.colaboratory.intrinsic+json": {
              "type": "dataframe",
              "variable_name": "best_model_hyperparam_train_df",
              "repr_error": "0"
            }
          },
          "metadata": {},
          "execution_count": 479
        }
      ]
    },
    {
      "cell_type": "code",
      "source": [
        "best_model_hyperparam_val_df = best_model_hyperparam_df[best_model_hyperparam_df[\"index\"].str.contains(r\"split\\d+_test_neg_mean_squared_error\")]\n",
        "best_model_hyperparam_val_df = best_model_hyperparam_val_df.rename(columns={\"val\": \"val_neg_mean_squared_error\"})\n",
        "best_model_hyperparam_val_df[\"index\"] = best_model_hyperparam_val_df[\"index\"].str.extract(r\"(split\\d+)\", expand=False)"
      ],
      "metadata": {
        "id": "LS2XVYvS0FtP"
      },
      "execution_count": 480,
      "outputs": []
    },
    {
      "cell_type": "code",
      "source": [
        "best_model_df = best_model_hyperparam_train_df.merge(best_model_hyperparam_val_df, left_on=[\"index\"], right_on=[\"index\"], how=\"left\")"
      ],
      "metadata": {
        "id": "5coE0-st0FvY"
      },
      "execution_count": 481,
      "outputs": []
    },
    {
      "cell_type": "code",
      "source": [
        "best_model_df"
      ],
      "metadata": {
        "colab": {
          "base_uri": "https://localhost:8080/",
          "height": 206
        },
        "id": "b4z3LuRwF4Gv",
        "outputId": "cd64387a-0c91-49f9-9421-db10c41e022a"
      },
      "execution_count": 482,
      "outputs": [
        {
          "output_type": "execute_result",
          "data": {
            "text/plain": [
              "    index train_neg_mean_squared_error val_neg_mean_squared_error\n",
              "0  split0                    -0.031156                  -0.091692\n",
              "1  split1                    -0.029259                  -0.132338\n",
              "2  split2                    -0.028601                  -0.093835\n",
              "3  split3                    -0.036549                  -0.049278\n",
              "4  split4                    -0.033825                   -0.06326"
            ],
            "text/html": [
              "\n",
              "  <div id=\"df-fc98d49c-39ce-4633-96f9-58eff4b06347\" class=\"colab-df-container\">\n",
              "    <div>\n",
              "<style scoped>\n",
              "    .dataframe tbody tr th:only-of-type {\n",
              "        vertical-align: middle;\n",
              "    }\n",
              "\n",
              "    .dataframe tbody tr th {\n",
              "        vertical-align: top;\n",
              "    }\n",
              "\n",
              "    .dataframe thead th {\n",
              "        text-align: right;\n",
              "    }\n",
              "</style>\n",
              "<table border=\"1\" class=\"dataframe\">\n",
              "  <thead>\n",
              "    <tr style=\"text-align: right;\">\n",
              "      <th></th>\n",
              "      <th>index</th>\n",
              "      <th>train_neg_mean_squared_error</th>\n",
              "      <th>val_neg_mean_squared_error</th>\n",
              "    </tr>\n",
              "  </thead>\n",
              "  <tbody>\n",
              "    <tr>\n",
              "      <th>0</th>\n",
              "      <td>split0</td>\n",
              "      <td>-0.031156</td>\n",
              "      <td>-0.091692</td>\n",
              "    </tr>\n",
              "    <tr>\n",
              "      <th>1</th>\n",
              "      <td>split1</td>\n",
              "      <td>-0.029259</td>\n",
              "      <td>-0.132338</td>\n",
              "    </tr>\n",
              "    <tr>\n",
              "      <th>2</th>\n",
              "      <td>split2</td>\n",
              "      <td>-0.028601</td>\n",
              "      <td>-0.093835</td>\n",
              "    </tr>\n",
              "    <tr>\n",
              "      <th>3</th>\n",
              "      <td>split3</td>\n",
              "      <td>-0.036549</td>\n",
              "      <td>-0.049278</td>\n",
              "    </tr>\n",
              "    <tr>\n",
              "      <th>4</th>\n",
              "      <td>split4</td>\n",
              "      <td>-0.033825</td>\n",
              "      <td>-0.06326</td>\n",
              "    </tr>\n",
              "  </tbody>\n",
              "</table>\n",
              "</div>\n",
              "    <div class=\"colab-df-buttons\">\n",
              "\n",
              "  <div class=\"colab-df-container\">\n",
              "    <button class=\"colab-df-convert\" onclick=\"convertToInteractive('df-fc98d49c-39ce-4633-96f9-58eff4b06347')\"\n",
              "            title=\"Convert this dataframe to an interactive table.\"\n",
              "            style=\"display:none;\">\n",
              "\n",
              "  <svg xmlns=\"http://www.w3.org/2000/svg\" height=\"24px\" viewBox=\"0 -960 960 960\">\n",
              "    <path d=\"M120-120v-720h720v720H120Zm60-500h600v-160H180v160Zm220 220h160v-160H400v160Zm0 220h160v-160H400v160ZM180-400h160v-160H180v160Zm440 0h160v-160H620v160ZM180-180h160v-160H180v160Zm440 0h160v-160H620v160Z\"/>\n",
              "  </svg>\n",
              "    </button>\n",
              "\n",
              "  <style>\n",
              "    .colab-df-container {\n",
              "      display:flex;\n",
              "      gap: 12px;\n",
              "    }\n",
              "\n",
              "    .colab-df-convert {\n",
              "      background-color: #E8F0FE;\n",
              "      border: none;\n",
              "      border-radius: 50%;\n",
              "      cursor: pointer;\n",
              "      display: none;\n",
              "      fill: #1967D2;\n",
              "      height: 32px;\n",
              "      padding: 0 0 0 0;\n",
              "      width: 32px;\n",
              "    }\n",
              "\n",
              "    .colab-df-convert:hover {\n",
              "      background-color: #E2EBFA;\n",
              "      box-shadow: 0px 1px 2px rgba(60, 64, 67, 0.3), 0px 1px 3px 1px rgba(60, 64, 67, 0.15);\n",
              "      fill: #174EA6;\n",
              "    }\n",
              "\n",
              "    .colab-df-buttons div {\n",
              "      margin-bottom: 4px;\n",
              "    }\n",
              "\n",
              "    [theme=dark] .colab-df-convert {\n",
              "      background-color: #3B4455;\n",
              "      fill: #D2E3FC;\n",
              "    }\n",
              "\n",
              "    [theme=dark] .colab-df-convert:hover {\n",
              "      background-color: #434B5C;\n",
              "      box-shadow: 0px 1px 3px 1px rgba(0, 0, 0, 0.15);\n",
              "      filter: drop-shadow(0px 1px 2px rgba(0, 0, 0, 0.3));\n",
              "      fill: #FFFFFF;\n",
              "    }\n",
              "  </style>\n",
              "\n",
              "    <script>\n",
              "      const buttonEl =\n",
              "        document.querySelector('#df-fc98d49c-39ce-4633-96f9-58eff4b06347 button.colab-df-convert');\n",
              "      buttonEl.style.display =\n",
              "        google.colab.kernel.accessAllowed ? 'block' : 'none';\n",
              "\n",
              "      async function convertToInteractive(key) {\n",
              "        const element = document.querySelector('#df-fc98d49c-39ce-4633-96f9-58eff4b06347');\n",
              "        const dataTable =\n",
              "          await google.colab.kernel.invokeFunction('convertToInteractive',\n",
              "                                                    [key], {});\n",
              "        if (!dataTable) return;\n",
              "\n",
              "        const docLinkHtml = 'Like what you see? Visit the ' +\n",
              "          '<a target=\"_blank\" href=https://colab.research.google.com/notebooks/data_table.ipynb>data table notebook</a>'\n",
              "          + ' to learn more about interactive tables.';\n",
              "        element.innerHTML = '';\n",
              "        dataTable['output_type'] = 'display_data';\n",
              "        await google.colab.output.renderOutput(dataTable, element);\n",
              "        const docLink = document.createElement('div');\n",
              "        docLink.innerHTML = docLinkHtml;\n",
              "        element.appendChild(docLink);\n",
              "      }\n",
              "    </script>\n",
              "  </div>\n",
              "\n",
              "\n",
              "<div id=\"df-683dc48f-ac85-4325-b6e6-526715961e93\">\n",
              "  <button class=\"colab-df-quickchart\" onclick=\"quickchart('df-683dc48f-ac85-4325-b6e6-526715961e93')\"\n",
              "            title=\"Suggest charts\"\n",
              "            style=\"display:none;\">\n",
              "\n",
              "<svg xmlns=\"http://www.w3.org/2000/svg\" height=\"24px\"viewBox=\"0 0 24 24\"\n",
              "     width=\"24px\">\n",
              "    <g>\n",
              "        <path d=\"M19 3H5c-1.1 0-2 .9-2 2v14c0 1.1.9 2 2 2h14c1.1 0 2-.9 2-2V5c0-1.1-.9-2-2-2zM9 17H7v-7h2v7zm4 0h-2V7h2v10zm4 0h-2v-4h2v4z\"/>\n",
              "    </g>\n",
              "</svg>\n",
              "  </button>\n",
              "\n",
              "<style>\n",
              "  .colab-df-quickchart {\n",
              "      --bg-color: #E8F0FE;\n",
              "      --fill-color: #1967D2;\n",
              "      --hover-bg-color: #E2EBFA;\n",
              "      --hover-fill-color: #174EA6;\n",
              "      --disabled-fill-color: #AAA;\n",
              "      --disabled-bg-color: #DDD;\n",
              "  }\n",
              "\n",
              "  [theme=dark] .colab-df-quickchart {\n",
              "      --bg-color: #3B4455;\n",
              "      --fill-color: #D2E3FC;\n",
              "      --hover-bg-color: #434B5C;\n",
              "      --hover-fill-color: #FFFFFF;\n",
              "      --disabled-bg-color: #3B4455;\n",
              "      --disabled-fill-color: #666;\n",
              "  }\n",
              "\n",
              "  .colab-df-quickchart {\n",
              "    background-color: var(--bg-color);\n",
              "    border: none;\n",
              "    border-radius: 50%;\n",
              "    cursor: pointer;\n",
              "    display: none;\n",
              "    fill: var(--fill-color);\n",
              "    height: 32px;\n",
              "    padding: 0;\n",
              "    width: 32px;\n",
              "  }\n",
              "\n",
              "  .colab-df-quickchart:hover {\n",
              "    background-color: var(--hover-bg-color);\n",
              "    box-shadow: 0 1px 2px rgba(60, 64, 67, 0.3), 0 1px 3px 1px rgba(60, 64, 67, 0.15);\n",
              "    fill: var(--button-hover-fill-color);\n",
              "  }\n",
              "\n",
              "  .colab-df-quickchart-complete:disabled,\n",
              "  .colab-df-quickchart-complete:disabled:hover {\n",
              "    background-color: var(--disabled-bg-color);\n",
              "    fill: var(--disabled-fill-color);\n",
              "    box-shadow: none;\n",
              "  }\n",
              "\n",
              "  .colab-df-spinner {\n",
              "    border: 2px solid var(--fill-color);\n",
              "    border-color: transparent;\n",
              "    border-bottom-color: var(--fill-color);\n",
              "    animation:\n",
              "      spin 1s steps(1) infinite;\n",
              "  }\n",
              "\n",
              "  @keyframes spin {\n",
              "    0% {\n",
              "      border-color: transparent;\n",
              "      border-bottom-color: var(--fill-color);\n",
              "      border-left-color: var(--fill-color);\n",
              "    }\n",
              "    20% {\n",
              "      border-color: transparent;\n",
              "      border-left-color: var(--fill-color);\n",
              "      border-top-color: var(--fill-color);\n",
              "    }\n",
              "    30% {\n",
              "      border-color: transparent;\n",
              "      border-left-color: var(--fill-color);\n",
              "      border-top-color: var(--fill-color);\n",
              "      border-right-color: var(--fill-color);\n",
              "    }\n",
              "    40% {\n",
              "      border-color: transparent;\n",
              "      border-right-color: var(--fill-color);\n",
              "      border-top-color: var(--fill-color);\n",
              "    }\n",
              "    60% {\n",
              "      border-color: transparent;\n",
              "      border-right-color: var(--fill-color);\n",
              "    }\n",
              "    80% {\n",
              "      border-color: transparent;\n",
              "      border-right-color: var(--fill-color);\n",
              "      border-bottom-color: var(--fill-color);\n",
              "    }\n",
              "    90% {\n",
              "      border-color: transparent;\n",
              "      border-bottom-color: var(--fill-color);\n",
              "    }\n",
              "  }\n",
              "</style>\n",
              "\n",
              "  <script>\n",
              "    async function quickchart(key) {\n",
              "      const quickchartButtonEl =\n",
              "        document.querySelector('#' + key + ' button');\n",
              "      quickchartButtonEl.disabled = true;  // To prevent multiple clicks.\n",
              "      quickchartButtonEl.classList.add('colab-df-spinner');\n",
              "      try {\n",
              "        const charts = await google.colab.kernel.invokeFunction(\n",
              "            'suggestCharts', [key], {});\n",
              "      } catch (error) {\n",
              "        console.error('Error during call to suggestCharts:', error);\n",
              "      }\n",
              "      quickchartButtonEl.classList.remove('colab-df-spinner');\n",
              "      quickchartButtonEl.classList.add('colab-df-quickchart-complete');\n",
              "    }\n",
              "    (() => {\n",
              "      let quickchartButtonEl =\n",
              "        document.querySelector('#df-683dc48f-ac85-4325-b6e6-526715961e93 button');\n",
              "      quickchartButtonEl.style.display =\n",
              "        google.colab.kernel.accessAllowed ? 'block' : 'none';\n",
              "    })();\n",
              "  </script>\n",
              "</div>\n",
              "\n",
              "  <div id=\"id_c37bb19a-0293-4998-975d-675bde67250b\">\n",
              "    <style>\n",
              "      .colab-df-generate {\n",
              "        background-color: #E8F0FE;\n",
              "        border: none;\n",
              "        border-radius: 50%;\n",
              "        cursor: pointer;\n",
              "        display: none;\n",
              "        fill: #1967D2;\n",
              "        height: 32px;\n",
              "        padding: 0 0 0 0;\n",
              "        width: 32px;\n",
              "      }\n",
              "\n",
              "      .colab-df-generate:hover {\n",
              "        background-color: #E2EBFA;\n",
              "        box-shadow: 0px 1px 2px rgba(60, 64, 67, 0.3), 0px 1px 3px 1px rgba(60, 64, 67, 0.15);\n",
              "        fill: #174EA6;\n",
              "      }\n",
              "\n",
              "      [theme=dark] .colab-df-generate {\n",
              "        background-color: #3B4455;\n",
              "        fill: #D2E3FC;\n",
              "      }\n",
              "\n",
              "      [theme=dark] .colab-df-generate:hover {\n",
              "        background-color: #434B5C;\n",
              "        box-shadow: 0px 1px 3px 1px rgba(0, 0, 0, 0.15);\n",
              "        filter: drop-shadow(0px 1px 2px rgba(0, 0, 0, 0.3));\n",
              "        fill: #FFFFFF;\n",
              "      }\n",
              "    </style>\n",
              "    <button class=\"colab-df-generate\" onclick=\"generateWithVariable('best_model_df')\"\n",
              "            title=\"Generate code using this dataframe.\"\n",
              "            style=\"display:none;\">\n",
              "\n",
              "  <svg xmlns=\"http://www.w3.org/2000/svg\" height=\"24px\"viewBox=\"0 0 24 24\"\n",
              "       width=\"24px\">\n",
              "    <path d=\"M7,19H8.4L18.45,9,17,7.55,7,17.6ZM5,21V16.75L18.45,3.32a2,2,0,0,1,2.83,0l1.4,1.43a1.91,1.91,0,0,1,.58,1.4,1.91,1.91,0,0,1-.58,1.4L9.25,21ZM18.45,9,17,7.55Zm-12,3A5.31,5.31,0,0,0,4.9,8.1,5.31,5.31,0,0,0,1,6.5,5.31,5.31,0,0,0,4.9,4.9,5.31,5.31,0,0,0,6.5,1,5.31,5.31,0,0,0,8.1,4.9,5.31,5.31,0,0,0,12,6.5,5.46,5.46,0,0,0,6.5,12Z\"/>\n",
              "  </svg>\n",
              "    </button>\n",
              "    <script>\n",
              "      (() => {\n",
              "      const buttonEl =\n",
              "        document.querySelector('#id_c37bb19a-0293-4998-975d-675bde67250b button.colab-df-generate');\n",
              "      buttonEl.style.display =\n",
              "        google.colab.kernel.accessAllowed ? 'block' : 'none';\n",
              "\n",
              "      buttonEl.onclick = () => {\n",
              "        google.colab.notebook.generateWithVariable('best_model_df');\n",
              "      }\n",
              "      })();\n",
              "    </script>\n",
              "  </div>\n",
              "\n",
              "    </div>\n",
              "  </div>\n"
            ],
            "application/vnd.google.colaboratory.intrinsic+json": {
              "type": "dataframe",
              "variable_name": "best_model_df",
              "summary": "{\n  \"name\": \"best_model_df\",\n  \"rows\": 5,\n  \"fields\": [\n    {\n      \"column\": \"index\",\n      \"properties\": {\n        \"dtype\": \"string\",\n        \"num_unique_values\": 5,\n        \"samples\": [\n          \"split1\",\n          \"split4\",\n          \"split2\"\n        ],\n        \"semantic_type\": \"\",\n        \"description\": \"\"\n      }\n    },\n    {\n      \"column\": \"train_neg_mean_squared_error\",\n      \"properties\": {\n        \"dtype\": \"date\",\n        \"min\": -0.036549328709936296,\n        \"max\": -0.028601241259918843,\n        \"num_unique_values\": 5,\n        \"samples\": [\n          -0.029259305112573054,\n          -0.033825422639641986,\n          -0.028601241259918843\n        ],\n        \"semantic_type\": \"\",\n        \"description\": \"\"\n      }\n    },\n    {\n      \"column\": \"val_neg_mean_squared_error\",\n      \"properties\": {\n        \"dtype\": \"date\",\n        \"min\": -0.1323383909400797,\n        \"max\": -0.04927754474705941,\n        \"num_unique_values\": 5,\n        \"samples\": [\n          -0.1323383909400797,\n          -0.06325976059968132,\n          -0.0938345001715829\n        ],\n        \"semantic_type\": \"\",\n        \"description\": \"\"\n      }\n    }\n  ]\n}"
            }
          },
          "metadata": {},
          "execution_count": 482
        }
      ]
    },
    {
      "cell_type": "code",
      "source": [
        "best_model_sklearn_ridge_variance_score_based_on_neg_mean_squared_error = np.mean(100*(best_model_df[\"val_neg_mean_squared_error\"] - best_model_df[\"train_neg_mean_squared_error\"])/best_model_df[\"train_neg_mean_squared_error\"])\n",
        "print(f\"best_model_sklearn_ridge_variance_score_based_on_neg_mean_squared_error: {best_model_sklearn_ridge_variance_score_based_on_neg_mean_squared_error}%\")"
      ],
      "metadata": {
        "colab": {
          "base_uri": "https://localhost:8080/"
        },
        "id": "BncnQNP50Fxq",
        "outputId": "ffcc81da-3ae1-4a51-c7d8-fe3ec1e66b86"
      },
      "execution_count": 483,
      "outputs": [
        {
          "output_type": "stream",
          "name": "stdout",
          "text": [
            "best_model_sklearn_ridge_variance_score_based_on_neg_mean_squared_error: 179.3033335109857%\n"
          ]
        }
      ]
    },
    {
      "cell_type": "code",
      "source": [
        "best_model_hyperparam_r2_train_df = best_model_hyperparam_df[best_model_hyperparam_df[\"index\"].str.contains(r\"split\\d+_train_r2\")]\n",
        "best_model_hyperparam_r2_train_df = best_model_hyperparam_r2_train_df.rename(columns={\"val\": \"train_r2\"})\n",
        "best_model_hyperparam_r2_train_df[\"index\"] = best_model_hyperparam_r2_train_df[\"index\"].str.extract(r\"(split\\d+)\", expand=False)"
      ],
      "metadata": {
        "id": "1qEu80CI3skS"
      },
      "execution_count": 484,
      "outputs": []
    },
    {
      "cell_type": "code",
      "source": [
        "best_model_hyperparam_r2_val_df = best_model_hyperparam_df[best_model_hyperparam_df[\"index\"].str.contains(r\"split\\d+_test_r2\")]\n",
        "best_model_hyperparam_r2_val_df = best_model_hyperparam_r2_val_df.rename(columns={\"val\": \"val_r2\"})\n",
        "best_model_hyperparam_r2_val_df[\"index\"] = best_model_hyperparam_r2_val_df[\"index\"].str.extract(r\"(split\\d+)\", expand=False)"
      ],
      "metadata": {
        "id": "8qn1fFK73smp"
      },
      "execution_count": 485,
      "outputs": []
    },
    {
      "cell_type": "code",
      "source": [
        "best_model_r2_df = best_model_hyperparam_r2_train_df.merge(best_model_hyperparam_r2_val_df, left_on=[\"index\"], right_on=[\"index\"], how=\"left\")"
      ],
      "metadata": {
        "id": "M_sMi0-E4HIw"
      },
      "execution_count": 486,
      "outputs": []
    },
    {
      "cell_type": "code",
      "source": [
        "best_model_sklearn_ridge_variance_score_based_on_r2 = np.mean(100*(best_model_r2_df[\"val_r2\"] - best_model_r2_df[\"train_r2\"])/best_model_r2_df[\"train_r2\"])\n",
        "print(f\"best_model_sklearn_ridge_variance_score_based_on_r2: {best_model_sklearn_ridge_variance_score_based_on_r2}%\")"
      ],
      "metadata": {
        "colab": {
          "base_uri": "https://localhost:8080/"
        },
        "id": "zlVfSM-D4L8i",
        "outputId": "677509ff-ff44-4092-ab9f-fdbb2501e4c1"
      },
      "execution_count": 487,
      "outputs": [
        {
          "output_type": "stream",
          "name": "stdout",
          "text": [
            "best_model_sklearn_ridge_variance_score_based_on_r2: -40.224847959146736%\n"
          ]
        }
      ]
    },
    {
      "cell_type": "code",
      "source": [
        "print(f\"Best model Expected train set r2: {sorted_by_mse_hyperparam_cv_results.iloc[0]['mean_train_r2']}\")\n",
        "print(f\"Best model Expected test set r2: {sorted_by_mse_hyperparam_cv_results.iloc[0]['mean_test_r2']}\")\n",
        "\n",
        "print(f\"Best model Expected train set mse: {np.abs(sorted_by_mse_hyperparam_cv_results.iloc[0]['mean_train_neg_mean_squared_error'])}\")\n",
        "print(f\"Best model Expected test set mse: {np.abs(sorted_by_mse_hyperparam_cv_results.iloc[0]['mean_test_neg_mean_squared_error'])}\")"
      ],
      "metadata": {
        "colab": {
          "base_uri": "https://localhost:8080/"
        },
        "id": "z5v-EjFX4L-y",
        "outputId": "42b3fd19-e1bf-4cae-cf40-e5d6341e50a2"
      },
      "execution_count": 489,
      "outputs": [
        {
          "output_type": "stream",
          "name": "stdout",
          "text": [
            "Best model Expected train set r2: 0.8090739984721415\n",
            "Best model Expected test set r2: 0.4813585802653931\n",
            "Best model Expected train set mse: 0.03187824763958709\n",
            "Best model Expected test set mse: 0.08608042843210786\n"
          ]
        }
      ]
    },
    {
      "cell_type": "code",
      "source": [
        "best_model_estimator = grid_cv.best_estimator_"
      ],
      "metadata": {
        "id": "a3cYKgX95CxD"
      },
      "execution_count": 490,
      "outputs": []
    },
    {
      "cell_type": "code",
      "source": [
        "best_model_estimator.regressor_.named_steps[\"model\"]"
      ],
      "metadata": {
        "colab": {
          "base_uri": "https://localhost:8080/",
          "height": 75
        },
        "id": "HFDDtBpS5Ns8",
        "outputId": "772f70c9-b85c-4645-c15d-e3b4d82c717e"
      },
      "execution_count": 491,
      "outputs": [
        {
          "output_type": "execute_result",
          "data": {
            "text/plain": [
              "Ridge(alpha=81.72857142857143, fit_intercept=False)"
            ],
            "text/html": [
              "<style>#sk-container-id-28 {color: black;}#sk-container-id-28 pre{padding: 0;}#sk-container-id-28 div.sk-toggleable {background-color: white;}#sk-container-id-28 label.sk-toggleable__label {cursor: pointer;display: block;width: 100%;margin-bottom: 0;padding: 0.3em;box-sizing: border-box;text-align: center;}#sk-container-id-28 label.sk-toggleable__label-arrow:before {content: \"▸\";float: left;margin-right: 0.25em;color: #696969;}#sk-container-id-28 label.sk-toggleable__label-arrow:hover:before {color: black;}#sk-container-id-28 div.sk-estimator:hover label.sk-toggleable__label-arrow:before {color: black;}#sk-container-id-28 div.sk-toggleable__content {max-height: 0;max-width: 0;overflow: hidden;text-align: left;background-color: #f0f8ff;}#sk-container-id-28 div.sk-toggleable__content pre {margin: 0.2em;color: black;border-radius: 0.25em;background-color: #f0f8ff;}#sk-container-id-28 input.sk-toggleable__control:checked~div.sk-toggleable__content {max-height: 200px;max-width: 100%;overflow: auto;}#sk-container-id-28 input.sk-toggleable__control:checked~label.sk-toggleable__label-arrow:before {content: \"▾\";}#sk-container-id-28 div.sk-estimator input.sk-toggleable__control:checked~label.sk-toggleable__label {background-color: #d4ebff;}#sk-container-id-28 div.sk-label input.sk-toggleable__control:checked~label.sk-toggleable__label {background-color: #d4ebff;}#sk-container-id-28 input.sk-hidden--visually {border: 0;clip: rect(1px 1px 1px 1px);clip: rect(1px, 1px, 1px, 1px);height: 1px;margin: -1px;overflow: hidden;padding: 0;position: absolute;width: 1px;}#sk-container-id-28 div.sk-estimator {font-family: monospace;background-color: #f0f8ff;border: 1px dotted black;border-radius: 0.25em;box-sizing: border-box;margin-bottom: 0.5em;}#sk-container-id-28 div.sk-estimator:hover {background-color: #d4ebff;}#sk-container-id-28 div.sk-parallel-item::after {content: \"\";width: 100%;border-bottom: 1px solid gray;flex-grow: 1;}#sk-container-id-28 div.sk-label:hover label.sk-toggleable__label {background-color: #d4ebff;}#sk-container-id-28 div.sk-serial::before {content: \"\";position: absolute;border-left: 1px solid gray;box-sizing: border-box;top: 0;bottom: 0;left: 50%;z-index: 0;}#sk-container-id-28 div.sk-serial {display: flex;flex-direction: column;align-items: center;background-color: white;padding-right: 0.2em;padding-left: 0.2em;position: relative;}#sk-container-id-28 div.sk-item {position: relative;z-index: 1;}#sk-container-id-28 div.sk-parallel {display: flex;align-items: stretch;justify-content: center;background-color: white;position: relative;}#sk-container-id-28 div.sk-item::before, #sk-container-id-28 div.sk-parallel-item::before {content: \"\";position: absolute;border-left: 1px solid gray;box-sizing: border-box;top: 0;bottom: 0;left: 50%;z-index: -1;}#sk-container-id-28 div.sk-parallel-item {display: flex;flex-direction: column;z-index: 1;position: relative;background-color: white;}#sk-container-id-28 div.sk-parallel-item:first-child::after {align-self: flex-end;width: 50%;}#sk-container-id-28 div.sk-parallel-item:last-child::after {align-self: flex-start;width: 50%;}#sk-container-id-28 div.sk-parallel-item:only-child::after {width: 0;}#sk-container-id-28 div.sk-dashed-wrapped {border: 1px dashed gray;margin: 0 0.4em 0.5em 0.4em;box-sizing: border-box;padding-bottom: 0.4em;background-color: white;}#sk-container-id-28 div.sk-label label {font-family: monospace;font-weight: bold;display: inline-block;line-height: 1.2em;}#sk-container-id-28 div.sk-label-container {text-align: center;}#sk-container-id-28 div.sk-container {/* jupyter's `normalize.less` sets `[hidden] { display: none; }` but bootstrap.min.css set `[hidden] { display: none !important; }` so we also need the `!important` here to be able to override the default hidden behavior on the sphinx rendered scikit-learn.org. See: https://github.com/scikit-learn/scikit-learn/issues/21755 */display: inline-block !important;position: relative;}#sk-container-id-28 div.sk-text-repr-fallback {display: none;}</style><div id=\"sk-container-id-28\" class=\"sk-top-container\"><div class=\"sk-text-repr-fallback\"><pre>Ridge(alpha=81.72857142857143, fit_intercept=False)</pre><b>In a Jupyter environment, please rerun this cell to show the HTML representation or trust the notebook. <br />On GitHub, the HTML representation is unable to render, please try loading this page with nbviewer.org.</b></div><div class=\"sk-container\" hidden><div class=\"sk-item\"><div class=\"sk-estimator sk-toggleable\"><input class=\"sk-toggleable__control sk-hidden--visually\" id=\"sk-estimator-id-145\" type=\"checkbox\" checked><label for=\"sk-estimator-id-145\" class=\"sk-toggleable__label sk-toggleable__label-arrow\">Ridge</label><div class=\"sk-toggleable__content\"><pre>Ridge(alpha=81.72857142857143, fit_intercept=False)</pre></div></div></div></div></div>"
            ]
          },
          "metadata": {},
          "execution_count": 491
        }
      ]
    },
    {
      "cell_type": "code",
      "source": [
        "print(f\"Best model Actual train set r2: {r2_score(y_train, best_model_estimator.predict(x_train))}\")\n",
        "print(f\"Best model Actual train set mse: {mean_squared_error(y_train, best_model_estimator.predict(x_train))}\")"
      ],
      "metadata": {
        "colab": {
          "base_uri": "https://localhost:8080/"
        },
        "id": "FS8qQz7p3sox",
        "outputId": "d75bc031-16a3-486b-d915-790dff1356b3"
      },
      "execution_count": 492,
      "outputs": [
        {
          "output_type": "stream",
          "name": "stdout",
          "text": [
            "Best model Actual train set r2: 0.800041465540275\n",
            "Best model Actual train set mse: 0.033416727390453094\n"
          ]
        }
      ]
    },
    {
      "cell_type": "code",
      "source": [
        "print(f\"Best model Actual test set r2: {r2_score(y_test, best_model_estimator.predict(x_test))}\")\n",
        "print(f\"Best model Actual test set mse: {mean_squared_error(y_test, best_model_estimator.predict(x_test))}\")"
      ],
      "metadata": {
        "colab": {
          "base_uri": "https://localhost:8080/"
        },
        "id": "jBAJzPcE3sq7",
        "outputId": "6cbf97f0-4041-4328-ee62-41eff5679453"
      },
      "execution_count": 493,
      "outputs": [
        {
          "output_type": "stream",
          "name": "stdout",
          "text": [
            "Best model Actual test set r2: 0.5084550494818155\n",
            "Best model Actual test set mse: 0.1213732573393326\n"
          ]
        }
      ]
    },
    {
      "cell_type": "markdown",
      "source": [
        "## Step 4.2 Another way to see overfitting is to calculate predicted R2 (ONLY FOR LINEAR REGRESSION!!)"
      ],
      "metadata": {
        "id": "svqxy_fX8iwD"
      }
    },
    {
      "cell_type": "code",
      "source": [
        "grid_cv.best_estimator_"
      ],
      "metadata": {
        "colab": {
          "base_uri": "https://localhost:8080/",
          "height": 201
        },
        "id": "cUqaHk758ybj",
        "outputId": "749749f2-2f07-40ae-8611-2373af04c1bb"
      },
      "execution_count": 519,
      "outputs": [
        {
          "output_type": "execute_result",
          "data": {
            "text/plain": [
              "TransformedTargetRegressor(regressor=Pipeline(steps=[('standardize',\n",
              "                                                      Pipeline(steps=[('scaler',\n",
              "                                                                       StandardScaler())])),\n",
              "                                                     ('model',\n",
              "                                                      Ridge(alpha=81.72857142857143,\n",
              "                                                            fit_intercept=False))]),\n",
              "                           transformer=StandardScaler())"
            ],
            "text/html": [
              "<style>#sk-container-id-30 {color: black;}#sk-container-id-30 pre{padding: 0;}#sk-container-id-30 div.sk-toggleable {background-color: white;}#sk-container-id-30 label.sk-toggleable__label {cursor: pointer;display: block;width: 100%;margin-bottom: 0;padding: 0.3em;box-sizing: border-box;text-align: center;}#sk-container-id-30 label.sk-toggleable__label-arrow:before {content: \"▸\";float: left;margin-right: 0.25em;color: #696969;}#sk-container-id-30 label.sk-toggleable__label-arrow:hover:before {color: black;}#sk-container-id-30 div.sk-estimator:hover label.sk-toggleable__label-arrow:before {color: black;}#sk-container-id-30 div.sk-toggleable__content {max-height: 0;max-width: 0;overflow: hidden;text-align: left;background-color: #f0f8ff;}#sk-container-id-30 div.sk-toggleable__content pre {margin: 0.2em;color: black;border-radius: 0.25em;background-color: #f0f8ff;}#sk-container-id-30 input.sk-toggleable__control:checked~div.sk-toggleable__content {max-height: 200px;max-width: 100%;overflow: auto;}#sk-container-id-30 input.sk-toggleable__control:checked~label.sk-toggleable__label-arrow:before {content: \"▾\";}#sk-container-id-30 div.sk-estimator input.sk-toggleable__control:checked~label.sk-toggleable__label {background-color: #d4ebff;}#sk-container-id-30 div.sk-label input.sk-toggleable__control:checked~label.sk-toggleable__label {background-color: #d4ebff;}#sk-container-id-30 input.sk-hidden--visually {border: 0;clip: rect(1px 1px 1px 1px);clip: rect(1px, 1px, 1px, 1px);height: 1px;margin: -1px;overflow: hidden;padding: 0;position: absolute;width: 1px;}#sk-container-id-30 div.sk-estimator {font-family: monospace;background-color: #f0f8ff;border: 1px dotted black;border-radius: 0.25em;box-sizing: border-box;margin-bottom: 0.5em;}#sk-container-id-30 div.sk-estimator:hover {background-color: #d4ebff;}#sk-container-id-30 div.sk-parallel-item::after {content: \"\";width: 100%;border-bottom: 1px solid gray;flex-grow: 1;}#sk-container-id-30 div.sk-label:hover label.sk-toggleable__label {background-color: #d4ebff;}#sk-container-id-30 div.sk-serial::before {content: \"\";position: absolute;border-left: 1px solid gray;box-sizing: border-box;top: 0;bottom: 0;left: 50%;z-index: 0;}#sk-container-id-30 div.sk-serial {display: flex;flex-direction: column;align-items: center;background-color: white;padding-right: 0.2em;padding-left: 0.2em;position: relative;}#sk-container-id-30 div.sk-item {position: relative;z-index: 1;}#sk-container-id-30 div.sk-parallel {display: flex;align-items: stretch;justify-content: center;background-color: white;position: relative;}#sk-container-id-30 div.sk-item::before, #sk-container-id-30 div.sk-parallel-item::before {content: \"\";position: absolute;border-left: 1px solid gray;box-sizing: border-box;top: 0;bottom: 0;left: 50%;z-index: -1;}#sk-container-id-30 div.sk-parallel-item {display: flex;flex-direction: column;z-index: 1;position: relative;background-color: white;}#sk-container-id-30 div.sk-parallel-item:first-child::after {align-self: flex-end;width: 50%;}#sk-container-id-30 div.sk-parallel-item:last-child::after {align-self: flex-start;width: 50%;}#sk-container-id-30 div.sk-parallel-item:only-child::after {width: 0;}#sk-container-id-30 div.sk-dashed-wrapped {border: 1px dashed gray;margin: 0 0.4em 0.5em 0.4em;box-sizing: border-box;padding-bottom: 0.4em;background-color: white;}#sk-container-id-30 div.sk-label label {font-family: monospace;font-weight: bold;display: inline-block;line-height: 1.2em;}#sk-container-id-30 div.sk-label-container {text-align: center;}#sk-container-id-30 div.sk-container {/* jupyter's `normalize.less` sets `[hidden] { display: none; }` but bootstrap.min.css set `[hidden] { display: none !important; }` so we also need the `!important` here to be able to override the default hidden behavior on the sphinx rendered scikit-learn.org. See: https://github.com/scikit-learn/scikit-learn/issues/21755 */display: inline-block !important;position: relative;}#sk-container-id-30 div.sk-text-repr-fallback {display: none;}</style><div id=\"sk-container-id-30\" class=\"sk-top-container\"><div class=\"sk-text-repr-fallback\"><pre>TransformedTargetRegressor(regressor=Pipeline(steps=[(&#x27;standardize&#x27;,\n",
              "                                                      Pipeline(steps=[(&#x27;scaler&#x27;,\n",
              "                                                                       StandardScaler())])),\n",
              "                                                     (&#x27;model&#x27;,\n",
              "                                                      Ridge(alpha=81.72857142857143,\n",
              "                                                            fit_intercept=False))]),\n",
              "                           transformer=StandardScaler())</pre><b>In a Jupyter environment, please rerun this cell to show the HTML representation or trust the notebook. <br />On GitHub, the HTML representation is unable to render, please try loading this page with nbviewer.org.</b></div><div class=\"sk-container\" hidden><div class=\"sk-item sk-dashed-wrapped\"><div class=\"sk-label-container\"><div class=\"sk-label sk-toggleable\"><input class=\"sk-toggleable__control sk-hidden--visually\" id=\"sk-estimator-id-153\" type=\"checkbox\" ><label for=\"sk-estimator-id-153\" class=\"sk-toggleable__label sk-toggleable__label-arrow\">TransformedTargetRegressor</label><div class=\"sk-toggleable__content\"><pre>TransformedTargetRegressor(regressor=Pipeline(steps=[(&#x27;standardize&#x27;,\n",
              "                                                      Pipeline(steps=[(&#x27;scaler&#x27;,\n",
              "                                                                       StandardScaler())])),\n",
              "                                                     (&#x27;model&#x27;,\n",
              "                                                      Ridge(alpha=81.72857142857143,\n",
              "                                                            fit_intercept=False))]),\n",
              "                           transformer=StandardScaler())</pre></div></div></div><div class=\"sk-parallel\"><div class=\"sk-parallel-item\"><div class=\"sk-item\"><div class=\"sk-label-container\"><div class=\"sk-label sk-toggleable\"><input class=\"sk-toggleable__control sk-hidden--visually\" id=\"sk-estimator-id-154\" type=\"checkbox\" ><label for=\"sk-estimator-id-154\" class=\"sk-toggleable__label sk-toggleable__label-arrow\">regressor: Pipeline</label><div class=\"sk-toggleable__content\"><pre>Pipeline(steps=[(&#x27;standardize&#x27;, Pipeline(steps=[(&#x27;scaler&#x27;, StandardScaler())])),\n",
              "                (&#x27;model&#x27;, Ridge(alpha=81.72857142857143, fit_intercept=False))])</pre></div></div></div><div class=\"sk-serial\"><div class=\"sk-item\"><div class=\"sk-serial\"><div class=\"sk-item\"><div class=\"sk-label-container\"><div class=\"sk-label sk-toggleable\"><input class=\"sk-toggleable__control sk-hidden--visually\" id=\"sk-estimator-id-155\" type=\"checkbox\" ><label for=\"sk-estimator-id-155\" class=\"sk-toggleable__label sk-toggleable__label-arrow\">standardize: Pipeline</label><div class=\"sk-toggleable__content\"><pre>Pipeline(steps=[(&#x27;scaler&#x27;, StandardScaler())])</pre></div></div></div><div class=\"sk-serial\"><div class=\"sk-item\"><div class=\"sk-estimator sk-toggleable\"><input class=\"sk-toggleable__control sk-hidden--visually\" id=\"sk-estimator-id-156\" type=\"checkbox\" ><label for=\"sk-estimator-id-156\" class=\"sk-toggleable__label sk-toggleable__label-arrow\">StandardScaler</label><div class=\"sk-toggleable__content\"><pre>StandardScaler()</pre></div></div></div></div></div><div class=\"sk-item\"><div class=\"sk-estimator sk-toggleable\"><input class=\"sk-toggleable__control sk-hidden--visually\" id=\"sk-estimator-id-157\" type=\"checkbox\" ><label for=\"sk-estimator-id-157\" class=\"sk-toggleable__label sk-toggleable__label-arrow\">Ridge</label><div class=\"sk-toggleable__content\"><pre>Ridge(alpha=81.72857142857143, fit_intercept=False)</pre></div></div></div></div></div></div></div></div><div class=\"sk-parallel-item\"><div class=\"sk-item\"><div class=\"sk-label-container\"><div class=\"sk-label sk-toggleable\"><input class=\"sk-toggleable__control sk-hidden--visually\" id=\"sk-estimator-id-158\" type=\"checkbox\" ><label for=\"sk-estimator-id-158\" class=\"sk-toggleable__label sk-toggleable__label-arrow\">transformer: StandardScaler</label><div class=\"sk-toggleable__content\"><pre>StandardScaler()</pre></div></div></div><div class=\"sk-serial\"><div class=\"sk-item\"><div class=\"sk-estimator sk-toggleable\"><input class=\"sk-toggleable__control sk-hidden--visually\" id=\"sk-estimator-id-159\" type=\"checkbox\" ><label for=\"sk-estimator-id-159\" class=\"sk-toggleable__label sk-toggleable__label-arrow\">StandardScaler</label><div class=\"sk-toggleable__content\"><pre>StandardScaler()</pre></div></div></div></div></div></div></div></div></div></div>"
            ]
          },
          "metadata": {},
          "execution_count": 519
        }
      ]
    },
    {
      "cell_type": "code",
      "source": [
        "best_model_sklean_ridge_predicted_r2 = get_r2_predicted(x_train, y_train, grid_cv.best_estimator_)\n",
        "print(f\"best_model_sklean_ridge_predicted_r2: {best_model_sklean_ridge_predicted_r2}\")"
      ],
      "metadata": {
        "colab": {
          "base_uri": "https://localhost:8080/"
        },
        "id": "glLPgoOp8e90",
        "outputId": "2125ac1f-71e1-40c7-e869-e36a7ca799a8"
      },
      "execution_count": 495,
      "outputs": [
        {
          "output_type": "stream",
          "name": "stdout",
          "text": [
            "best_model_sklean_ridge_predicted_r2: 0.5349059100096937\n"
          ]
        }
      ]
    },
    {
      "cell_type": "code",
      "source": [
        "print(f\"Best modelDifference between R2 and predicted R2: {r2_score(y_train, best_model_estimator.predict(x_train)) - best_model_sklean_ridge_predicted_r2}\")"
      ],
      "metadata": {
        "colab": {
          "base_uri": "https://localhost:8080/"
        },
        "id": "jQ08FhOa88sI",
        "outputId": "be38aacf-77e8-4d3d-a41f-8a9b97b07419"
      },
      "execution_count": 496,
      "outputs": [
        {
          "output_type": "stream",
          "name": "stdout",
          "text": [
            "Best modelDifference between R2 and predicted R2: 0.2649653358859132\n"
          ]
        }
      ]
    },
    {
      "cell_type": "code",
      "source": [
        "np.argsort(-np.abs(grid_cv.best_estimator_.regressor_.named_steps[\"model\"].coef_))"
      ],
      "metadata": {
        "colab": {
          "base_uri": "https://localhost:8080/"
        },
        "id": "q7-tp1EfI2Zo",
        "outputId": "5a6696ed-005f-412d-cbf8-2d6f564a0900"
      },
      "execution_count": 533,
      "outputs": [
        {
          "output_type": "execute_result",
          "data": {
            "text/plain": [
              "array([ 11,   1,   5,  10,   9,  24,  79,  22,  15,   7,  63,  37,  84,\n",
              "        21, 102,   0,  61,   2,  23,  31,  94,  96, 110,  81,  41,  16,\n",
              "        35,  33,  64,  62,  59,  13,  85,  86,  57,  12, 105, 103,  27,\n",
              "        18,  29,  83, 107,  45,  80,  36,  20,  93,  82,  92, 111, 112,\n",
              "        17,  42,  87,  55, 100,  56,  60,  38, 104,  78,  88,  49,  66,\n",
              "         4,  50,  51,  58,  73,  19,  40,  54,  71,  39,  69,  32,  98,\n",
              "        72,  14,  97,  28,  76,  44,  67,  26,  43, 101,  75,  99,  47,\n",
              "        74,  90,  89, 106,  46,  30,  91,   8,  53,  70,  25,   3,  68,\n",
              "       109,  34,  48,  52,  77, 108,   6,  95,  65])"
            ]
          },
          "metadata": {},
          "execution_count": 533
        }
      ]
    },
    {
      "cell_type": "markdown",
      "source": [
        "## Step 5: PLot coeffcient importance for best model using cross validation\n",
        "- https://inria.github.io/scikit-learn-mooc/python_scripts/dev_features_importance.html"
      ],
      "metadata": {
        "id": "981Y-pCsMJPy"
      }
    },
    {
      "cell_type": "code",
      "source": [
        "best_cv_model = cross_validate(\n",
        "    grid_cv.best_estimator_,\n",
        "    x_train,\n",
        "    y_train,\n",
        "    cv=5,\n",
        "    return_estimator=True,\n",
        "    n_jobs=2,\n",
        ")"
      ],
      "metadata": {
        "id": "humwhcpuMU8S"
      },
      "execution_count": 520,
      "outputs": []
    },
    {
      "cell_type": "code",
      "source": [
        "best_cv_model[\"estimator\"][0]"
      ],
      "metadata": {
        "colab": {
          "base_uri": "https://localhost:8080/",
          "height": 178
        },
        "id": "KkRvAFePM3C-",
        "outputId": "b29d87e4-2e73-459b-b1ab-ef68f77448ed"
      },
      "execution_count": 523,
      "outputs": [
        {
          "output_type": "execute_result",
          "data": {
            "text/plain": [
              "TransformedTargetRegressor(regressor=Pipeline(steps=[('standardize',\n",
              "                                                      Pipeline(steps=[('scaler',\n",
              "                                                                       StandardScaler())])),\n",
              "                                                     ('model',\n",
              "                                                      Ridge(alpha=81.72857142857143,\n",
              "                                                            fit_intercept=False))]),\n",
              "                           transformer=StandardScaler())"
            ],
            "text/html": [
              "<style>#sk-container-id-31 {color: black;}#sk-container-id-31 pre{padding: 0;}#sk-container-id-31 div.sk-toggleable {background-color: white;}#sk-container-id-31 label.sk-toggleable__label {cursor: pointer;display: block;width: 100%;margin-bottom: 0;padding: 0.3em;box-sizing: border-box;text-align: center;}#sk-container-id-31 label.sk-toggleable__label-arrow:before {content: \"▸\";float: left;margin-right: 0.25em;color: #696969;}#sk-container-id-31 label.sk-toggleable__label-arrow:hover:before {color: black;}#sk-container-id-31 div.sk-estimator:hover label.sk-toggleable__label-arrow:before {color: black;}#sk-container-id-31 div.sk-toggleable__content {max-height: 0;max-width: 0;overflow: hidden;text-align: left;background-color: #f0f8ff;}#sk-container-id-31 div.sk-toggleable__content pre {margin: 0.2em;color: black;border-radius: 0.25em;background-color: #f0f8ff;}#sk-container-id-31 input.sk-toggleable__control:checked~div.sk-toggleable__content {max-height: 200px;max-width: 100%;overflow: auto;}#sk-container-id-31 input.sk-toggleable__control:checked~label.sk-toggleable__label-arrow:before {content: \"▾\";}#sk-container-id-31 div.sk-estimator input.sk-toggleable__control:checked~label.sk-toggleable__label {background-color: #d4ebff;}#sk-container-id-31 div.sk-label input.sk-toggleable__control:checked~label.sk-toggleable__label {background-color: #d4ebff;}#sk-container-id-31 input.sk-hidden--visually {border: 0;clip: rect(1px 1px 1px 1px);clip: rect(1px, 1px, 1px, 1px);height: 1px;margin: -1px;overflow: hidden;padding: 0;position: absolute;width: 1px;}#sk-container-id-31 div.sk-estimator {font-family: monospace;background-color: #f0f8ff;border: 1px dotted black;border-radius: 0.25em;box-sizing: border-box;margin-bottom: 0.5em;}#sk-container-id-31 div.sk-estimator:hover {background-color: #d4ebff;}#sk-container-id-31 div.sk-parallel-item::after {content: \"\";width: 100%;border-bottom: 1px solid gray;flex-grow: 1;}#sk-container-id-31 div.sk-label:hover label.sk-toggleable__label {background-color: #d4ebff;}#sk-container-id-31 div.sk-serial::before {content: \"\";position: absolute;border-left: 1px solid gray;box-sizing: border-box;top: 0;bottom: 0;left: 50%;z-index: 0;}#sk-container-id-31 div.sk-serial {display: flex;flex-direction: column;align-items: center;background-color: white;padding-right: 0.2em;padding-left: 0.2em;position: relative;}#sk-container-id-31 div.sk-item {position: relative;z-index: 1;}#sk-container-id-31 div.sk-parallel {display: flex;align-items: stretch;justify-content: center;background-color: white;position: relative;}#sk-container-id-31 div.sk-item::before, #sk-container-id-31 div.sk-parallel-item::before {content: \"\";position: absolute;border-left: 1px solid gray;box-sizing: border-box;top: 0;bottom: 0;left: 50%;z-index: -1;}#sk-container-id-31 div.sk-parallel-item {display: flex;flex-direction: column;z-index: 1;position: relative;background-color: white;}#sk-container-id-31 div.sk-parallel-item:first-child::after {align-self: flex-end;width: 50%;}#sk-container-id-31 div.sk-parallel-item:last-child::after {align-self: flex-start;width: 50%;}#sk-container-id-31 div.sk-parallel-item:only-child::after {width: 0;}#sk-container-id-31 div.sk-dashed-wrapped {border: 1px dashed gray;margin: 0 0.4em 0.5em 0.4em;box-sizing: border-box;padding-bottom: 0.4em;background-color: white;}#sk-container-id-31 div.sk-label label {font-family: monospace;font-weight: bold;display: inline-block;line-height: 1.2em;}#sk-container-id-31 div.sk-label-container {text-align: center;}#sk-container-id-31 div.sk-container {/* jupyter's `normalize.less` sets `[hidden] { display: none; }` but bootstrap.min.css set `[hidden] { display: none !important; }` so we also need the `!important` here to be able to override the default hidden behavior on the sphinx rendered scikit-learn.org. See: https://github.com/scikit-learn/scikit-learn/issues/21755 */display: inline-block !important;position: relative;}#sk-container-id-31 div.sk-text-repr-fallback {display: none;}</style><div id=\"sk-container-id-31\" class=\"sk-top-container\"><div class=\"sk-text-repr-fallback\"><pre>TransformedTargetRegressor(regressor=Pipeline(steps=[(&#x27;standardize&#x27;,\n",
              "                                                      Pipeline(steps=[(&#x27;scaler&#x27;,\n",
              "                                                                       StandardScaler())])),\n",
              "                                                     (&#x27;model&#x27;,\n",
              "                                                      Ridge(alpha=81.72857142857143,\n",
              "                                                            fit_intercept=False))]),\n",
              "                           transformer=StandardScaler())</pre><b>In a Jupyter environment, please rerun this cell to show the HTML representation or trust the notebook. <br />On GitHub, the HTML representation is unable to render, please try loading this page with nbviewer.org.</b></div><div class=\"sk-container\" hidden><div class=\"sk-item sk-dashed-wrapped\"><div class=\"sk-label-container\"><div class=\"sk-label sk-toggleable\"><input class=\"sk-toggleable__control sk-hidden--visually\" id=\"sk-estimator-id-160\" type=\"checkbox\" ><label for=\"sk-estimator-id-160\" class=\"sk-toggleable__label sk-toggleable__label-arrow\">TransformedTargetRegressor</label><div class=\"sk-toggleable__content\"><pre>TransformedTargetRegressor(regressor=Pipeline(steps=[(&#x27;standardize&#x27;,\n",
              "                                                      Pipeline(steps=[(&#x27;scaler&#x27;,\n",
              "                                                                       StandardScaler())])),\n",
              "                                                     (&#x27;model&#x27;,\n",
              "                                                      Ridge(alpha=81.72857142857143,\n",
              "                                                            fit_intercept=False))]),\n",
              "                           transformer=StandardScaler())</pre></div></div></div><div class=\"sk-parallel\"><div class=\"sk-parallel-item\"><div class=\"sk-item\"><div class=\"sk-label-container\"><div class=\"sk-label sk-toggleable\"><input class=\"sk-toggleable__control sk-hidden--visually\" id=\"sk-estimator-id-161\" type=\"checkbox\" ><label for=\"sk-estimator-id-161\" class=\"sk-toggleable__label sk-toggleable__label-arrow\">regressor: Pipeline</label><div class=\"sk-toggleable__content\"><pre>Pipeline(steps=[(&#x27;standardize&#x27;, Pipeline(steps=[(&#x27;scaler&#x27;, StandardScaler())])),\n",
              "                (&#x27;model&#x27;, Ridge(alpha=81.72857142857143, fit_intercept=False))])</pre></div></div></div><div class=\"sk-serial\"><div class=\"sk-item\"><div class=\"sk-serial\"><div class=\"sk-item\"><div class=\"sk-label-container\"><div class=\"sk-label sk-toggleable\"><input class=\"sk-toggleable__control sk-hidden--visually\" id=\"sk-estimator-id-162\" type=\"checkbox\" ><label for=\"sk-estimator-id-162\" class=\"sk-toggleable__label sk-toggleable__label-arrow\">standardize: Pipeline</label><div class=\"sk-toggleable__content\"><pre>Pipeline(steps=[(&#x27;scaler&#x27;, StandardScaler())])</pre></div></div></div><div class=\"sk-serial\"><div class=\"sk-item\"><div class=\"sk-estimator sk-toggleable\"><input class=\"sk-toggleable__control sk-hidden--visually\" id=\"sk-estimator-id-163\" type=\"checkbox\" ><label for=\"sk-estimator-id-163\" class=\"sk-toggleable__label sk-toggleable__label-arrow\">StandardScaler</label><div class=\"sk-toggleable__content\"><pre>StandardScaler()</pre></div></div></div></div></div><div class=\"sk-item\"><div class=\"sk-estimator sk-toggleable\"><input class=\"sk-toggleable__control sk-hidden--visually\" id=\"sk-estimator-id-164\" type=\"checkbox\" ><label for=\"sk-estimator-id-164\" class=\"sk-toggleable__label sk-toggleable__label-arrow\">Ridge</label><div class=\"sk-toggleable__content\"><pre>Ridge(alpha=81.72857142857143, fit_intercept=False)</pre></div></div></div></div></div></div></div></div><div class=\"sk-parallel-item\"><div class=\"sk-item\"><div class=\"sk-label-container\"><div class=\"sk-label sk-toggleable\"><input class=\"sk-toggleable__control sk-hidden--visually\" id=\"sk-estimator-id-165\" type=\"checkbox\" ><label for=\"sk-estimator-id-165\" class=\"sk-toggleable__label sk-toggleable__label-arrow\">transformer: StandardScaler</label><div class=\"sk-toggleable__content\"><pre>StandardScaler()</pre></div></div></div><div class=\"sk-serial\"><div class=\"sk-item\"><div class=\"sk-estimator sk-toggleable\"><input class=\"sk-toggleable__control sk-hidden--visually\" id=\"sk-estimator-id-166\" type=\"checkbox\" ><label for=\"sk-estimator-id-166\" class=\"sk-toggleable__label sk-toggleable__label-arrow\">StandardScaler</label><div class=\"sk-toggleable__content\"><pre>StandardScaler()</pre></div></div></div></div></div></div></div></div></div></div>"
            ]
          },
          "metadata": {},
          "execution_count": 523
        }
      ]
    },
    {
      "cell_type": "code",
      "source": [
        "best_coefs = pd.DataFrame(\n",
        "    [model.regressor_.named_steps[\"model\"].coef_ for model in best_cv_model[\"estimator\"]],\n",
        "    columns=x_columns,\n",
        ")"
      ],
      "metadata": {
        "id": "28To7EvFMU-Y"
      },
      "execution_count": 524,
      "outputs": []
    },
    {
      "cell_type": "code",
      "source": [
        "best_coefs"
      ],
      "metadata": {
        "colab": {
          "base_uri": "https://localhost:8080/",
          "height": 256
        },
        "id": "5JmlZX2iONUf",
        "outputId": "ff25ea73-6dcb-4b0f-9e5f-ac23a02dcbfa"
      },
      "execution_count": 528,
      "outputs": [
        {
          "output_type": "execute_result",
          "data": {
            "text/plain": [
              "        0         1         2         3         4         5         6    \\\n",
              "0  0.063296  0.247193  0.050064 -0.019147  0.013365 -0.167701 -0.009258   \n",
              "1  0.062718  0.184122  0.082665 -0.016144  0.017837 -0.151787  0.010233   \n",
              "2  0.068101  0.209971  0.049403  0.024241  0.020412 -0.147759 -0.006215   \n",
              "3  0.050713  0.237472  0.049853  0.002480  0.026666 -0.132581  0.006352   \n",
              "4  0.055586  0.250773  0.048046 -0.002007  0.013141 -0.151538 -0.008286   \n",
              "\n",
              "        7         8         9    ...       103       104       105       106  \\\n",
              "0  0.069486 -0.001230 -0.096773  ... -0.015576  0.025438 -0.028072 -0.006533   \n",
              "1  0.083893 -0.007200 -0.095407  ... -0.076686  0.034154 -0.052767 -0.037311   \n",
              "2  0.075953 -0.001012 -0.092102  ... -0.004174  0.003561 -0.042730  0.003322   \n",
              "3  0.058186  0.002188 -0.105777  ... -0.031850  0.007693 -0.034861 -0.011047   \n",
              "4  0.097200 -0.025189 -0.126527  ... -0.053589  0.042852 -0.024766 -0.011907   \n",
              "\n",
              "        107       108       109       110       111       112  \n",
              "0 -0.049081 -0.002103  0.001193  0.031669  0.029642 -0.028770  \n",
              "1 -0.024304 -0.008546  0.009020  0.055962  0.013026  0.010598  \n",
              "2 -0.009986 -0.008500 -0.020521  0.049362  0.023353 -0.030833  \n",
              "3 -0.053092  0.003734  0.014328  0.061103  0.013819 -0.020527  \n",
              "4 -0.008755 -0.001539 -0.011582  0.051948  0.018061 -0.024471  \n",
              "\n",
              "[5 rows x 113 columns]"
            ],
            "text/html": [
              "\n",
              "  <div id=\"df-ddcde4c0-448d-4c2e-af35-6a84f334e44d\" class=\"colab-df-container\">\n",
              "    <div>\n",
              "<style scoped>\n",
              "    .dataframe tbody tr th:only-of-type {\n",
              "        vertical-align: middle;\n",
              "    }\n",
              "\n",
              "    .dataframe tbody tr th {\n",
              "        vertical-align: top;\n",
              "    }\n",
              "\n",
              "    .dataframe thead th {\n",
              "        text-align: right;\n",
              "    }\n",
              "</style>\n",
              "<table border=\"1\" class=\"dataframe\">\n",
              "  <thead>\n",
              "    <tr style=\"text-align: right;\">\n",
              "      <th></th>\n",
              "      <th>0</th>\n",
              "      <th>1</th>\n",
              "      <th>2</th>\n",
              "      <th>3</th>\n",
              "      <th>4</th>\n",
              "      <th>5</th>\n",
              "      <th>6</th>\n",
              "      <th>7</th>\n",
              "      <th>8</th>\n",
              "      <th>9</th>\n",
              "      <th>...</th>\n",
              "      <th>103</th>\n",
              "      <th>104</th>\n",
              "      <th>105</th>\n",
              "      <th>106</th>\n",
              "      <th>107</th>\n",
              "      <th>108</th>\n",
              "      <th>109</th>\n",
              "      <th>110</th>\n",
              "      <th>111</th>\n",
              "      <th>112</th>\n",
              "    </tr>\n",
              "  </thead>\n",
              "  <tbody>\n",
              "    <tr>\n",
              "      <th>0</th>\n",
              "      <td>0.063296</td>\n",
              "      <td>0.247193</td>\n",
              "      <td>0.050064</td>\n",
              "      <td>-0.019147</td>\n",
              "      <td>0.013365</td>\n",
              "      <td>-0.167701</td>\n",
              "      <td>-0.009258</td>\n",
              "      <td>0.069486</td>\n",
              "      <td>-0.001230</td>\n",
              "      <td>-0.096773</td>\n",
              "      <td>...</td>\n",
              "      <td>-0.015576</td>\n",
              "      <td>0.025438</td>\n",
              "      <td>-0.028072</td>\n",
              "      <td>-0.006533</td>\n",
              "      <td>-0.049081</td>\n",
              "      <td>-0.002103</td>\n",
              "      <td>0.001193</td>\n",
              "      <td>0.031669</td>\n",
              "      <td>0.029642</td>\n",
              "      <td>-0.028770</td>\n",
              "    </tr>\n",
              "    <tr>\n",
              "      <th>1</th>\n",
              "      <td>0.062718</td>\n",
              "      <td>0.184122</td>\n",
              "      <td>0.082665</td>\n",
              "      <td>-0.016144</td>\n",
              "      <td>0.017837</td>\n",
              "      <td>-0.151787</td>\n",
              "      <td>0.010233</td>\n",
              "      <td>0.083893</td>\n",
              "      <td>-0.007200</td>\n",
              "      <td>-0.095407</td>\n",
              "      <td>...</td>\n",
              "      <td>-0.076686</td>\n",
              "      <td>0.034154</td>\n",
              "      <td>-0.052767</td>\n",
              "      <td>-0.037311</td>\n",
              "      <td>-0.024304</td>\n",
              "      <td>-0.008546</td>\n",
              "      <td>0.009020</td>\n",
              "      <td>0.055962</td>\n",
              "      <td>0.013026</td>\n",
              "      <td>0.010598</td>\n",
              "    </tr>\n",
              "    <tr>\n",
              "      <th>2</th>\n",
              "      <td>0.068101</td>\n",
              "      <td>0.209971</td>\n",
              "      <td>0.049403</td>\n",
              "      <td>0.024241</td>\n",
              "      <td>0.020412</td>\n",
              "      <td>-0.147759</td>\n",
              "      <td>-0.006215</td>\n",
              "      <td>0.075953</td>\n",
              "      <td>-0.001012</td>\n",
              "      <td>-0.092102</td>\n",
              "      <td>...</td>\n",
              "      <td>-0.004174</td>\n",
              "      <td>0.003561</td>\n",
              "      <td>-0.042730</td>\n",
              "      <td>0.003322</td>\n",
              "      <td>-0.009986</td>\n",
              "      <td>-0.008500</td>\n",
              "      <td>-0.020521</td>\n",
              "      <td>0.049362</td>\n",
              "      <td>0.023353</td>\n",
              "      <td>-0.030833</td>\n",
              "    </tr>\n",
              "    <tr>\n",
              "      <th>3</th>\n",
              "      <td>0.050713</td>\n",
              "      <td>0.237472</td>\n",
              "      <td>0.049853</td>\n",
              "      <td>0.002480</td>\n",
              "      <td>0.026666</td>\n",
              "      <td>-0.132581</td>\n",
              "      <td>0.006352</td>\n",
              "      <td>0.058186</td>\n",
              "      <td>0.002188</td>\n",
              "      <td>-0.105777</td>\n",
              "      <td>...</td>\n",
              "      <td>-0.031850</td>\n",
              "      <td>0.007693</td>\n",
              "      <td>-0.034861</td>\n",
              "      <td>-0.011047</td>\n",
              "      <td>-0.053092</td>\n",
              "      <td>0.003734</td>\n",
              "      <td>0.014328</td>\n",
              "      <td>0.061103</td>\n",
              "      <td>0.013819</td>\n",
              "      <td>-0.020527</td>\n",
              "    </tr>\n",
              "    <tr>\n",
              "      <th>4</th>\n",
              "      <td>0.055586</td>\n",
              "      <td>0.250773</td>\n",
              "      <td>0.048046</td>\n",
              "      <td>-0.002007</td>\n",
              "      <td>0.013141</td>\n",
              "      <td>-0.151538</td>\n",
              "      <td>-0.008286</td>\n",
              "      <td>0.097200</td>\n",
              "      <td>-0.025189</td>\n",
              "      <td>-0.126527</td>\n",
              "      <td>...</td>\n",
              "      <td>-0.053589</td>\n",
              "      <td>0.042852</td>\n",
              "      <td>-0.024766</td>\n",
              "      <td>-0.011907</td>\n",
              "      <td>-0.008755</td>\n",
              "      <td>-0.001539</td>\n",
              "      <td>-0.011582</td>\n",
              "      <td>0.051948</td>\n",
              "      <td>0.018061</td>\n",
              "      <td>-0.024471</td>\n",
              "    </tr>\n",
              "  </tbody>\n",
              "</table>\n",
              "<p>5 rows × 113 columns</p>\n",
              "</div>\n",
              "    <div class=\"colab-df-buttons\">\n",
              "\n",
              "  <div class=\"colab-df-container\">\n",
              "    <button class=\"colab-df-convert\" onclick=\"convertToInteractive('df-ddcde4c0-448d-4c2e-af35-6a84f334e44d')\"\n",
              "            title=\"Convert this dataframe to an interactive table.\"\n",
              "            style=\"display:none;\">\n",
              "\n",
              "  <svg xmlns=\"http://www.w3.org/2000/svg\" height=\"24px\" viewBox=\"0 -960 960 960\">\n",
              "    <path d=\"M120-120v-720h720v720H120Zm60-500h600v-160H180v160Zm220 220h160v-160H400v160Zm0 220h160v-160H400v160ZM180-400h160v-160H180v160Zm440 0h160v-160H620v160ZM180-180h160v-160H180v160Zm440 0h160v-160H620v160Z\"/>\n",
              "  </svg>\n",
              "    </button>\n",
              "\n",
              "  <style>\n",
              "    .colab-df-container {\n",
              "      display:flex;\n",
              "      gap: 12px;\n",
              "    }\n",
              "\n",
              "    .colab-df-convert {\n",
              "      background-color: #E8F0FE;\n",
              "      border: none;\n",
              "      border-radius: 50%;\n",
              "      cursor: pointer;\n",
              "      display: none;\n",
              "      fill: #1967D2;\n",
              "      height: 32px;\n",
              "      padding: 0 0 0 0;\n",
              "      width: 32px;\n",
              "    }\n",
              "\n",
              "    .colab-df-convert:hover {\n",
              "      background-color: #E2EBFA;\n",
              "      box-shadow: 0px 1px 2px rgba(60, 64, 67, 0.3), 0px 1px 3px 1px rgba(60, 64, 67, 0.15);\n",
              "      fill: #174EA6;\n",
              "    }\n",
              "\n",
              "    .colab-df-buttons div {\n",
              "      margin-bottom: 4px;\n",
              "    }\n",
              "\n",
              "    [theme=dark] .colab-df-convert {\n",
              "      background-color: #3B4455;\n",
              "      fill: #D2E3FC;\n",
              "    }\n",
              "\n",
              "    [theme=dark] .colab-df-convert:hover {\n",
              "      background-color: #434B5C;\n",
              "      box-shadow: 0px 1px 3px 1px rgba(0, 0, 0, 0.15);\n",
              "      filter: drop-shadow(0px 1px 2px rgba(0, 0, 0, 0.3));\n",
              "      fill: #FFFFFF;\n",
              "    }\n",
              "  </style>\n",
              "\n",
              "    <script>\n",
              "      const buttonEl =\n",
              "        document.querySelector('#df-ddcde4c0-448d-4c2e-af35-6a84f334e44d button.colab-df-convert');\n",
              "      buttonEl.style.display =\n",
              "        google.colab.kernel.accessAllowed ? 'block' : 'none';\n",
              "\n",
              "      async function convertToInteractive(key) {\n",
              "        const element = document.querySelector('#df-ddcde4c0-448d-4c2e-af35-6a84f334e44d');\n",
              "        const dataTable =\n",
              "          await google.colab.kernel.invokeFunction('convertToInteractive',\n",
              "                                                    [key], {});\n",
              "        if (!dataTable) return;\n",
              "\n",
              "        const docLinkHtml = 'Like what you see? Visit the ' +\n",
              "          '<a target=\"_blank\" href=https://colab.research.google.com/notebooks/data_table.ipynb>data table notebook</a>'\n",
              "          + ' to learn more about interactive tables.';\n",
              "        element.innerHTML = '';\n",
              "        dataTable['output_type'] = 'display_data';\n",
              "        await google.colab.output.renderOutput(dataTable, element);\n",
              "        const docLink = document.createElement('div');\n",
              "        docLink.innerHTML = docLinkHtml;\n",
              "        element.appendChild(docLink);\n",
              "      }\n",
              "    </script>\n",
              "  </div>\n",
              "\n",
              "\n",
              "<div id=\"df-02a3b57c-80f8-47be-b507-d6333ed514c3\">\n",
              "  <button class=\"colab-df-quickchart\" onclick=\"quickchart('df-02a3b57c-80f8-47be-b507-d6333ed514c3')\"\n",
              "            title=\"Suggest charts\"\n",
              "            style=\"display:none;\">\n",
              "\n",
              "<svg xmlns=\"http://www.w3.org/2000/svg\" height=\"24px\"viewBox=\"0 0 24 24\"\n",
              "     width=\"24px\">\n",
              "    <g>\n",
              "        <path d=\"M19 3H5c-1.1 0-2 .9-2 2v14c0 1.1.9 2 2 2h14c1.1 0 2-.9 2-2V5c0-1.1-.9-2-2-2zM9 17H7v-7h2v7zm4 0h-2V7h2v10zm4 0h-2v-4h2v4z\"/>\n",
              "    </g>\n",
              "</svg>\n",
              "  </button>\n",
              "\n",
              "<style>\n",
              "  .colab-df-quickchart {\n",
              "      --bg-color: #E8F0FE;\n",
              "      --fill-color: #1967D2;\n",
              "      --hover-bg-color: #E2EBFA;\n",
              "      --hover-fill-color: #174EA6;\n",
              "      --disabled-fill-color: #AAA;\n",
              "      --disabled-bg-color: #DDD;\n",
              "  }\n",
              "\n",
              "  [theme=dark] .colab-df-quickchart {\n",
              "      --bg-color: #3B4455;\n",
              "      --fill-color: #D2E3FC;\n",
              "      --hover-bg-color: #434B5C;\n",
              "      --hover-fill-color: #FFFFFF;\n",
              "      --disabled-bg-color: #3B4455;\n",
              "      --disabled-fill-color: #666;\n",
              "  }\n",
              "\n",
              "  .colab-df-quickchart {\n",
              "    background-color: var(--bg-color);\n",
              "    border: none;\n",
              "    border-radius: 50%;\n",
              "    cursor: pointer;\n",
              "    display: none;\n",
              "    fill: var(--fill-color);\n",
              "    height: 32px;\n",
              "    padding: 0;\n",
              "    width: 32px;\n",
              "  }\n",
              "\n",
              "  .colab-df-quickchart:hover {\n",
              "    background-color: var(--hover-bg-color);\n",
              "    box-shadow: 0 1px 2px rgba(60, 64, 67, 0.3), 0 1px 3px 1px rgba(60, 64, 67, 0.15);\n",
              "    fill: var(--button-hover-fill-color);\n",
              "  }\n",
              "\n",
              "  .colab-df-quickchart-complete:disabled,\n",
              "  .colab-df-quickchart-complete:disabled:hover {\n",
              "    background-color: var(--disabled-bg-color);\n",
              "    fill: var(--disabled-fill-color);\n",
              "    box-shadow: none;\n",
              "  }\n",
              "\n",
              "  .colab-df-spinner {\n",
              "    border: 2px solid var(--fill-color);\n",
              "    border-color: transparent;\n",
              "    border-bottom-color: var(--fill-color);\n",
              "    animation:\n",
              "      spin 1s steps(1) infinite;\n",
              "  }\n",
              "\n",
              "  @keyframes spin {\n",
              "    0% {\n",
              "      border-color: transparent;\n",
              "      border-bottom-color: var(--fill-color);\n",
              "      border-left-color: var(--fill-color);\n",
              "    }\n",
              "    20% {\n",
              "      border-color: transparent;\n",
              "      border-left-color: var(--fill-color);\n",
              "      border-top-color: var(--fill-color);\n",
              "    }\n",
              "    30% {\n",
              "      border-color: transparent;\n",
              "      border-left-color: var(--fill-color);\n",
              "      border-top-color: var(--fill-color);\n",
              "      border-right-color: var(--fill-color);\n",
              "    }\n",
              "    40% {\n",
              "      border-color: transparent;\n",
              "      border-right-color: var(--fill-color);\n",
              "      border-top-color: var(--fill-color);\n",
              "    }\n",
              "    60% {\n",
              "      border-color: transparent;\n",
              "      border-right-color: var(--fill-color);\n",
              "    }\n",
              "    80% {\n",
              "      border-color: transparent;\n",
              "      border-right-color: var(--fill-color);\n",
              "      border-bottom-color: var(--fill-color);\n",
              "    }\n",
              "    90% {\n",
              "      border-color: transparent;\n",
              "      border-bottom-color: var(--fill-color);\n",
              "    }\n",
              "  }\n",
              "</style>\n",
              "\n",
              "  <script>\n",
              "    async function quickchart(key) {\n",
              "      const quickchartButtonEl =\n",
              "        document.querySelector('#' + key + ' button');\n",
              "      quickchartButtonEl.disabled = true;  // To prevent multiple clicks.\n",
              "      quickchartButtonEl.classList.add('colab-df-spinner');\n",
              "      try {\n",
              "        const charts = await google.colab.kernel.invokeFunction(\n",
              "            'suggestCharts', [key], {});\n",
              "      } catch (error) {\n",
              "        console.error('Error during call to suggestCharts:', error);\n",
              "      }\n",
              "      quickchartButtonEl.classList.remove('colab-df-spinner');\n",
              "      quickchartButtonEl.classList.add('colab-df-quickchart-complete');\n",
              "    }\n",
              "    (() => {\n",
              "      let quickchartButtonEl =\n",
              "        document.querySelector('#df-02a3b57c-80f8-47be-b507-d6333ed514c3 button');\n",
              "      quickchartButtonEl.style.display =\n",
              "        google.colab.kernel.accessAllowed ? 'block' : 'none';\n",
              "    })();\n",
              "  </script>\n",
              "</div>\n",
              "\n",
              "  <div id=\"id_8693c465-e246-467c-adb8-c1a87c1be13c\">\n",
              "    <style>\n",
              "      .colab-df-generate {\n",
              "        background-color: #E8F0FE;\n",
              "        border: none;\n",
              "        border-radius: 50%;\n",
              "        cursor: pointer;\n",
              "        display: none;\n",
              "        fill: #1967D2;\n",
              "        height: 32px;\n",
              "        padding: 0 0 0 0;\n",
              "        width: 32px;\n",
              "      }\n",
              "\n",
              "      .colab-df-generate:hover {\n",
              "        background-color: #E2EBFA;\n",
              "        box-shadow: 0px 1px 2px rgba(60, 64, 67, 0.3), 0px 1px 3px 1px rgba(60, 64, 67, 0.15);\n",
              "        fill: #174EA6;\n",
              "      }\n",
              "\n",
              "      [theme=dark] .colab-df-generate {\n",
              "        background-color: #3B4455;\n",
              "        fill: #D2E3FC;\n",
              "      }\n",
              "\n",
              "      [theme=dark] .colab-df-generate:hover {\n",
              "        background-color: #434B5C;\n",
              "        box-shadow: 0px 1px 3px 1px rgba(0, 0, 0, 0.15);\n",
              "        filter: drop-shadow(0px 1px 2px rgba(0, 0, 0, 0.3));\n",
              "        fill: #FFFFFF;\n",
              "      }\n",
              "    </style>\n",
              "    <button class=\"colab-df-generate\" onclick=\"generateWithVariable('best_coefs')\"\n",
              "            title=\"Generate code using this dataframe.\"\n",
              "            style=\"display:none;\">\n",
              "\n",
              "  <svg xmlns=\"http://www.w3.org/2000/svg\" height=\"24px\"viewBox=\"0 0 24 24\"\n",
              "       width=\"24px\">\n",
              "    <path d=\"M7,19H8.4L18.45,9,17,7.55,7,17.6ZM5,21V16.75L18.45,3.32a2,2,0,0,1,2.83,0l1.4,1.43a1.91,1.91,0,0,1,.58,1.4,1.91,1.91,0,0,1-.58,1.4L9.25,21ZM18.45,9,17,7.55Zm-12,3A5.31,5.31,0,0,0,4.9,8.1,5.31,5.31,0,0,0,1,6.5,5.31,5.31,0,0,0,4.9,4.9,5.31,5.31,0,0,0,6.5,1,5.31,5.31,0,0,0,8.1,4.9,5.31,5.31,0,0,0,12,6.5,5.46,5.46,0,0,0,6.5,12Z\"/>\n",
              "  </svg>\n",
              "    </button>\n",
              "    <script>\n",
              "      (() => {\n",
              "      const buttonEl =\n",
              "        document.querySelector('#id_8693c465-e246-467c-adb8-c1a87c1be13c button.colab-df-generate');\n",
              "      buttonEl.style.display =\n",
              "        google.colab.kernel.accessAllowed ? 'block' : 'none';\n",
              "\n",
              "      buttonEl.onclick = () => {\n",
              "        google.colab.notebook.generateWithVariable('best_coefs');\n",
              "      }\n",
              "      })();\n",
              "    </script>\n",
              "  </div>\n",
              "\n",
              "    </div>\n",
              "  </div>\n"
            ],
            "application/vnd.google.colaboratory.intrinsic+json": {
              "type": "dataframe",
              "variable_name": "best_coefs"
            }
          },
          "metadata": {},
          "execution_count": 528
        }
      ]
    },
    {
      "cell_type": "code",
      "source": [
        "plt.figure(figsize=(10, 10))\n",
        "sns.boxplot(data=best_coefs[[0,1,2,3,4,5, 6, 7, 8, 9, 10, 11]], orient=\"h\", color=\"cyan\", saturation=0.5)\n",
        "plt.axvline(x=0, color=\".5\")\n",
        "plt.xlabel(\"Coefficient importance\")\n",
        "plt.title(\"Coefficient importance and its variability for Best model using cross validation\")\n",
        "plt.subplots_adjust(left=0.3)"
      ],
      "metadata": {
        "colab": {
          "base_uri": "https://localhost:8080/",
          "height": 872
        },
        "id": "41dB14qaM_HZ",
        "outputId": "e3462fc4-cd74-4233-ea07-cfd3d4f05301"
      },
      "execution_count": 534,
      "outputs": [
        {
          "output_type": "display_data",
          "data": {
            "text/plain": [
              "<Figure size 1000x1000 with 1 Axes>"
            ],
            "image/png": "[encoded data removed]"
          },
          "metadata": {}
        }
      ]
    },
    {
      "cell_type": "markdown",
      "source": [
        "## Step 6: PLot coefficient paths for different values of lambda\n",
        "- https://scikit-learn.org/stable/auto_examples/linear_model/plot_ridge_path.html#sphx-glr-auto-examples-linear-model-plot-ridge-path-py\n",
        "- https://bookdown.org/ssjackson300/Machine-Learning-Lecture-Notes/ridge-regression.html\n"
      ],
      "metadata": {
        "id": "x7LjEpWK8LN7"
      }
    },
    {
      "cell_type": "code",
      "source": [
        "alphas = np.linspace(0.1, 2000)#10 * 0.90 ** np.arange(1,300)"
      ],
      "metadata": {
        "id": "2n8nI4yT_kmB"
      },
      "execution_count": 515,
      "outputs": []
    },
    {
      "cell_type": "code",
      "source": [
        "coefs_df = pd.DataFrame()\n",
        "for a in alphas:\n",
        "  sklearn_ridge_standardize_pipeline = Pipeline([('scaler', StandardScaler(with_mean=True, with_std=True))])\n",
        "  sklearn_ridge_pipeline = Pipeline(steps=[('standardize', sklearn_ridge_standardize_pipeline), ('model',linear_model.Ridge(alpha=a, fit_intercept=False))])\n",
        "  sklearn_ridge_model = TransformedTargetRegressor(regressor=sklearn_ridge_pipeline, transformer=StandardScaler(with_mean=True, with_std=True))\n",
        "  sklearn_ridge_model.fit(x_train, y_train)\n",
        "  coefficients = sklearn_ridge_model.regressor_.named_steps[\"model\"].coef_\n",
        "  this_coeff_df = pd.DataFrame({\"standardized_coeff\": coefficients})\n",
        "  this_coeff_df[\"feature_name\"] = [f\"f{f}\" for f in x_columns]\n",
        "  this_coeff_df[\"alpha\"] = a\n",
        "  coefs_df = pd.concat([coefs_df, this_coeff_df], axis=0)"
      ],
      "metadata": {
        "id": "OKvBhA9G8OQW"
      },
      "execution_count": 516,
      "outputs": []
    },
    {
      "cell_type": "code",
      "source": [
        "subset_coeff_df = coefs_df[coefs_df.feature_name.isin([f\"f{i}\"for i in range(0, 10, 1)])]#coefs_df[coefs_df.feature_name.str.contains(r\"f[012345]$\", regex=True)]"
      ],
      "metadata": {
        "id": "JHp6khIzCa8T"
      },
      "execution_count": 517,
      "outputs": []
    },
    {
      "cell_type": "code",
      "source": [
        "sns.lineplot(data=subset_coeff_df, x=\"alpha\", y=\"standardized_coeff\", hue=\"feature_name\").set_title(\"Ridge coefficients as a function of the regularization\")"
      ],
      "metadata": {
        "colab": {
          "base_uri": "https://localhost:8080/",
          "height": 490
        },
        "id": "d5vT6wYcEQK7",
        "outputId": "032f4bc1-f7c4-460b-8fe4-d7a902b4408c"
      },
      "execution_count": 518,
      "outputs": [
        {
          "output_type": "execute_result",
          "data": {
            "text/plain": [
              "Text(0.5, 1.0, 'Ridge coefficients as a function of the regularization')"
            ]
          },
          "metadata": {},
          "execution_count": 518
        },
        {
          "output_type": "display_data",
          "data": {
            "text/plain": [
              "<Figure size 640x480 with 1 Axes>"
            ],
            "image/png": "[encoded data removed]"
          },
          "metadata": {}
        }
      ]
    },
    {
      "cell_type": "markdown",
      "source": [
        "The features that see maximum shrinkage are the ones that L2 regression considers as important."
      ],
      "metadata": {
        "id": "3EZQkmPrKAnm"
      }
    },
    {
      "cell_type": "code",
      "source": [],
      "metadata": {
        "id": "mDJnr_3EJvZm"
      },
      "execution_count": null,
      "outputs": []
    },
    {
      "cell_type": "code",
      "source": [],
      "metadata": {
        "id": "L82OT9hoJvb4"
      },
      "execution_count": null,
      "outputs": []
    },
    {
      "cell_type": "code",
      "source": [],
      "metadata": {
        "id": "aYwJxgLuJvd5"
      },
      "execution_count": null,
      "outputs": []
    },
    {
      "cell_type": "code",
      "source": [],
      "metadata": {
        "id": "JOHkoUVqJvgK"
      },
      "execution_count": null,
      "outputs": []
    },
    {
      "cell_type": "code",
      "source": [],
      "metadata": {
        "id": "sj3GMAW9EQNA"
      },
      "execution_count": null,
      "outputs": []
    },
    {
      "cell_type": "code",
      "source": [],
      "metadata": {
        "id": "owi26L448OUA"
      },
      "execution_count": null,
      "outputs": []
    },
    {
      "cell_type": "code",
      "source": [],
      "metadata": {
        "id": "AFa2stDY8OWI"
      },
      "execution_count": null,
      "outputs": []
    },
    {
      "cell_type": "code",
      "source": [],
      "metadata": {
        "id": "1mNYF0DJ6L8h"
      },
      "execution_count": null,
      "outputs": []
    },
    {
      "cell_type": "code",
      "source": [],
      "metadata": {
        "id": "Hiq1dUFX6L-s"
      },
      "execution_count": null,
      "outputs": []
    },
    {
      "cell_type": "code",
      "source": [],
      "metadata": {
        "id": "kFMfq5kj6MAy"
      },
      "execution_count": null,
      "outputs": []
    },
    {
      "cell_type": "code",
      "source": [],
      "metadata": {
        "id": "M90ykOWu6MCu"
      },
      "execution_count": null,
      "outputs": []
    },
    {
      "cell_type": "code",
      "source": [],
      "metadata": {
        "id": "R9vLyZ_M3stN"
      },
      "execution_count": null,
      "outputs": []
    },
    {
      "cell_type": "code",
      "source": [],
      "metadata": {
        "id": "v4kw5pMqvgfr"
      },
      "execution_count": null,
      "outputs": []
    },
    {
      "cell_type": "markdown",
      "source": [
        "1. https://scikit-learn.org/stable/auto_examples/linear_model/plot_huber_vs_ridge.html#sphx-glr-auto-examples-linear-model-plot-huber-vs-ridge-py\n",
        "2. https://scikit-learn.org/stable/auto_examples/linear_model/plot_ridge_path.html#sphx-glr-auto-examples-linear-model-plot-ridge-path-py\n",
        "3. https://scikit-learn.org/stable/auto_examples/linear_model/plot_ridge_coeffs.html#sphx-glr-auto-examples-linear-model-plot-ridge-coeffs-py\n"
      ],
      "metadata": {
        "id": "4tI3pkSP1Pb3"
      }
    }
  ]
}