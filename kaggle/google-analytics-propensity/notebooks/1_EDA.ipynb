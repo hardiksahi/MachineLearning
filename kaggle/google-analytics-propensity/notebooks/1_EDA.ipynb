{
 "cells": [
  {
   "cell_type": "code",
   "execution_count": 1,
   "id": "bc9060ab-6d8b-4de7-a620-9d238aaf494a",
   "metadata": {},
   "outputs": [],
   "source": [
    "%load_ext autoreload\n",
    "%autoreload 2"
   ]
  },
  {
   "cell_type": "code",
   "execution_count": 2,
   "id": "5639c363-bed4-466e-9037-169f68a624a5",
   "metadata": {},
   "outputs": [
    {
     "data": {
      "text/html": [
       "<style>.container { width:100% !important; }</style>"
      ],
      "text/plain": [
       "<IPython.core.display.HTML object>"
      ]
     },
     "metadata": {},
     "output_type": "display_data"
    }
   ],
   "source": [
    "from IPython.display import display, HTML\n",
    "display(HTML(\"<style>.container { width:100% !important; }</style>\"))"
   ]
  },
  {
   "cell_type": "code",
   "execution_count": 3,
   "id": "4e161fea-4ade-44cb-88b0-dda6ec03a14e",
   "metadata": {},
   "outputs": [],
   "source": [
    "import sys\n",
    "import os\n",
    "os.chdir(os.path.abspath(\"../src\"))"
   ]
  },
  {
   "cell_type": "code",
   "execution_count": 4,
   "id": "c00e1ade-c9ba-4d4c-88c4-b089bb4afa85",
   "metadata": {},
   "outputs": [],
   "source": [
    "import duckdb as ddb, ibis"
   ]
  },
  {
   "cell_type": "code",
   "execution_count": 5,
   "id": "ff124ac0-bc13-44e9-a7b0-c70822eb3445",
   "metadata": {},
   "outputs": [],
   "source": [
    "import seaborn as sns\n",
    "import matplotlib.pyplot as plt"
   ]
  },
  {
   "cell_type": "code",
   "execution_count": 6,
   "id": "4a950e17-4693-427d-88e5-77e1e358faa5",
   "metadata": {},
   "outputs": [],
   "source": [
    "import numpy as np\n",
    "import pandas as pd\n",
    "import math"
   ]
  },
  {
   "cell_type": "markdown",
   "id": "1a970290-0239-4e09-b881-ea78c6819173",
   "metadata": {},
   "source": [
    "## Constants"
   ]
  },
  {
   "cell_type": "code",
   "execution_count": 7,
   "id": "fb4a1b98-7d63-4df9-b360-8cce4dd47b9e",
   "metadata": {},
   "outputs": [],
   "source": [
    "database_folder_path = '../data/duckdb'\n",
    "ddb_file_name = 'intermediate_files.db'"
   ]
  },
  {
   "cell_type": "markdown",
   "id": "a48e020c-a472-4fbc-b2d1-5b96ec051b62",
   "metadata": {},
   "source": [
    "## Functions"
   ]
  },
  {
   "cell_type": "code",
   "execution_count": 8,
   "id": "c1b2e293-e2db-4f4b-a09e-1ff99620e270",
   "metadata": {},
   "outputs": [],
   "source": [
    "def show_values_on_bars(axs, h_v=\"v\", space=0.8, use_percent=False, text_rotation=0):\n",
    "    def _show_on_single_plot(ax):\n",
    "        if h_v == \"v\":\n",
    "            for p in ax.patches:\n",
    "                _width = 0 if math.isnan(p.get_width()) else p.get_width()\n",
    "                _height = 0 if math.isnan(p.get_height()) else p.get_height()\n",
    "                _x = p.get_x() + _width / 2\n",
    "                _y = p.get_y() + _height + float(space)\n",
    "                value = (\n",
    "                    f\"{round(_height, 2)}\"\n",
    "                    if not use_percent\n",
    "                    else f\"{round(_height, 2)}%\"\n",
    "                )\n",
    "                ax.text(\n",
    "                    _x,\n",
    "                    _y,\n",
    "                    value,\n",
    "                    ha=\"center\",\n",
    "                    rotation=text_rotation,\n",
    "                    fontweight=\"bold\",\n",
    "                )\n",
    "        elif h_v == \"h\":\n",
    "            for p in ax.patches:\n",
    "                _width = 0 if math.isnan(p.get_width()) else p.get_width()\n",
    "                _height = 0 if math.isnan(p.get_height()) else p.get_height()\n",
    "                _x = p.get_x() + _width + float(space)\n",
    "                _y = p.get_y() + _height\n",
    "                value = (\n",
    "                    f\"{round(_width, 2)}\" if not use_percent else f\"{round(_width, 2)}%\"\n",
    "                )\n",
    "                ax.text(_x, _y, value, ha=\"left\", fontweight=\"bold\")\n",
    "\n",
    "    if isinstance(axs, np.ndarray):\n",
    "        for idx, ax in np.ndnumerate(axs):\n",
    "            _show_on_single_plot(ax)\n",
    "    else:\n",
    "        _show_on_single_plot(axs)\n",
    "\n",
    "\n",
    "def create_multiple_plots(\n",
    "    df,\n",
    "    x,\n",
    "    y,\n",
    "    hue=None,\n",
    "    col=None,\n",
    "    col_order=None,\n",
    "    row=None,\n",
    "    order=None,\n",
    "    hue_order=None,\n",
    "    hue_color_dict=None,\n",
    "    kind=\"line\",\n",
    "    orientation=\"v\",\n",
    "    text_rotation=0,\n",
    "    marker=\"o\",\n",
    "    title=None,\n",
    "    height=5,\n",
    "    aspect=1,\n",
    "    use_percent=False,\n",
    "    space=0.8,\n",
    "    ref_value_dict=None,\n",
    "    bins=None\n",
    "):\n",
    "    if kind == \"line\":\n",
    "        graph = sns.relplot(\n",
    "            data=df,\n",
    "            x=x,\n",
    "            y=y,\n",
    "            col=col,\n",
    "            row=row,\n",
    "            hue=hue,\n",
    "            kind=kind,\n",
    "            height=height,\n",
    "            aspect=aspect,\n",
    "            marker=marker,\n",
    "            hue_order=hue_order,\n",
    "            palette=hue_color_dict,\n",
    "            col_order = col_order,\n",
    "            facet_kws=dict(sharex=False, sharey=False),\n",
    "        )\n",
    "    elif kind == \"bar\":\n",
    "        graph = sns.catplot(\n",
    "            data=df,\n",
    "            x=x,\n",
    "            y=y,\n",
    "            col=col,\n",
    "            row=row,\n",
    "            hue=hue,\n",
    "            kind=kind,\n",
    "            height=height,\n",
    "            aspect=aspect,\n",
    "            hue_order=hue_order,\n",
    "            palette=hue_color_dict,\n",
    "            sharex=False,\n",
    "            order=order,\n",
    "        )\n",
    "    elif kind == \"point\":\n",
    "        graph = sns.catplot(\n",
    "            data=df,\n",
    "            x=x,\n",
    "            y=y,\n",
    "            col=col,\n",
    "            row=row,\n",
    "            hue=hue,\n",
    "            kind=kind,\n",
    "            height=height,\n",
    "            aspect=aspect,\n",
    "            hue_order=hue_order,\n",
    "            palette=hue_color_dict,\n",
    "            sharex=False,\n",
    "            sharey=False,\n",
    "            order=order,\n",
    "        )\n",
    "    elif (kind == \"box\") or (kind == \"violin\"):\n",
    "        graph = sns.catplot(\n",
    "            data=df,\n",
    "            x=x,\n",
    "            y=y,\n",
    "            col=col,\n",
    "            row=row,\n",
    "            hue=hue,\n",
    "            kind=kind,\n",
    "            height=height,\n",
    "            aspect=aspect,\n",
    "            order=order,\n",
    "            hue_order=hue_order,\n",
    "            palette=hue_color_dict,\n",
    "            sharex=False,\n",
    "            sharey=True,\n",
    "            col_order=col_order\n",
    "        )\n",
    "    elif kind == \"hist\":\n",
    "        graph = sns.displot(\n",
    "            data=df,\n",
    "            x=x,\n",
    "            y=y,\n",
    "            col=col,\n",
    "            row=row,\n",
    "            hue=hue,\n",
    "            hue_order=hue_order,\n",
    "            kind=kind,\n",
    "            height=height,\n",
    "            aspect=aspect,\n",
    "            facet_kws=dict(sharex=False, sharey=False),\n",
    "            palette=hue_color_dict,\n",
    "            stat=\"probability\",\n",
    "            bins=bins,\n",
    "            alpha=0.5,\n",
    "        )\n",
    "    elif kind == \"kde\":\n",
    "        graph = sns.displot(\n",
    "            data=df,\n",
    "            x=x,\n",
    "            y=y,\n",
    "            col=col,\n",
    "            row=row,\n",
    "            hue=hue,\n",
    "            hue_order=hue_order,\n",
    "            kind=kind,\n",
    "            height=height,\n",
    "            aspect=aspect,\n",
    "            facet_kws=dict(sharex=False, sharey=False),\n",
    "            palette=hue_color_dict,\n",
    "        )\n",
    "\n",
    "    if ref_value_dict is not None:\n",
    "        print(ref_value_dict)\n",
    "        if \"x\" in ref_value_dict:\n",
    "            graph.refline(x=ref_value_dict.get(\"x\"), color=\"red\", lw=3)\n",
    "        if \"y\" in ref_value_dict:\n",
    "            graph.refline(y=ref_value_dict.get(\"y\"), color=\"blue\", lw=3)\n",
    "\n",
    "    if title is not None:\n",
    "        graph.fig.subplots_adjust(top=0.8)\n",
    "        graph.fig.suptitle(title, fontsize=20)\n",
    "\n",
    "    for axes in graph.axes.flat:\n",
    "        if kind == \"bar\" and orientation == \"h\":\n",
    "            _ = axes.set_yticklabels(axes.get_yticklabels(), rotation=0)\n",
    "            show_values_on_bars(axes, orientation, space, use_percent=use_percent)\n",
    "        else:\n",
    "            _ = axes.set_xticklabels(axes.get_xticklabels(), rotation=90)\n",
    "            if kind == \"bar\":\n",
    "                show_values_on_bars(\n",
    "                    axes,\n",
    "                    orientation,\n",
    "                    space,\n",
    "                    use_percent=use_percent,\n",
    "                    text_rotation=text_rotation,\n",
    "                )\n",
    "\n",
    "    plt.subplots_adjust(hspace=2.2)\n",
    "    return graph"
   ]
  },
  {
   "cell_type": "code",
   "execution_count": 9,
   "id": "89434045-d9c5-4ad5-9c38-924f74675852",
   "metadata": {},
   "outputs": [],
   "source": [
    "def plot_graphs_by_looping(df, row_identifier, column_identifier, x_column_to_plot, y_column_to_plot, row_count, max_column_count):\n",
    "    fig, axs = plt.subplots(row_count,max_column_count, figsize=[5*max_column_count,5*row_count]) ##, figsize=[20,20]\n",
    "    fig.subplots_adjust(wspace=1.0, hspace=0.5)\n",
    "    \n",
    "    for i, continent_name in enumerate(df[row_identifier].unique()):\n",
    "        continent_count_df = df[df[row_identifier] == continent_name]\n",
    "        for j, sub_continent_name in enumerate(continent_count_df[column_identifier].unique()):\n",
    "            sub_continent_count_df = continent_count_df[continent_count_df[column_identifier] == sub_continent_name]\n",
    "            sns.barplot(data=sub_continent_count_df, x=x_column_to_plot, y=y_column_to_plot, ax=axs[i][j])\n",
    "            axs[i][j].title.set_text(f\"{sub_continent_name}\")\n",
    "    plt.close()\n",
    "    return fig"
   ]
  },
  {
   "cell_type": "code",
   "execution_count": 10,
   "id": "3f61fc6b-56b8-44dc-abc6-a1ed23fdd6de",
   "metadata": {},
   "outputs": [],
   "source": [
    "def get_row_column_count_in_ddb_table(con, table_name):\n",
    "    row_count_df = con.execute(f\"select count(*) as row_count from {table_name};\").df()\n",
    "    row_count = row_count_df['row_count'].loc[0]\n",
    "\n",
    "    column_count_df = con.execute(f\"select count(*) as column_count from information_schema.columns where table_name = '{table_name}';\").df()\n",
    "    column_count = column_count_df['column_count'].loc[0]\n",
    "    return (row_count, column_count)"
   ]
  },
  {
   "cell_type": "code",
   "execution_count": 11,
   "id": "38bbfad7-7612-45bd-9ef3-af065d6f0da1",
   "metadata": {},
   "outputs": [],
   "source": [
    "def get_counts_for_column_entries_ddb_table(con, table_name, count_column_name, group_by_column_list, is_distinct_count=False):\n",
    "    if isinstance(group_by_column_list, list):\n",
    "        group_by_column_name = ','.join(group_by_column_list)\n",
    "\n",
    "    if not is_distinct_count:\n",
    "        ## #con.execute(f\"select geo_network_continent, geo_network_sub_continent, count(*) from intermediate_train_data group by geo_network_continent, geo_network_sub_continent\").df()\n",
    "        count_df = con.execute(f\"select {group_by_column_name}, count(*) AS row_count_{count_column_name} FROM {table_name} GROUP BY {group_by_column_name} ORDER BY row_count_{count_column_name} DESC;\").df()\n",
    "        return count_df\n",
    "    else:\n",
    "        ##select full_visitor_id, COUNT(DISTINCT(channel_grouping)) AS unique_channel_grouping from intermediate_train_data GROUP BY full_visitor_id\n",
    "        unique_count_df = con.execute(f\"select {group_by_column_name}, COUNT(DISTINCT({count_column_name})) AS unique_count_{count_column_name} FROM {table_name} GROUP BY {group_by_column_name} ORDER BY unique_count_{count_column_name} DESC;\").df()\n",
    "        return unique_count_df"
   ]
  },
  {
   "cell_type": "code",
   "execution_count": 12,
   "id": "d3af8789-04ff-4cd3-b382-0b138ffdfb68",
   "metadata": {},
   "outputs": [],
   "source": [
    "def get_separator_separated_values_for_column(con, table_name, count_column_name, group_by_column_name, is_distinct_count=False, separator=','):\n",
    "    if is_distinct_count:\n",
    "        res_df = con.execute(f\"select {group_by_column_name}, array_to_string(list_sort(string_split(STRING_AGG(DISTINCT({count_column_name}), '{separator}'), '{separator}')), '{separator}') AS concatenated_unique_{count_column_name} from {table_name} group by {group_by_column_name}\").df()\n",
    "        return res_df"
   ]
  },
  {
   "cell_type": "code",
   "execution_count": 81,
   "id": "a4303478-1758-4919-ae5f-9753753f37e5",
   "metadata": {},
   "outputs": [],
   "source": [
    "def get_aggregates_for_numerical_variable_using_groupby_column(con, table_name, numeric_column_name, group_by_column_list, is_per_session=True):\n",
    "    if isinstance(group_by_column_list, list):\n",
    "        group_by_column_name = ','.join(group_by_column_list)\n",
    "    if is_per_session:\n",
    "        return con.execute(f\"select {group_by_column_name}, min(CAST({numeric_column_name} AS DOUBLE)) AS min_{numeric_column_name}_per_session, max(CAST({numeric_column_name} AS DOUBLE)) AS max_{numeric_column_name}_per_session, avg(CAST({numeric_column_name} AS DOUBLE)) AS avg_{numeric_column_name}_per_session, median(CAST({numeric_column_name} AS DOUBLE)) AS median_{numeric_column_name}_per_session, COUNT(*) AS row_count from {table_name} group by {group_by_column_name};\").df()"
   ]
  },
  {
   "cell_type": "markdown",
   "id": "59b8da4f-aef5-415a-903c-7aaa027c0d27",
   "metadata": {},
   "source": [
    "## Create a connection to duckdb file and register intermediate data that is the result of handle_raw_data pipeline"
   ]
  },
  {
   "cell_type": "code",
   "execution_count": 15,
   "id": "4708ec41-c3d9-4007-aa15-7caf8135aa03",
   "metadata": {},
   "outputs": [],
   "source": [
    "#con = ibis.duckdb.connect(database=os.path.join(database_folder_path, ddb_file_name), read_only=True)\n",
    "con = ddb.connect(database=os.path.join(database_folder_path, ddb_file_name), read_only=True)"
   ]
  },
  {
   "cell_type": "code",
   "execution_count": 16,
   "id": "a3dac3f9-ad45-4061-9eae-bd4a8112dabc",
   "metadata": {},
   "outputs": [],
   "source": [
    "intermediate_data_table = con.table('intermediate_train_data')"
   ]
  },
  {
   "cell_type": "code",
   "execution_count": 17,
   "id": "2913258e-58b8-4ffb-878d-10c0ac863c36",
   "metadata": {},
   "outputs": [
    {
     "name": "stdout",
     "output_type": "stream",
     "text": [
      "Shape of table: (1708337, 58)\n"
     ]
    }
   ],
   "source": [
    "#intermediate_data_table = con.table('intermediate_train_data')\n",
    "print(f\"Shape of table: {get_row_column_count_in_ddb_table(con, 'intermediate_train_data')}\")\n",
    "#print(f'Shape of intermediate_data_table: {(intermediate_data_table.count().execute(), len(intermediate_data_table.schema()))}')"
   ]
  },
  {
   "cell_type": "markdown",
   "id": "f6c3072f-6f72-4e3e-832a-5564f0da3baf",
   "metadata": {},
   "source": [
    "## One row in the dataset refers to one visit to the Google Store. "
   ]
  },
  {
   "cell_type": "markdown",
   "id": "29506931-0bed-43df-88e2-7c7631195c89",
   "metadata": {},
   "source": [
    "## Analyze different columns"
   ]
  },
  {
   "cell_type": "markdown",
   "id": "4b65269e-f2cb-49c6-aa6b-0ce540a059da",
   "metadata": {},
   "source": [
    "### 1. Analyse channel_grouping column"
   ]
  },
  {
   "cell_type": "markdown",
   "id": "cb9d4bb1-77fa-4965-8759-0b6110483fb4",
   "metadata": {},
   "source": [
    "### 1.1 How many rows have a given channel_grouping value associated with them?"
   ]
  },
  {
   "cell_type": "code",
   "execution_count": null,
   "id": "e6e9d45c-b075-4df3-8913-294ee3e6731e",
   "metadata": {},
   "outputs": [],
   "source": [
    "channel_df = get_counts_for_column_entries_ddb_table(con, table_name='intermediate_train_data', count_column_name='channel_grouping', group_by_column_list=['channel_grouping'])"
   ]
  },
  {
   "cell_type": "code",
   "execution_count": null,
   "id": "4319cb9e-8eef-4c7b-a203-82998f5a526b",
   "metadata": {},
   "outputs": [],
   "source": [
    "# channel_df = intermediate_data_table['channel_grouping'].value_counts().execute()\n",
    "# channel_df = channel_df.sort_values(by=['channel_grouping_count'], ascending=False)"
   ]
  },
  {
   "cell_type": "code",
   "execution_count": null,
   "id": "4724ef47-2c69-4dd3-ac41-9cf7aeb15d97",
   "metadata": {},
   "outputs": [],
   "source": [
    "create_multiple_plots(df=channel_df, x='channel_grouping', y='row_count_channel_grouping', kind='bar', orientation='v')"
   ]
  },
  {
   "cell_type": "markdown",
   "id": "9a6ce159-afad-4234-b555-0a77a6e24021",
   "metadata": {},
   "source": [
    "- Most common channel_grouping is Organic Search. It will be nice to see how it changes fir a person."
   ]
  },
  {
   "cell_type": "markdown",
   "id": "3d64d93a-faa6-47ac-84b6-3d44c3d0f6a0",
   "metadata": {},
   "source": [
    "### 1.2 How many unique channel_grouping values are associated with a user identified by full_visitor_id"
   ]
  },
  {
   "cell_type": "code",
   "execution_count": null,
   "id": "ed8f046f-10e9-4218-889b-660d270c1d83",
   "metadata": {},
   "outputs": [],
   "source": [
    "unique_channel_grouping_per_user_df = get_counts_for_column_entries_ddb_table(con, table_name='intermediate_train_data', count_column_name='channel_grouping', group_by_column_list=['full_visitor_id'], is_distinct_count=True)"
   ]
  },
  {
   "cell_type": "code",
   "execution_count": null,
   "id": "b7e5b8b9-e0f8-4c51-bc5a-01c0f8c0566d",
   "metadata": {},
   "outputs": [],
   "source": [
    "unique_channel_grouping_per_user_df['unique_count_channel_grouping'].value_counts()"
   ]
  },
  {
   "cell_type": "markdown",
   "id": "78239eae-a695-464b-a97d-b591c247ff16",
   "metadata": {},
   "source": [
    "- This shows that majority of visitors (1291102) use only 1 unique channel_grouping. Only 1 person uses 6 channel groupings."
   ]
  },
  {
   "cell_type": "markdown",
   "id": "24318dd4-8a22-41b7-bb36-32914a65c347",
   "metadata": {},
   "source": [
    "### 1.3 What are the comma separated unique channel_grouping values associated with each full_visitor_id"
   ]
  },
  {
   "cell_type": "code",
   "execution_count": null,
   "id": "3ab503ec-b6f0-4835-ab9a-f48955b7faaa",
   "metadata": {},
   "outputs": [],
   "source": [
    "#res_df = con.execute(f\"select full_visitor_id, STRING_AGG(DISTINCT(channel_grouping), ',') AS concatenated_unique_channel_grouping from intermediate_train_data group by full_visitor_id\").df()\n",
    "unique_channel_grouping_string_df = get_separator_separated_values_for_column(con, table_name='intermediate_train_data', count_column_name='channel_grouping', group_by_column_name='full_visitor_id', is_distinct_count=True, separator=',')"
   ]
  },
  {
   "cell_type": "code",
   "execution_count": null,
   "id": "871643e7-a5b6-41fa-9dbf-15339946ae06",
   "metadata": {},
   "outputs": [],
   "source": [
    "merged_unique_channel_grouping_string_df = pd.merge(unique_channel_grouping_string_df, unique_channel_grouping_per_user_df, left_on='full_visitor_id', right_on='full_visitor_id', how='left')"
   ]
  },
  {
   "cell_type": "code",
   "execution_count": null,
   "id": "f9aec186-0fd2-4c54-bd55-433ea5f3b90d",
   "metadata": {},
   "outputs": [],
   "source": [
    "merged_unique_channel_grouping_string_df[merged_unique_channel_grouping_string_df.unique_count_channel_grouping == 1]['concatenated_unique_channel_grouping'].value_counts()"
   ]
  },
  {
   "cell_type": "markdown",
   "id": "46517e1a-94d6-4861-8781-d4ae60e9c601",
   "metadata": {},
   "source": [
    "- Clearly, Organic Search is the most common channel via which users arrive at the GStore for the users who have one unique channel_grouping associated with them"
   ]
  },
  {
   "cell_type": "markdown",
   "id": "0530d4c8-ba18-47f6-bbff-e17b8ebb7f7f",
   "metadata": {},
   "source": [
    "### 2. Analyse social_engagement_type column [REMOVE THIS COLUMN]"
   ]
  },
  {
   "cell_type": "code",
   "execution_count": null,
   "id": "0d257332-65ad-48d5-94a1-7a9d2ddae1ef",
   "metadata": {},
   "outputs": [],
   "source": [
    "social_engagement_df = get_counts_for_column_entries_ddb_table(con, table_name='intermediate_train_data', count_column_name='social_engagement_type', group_by_column_list=['social_engagement_type'])"
   ]
  },
  {
   "cell_type": "code",
   "execution_count": null,
   "id": "0bd7187f-6fd3-45c1-a5ff-a5dae904dd4f",
   "metadata": {},
   "outputs": [],
   "source": [
    "social_engagement_df"
   ]
  },
  {
   "cell_type": "markdown",
   "id": "872f72ec-b00a-4065-a46e-3d311d5f7895",
   "metadata": {},
   "source": [
    "- Clearly all the rows have common value Not Socially Engaged. Delete this column"
   ]
  },
  {
   "cell_type": "markdown",
   "id": "c540a764-fede-46a4-baad-62845001a7bf",
   "metadata": {},
   "source": [
    "### 3. Analyze visit_number column (An identifier for this session. It is unique for a visitor. It can help to understand how many sessions a given visitor was involved in)"
   ]
  },
  {
   "cell_type": "markdown",
   "id": "c082bf15-5c6d-4e3b-87f2-e6c32daa6b13",
   "metadata": {},
   "source": [
    "### 3.1 How many unique visit_number values are associated with a user identified by full_visitor_id"
   ]
  },
  {
   "cell_type": "code",
   "execution_count": 45,
   "id": "d1f46746-a0f3-452e-a38e-78e7ad7e19d0",
   "metadata": {},
   "outputs": [],
   "source": [
    "unique_visit_number_per_user_df = get_counts_for_column_entries_ddb_table(con, table_name='intermediate_train_data', count_column_name='visit_number', group_by_column_list=['full_visitor_id'], is_distinct_count=True)"
   ]
  },
  {
   "cell_type": "code",
   "execution_count": 46,
   "id": "c6045574-7d84-458d-b60b-ba9518355389",
   "metadata": {},
   "outputs": [
    {
     "data": {
      "text/html": [
       "<div>\n",
       "<style scoped>\n",
       "    .dataframe tbody tr th:only-of-type {\n",
       "        vertical-align: middle;\n",
       "    }\n",
       "\n",
       "    .dataframe tbody tr th {\n",
       "        vertical-align: top;\n",
       "    }\n",
       "\n",
       "    .dataframe thead th {\n",
       "        text-align: right;\n",
       "    }\n",
       "</style>\n",
       "<table border=\"1\" class=\"dataframe\">\n",
       "  <thead>\n",
       "    <tr style=\"text-align: right;\">\n",
       "      <th></th>\n",
       "      <th>full_visitor_id</th>\n",
       "      <th>unique_count_visit_number</th>\n",
       "    </tr>\n",
       "  </thead>\n",
       "  <tbody>\n",
       "    <tr>\n",
       "      <th>0</th>\n",
       "      <td>1957458976293878100</td>\n",
       "      <td>400</td>\n",
       "    </tr>\n",
       "    <tr>\n",
       "      <th>1</th>\n",
       "      <td>7282998257608986241</td>\n",
       "      <td>315</td>\n",
       "    </tr>\n",
       "    <tr>\n",
       "      <th>2</th>\n",
       "      <td>3884810646891698298</td>\n",
       "      <td>268</td>\n",
       "    </tr>\n",
       "    <tr>\n",
       "      <th>3</th>\n",
       "      <td>7477638593794484792</td>\n",
       "      <td>218</td>\n",
       "    </tr>\n",
       "    <tr>\n",
       "      <th>4</th>\n",
       "      <td>824839726118485274</td>\n",
       "      <td>209</td>\n",
       "    </tr>\n",
       "  </tbody>\n",
       "</table>\n",
       "</div>"
      ],
      "text/plain": [
       "       full_visitor_id  unique_count_visit_number\n",
       "0  1957458976293878100                        400\n",
       "1  7282998257608986241                        315\n",
       "2  3884810646891698298                        268\n",
       "3  7477638593794484792                        218\n",
       "4   824839726118485274                        209"
      ]
     },
     "execution_count": 46,
     "metadata": {},
     "output_type": "execute_result"
    }
   ],
   "source": [
    "unique_visit_number_per_user_df.head()"
   ]
  },
  {
   "cell_type": "markdown",
   "id": "4d7f9b5c-92ff-44b7-857a-7e3e9697a82f",
   "metadata": {},
   "source": [
    "### 3.2 Quartile analysis of unique_count_visit_number"
   ]
  },
  {
   "cell_type": "code",
   "execution_count": 48,
   "id": "190dd780-72ef-4534-b79d-0668f7195956",
   "metadata": {},
   "outputs": [
    {
     "data": {
      "text/plain": [
       "count    1.329434e+06\n",
       "mean     1.281251e+00\n",
       "std      1.520005e+00\n",
       "min      1.000000e+00\n",
       "25%      1.000000e+00\n",
       "50%      1.000000e+00\n",
       "75%      1.000000e+00\n",
       "max      4.000000e+02\n",
       "Name: unique_count_visit_number, dtype: float64"
      ]
     },
     "execution_count": 48,
     "metadata": {},
     "output_type": "execute_result"
    }
   ],
   "source": [
    "unique_visit_number_per_user_df.unique_count_visit_number.describe()"
   ]
  },
  {
   "cell_type": "markdown",
   "id": "c4310547-33e3-42a9-9d5b-b5aed7d72917",
   "metadata": {},
   "source": [
    "- It is clear from the graph that 75% of users have 1 session associated with them.  "
   ]
  },
  {
   "cell_type": "code",
   "execution_count": 49,
   "id": "4e788023-a37f-4c13-93e5-e92987c7b595",
   "metadata": {},
   "outputs": [
    {
     "name": "stderr",
     "output_type": "stream",
     "text": [
      "/Users/hardiksahi/miniconda3/envs/personal_env/lib/python3.9/site-packages/seaborn/axisgrid.py:118: UserWarning: The figure layout has changed to tight\n",
      "  self._figure.tight_layout(*args, **kwargs)\n",
      "/var/folders/qr/cmfkzy495k7b3bn80b7ygs080000gn/T/ipykernel_10023/2696475345.py:181: UserWarning: FixedFormatter should only be used together with FixedLocator\n",
      "  _ = axes.set_xticklabels(axes.get_xticklabels(), rotation=90)\n"
     ]
    },
    {
     "data": {
      "text/plain": [
       "<seaborn.axisgrid.FacetGrid at 0x15eee8ca0>"
      ]
     },
     "execution_count": 49,
     "metadata": {},
     "output_type": "execute_result"
    },
    {
     "data": {
      "image/png": "[encoded data removed]",
      "text/plain": [
       "<Figure size 500x500 with 1 Axes>"
      ]
     },
     "metadata": {},
     "output_type": "display_data"
    }
   ],
   "source": [
    "create_multiple_plots(df=unique_visit_number_per_user_df, x='unique_count_visit_number', y=None, kind='box', title='Distribution of number of sessions per user')"
   ]
  },
  {
   "cell_type": "code",
   "execution_count": 50,
   "id": "9e56337a-9963-44fe-970e-83ed253b4a8d",
   "metadata": {},
   "outputs": [
    {
     "name": "stderr",
     "output_type": "stream",
     "text": [
      "/Users/hardiksahi/miniconda3/envs/personal_env/lib/python3.9/site-packages/seaborn/axisgrid.py:118: UserWarning: The figure layout has changed to tight\n",
      "  self._figure.tight_layout(*args, **kwargs)\n",
      "/var/folders/qr/cmfkzy495k7b3bn80b7ygs080000gn/T/ipykernel_10023/2696475345.py:181: UserWarning: FixedFormatter should only be used together with FixedLocator\n",
      "  _ = axes.set_xticklabels(axes.get_xticklabels(), rotation=90)\n"
     ]
    },
    {
     "data": {
      "text/plain": [
       "<seaborn.axisgrid.FacetGrid at 0x2e0ae8940>"
      ]
     },
     "execution_count": 50,
     "metadata": {},
     "output_type": "execute_result"
    },
    {
     "data": {
      "image/png": "[encoded data removed]",
      "text/plain": [
       "<Figure size 500x500 with 1 Axes>"
      ]
     },
     "metadata": {},
     "output_type": "display_data"
    }
   ],
   "source": [
    "create_multiple_plots(df=unique_visit_number_per_user_df, x='unique_count_visit_number', y=None, kind='hist', bins='auto', title='Distribution of number of sessions per user')"
   ]
  },
  {
   "cell_type": "markdown",
   "id": "18e82d17-a08f-48d6-86a7-a2af3c9498e7",
   "metadata": {},
   "source": [
    "- It is clear that the number of sessions per user is heavily right skewed i.e. lumped on the left with tail at the right"
   ]
  },
  {
   "cell_type": "markdown",
   "id": "69e48279-130b-465e-99d3-bd8d918f8270",
   "metadata": {},
   "source": [
    "## 4. Analyse visit_start_time (The timestamp (expressed as POSIX time))"
   ]
  },
  {
   "cell_type": "code",
   "execution_count": null,
   "id": "b2ba9a86-8ee7-4941-8283-f72bcd5ac57b",
   "metadata": {},
   "outputs": [],
   "source": [
    "#con.execute(\"select TO_TIMESTAMP(visit_start_time) AS utc_visit_start_time, date, geo_network_continent, geo_network_sub_continent, geo_network_country, geo_network_region, geo_network_city, totals_transactions\t from intermediate_train_data\").df()"
   ]
  },
  {
   "cell_type": "markdown",
   "id": "18fdf1d9-11a4-4e3b-ac02-3d36b43b7a74",
   "metadata": {},
   "source": [
    "## 5. Analyze geo_network_continent"
   ]
  },
  {
   "cell_type": "markdown",
   "id": "5a0822f3-73a3-438b-9b7a-26c997b960c0",
   "metadata": {},
   "source": [
    "### 5.1 How many rows have a given geo_network_continent value associated with them?"
   ]
  },
  {
   "cell_type": "code",
   "execution_count": null,
   "id": "07da3e63-1b5a-4d27-bd28-0a9287c65456",
   "metadata": {},
   "outputs": [],
   "source": [
    "geo_network_continent_df = get_counts_for_column_entries_ddb_table(con, table_name='intermediate_train_data', count_column_name='geo_network_continent', group_by_column_list=['geo_network_continent'])"
   ]
  },
  {
   "cell_type": "code",
   "execution_count": null,
   "id": "be20ca7c-cb5d-4d82-bb77-d9576be03f51",
   "metadata": {},
   "outputs": [],
   "source": [
    "create_multiple_plots(df=geo_network_continent_df, x='geo_network_continent', y='row_count_geo_network_continent', kind='bar', orientation='v')"
   ]
  },
  {
   "cell_type": "markdown",
   "id": "79d9bfe0-7fa2-401c-ac1c-42ae743419c8",
   "metadata": {},
   "source": [
    "- Clearly majority if visits are from Americas"
   ]
  },
  {
   "cell_type": "markdown",
   "id": "73b13626-925f-403d-9614-29c47e8dda31",
   "metadata": {},
   "source": [
    "### 5.2 How many unique geo_network_continent values are associated with a user identified by full_visitor_id"
   ]
  },
  {
   "cell_type": "code",
   "execution_count": null,
   "id": "36222225-b12a-4337-a1bc-cb384a3c4a05",
   "metadata": {},
   "outputs": [],
   "source": [
    "unique_geo_network_continent_per_user_df = get_counts_for_column_entries_ddb_table(con, table_name='intermediate_train_data', count_column_name='geo_network_continent', group_by_column_list=['full_visitor_id'], is_distinct_count=True)"
   ]
  },
  {
   "cell_type": "code",
   "execution_count": null,
   "id": "565ffdc9-47b0-4f29-bd3d-6ecaba975f74",
   "metadata": {},
   "outputs": [],
   "source": [
    "unique_geo_network_continent_per_user_df.unique_count_geo_network_continent.value_counts()"
   ]
  },
  {
   "cell_type": "markdown",
   "id": "cb928f7c-5f22-4678-a9bd-0cdf0f948e9f",
   "metadata": {},
   "source": [
    "- This shows that majority of full_visitor_id are associated with only one continent. However, there are certain  full_visitor_id that are associated with multiple unique geo_network_continent values\n",
    "- This implies that we cannot assume that full_visitor_id is linked to only one continent."
   ]
  },
  {
   "cell_type": "markdown",
   "id": "9f6617ed-f59f-40e2-a898-5ca112532db4",
   "metadata": {},
   "source": [
    "### 5.3 What are the comma separated unique geo_network_continent values associated with each full_visitor_id?"
   ]
  },
  {
   "cell_type": "code",
   "execution_count": null,
   "id": "8a5bbe69-03f6-4a6c-9ded-95c969dc4132",
   "metadata": {},
   "outputs": [],
   "source": [
    "unique_geo_network_continent_string_df = get_separator_separated_values_for_column(con, table_name='intermediate_train_data', count_column_name='geo_network_continent', group_by_column_name='full_visitor_id', is_distinct_count=True, separator=',')"
   ]
  },
  {
   "cell_type": "code",
   "execution_count": null,
   "id": "1f7e6235-f8e8-4efe-b54d-41a3e6e85af0",
   "metadata": {},
   "outputs": [],
   "source": [
    "merged_unique_geo_network_continent_string_df = pd.merge(unique_geo_network_continent_string_df, unique_geo_network_continent_per_user_df, left_on='full_visitor_id', right_on='full_visitor_id', how='left')"
   ]
  },
  {
   "cell_type": "code",
   "execution_count": null,
   "id": "0a16d1e0-fd69-40b6-b548-b412400d3857",
   "metadata": {},
   "outputs": [],
   "source": [
    "merged_unique_geo_network_continent_string_df[merged_unique_geo_network_continent_string_df.unique_count_geo_network_continent == 1]['concatenated_unique_geo_network_continent'].value_counts()"
   ]
  },
  {
   "cell_type": "markdown",
   "id": "5eedcfca-629b-4d66-8ed4-8ce8eeb95c35",
   "metadata": {},
   "source": [
    "## 6. Analyze geo_network_sub_continent"
   ]
  },
  {
   "cell_type": "markdown",
   "id": "32a70ca8-44cd-4547-88fe-8680900d8ccb",
   "metadata": {},
   "source": [
    "### 6.1 Get continent to subcontinent mapping "
   ]
  },
  {
   "cell_type": "code",
   "execution_count": null,
   "id": "d2c3f6fe-d20c-4812-aefe-76d5fb704233",
   "metadata": {},
   "outputs": [],
   "source": [
    "continent_subcontinent_mapping_df = con.execute(f\"select DISTINCT(geo_network_continent, geo_network_sub_continent) AS continent_dict from intermediate_train_data;\").df()"
   ]
  },
  {
   "cell_type": "code",
   "execution_count": null,
   "id": "f07b4860-b47b-498a-b28a-b3e4131a22a4",
   "metadata": {},
   "outputs": [],
   "source": [
    "continent_subcontinent_mapping_df.loc[:, ['geo_network_continent', 'geo_network_sub_continent']] = continent_subcontinent_mapping_df.apply(lambda row: row.continent_dict, axis='columns', result_type='expand')"
   ]
  },
  {
   "cell_type": "code",
   "execution_count": null,
   "id": "9a89b992-8d3f-4e3b-a500-338686a2ca08",
   "metadata": {},
   "outputs": [],
   "source": [
    "geo_network_continent_sub_continent_mapping = dict(zip(continent_subcontinent_mapping_df.geo_network_sub_continent.values, continent_subcontinent_mapping_df.geo_network_continent.values))"
   ]
  },
  {
   "cell_type": "markdown",
   "id": "4d40f7ad-f6d3-4173-95e0-982750ba261b",
   "metadata": {},
   "source": [
    "### 6.2 How many rows have a given geo_network_sub_continent value associated with them?"
   ]
  },
  {
   "cell_type": "code",
   "execution_count": null,
   "id": "49905904-c93d-4469-8c53-644ee26453be",
   "metadata": {},
   "outputs": [],
   "source": [
    "geo_network_sub_continent_df = get_counts_for_column_entries_ddb_table(con, table_name='intermediate_train_data', count_column_name='geo_network_sub_continent', group_by_column_list=['geo_network_sub_continent'])"
   ]
  },
  {
   "cell_type": "code",
   "execution_count": null,
   "id": "3706a2d5-ea30-4dd9-9875-e2813a00248b",
   "metadata": {},
   "outputs": [],
   "source": [
    "#geo_network_sub_continent_df['geo_network_continent'] = geo_network_sub_continent_df['geo_network_sub_continent'].map(geo_network_continent_sub_continent_mapping)"
   ]
  },
  {
   "cell_type": "code",
   "execution_count": null,
   "id": "5d888503-054b-400d-aaa6-bdd24b6e2c54",
   "metadata": {},
   "outputs": [],
   "source": [
    "create_multiple_plots(df=geo_network_sub_continent_df, y='geo_network_sub_continent', x='row_count_geo_network_sub_continent', kind='bar', orientation='h', title='Number of rows belonging to each sub continent')"
   ]
  },
  {
   "cell_type": "markdown",
   "id": "97636266-9beb-4ff9-8d64-24d164131436",
   "metadata": {},
   "source": [
    "### 6.3 How many rows have a given (geo_network_sub_continent, geo_network_sub_continent) value associated with them?"
   ]
  },
  {
   "cell_type": "code",
   "execution_count": null,
   "id": "1a037cbe-6cfa-4ddc-ae0e-d5c22d2ef5be",
   "metadata": {},
   "outputs": [],
   "source": [
    "geo_network_continent_and_sub_continent_df = get_counts_for_column_entries_ddb_table(con, table_name='intermediate_train_data', count_column_name='geo_network_sub_continent', group_by_column_list=['geo_network_continent', 'geo_network_sub_continent'], is_distinct_count=False)\n",
    "#con.execute(f\"select geo_network_continent, geo_network_sub_continent, count(*) from intermediate_train_data group by geo_network_continent, geo_network_sub_continent\").df()"
   ]
  },
  {
   "cell_type": "code",
   "execution_count": null,
   "id": "cd8a2bb9-bc3f-4324-9392-f062a0604b55",
   "metadata": {},
   "outputs": [],
   "source": [
    "geo_network_continent_and_sub_continent_df['combine_continent_sub_continent'] = geo_network_continent_and_sub_continent_df['geo_network_continent'] + '_' + geo_network_continent_and_sub_continent_df['geo_network_sub_continent']"
   ]
  },
  {
   "cell_type": "code",
   "execution_count": null,
   "id": "dada2507-5e2a-447f-b167-9f3405b00902",
   "metadata": {},
   "outputs": [],
   "source": [
    "create_multiple_plots(df=geo_network_continent_and_sub_continent_df.sort_values(by=['combine_continent_sub_continent']), y='combine_continent_sub_continent', x='row_count_geo_network_sub_continent', kind='bar', orientation='h', title='Number of rows belonging to each sub continent')"
   ]
  },
  {
   "cell_type": "markdown",
   "id": "6ca88953-0ed9-4d39-b243-f000dfe6131a",
   "metadata": {},
   "source": [
    "- It can be seen that Northern America has highest number of rows in the dataset"
   ]
  },
  {
   "cell_type": "markdown",
   "id": "0cc71edb-5b64-4af8-8aec-3330ced55974",
   "metadata": {},
   "source": [
    "### 6.4 How many unique geo_network_sub_continent values are associated with a user identified by full_visitor_id"
   ]
  },
  {
   "cell_type": "code",
   "execution_count": null,
   "id": "5cd91fa4-b21f-493b-8253-c470862516c4",
   "metadata": {},
   "outputs": [],
   "source": [
    "unique_geo_network_sub_continent_per_user_df = get_counts_for_column_entries_ddb_table(con, table_name='intermediate_train_data', count_column_name='geo_network_sub_continent', group_by_column_list=['full_visitor_id'], is_distinct_count=True)"
   ]
  },
  {
   "cell_type": "code",
   "execution_count": null,
   "id": "76204607-0898-49ae-ab92-e92cefe2b44a",
   "metadata": {},
   "outputs": [],
   "source": [
    "unique_geo_network_sub_continent_per_user_df.unique_count_geo_network_sub_continent.value_counts()"
   ]
  },
  {
   "cell_type": "markdown",
   "id": "79ca2091-bac9-4088-b896-23850e54b300",
   "metadata": {},
   "source": [
    "- Clearly, majority of people/ visitors are associated with 1 unique sub continenet. However, we see 1 person who has 5 unique sub continents"
   ]
  },
  {
   "cell_type": "markdown",
   "id": "5de9df0f-6da1-4ae0-8be9-26901fcaa722",
   "metadata": {},
   "source": [
    "### 6.5 What are the comma separated unique geo_network_sub_continent values associated with each full_visitor_id?"
   ]
  },
  {
   "cell_type": "code",
   "execution_count": null,
   "id": "e8cd5c14-d90b-4e2b-9360-a552e8f22b05",
   "metadata": {},
   "outputs": [],
   "source": [
    "unique_geo_network_sub_continent_string_df = get_separator_separated_values_for_column(con, table_name='intermediate_train_data', count_column_name='geo_network_sub_continent', group_by_column_name='full_visitor_id', is_distinct_count=True, separator=',')"
   ]
  },
  {
   "cell_type": "code",
   "execution_count": null,
   "id": "99cc26ba-7d20-4f2e-9642-fb748cc93a2b",
   "metadata": {},
   "outputs": [],
   "source": [
    "merged_unique_geo_network_sub_continent_string_df = pd.merge(unique_geo_network_sub_continent_string_df, unique_geo_network_sub_continent_per_user_df, left_on='full_visitor_id', right_on='full_visitor_id', how='left')"
   ]
  },
  {
   "cell_type": "code",
   "execution_count": null,
   "id": "aae6074e-4cff-4a44-b188-5ca13e242eb1",
   "metadata": {},
   "outputs": [],
   "source": [
    "merged_unique_geo_network_sub_continent_string_df[merged_unique_geo_network_sub_continent_string_df.unique_count_geo_network_sub_continent == 1]['concatenated_unique_geo_network_sub_continent'].value_counts()"
   ]
  },
  {
   "cell_type": "markdown",
   "id": "ef52ace9-4f6f-4f56-868f-9e0c64dbbc9d",
   "metadata": {},
   "source": [
    "- This shows that a lot of visitors who belong to exactly 1 geo_network_sub_continent are in Northern America"
   ]
  },
  {
   "cell_type": "markdown",
   "id": "7339c6d4-a2f4-4f63-af7f-871a79583a2c",
   "metadata": {},
   "source": [
    "## 7. Analyze geo_network_country"
   ]
  },
  {
   "cell_type": "markdown",
   "id": "68f915e4-457f-4edb-a022-d17e1808853f",
   "metadata": {},
   "source": [
    "### 7.1 How many rows have a given geo_network_country value associated with them?"
   ]
  },
  {
   "cell_type": "code",
   "execution_count": null,
   "id": "84f892a4-25be-4471-a525-026d707b50ff",
   "metadata": {},
   "outputs": [],
   "source": [
    "geo_network_country_df = get_counts_for_column_entries_ddb_table(con, table_name='intermediate_train_data', count_column_name='geo_network_country', group_by_column_list=['geo_network_continent', 'geo_network_sub_continent', 'geo_network_country'])"
   ]
  },
  {
   "cell_type": "code",
   "execution_count": null,
   "id": "9bf6d576-a338-461f-8cb4-c53357bcf9b4",
   "metadata": {},
   "outputs": [],
   "source": [
    "geo_network_country_df.head()"
   ]
  },
  {
   "cell_type": "code",
   "execution_count": null,
   "id": "b92f882f-438c-447a-9f87-8c6ccb9cfa1f",
   "metadata": {},
   "outputs": [],
   "source": [
    "row_count = geo_network_country_df['geo_network_continent'].nunique()\n",
    "max_column_count = geo_network_country_df.groupby(by=['geo_network_continent']).agg({'geo_network_sub_continent':'nunique'})['geo_network_sub_continent'].max()"
   ]
  },
  {
   "cell_type": "code",
   "execution_count": null,
   "id": "1a902359-3d43-4dd9-a524-2c71c9fa2404",
   "metadata": {
    "scrolled": true
   },
   "outputs": [],
   "source": [
    "plot_graphs_by_looping(df=geo_network_country_df, row_identifier='geo_network_continent', column_identifier='geo_network_sub_continent', x_column_to_plot='row_count_geo_network_country', y_column_to_plot='geo_network_country', row_count=row_count, max_column_count=max_column_count)"
   ]
  },
  {
   "cell_type": "markdown",
   "id": "a815a5e1-c30a-4772-945d-3d3ccea1174d",
   "metadata": {},
   "source": [
    "- This graph shows number of rows belonging to each country in a given sub continent. Each row represents a continent"
   ]
  },
  {
   "cell_type": "markdown",
   "id": "c9ee6d97-4b3e-409c-9d21-754f375e5210",
   "metadata": {},
   "source": [
    "## 8. Analyze geo_network_region"
   ]
  },
  {
   "cell_type": "code",
   "execution_count": null,
   "id": "1afc863a-87d2-4a5e-8aa2-5c5e19d66227",
   "metadata": {},
   "outputs": [],
   "source": [
    "geo_network_region_df = get_counts_for_column_entries_ddb_table(con, table_name='intermediate_train_data', count_column_name='geo_network_region', group_by_column_list=['geo_network_region'])"
   ]
  },
  {
   "cell_type": "code",
   "execution_count": null,
   "id": "955729d3-b132-4817-b748-9c089a4b8f91",
   "metadata": {},
   "outputs": [],
   "source": [
    "geo_network_region_df['percent_geo_network_region'] = geo_network_region_df['row_count_geo_network_region']/geo_network_region_df['row_count_geo_network_region'].sum()"
   ]
  },
  {
   "cell_type": "code",
   "execution_count": null,
   "id": "ce6b5592-c0d7-4ab5-950b-b1243256ed02",
   "metadata": {},
   "outputs": [],
   "source": [
    "geo_network_region_df.head()"
   ]
  },
  {
   "cell_type": "markdown",
   "id": "e7d2f425-1da0-46dd-894c-efdf14ae2266",
   "metadata": {},
   "source": [
    "- 54% of rows do not have geo_network_region set. Hence delete this column"
   ]
  },
  {
   "cell_type": "markdown",
   "id": "f7026818-3891-4b72-a5f6-55e8de840c1a",
   "metadata": {},
   "source": [
    "## 8. Analyze geo_network_metro"
   ]
  },
  {
   "cell_type": "code",
   "execution_count": null,
   "id": "1fdb563d-2bd8-4509-bcba-cd32a3c7827e",
   "metadata": {},
   "outputs": [],
   "source": [
    "geo_network_metro_df = get_counts_for_column_entries_ddb_table(con, table_name='intermediate_train_data', count_column_name='geo_network_metro', group_by_column_list=['geo_network_metro'])"
   ]
  },
  {
   "cell_type": "code",
   "execution_count": null,
   "id": "8cc299fa-5270-4f89-b2ce-04f5e74cc898",
   "metadata": {},
   "outputs": [],
   "source": [
    "geo_network_metro_df['percent_geo_network_metro'] = geo_network_metro_df['row_count_geo_network_metro']/geo_network_metro_df['row_count_geo_network_metro'].sum()"
   ]
  },
  {
   "cell_type": "code",
   "execution_count": null,
   "id": "a8fe63bc-572c-4628-9f0e-1ab99b08c5da",
   "metadata": {},
   "outputs": [],
   "source": [
    "geo_network_metro_df.head()"
   ]
  },
  {
   "cell_type": "markdown",
   "id": "06fc0a01-42db-4260-b333-51b28253e1a0",
   "metadata": {},
   "source": [
    "- Delete column geo_network_metro as 76% rows do not have thsis value."
   ]
  },
  {
   "cell_type": "markdown",
   "id": "82d5bd60-6655-4733-8454-034726ff4da8",
   "metadata": {},
   "source": [
    "## 9. Analyze geo_network_city/geo_network_city_id"
   ]
  },
  {
   "cell_type": "code",
   "execution_count": null,
   "id": "97a535f0-7c47-4cc9-aadb-0cc9b94afbe1",
   "metadata": {},
   "outputs": [],
   "source": [
    "geo_network_city_df = get_counts_for_column_entries_ddb_table(con, table_name='intermediate_train_data', count_column_name='geo_network_city', group_by_column_list=['geo_network_city'])"
   ]
  },
  {
   "cell_type": "code",
   "execution_count": null,
   "id": "cd510af3-52ad-4c58-b966-657e6d4beda0",
   "metadata": {},
   "outputs": [],
   "source": [
    "geo_network_city_df['percent_geo_network_city'] = geo_network_city_df['row_count_geo_network_city']/geo_network_city_df['row_count_geo_network_city'].sum()"
   ]
  },
  {
   "cell_type": "code",
   "execution_count": null,
   "id": "936796bb-5c2c-4ec4-9062-691c27de7a5e",
   "metadata": {},
   "outputs": [],
   "source": [
    "geo_network_city_df"
   ]
  },
  {
   "cell_type": "markdown",
   "id": "e47dbbb3-7aa0-47aa-a8dc-9a526a5cd313",
   "metadata": {},
   "source": [
    "- Delete column geo_network_city as 54% rows do not have this value."
   ]
  },
  {
   "cell_type": "markdown",
   "id": "d207c83b-4da1-4158-af0b-f3f3e2c10d08",
   "metadata": {},
   "source": [
    "## 10. Analyze geo_network_network_domain"
   ]
  },
  {
   "cell_type": "code",
   "execution_count": null,
   "id": "72877855-19fd-424e-a78c-615a0995b226",
   "metadata": {},
   "outputs": [],
   "source": [
    "geo_network_network_domain_df = get_counts_for_column_entries_ddb_table(con, table_name='intermediate_train_data', count_column_name='geo_network_network_domain', group_by_column_list=['geo_network_network_domain'])"
   ]
  },
  {
   "cell_type": "code",
   "execution_count": null,
   "id": "a23150cf-00fc-442a-958b-7aaa8efa933a",
   "metadata": {},
   "outputs": [],
   "source": [
    "geo_network_network_domain_df['domain'] = geo_network_network_domain_df['geo_network_network_domain'].str.split('.').str[1]"
   ]
  },
  {
   "cell_type": "code",
   "execution_count": null,
   "id": "f99b1dd0-5405-472c-8e32-c86af87f2c53",
   "metadata": {},
   "outputs": [],
   "source": [
    "geo_network_network_domain_df.head()"
   ]
  },
  {
   "cell_type": "markdown",
   "id": "da32be13-11fe-40de-8a69-8d7b7b33c693",
   "metadata": {},
   "source": [
    "- Delete column geo_network_network_domain"
   ]
  },
  {
   "cell_type": "markdown",
   "id": "74436630-a82f-4699-a878-4da7672a8890",
   "metadata": {},
   "source": [
    "## 11. Analyze geo_network_latitude"
   ]
  },
  {
   "cell_type": "code",
   "execution_count": null,
   "id": "de0e48d3-2d4b-439c-93a5-18f97052f2b3",
   "metadata": {},
   "outputs": [],
   "source": [
    "intermediate_data_table.geo_network_latitude"
   ]
  },
  {
   "cell_type": "markdown",
   "id": "ea3862bd-fc1e-4a88-b36c-e3a5c53a207c",
   "metadata": {},
   "source": [
    "- Delete column geo_network_latitude"
   ]
  },
  {
   "cell_type": "markdown",
   "id": "2c79857c-37ce-4f93-abad-58dbcbc8ce60",
   "metadata": {},
   "source": [
    "## 11. Analyze geo_network_longitude"
   ]
  },
  {
   "cell_type": "code",
   "execution_count": null,
   "id": "0e84cdcf-a398-4a11-9fb8-96d2b131de8d",
   "metadata": {},
   "outputs": [],
   "source": [
    "intermediate_data_table.geo_network_longitude"
   ]
  },
  {
   "cell_type": "markdown",
   "id": "d9db09ac-1e9c-404a-bd91-5642a298c97e",
   "metadata": {},
   "source": [
    "## 11. Analyze geo_network_network_location"
   ]
  },
  {
   "cell_type": "code",
   "execution_count": null,
   "id": "96d3faaf-e434-4ded-85d1-d51b46dcf57c",
   "metadata": {},
   "outputs": [],
   "source": [
    "geo_network_network_location_df = get_counts_for_column_entries_ddb_table(con, table_name='intermediate_train_data', count_column_name='geo_network_network_location', group_by_column_list=['geo_network_network_location'])"
   ]
  },
  {
   "cell_type": "code",
   "execution_count": null,
   "id": "7bb4eeed-cb21-401a-ac95-389c3c8d9c3a",
   "metadata": {},
   "outputs": [],
   "source": [
    "geo_network_network_location_df"
   ]
  },
  {
   "cell_type": "markdown",
   "id": "1b643793-719b-4bb3-b56d-8f72dbbef107",
   "metadata": {},
   "source": [
    "## 12. Analyze device_browser\n",
    "- Relevant device browser: chrome, safari, firefox, internet_explorer, (android_webview, android_browser, android_runtime), edge, samsung_internet, (opera_mini, opera, samsung-sm-b355e_opera), safari_(in-app), uc_browser, yabrowser, amazon_silk, coc_coc, (mozilla_compatible_agent, mozilla), mrchrome, maxthon, puffin, blackberry, nintendo_browser, (nokia_browser, nokiae52), iron, seamonkey, seznam, apple-iphone7c2, playstation_vita_browser, lunascape, konqueror, netscape, mqqbrowser, dillo"
   ]
  },
  {
   "cell_type": "code",
   "execution_count": null,
   "id": "66945f3f-de42-44fd-9033-65c68466c3d9",
   "metadata": {},
   "outputs": [],
   "source": [
    "device_browser_df = get_counts_for_column_entries_ddb_table(con, table_name='intermediate_train_data', count_column_name='device_browser', group_by_column_list=['device_browser'])"
   ]
  },
  {
   "cell_type": "code",
   "execution_count": null,
   "id": "db5036fb-4e95-4b80-b150-a140ab32590a",
   "metadata": {},
   "outputs": [],
   "source": [
    "device_browser_df['normalized_device_browser'] = device_browser_df['device_browser'].str.lower().str.split(' ').str.join('_')"
   ]
  },
  {
   "cell_type": "code",
   "execution_count": null,
   "id": "82e7419b-4ace-4e55-991c-e5435c03ccb2",
   "metadata": {},
   "outputs": [],
   "source": [
    "device_browser_df.head()"
   ]
  },
  {
   "cell_type": "markdown",
   "id": "cd2bdd5a-1100-4c66-99fe-5134ce964dc9",
   "metadata": {},
   "source": [
    "## 13. Analyze device_browser_version"
   ]
  },
  {
   "cell_type": "code",
   "execution_count": null,
   "id": "cd00ef27-bca4-49ee-82f2-5b10ad8570f6",
   "metadata": {},
   "outputs": [],
   "source": [
    "device_browser_version_df = get_counts_for_column_entries_ddb_table(con, table_name='intermediate_train_data', count_column_name='device_browser_version', group_by_column_list=['device_browser_version'])"
   ]
  },
  {
   "cell_type": "code",
   "execution_count": null,
   "id": "8e3d27e1-598a-4362-8218-72ffdc5d56b0",
   "metadata": {},
   "outputs": [],
   "source": [
    "device_browser_version_df"
   ]
  },
  {
   "cell_type": "markdown",
   "id": "37ab8cb1-4653-4def-a399-3c739abb4500",
   "metadata": {},
   "source": [
    "- Delete column device_browser_version"
   ]
  },
  {
   "cell_type": "markdown",
   "id": "b4fa5ff1-57e3-4223-8782-53bd2e4f5cee",
   "metadata": {},
   "source": [
    "## 14. Analyze device_browser_size"
   ]
  },
  {
   "cell_type": "code",
   "execution_count": null,
   "id": "a6668d20-480e-40aa-bc73-55ee12f684de",
   "metadata": {},
   "outputs": [],
   "source": [
    "device_browser_size_df = get_counts_for_column_entries_ddb_table(con, table_name='intermediate_train_data', count_column_name='device_browser_size', group_by_column_list=['device_browser_size'])"
   ]
  },
  {
   "cell_type": "code",
   "execution_count": null,
   "id": "23643e02-15fb-4c49-b324-0a02578b13b1",
   "metadata": {},
   "outputs": [],
   "source": [
    "device_browser_size_df"
   ]
  },
  {
   "cell_type": "markdown",
   "id": "b7402ccd-4262-4875-b149-b06e52663f7e",
   "metadata": {},
   "source": [
    "## 15. Analyze device_operating_system"
   ]
  },
  {
   "cell_type": "code",
   "execution_count": null,
   "id": "887dad85-0556-41e4-8561-a602643584a4",
   "metadata": {},
   "outputs": [],
   "source": [
    "device_operating_system_df = get_counts_for_column_entries_ddb_table(con, table_name='intermediate_train_data', count_column_name='device_operating_system', group_by_column_list=['device_operating_system'])"
   ]
  },
  {
   "cell_type": "code",
   "execution_count": null,
   "id": "1e322ebe-c4df-4668-b0ce-83c2c5f00f80",
   "metadata": {},
   "outputs": [],
   "source": [
    "device_operating_system_df.head()"
   ]
  },
  {
   "cell_type": "markdown",
   "id": "8b447738-e3fe-428a-aed2-77ba248ad768",
   "metadata": {},
   "source": [
    "### 15.1 How many unique device_operating_system values are associated with a given visitor?"
   ]
  },
  {
   "cell_type": "code",
   "execution_count": null,
   "id": "0e87a756-b499-4cb1-8f86-3e41e1e9cc00",
   "metadata": {},
   "outputs": [],
   "source": [
    "unique_device_operating_system_per_user_df = get_counts_for_column_entries_ddb_table(con, table_name='intermediate_train_data', count_column_name='device_operating_system', group_by_column_list=['full_visitor_id'], is_distinct_count=True)"
   ]
  },
  {
   "cell_type": "code",
   "execution_count": null,
   "id": "b7439b1d-5e60-41bd-b3d9-5c70f2327b8d",
   "metadata": {},
   "outputs": [],
   "source": [
    "unique_device_operating_system_per_user_df.unique_count_device_operating_system.value_counts()"
   ]
  },
  {
   "cell_type": "markdown",
   "id": "f7d5aa58-524c-4bbd-8f71-51d7e198970a",
   "metadata": {},
   "source": [
    "- Majority of visitors use only one operating system. Very rarely does it go beyond 1"
   ]
  },
  {
   "cell_type": "markdown",
   "id": "4ca2d6d8-84c6-47ba-90db-591f46126974",
   "metadata": {},
   "source": [
    "### 15.2 What are the comma separated unique device_operating_system values associated with each full_visitor_id?"
   ]
  },
  {
   "cell_type": "code",
   "execution_count": null,
   "id": "115c150c-9690-409d-be16-f4d4746572e1",
   "metadata": {},
   "outputs": [],
   "source": [
    "unique_device_operating_system_string_df = get_separator_separated_values_for_column(con, table_name='intermediate_train_data', count_column_name='device_operating_system', group_by_column_name='full_visitor_id', is_distinct_count=True, separator=',')"
   ]
  },
  {
   "cell_type": "code",
   "execution_count": null,
   "id": "b7e07314-4afa-465f-9de5-9b9deb8805a1",
   "metadata": {},
   "outputs": [],
   "source": [
    "merged_unique_device_operating_system_string_df = pd.merge(unique_device_operating_system_string_df, unique_device_operating_system_per_user_df, left_on='full_visitor_id', right_on='full_visitor_id', how='left')"
   ]
  },
  {
   "cell_type": "code",
   "execution_count": null,
   "id": "11091cc8-ee2e-46f3-b6d6-34ad2c5399b1",
   "metadata": {},
   "outputs": [],
   "source": [
    "merged_unique_device_operating_system_string_df[merged_unique_device_operating_system_string_df.unique_count_device_operating_system.isin([3, 4])]"
   ]
  },
  {
   "cell_type": "markdown",
   "id": "ed3be0e8-809a-41b4-acf2-b06e02b6aa59",
   "metadata": {},
   "source": [
    "## 16. Analyze device_operating_system_version"
   ]
  },
  {
   "cell_type": "code",
   "execution_count": null,
   "id": "bfa7fe42-9133-415d-b497-391eadcdfafe",
   "metadata": {},
   "outputs": [],
   "source": [
    "device_operating_system_version_df = get_counts_for_column_entries_ddb_table(con, table_name='intermediate_train_data', count_column_name='device_operating_system_version', group_by_column_list=['device_operating_system_version'])"
   ]
  },
  {
   "cell_type": "code",
   "execution_count": null,
   "id": "8f5332f7-3952-4a65-bce4-90e30c8ea312",
   "metadata": {},
   "outputs": [],
   "source": [
    "device_operating_system_version_df"
   ]
  },
  {
   "cell_type": "markdown",
   "id": "0ef1bcc8-6d13-4294-95ca-befb7b33508f",
   "metadata": {},
   "source": [
    "- Delete device_operating_system_version column"
   ]
  },
  {
   "cell_type": "markdown",
   "id": "70596a32-32eb-4db7-bebd-a70bcd44aa60",
   "metadata": {},
   "source": [
    "## 17. Analyze device_is_mobile"
   ]
  },
  {
   "cell_type": "code",
   "execution_count": null,
   "id": "8b92898a-a34f-4fe6-b555-1d13d6270628",
   "metadata": {},
   "outputs": [],
   "source": [
    "device_is_mobile_df = get_counts_for_column_entries_ddb_table(con, table_name='intermediate_train_data', count_column_name='device_is_mobile', group_by_column_list=['device_is_mobile'])"
   ]
  },
  {
   "cell_type": "code",
   "execution_count": null,
   "id": "b8d61e2e-9700-4d76-8fe9-bc1540f56661",
   "metadata": {},
   "outputs": [],
   "source": [
    "device_is_mobile_df"
   ]
  },
  {
   "cell_type": "code",
   "execution_count": null,
   "id": "e2674fc6-b314-42b9-8fdf-8ceb24443388",
   "metadata": {},
   "outputs": [],
   "source": [
    "unique_device_operating_system_system_per_device_is_mobile_df = get_separator_separated_values_for_column(con, table_name='intermediate_train_data', count_column_name='device_operating_system', group_by_column_name='device_is_mobile', is_distinct_count=True, separator=',')"
   ]
  },
  {
   "cell_type": "code",
   "execution_count": null,
   "id": "2f182d43-0901-4442-85ab-e567464552ab",
   "metadata": {},
   "outputs": [],
   "source": [
    "unique_device_operating_system_system_per_device_is_mobile_df.loc[0]['concatenated_unique_device_operating_system']"
   ]
  },
  {
   "cell_type": "code",
   "execution_count": null,
   "id": "f0f28e74-1d76-4816-b3bd-d047aad153e1",
   "metadata": {},
   "outputs": [],
   "source": [
    "unique_device_operating_system_system_per_device_is_mobile_df.loc[1]['concatenated_unique_device_operating_system']"
   ]
  },
  {
   "cell_type": "markdown",
   "id": "a4818310-38ee-4b23-bd64-01d6b4880832",
   "metadata": {},
   "source": [
    "## 18. Analyze device_mobile_device_branding"
   ]
  },
  {
   "cell_type": "code",
   "execution_count": null,
   "id": "e86dbb88-46f4-489b-a92b-7ca48534433c",
   "metadata": {},
   "outputs": [],
   "source": [
    "device_mobile_device_branding_df = get_counts_for_column_entries_ddb_table(con, table_name='intermediate_train_data', count_column_name='device_mobile_device_branding', group_by_column_list=['device_mobile_device_branding'])"
   ]
  },
  {
   "cell_type": "code",
   "execution_count": null,
   "id": "4b479116-7a98-4376-b29e-5aca09f55e29",
   "metadata": {},
   "outputs": [],
   "source": [
    "device_mobile_device_branding_df"
   ]
  },
  {
   "cell_type": "markdown",
   "id": "0aa00102-5990-45fc-b953-57b45664effb",
   "metadata": {},
   "source": [
    "## 19. Analyze device_mobile_device_model"
   ]
  },
  {
   "cell_type": "code",
   "execution_count": null,
   "id": "0e66b1f4-ab23-4f84-a60a-4945b95debbd",
   "metadata": {},
   "outputs": [],
   "source": [
    "device_mobile_device_model_df = get_counts_for_column_entries_ddb_table(con, table_name='intermediate_train_data', count_column_name='device_mobile_device_model', group_by_column_list=['device_mobile_device_model'])"
   ]
  },
  {
   "cell_type": "code",
   "execution_count": null,
   "id": "58a48393-6f58-4ecf-8f85-8347441daa27",
   "metadata": {},
   "outputs": [],
   "source": [
    "device_mobile_device_model_df"
   ]
  },
  {
   "cell_type": "markdown",
   "id": "6a49f2f5-970b-49fd-8df1-203692bdc76d",
   "metadata": {},
   "source": [
    "## 20. Analyze device_mobile_input_selector"
   ]
  },
  {
   "cell_type": "code",
   "execution_count": null,
   "id": "ded8f95e-273f-43ef-b7a0-b308f1dc08dd",
   "metadata": {},
   "outputs": [],
   "source": [
    "device_mobile_input_selector_df = get_counts_for_column_entries_ddb_table(con, table_name='intermediate_train_data', count_column_name='device_mobile_input_selector', group_by_column_list=['device_mobile_input_selector'])"
   ]
  },
  {
   "cell_type": "code",
   "execution_count": null,
   "id": "72df35b8-5006-4717-8a22-0601655a69b8",
   "metadata": {},
   "outputs": [],
   "source": [
    "device_mobile_input_selector_df"
   ]
  },
  {
   "cell_type": "markdown",
   "id": "3fc39701-ab9a-4c72-a25c-d800b8735e9a",
   "metadata": {},
   "source": [
    "## 21. Analyze device_mobile_device_info"
   ]
  },
  {
   "cell_type": "code",
   "execution_count": null,
   "id": "fa7331e6-8ea4-40a0-ba0e-e2e35a167c6c",
   "metadata": {},
   "outputs": [],
   "source": [
    "device_mobile_device_info_df = get_counts_for_column_entries_ddb_table(con, table_name='intermediate_train_data', count_column_name='device_mobile_device_info', group_by_column_list=['device_mobile_device_info'])"
   ]
  },
  {
   "cell_type": "code",
   "execution_count": null,
   "id": "7c1ae48a-d760-4794-897d-35ece8ad2516",
   "metadata": {},
   "outputs": [],
   "source": [
    "device_mobile_device_info_df"
   ]
  },
  {
   "cell_type": "markdown",
   "id": "da7aebce-8e39-4fa6-8b3b-2fb197fa1515",
   "metadata": {},
   "source": [
    "## 22. Analyze device_mobile_device_marketing_name"
   ]
  },
  {
   "cell_type": "code",
   "execution_count": null,
   "id": "96070c9b-b2e8-42bc-9b18-3f7147d052f6",
   "metadata": {},
   "outputs": [],
   "source": [
    "device_mobile_device_marketing_name_df = get_counts_for_column_entries_ddb_table(con, table_name='intermediate_train_data', count_column_name='device_mobile_device_marketing_name', group_by_column_list=['device_mobile_device_marketing_name'])"
   ]
  },
  {
   "cell_type": "code",
   "execution_count": null,
   "id": "eebe433f-db9e-41d9-9399-8363fb22a66f",
   "metadata": {},
   "outputs": [],
   "source": [
    "device_mobile_device_marketing_name_df"
   ]
  },
  {
   "cell_type": "markdown",
   "id": "d19f88cf-25ce-48ad-9b47-e82a27b98e7b",
   "metadata": {},
   "source": [
    "## 23. Analyze device_flash_version"
   ]
  },
  {
   "cell_type": "code",
   "execution_count": null,
   "id": "f971a35d-6d10-4097-964f-c9ffc76308b0",
   "metadata": {},
   "outputs": [],
   "source": [
    "device_flash_version_df = get_counts_for_column_entries_ddb_table(con, table_name='intermediate_train_data', count_column_name='device_flash_version', group_by_column_list=['device_flash_version'])"
   ]
  },
  {
   "cell_type": "code",
   "execution_count": null,
   "id": "64111f91-975c-48bd-a059-8410f6347ef2",
   "metadata": {},
   "outputs": [],
   "source": [
    "device_flash_version_df"
   ]
  },
  {
   "cell_type": "markdown",
   "id": "603577eb-6a53-459c-b02c-e59ba36af8ad",
   "metadata": {},
   "source": [
    "## 23. Analyze device_language"
   ]
  },
  {
   "cell_type": "code",
   "execution_count": null,
   "id": "879a4717-d8b4-4886-a3d4-7114abdfd651",
   "metadata": {},
   "outputs": [],
   "source": [
    "device_language_df = get_counts_for_column_entries_ddb_table(con, table_name='intermediate_train_data', count_column_name='device_language', group_by_column_list=['device_language'])"
   ]
  },
  {
   "cell_type": "code",
   "execution_count": null,
   "id": "29c8ffc3-b6a2-49c1-9459-644cdc1d5474",
   "metadata": {},
   "outputs": [],
   "source": [
    "device_language_df"
   ]
  },
  {
   "cell_type": "markdown",
   "id": "67752ee0-a532-4b3c-9a91-743ddf348991",
   "metadata": {},
   "source": [
    "## 23. Analyze device_screen_colors"
   ]
  },
  {
   "cell_type": "code",
   "execution_count": null,
   "id": "71541345-e4d9-4f0d-8208-7b1620d6b4e8",
   "metadata": {},
   "outputs": [],
   "source": [
    "device_screen_colors_df = get_counts_for_column_entries_ddb_table(con, table_name='intermediate_train_data', count_column_name='device_screen_colors', group_by_column_list=['device_screen_colors'])"
   ]
  },
  {
   "cell_type": "code",
   "execution_count": null,
   "id": "0b090757-d82d-4e91-b853-6eeb282e38a0",
   "metadata": {},
   "outputs": [],
   "source": [
    "device_screen_colors_df"
   ]
  },
  {
   "cell_type": "markdown",
   "id": "035e64ed-3ca7-4b91-9f99-731fe5b7faa9",
   "metadata": {},
   "source": [
    "## 23. Analyze device_screen_resolution"
   ]
  },
  {
   "cell_type": "code",
   "execution_count": null,
   "id": "57707b9d-cf68-46df-b9c5-374b7e078f8a",
   "metadata": {},
   "outputs": [],
   "source": [
    "device_screen_resolution_df = get_counts_for_column_entries_ddb_table(con, table_name='intermediate_train_data', count_column_name='device_screen_resolution', group_by_column_list=['device_screen_resolution'])"
   ]
  },
  {
   "cell_type": "code",
   "execution_count": null,
   "id": "6224de3b-381a-4cfb-8e36-8c89eaf498bb",
   "metadata": {},
   "outputs": [],
   "source": [
    "device_screen_resolution_df"
   ]
  },
  {
   "cell_type": "markdown",
   "id": "78f55410-05e3-42bb-88de-ac815078cfa8",
   "metadata": {},
   "source": [
    "## 24. Analyze device_device_category"
   ]
  },
  {
   "cell_type": "code",
   "execution_count": null,
   "id": "6b51dbca-9660-4782-97a7-617b1558cb6c",
   "metadata": {},
   "outputs": [],
   "source": [
    "device_device_category_df = get_counts_for_column_entries_ddb_table(con, table_name='intermediate_train_data', count_column_name='device_device_category', group_by_column_list=['device_device_category'])"
   ]
  },
  {
   "cell_type": "code",
   "execution_count": null,
   "id": "aa6a9f17-fe2c-4891-9140-969f2a03a119",
   "metadata": {},
   "outputs": [],
   "source": [
    "device_device_category_df"
   ]
  },
  {
   "cell_type": "markdown",
   "id": "b0e7a058-88ed-49e8-959c-81a7458d9e8d",
   "metadata": {},
   "source": [
    "### 24.4 How many unique device_device_category values are associated with a user identified by full_visitor_id"
   ]
  },
  {
   "cell_type": "code",
   "execution_count": null,
   "id": "1bedc0e5-ecbf-4c50-913b-b84b3db67dbb",
   "metadata": {},
   "outputs": [],
   "source": [
    "unique_device_device_category_per_user_df = get_counts_for_column_entries_ddb_table(con, table_name='intermediate_train_data', count_column_name='device_device_category', group_by_column_list=['full_visitor_id'], is_distinct_count=True)"
   ]
  },
  {
   "cell_type": "code",
   "execution_count": null,
   "id": "819776b1-2994-4483-8983-43e578a7619a",
   "metadata": {},
   "outputs": [],
   "source": [
    "unique_device_device_category_per_user_df.unique_count_device_device_category.value_counts()"
   ]
  },
  {
   "cell_type": "markdown",
   "id": "4230f51b-984b-4aca-a5d2-0d17f4ad8c84",
   "metadata": {},
   "source": [
    "- Very interseting to see that every visitor uses only 1 unique device_device_category"
   ]
  },
  {
   "cell_type": "markdown",
   "id": "168b85cf-75c1-4783-96eb-fbf5bd9150b8",
   "metadata": {},
   "source": [
    "## 25. Analyze totals - This section contains aggregate values across the session [TODO AGAIN CORRECTLY]\n",
    "- https://www.digishuffle.com/blogs/google-analytics-sessions-hits-metric-simplified/\n",
    "- https://themeisle.com/blog/page-views-vs-visits/#gref"
   ]
  },
  {
   "cell_type": "markdown",
   "id": "a30f6a93-fbaa-419b-a17a-bb66025a8a90",
   "metadata": {},
   "source": [
    "1. Page View: A page view occurs whenever someone loads your site in their web browser (not necessary to be from external source). A view is registered every time a page is loaded. \n",
    "2. Page Visit: A page visit happens whenever someone reaches your site from an external source, outside of your website’s domain. For instance, if a user finds your article online and then reloads the page, that still counts as one visit. However, if they navigate away from your website, search for a new keyword in Google, and then land on your page again, this will count as two visits\n",
    "3. Session: A session is the total time a user spends on your website within a certain period. A session typically expires after 30 minutes of inactivity. A session is a group of user interactions with your website that take place within a given time frame\n",
    "\n",
    "Note: Contrary to popular belief, high page views don’t always mean you’re reaching a broad audience. High page visits are generally positive, as they indicate that your website is popular."
   ]
  },
  {
   "cell_type": "markdown",
   "id": "4f9c4336-0535-4746-9aad-ad76467073e9",
   "metadata": {},
   "source": [
    "### 25.1 totals_visits"
   ]
  },
  {
   "cell_type": "code",
   "execution_count": 82,
   "id": "e7ae7ac4-3244-40df-975c-262e0186f480",
   "metadata": {},
   "outputs": [],
   "source": [
    "totals_visits_per_user_aggregates_df = get_aggregates_for_numerical_variable_using_groupby_column(con, 'intermediate_train_data', 'totals_visits', ['full_visitor_id'])"
   ]
  },
  {
   "cell_type": "code",
   "execution_count": 83,
   "id": "3bc05481-6569-48e4-9619-4cabf7e46fd6",
   "metadata": {},
   "outputs": [
    {
     "data": {
      "text/html": [
       "<div>\n",
       "<style scoped>\n",
       "    .dataframe tbody tr th:only-of-type {\n",
       "        vertical-align: middle;\n",
       "    }\n",
       "\n",
       "    .dataframe tbody tr th {\n",
       "        vertical-align: top;\n",
       "    }\n",
       "\n",
       "    .dataframe thead th {\n",
       "        text-align: right;\n",
       "    }\n",
       "</style>\n",
       "<table border=\"1\" class=\"dataframe\">\n",
       "  <thead>\n",
       "    <tr style=\"text-align: right;\">\n",
       "      <th></th>\n",
       "      <th>full_visitor_id</th>\n",
       "      <th>min_totals_visits_per_session</th>\n",
       "      <th>max_totals_visits_per_session</th>\n",
       "      <th>avg_totals_visits_per_session</th>\n",
       "      <th>median_totals_visits_per_session</th>\n",
       "      <th>row_count</th>\n",
       "    </tr>\n",
       "  </thead>\n",
       "  <tbody>\n",
       "    <tr>\n",
       "      <th>0</th>\n",
       "      <td>1188438204350710034</td>\n",
       "      <td>1.0</td>\n",
       "      <td>1.0</td>\n",
       "      <td>1.0</td>\n",
       "      <td>1.0</td>\n",
       "      <td>1</td>\n",
       "    </tr>\n",
       "    <tr>\n",
       "      <th>1</th>\n",
       "      <td>4995584940873803432</td>\n",
       "      <td>1.0</td>\n",
       "      <td>1.0</td>\n",
       "      <td>1.0</td>\n",
       "      <td>1.0</td>\n",
       "      <td>13</td>\n",
       "    </tr>\n",
       "    <tr>\n",
       "      <th>2</th>\n",
       "      <td>9431335736445969971</td>\n",
       "      <td>1.0</td>\n",
       "      <td>1.0</td>\n",
       "      <td>1.0</td>\n",
       "      <td>1.0</td>\n",
       "      <td>11</td>\n",
       "    </tr>\n",
       "    <tr>\n",
       "      <th>3</th>\n",
       "      <td>5545356997493092750</td>\n",
       "      <td>1.0</td>\n",
       "      <td>1.0</td>\n",
       "      <td>1.0</td>\n",
       "      <td>1.0</td>\n",
       "      <td>1</td>\n",
       "    </tr>\n",
       "    <tr>\n",
       "      <th>4</th>\n",
       "      <td>4725525313554504933</td>\n",
       "      <td>1.0</td>\n",
       "      <td>1.0</td>\n",
       "      <td>1.0</td>\n",
       "      <td>1.0</td>\n",
       "      <td>1</td>\n",
       "    </tr>\n",
       "    <tr>\n",
       "      <th>...</th>\n",
       "      <td>...</td>\n",
       "      <td>...</td>\n",
       "      <td>...</td>\n",
       "      <td>...</td>\n",
       "      <td>...</td>\n",
       "      <td>...</td>\n",
       "    </tr>\n",
       "    <tr>\n",
       "      <th>1329429</th>\n",
       "      <td>3552107227896433118</td>\n",
       "      <td>1.0</td>\n",
       "      <td>1.0</td>\n",
       "      <td>1.0</td>\n",
       "      <td>1.0</td>\n",
       "      <td>1</td>\n",
       "    </tr>\n",
       "    <tr>\n",
       "      <th>1329430</th>\n",
       "      <td>3579436755175972276</td>\n",
       "      <td>1.0</td>\n",
       "      <td>1.0</td>\n",
       "      <td>1.0</td>\n",
       "      <td>1.0</td>\n",
       "      <td>1</td>\n",
       "    </tr>\n",
       "    <tr>\n",
       "      <th>1329431</th>\n",
       "      <td>4113481277117785673</td>\n",
       "      <td>1.0</td>\n",
       "      <td>1.0</td>\n",
       "      <td>1.0</td>\n",
       "      <td>1.0</td>\n",
       "      <td>1</td>\n",
       "    </tr>\n",
       "    <tr>\n",
       "      <th>1329432</th>\n",
       "      <td>5986748383523874055</td>\n",
       "      <td>1.0</td>\n",
       "      <td>1.0</td>\n",
       "      <td>1.0</td>\n",
       "      <td>1.0</td>\n",
       "      <td>1</td>\n",
       "    </tr>\n",
       "    <tr>\n",
       "      <th>1329433</th>\n",
       "      <td>3767629975403437823</td>\n",
       "      <td>1.0</td>\n",
       "      <td>1.0</td>\n",
       "      <td>1.0</td>\n",
       "      <td>1.0</td>\n",
       "      <td>1</td>\n",
       "    </tr>\n",
       "  </tbody>\n",
       "</table>\n",
       "<p>1329434 rows × 6 columns</p>\n",
       "</div>"
      ],
      "text/plain": [
       "             full_visitor_id  min_totals_visits_per_session  \\\n",
       "0        1188438204350710034                            1.0   \n",
       "1        4995584940873803432                            1.0   \n",
       "2        9431335736445969971                            1.0   \n",
       "3        5545356997493092750                            1.0   \n",
       "4        4725525313554504933                            1.0   \n",
       "...                      ...                            ...   \n",
       "1329429  3552107227896433118                            1.0   \n",
       "1329430  3579436755175972276                            1.0   \n",
       "1329431  4113481277117785673                            1.0   \n",
       "1329432  5986748383523874055                            1.0   \n",
       "1329433  3767629975403437823                            1.0   \n",
       "\n",
       "         max_totals_visits_per_session  avg_totals_visits_per_session  \\\n",
       "0                                  1.0                            1.0   \n",
       "1                                  1.0                            1.0   \n",
       "2                                  1.0                            1.0   \n",
       "3                                  1.0                            1.0   \n",
       "4                                  1.0                            1.0   \n",
       "...                                ...                            ...   \n",
       "1329429                            1.0                            1.0   \n",
       "1329430                            1.0                            1.0   \n",
       "1329431                            1.0                            1.0   \n",
       "1329432                            1.0                            1.0   \n",
       "1329433                            1.0                            1.0   \n",
       "\n",
       "         median_totals_visits_per_session  row_count  \n",
       "0                                     1.0          1  \n",
       "1                                     1.0         13  \n",
       "2                                     1.0         11  \n",
       "3                                     1.0          1  \n",
       "4                                     1.0          1  \n",
       "...                                   ...        ...  \n",
       "1329429                               1.0          1  \n",
       "1329430                               1.0          1  \n",
       "1329431                               1.0          1  \n",
       "1329432                               1.0          1  \n",
       "1329433                               1.0          1  \n",
       "\n",
       "[1329434 rows x 6 columns]"
      ]
     },
     "execution_count": 83,
     "metadata": {},
     "output_type": "execute_result"
    }
   ],
   "source": [
    "totals_visits_per_user_aggregates_df"
   ]
  },
  {
   "cell_type": "code",
   "execution_count": 84,
   "id": "59a08daf-bf49-470d-8a8d-28f8b9d9e0e1",
   "metadata": {},
   "outputs": [
    {
     "data": {
      "text/plain": [
       "count    1329434.0\n",
       "mean           1.0\n",
       "std            0.0\n",
       "min            1.0\n",
       "25%            1.0\n",
       "50%            1.0\n",
       "75%            1.0\n",
       "max            1.0\n",
       "Name: min_totals_visits_per_session, dtype: float64"
      ]
     },
     "execution_count": 84,
     "metadata": {},
     "output_type": "execute_result"
    }
   ],
   "source": [
    "totals_visits_per_user_aggregates_df.min_totals_visits_per_session.describe()"
   ]
  },
  {
   "cell_type": "code",
   "execution_count": 85,
   "id": "d85249c6-3654-49e2-9ff6-3a3b618e8e5b",
   "metadata": {},
   "outputs": [
    {
     "data": {
      "text/plain": [
       "count    1329434.0\n",
       "mean           1.0\n",
       "std            0.0\n",
       "min            1.0\n",
       "25%            1.0\n",
       "50%            1.0\n",
       "75%            1.0\n",
       "max            1.0\n",
       "Name: max_totals_visits_per_session, dtype: float64"
      ]
     },
     "execution_count": 85,
     "metadata": {},
     "output_type": "execute_result"
    }
   ],
   "source": [
    "totals_visits_per_user_aggregates_df.max_totals_visits_per_session.describe()"
   ]
  },
  {
   "cell_type": "code",
   "execution_count": 86,
   "id": "cc69efe9-151e-4208-9fe6-5af0597e396a",
   "metadata": {},
   "outputs": [
    {
     "data": {
      "text/plain": [
       "count    1329434.0\n",
       "mean           1.0\n",
       "std            0.0\n",
       "min            1.0\n",
       "25%            1.0\n",
       "50%            1.0\n",
       "75%            1.0\n",
       "max            1.0\n",
       "Name: avg_totals_visits_per_session, dtype: float64"
      ]
     },
     "execution_count": 86,
     "metadata": {},
     "output_type": "execute_result"
    }
   ],
   "source": [
    "totals_visits_per_user_aggregates_df.avg_totals_visits_per_session.describe()"
   ]
  },
  {
   "cell_type": "code",
   "execution_count": 87,
   "id": "350ebed5-2640-44b3-acd6-d0408e5b8558",
   "metadata": {},
   "outputs": [
    {
     "data": {
      "text/plain": [
       "count    1.329434e+06\n",
       "mean     1.285011e+00\n",
       "std      1.529400e+00\n",
       "min      1.000000e+00\n",
       "25%      1.000000e+00\n",
       "50%      1.000000e+00\n",
       "75%      1.000000e+00\n",
       "max      4.000000e+02\n",
       "Name: row_count, dtype: float64"
      ]
     },
     "execution_count": 87,
     "metadata": {},
     "output_type": "execute_result"
    }
   ],
   "source": [
    "totals_visits_per_user_aggregates_df.row_count.describe()"
   ]
  },
  {
   "cell_type": "code",
   "execution_count": 88,
   "id": "e286f11f-0772-4b78-9596-fbfe2f02f696",
   "metadata": {},
   "outputs": [
    {
     "data": {
      "text/html": [
       "<div>\n",
       "<style scoped>\n",
       "    .dataframe tbody tr th:only-of-type {\n",
       "        vertical-align: middle;\n",
       "    }\n",
       "\n",
       "    .dataframe tbody tr th {\n",
       "        vertical-align: top;\n",
       "    }\n",
       "\n",
       "    .dataframe thead th {\n",
       "        text-align: right;\n",
       "    }\n",
       "</style>\n",
       "<table border=\"1\" class=\"dataframe\">\n",
       "  <thead>\n",
       "    <tr style=\"text-align: right;\">\n",
       "      <th></th>\n",
       "      <th>full_visitor_id</th>\n",
       "      <th>min_totals_visits_per_session</th>\n",
       "      <th>max_totals_visits_per_session</th>\n",
       "      <th>avg_totals_visits_per_session</th>\n",
       "      <th>median_totals_visits_per_session</th>\n",
       "      <th>row_count</th>\n",
       "    </tr>\n",
       "  </thead>\n",
       "  <tbody>\n",
       "    <tr>\n",
       "      <th>166850</th>\n",
       "      <td>1957458976293878100</td>\n",
       "      <td>1.0</td>\n",
       "      <td>1.0</td>\n",
       "      <td>1.0</td>\n",
       "      <td>1.0</td>\n",
       "      <td>400</td>\n",
       "    </tr>\n",
       "  </tbody>\n",
       "</table>\n",
       "</div>"
      ],
      "text/plain": [
       "            full_visitor_id  min_totals_visits_per_session  \\\n",
       "166850  1957458976293878100                            1.0   \n",
       "\n",
       "        max_totals_visits_per_session  avg_totals_visits_per_session  \\\n",
       "166850                            1.0                            1.0   \n",
       "\n",
       "        median_totals_visits_per_session  row_count  \n",
       "166850                               1.0        400  "
      ]
     },
     "execution_count": 88,
     "metadata": {},
     "output_type": "execute_result"
    }
   ],
   "source": [
    "totals_visits_per_user_aggregates_df[totals_visits_per_user_aggregates_df.row_count == 400]"
   ]
  },
  {
   "cell_type": "markdown",
   "id": "73bf487d-3df2-4935-aea3-f2d31f762515",
   "metadata": {},
   "source": [
    "- This shows that each visitor/full_visitor_id has exactly 1 visit per session. Even the visitor having 400 sessions, has maximum of 1 visit across each of 400 sessions."
   ]
  },
  {
   "cell_type": "markdown",
   "id": "6e0c8f8d-4d0e-4f1d-80a1-6cdf539dc196",
   "metadata": {},
   "source": [
    "### 25.2 totals_pageviews"
   ]
  },
  {
   "cell_type": "code",
   "execution_count": 93,
   "id": "262beab4-a3d4-40f9-8ba9-819ce69562d8",
   "metadata": {},
   "outputs": [],
   "source": [
    "totals_pageviews_per_user_aggregates_df = get_aggregates_for_numerical_variable_using_groupby_column(con, 'intermediate_train_data', 'totals_pageviews', ['full_visitor_id'])"
   ]
  },
  {
   "cell_type": "code",
   "execution_count": 97,
   "id": "d1e2f4eb-73fe-4bf5-8583-889db2c87b65",
   "metadata": {},
   "outputs": [
    {
     "data": {
      "text/html": [
       "<div>\n",
       "<style scoped>\n",
       "    .dataframe tbody tr th:only-of-type {\n",
       "        vertical-align: middle;\n",
       "    }\n",
       "\n",
       "    .dataframe tbody tr th {\n",
       "        vertical-align: top;\n",
       "    }\n",
       "\n",
       "    .dataframe thead th {\n",
       "        text-align: right;\n",
       "    }\n",
       "</style>\n",
       "<table border=\"1\" class=\"dataframe\">\n",
       "  <thead>\n",
       "    <tr style=\"text-align: right;\">\n",
       "      <th></th>\n",
       "      <th>full_visitor_id</th>\n",
       "      <th>min_totals_pageviews_per_session</th>\n",
       "      <th>max_totals_pageviews_per_session</th>\n",
       "      <th>avg_totals_pageviews_per_session</th>\n",
       "      <th>median_totals_pageviews_per_session</th>\n",
       "      <th>row_count</th>\n",
       "    </tr>\n",
       "  </thead>\n",
       "  <tbody>\n",
       "    <tr>\n",
       "      <th>167069</th>\n",
       "      <td>1957458976293878100</td>\n",
       "      <td>1.0</td>\n",
       "      <td>483.0</td>\n",
       "      <td>18.517500</td>\n",
       "      <td>5.0</td>\n",
       "      <td>400</td>\n",
       "    </tr>\n",
       "    <tr>\n",
       "      <th>167318</th>\n",
       "      <td>824839726118485274</td>\n",
       "      <td>1.0</td>\n",
       "      <td>94.0</td>\n",
       "      <td>11.114833</td>\n",
       "      <td>4.0</td>\n",
       "      <td>209</td>\n",
       "    </tr>\n",
       "    <tr>\n",
       "      <th>168332</th>\n",
       "      <td>3884810646891698298</td>\n",
       "      <td>1.0</td>\n",
       "      <td>2.0</td>\n",
       "      <td>1.044776</td>\n",
       "      <td>1.0</td>\n",
       "      <td>268</td>\n",
       "    </tr>\n",
       "    <tr>\n",
       "      <th>667786</th>\n",
       "      <td>7282998257608986241</td>\n",
       "      <td>1.0</td>\n",
       "      <td>115.0</td>\n",
       "      <td>4.698413</td>\n",
       "      <td>2.0</td>\n",
       "      <td>315</td>\n",
       "    </tr>\n",
       "    <tr>\n",
       "      <th>1002210</th>\n",
       "      <td>3608475193341679870</td>\n",
       "      <td>1.0</td>\n",
       "      <td>38.0</td>\n",
       "      <td>1.626866</td>\n",
       "      <td>1.0</td>\n",
       "      <td>201</td>\n",
       "    </tr>\n",
       "    <tr>\n",
       "      <th>1164224</th>\n",
       "      <td>7477638593794484792</td>\n",
       "      <td>1.0</td>\n",
       "      <td>28.0</td>\n",
       "      <td>1.619266</td>\n",
       "      <td>1.0</td>\n",
       "      <td>218</td>\n",
       "    </tr>\n",
       "  </tbody>\n",
       "</table>\n",
       "</div>"
      ],
      "text/plain": [
       "             full_visitor_id  min_totals_pageviews_per_session  \\\n",
       "167069   1957458976293878100                               1.0   \n",
       "167318    824839726118485274                               1.0   \n",
       "168332   3884810646891698298                               1.0   \n",
       "667786   7282998257608986241                               1.0   \n",
       "1002210  3608475193341679870                               1.0   \n",
       "1164224  7477638593794484792                               1.0   \n",
       "\n",
       "         max_totals_pageviews_per_session  avg_totals_pageviews_per_session  \\\n",
       "167069                              483.0                         18.517500   \n",
       "167318                               94.0                         11.114833   \n",
       "168332                                2.0                          1.044776   \n",
       "667786                              115.0                          4.698413   \n",
       "1002210                              38.0                          1.626866   \n",
       "1164224                              28.0                          1.619266   \n",
       "\n",
       "         median_totals_pageviews_per_session  row_count  \n",
       "167069                                   5.0        400  \n",
       "167318                                   4.0        209  \n",
       "168332                                   1.0        268  \n",
       "667786                                   2.0        315  \n",
       "1002210                                  1.0        201  \n",
       "1164224                                  1.0        218  "
      ]
     },
     "execution_count": 97,
     "metadata": {},
     "output_type": "execute_result"
    }
   ],
   "source": [
    "totals_pageviews_per_user_aggregates_df[totals_pageviews_per_user_aggregates_df.row_count>200]"
   ]
  },
  {
   "cell_type": "markdown",
   "id": "ff7e3973-29d4-42b8-86c5-9f55dc9d7e59",
   "metadata": {},
   "source": [
    "### 25.3 totals_hits"
   ]
  },
  {
   "cell_type": "code",
   "execution_count": 95,
   "id": "ef89a928-6cf9-4579-8896-9fde00b05508",
   "metadata": {},
   "outputs": [],
   "source": [
    "totals_hits_per_user_aggregates_df = get_aggregates_for_numerical_variable_using_groupby_column(con, 'intermediate_train_data', 'totals_hits', ['full_visitor_id'])"
   ]
  },
  {
   "cell_type": "code",
   "execution_count": 96,
   "id": "9919bab8-77a8-4fa7-951b-7f299e8c5b10",
   "metadata": {},
   "outputs": [
    {
     "data": {
      "text/html": [
       "<div>\n",
       "<style scoped>\n",
       "    .dataframe tbody tr th:only-of-type {\n",
       "        vertical-align: middle;\n",
       "    }\n",
       "\n",
       "    .dataframe tbody tr th {\n",
       "        vertical-align: top;\n",
       "    }\n",
       "\n",
       "    .dataframe thead th {\n",
       "        text-align: right;\n",
       "    }\n",
       "</style>\n",
       "<table border=\"1\" class=\"dataframe\">\n",
       "  <thead>\n",
       "    <tr style=\"text-align: right;\">\n",
       "      <th></th>\n",
       "      <th>full_visitor_id</th>\n",
       "      <th>min_totals_hits_per_session</th>\n",
       "      <th>max_totals_hits_per_session</th>\n",
       "      <th>avg_totals_hits_per_session</th>\n",
       "      <th>median_totals_hits_per_session</th>\n",
       "      <th>row_count</th>\n",
       "    </tr>\n",
       "  </thead>\n",
       "  <tbody>\n",
       "    <tr>\n",
       "      <th>166882</th>\n",
       "      <td>1957458976293878100</td>\n",
       "      <td>1.0</td>\n",
       "      <td>483.0</td>\n",
       "      <td>20.982500</td>\n",
       "      <td>6.0</td>\n",
       "      <td>400</td>\n",
       "    </tr>\n",
       "    <tr>\n",
       "      <th>167252</th>\n",
       "      <td>824839726118485274</td>\n",
       "      <td>1.0</td>\n",
       "      <td>114.0</td>\n",
       "      <td>13.803828</td>\n",
       "      <td>4.0</td>\n",
       "      <td>209</td>\n",
       "    </tr>\n",
       "    <tr>\n",
       "      <th>168519</th>\n",
       "      <td>3884810646891698298</td>\n",
       "      <td>1.0</td>\n",
       "      <td>2.0</td>\n",
       "      <td>1.044776</td>\n",
       "      <td>1.0</td>\n",
       "      <td>268</td>\n",
       "    </tr>\n",
       "    <tr>\n",
       "      <th>665270</th>\n",
       "      <td>7282998257608986241</td>\n",
       "      <td>1.0</td>\n",
       "      <td>155.0</td>\n",
       "      <td>5.307937</td>\n",
       "      <td>2.0</td>\n",
       "      <td>315</td>\n",
       "    </tr>\n",
       "    <tr>\n",
       "      <th>998590</th>\n",
       "      <td>3608475193341679870</td>\n",
       "      <td>1.0</td>\n",
       "      <td>57.0</td>\n",
       "      <td>1.835821</td>\n",
       "      <td>1.0</td>\n",
       "      <td>201</td>\n",
       "    </tr>\n",
       "    <tr>\n",
       "      <th>1164032</th>\n",
       "      <td>7477638593794484792</td>\n",
       "      <td>1.0</td>\n",
       "      <td>34.0</td>\n",
       "      <td>1.793578</td>\n",
       "      <td>1.0</td>\n",
       "      <td>218</td>\n",
       "    </tr>\n",
       "  </tbody>\n",
       "</table>\n",
       "</div>"
      ],
      "text/plain": [
       "             full_visitor_id  min_totals_hits_per_session  \\\n",
       "166882   1957458976293878100                          1.0   \n",
       "167252    824839726118485274                          1.0   \n",
       "168519   3884810646891698298                          1.0   \n",
       "665270   7282998257608986241                          1.0   \n",
       "998590   3608475193341679870                          1.0   \n",
       "1164032  7477638593794484792                          1.0   \n",
       "\n",
       "         max_totals_hits_per_session  avg_totals_hits_per_session  \\\n",
       "166882                         483.0                    20.982500   \n",
       "167252                         114.0                    13.803828   \n",
       "168519                           2.0                     1.044776   \n",
       "665270                         155.0                     5.307937   \n",
       "998590                          57.0                     1.835821   \n",
       "1164032                         34.0                     1.793578   \n",
       "\n",
       "         median_totals_hits_per_session  row_count  \n",
       "166882                              6.0        400  \n",
       "167252                              4.0        209  \n",
       "168519                              1.0        268  \n",
       "665270                              2.0        315  \n",
       "998590                              1.0        201  \n",
       "1164032                             1.0        218  "
      ]
     },
     "execution_count": 96,
     "metadata": {},
     "output_type": "execute_result"
    }
   ],
   "source": [
    "totals_hits_per_user_aggregates_df[totals_hits_per_user_aggregates_df.row_count>200]"
   ]
  },
  {
   "cell_type": "markdown",
   "id": "81e9a5f4-d8c0-4a67-bff1-b694d79200e2",
   "metadata": {},
   "source": [
    "- Clearly, there are some people who have a large distribution of hits per session."
   ]
  },
  {
   "cell_type": "code",
   "execution_count": 99,
   "id": "22c4358e-3101-4673-a16a-1e06dc30e2c4",
   "metadata": {},
   "outputs": [],
   "source": [
    "res = con.execute(\"select CAST (totals_hits AS DOUBLE) AS totals_hits from intermediate_train_data where full_visitor_id = '824839726118485274'\").df()"
   ]
  },
  {
   "cell_type": "code",
   "execution_count": 100,
   "id": "202a0526-9e98-48ac-a20a-de869c85a755",
   "metadata": {},
   "outputs": [
    {
     "data": {
      "text/plain": [
       "[Text(0.5, 1.0, 'Example distribution of totals_hits for full_visitor_id = 824839726118485274')]"
      ]
     },
     "execution_count": 100,
     "metadata": {},
     "output_type": "execute_result"
    },
    {
     "data": {
      "image/png": "[encoded data removed]",
      "text/plain": [
       "<Figure size 640x480 with 1 Axes>"
      ]
     },
     "metadata": {},
     "output_type": "display_data"
    }
   ],
   "source": [
    "sns.histplot(data=res, x='totals_hits').set(title='Example distribution of totals_hits for full_visitor_id = 824839726118485274')"
   ]
  },
  {
   "cell_type": "markdown",
   "id": "c0a5ed04-d26a-4a34-b87a-597033f1515d",
   "metadata": {},
   "source": [
    "### 25.4 totals_time_on_site"
   ]
  },
  {
   "cell_type": "code",
   "execution_count": 101,
   "id": "588c7df9-dc0d-474d-8088-4e5c4c6d5811",
   "metadata": {},
   "outputs": [],
   "source": [
    "totals_time_on_site_per_user_aggregates_df = get_aggregates_for_numerical_variable_using_groupby_column(con, 'intermediate_train_data', 'totals_time_on_site', ['full_visitor_id'])"
   ]
  },
  {
   "cell_type": "markdown",
   "id": "f756c21f-e229-4298-9e54-b8fe39d31a88",
   "metadata": {},
   "source": [
    "- This column is not recorded for majority of rows. Hence drop it"
   ]
  },
  {
   "cell_type": "markdown",
   "id": "14d59d9e-9ed1-4b85-bb67-5efce8cbc4fb",
   "metadata": {},
   "source": [
    "### 25.4 totals_new_visits"
   ]
  },
  {
   "cell_type": "code",
   "execution_count": 104,
   "id": "b59064d7-017b-432a-a875-983357ae5fad",
   "metadata": {},
   "outputs": [],
   "source": [
    "totals_new_visits_per_user_aggregates_df = get_aggregates_for_numerical_variable_using_groupby_column(con, 'intermediate_train_data', 'totals_new_visits', ['full_visitor_id'])"
   ]
  },
  {
   "cell_type": "markdown",
   "id": "a15fe975-6307-413b-9e20-a79624401a5b",
   "metadata": {},
   "source": [
    "- Drop totals_new_visits column"
   ]
  },
  {
   "cell_type": "markdown",
   "id": "ee8252c8-71d7-4350-b64d-97208cb0b068",
   "metadata": {},
   "source": [
    "### 25.5 totals_session_quality_dim -> Drop column"
   ]
  },
  {
   "cell_type": "markdown",
   "id": "5127ca7b-56c2-4eca-95b7-3fc262c479c7",
   "metadata": {},
   "source": [
    "### 25.6 totals_transactions"
   ]
  },
  {
   "cell_type": "code",
   "execution_count": 106,
   "id": "e85988a0-9a67-4ec5-a54f-6973dd9c5bcd",
   "metadata": {},
   "outputs": [],
   "source": [
    "totals_transactions_per_user_aggregates_df = get_aggregates_for_numerical_variable_using_groupby_column(con, 'intermediate_train_data', 'totals_transactions', ['full_visitor_id'])"
   ]
  },
  {
   "cell_type": "code",
   "execution_count": 108,
   "id": "a2e93869-3c10-4f66-ac10-0aeecccc09cd",
   "metadata": {},
   "outputs": [
    {
     "data": {
      "text/html": [
       "<div>\n",
       "<style scoped>\n",
       "    .dataframe tbody tr th:only-of-type {\n",
       "        vertical-align: middle;\n",
       "    }\n",
       "\n",
       "    .dataframe tbody tr th {\n",
       "        vertical-align: top;\n",
       "    }\n",
       "\n",
       "    .dataframe thead th {\n",
       "        text-align: right;\n",
       "    }\n",
       "</style>\n",
       "<table border=\"1\" class=\"dataframe\">\n",
       "  <thead>\n",
       "    <tr style=\"text-align: right;\">\n",
       "      <th></th>\n",
       "      <th>full_visitor_id</th>\n",
       "      <th>min_totals_transactions_per_session</th>\n",
       "      <th>max_totals_transactions_per_session</th>\n",
       "      <th>avg_totals_transactions_per_session</th>\n",
       "      <th>median_totals_transactions_per_session</th>\n",
       "      <th>row_count</th>\n",
       "    </tr>\n",
       "  </thead>\n",
       "  <tbody>\n",
       "    <tr>\n",
       "      <th>41</th>\n",
       "      <td>4077897320198403283</td>\n",
       "      <td>1.0</td>\n",
       "      <td>1.0</td>\n",
       "      <td>1.0</td>\n",
       "      <td>1.0</td>\n",
       "      <td>11</td>\n",
       "    </tr>\n",
       "    <tr>\n",
       "      <th>150</th>\n",
       "      <td>9029794295932939024</td>\n",
       "      <td>1.0</td>\n",
       "      <td>1.0</td>\n",
       "      <td>1.0</td>\n",
       "      <td>1.0</td>\n",
       "      <td>22</td>\n",
       "    </tr>\n",
       "    <tr>\n",
       "      <th>183</th>\n",
       "      <td>9099065750965948583</td>\n",
       "      <td>1.0</td>\n",
       "      <td>1.0</td>\n",
       "      <td>1.0</td>\n",
       "      <td>1.0</td>\n",
       "      <td>7</td>\n",
       "    </tr>\n",
       "    <tr>\n",
       "      <th>190</th>\n",
       "      <td>3159313764830847532</td>\n",
       "      <td>1.0</td>\n",
       "      <td>1.0</td>\n",
       "      <td>1.0</td>\n",
       "      <td>1.0</td>\n",
       "      <td>5</td>\n",
       "    </tr>\n",
       "    <tr>\n",
       "      <th>206</th>\n",
       "      <td>4705524295193430046</td>\n",
       "      <td>1.0</td>\n",
       "      <td>1.0</td>\n",
       "      <td>1.0</td>\n",
       "      <td>1.0</td>\n",
       "      <td>6</td>\n",
       "    </tr>\n",
       "    <tr>\n",
       "      <th>...</th>\n",
       "      <td>...</td>\n",
       "      <td>...</td>\n",
       "      <td>...</td>\n",
       "      <td>...</td>\n",
       "      <td>...</td>\n",
       "      <td>...</td>\n",
       "    </tr>\n",
       "    <tr>\n",
       "      <th>1328199</th>\n",
       "      <td>3293319129534135690</td>\n",
       "      <td>1.0</td>\n",
       "      <td>1.0</td>\n",
       "      <td>1.0</td>\n",
       "      <td>1.0</td>\n",
       "      <td>1</td>\n",
       "    </tr>\n",
       "    <tr>\n",
       "      <th>1328356</th>\n",
       "      <td>2691088667454863732</td>\n",
       "      <td>1.0</td>\n",
       "      <td>1.0</td>\n",
       "      <td>1.0</td>\n",
       "      <td>1.0</td>\n",
       "      <td>1</td>\n",
       "    </tr>\n",
       "    <tr>\n",
       "      <th>1328560</th>\n",
       "      <td>1591654165399055425</td>\n",
       "      <td>1.0</td>\n",
       "      <td>1.0</td>\n",
       "      <td>1.0</td>\n",
       "      <td>1.0</td>\n",
       "      <td>1</td>\n",
       "    </tr>\n",
       "    <tr>\n",
       "      <th>1328648</th>\n",
       "      <td>37806222406366969</td>\n",
       "      <td>1.0</td>\n",
       "      <td>1.0</td>\n",
       "      <td>1.0</td>\n",
       "      <td>1.0</td>\n",
       "      <td>1</td>\n",
       "    </tr>\n",
       "    <tr>\n",
       "      <th>1328784</th>\n",
       "      <td>1236503767383006515</td>\n",
       "      <td>1.0</td>\n",
       "      <td>1.0</td>\n",
       "      <td>1.0</td>\n",
       "      <td>1.0</td>\n",
       "      <td>1</td>\n",
       "    </tr>\n",
       "  </tbody>\n",
       "</table>\n",
       "<p>16232 rows × 6 columns</p>\n",
       "</div>"
      ],
      "text/plain": [
       "             full_visitor_id  min_totals_transactions_per_session  \\\n",
       "41       4077897320198403283                                  1.0   \n",
       "150      9029794295932939024                                  1.0   \n",
       "183      9099065750965948583                                  1.0   \n",
       "190      3159313764830847532                                  1.0   \n",
       "206      4705524295193430046                                  1.0   \n",
       "...                      ...                                  ...   \n",
       "1328199  3293319129534135690                                  1.0   \n",
       "1328356  2691088667454863732                                  1.0   \n",
       "1328560  1591654165399055425                                  1.0   \n",
       "1328648    37806222406366969                                  1.0   \n",
       "1328784  1236503767383006515                                  1.0   \n",
       "\n",
       "         max_totals_transactions_per_session  \\\n",
       "41                                       1.0   \n",
       "150                                      1.0   \n",
       "183                                      1.0   \n",
       "190                                      1.0   \n",
       "206                                      1.0   \n",
       "...                                      ...   \n",
       "1328199                                  1.0   \n",
       "1328356                                  1.0   \n",
       "1328560                                  1.0   \n",
       "1328648                                  1.0   \n",
       "1328784                                  1.0   \n",
       "\n",
       "         avg_totals_transactions_per_session  \\\n",
       "41                                       1.0   \n",
       "150                                      1.0   \n",
       "183                                      1.0   \n",
       "190                                      1.0   \n",
       "206                                      1.0   \n",
       "...                                      ...   \n",
       "1328199                                  1.0   \n",
       "1328356                                  1.0   \n",
       "1328560                                  1.0   \n",
       "1328648                                  1.0   \n",
       "1328784                                  1.0   \n",
       "\n",
       "         median_totals_transactions_per_session  row_count  \n",
       "41                                          1.0         11  \n",
       "150                                         1.0         22  \n",
       "183                                         1.0          7  \n",
       "190                                         1.0          5  \n",
       "206                                         1.0          6  \n",
       "...                                         ...        ...  \n",
       "1328199                                     1.0          1  \n",
       "1328356                                     1.0          1  \n",
       "1328560                                     1.0          1  \n",
       "1328648                                     1.0          1  \n",
       "1328784                                     1.0          1  \n",
       "\n",
       "[16232 rows x 6 columns]"
      ]
     },
     "execution_count": 108,
     "metadata": {},
     "output_type": "execute_result"
    }
   ],
   "source": [
    "totals_transactions_per_user_aggregates_df[~totals_transactions_per_user_aggregates_df['min_totals_transactions_per_session'].isnull()]"
   ]
  },
  {
   "cell_type": "code",
   "execution_count": 109,
   "id": "4ddb5d8a-3d82-4dbd-a246-7637aceb02c6",
   "metadata": {},
   "outputs": [
    {
     "data": {
      "text/html": [
       "<div>\n",
       "<style scoped>\n",
       "    .dataframe tbody tr th:only-of-type {\n",
       "        vertical-align: middle;\n",
       "    }\n",
       "\n",
       "    .dataframe tbody tr th {\n",
       "        vertical-align: top;\n",
       "    }\n",
       "\n",
       "    .dataframe thead th {\n",
       "        text-align: right;\n",
       "    }\n",
       "</style>\n",
       "<table border=\"1\" class=\"dataframe\">\n",
       "  <thead>\n",
       "    <tr style=\"text-align: right;\">\n",
       "      <th></th>\n",
       "      <th>totals_transactions</th>\n",
       "    </tr>\n",
       "  </thead>\n",
       "  <tbody>\n",
       "    <tr>\n",
       "      <th>0</th>\n",
       "      <td>NaN</td>\n",
       "    </tr>\n",
       "    <tr>\n",
       "      <th>1</th>\n",
       "      <td>1.0</td>\n",
       "    </tr>\n",
       "    <tr>\n",
       "      <th>2</th>\n",
       "      <td>NaN</td>\n",
       "    </tr>\n",
       "    <tr>\n",
       "      <th>3</th>\n",
       "      <td>NaN</td>\n",
       "    </tr>\n",
       "    <tr>\n",
       "      <th>4</th>\n",
       "      <td>NaN</td>\n",
       "    </tr>\n",
       "    <tr>\n",
       "      <th>5</th>\n",
       "      <td>NaN</td>\n",
       "    </tr>\n",
       "    <tr>\n",
       "      <th>6</th>\n",
       "      <td>1.0</td>\n",
       "    </tr>\n",
       "    <tr>\n",
       "      <th>7</th>\n",
       "      <td>NaN</td>\n",
       "    </tr>\n",
       "    <tr>\n",
       "      <th>8</th>\n",
       "      <td>NaN</td>\n",
       "    </tr>\n",
       "    <tr>\n",
       "      <th>9</th>\n",
       "      <td>NaN</td>\n",
       "    </tr>\n",
       "    <tr>\n",
       "      <th>10</th>\n",
       "      <td>NaN</td>\n",
       "    </tr>\n",
       "  </tbody>\n",
       "</table>\n",
       "</div>"
      ],
      "text/plain": [
       "    totals_transactions\n",
       "0                   NaN\n",
       "1                   1.0\n",
       "2                   NaN\n",
       "3                   NaN\n",
       "4                   NaN\n",
       "5                   NaN\n",
       "6                   1.0\n",
       "7                   NaN\n",
       "8                   NaN\n",
       "9                   NaN\n",
       "10                  NaN"
      ]
     },
     "execution_count": 109,
     "metadata": {},
     "output_type": "execute_result"
    }
   ],
   "source": [
    "con.execute(\"select CAST (totals_transactions AS DOUBLE) AS totals_transactions from intermediate_train_data where full_visitor_id = '4077897320198403283'\").df()"
   ]
  },
  {
   "cell_type": "code",
   "execution_count": 110,
   "id": "8927aacf-d1e8-4c45-81df-f21aeb37fc8e",
   "metadata": {},
   "outputs": [
    {
     "data": {
      "text/plain": [
       "┌──────────────────┬──────────┬─────────────────────┬───┬──────────────────────┬──────────────────────┐\n",
       "│ channel_grouping │   date   │   full_visitor_id   │ … │ traffic_source_adw…  │ unique_row_identif…  │\n",
       "│     varchar      │  int64   │       varchar       │   │       boolean        │       varchar        │\n",
       "├──────────────────┼──────────┼─────────────────────┼───┼──────────────────────┼──────────────────────┤\n",
       "│ Direct           │ 20171212 │ 9473011094863798149 │ … │ NULL                 │ 947301109486379814…  │\n",
       "│ Direct           │ 20171212 │ 1189911532486213486 │ … │ NULL                 │ 118991153248621348…  │\n",
       "│ Direct           │ 20171212 │ 4657072248972713626 │ … │ NULL                 │ 465707224897271362…  │\n",
       "│ Direct           │ 20171212 │ 3193781930413771251 │ … │ NULL                 │ 319378193041377125…  │\n",
       "│ Direct           │ 20171212 │ 5257419468789915882 │ … │ NULL                 │ 525741946878991588…  │\n",
       "│ Direct           │ 20171212 │ 9106048618306110722 │ … │ NULL                 │ 910604861830611072…  │\n",
       "│ Direct           │ 20171212 │ 675909343032934454  │ … │ NULL                 │ 675909343032934454…  │\n",
       "│ Direct           │ 20171212 │ 903250440483465458  │ … │ NULL                 │ 903250440483465458…  │\n",
       "│ Direct           │ 20171212 │ 964371057114856305  │ … │ NULL                 │ 964371057114856305…  │\n",
       "│ Direct           │ 20171212 │ 1112938924744321066 │ … │ NULL                 │ 111293892474432106…  │\n",
       "│   ·              │     ·    │          ·          │ · │  ·                   │          ·           │\n",
       "│   ·              │     ·    │          ·          │ · │  ·                   │          ·           │\n",
       "│   ·              │     ·    │          ·          │ · │  ·                   │          ·           │\n",
       "│ Social           │ 20170320 │ 8339218846393642403 │ … │ NULL                 │ 833921884639364240…  │\n",
       "│ Social           │ 20170320 │ 4693978668573763446 │ … │ NULL                 │ 469397866857376344…  │\n",
       "│ Organic Search   │ 20170320 │ 5065040769025297281 │ … │ NULL                 │ 506504076902529728…  │\n",
       "│ Social           │ 20170320 │ 6351464228024937661 │ … │ NULL                 │ 635146422802493766…  │\n",
       "│ Organic Search   │ 20170320 │ 665246942818197629  │ … │ NULL                 │ 665246942818197629…  │\n",
       "│ Direct           │ 20170320 │ 2205143690250220289 │ … │ NULL                 │ 220514369025022028…  │\n",
       "│ Referral         │ 20170320 │ 5312771253518028684 │ … │ NULL                 │ 531277125351802868…  │\n",
       "│ Direct           │ 20170320 │ 6110813176744807456 │ … │ NULL                 │ 611081317674480745…  │\n",
       "│ Organic Search   │ 20170320 │ 9570151934987214320 │ … │ NULL                 │ 957015193498721432…  │\n",
       "│ Direct           │ 20170320 │ 8268430066607765987 │ … │ NULL                 │ 826843006660776598…  │\n",
       "├──────────────────┴──────────┴─────────────────────┴───┴──────────────────────┴──────────────────────┤\n",
       "│ ? rows (>9999 rows, 20 shown)                                                  58 columns (5 shown) │\n",
       "└─────────────────────────────────────────────────────────────────────────────────────────────────────┘"
      ]
     },
     "execution_count": 110,
     "metadata": {},
     "output_type": "execute_result"
    }
   ],
   "source": [
    "intermediate_data_table"
   ]
  },
  {
   "cell_type": "code",
   "execution_count": null,
   "id": "a29873aa-a4a9-449e-abf1-ab9a312a0f58",
   "metadata": {},
   "outputs": [],
   "source": []
  },
  {
   "cell_type": "code",
   "execution_count": 20,
   "id": "905ee633-b4f8-4b7f-935a-03a37d496d71",
   "metadata": {},
   "outputs": [
    {
     "data": {
      "text/plain": [
       "['channel_grouping',\n",
       " 'date',\n",
       " 'full_visitor_id',\n",
       " 'social_engagement_type',\n",
       " 'visit_id',\n",
       " 'visit_number',\n",
       " 'visit_start_time',\n",
       " 'geo_network_continent',\n",
       " 'geo_network_sub_continent',\n",
       " 'geo_network_country',\n",
       " 'geo_network_region',\n",
       " 'geo_network_metro',\n",
       " 'geo_network_city',\n",
       " 'geo_network_city_id',\n",
       " 'geo_network_network_domain',\n",
       " 'geo_network_latitude',\n",
       " 'geo_network_longitude',\n",
       " 'geo_network_network_location',\n",
       " 'device_browser',\n",
       " 'device_browser_version',\n",
       " 'device_browser_size',\n",
       " 'device_operating_system',\n",
       " 'device_operating_system_version',\n",
       " 'device_is_mobile',\n",
       " 'device_mobile_device_branding',\n",
       " 'device_mobile_device_model',\n",
       " 'device_mobile_input_selector',\n",
       " 'device_mobile_device_info',\n",
       " 'device_mobile_device_marketing_name',\n",
       " 'device_flash_version',\n",
       " 'device_language',\n",
       " 'device_screen_colors',\n",
       " 'device_screen_resolution',\n",
       " 'device_device_category',\n",
       " 'totals_visits',\n",
       " 'totals_hits',\n",
       " 'totals_pageviews',\n",
       " 'totals_time_on_site',\n",
       " 'totals_new_visits',\n",
       " 'totals_session_quality_dim',\n",
       " 'totals_transactions',\n",
       " 'totals_transaction_revenue',\n",
       " 'totals_total_transaction_revenue',\n",
       " 'totals_bounces',\n",
       " 'traffic_source_campaign',\n",
       " 'traffic_source_source',\n",
       " 'traffic_source_medium',\n",
       " 'traffic_source_is_true_direct',\n",
       " 'traffic_source_adwords_click_info_criteria_parameters',\n",
       " 'traffic_source_referral_path',\n",
       " 'traffic_source_keyword',\n",
       " 'traffic_source_ad_content',\n",
       " 'traffic_source_adwords_click_info_page',\n",
       " 'traffic_source_adwords_click_info_slot',\n",
       " 'traffic_source_adwords_click_info_gcl_id',\n",
       " 'traffic_source_adwords_click_info_ad_network_type',\n",
       " 'traffic_source_adwords_click_info_is_video_ad',\n",
       " 'unique_row_identifier']"
      ]
     },
     "execution_count": 20,
     "metadata": {},
     "output_type": "execute_result"
    }
   ],
   "source": [
    "intermediate_data_table.columns"
   ]
  },
  {
   "cell_type": "markdown",
   "id": "d3c115df-6d52-4aa7-8d6e-7be740cc9d30",
   "metadata": {},
   "source": [
    "## TODO:\n",
    "1. Delete social_engagement_type, geo_network_region, geo_network_metro, geo_network_city, geo_network_city_id, geo_network_network_domain, geo_network_latitude, geo_network_longitude, geo_network_network_location, device_browser_version, device_browser_size, device_operating_system_version, device_mobile_device_branding, device_mobile_device_model, device_mobile_input_selector, device_mobile_device_info, device_mobile_device_marketing_name, device_flash_version, device_language, device_screen_colors, device_screen_resolution, totals_time_on_site, totals_new_visits, totals_session_quality_dim\n",
    "2. Convert visit_start_time to date. Also try to map it to local time where the person was located wrt UTC\n",
    "3. Column: geo_network_continent, geo_network_sub_continent, geo_network_country, geo_network_region, geo_network_network_domain, device_operating_system => Replace (not set) with 'unknown'\n",
    "4. Set datatype to numeric: totals_visits"
   ]
  },
  {
   "cell_type": "markdown",
   "id": "76c9efce-8391-4eac-8249-32de232cf859",
   "metadata": {},
   "source": [
    "## Ideas:\n",
    "1. Can get income level for visitor from geo_network_city.??\n",
    "2. FEATURE: Number of transactions/session"
   ]
  },
  {
   "cell_type": "code",
   "execution_count": null,
   "id": "81c6e587-951b-4f4a-95c3-1493942d2c66",
   "metadata": {},
   "outputs": [],
   "source": []
  }
 ],
 "metadata": {
  "kernelspec": {
   "display_name": "personal_env",
   "language": "python",
   "name": "personal_env"
  },
  "language_info": {
   "codemirror_mode": {
    "name": "ipython",
    "version": 3
   },
   "file_extension": ".py",
   "mimetype": "text/x-python",
   "name": "python",
   "nbconvert_exporter": "python",
   "pygments_lexer": "ipython3",
   "version": "3.9.17"
  }
 },
 "nbformat": 4,
 "nbformat_minor": 5
}
