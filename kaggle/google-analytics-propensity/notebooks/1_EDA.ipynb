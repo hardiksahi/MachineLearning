{
 "cells": [
  {
   "cell_type": "code",
   "execution_count": null,
   "id": "bc9060ab-6d8b-4de7-a620-9d238aaf494a",
   "metadata": {},
   "outputs": [],
   "source": [
    "%load_ext autoreload\n",
    "%autoreload 2"
   ]
  },
  {
   "cell_type": "code",
   "execution_count": null,
   "id": "5639c363-bed4-466e-9037-169f68a624a5",
   "metadata": {},
   "outputs": [],
   "source": [
    "from IPython.display import display, HTML\n",
    "display(HTML(\"<style>.container { width:100% !important; }</style>\"))"
   ]
  },
  {
   "cell_type": "code",
   "execution_count": null,
   "id": "4e161fea-4ade-44cb-88b0-dda6ec03a14e",
   "metadata": {},
   "outputs": [],
   "source": [
    "import sys\n",
    "import os\n",
    "os.chdir(os.path.abspath(\"../src\"))"
   ]
  },
  {
   "cell_type": "code",
   "execution_count": null,
   "id": "c00e1ade-c9ba-4d4c-88c4-b089bb4afa85",
   "metadata": {},
   "outputs": [],
   "source": [
    "import duckdb as ddb, ibis"
   ]
  },
  {
   "cell_type": "code",
   "execution_count": null,
   "id": "ff124ac0-bc13-44e9-a7b0-c70822eb3445",
   "metadata": {},
   "outputs": [],
   "source": [
    "import seaborn as sns\n",
    "import matplotlib.pyplot as plt"
   ]
  },
  {
   "cell_type": "code",
   "execution_count": null,
   "id": "4a950e17-4693-427d-88e5-77e1e358faa5",
   "metadata": {},
   "outputs": [],
   "source": [
    "import numpy as np\n",
    "import pandas as pd\n",
    "import math"
   ]
  },
  {
   "cell_type": "markdown",
   "id": "1a970290-0239-4e09-b881-ea78c6819173",
   "metadata": {},
   "source": [
    "## Constants"
   ]
  },
  {
   "cell_type": "code",
   "execution_count": null,
   "id": "fb4a1b98-7d63-4df9-b360-8cce4dd47b9e",
   "metadata": {},
   "outputs": [],
   "source": [
    "database_folder_path = '../data/duckdb'\n",
    "ddb_file_name = 'intermediate_files.db'"
   ]
  },
  {
   "cell_type": "markdown",
   "id": "a48e020c-a472-4fbc-b2d1-5b96ec051b62",
   "metadata": {},
   "source": [
    "## Functions"
   ]
  },
  {
   "cell_type": "code",
   "execution_count": null,
   "id": "c1b2e293-e2db-4f4b-a09e-1ff99620e270",
   "metadata": {},
   "outputs": [],
   "source": [
    "def show_values_on_bars(axs, h_v=\"v\", space=0.8, use_percent=False, text_rotation=0):\n",
    "    def _show_on_single_plot(ax):\n",
    "        if h_v == \"v\":\n",
    "            for p in ax.patches:\n",
    "                _width = 0 if math.isnan(p.get_width()) else p.get_width()\n",
    "                _height = 0 if math.isnan(p.get_height()) else p.get_height()\n",
    "                _x = p.get_x() + _width / 2\n",
    "                _y = p.get_y() + _height + float(space)\n",
    "                value = (\n",
    "                    f\"{round(_height, 2)}\"\n",
    "                    if not use_percent\n",
    "                    else f\"{round(_height, 2)}%\"\n",
    "                )\n",
    "                ax.text(\n",
    "                    _x,\n",
    "                    _y,\n",
    "                    value,\n",
    "                    ha=\"center\",\n",
    "                    rotation=text_rotation,\n",
    "                    fontweight=\"bold\",\n",
    "                )\n",
    "        elif h_v == \"h\":\n",
    "            for p in ax.patches:\n",
    "                _width = 0 if math.isnan(p.get_width()) else p.get_width()\n",
    "                _height = 0 if math.isnan(p.get_height()) else p.get_height()\n",
    "                _x = p.get_x() + _width + float(space)\n",
    "                _y = p.get_y() + _height\n",
    "                value = (\n",
    "                    f\"{round(_width, 2)}\" if not use_percent else f\"{round(_width, 2)}%\"\n",
    "                )\n",
    "                ax.text(_x, _y, value, ha=\"left\", fontweight=\"bold\")\n",
    "\n",
    "    if isinstance(axs, np.ndarray):\n",
    "        for idx, ax in np.ndnumerate(axs):\n",
    "            _show_on_single_plot(ax)\n",
    "    else:\n",
    "        _show_on_single_plot(axs)\n",
    "\n",
    "\n",
    "def create_multiple_plots(\n",
    "    df,\n",
    "    x,\n",
    "    y,\n",
    "    hue=None,\n",
    "    col=None,\n",
    "    col_order=None,\n",
    "    row=None,\n",
    "    order=None,\n",
    "    hue_order=None,\n",
    "    hue_color_dict=None,\n",
    "    kind=\"line\",\n",
    "    orientation=\"v\",\n",
    "    text_rotation=0,\n",
    "    marker=\"o\",\n",
    "    title=None,\n",
    "    height=5,\n",
    "    aspect=1,\n",
    "    use_percent=False,\n",
    "    space=0.8,\n",
    "    ref_value_dict=None,\n",
    "    bins=None\n",
    "):\n",
    "    if kind == \"line\":\n",
    "        graph = sns.relplot(\n",
    "            data=df,\n",
    "            x=x,\n",
    "            y=y,\n",
    "            col=col,\n",
    "            row=row,\n",
    "            hue=hue,\n",
    "            kind=kind,\n",
    "            height=height,\n",
    "            aspect=aspect,\n",
    "            marker=marker,\n",
    "            hue_order=hue_order,\n",
    "            palette=hue_color_dict,\n",
    "            col_order = col_order,\n",
    "            facet_kws=dict(sharex=False, sharey=False),\n",
    "        )\n",
    "    elif kind == \"bar\":\n",
    "        graph = sns.catplot(\n",
    "            data=df,\n",
    "            x=x,\n",
    "            y=y,\n",
    "            col=col,\n",
    "            row=row,\n",
    "            hue=hue,\n",
    "            kind=kind,\n",
    "            height=height,\n",
    "            aspect=aspect,\n",
    "            hue_order=hue_order,\n",
    "            palette=hue_color_dict,\n",
    "            sharex=False,\n",
    "            order=order,\n",
    "        )\n",
    "    elif kind == \"point\":\n",
    "        graph = sns.catplot(\n",
    "            data=df,\n",
    "            x=x,\n",
    "            y=y,\n",
    "            col=col,\n",
    "            row=row,\n",
    "            hue=hue,\n",
    "            kind=kind,\n",
    "            height=height,\n",
    "            aspect=aspect,\n",
    "            hue_order=hue_order,\n",
    "            palette=hue_color_dict,\n",
    "            sharex=False,\n",
    "            sharey=False,\n",
    "            order=order,\n",
    "        )\n",
    "    elif (kind == \"box\") or (kind == \"violin\"):\n",
    "        graph = sns.catplot(\n",
    "            data=df,\n",
    "            x=x,\n",
    "            y=y,\n",
    "            col=col,\n",
    "            row=row,\n",
    "            hue=hue,\n",
    "            kind=kind,\n",
    "            height=height,\n",
    "            aspect=aspect,\n",
    "            order=order,\n",
    "            hue_order=hue_order,\n",
    "            palette=hue_color_dict,\n",
    "            sharex=False,\n",
    "            sharey=True,\n",
    "            col_order=col_order\n",
    "        )\n",
    "    elif kind == \"hist\":\n",
    "        graph = sns.displot(\n",
    "            data=df,\n",
    "            x=x,\n",
    "            y=y,\n",
    "            col=col,\n",
    "            row=row,\n",
    "            hue=hue,\n",
    "            hue_order=hue_order,\n",
    "            kind=kind,\n",
    "            height=height,\n",
    "            aspect=aspect,\n",
    "            facet_kws=dict(sharex=False, sharey=False),\n",
    "            palette=hue_color_dict,\n",
    "            stat=\"probability\",\n",
    "            bins=bins,\n",
    "            alpha=0.5,\n",
    "        )\n",
    "    elif kind == \"kde\":\n",
    "        graph = sns.displot(\n",
    "            data=df,\n",
    "            x=x,\n",
    "            y=y,\n",
    "            col=col,\n",
    "            row=row,\n",
    "            hue=hue,\n",
    "            hue_order=hue_order,\n",
    "            kind=kind,\n",
    "            height=height,\n",
    "            aspect=aspect,\n",
    "            facet_kws=dict(sharex=False, sharey=False),\n",
    "            palette=hue_color_dict,\n",
    "        )\n",
    "\n",
    "    if ref_value_dict is not None:\n",
    "        print(ref_value_dict)\n",
    "        if \"x\" in ref_value_dict:\n",
    "            graph.refline(x=ref_value_dict.get(\"x\"), color=\"red\", lw=3)\n",
    "        if \"y\" in ref_value_dict:\n",
    "            graph.refline(y=ref_value_dict.get(\"y\"), color=\"blue\", lw=3)\n",
    "\n",
    "    if title is not None:\n",
    "        graph.fig.subplots_adjust(top=0.8)\n",
    "        graph.fig.suptitle(title, fontsize=20)\n",
    "\n",
    "    for axes in graph.axes.flat:\n",
    "        if kind == \"bar\" and orientation == \"h\":\n",
    "            _ = axes.set_yticklabels(axes.get_yticklabels(), rotation=0)\n",
    "            show_values_on_bars(axes, orientation, space, use_percent=use_percent)\n",
    "        else:\n",
    "            _ = axes.set_xticklabels(axes.get_xticklabels(), rotation=90)\n",
    "            if kind == \"bar\":\n",
    "                show_values_on_bars(\n",
    "                    axes,\n",
    "                    orientation,\n",
    "                    space,\n",
    "                    use_percent=use_percent,\n",
    "                    text_rotation=text_rotation,\n",
    "                )\n",
    "\n",
    "    plt.subplots_adjust(hspace=2.2)\n",
    "    return graph"
   ]
  },
  {
   "cell_type": "code",
   "execution_count": null,
   "id": "89434045-d9c5-4ad5-9c38-924f74675852",
   "metadata": {},
   "outputs": [],
   "source": [
    "def plot_graphs_by_looping(df, row_identifier, column_identifier, x_column_to_plot, y_column_to_plot, row_count, max_column_count):\n",
    "    fig, axs = plt.subplots(row_count,max_column_count, figsize=[5*max_column_count,5*row_count]) ##, figsize=[20,20]\n",
    "    fig.subplots_adjust(wspace=1.0, hspace=0.5)\n",
    "    \n",
    "    for i, continent_name in enumerate(df[row_identifier].unique()):\n",
    "        continent_count_df = df[df[row_identifier] == continent_name]\n",
    "        for j, sub_continent_name in enumerate(continent_count_df[column_identifier].unique()):\n",
    "            sub_continent_count_df = continent_count_df[continent_count_df[column_identifier] == sub_continent_name]\n",
    "            sns.barplot(data=sub_continent_count_df, x=x_column_to_plot, y=y_column_to_plot, ax=axs[i][j])\n",
    "            axs[i][j].title.set_text(f\"{sub_continent_name}\")\n",
    "    plt.close()\n",
    "    return fig"
   ]
  },
  {
   "cell_type": "code",
   "execution_count": null,
   "id": "3f61fc6b-56b8-44dc-abc6-a1ed23fdd6de",
   "metadata": {},
   "outputs": [],
   "source": [
    "def get_row_column_count_in_ddb_table(con, table_name):\n",
    "    row_count_df = con.execute(f\"select count(*) as row_count from {table_name};\").df()\n",
    "    row_count = row_count_df['row_count'].loc[0]\n",
    "\n",
    "    column_count_df = con.execute(f\"select count(*) as column_count from information_schema.columns where table_name = '{table_name}';\").df()\n",
    "    column_count = column_count_df['column_count'].loc[0]\n",
    "    return (row_count, column_count)"
   ]
  },
  {
   "cell_type": "code",
   "execution_count": null,
   "id": "38bbfad7-7612-45bd-9ef3-af065d6f0da1",
   "metadata": {},
   "outputs": [],
   "source": [
    "def get_counts_for_column_entries_ddb_table(con, table_name, count_column_name, group_by_column_list, is_distinct_count=False):\n",
    "    if isinstance(group_by_column_list, list):\n",
    "        group_by_column_name = ','.join(group_by_column_list)\n",
    "\n",
    "    if not is_distinct_count:\n",
    "        ## #con.execute(f\"select geo_network_continent, geo_network_sub_continent, count(*) from intermediate_train_data group by geo_network_continent, geo_network_sub_continent\").df()\n",
    "        count_df = con.execute(f\"select {group_by_column_name}, count(*) AS row_count_{count_column_name} FROM {table_name} GROUP BY {group_by_column_name} ORDER BY row_count_{count_column_name} DESC;\").df()\n",
    "        return count_df\n",
    "    else:\n",
    "        ##select full_visitor_id, COUNT(DISTINCT(channel_grouping)) AS unique_channel_grouping from intermediate_train_data GROUP BY full_visitor_id\n",
    "        unique_count_df = con.execute(f\"select {group_by_column_name}, COUNT(DISTINCT({count_column_name})) AS unique_count_{count_column_name} FROM {table_name} GROUP BY {group_by_column_name} ORDER BY unique_count_{count_column_name} DESC;\").df()\n",
    "        return unique_count_df"
   ]
  },
  {
   "cell_type": "code",
   "execution_count": null,
   "id": "d3af8789-04ff-4cd3-b382-0b138ffdfb68",
   "metadata": {},
   "outputs": [],
   "source": [
    "def get_separator_separated_values_for_column(con, table_name, count_column_name, group_by_column_name, is_distinct_count=False, separator=','):\n",
    "    if is_distinct_count:\n",
    "        res_df = con.execute(f\"select {group_by_column_name}, array_to_string(list_sort(string_split(STRING_AGG(DISTINCT({count_column_name}), '{separator}'), '{separator}')), '{separator}') AS concatenated_unique_{count_column_name} from {table_name} group by {group_by_column_name}\").df()\n",
    "        return res_df"
   ]
  },
  {
   "cell_type": "code",
   "execution_count": null,
   "id": "a4303478-1758-4919-ae5f-9753753f37e5",
   "metadata": {},
   "outputs": [],
   "source": [
    "def get_aggregates_for_numerical_variable_using_groupby_column(con, table_name, numeric_column_name, group_by_column_list, is_per_session=True):\n",
    "    if isinstance(group_by_column_list, list):\n",
    "        group_by_column_name = ','.join(group_by_column_list)\n",
    "    if is_per_session:\n",
    "        return con.execute(f\"select {group_by_column_name}, min(CAST({numeric_column_name} AS DOUBLE)) AS min_{numeric_column_name}_per_session, max(CAST({numeric_column_name} AS DOUBLE)) AS max_{numeric_column_name}_per_session, SUM(CAST({numeric_column_name} AS DOUBLE)) AS sum_{numeric_column_name}, AVG(COALESCE(CAST({numeric_column_name} AS DOUBLE), 0)) AS avg_{numeric_column_name}_per_session, median(CAST({numeric_column_name} AS DOUBLE)) AS median_{numeric_column_name}_per_session, COUNT(visit_number) AS session_count from {table_name} group by {group_by_column_name};\").df()"
   ]
  },
  {
   "cell_type": "markdown",
   "id": "59b8da4f-aef5-415a-903c-7aaa027c0d27",
   "metadata": {},
   "source": [
    "## Create a connection to duckdb file and register intermediate data that is the result of handle_raw_data pipeline"
   ]
  },
  {
   "cell_type": "code",
   "execution_count": null,
   "id": "4708ec41-c3d9-4007-aa15-7caf8135aa03",
   "metadata": {},
   "outputs": [],
   "source": [
    "#con = ibis.duckdb.connect(database=os.path.join(database_folder_path, ddb_file_name), read_only=True)\n",
    "con = ddb.connect(database=os.path.join(database_folder_path, ddb_file_name), read_only=True)"
   ]
  },
  {
   "cell_type": "code",
   "execution_count": null,
   "id": "a3dac3f9-ad45-4061-9eae-bd4a8112dabc",
   "metadata": {},
   "outputs": [],
   "source": [
    "intermediate_data_table = con.table('intermediate_train_data')"
   ]
  },
  {
   "cell_type": "code",
   "execution_count": null,
   "id": "2913258e-58b8-4ffb-878d-10c0ac863c36",
   "metadata": {},
   "outputs": [],
   "source": [
    "#intermediate_data_table = con.table('intermediate_train_data')\n",
    "print(f\"Shape of table: {get_row_column_count_in_ddb_table(con, 'intermediate_train_data')}\")\n",
    "#print(f'Shape of intermediate_data_table: {(intermediate_data_table.count().execute(), len(intermediate_data_table.schema()))}')"
   ]
  },
  {
   "cell_type": "markdown",
   "id": "f6c3072f-6f72-4e3e-832a-5564f0da3baf",
   "metadata": {},
   "source": [
    "## One row in the dataset refers to one visit to the Google Store. "
   ]
  },
  {
   "cell_type": "markdown",
   "id": "29506931-0bed-43df-88e2-7c7631195c89",
   "metadata": {},
   "source": [
    "## Analyze different columns"
   ]
  },
  {
   "cell_type": "markdown",
   "id": "4b65269e-f2cb-49c6-aa6b-0ce540a059da",
   "metadata": {},
   "source": [
    "### 1. Analyse channel_grouping column"
   ]
  },
  {
   "cell_type": "markdown",
   "id": "cb9d4bb1-77fa-4965-8759-0b6110483fb4",
   "metadata": {},
   "source": [
    "### 1.1 How many rows have a given channel_grouping value associated with them?"
   ]
  },
  {
   "cell_type": "code",
   "execution_count": null,
   "id": "e6e9d45c-b075-4df3-8913-294ee3e6731e",
   "metadata": {},
   "outputs": [],
   "source": [
    "channel_df = get_counts_for_column_entries_ddb_table(con, table_name='intermediate_train_data', count_column_name='channel_grouping', group_by_column_list=['channel_grouping'])"
   ]
  },
  {
   "cell_type": "code",
   "execution_count": null,
   "id": "4319cb9e-8eef-4c7b-a203-82998f5a526b",
   "metadata": {},
   "outputs": [],
   "source": [
    "# channel_df = intermediate_data_table['channel_grouping'].value_counts().execute()\n",
    "# channel_df = channel_df.sort_values(by=['channel_grouping_count'], ascending=False)"
   ]
  },
  {
   "cell_type": "code",
   "execution_count": null,
   "id": "4724ef47-2c69-4dd3-ac41-9cf7aeb15d97",
   "metadata": {},
   "outputs": [],
   "source": [
    "create_multiple_plots(df=channel_df, x='channel_grouping', y='row_count_channel_grouping', kind='bar', orientation='v')"
   ]
  },
  {
   "cell_type": "markdown",
   "id": "9a6ce159-afad-4234-b555-0a77a6e24021",
   "metadata": {},
   "source": [
    "- Most common channel_grouping is Organic Search. It will be nice to see how it changes fir a person."
   ]
  },
  {
   "cell_type": "markdown",
   "id": "3d64d93a-faa6-47ac-84b6-3d44c3d0f6a0",
   "metadata": {},
   "source": [
    "### 1.2 How many unique channel_grouping values are associated with a user identified by full_visitor_id"
   ]
  },
  {
   "cell_type": "code",
   "execution_count": null,
   "id": "ed8f046f-10e9-4218-889b-660d270c1d83",
   "metadata": {},
   "outputs": [],
   "source": [
    "unique_channel_grouping_per_user_df = get_counts_for_column_entries_ddb_table(con, table_name='intermediate_train_data', count_column_name='channel_grouping', group_by_column_list=['full_visitor_id'], is_distinct_count=True)"
   ]
  },
  {
   "cell_type": "code",
   "execution_count": null,
   "id": "b7e5b8b9-e0f8-4c51-bc5a-01c0f8c0566d",
   "metadata": {},
   "outputs": [],
   "source": [
    "unique_channel_grouping_per_user_df['unique_count_channel_grouping'].value_counts()"
   ]
  },
  {
   "cell_type": "markdown",
   "id": "78239eae-a695-464b-a97d-b591c247ff16",
   "metadata": {},
   "source": [
    "- This shows that majority of visitors (1291102) use only 1 unique channel_grouping. Only 1 person uses 6 channel groupings."
   ]
  },
  {
   "cell_type": "markdown",
   "id": "24318dd4-8a22-41b7-bb36-32914a65c347",
   "metadata": {},
   "source": [
    "### 1.3 What are the comma separated unique channel_grouping values associated with each full_visitor_id"
   ]
  },
  {
   "cell_type": "code",
   "execution_count": null,
   "id": "3ab503ec-b6f0-4835-ab9a-f48955b7faaa",
   "metadata": {},
   "outputs": [],
   "source": [
    "#res_df = con.execute(f\"select full_visitor_id, STRING_AGG(DISTINCT(channel_grouping), ',') AS concatenated_unique_channel_grouping from intermediate_train_data group by full_visitor_id\").df()\n",
    "unique_channel_grouping_string_df = get_separator_separated_values_for_column(con, table_name='intermediate_train_data', count_column_name='channel_grouping', group_by_column_name='full_visitor_id', is_distinct_count=True, separator=',')"
   ]
  },
  {
   "cell_type": "code",
   "execution_count": null,
   "id": "871643e7-a5b6-41fa-9dbf-15339946ae06",
   "metadata": {},
   "outputs": [],
   "source": [
    "merged_unique_channel_grouping_string_df = pd.merge(unique_channel_grouping_string_df, unique_channel_grouping_per_user_df, left_on='full_visitor_id', right_on='full_visitor_id', how='left')"
   ]
  },
  {
   "cell_type": "code",
   "execution_count": null,
   "id": "f9aec186-0fd2-4c54-bd55-433ea5f3b90d",
   "metadata": {},
   "outputs": [],
   "source": [
    "merged_unique_channel_grouping_string_df[merged_unique_channel_grouping_string_df.unique_count_channel_grouping == 1]['concatenated_unique_channel_grouping'].value_counts()"
   ]
  },
  {
   "cell_type": "markdown",
   "id": "46517e1a-94d6-4861-8781-d4ae60e9c601",
   "metadata": {},
   "source": [
    "- Clearly, Organic Search is the most common channel via which users arrive at the GStore for the users who have one unique channel_grouping associated with them"
   ]
  },
  {
   "cell_type": "markdown",
   "id": "0530d4c8-ba18-47f6-bbff-e17b8ebb7f7f",
   "metadata": {},
   "source": [
    "### 2. Analyse social_engagement_type column [REMOVE THIS COLUMN]"
   ]
  },
  {
   "cell_type": "code",
   "execution_count": null,
   "id": "0d257332-65ad-48d5-94a1-7a9d2ddae1ef",
   "metadata": {},
   "outputs": [],
   "source": [
    "social_engagement_df = get_counts_for_column_entries_ddb_table(con, table_name='intermediate_train_data', count_column_name='social_engagement_type', group_by_column_list=['social_engagement_type'])"
   ]
  },
  {
   "cell_type": "code",
   "execution_count": null,
   "id": "0bd7187f-6fd3-45c1-a5ff-a5dae904dd4f",
   "metadata": {},
   "outputs": [],
   "source": [
    "social_engagement_df"
   ]
  },
  {
   "cell_type": "markdown",
   "id": "872f72ec-b00a-4065-a46e-3d311d5f7895",
   "metadata": {},
   "source": [
    "- Clearly all the rows have common value Not Socially Engaged. Delete this column"
   ]
  },
  {
   "cell_type": "markdown",
   "id": "c540a764-fede-46a4-baad-62845001a7bf",
   "metadata": {},
   "source": [
    "### 3. Analyze visit_number column (An identifier for this session. It is unique for a visitor. It can help to understand how many sessions a given visitor was involved in)"
   ]
  },
  {
   "cell_type": "markdown",
   "id": "c082bf15-5c6d-4e3b-87f2-e6c32daa6b13",
   "metadata": {},
   "source": [
    "### 3.1 How many unique visit_number values are associated with a user identified by full_visitor_id"
   ]
  },
  {
   "cell_type": "code",
   "execution_count": null,
   "id": "d1f46746-a0f3-452e-a38e-78e7ad7e19d0",
   "metadata": {},
   "outputs": [],
   "source": [
    "unique_visit_number_per_user_df = get_counts_for_column_entries_ddb_table(con, table_name='intermediate_train_data', count_column_name='visit_number', group_by_column_list=['full_visitor_id'], is_distinct_count=True)"
   ]
  },
  {
   "cell_type": "code",
   "execution_count": null,
   "id": "c6045574-7d84-458d-b60b-ba9518355389",
   "metadata": {},
   "outputs": [],
   "source": [
    "unique_visit_number_per_user_df.head()"
   ]
  },
  {
   "cell_type": "markdown",
   "id": "4d7f9b5c-92ff-44b7-857a-7e3e9697a82f",
   "metadata": {},
   "source": [
    "### 3.2 Quartile analysis of unique_count_visit_number"
   ]
  },
  {
   "cell_type": "code",
   "execution_count": null,
   "id": "190dd780-72ef-4534-b79d-0668f7195956",
   "metadata": {},
   "outputs": [],
   "source": [
    "unique_visit_number_per_user_df.unique_count_visit_number.describe()"
   ]
  },
  {
   "cell_type": "markdown",
   "id": "c4310547-33e3-42a9-9d5b-b5aed7d72917",
   "metadata": {},
   "source": [
    "- It is clear from the graph that 75% of users have 1 session associated with them.  "
   ]
  },
  {
   "cell_type": "markdown",
   "id": "efd564df-5660-47be-a1f5-c8fd6e17f78a",
   "metadata": {},
   "source": [
    "### 3.3 Analyze visit_id, unique_session_identifier\n",
    "-  How many unique visit_id values are associated with a user identified by full_visitor_id"
   ]
  },
  {
   "cell_type": "code",
   "execution_count": null,
   "id": "3ce2499e-0870-4c4d-a958-bfd89aeba83f",
   "metadata": {},
   "outputs": [],
   "source": [
    "unique_visit_id_per_user_df = get_counts_for_column_entries_ddb_table(con, table_name='intermediate_train_data', count_column_name='visit_id', group_by_column_list=['full_visitor_id'], is_distinct_count=True)"
   ]
  },
  {
   "cell_type": "code",
   "execution_count": null,
   "id": "bcfb6c3c-435f-48b7-82d6-97280864cbac",
   "metadata": {},
   "outputs": [],
   "source": [
    "unique_session_identifier_per_user_df = get_counts_for_column_entries_ddb_table(con, table_name='intermediate_train_data', count_column_name='unique_session_identifier', group_by_column_list=['full_visitor_id'], is_distinct_count=True)"
   ]
  },
  {
   "cell_type": "code",
   "execution_count": null,
   "id": "b940b077-1131-4ce4-9261-c752b1876800",
   "metadata": {},
   "outputs": [],
   "source": [
    "merged_session_df = unique_visit_number_per_user_df.merge(unique_visit_id_per_user_df, left_on='full_visitor_id', right_on='full_visitor_id', how='inner')\n",
    "merged_session_df = merged_session_df.merge(unique_session_identifier_per_user_df, left_on='full_visitor_id', right_on='full_visitor_id', how='inner')"
   ]
  },
  {
   "cell_type": "code",
   "execution_count": null,
   "id": "3b5b3cdb-02a3-422f-8c7e-32618cf4a622",
   "metadata": {},
   "outputs": [],
   "source": [
    "(merged_session_df['unique_count_visit_number'] == merged_session_df['unique_count_visit_id']).value_counts()"
   ]
  },
  {
   "cell_type": "code",
   "execution_count": null,
   "id": "edab4a28-7c54-4bf7-a362-e26e19e7b322",
   "metadata": {},
   "outputs": [],
   "source": [
    "merged_session_df[merged_session_df.unique_count_visit_number != merged_session_df.unique_count_visit_id].head()"
   ]
  },
  {
   "cell_type": "markdown",
   "id": "6ea282a7-32a5-42fa-b9c3-c987b8fb760f",
   "metadata": {},
   "source": [
    "- visit_id and unique_session_identifier are correctly identifying the session a user/full_visitor_id is involved in. DO NOT USE visit_number"
   ]
  },
  {
   "cell_type": "code",
   "execution_count": null,
   "id": "92c035b2-3a27-4791-9f94-5114c90c35aa",
   "metadata": {},
   "outputs": [],
   "source": [
    "rows_for_unique_session_identifier_df = get_counts_for_column_entries_ddb_table(con, table_name='intermediate_train_data', count_column_name='unique_session_identifier', group_by_column_list=['unique_session_identifier'])"
   ]
  },
  {
   "cell_type": "code",
   "execution_count": null,
   "id": "f35f5bde-5c51-4868-9b8f-e04dcf80a000",
   "metadata": {},
   "outputs": [],
   "source": [
    "rows_for_unique_session_identifier_df.row_count_unique_session_identifier.value_counts(normalize=True)"
   ]
  },
  {
   "cell_type": "code",
   "execution_count": null,
   "id": "68495a3b-bf43-4d16-86c0-b9a6d3e463ba",
   "metadata": {},
   "outputs": [],
   "source": [
    "- 99.9% of sessions have exactly 1 row associated with them. Remaining have 2 rows associated with them"
   ]
  },
  {
   "cell_type": "markdown",
   "id": "69e48279-130b-465e-99d3-bd8d918f8270",
   "metadata": {},
   "source": [
    "## 4. Analyse visit_start_time (The timestamp (expressed as POSIX time))"
   ]
  },
  {
   "cell_type": "code",
   "execution_count": null,
   "id": "b2ba9a86-8ee7-4941-8283-f72bcd5ac57b",
   "metadata": {},
   "outputs": [],
   "source": [
    "#con.execute(\"select TO_TIMESTAMP(visit_start_time) AS utc_visit_start_time, date, geo_network_continent, geo_network_sub_continent, geo_network_country, geo_network_region, geo_network_city, totals_transactions\t from intermediate_train_data\").df()"
   ]
  },
  {
   "cell_type": "markdown",
   "id": "18fdf1d9-11a4-4e3b-ac02-3d36b43b7a74",
   "metadata": {},
   "source": [
    "## 5. Analyze geo_network_continent"
   ]
  },
  {
   "cell_type": "markdown",
   "id": "5a0822f3-73a3-438b-9b7a-26c997b960c0",
   "metadata": {},
   "source": [
    "### 5.1 How many rows have a given geo_network_continent value associated with them?"
   ]
  },
  {
   "cell_type": "code",
   "execution_count": null,
   "id": "07da3e63-1b5a-4d27-bd28-0a9287c65456",
   "metadata": {},
   "outputs": [],
   "source": [
    "geo_network_continent_df = get_counts_for_column_entries_ddb_table(con, table_name='intermediate_train_data', count_column_name='geo_network_continent', group_by_column_list=['geo_network_continent'])"
   ]
  },
  {
   "cell_type": "code",
   "execution_count": null,
   "id": "be20ca7c-cb5d-4d82-bb77-d9576be03f51",
   "metadata": {},
   "outputs": [],
   "source": [
    "create_multiple_plots(df=geo_network_continent_df, x='geo_network_continent', y='row_count_geo_network_continent', kind='bar', orientation='v')"
   ]
  },
  {
   "cell_type": "markdown",
   "id": "79d9bfe0-7fa2-401c-ac1c-42ae743419c8",
   "metadata": {},
   "source": [
    "- Clearly majority if visits are from Americas"
   ]
  },
  {
   "cell_type": "markdown",
   "id": "73b13626-925f-403d-9614-29c47e8dda31",
   "metadata": {},
   "source": [
    "### 5.2 How many unique geo_network_continent values are associated with a user identified by full_visitor_id"
   ]
  },
  {
   "cell_type": "code",
   "execution_count": null,
   "id": "36222225-b12a-4337-a1bc-cb384a3c4a05",
   "metadata": {},
   "outputs": [],
   "source": [
    "unique_geo_network_continent_per_user_df = get_counts_for_column_entries_ddb_table(con, table_name='intermediate_train_data', count_column_name='geo_network_continent', group_by_column_list=['full_visitor_id'], is_distinct_count=True)"
   ]
  },
  {
   "cell_type": "code",
   "execution_count": null,
   "id": "565ffdc9-47b0-4f29-bd3d-6ecaba975f74",
   "metadata": {},
   "outputs": [],
   "source": [
    "unique_geo_network_continent_per_user_df.unique_count_geo_network_continent.value_counts()"
   ]
  },
  {
   "cell_type": "markdown",
   "id": "cb928f7c-5f22-4678-a9bd-0cdf0f948e9f",
   "metadata": {},
   "source": [
    "- This shows that majority of full_visitor_id are associated with only one continent. However, there are certain  full_visitor_id that are associated with multiple unique geo_network_continent values\n",
    "- This implies that we cannot assume that full_visitor_id is linked to only one continent."
   ]
  },
  {
   "cell_type": "markdown",
   "id": "9f6617ed-f59f-40e2-a898-5ca112532db4",
   "metadata": {},
   "source": [
    "### 5.3 What are the comma separated unique geo_network_continent values associated with each full_visitor_id?"
   ]
  },
  {
   "cell_type": "code",
   "execution_count": null,
   "id": "8a5bbe69-03f6-4a6c-9ded-95c969dc4132",
   "metadata": {},
   "outputs": [],
   "source": [
    "unique_geo_network_continent_string_df = get_separator_separated_values_for_column(con, table_name='intermediate_train_data', count_column_name='geo_network_continent', group_by_column_name='full_visitor_id', is_distinct_count=True, separator=',')"
   ]
  },
  {
   "cell_type": "code",
   "execution_count": null,
   "id": "1f7e6235-f8e8-4efe-b54d-41a3e6e85af0",
   "metadata": {},
   "outputs": [],
   "source": [
    "merged_unique_geo_network_continent_string_df = pd.merge(unique_geo_network_continent_string_df, unique_geo_network_continent_per_user_df, left_on='full_visitor_id', right_on='full_visitor_id', how='left')"
   ]
  },
  {
   "cell_type": "code",
   "execution_count": null,
   "id": "0a16d1e0-fd69-40b6-b548-b412400d3857",
   "metadata": {},
   "outputs": [],
   "source": [
    "merged_unique_geo_network_continent_string_df[merged_unique_geo_network_continent_string_df.unique_count_geo_network_continent == 1]['concatenated_unique_geo_network_continent'].value_counts()"
   ]
  },
  {
   "cell_type": "code",
   "execution_count": null,
   "id": "423d7061-e505-49a6-848c-415eedd8d052",
   "metadata": {},
   "outputs": [],
   "source": [
    "get_separator_separated_values_for_column(con, table_name='intermediate_train_data', count_column_name='geo_network_continent', group_by_column_name='unique_session_identifier', is_distinct_count=True, separator=',')['concatenated_unique_geo_network_continent'].value_counts()"
   ]
  },
  {
   "cell_type": "markdown",
   "id": "5eedcfca-629b-4d66-8ed4-8ce8eeb95c35",
   "metadata": {},
   "source": [
    "## 6. Analyze geo_network_sub_continent"
   ]
  },
  {
   "cell_type": "markdown",
   "id": "32a70ca8-44cd-4547-88fe-8680900d8ccb",
   "metadata": {},
   "source": [
    "### 6.1 Get continent to subcontinent mapping "
   ]
  },
  {
   "cell_type": "code",
   "execution_count": null,
   "id": "d2c3f6fe-d20c-4812-aefe-76d5fb704233",
   "metadata": {},
   "outputs": [],
   "source": [
    "continent_subcontinent_mapping_df = con.execute(f\"select DISTINCT(geo_network_continent, geo_network_sub_continent) AS continent_dict from intermediate_train_data;\").df()"
   ]
  },
  {
   "cell_type": "code",
   "execution_count": null,
   "id": "f07b4860-b47b-498a-b28a-b3e4131a22a4",
   "metadata": {},
   "outputs": [],
   "source": [
    "continent_subcontinent_mapping_df.loc[:, ['geo_network_continent', 'geo_network_sub_continent']] = continent_subcontinent_mapping_df.apply(lambda row: row.continent_dict, axis='columns', result_type='expand')"
   ]
  },
  {
   "cell_type": "code",
   "execution_count": null,
   "id": "9a89b992-8d3f-4e3b-a500-338686a2ca08",
   "metadata": {},
   "outputs": [],
   "source": [
    "geo_network_continent_sub_continent_mapping = dict(zip(continent_subcontinent_mapping_df.geo_network_sub_continent.values, continent_subcontinent_mapping_df.geo_network_continent.values))"
   ]
  },
  {
   "cell_type": "markdown",
   "id": "4d40f7ad-f6d3-4173-95e0-982750ba261b",
   "metadata": {},
   "source": [
    "### 6.2 How many rows have a given geo_network_sub_continent value associated with them?"
   ]
  },
  {
   "cell_type": "code",
   "execution_count": null,
   "id": "49905904-c93d-4469-8c53-644ee26453be",
   "metadata": {},
   "outputs": [],
   "source": [
    "geo_network_sub_continent_df = get_counts_for_column_entries_ddb_table(con, table_name='intermediate_train_data', count_column_name='geo_network_sub_continent', group_by_column_list=['geo_network_sub_continent'])"
   ]
  },
  {
   "cell_type": "code",
   "execution_count": null,
   "id": "3706a2d5-ea30-4dd9-9875-e2813a00248b",
   "metadata": {},
   "outputs": [],
   "source": [
    "#geo_network_sub_continent_df['geo_network_continent'] = geo_network_sub_continent_df['geo_network_sub_continent'].map(geo_network_continent_sub_continent_mapping)"
   ]
  },
  {
   "cell_type": "code",
   "execution_count": null,
   "id": "5d888503-054b-400d-aaa6-bdd24b6e2c54",
   "metadata": {},
   "outputs": [],
   "source": [
    "create_multiple_plots(df=geo_network_sub_continent_df, y='geo_network_sub_continent', x='row_count_geo_network_sub_continent', kind='bar', orientation='h', title='Number of rows belonging to each sub continent')"
   ]
  },
  {
   "cell_type": "markdown",
   "id": "97636266-9beb-4ff9-8d64-24d164131436",
   "metadata": {},
   "source": [
    "### 6.3 How many rows have a given (geo_network_sub_continent, geo_network_sub_continent) value associated with them?"
   ]
  },
  {
   "cell_type": "code",
   "execution_count": null,
   "id": "1a037cbe-6cfa-4ddc-ae0e-d5c22d2ef5be",
   "metadata": {},
   "outputs": [],
   "source": [
    "geo_network_continent_and_sub_continent_df = get_counts_for_column_entries_ddb_table(con, table_name='intermediate_train_data', count_column_name='geo_network_sub_continent', group_by_column_list=['geo_network_continent', 'geo_network_sub_continent'], is_distinct_count=False)\n",
    "#con.execute(f\"select geo_network_continent, geo_network_sub_continent, count(*) from intermediate_train_data group by geo_network_continent, geo_network_sub_continent\").df()"
   ]
  },
  {
   "cell_type": "code",
   "execution_count": null,
   "id": "cd8a2bb9-bc3f-4324-9392-f062a0604b55",
   "metadata": {},
   "outputs": [],
   "source": [
    "geo_network_continent_and_sub_continent_df['combine_continent_sub_continent'] = geo_network_continent_and_sub_continent_df['geo_network_continent'] + '_' + geo_network_continent_and_sub_continent_df['geo_network_sub_continent']"
   ]
  },
  {
   "cell_type": "code",
   "execution_count": null,
   "id": "dada2507-5e2a-447f-b167-9f3405b00902",
   "metadata": {},
   "outputs": [],
   "source": [
    "create_multiple_plots(df=geo_network_continent_and_sub_continent_df.sort_values(by=['combine_continent_sub_continent']), y='combine_continent_sub_continent', x='row_count_geo_network_sub_continent', kind='bar', orientation='h', title='Number of rows belonging to each sub continent')"
   ]
  },
  {
   "cell_type": "markdown",
   "id": "6ca88953-0ed9-4d39-b243-f000dfe6131a",
   "metadata": {},
   "source": [
    "- It can be seen that Northern America has highest number of rows in the dataset"
   ]
  },
  {
   "cell_type": "markdown",
   "id": "0cc71edb-5b64-4af8-8aec-3330ced55974",
   "metadata": {},
   "source": [
    "### 6.4 How many unique geo_network_sub_continent values are associated with a user identified by full_visitor_id"
   ]
  },
  {
   "cell_type": "code",
   "execution_count": null,
   "id": "5cd91fa4-b21f-493b-8253-c470862516c4",
   "metadata": {},
   "outputs": [],
   "source": [
    "unique_geo_network_sub_continent_per_user_df = get_counts_for_column_entries_ddb_table(con, table_name='intermediate_train_data', count_column_name='geo_network_sub_continent', group_by_column_list=['full_visitor_id'], is_distinct_count=True)"
   ]
  },
  {
   "cell_type": "code",
   "execution_count": null,
   "id": "76204607-0898-49ae-ab92-e92cefe2b44a",
   "metadata": {},
   "outputs": [],
   "source": [
    "unique_geo_network_sub_continent_per_user_df.unique_count_geo_network_sub_continent.value_counts()"
   ]
  },
  {
   "cell_type": "markdown",
   "id": "79ca2091-bac9-4088-b896-23850e54b300",
   "metadata": {},
   "source": [
    "- Clearly, majority of people/ visitors are associated with 1 unique sub continenet. However, we see 1 person who has 5 unique sub continents"
   ]
  },
  {
   "cell_type": "markdown",
   "id": "5de9df0f-6da1-4ae0-8be9-26901fcaa722",
   "metadata": {},
   "source": [
    "### 6.5 What are the comma separated unique geo_network_sub_continent values associated with each full_visitor_id?"
   ]
  },
  {
   "cell_type": "code",
   "execution_count": null,
   "id": "e8cd5c14-d90b-4e2b-9360-a552e8f22b05",
   "metadata": {},
   "outputs": [],
   "source": [
    "unique_geo_network_sub_continent_string_df = get_separator_separated_values_for_column(con, table_name='intermediate_train_data', count_column_name='geo_network_sub_continent', group_by_column_name='full_visitor_id', is_distinct_count=True, separator=',')"
   ]
  },
  {
   "cell_type": "code",
   "execution_count": null,
   "id": "99cc26ba-7d20-4f2e-9642-fb748cc93a2b",
   "metadata": {},
   "outputs": [],
   "source": [
    "merged_unique_geo_network_sub_continent_string_df = pd.merge(unique_geo_network_sub_continent_string_df, unique_geo_network_sub_continent_per_user_df, left_on='full_visitor_id', right_on='full_visitor_id', how='left')"
   ]
  },
  {
   "cell_type": "code",
   "execution_count": null,
   "id": "aae6074e-4cff-4a44-b188-5ca13e242eb1",
   "metadata": {},
   "outputs": [],
   "source": [
    "merged_unique_geo_network_sub_continent_string_df[merged_unique_geo_network_sub_continent_string_df.unique_count_geo_network_sub_continent == 1]['concatenated_unique_geo_network_sub_continent'].value_counts()"
   ]
  },
  {
   "cell_type": "markdown",
   "id": "ef52ace9-4f6f-4f56-868f-9e0c64dbbc9d",
   "metadata": {},
   "source": [
    "- This shows that a lot of visitors who belong to exactly 1 geo_network_sub_continent are in Northern America"
   ]
  },
  {
   "cell_type": "markdown",
   "id": "7339c6d4-a2f4-4f63-af7f-871a79583a2c",
   "metadata": {},
   "source": [
    "## 7. Analyze geo_network_country"
   ]
  },
  {
   "cell_type": "markdown",
   "id": "68f915e4-457f-4edb-a022-d17e1808853f",
   "metadata": {},
   "source": [
    "### 7.1 How many rows have a given geo_network_country value associated with them?"
   ]
  },
  {
   "cell_type": "code",
   "execution_count": null,
   "id": "84f892a4-25be-4471-a525-026d707b50ff",
   "metadata": {},
   "outputs": [],
   "source": [
    "geo_network_country_df = get_counts_for_column_entries_ddb_table(con, table_name='intermediate_train_data', count_column_name='geo_network_country', group_by_column_list=['geo_network_continent', 'geo_network_sub_continent', 'geo_network_country'])"
   ]
  },
  {
   "cell_type": "code",
   "execution_count": null,
   "id": "9bf6d576-a338-461f-8cb4-c53357bcf9b4",
   "metadata": {},
   "outputs": [],
   "source": [
    "geo_network_country_df.head()"
   ]
  },
  {
   "cell_type": "code",
   "execution_count": null,
   "id": "b92f882f-438c-447a-9f87-8c6ccb9cfa1f",
   "metadata": {},
   "outputs": [],
   "source": [
    "row_count = geo_network_country_df['geo_network_continent'].nunique()\n",
    "max_column_count = geo_network_country_df.groupby(by=['geo_network_continent']).agg({'geo_network_sub_continent':'nunique'})['geo_network_sub_continent'].max()"
   ]
  },
  {
   "cell_type": "code",
   "execution_count": null,
   "id": "1a902359-3d43-4dd9-a524-2c71c9fa2404",
   "metadata": {
    "scrolled": true
   },
   "outputs": [],
   "source": [
    "plot_graphs_by_looping(df=geo_network_country_df, row_identifier='geo_network_continent', column_identifier='geo_network_sub_continent', x_column_to_plot='row_count_geo_network_country', y_column_to_plot='geo_network_country', row_count=row_count, max_column_count=max_column_count)"
   ]
  },
  {
   "cell_type": "markdown",
   "id": "a815a5e1-c30a-4772-945d-3d3ccea1174d",
   "metadata": {},
   "source": [
    "- This graph shows number of rows belonging to each country in a given sub continent. Each row represents a continent"
   ]
  },
  {
   "cell_type": "markdown",
   "id": "c9ee6d97-4b3e-409c-9d21-754f375e5210",
   "metadata": {},
   "source": [
    "## 8. Analyze geo_network_region"
   ]
  },
  {
   "cell_type": "code",
   "execution_count": null,
   "id": "1afc863a-87d2-4a5e-8aa2-5c5e19d66227",
   "metadata": {},
   "outputs": [],
   "source": [
    "geo_network_region_df = get_counts_for_column_entries_ddb_table(con, table_name='intermediate_train_data', count_column_name='geo_network_region', group_by_column_list=['geo_network_region'])"
   ]
  },
  {
   "cell_type": "code",
   "execution_count": null,
   "id": "955729d3-b132-4817-b748-9c089a4b8f91",
   "metadata": {},
   "outputs": [],
   "source": [
    "geo_network_region_df['percent_geo_network_region'] = geo_network_region_df['row_count_geo_network_region']/geo_network_region_df['row_count_geo_network_region'].sum()"
   ]
  },
  {
   "cell_type": "code",
   "execution_count": null,
   "id": "ce6b5592-c0d7-4ab5-950b-b1243256ed02",
   "metadata": {},
   "outputs": [],
   "source": [
    "geo_network_region_df.head()"
   ]
  },
  {
   "cell_type": "markdown",
   "id": "e7d2f425-1da0-46dd-894c-efdf14ae2266",
   "metadata": {},
   "source": [
    "- 54% of rows do not have geo_network_region set. Hence delete this column"
   ]
  },
  {
   "cell_type": "markdown",
   "id": "f7026818-3891-4b72-a5f6-55e8de840c1a",
   "metadata": {},
   "source": [
    "## 8. Analyze geo_network_metro"
   ]
  },
  {
   "cell_type": "code",
   "execution_count": null,
   "id": "1fdb563d-2bd8-4509-bcba-cd32a3c7827e",
   "metadata": {},
   "outputs": [],
   "source": [
    "geo_network_metro_df = get_counts_for_column_entries_ddb_table(con, table_name='intermediate_train_data', count_column_name='geo_network_metro', group_by_column_list=['geo_network_metro'])"
   ]
  },
  {
   "cell_type": "code",
   "execution_count": null,
   "id": "8cc299fa-5270-4f89-b2ce-04f5e74cc898",
   "metadata": {},
   "outputs": [],
   "source": [
    "geo_network_metro_df['percent_geo_network_metro'] = geo_network_metro_df['row_count_geo_network_metro']/geo_network_metro_df['row_count_geo_network_metro'].sum()"
   ]
  },
  {
   "cell_type": "code",
   "execution_count": null,
   "id": "a8fe63bc-572c-4628-9f0e-1ab99b08c5da",
   "metadata": {},
   "outputs": [],
   "source": [
    "geo_network_metro_df.head()"
   ]
  },
  {
   "cell_type": "markdown",
   "id": "06fc0a01-42db-4260-b333-51b28253e1a0",
   "metadata": {},
   "source": [
    "- Delete column geo_network_metro as 76% rows do not have thsis value."
   ]
  },
  {
   "cell_type": "markdown",
   "id": "82d5bd60-6655-4733-8454-034726ff4da8",
   "metadata": {},
   "source": [
    "## 9. Analyze geo_network_city/geo_network_city_id"
   ]
  },
  {
   "cell_type": "code",
   "execution_count": null,
   "id": "97a535f0-7c47-4cc9-aadb-0cc9b94afbe1",
   "metadata": {},
   "outputs": [],
   "source": [
    "geo_network_city_df = get_counts_for_column_entries_ddb_table(con, table_name='intermediate_train_data', count_column_name='geo_network_city', group_by_column_list=['geo_network_city'])"
   ]
  },
  {
   "cell_type": "code",
   "execution_count": null,
   "id": "cd510af3-52ad-4c58-b966-657e6d4beda0",
   "metadata": {},
   "outputs": [],
   "source": [
    "geo_network_city_df['percent_geo_network_city'] = geo_network_city_df['row_count_geo_network_city']/geo_network_city_df['row_count_geo_network_city'].sum()"
   ]
  },
  {
   "cell_type": "code",
   "execution_count": null,
   "id": "936796bb-5c2c-4ec4-9062-691c27de7a5e",
   "metadata": {},
   "outputs": [],
   "source": [
    "geo_network_city_df"
   ]
  },
  {
   "cell_type": "markdown",
   "id": "e47dbbb3-7aa0-47aa-a8dc-9a526a5cd313",
   "metadata": {},
   "source": [
    "- Delete column geo_network_city as 54% rows do not have this value."
   ]
  },
  {
   "cell_type": "markdown",
   "id": "d207c83b-4da1-4158-af0b-f3f3e2c10d08",
   "metadata": {},
   "source": [
    "## 10. Analyze geo_network_network_domain"
   ]
  },
  {
   "cell_type": "code",
   "execution_count": null,
   "id": "72877855-19fd-424e-a78c-615a0995b226",
   "metadata": {},
   "outputs": [],
   "source": [
    "geo_network_network_domain_df = get_counts_for_column_entries_ddb_table(con, table_name='intermediate_train_data', count_column_name='geo_network_network_domain', group_by_column_list=['geo_network_network_domain'])"
   ]
  },
  {
   "cell_type": "code",
   "execution_count": null,
   "id": "a23150cf-00fc-442a-958b-7aaa8efa933a",
   "metadata": {},
   "outputs": [],
   "source": [
    "geo_network_network_domain_df['domain'] = geo_network_network_domain_df['geo_network_network_domain'].str.split('.').str[1]"
   ]
  },
  {
   "cell_type": "markdown",
   "id": "da32be13-11fe-40de-8a69-8d7b7b33c693",
   "metadata": {},
   "source": [
    "- Delete column geo_network_network_domain"
   ]
  },
  {
   "cell_type": "markdown",
   "id": "74436630-a82f-4699-a878-4da7672a8890",
   "metadata": {},
   "source": [
    "## 11. Analyze geo_network_latitude"
   ]
  },
  {
   "cell_type": "code",
   "execution_count": null,
   "id": "de0e48d3-2d4b-439c-93a5-18f97052f2b3",
   "metadata": {},
   "outputs": [],
   "source": [
    "intermediate_data_table.geo_network_latitude"
   ]
  },
  {
   "cell_type": "markdown",
   "id": "ea3862bd-fc1e-4a88-b36c-e3a5c53a207c",
   "metadata": {},
   "source": [
    "- Delete column geo_network_latitude"
   ]
  },
  {
   "cell_type": "markdown",
   "id": "2c79857c-37ce-4f93-abad-58dbcbc8ce60",
   "metadata": {},
   "source": [
    "## 11. Analyze geo_network_longitude"
   ]
  },
  {
   "cell_type": "code",
   "execution_count": null,
   "id": "0e84cdcf-a398-4a11-9fb8-96d2b131de8d",
   "metadata": {},
   "outputs": [],
   "source": [
    "intermediate_data_table.geo_network_longitude"
   ]
  },
  {
   "cell_type": "markdown",
   "id": "d9db09ac-1e9c-404a-bd91-5642a298c97e",
   "metadata": {},
   "source": [
    "## 11. Analyze geo_network_network_location"
   ]
  },
  {
   "cell_type": "code",
   "execution_count": null,
   "id": "96d3faaf-e434-4ded-85d1-d51b46dcf57c",
   "metadata": {},
   "outputs": [],
   "source": [
    "geo_network_network_location_df = get_counts_for_column_entries_ddb_table(con, table_name='intermediate_train_data', count_column_name='geo_network_network_location', group_by_column_list=['geo_network_network_location'])"
   ]
  },
  {
   "cell_type": "code",
   "execution_count": null,
   "id": "7bb4eeed-cb21-401a-ac95-389c3c8d9c3a",
   "metadata": {},
   "outputs": [],
   "source": [
    "geo_network_network_location_df"
   ]
  },
  {
   "cell_type": "markdown",
   "id": "1b643793-719b-4bb3-b56d-8f72dbbef107",
   "metadata": {},
   "source": [
    "## 12. Analyze device_browser\n",
    "- Relevant device browser: chrome, safari, firefox, internet_explorer, (android_webview, android_browser, android_runtime), edge, samsung_internet, (opera_mini, opera, samsung-sm-b355e_opera), safari_(in-app), uc_browser, yabrowser, amazon_silk, coc_coc, (mozilla_compatible_agent, mozilla), mrchrome, maxthon, puffin, blackberry, nintendo_browser, (nokia_browser, nokiae52), iron, seamonkey, seznam, apple-iphone7c2, playstation_vita_browser, lunascape, konqueror, netscape, mqqbrowser, dillo"
   ]
  },
  {
   "cell_type": "code",
   "execution_count": null,
   "id": "66945f3f-de42-44fd-9033-65c68466c3d9",
   "metadata": {},
   "outputs": [],
   "source": [
    "device_browser_df = get_counts_for_column_entries_ddb_table(con, table_name='intermediate_train_data', count_column_name='device_browser', group_by_column_list=['device_browser'])"
   ]
  },
  {
   "cell_type": "code",
   "execution_count": null,
   "id": "db5036fb-4e95-4b80-b150-a140ab32590a",
   "metadata": {},
   "outputs": [],
   "source": [
    "device_browser_df['normalized_device_browser'] = device_browser_df['device_browser'].str.lower().str.split(' ').str.join('_')"
   ]
  },
  {
   "cell_type": "code",
   "execution_count": null,
   "id": "82e7419b-4ace-4e55-991c-e5435c03ccb2",
   "metadata": {},
   "outputs": [],
   "source": [
    "device_browser_df.head()"
   ]
  },
  {
   "cell_type": "markdown",
   "id": "cd2bdd5a-1100-4c66-99fe-5134ce964dc9",
   "metadata": {},
   "source": [
    "## 13. Analyze device_browser_version"
   ]
  },
  {
   "cell_type": "code",
   "execution_count": null,
   "id": "cd00ef27-bca4-49ee-82f2-5b10ad8570f6",
   "metadata": {},
   "outputs": [],
   "source": [
    "device_browser_version_df = get_counts_for_column_entries_ddb_table(con, table_name='intermediate_train_data', count_column_name='device_browser_version', group_by_column_list=['device_browser_version'])"
   ]
  },
  {
   "cell_type": "code",
   "execution_count": null,
   "id": "8e3d27e1-598a-4362-8218-72ffdc5d56b0",
   "metadata": {},
   "outputs": [],
   "source": [
    "device_browser_version_df"
   ]
  },
  {
   "cell_type": "markdown",
   "id": "37ab8cb1-4653-4def-a399-3c739abb4500",
   "metadata": {},
   "source": [
    "- Delete column device_browser_version"
   ]
  },
  {
   "cell_type": "markdown",
   "id": "b4fa5ff1-57e3-4223-8782-53bd2e4f5cee",
   "metadata": {},
   "source": [
    "## 14. Analyze device_browser_size"
   ]
  },
  {
   "cell_type": "code",
   "execution_count": null,
   "id": "a6668d20-480e-40aa-bc73-55ee12f684de",
   "metadata": {},
   "outputs": [],
   "source": [
    "device_browser_size_df = get_counts_for_column_entries_ddb_table(con, table_name='intermediate_train_data', count_column_name='device_browser_size', group_by_column_list=['device_browser_size'])"
   ]
  },
  {
   "cell_type": "code",
   "execution_count": null,
   "id": "23643e02-15fb-4c49-b324-0a02578b13b1",
   "metadata": {},
   "outputs": [],
   "source": [
    "device_browser_size_df"
   ]
  },
  {
   "cell_type": "markdown",
   "id": "b7402ccd-4262-4875-b149-b06e52663f7e",
   "metadata": {},
   "source": [
    "## 15. Analyze device_operating_system"
   ]
  },
  {
   "cell_type": "code",
   "execution_count": null,
   "id": "887dad85-0556-41e4-8561-a602643584a4",
   "metadata": {},
   "outputs": [],
   "source": [
    "device_operating_system_df = get_counts_for_column_entries_ddb_table(con, table_name='intermediate_train_data', count_column_name='device_operating_system', group_by_column_list=['device_operating_system'])"
   ]
  },
  {
   "cell_type": "code",
   "execution_count": null,
   "id": "1e322ebe-c4df-4668-b0ce-83c2c5f00f80",
   "metadata": {},
   "outputs": [],
   "source": [
    "device_operating_system_df.head()"
   ]
  },
  {
   "cell_type": "markdown",
   "id": "8b447738-e3fe-428a-aed2-77ba248ad768",
   "metadata": {},
   "source": [
    "### 15.1 How many unique device_operating_system values are associated with a given visitor?"
   ]
  },
  {
   "cell_type": "code",
   "execution_count": null,
   "id": "0e87a756-b499-4cb1-8f86-3e41e1e9cc00",
   "metadata": {},
   "outputs": [],
   "source": [
    "unique_device_operating_system_per_user_df = get_counts_for_column_entries_ddb_table(con, table_name='intermediate_train_data', count_column_name='device_operating_system', group_by_column_list=['full_visitor_id'], is_distinct_count=True)"
   ]
  },
  {
   "cell_type": "code",
   "execution_count": null,
   "id": "b7439b1d-5e60-41bd-b3d9-5c70f2327b8d",
   "metadata": {},
   "outputs": [],
   "source": [
    "unique_device_operating_system_per_user_df.unique_count_device_operating_system.value_counts()"
   ]
  },
  {
   "cell_type": "markdown",
   "id": "f7d5aa58-524c-4bbd-8f71-51d7e198970a",
   "metadata": {},
   "source": [
    "- Majority of visitors use only one operating system. Very rarely does it go beyond 1"
   ]
  },
  {
   "cell_type": "markdown",
   "id": "4ca2d6d8-84c6-47ba-90db-591f46126974",
   "metadata": {},
   "source": [
    "### 15.2 What are the comma separated unique device_operating_system values associated with each full_visitor_id?"
   ]
  },
  {
   "cell_type": "code",
   "execution_count": null,
   "id": "115c150c-9690-409d-be16-f4d4746572e1",
   "metadata": {},
   "outputs": [],
   "source": [
    "unique_device_operating_system_string_df = get_separator_separated_values_for_column(con, table_name='intermediate_train_data', count_column_name='device_operating_system', group_by_column_name='full_visitor_id', is_distinct_count=True, separator=',')"
   ]
  },
  {
   "cell_type": "code",
   "execution_count": null,
   "id": "b7e07314-4afa-465f-9de5-9b9deb8805a1",
   "metadata": {},
   "outputs": [],
   "source": [
    "merged_unique_device_operating_system_string_df = pd.merge(unique_device_operating_system_string_df, unique_device_operating_system_per_user_df, left_on='full_visitor_id', right_on='full_visitor_id', how='left')"
   ]
  },
  {
   "cell_type": "code",
   "execution_count": null,
   "id": "11091cc8-ee2e-46f3-b6d6-34ad2c5399b1",
   "metadata": {},
   "outputs": [],
   "source": [
    "merged_unique_device_operating_system_string_df[merged_unique_device_operating_system_string_df.unique_count_device_operating_system.isin([3, 4])]"
   ]
  },
  {
   "cell_type": "markdown",
   "id": "ed3be0e8-809a-41b4-acf2-b06e02b6aa59",
   "metadata": {},
   "source": [
    "## 16. Analyze device_operating_system_version"
   ]
  },
  {
   "cell_type": "code",
   "execution_count": null,
   "id": "bfa7fe42-9133-415d-b497-391eadcdfafe",
   "metadata": {},
   "outputs": [],
   "source": [
    "device_operating_system_version_df = get_counts_for_column_entries_ddb_table(con, table_name='intermediate_train_data', count_column_name='device_operating_system_version', group_by_column_list=['device_operating_system_version'])"
   ]
  },
  {
   "cell_type": "code",
   "execution_count": null,
   "id": "8f5332f7-3952-4a65-bce4-90e30c8ea312",
   "metadata": {},
   "outputs": [],
   "source": [
    "device_operating_system_version_df"
   ]
  },
  {
   "cell_type": "markdown",
   "id": "0ef1bcc8-6d13-4294-95ca-befb7b33508f",
   "metadata": {},
   "source": [
    "- Delete device_operating_system_version column"
   ]
  },
  {
   "cell_type": "markdown",
   "id": "70596a32-32eb-4db7-bebd-a70bcd44aa60",
   "metadata": {},
   "source": [
    "## 17. Analyze device_is_mobile"
   ]
  },
  {
   "cell_type": "code",
   "execution_count": null,
   "id": "8b92898a-a34f-4fe6-b555-1d13d6270628",
   "metadata": {},
   "outputs": [],
   "source": [
    "device_is_mobile_df = get_counts_for_column_entries_ddb_table(con, table_name='intermediate_train_data', count_column_name='device_is_mobile', group_by_column_list=['device_is_mobile'])"
   ]
  },
  {
   "cell_type": "code",
   "execution_count": null,
   "id": "b8d61e2e-9700-4d76-8fe9-bc1540f56661",
   "metadata": {},
   "outputs": [],
   "source": [
    "device_is_mobile_df"
   ]
  },
  {
   "cell_type": "code",
   "execution_count": null,
   "id": "e2674fc6-b314-42b9-8fdf-8ceb24443388",
   "metadata": {},
   "outputs": [],
   "source": [
    "unique_device_operating_system_system_per_device_is_mobile_df = get_separator_separated_values_for_column(con, table_name='intermediate_train_data', count_column_name='device_operating_system', group_by_column_name='device_is_mobile', is_distinct_count=True, separator=',')"
   ]
  },
  {
   "cell_type": "code",
   "execution_count": null,
   "id": "2f182d43-0901-4442-85ab-e567464552ab",
   "metadata": {},
   "outputs": [],
   "source": [
    "unique_device_operating_system_system_per_device_is_mobile_df.loc[0]['concatenated_unique_device_operating_system']"
   ]
  },
  {
   "cell_type": "code",
   "execution_count": null,
   "id": "f0f28e74-1d76-4816-b3bd-d047aad153e1",
   "metadata": {},
   "outputs": [],
   "source": [
    "unique_device_operating_system_system_per_device_is_mobile_df.loc[1]['concatenated_unique_device_operating_system']"
   ]
  },
  {
   "cell_type": "markdown",
   "id": "a4818310-38ee-4b23-bd64-01d6b4880832",
   "metadata": {},
   "source": [
    "## 18. Analyze device_mobile_device_branding"
   ]
  },
  {
   "cell_type": "code",
   "execution_count": null,
   "id": "e86dbb88-46f4-489b-a92b-7ca48534433c",
   "metadata": {},
   "outputs": [],
   "source": [
    "device_mobile_device_branding_df = get_counts_for_column_entries_ddb_table(con, table_name='intermediate_train_data', count_column_name='device_mobile_device_branding', group_by_column_list=['device_mobile_device_branding'])"
   ]
  },
  {
   "cell_type": "code",
   "execution_count": null,
   "id": "4b479116-7a98-4376-b29e-5aca09f55e29",
   "metadata": {},
   "outputs": [],
   "source": [
    "device_mobile_device_branding_df"
   ]
  },
  {
   "cell_type": "markdown",
   "id": "0aa00102-5990-45fc-b953-57b45664effb",
   "metadata": {},
   "source": [
    "## 19. Analyze device_mobile_device_model"
   ]
  },
  {
   "cell_type": "code",
   "execution_count": null,
   "id": "0e66b1f4-ab23-4f84-a60a-4945b95debbd",
   "metadata": {},
   "outputs": [],
   "source": [
    "device_mobile_device_model_df = get_counts_for_column_entries_ddb_table(con, table_name='intermediate_train_data', count_column_name='device_mobile_device_model', group_by_column_list=['device_mobile_device_model'])"
   ]
  },
  {
   "cell_type": "code",
   "execution_count": null,
   "id": "58a48393-6f58-4ecf-8f85-8347441daa27",
   "metadata": {},
   "outputs": [],
   "source": [
    "device_mobile_device_model_df"
   ]
  },
  {
   "cell_type": "markdown",
   "id": "6a49f2f5-970b-49fd-8df1-203692bdc76d",
   "metadata": {},
   "source": [
    "## 20. Analyze device_mobile_input_selector"
   ]
  },
  {
   "cell_type": "code",
   "execution_count": null,
   "id": "ded8f95e-273f-43ef-b7a0-b308f1dc08dd",
   "metadata": {},
   "outputs": [],
   "source": [
    "device_mobile_input_selector_df = get_counts_for_column_entries_ddb_table(con, table_name='intermediate_train_data', count_column_name='device_mobile_input_selector', group_by_column_list=['device_mobile_input_selector'])"
   ]
  },
  {
   "cell_type": "code",
   "execution_count": null,
   "id": "72df35b8-5006-4717-8a22-0601655a69b8",
   "metadata": {},
   "outputs": [],
   "source": [
    "device_mobile_input_selector_df"
   ]
  },
  {
   "cell_type": "markdown",
   "id": "3fc39701-ab9a-4c72-a25c-d800b8735e9a",
   "metadata": {},
   "source": [
    "## 21. Analyze device_mobile_device_info"
   ]
  },
  {
   "cell_type": "code",
   "execution_count": null,
   "id": "fa7331e6-8ea4-40a0-ba0e-e2e35a167c6c",
   "metadata": {},
   "outputs": [],
   "source": [
    "device_mobile_device_info_df = get_counts_for_column_entries_ddb_table(con, table_name='intermediate_train_data', count_column_name='device_mobile_device_info', group_by_column_list=['device_mobile_device_info'])"
   ]
  },
  {
   "cell_type": "code",
   "execution_count": null,
   "id": "7c1ae48a-d760-4794-897d-35ece8ad2516",
   "metadata": {},
   "outputs": [],
   "source": [
    "device_mobile_device_info_df"
   ]
  },
  {
   "cell_type": "markdown",
   "id": "da7aebce-8e39-4fa6-8b3b-2fb197fa1515",
   "metadata": {},
   "source": [
    "## 22. Analyze device_mobile_device_marketing_name"
   ]
  },
  {
   "cell_type": "code",
   "execution_count": null,
   "id": "96070c9b-b2e8-42bc-9b18-3f7147d052f6",
   "metadata": {},
   "outputs": [],
   "source": [
    "device_mobile_device_marketing_name_df = get_counts_for_column_entries_ddb_table(con, table_name='intermediate_train_data', count_column_name='device_mobile_device_marketing_name', group_by_column_list=['device_mobile_device_marketing_name'])"
   ]
  },
  {
   "cell_type": "code",
   "execution_count": null,
   "id": "eebe433f-db9e-41d9-9399-8363fb22a66f",
   "metadata": {},
   "outputs": [],
   "source": [
    "device_mobile_device_marketing_name_df"
   ]
  },
  {
   "cell_type": "markdown",
   "id": "d19f88cf-25ce-48ad-9b47-e82a27b98e7b",
   "metadata": {},
   "source": [
    "## 23. Analyze device_flash_version"
   ]
  },
  {
   "cell_type": "code",
   "execution_count": null,
   "id": "f971a35d-6d10-4097-964f-c9ffc76308b0",
   "metadata": {},
   "outputs": [],
   "source": [
    "device_flash_version_df = get_counts_for_column_entries_ddb_table(con, table_name='intermediate_train_data', count_column_name='device_flash_version', group_by_column_list=['device_flash_version'])"
   ]
  },
  {
   "cell_type": "code",
   "execution_count": null,
   "id": "64111f91-975c-48bd-a059-8410f6347ef2",
   "metadata": {},
   "outputs": [],
   "source": [
    "device_flash_version_df"
   ]
  },
  {
   "cell_type": "markdown",
   "id": "603577eb-6a53-459c-b02c-e59ba36af8ad",
   "metadata": {},
   "source": [
    "## 23. Analyze device_language"
   ]
  },
  {
   "cell_type": "code",
   "execution_count": null,
   "id": "879a4717-d8b4-4886-a3d4-7114abdfd651",
   "metadata": {},
   "outputs": [],
   "source": [
    "device_language_df = get_counts_for_column_entries_ddb_table(con, table_name='intermediate_train_data', count_column_name='device_language', group_by_column_list=['device_language'])"
   ]
  },
  {
   "cell_type": "code",
   "execution_count": null,
   "id": "29c8ffc3-b6a2-49c1-9459-644cdc1d5474",
   "metadata": {},
   "outputs": [],
   "source": [
    "device_language_df"
   ]
  },
  {
   "cell_type": "markdown",
   "id": "67752ee0-a532-4b3c-9a91-743ddf348991",
   "metadata": {},
   "source": [
    "## 23. Analyze device_screen_colors"
   ]
  },
  {
   "cell_type": "code",
   "execution_count": null,
   "id": "71541345-e4d9-4f0d-8208-7b1620d6b4e8",
   "metadata": {},
   "outputs": [],
   "source": [
    "device_screen_colors_df = get_counts_for_column_entries_ddb_table(con, table_name='intermediate_train_data', count_column_name='device_screen_colors', group_by_column_list=['device_screen_colors'])"
   ]
  },
  {
   "cell_type": "code",
   "execution_count": null,
   "id": "0b090757-d82d-4e91-b853-6eeb282e38a0",
   "metadata": {},
   "outputs": [],
   "source": [
    "device_screen_colors_df"
   ]
  },
  {
   "cell_type": "markdown",
   "id": "035e64ed-3ca7-4b91-9f99-731fe5b7faa9",
   "metadata": {},
   "source": [
    "## 23. Analyze device_screen_resolution"
   ]
  },
  {
   "cell_type": "code",
   "execution_count": null,
   "id": "57707b9d-cf68-46df-b9c5-374b7e078f8a",
   "metadata": {},
   "outputs": [],
   "source": [
    "device_screen_resolution_df = get_counts_for_column_entries_ddb_table(con, table_name='intermediate_train_data', count_column_name='device_screen_resolution', group_by_column_list=['device_screen_resolution'])"
   ]
  },
  {
   "cell_type": "code",
   "execution_count": null,
   "id": "6224de3b-381a-4cfb-8e36-8c89eaf498bb",
   "metadata": {},
   "outputs": [],
   "source": [
    "device_screen_resolution_df"
   ]
  },
  {
   "cell_type": "markdown",
   "id": "78f55410-05e3-42bb-88de-ac815078cfa8",
   "metadata": {},
   "source": [
    "## 24. Analyze device_device_category"
   ]
  },
  {
   "cell_type": "code",
   "execution_count": null,
   "id": "6b51dbca-9660-4782-97a7-617b1558cb6c",
   "metadata": {},
   "outputs": [],
   "source": [
    "device_device_category_df = get_counts_for_column_entries_ddb_table(con, table_name='intermediate_train_data', count_column_name='device_device_category', group_by_column_list=['device_device_category'])"
   ]
  },
  {
   "cell_type": "code",
   "execution_count": null,
   "id": "aa6a9f17-fe2c-4891-9140-969f2a03a119",
   "metadata": {},
   "outputs": [],
   "source": [
    "device_device_category_df"
   ]
  },
  {
   "cell_type": "markdown",
   "id": "b0e7a058-88ed-49e8-959c-81a7458d9e8d",
   "metadata": {},
   "source": [
    "### 24.4 How many unique device_device_category values are associated with a user identified by full_visitor_id"
   ]
  },
  {
   "cell_type": "code",
   "execution_count": null,
   "id": "1bedc0e5-ecbf-4c50-913b-b84b3db67dbb",
   "metadata": {},
   "outputs": [],
   "source": [
    "unique_device_device_category_per_user_df = get_counts_for_column_entries_ddb_table(con, table_name='intermediate_train_data', count_column_name='device_device_category', group_by_column_list=['full_visitor_id'], is_distinct_count=True)"
   ]
  },
  {
   "cell_type": "code",
   "execution_count": null,
   "id": "819776b1-2994-4483-8983-43e578a7619a",
   "metadata": {},
   "outputs": [],
   "source": [
    "unique_device_device_category_per_user_df.unique_count_device_device_category.value_counts()"
   ]
  },
  {
   "cell_type": "markdown",
   "id": "4230f51b-984b-4aca-a5d2-0d17f4ad8c84",
   "metadata": {},
   "source": [
    "- Very interseting to see that every visitor uses only 1 unique device_device_category"
   ]
  },
  {
   "cell_type": "markdown",
   "id": "168b85cf-75c1-4783-96eb-fbf5bd9150b8",
   "metadata": {},
   "source": [
    "## 25. Analyze totals - This section contains aggregate values across the session [TODO AGAIN CORRECTLY]\n",
    "- https://www.digishuffle.com/blogs/google-analytics-sessions-hits-metric-simplified/\n",
    "- https://themeisle.com/blog/page-views-vs-visits/#gref"
   ]
  },
  {
   "cell_type": "markdown",
   "id": "a30f6a93-fbaa-419b-a17a-bb66025a8a90",
   "metadata": {},
   "source": [
    "Session: A session is the total time a user spends on your website within a certain period. A session typically expires after 30 minutes of inactivity. A session is a group of user interactions with your website that take place within a given time frame\n",
    "\n",
    "Note: Contrary to popular belief, high page views don’t always mean you’re reaching a broad audience. High page visits are generally positive, as they indicate that your website is popular."
   ]
  },
  {
   "cell_type": "code",
   "execution_count": null,
   "id": "6b73e8d8-419f-41ca-81af-ef517bf496bd",
   "metadata": {},
   "outputs": [],
   "source": [
    "get_counts_for_column_entries_ddb_table(con, table_name='intermediate_train_data', count_column_name='unique_session_identifier', group_by_column_list=['unique_session_identifier'])"
   ]
  },
  {
   "cell_type": "code",
   "execution_count": null,
   "id": "f66b0266-bbc8-4fbe-9687-bad4dbee2d6a",
   "metadata": {},
   "outputs": [],
   "source": [
    "get_counts_for_column_entries_ddb_table(con, table_name='intermediate_train_data', count_column_name='full_visitor_id', group_by_column_list=['full_visitor_id'])"
   ]
  },
  {
   "cell_type": "markdown",
   "id": "4f9c4336-0535-4746-9aad-ad76467073e9",
   "metadata": {},
   "source": [
    "### 25.1 totals_visits\n",
    "- Page Visit: A page visit happens whenever someone reaches your site from an external source, outside of your website’s domain. For instance, if a user finds your article online and then reloads the page, that still counts as one visit. However, if they navigate away from your website, search for a new keyword in Google, and then land on your page again, this will count as two visits\n"
   ]
  },
  {
   "cell_type": "code",
   "execution_count": null,
   "id": "e7ae7ac4-3244-40df-975c-262e0186f480",
   "metadata": {},
   "outputs": [],
   "source": [
    "totals_visits_per_user_aggregates_df = get_aggregates_for_numerical_variable_using_groupby_column(con, 'intermediate_train_data', 'totals_visits', ['unique_session_identifier'])"
   ]
  },
  {
   "cell_type": "code",
   "execution_count": null,
   "id": "3bc05481-6569-48e4-9619-4cabf7e46fd6",
   "metadata": {},
   "outputs": [],
   "source": [
    "totals_visits_per_user_aggregates_df.head()"
   ]
  },
  {
   "cell_type": "code",
   "execution_count": null,
   "id": "59a08daf-bf49-470d-8a8d-28f8b9d9e0e1",
   "metadata": {},
   "outputs": [],
   "source": [
    "totals_visits_per_user_aggregates_df.min_totals_visits_per_session.describe()"
   ]
  },
  {
   "cell_type": "code",
   "execution_count": null,
   "id": "d85249c6-3654-49e2-9ff6-3a3b618e8e5b",
   "metadata": {},
   "outputs": [],
   "source": [
    "totals_visits_per_user_aggregates_df.max_totals_visits_per_session.describe()"
   ]
  },
  {
   "cell_type": "code",
   "execution_count": null,
   "id": "cc69efe9-151e-4208-9fe6-5af0597e396a",
   "metadata": {},
   "outputs": [],
   "source": [
    "totals_visits_per_user_aggregates_df.avg_totals_visits_per_session.describe()"
   ]
  },
  {
   "cell_type": "code",
   "execution_count": null,
   "id": "350ebed5-2640-44b3-acd6-d0408e5b8558",
   "metadata": {},
   "outputs": [],
   "source": [
    "totals_visits_per_user_aggregates_df.session_count.describe()"
   ]
  },
  {
   "cell_type": "code",
   "execution_count": null,
   "id": "e286f11f-0772-4b78-9596-fbfe2f02f696",
   "metadata": {},
   "outputs": [],
   "source": [
    "totals_visits_per_user_aggregates_df[totals_visits_per_user_aggregates_df.session_count > 300]"
   ]
  },
  {
   "cell_type": "markdown",
   "id": "73bf487d-3df2-4935-aea3-f2d31f762515",
   "metadata": {},
   "source": [
    "- This shows that each visitor/full_visitor_id has exactly 1 visit per session. Even the visitor having 400 sessions, has maximum of 1 visit across each of 400 sessions.\n",
    "- Possible features:\n",
    "1. Before a date, how many visits per session have been made?\n",
    "2. Before a date, total number of visits?\n",
    "3. Before a date, min, max, avg, median visits per session?"
   ]
  },
  {
   "cell_type": "markdown",
   "id": "6e0c8f8d-4d0e-4f1d-80a1-6cdf539dc196",
   "metadata": {},
   "source": [
    "### 25.2 totals_pageviews [Type of interaction hit]\n",
    "- Page View: A page view occurs whenever someone loads your site in their web browser (not necessary to be from external source). A view is registered every time a page is loaded. "
   ]
  },
  {
   "cell_type": "code",
   "execution_count": null,
   "id": "262beab4-a3d4-40f9-8ba9-819ce69562d8",
   "metadata": {},
   "outputs": [],
   "source": [
    "totals_pageviews_per_user_aggregates_df = get_aggregates_for_numerical_variable_using_groupby_column(con, 'intermediate_train_data', 'totals_pageviews', ['full_visitor_id'])"
   ]
  },
  {
   "cell_type": "code",
   "execution_count": null,
   "id": "01abbf2f-9678-479f-9987-4cd184cf8a13",
   "metadata": {},
   "outputs": [],
   "source": [
    "totals_pageviews_per_user_aggregates_df.loc[:, 'session_type'] = 'single'\n",
    "totals_pageviews_per_user_aggregates_df.loc[totals_pageviews_per_user_aggregates_df.session_count>1, 'session_type'] = 'multiple'"
   ]
  },
  {
   "cell_type": "code",
   "execution_count": null,
   "id": "df713d03-b291-404c-b8d7-31200229e772",
   "metadata": {},
   "outputs": [],
   "source": [
    "totals_pageviews_per_user_aggregates_df.head()"
   ]
  },
  {
   "cell_type": "code",
   "execution_count": null,
   "id": "d1e2f4eb-73fe-4bf5-8583-889db2c87b65",
   "metadata": {},
   "outputs": [],
   "source": [
    "totals_pageviews_per_user_aggregates_df[totals_pageviews_per_user_aggregates_df.session_count>300]"
   ]
  },
  {
   "cell_type": "code",
   "execution_count": null,
   "id": "9974a16c-081c-4e1a-a7f0-390851311468",
   "metadata": {},
   "outputs": [],
   "source": [
    "totals_pageviews_per_user_aggregates_df[totals_pageviews_per_user_aggregates_df.avg_totals_pageviews_per_session>400]"
   ]
  },
  {
   "cell_type": "code",
   "execution_count": null,
   "id": "785323a8-558d-4849-b3c3-1d73648f5903",
   "metadata": {},
   "outputs": [],
   "source": [
    "create_multiple_plots(df=totals_pageviews_per_user_aggregates_df, x='avg_totals_pageviews_per_session', y='session_type', kind='box', title='Each point represents one visitor/ visitor_id')"
   ]
  },
  {
   "cell_type": "markdown",
   "id": "c3a99c9f-52c4-4026-b353-fc2ea458404a",
   "metadata": {},
   "source": [
    "- Avg number of page views per session goes from 1 all the way to >400 page views per session. This might be a good indicator of the interest of the visitor and chances to convert"
   ]
  },
  {
   "cell_type": "code",
   "execution_count": null,
   "id": "07193d10-2b62-499e-a172-f056cd0d573d",
   "metadata": {},
   "outputs": [],
   "source": [
    "sns.scatterplot(data=totals_pageviews_per_user_aggregates_df, x=\"session_count\", y=\"avg_totals_pageviews_per_session\")"
   ]
  },
  {
   "cell_type": "markdown",
   "id": "faa41a40-7c3f-40a6-b941-a0fc86b4fe23",
   "metadata": {},
   "source": [
    "- Clearly, session_count (of a visitor) is not correlated avg_totals_pageviews_per_session.\n",
    "- Some people with 1 session have >400 views per session on average. This indicates string interest (possibly higher chances of converting).\n",
    "- On the other hand people who visit the site across many sessions(e.g. 400) how lower avg_totals_pageviews_per_session. This implies that they may just visit the site to browse and look for options. "
   ]
  },
  {
   "cell_type": "markdown",
   "id": "ff7e3973-29d4-42b8-86c5-9f55dc9d7e59",
   "metadata": {},
   "source": [
    "### 25.3 totals_hits [Interaction + non interaction hits = Screenview hit, PageView Hit, Event Hit, Exception Hit, Ecommerce Hit, Social INteraction Hit, User Timing Hit]\n",
    "- A Hit is an interaction that results in data being sent to Analytics. 2 types: Interaction and non interaction hits"
   ]
  },
  {
   "cell_type": "code",
   "execution_count": null,
   "id": "ef89a928-6cf9-4579-8896-9fde00b05508",
   "metadata": {},
   "outputs": [],
   "source": [
    "totals_hits_per_user_aggregates_df = get_aggregates_for_numerical_variable_using_groupby_column(con, 'intermediate_train_data', 'totals_hits', ['full_visitor_id'])"
   ]
  },
  {
   "cell_type": "code",
   "execution_count": null,
   "id": "1b5238fd-29c8-44ae-9389-03fdd3635edd",
   "metadata": {},
   "outputs": [],
   "source": [
    "totals_hits_per_user_aggregates_df.loc[:, 'session_type'] = 'single'\n",
    "totals_hits_per_user_aggregates_df.loc[totals_hits_per_user_aggregates_df.session_count>1, 'session_type'] = 'multiple'"
   ]
  },
  {
   "cell_type": "code",
   "execution_count": null,
   "id": "9919bab8-77a8-4fa7-951b-7f299e8c5b10",
   "metadata": {},
   "outputs": [],
   "source": [
    "totals_hits_per_user_aggregates_df[totals_hits_per_user_aggregates_df.session_count>300]"
   ]
  },
  {
   "cell_type": "markdown",
   "id": "81e9a5f4-d8c0-4a67-bff1-b694d79200e2",
   "metadata": {},
   "source": [
    "- Clearly, there are some people who have a large distribution of hits per session."
   ]
  },
  {
   "cell_type": "code",
   "execution_count": null,
   "id": "22c4358e-3101-4673-a16a-1e06dc30e2c4",
   "metadata": {},
   "outputs": [],
   "source": [
    "res = con.execute(\"select CAST (totals_hits AS DOUBLE) AS totals_hits from intermediate_train_data where full_visitor_id = '7282998257608986241'\").df()"
   ]
  },
  {
   "cell_type": "code",
   "execution_count": null,
   "id": "202a0526-9e98-48ac-a20a-de869c85a755",
   "metadata": {},
   "outputs": [],
   "source": [
    "sns.histplot(data=res, x='totals_hits').set(title='Example distribution of totals_hits for full_visitor_id = 824839726118485274')"
   ]
  },
  {
   "cell_type": "code",
   "execution_count": null,
   "id": "9653bc9f-8105-4d62-81a8-0ef6a5d018cc",
   "metadata": {},
   "outputs": [],
   "source": [
    "create_multiple_plots(df=totals_hits_per_user_aggregates_df, x='avg_totals_hits_per_session', y='session_type', kind='box', title='Each point represents one visitor/ visitor_id')"
   ]
  },
  {
   "cell_type": "markdown",
   "id": "8cf01d77-284e-47db-8011-6fd88eed4356",
   "metadata": {},
   "source": [
    "## Scatterplot for avg total hits versus avg total page views"
   ]
  },
  {
   "cell_type": "code",
   "execution_count": null,
   "id": "a3c4a0a1-84dc-4e4c-9e1f-d8c61d638cfb",
   "metadata": {},
   "outputs": [],
   "source": [
    "merged_totals_pageviews_per_user_totals_hits_per_user_aggregates_df = totals_pageviews_per_user_aggregates_df.merge(totals_hits_per_user_aggregates_df, left_on='full_visitor_id', right_on='full_visitor_id', how='inner')"
   ]
  },
  {
   "cell_type": "code",
   "execution_count": null,
   "id": "af882b1f-7e5c-46cd-8dad-52067ccd505e",
   "metadata": {},
   "outputs": [],
   "source": [
    "sns.scatterplot(data=merged_totals_pageviews_per_user_totals_hits_per_user_aggregates_df, x=\"avg_totals_pageviews_per_session\", y=\"avg_totals_hits_per_session\")"
   ]
  },
  {
   "cell_type": "markdown",
   "id": "cd388c5f-06bf-4239-abb9-927127d68c88",
   "metadata": {},
   "source": [
    "- It is clear that avg_totals_pageviews_per_session is positively correlated with avg_totals_hits_per_session. This makes sense as pageviews is a type of hit. This means higher the number of page views => higher the number of hits"
   ]
  },
  {
   "cell_type": "markdown",
   "id": "c0a5ed04-d26a-4a34-b87a-597033f1515d",
   "metadata": {},
   "source": [
    "### 25.4 totals_time_on_site"
   ]
  },
  {
   "cell_type": "code",
   "execution_count": null,
   "id": "588c7df9-dc0d-474d-8088-4e5c4c6d5811",
   "metadata": {},
   "outputs": [],
   "source": [
    "totals_time_on_site_per_user_aggregates_df = get_aggregates_for_numerical_variable_using_groupby_column(con, 'intermediate_train_data', 'totals_time_on_site', ['full_visitor_id'])"
   ]
  },
  {
   "cell_type": "code",
   "execution_count": null,
   "id": "13da5204-16f5-4c29-98b4-a61cbbcbce0c",
   "metadata": {},
   "outputs": [],
   "source": [
    "totals_time_on_site_per_user_aggregates_df"
   ]
  },
  {
   "cell_type": "markdown",
   "id": "f756c21f-e229-4298-9e54-b8fe39d31a88",
   "metadata": {},
   "source": [
    "- This column is not recorded for majority of rows. Hence drop it"
   ]
  },
  {
   "cell_type": "markdown",
   "id": "14d59d9e-9ed1-4b85-bb67-5efce8cbc4fb",
   "metadata": {},
   "source": [
    "### 25.4 totals_new_visits"
   ]
  },
  {
   "cell_type": "code",
   "execution_count": null,
   "id": "b59064d7-017b-432a-a875-983357ae5fad",
   "metadata": {},
   "outputs": [],
   "source": [
    "totals_new_visits_per_user_aggregates_df = get_aggregates_for_numerical_variable_using_groupby_column(con, 'intermediate_train_data', 'totals_new_visits', ['full_visitor_id'])"
   ]
  },
  {
   "cell_type": "markdown",
   "id": "a15fe975-6307-413b-9e20-a79624401a5b",
   "metadata": {},
   "source": [
    "- Drop totals_new_visits column"
   ]
  },
  {
   "cell_type": "markdown",
   "id": "ee8252c8-71d7-4350-b64d-97208cb0b068",
   "metadata": {},
   "source": [
    "### 25.5 totals_session_quality_dim -> Drop column"
   ]
  },
  {
   "cell_type": "markdown",
   "id": "87445ba5-c2e9-41b7-bb46-ec94e30fd597",
   "metadata": {},
   "source": [
    "### 25.6 totals_bounces"
   ]
  },
  {
   "cell_type": "code",
   "execution_count": null,
   "id": "e0c7915d-7ed0-4aed-b660-b144655f346b",
   "metadata": {},
   "outputs": [],
   "source": [
    "totals_bounces_per_user_aggregates_df = get_aggregates_for_numerical_variable_using_groupby_column(con, 'intermediate_train_data', 'totals_bounces', ['full_visitor_id'])"
   ]
  },
  {
   "cell_type": "code",
   "execution_count": null,
   "id": "5b9e1042-83de-442e-af29-6b625682f91b",
   "metadata": {},
   "outputs": [],
   "source": [
    "totals_bounces_per_user_aggregates_df.head()"
   ]
  },
  {
   "cell_type": "markdown",
   "id": "5127ca7b-56c2-4eca-95b7-3fc262c479c7",
   "metadata": {},
   "source": [
    "### 25.7 totals_transactions"
   ]
  },
  {
   "cell_type": "code",
   "execution_count": null,
   "id": "e85988a0-9a67-4ec5-a54f-6973dd9c5bcd",
   "metadata": {},
   "outputs": [],
   "source": [
    "totals_transactions_per_user_aggregates_df = get_aggregates_for_numerical_variable_using_groupby_column(con, 'intermediate_train_data', 'totals_transactions', ['full_visitor_id'])"
   ]
  },
  {
   "cell_type": "code",
   "execution_count": null,
   "id": "a2e93869-3c10-4f66-ac10-0aeecccc09cd",
   "metadata": {},
   "outputs": [],
   "source": [
    "totals_transactions_per_user_aggregates_df[~totals_transactions_per_user_aggregates_df['min_totals_transactions_per_session'].isnull()].sort_values(by=['session_count'], ascending=False).head()"
   ]
  },
  {
   "cell_type": "code",
   "execution_count": null,
   "id": "4ddb5d8a-3d82-4dbd-a246-7637aceb02c6",
   "metadata": {},
   "outputs": [],
   "source": [
    "#con.execute(\"select CAST (totals_transactions AS DOUBLE) AS totals_transactions from intermediate_train_data where full_visitor_id = '3269834865385146569'\").df()"
   ]
  },
  {
   "cell_type": "markdown",
   "id": "d6bcb4e1-16cb-4138-bd08-adb50615e9a5",
   "metadata": {},
   "source": [
    "### 25.8 totals_transaction_revenue"
   ]
  },
  {
   "cell_type": "code",
   "execution_count": null,
   "id": "b74128af-770a-4066-8c8b-d4487a4c84c7",
   "metadata": {},
   "outputs": [],
   "source": [
    "totals_transaction_revenue_per_user_aggregates_df = get_aggregates_for_numerical_variable_using_groupby_column(con, 'intermediate_train_data', 'totals_transaction_revenue', ['full_visitor_id'])"
   ]
  },
  {
   "cell_type": "code",
   "execution_count": null,
   "id": "f7574a4a-0ab9-469d-85dc-105e04e3ecd3",
   "metadata": {},
   "outputs": [],
   "source": [
    "totals_transaction_revenue_per_user_aggregates_df.head()"
   ]
  },
  {
   "cell_type": "code",
   "execution_count": null,
   "id": "2b60e05b-b691-45cc-80f1-bacd48a2fb3e",
   "metadata": {},
   "outputs": [],
   "source": [
    "totals_transaction_revenue_per_user_aggregates_df.min_totals_transaction_revenue_per_session.isnull().value_counts(normalize=True)"
   ]
  },
  {
   "cell_type": "markdown",
   "id": "06be1d4e-cc47-4213-95d3-77662ec1bace",
   "metadata": {},
   "source": [
    "- Only 1.2% of visitors ever make a transaction. Remaining 98.7% never make a transaction across all their sessions"
   ]
  },
  {
   "cell_type": "markdown",
   "id": "8f0f18ce-433c-4209-9215-78db614385b3",
   "metadata": {},
   "source": [
    "### 25.9 totals_total_transaction_revenue"
   ]
  },
  {
   "cell_type": "code",
   "execution_count": null,
   "id": "cee206f1-a727-441c-b90d-60d84f6814f1",
   "metadata": {},
   "outputs": [],
   "source": [
    "totals_total_transaction_revenue_per_user_aggregates_df = get_aggregates_for_numerical_variable_using_groupby_column(con, 'intermediate_train_data', 'totals_total_transaction_revenue', ['full_visitor_id'])"
   ]
  },
  {
   "cell_type": "code",
   "execution_count": null,
   "id": "aa0d5be4-18d8-4a48-978a-0a992ecb74ab",
   "metadata": {},
   "outputs": [],
   "source": [
    "totals_total_transaction_revenue_per_user_aggregates_df"
   ]
  },
  {
   "cell_type": "code",
   "execution_count": null,
   "id": "83521fa2-9718-4cab-b364-0e14237f3552",
   "metadata": {},
   "outputs": [],
   "source": [
    "scatter_data = con.execute(\"select CAST(totals_transaction_revenue AS DOUBLE) AS totals_transaction_revenue, CAST(totals_total_transaction_revenue AS DOUBLE) AS totals_total_transaction_revenue from intermediate_train_data\").df()"
   ]
  },
  {
   "cell_type": "code",
   "execution_count": null,
   "id": "75b08e1a-9d28-4346-809a-e8d7e3a4d2c8",
   "metadata": {},
   "outputs": [],
   "source": [
    "sns.scatterplot(data=scatter_data, x=\"totals_transaction_revenue\", y=\"totals_total_transaction_revenue\")"
   ]
  },
  {
   "cell_type": "markdown",
   "id": "ca4de6e0-3494-4414-85b3-9444fe07432e",
   "metadata": {},
   "source": [
    "- Clearly, totals_total_transaction_revenue is correlated with totals_transaction_revenue"
   ]
  },
  {
   "cell_type": "markdown",
   "id": "7b9b7400-e408-442f-a9a7-e422f07be575",
   "metadata": {},
   "source": [
    "## 26. Analyze traffic_source related columns  (https://social.colostate.edu/best-practices/understanding-traffic-source-and-medium-in-google-analytics/, https://www.ceralytics.com/google-analytics-channels/#:~:text=The%20channel%20of%20%E2%80%9Cdisplay%E2%80%9D%20would,is%20used%20in%20display%20advertising.))"
   ]
  },
  {
   "cell_type": "markdown",
   "id": "ae66daf6-75d2-4361-89d9-9c898f65e575",
   "metadata": {},
   "source": [
    "1. <b>traffic_source_source</b>: Source is the origin of your website traffic. It is the actual domain name (website/ platform) that sends traffic to my website\n",
    "2. <b>traffic_source_medium</b>: It is the category of traffic source. Basically how the traffic gets to my site????\n",
    "   - organic: Traffic from search engine results page coming to my website\n",
    "   - social: Traffic from social media websites coming to my website\n",
    "   - referral: Traffic coming from other websites that have links to my website. Referral programs are normally used to get your customers to refer other customers to your service in exchange of a perk, bonus or some sort of benefit. A popular example is what dropbox did, as they were giving extra storage to users referring new users\n",
    "   - email: Traffic coming via email campaigns to my website\n",
    "   - cpc: Cost per click, Traffic originates from clicks on ads that I am running for my business (and reaches my website)\n",
    "   - cpm: CPM stands for cost per mille, which means the cost of reaching 1,000 people with an ad. Paid advertising option where companies pay a price for every 1000 impressions an ad receives (https://sproutsocial.com/glossary/cpm/)\n",
    "   - affiliate: Affiliate programs are used by product owners to financially reward publishers in exchange of referring new customers. Affiliates are not necessarily customers of the actual product/service. https://support.google.com/analytics/thread/21925739/what-is-the-difference-between-affiliate-and-referral-traffic?hl=en\n",
    "   - Direct: Traffic is entirely composed of people who are familiar you’re your brand and know your website. This is the fallback source bucket if traffic does not fall in any of above mentioned categories.\n",
    "3. <b>traffic_source_campaign</b>\n",
    "4. Channel: It is a group of traffic mediums as defined in https://support.google.com/analytics/answer/3297892?hl=en"
   ]
  },
  {
   "cell_type": "markdown",
   "id": "58056ca2-017f-467e-bb12-918caa124485",
   "metadata": {},
   "source": [
    "### 26.1 Analyze traffic_source_source"
   ]
  },
  {
   "cell_type": "code",
   "execution_count": null,
   "id": "7bef64b7-3f27-4395-b276-934b714dc9d2",
   "metadata": {},
   "outputs": [],
   "source": [
    "traffic_source_source_df = get_counts_for_column_entries_ddb_table(con, table_name='intermediate_train_data', count_column_name='traffic_source_source', group_by_column_list=['traffic_source_source'])"
   ]
  },
  {
   "cell_type": "code",
   "execution_count": null,
   "id": "356d8614-0597-447e-b31b-5a500dee361c",
   "metadata": {},
   "outputs": [],
   "source": [
    "traffic_source_source_df"
   ]
  },
  {
   "cell_type": "markdown",
   "id": "8245306f-474f-448d-a98a-23857e2d6881",
   "metadata": {},
   "source": [
    "- We can possibly use embeddings for traffic_source_source. Not sure how to use it"
   ]
  },
  {
   "cell_type": "markdown",
   "id": "ac0fa08b-91ab-4b36-a035-9f8f1db8fc94",
   "metadata": {},
   "source": [
    "### 26.2 Analyze traffic_source_medium"
   ]
  },
  {
   "cell_type": "code",
   "execution_count": null,
   "id": "724f67cc-1348-4f31-887d-f51528ad5b8e",
   "metadata": {},
   "outputs": [],
   "source": [
    "traffic_source_medium_df = get_counts_for_column_entries_ddb_table(con, table_name='intermediate_train_data', count_column_name='traffic_source_medium', group_by_column_list=['traffic_source_medium'])"
   ]
  },
  {
   "cell_type": "code",
   "execution_count": null,
   "id": "1e47f00a-6b08-4a5c-964a-7834f1ed16d2",
   "metadata": {},
   "outputs": [],
   "source": [
    "traffic_source_medium_df"
   ]
  },
  {
   "cell_type": "code",
   "execution_count": null,
   "id": "5d70ad7a-a42b-41cd-8a6e-ca1ba0eda38f",
   "metadata": {},
   "outputs": [],
   "source": [
    "get_separator_separated_values_for_column(con, table_name='intermediate_train_data', count_column_name='traffic_source_source', group_by_column_name='traffic_source_medium', is_distinct_count=True, separator=',')"
   ]
  },
  {
   "cell_type": "markdown",
   "id": "5256d24c-8827-4566-922a-9b34d4b198d5",
   "metadata": {},
   "source": [
    "### 26.3 Analyze traffic_source_campaign"
   ]
  },
  {
   "cell_type": "code",
   "execution_count": null,
   "id": "5af544c2-0a1f-4ef4-bfb2-add9b7acab6d",
   "metadata": {},
   "outputs": [],
   "source": [
    "traffic_source_campaign_df = get_counts_for_column_entries_ddb_table(con, table_name='intermediate_train_data', count_column_name='traffic_source_campaign', group_by_column_list=['traffic_source_campaign'])"
   ]
  },
  {
   "cell_type": "code",
   "execution_count": null,
   "id": "47478b0b-2bec-449b-ae76-0efd65db43e2",
   "metadata": {},
   "outputs": [],
   "source": [
    "traffic_source_campaign_df.iloc[2]['traffic_source_campaign']"
   ]
  },
  {
   "cell_type": "code",
   "execution_count": null,
   "id": "00365b4e-5d2b-4ed7-9ac3-c25b53a83378",
   "metadata": {},
   "outputs": [],
   "source": [
    "traffic_source_adwords_click_info_criteria_parameters"
   ]
  },
  {
   "cell_type": "code",
   "execution_count": null,
   "id": "486a3422-0223-491e-a386-f60385e24497",
   "metadata": {},
   "outputs": [],
   "source": [
    "get_counts_for_column_entries_ddb_table(con, table_name='intermediate_train_data', count_column_name='traffic_source_adwords_click_info_is_video_ad', group_by_column_list=['traffic_source_adwords_click_info_is_video_ad'])"
   ]
  },
  {
   "cell_type": "code",
   "execution_count": null,
   "id": "905ee633-b4f8-4b7f-935a-03a37d496d71",
   "metadata": {},
   "outputs": [],
   "source": [
    "intermediate_data_table.columns"
   ]
  },
  {
   "cell_type": "markdown",
   "id": "d3c115df-6d52-4aa7-8d6e-7be740cc9d30",
   "metadata": {},
   "source": [
    "## TODO:\n",
    "1. Delete visit_number, social_engagement_type, geo_network_region, geo_network_metro, geo_network_city, geo_network_city_id, geo_network_network_domain, geo_network_latitude, geo_network_longitude, geo_network_network_location, device_browser_version, device_browser_size, device_operating_system_version, device_mobile_device_branding, device_mobile_device_model, device_mobile_input_selector, device_mobile_device_info, device_mobile_device_marketing_name, device_flash_version, device_language, device_screen_colors, device_screen_resolution, totals_time_on_site, totals_new_visits, totals_session_quality_dim\n",
    "2. Convert visit_start_time to date. Also try to map it to local time where the person was located wrt UTC\n",
    "3. Column: geo_network_continent, geo_network_sub_continent, geo_network_country, geo_network_region, geo_network_network_domain, device_operating_system, traffic_source_medium, traffic_source_source => Replace (not set) with 'unknown' AND reaplce (none) with 'not_applicable'\n",
    "4. Set datatype to numeric: totals_visits\n",
    "5. Use totals_transaction_revenue column to create GT labels"
   ]
  },
  {
   "cell_type": "markdown",
   "id": "76c9efce-8391-4eac-8249-32de232cf859",
   "metadata": {},
   "source": [
    "## Ideas:\n",
    "1. Can get income level for visitor from geo_network_city.??\n",
    "2. FEATURE: Number of transactions/session\n",
    "3. Use embeddings for traffic_source_source. Not sure how to use it (https://github.com/dns-vsm/embeddings)"
   ]
  },
  {
   "cell_type": "code",
   "execution_count": null,
   "id": "81c6e587-951b-4f4a-95c3-1493942d2c66",
   "metadata": {},
   "outputs": [],
   "source": [
    "get_counts_for_column_entries_ddb_table(con, table_name='intermediate_train_data', count_column_name='unique_row_identifier', group_by_column_list=['unique_row_identifier']).sort_values(by=['row_count_unique_row_identifier'], ascending=False).head(20)"
   ]
  },
  {
   "cell_type": "code",
   "execution_count": null,
   "id": "1f301f59-9c5d-4a28-ad14-f09c17111100",
   "metadata": {},
   "outputs": [],
   "source": [
    "vv = con.execute(\"select * from intermediate_train_data where unique_row_identifier='7398014062773800238_1484898017'\").df()"
   ]
  },
  {
   "cell_type": "code",
   "execution_count": null,
   "id": "42f5da00-7f6d-4f21-934a-bf0f6e3a9194",
   "metadata": {},
   "outputs": [],
   "source": [
    "vv"
   ]
  },
  {
   "cell_type": "code",
   "execution_count": null,
   "id": "6bb32943-ab23-4a74-8121-d4c646e7762e",
   "metadata": {},
   "outputs": [],
   "source": [
    "vv['totals_visits']"
   ]
  },
  {
   "cell_type": "code",
   "execution_count": null,
   "id": "9f27b225-4e85-432f-81df-d513a03ec572",
   "metadata": {},
   "outputs": [],
   "source": [
    "vv"
   ]
  },
  {
   "cell_type": "code",
   "execution_count": null,
   "id": "3f5d847b-a757-401c-9b52-a295b5935ee5",
   "metadata": {},
   "outputs": [],
   "source": [
    "con.execute(\"select full_visitor_id, MAX(visit_number) from intermediate_train_data group by full_visitor_id\").df()"
   ]
  },
  {
   "cell_type": "code",
   "execution_count": null,
   "id": "542ab7cb-7e46-453b-802e-d8f4c4778636",
   "metadata": {},
   "outputs": [],
   "source": [
    "vv = con.execute(\"select * from intermediate_train_data where full_visitor_id='1849296749677350469' ORDER BY CAST(visit_start_time AS DOUBLE) ASC\").df()"
   ]
  },
  {
   "cell_type": "code",
   "execution_count": null,
   "id": "e2b4a8c2-c0c9-4a90-a82e-41dba9b8ad40",
   "metadata": {},
   "outputs": [],
   "source": [
    "vv.transpose()"
   ]
  },
  {
   "cell_type": "code",
   "execution_count": null,
   "id": "cd058069-058d-463f-ac4c-3f3223fc38b1",
   "metadata": {},
   "outputs": [],
   "source": []
  }
 ],
 "metadata": {
  "kernelspec": {
   "display_name": "personal_env",
   "language": "python",
   "name": "personal_env"
  },
  "language_info": {
   "codemirror_mode": {
    "name": "ipython",
    "version": 3
   },
   "file_extension": ".py",
   "mimetype": "text/x-python",
   "name": "python",
   "nbconvert_exporter": "python",
   "pygments_lexer": "ipython3",
   "version": "3.9.17"
  }
 },
 "nbformat": 4,
 "nbformat_minor": 5
}
