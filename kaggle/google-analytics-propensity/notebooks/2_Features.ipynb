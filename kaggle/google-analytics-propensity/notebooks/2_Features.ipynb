{
 "cells": [
  {
   "cell_type": "code",
   "execution_count": 3,
   "id": "c366a142-e868-4d7e-953f-74ed23581833",
   "metadata": {},
   "outputs": [
    {
     "name": "stdout",
     "output_type": "stream",
     "text": [
      "The autoreload extension is already loaded. To reload it, use:\n",
      "  %reload_ext autoreload\n"
     ]
    }
   ],
   "source": [
    "%load_ext autoreload\n",
    "%autoreload 2"
   ]
  },
  {
   "cell_type": "code",
   "execution_count": 4,
   "id": "ea59134d-b1dd-4d23-9975-00eb955a3c2b",
   "metadata": {},
   "outputs": [],
   "source": [
    "import sys\n",
    "import os\n",
    "os.chdir(os.path.abspath(\"../src\"))"
   ]
  },
  {
   "cell_type": "code",
   "execution_count": 5,
   "id": "d5ab7453-8727-4687-8782-45d967dc5f16",
   "metadata": {},
   "outputs": [],
   "source": [
    "import duckdb as ddb, ibis"
   ]
  },
  {
   "cell_type": "code",
   "execution_count": 6,
   "id": "be8dfd2b-ee5f-4196-85d6-3e642a30d6d0",
   "metadata": {},
   "outputs": [],
   "source": [
    "import seaborn as sns\n",
    "import matplotlib.pyplot as plt"
   ]
  },
  {
   "cell_type": "markdown",
   "id": "55c56145-91e9-4fdd-839a-b871b6e3ea67",
   "metadata": {},
   "source": [
    "## Constants"
   ]
  },
  {
   "cell_type": "code",
   "execution_count": 8,
   "id": "11949197-fd95-4361-93ef-639341ee60f9",
   "metadata": {},
   "outputs": [],
   "source": [
    "database_folder_path = '../data/duckdb'\n",
    "ddb_file_name = 'primary_clean_files.db'"
   ]
  },
  {
   "cell_type": "markdown",
   "id": "3eeeb0b1-f16c-44cd-aabf-da107ee8fa09",
   "metadata": {},
   "source": [
    "## Functions"
   ]
  },
  {
   "cell_type": "code",
   "execution_count": 12,
   "id": "86d55df5-30a9-4047-9527-826b9baf2870",
   "metadata": {},
   "outputs": [],
   "source": [
    "def get_row_column_count_in_ddb_table(con, table_name):\n",
    "    row_count_df = con.execute(f\"select count(*) as row_count from {table_name};\").df()\n",
    "    row_count = row_count_df['row_count'].loc[0]\n",
    "\n",
    "    column_count_df = con.execute(f\"select count(*) as column_count from information_schema.columns where table_name = '{table_name}';\").df()\n",
    "    column_count = column_count_df['column_count'].loc[0]\n",
    "    return (row_count, column_count)"
   ]
  },
  {
   "cell_type": "markdown",
   "id": "c755c008-8549-4c41-a1d5-bf71f7a81481",
   "metadata": {},
   "source": [
    "## Create a connection to duckdb file and register primary_clean_files"
   ]
  },
  {
   "cell_type": "code",
   "execution_count": 9,
   "id": "9de56876-4f84-4e7d-955e-ba33e1aa719c",
   "metadata": {},
   "outputs": [],
   "source": [
    "#con = ibis.duckdb.connect(database=os.path.join(database_folder_path, ddb_file_name), read_only=True)\n",
    "con = ddb.connect(database=os.path.join(database_folder_path, ddb_file_name), read_only=True)"
   ]
  },
  {
   "cell_type": "code",
   "execution_count": 10,
   "id": "0c374889-3735-4261-a53b-34dcc5c0e1f1",
   "metadata": {},
   "outputs": [],
   "source": [
    "primary_clean_train_data_table = con.table('primary_clean_train_data')"
   ]
  },
  {
   "cell_type": "code",
   "execution_count": 13,
   "id": "bc5df8a1-680d-4c46-bfee-fddc38e3211a",
   "metadata": {},
   "outputs": [
    {
     "name": "stdout",
     "output_type": "stream",
     "text": [
      "Shape of table: (1708337, 38)\n"
     ]
    }
   ],
   "source": [
    "print(f\"Shape of table: {get_row_column_count_in_ddb_table(con, 'primary_clean_train_data')}\")"
   ]
  },
  {
   "cell_type": "markdown",
   "id": "086dd1d5-5bf4-4427-a253-641d41074e73",
   "metadata": {},
   "source": [
    "## Problem Statement: Train a classification model that gives the propensity of a customer/ visitor to engage in a transaction."
   ]
  },
  {
   "cell_type": "markdown",
   "id": "9f004906-8c9a-417f-8b73-9a05b3e73b77",
   "metadata": {},
   "source": [
    "## 1. GT column:totals_transaction_revenue"
   ]
  },
  {
   "cell_type": "code",
   "execution_count": 14,
   "id": "22c339fc-18d2-46e2-bf0d-04940d21547f",
   "metadata": {},
   "outputs": [
    {
     "data": {
      "text/plain": [
       "['channel_grouping',\n",
       " 'date',\n",
       " 'full_visitor_id',\n",
       " 'visit_id',\n",
       " 'visit_start_time',\n",
       " 'device_browser',\n",
       " 'device_operating_system',\n",
       " 'device_is_mobile',\n",
       " 'device_device_category',\n",
       " 'geo_network_continent',\n",
       " 'geo_network_sub_continent',\n",
       " 'geo_network_country',\n",
       " 'geo_network_region',\n",
       " 'geo_network_metro',\n",
       " 'geo_network_city',\n",
       " 'geo_network_city_id',\n",
       " 'geo_network_network_domain',\n",
       " 'traffic_source_source',\n",
       " 'traffic_source_medium',\n",
       " 'traffic_source_is_true_direct',\n",
       " 'traffic_source_adwords_click_info_criteria_parameters',\n",
       " 'traffic_source_referral_path',\n",
       " 'traffic_source_keyword',\n",
       " 'traffic_source_ad_content',\n",
       " 'traffic_source_adwords_click_info_page',\n",
       " 'traffic_source_adwords_click_info_slot',\n",
       " 'traffic_source_adwords_click_info_gcl_id',\n",
       " 'traffic_source_adwords_click_info_ad_network_type',\n",
       " 'traffic_source_adwords_click_info_is_video_ad',\n",
       " 'totals_visits',\n",
       " 'totals_hits',\n",
       " 'totals_pageviews',\n",
       " 'totals_time_on_site',\n",
       " 'totals_transactions',\n",
       " 'totals_transaction_revenue',\n",
       " 'unique_session_identifier',\n",
       " 'utc_visit_start_time',\n",
       " 'date_object']"
      ]
     },
     "execution_count": 14,
     "metadata": {},
     "output_type": "execute_result"
    }
   ],
   "source": [
    "primary_clean_train_data_table.columns"
   ]
  },
  {
   "cell_type": "code",
   "execution_count": null,
   "id": "d4cda3c0-940f-497b-be31-2427e103c1ae",
   "metadata": {},
   "outputs": [],
   "source": []
  }
 ],
 "metadata": {
  "kernelspec": {
   "display_name": "personal_env",
   "language": "python",
   "name": "personal_env"
  },
  "language_info": {
   "codemirror_mode": {
    "name": "ipython",
    "version": 3
   },
   "file_extension": ".py",
   "mimetype": "text/x-python",
   "name": "python",
   "nbconvert_exporter": "python",
   "pygments_lexer": "ipython3",
   "version": "3.9.17"
  }
 },
 "nbformat": 4,
 "nbformat_minor": 5
}
