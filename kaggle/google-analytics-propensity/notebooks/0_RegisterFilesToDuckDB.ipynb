{
 "cells": [
  {
   "cell_type": "code",
   "execution_count": 1,
   "id": "a75aad24-dc19-4ca4-9cb2-1295d5525580",
   "metadata": {},
   "outputs": [],
   "source": [
    "%load_ext autoreload\n",
    "%autoreload 2"
   ]
  },
  {
   "cell_type": "code",
   "execution_count": 2,
   "id": "b6ad75c4-d5b2-4ed4-ab7a-47e10db1666f",
   "metadata": {},
   "outputs": [
    {
     "data": {
      "text/html": [
       "<style>.container { width:100% !important; }</style>"
      ],
      "text/plain": [
       "<IPython.core.display.HTML object>"
      ]
     },
     "metadata": {},
     "output_type": "display_data"
    }
   ],
   "source": [
    "from IPython.display import display, HTML\n",
    "display(HTML(\"<style>.container { width:100% !important; }</style>\"))"
   ]
  },
  {
   "cell_type": "code",
   "execution_count": 3,
   "id": "f4656d9e-0193-473f-aa5e-964ee519932a",
   "metadata": {},
   "outputs": [],
   "source": [
    "import sys\n",
    "import os\n",
    "os.chdir(os.path.abspath(\"../src\"))"
   ]
  },
  {
   "cell_type": "code",
   "execution_count": null,
   "id": "999871f9-947f-4d30-b199-82c639fbb747",
   "metadata": {},
   "outputs": [],
   "source": [
    "import duckdb as ddb, ibis"
   ]
  },
  {
   "cell_type": "code",
   "execution_count": null,
   "id": "56d453a3-0ada-4dda-a256-38bfea76f3ef",
   "metadata": {},
   "outputs": [],
   "source": [
    "database_folder_path = '../data/duckdb'\n",
    "ddb_file_name = 'intermediate_files.db'"
   ]
  },
  {
   "cell_type": "code",
   "execution_count": null,
   "id": "26f5c7e4-65e2-4215-ba86-8ce1d05971a4",
   "metadata": {},
   "outputs": [],
   "source": [
    "#con = ibis.duckdb.connect(database=os.path.join(database_folder_path, ddb_file_name), read_only=False)"
   ]
  },
  {
   "cell_type": "markdown",
   "id": "6c02de31-f531-43dc-8e1d-17604b52af4d",
   "metadata": {},
   "source": [
    "## Register parquet files in 02_intermediate/train to con"
   ]
  },
  {
   "cell_type": "code",
   "execution_count": null,
   "id": "80774a74-9d08-445f-9039-9710021a7acb",
   "metadata": {},
   "outputs": [],
   "source": [
    "def register_files_to_table(con: ddb.DuckDBPyConnection, file_path: str, table_name: str):\n",
    "    sql_statement = f\"begin transaction; drop table if exists {table_name}; create table {table_name} AS select * from read_parquet('{file_path}'); commit transaction;\"\n",
    "    print(sql_statement)\n",
    "    con.execute(sql_statement)\n",
    "    row_count = con.execute(f\"select count(*) from {table_name};\")\n",
    "    return row_count"
   ]
  },
  {
   "cell_type": "code",
   "execution_count": null,
   "id": "8981a33d-afb2-4879-9ee0-fa9a6b752644",
   "metadata": {},
   "outputs": [],
   "source": [
    "con = ddb.connect(database=os.path.join(database_folder_path, ddb_file_name), read_only=False)"
   ]
  },
  {
   "cell_type": "code",
   "execution_count": null,
   "id": "a7cb370a-3823-465f-b2e1-339028918643",
   "metadata": {},
   "outputs": [],
   "source": [
    "count_df = register_files_to_table(con, '../data/02_intermediate/train/*.parquet', 'intermediate_train_data')"
   ]
  },
  {
   "cell_type": "code",
   "execution_count": null,
   "id": "b06ea98f-d0a8-44a2-9c5b-7637fed3da92",
   "metadata": {},
   "outputs": [],
   "source": [
    "count_df.df()"
   ]
  },
  {
   "cell_type": "code",
   "execution_count": 5,
   "id": "0f7a8d1e-8e25-4415-a8fd-9267e5343aed",
   "metadata": {},
   "outputs": [],
   "source": [
    "import pandas as pd"
   ]
  },
  {
   "cell_type": "code",
   "execution_count": 30,
   "id": "dc5691a9-761f-49a8-9a7b-7bf8bffa8803",
   "metadata": {},
   "outputs": [],
   "source": [
    "df = pd.read_parquet('/Users/hardiksahi/Personal/MachineLearning/kaggle/google-analytics-propensity/data/02_intermediate/train/subset_5.parquet')"
   ]
  },
  {
   "cell_type": "code",
   "execution_count": 32,
   "id": "88646698-e11d-4c50-a074-e0e60d302010",
   "metadata": {},
   "outputs": [
    {
     "data": {
      "text/plain": [
       "traffic_source_campaign_code\n",
       "11251kjhkvahf    1\n",
       "Name: count, dtype: int64"
      ]
     },
     "execution_count": 32,
     "metadata": {},
     "output_type": "execute_result"
    }
   ],
   "source": [
    "df['traffic_source_campaign_code'].value_counts()"
   ]
  },
  {
   "cell_type": "code",
   "execution_count": 29,
   "id": "dc53e7f5-929e-4756-a05c-c797bd2ab75a",
   "metadata": {},
   "outputs": [
    {
     "name": "stdout",
     "output_type": "stream",
     "text": [
      "totals_transaction_revenue\n"
     ]
    }
   ],
   "source": [
    "for col in df.columns:\n",
    "    if '7427430000' in df[col].tolist():\n",
    "        print(col)"
   ]
  },
  {
   "cell_type": "code",
   "execution_count": 27,
   "id": "a0850a61-800d-4777-9370-51cc9bf7baef",
   "metadata": {},
   "outputs": [
    {
     "data": {
      "text/plain": [
       "201563     24490000\n",
       "201726     22930000\n",
       "201727     26230000\n",
       "201730     24500000\n",
       "201731    469980000\n",
       "            ...    \n",
       "219597    456910000\n",
       "219603    119260000\n",
       "219606     59950000\n",
       "219609     68100000\n",
       "219611    850940000\n",
       "Name: totals_total_transaction_revenue, Length: 256, dtype: object"
      ]
     },
     "execution_count": 27,
     "metadata": {},
     "output_type": "execute_result"
    }
   ],
   "source": [
    "df[~df['totals_total_transaction_revenue'].isnull()]['totals_total_transaction_revenue']"
   ]
  },
  {
   "cell_type": "code",
   "execution_count": null,
   "id": "82ab030b-88c8-42c6-b7f1-9b6c2af26aa7",
   "metadata": {},
   "outputs": [],
   "source": []
  },
  {
   "cell_type": "code",
   "execution_count": 19,
   "id": "064ceffb-639e-41a7-9922-c7014b750719",
   "metadata": {},
   "outputs": [
    {
     "data": {
      "text/plain": [
       "totals_pageviews\n",
       "1      10009\n",
       "2       3540\n",
       "3       1604\n",
       "4        968\n",
       "5        757\n",
       "       ...  \n",
       "119        1\n",
       "78         1\n",
       "72         1\n",
       "81         1\n",
       "86         1\n",
       "Name: count, Length: 70, dtype: int64"
      ]
     },
     "execution_count": 19,
     "metadata": {},
     "output_type": "execute_result"
    }
   ],
   "source": [
    "df['totals_pageviews'].value_counts()"
   ]
  },
  {
   "cell_type": "code",
   "execution_count": 11,
   "id": "5cfd1a52-ff7f-47f6-96fa-e4b0e6915547",
   "metadata": {},
   "outputs": [
    {
     "data": {
      "text/plain": [
       "60"
      ]
     },
     "execution_count": 11,
     "metadata": {},
     "output_type": "execute_result"
    }
   ],
   "source": [
    "len(df.columns)"
   ]
  },
  {
   "cell_type": "code",
   "execution_count": null,
   "id": "1f04b976-d1a1-4a9e-84ac-2037b2743e78",
   "metadata": {},
   "outputs": [],
   "source": [
    "df.columns"
   ]
  }
 ],
 "metadata": {
  "kernelspec": {
   "display_name": "personal_env",
   "language": "python",
   "name": "personal_env"
  },
  "language_info": {
   "codemirror_mode": {
    "name": "ipython",
    "version": 3
   },
   "file_extension": ".py",
   "mimetype": "text/x-python",
   "name": "python",
   "nbconvert_exporter": "python",
   "pygments_lexer": "ipython3",
   "version": "3.9.17"
  }
 },
 "nbformat": 4,
 "nbformat_minor": 5
}
