{
 "cells": [
  {
   "cell_type": "code",
   "execution_count": null,
   "id": "a75aad24-dc19-4ca4-9cb2-1295d5525580",
   "metadata": {},
   "outputs": [],
   "source": [
    "%load_ext autoreload\n",
    "%autoreload 2"
   ]
  },
  {
   "cell_type": "code",
   "execution_count": null,
   "id": "b6ad75c4-d5b2-4ed4-ab7a-47e10db1666f",
   "metadata": {},
   "outputs": [],
   "source": [
    "from IPython.display import display, HTML\n",
    "display(HTML(\"<style>.container { width:100% !important; }</style>\"))"
   ]
  },
  {
   "cell_type": "code",
   "execution_count": null,
   "id": "f4656d9e-0193-473f-aa5e-964ee519932a",
   "metadata": {},
   "outputs": [],
   "source": [
    "import sys\n",
    "import os\n",
    "os.chdir(os.path.abspath(\"../src\"))"
   ]
  },
  {
   "cell_type": "code",
   "execution_count": null,
   "id": "999871f9-947f-4d30-b199-82c639fbb747",
   "metadata": {},
   "outputs": [],
   "source": [
    "import duckdb as ddb, ibis"
   ]
  },
  {
   "cell_type": "code",
   "execution_count": null,
   "id": "56d453a3-0ada-4dda-a256-38bfea76f3ef",
   "metadata": {},
   "outputs": [],
   "source": [
    "database_folder_path = '../data/duckdb'\n",
    "ddb_file_name = 'primary_clean_files.db'"
   ]
  },
  {
   "cell_type": "code",
   "execution_count": null,
   "id": "26f5c7e4-65e2-4215-ba86-8ce1d05971a4",
   "metadata": {},
   "outputs": [],
   "source": [
    "#con = ibis.duckdb.connect(database=os.path.join(database_folder_path, ddb_file_name), read_only=False)"
   ]
  },
  {
   "cell_type": "markdown",
   "id": "6c02de31-f531-43dc-8e1d-17604b52af4d",
   "metadata": {},
   "source": [
    "## Register parquet files in 02_intermediate/train to con"
   ]
  },
  {
   "cell_type": "code",
   "execution_count": null,
   "id": "80774a74-9d08-445f-9039-9710021a7acb",
   "metadata": {},
   "outputs": [],
   "source": [
    "def register_files_to_table(con: ddb.DuckDBPyConnection, file_path: str, table_name: str):\n",
    "    sql_statement = f\"begin transaction; drop table if exists {table_name}; create table {table_name} AS select * from read_parquet('{file_path}'); commit transaction;\"\n",
    "    print(sql_statement)\n",
    "    con.execute(sql_statement)\n",
    "    row_count = con.execute(f\"select count(*) from {table_name};\")\n",
    "    return row_count"
   ]
  },
  {
   "cell_type": "code",
   "execution_count": null,
   "id": "8981a33d-afb2-4879-9ee0-fa9a6b752644",
   "metadata": {},
   "outputs": [],
   "source": [
    "con = ddb.connect(database=os.path.join(database_folder_path, ddb_file_name), read_only=False)"
   ]
  },
  {
   "cell_type": "code",
   "execution_count": null,
   "id": "a7cb370a-3823-465f-b2e1-339028918643",
   "metadata": {},
   "outputs": [],
   "source": [
    "count_df = register_files_to_table(con, '../data/03_primary/train/clean/*.parquet', 'primary_clean_train_data')"
   ]
  },
  {
   "cell_type": "code",
   "execution_count": null,
   "id": "b06ea98f-d0a8-44a2-9c5b-7637fed3da92",
   "metadata": {},
   "outputs": [],
   "source": [
    "count_df.df()"
   ]
  },
  {
   "cell_type": "code",
   "execution_count": null,
   "id": "ad2c022f-0507-4340-a01c-c09bc77ec814",
   "metadata": {},
   "outputs": [],
   "source": []
  }
 ],
 "metadata": {
  "kernelspec": {
   "display_name": "personal_env",
   "language": "python",
   "name": "personal_env"
  },
  "language_info": {
   "codemirror_mode": {
    "name": "ipython",
    "version": 3
   },
   "file_extension": ".py",
   "mimetype": "text/x-python",
   "name": "python",
   "nbconvert_exporter": "python",
   "pygments_lexer": "ipython3",
   "version": "3.9.17"
  }
 },
 "nbformat": 4,
 "nbformat_minor": 5
}
