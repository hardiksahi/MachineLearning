{
 "cells": [
  {
   "cell_type": "code",
   "execution_count": 1,
   "id": "3bb67328-30c2-466e-a30b-c827e91b08f2",
   "metadata": {},
   "outputs": [],
   "source": [
    "%load_ext autoreload\n",
    "%autoreload 2"
   ]
  },
  {
   "cell_type": "code",
   "execution_count": 2,
   "id": "3fb4977d-dffe-408c-bb3e-96f5177b7237",
   "metadata": {},
   "outputs": [
    {
     "data": {
      "text/html": [
       "<style>:root { --jp-notebook-max-width: 100% !important; }</style>"
      ],
      "text/plain": [
       "<IPython.core.display.HTML object>"
      ]
     },
     "metadata": {},
     "output_type": "display_data"
    }
   ],
   "source": [
    "from IPython.display import display, HTML\n",
    "display(HTML(\"<style>:root { --jp-notebook-max-width: 100% !important; }</style>\"))"
   ]
  },
  {
   "cell_type": "code",
   "execution_count": 3,
   "id": "854f3c02-fba3-4eca-aba2-28475414f66d",
   "metadata": {},
   "outputs": [],
   "source": [
    "import pandas as pd\n",
    "import numpy as np"
   ]
  },
  {
   "cell_type": "code",
   "execution_count": 4,
   "id": "fc372d5e-669b-491e-8b06-bb807ef02c0b",
   "metadata": {},
   "outputs": [],
   "source": [
    "import sys\n",
    "import os\n",
    "from collections import defaultdict, Counter"
   ]
  },
  {
   "cell_type": "code",
   "execution_count": 5,
   "id": "76c511bf-2625-4232-9581-893b52855dd9",
   "metadata": {},
   "outputs": [],
   "source": [
    "import math"
   ]
  },
  {
   "cell_type": "code",
   "execution_count": 6,
   "id": "b4755f23-ee07-4f30-bb55-9a6950683133",
   "metadata": {},
   "outputs": [],
   "source": [
    "import seaborn as sns\n",
    "import matplotlib.pyplot as plt "
   ]
  },
  {
   "cell_type": "markdown",
   "id": "13c47012-4b97-4417-be24-1b4972b0b3c0",
   "metadata": {},
   "source": [
    "## Constants"
   ]
  },
  {
   "cell_type": "code",
   "execution_count": 7,
   "id": "845a40a8-3299-4e6f-9bb6-9b82f1a302a2",
   "metadata": {},
   "outputs": [],
   "source": [
    "data_path = \"/Users/hardiksahi/Personal/MachineLearning/kaggle/home-credit-risk-model-stability/data/01_raw/home-credit-credit-risk-model-stability\""
   ]
  },
  {
   "cell_type": "markdown",
   "id": "c4de153a-7b7f-45a7-af4c-b99e6f3381e3",
   "metadata": {},
   "source": [
    "## Get paths of files"
   ]
  },
  {
   "cell_type": "code",
   "execution_count": 8,
   "id": "38dc336c-2c76-4490-8443-3cec7e4f758d",
   "metadata": {},
   "outputs": [],
   "source": [
    "base_file_dict = defaultdict(list)\n",
    "other_1_file_dict = defaultdict(list)\n",
    "for dirname, _, filenames in os.walk(data_path):\n",
    "    for filename in filenames:\n",
    "        file_path = os.path.join(dirname, filename)\n",
    "        if file_path.endswith('parquet'):\n",
    "            file_type = 'train' if 'train' in file_path else 'test'\n",
    "            if 'base' in file_path:\n",
    "                base_file_dict[file_type].append(file_path)\n",
    "            if 'other_1' in file_path:\n",
    "                other_1_file_dict[file_type].append(file_path)"
   ]
  },
  {
   "cell_type": "code",
   "execution_count": 9,
   "id": "00329a12-be0f-4072-9564-beb8cd6962b6",
   "metadata": {},
   "outputs": [
    {
     "data": {
      "text/plain": [
       "['/Users/hardiksahi/Personal/MachineLearning/kaggle/home-credit-risk-model-stability/data/01_raw/home-credit-credit-risk-model-stability/parquet_files/train/train_other_1.parquet']"
      ]
     },
     "execution_count": 9,
     "metadata": {},
     "output_type": "execute_result"
    }
   ],
   "source": [
    "other_1_file_dict.get(\"train\")"
   ]
  },
  {
   "cell_type": "markdown",
   "id": "4c39bc27-08de-4139-b317-f011454495cb",
   "metadata": {},
   "source": [
    "## Functions"
   ]
  },
  {
   "cell_type": "code",
   "execution_count": 10,
   "id": "09b11097-6170-4780-be86-d0a97d98c39f",
   "metadata": {},
   "outputs": [],
   "source": [
    "def get_column_description(feature_def_df, column_name):\n",
    "    return feature_def_df[feature_def_df.Variable == column_name]['Description'].iloc[0]"
   ]
  },
  {
   "cell_type": "code",
   "execution_count": 11,
   "id": "00acefb2-0f64-452f-9dbd-967b04505407",
   "metadata": {},
   "outputs": [],
   "source": [
    "def plot_scatterplot(df, x_col_name, y_col_name, show_x_y_line=False):\n",
    "    assert x_col_name in df.columns, f\"Ensure that {x_col_name} is in the df\"\n",
    "    assert y_col_name in df.columns, f\"Ensure that {y_col_name} is in the df\"\n",
    "    \n",
    "    fig, axs = plt.subplots()\n",
    "    sns.scatterplot(data=df, x=df[x_col_name], y=df[y_col_name], ax=axs)\n",
    "    \n",
    "    if show_x_y_line:\n",
    "        df[x_col_name] = df[x_col_name].replace([np.inf, -np.inf], np.nan)\n",
    "        df[y_col_name] = df[y_col_name].replace([np.inf, -np.inf], np.nan)\n",
    "        not_null_x_filter = ~df[x_col_name].isnull()\n",
    "        not_null_y_filter = ~df[y_col_name].isnull()\n",
    "        not_null_filter = not_null_x_filter & not_null_y_filter\n",
    "        filtered_df = df[not_null_filter]\n",
    "        x_values_series = filtered_df[x_col_name]\n",
    "        y_values_series = filtered_df[y_col_name]\n",
    "        x0, x1 = min(x_values_series), max(x_values_series)\n",
    "        y0, y1 = min(y_values_series), max(y_values_series)\n",
    "        #line_values = [i for i in np.arange(min(x0, y0), max(x1, y1), 0.1)]\n",
    "        lims = [min(x0, y0), max(x1, y1)]\n",
    "        print(f\"lims: {lims}\")\n",
    "        plt.plot(lims, lims)\n",
    "    return fig"
   ]
  },
  {
   "cell_type": "code",
   "execution_count": 12,
   "id": "f652e2c5-48f2-4ebf-8b48-4c2baa5e3b81",
   "metadata": {},
   "outputs": [],
   "source": [
    "def get_percent_of_column(df, groupby_column, target_column):\n",
    "    target_df = df.groupby(by=[groupby_column]).agg({target_column:\"sum\"}).reset_index()\n",
    "    all_rows_df = df.groupby(by=[groupby_column]).size().reset_index().rename({0:\"total_rows\"}, axis=1)\n",
    "    merged_df = target_df.merge(all_rows_df, left_on=[groupby_column], right_on=[groupby_column], how=\"left\")\n",
    "    merged_df[\"percentage_default\"] = 100*merged_df[\"target\"]/merged_df[\"total_rows\"]\n",
    "    merged_df[groupby_column] = merged_df[groupby_column].astype(str)\n",
    "    return merged_df"
   ]
  },
  {
   "cell_type": "code",
   "execution_count": 13,
   "id": "78e46fba-b469-4755-b8b7-c68161d5a306",
   "metadata": {},
   "outputs": [],
   "source": [
    "def plot_barplot(df, percent_column, category_column):\n",
    "    fig, ax = plt.subplots(1,1,figsize=(8,5))\n",
    "    sns.barplot(ax=ax, data=df, y=category_column, x=percent_column, order=df.sort_values(by=[percent_column], ascending=False)[category_column].values)\n",
    "    return fig"
   ]
  },
  {
   "cell_type": "code",
   "execution_count": 34,
   "id": "99e43f9c-d7f1-4c39-831c-fdddae263ea2",
   "metadata": {},
   "outputs": [],
   "source": [
    "def get_relevant_indices(series):\n",
    "    percentile_25 = series.quantile(0.25)\n",
    "    percentile_75 = series.quantile(0.75)\n",
    "    iqr = percentile_75-percentile_25\n",
    "    upper_limit = percentile_75 + 1.5*iqr\n",
    "    lower_limit = percentile_25 - 1.5*iqr\n",
    "\n",
    "    keep_indices = series[(series>=lower_limit) & (series<=upper_limit)].index\n",
    "    return keep_indices "
   ]
  },
  {
   "cell_type": "markdown",
   "id": "42c9b613-f496-4e80-968b-8b03a19bc5b2",
   "metadata": {},
   "source": [
    "## Read datasets"
   ]
  },
  {
   "cell_type": "code",
   "execution_count": 14,
   "id": "284e3f94-6f38-4528-a2f3-55385fc43576",
   "metadata": {},
   "outputs": [
    {
     "name": "stdout",
     "output_type": "stream",
     "text": [
      "Shape of feature_df: (465, 2)\n"
     ]
    }
   ],
   "source": [
    "feature_df = pd.read_csv(f\"{data_path}/feature_definitions.csv\")\n",
    "print(f\"Shape of feature_df: {feature_df.shape}\")"
   ]
  },
  {
   "cell_type": "markdown",
   "id": "4563d03c-03bc-4ee9-9af6-2e05c22814c7",
   "metadata": {},
   "source": [
    "## Properties: depth=1, internal data source"
   ]
  },
  {
   "cell_type": "code",
   "execution_count": 15,
   "id": "7cbddef1-b6b6-451c-8cd1-5210e66b102e",
   "metadata": {},
   "outputs": [
    {
     "name": "stdout",
     "output_type": "stream",
     "text": [
      "Shape of train_other_1_df: (51109, 7)\n"
     ]
    }
   ],
   "source": [
    "train_other_1_df = pd.concat([pd.read_parquet(file_path) for file_path in other_1_file_dict['train']], axis=0)\n",
    "print(f\"Shape of train_other_1_df: {train_other_1_df.shape}\")"
   ]
  },
  {
   "cell_type": "markdown",
   "id": "9a63c48a-ba8c-4dec-ae48-a440a11b9086",
   "metadata": {},
   "source": [
    "## This means that there are multiple rows for each case_id indexed by num_group1"
   ]
  },
  {
   "cell_type": "code",
   "execution_count": 18,
   "id": "f763aa57-a789-4913-9bb0-254a325f34ba",
   "metadata": {},
   "outputs": [],
   "source": [
    "unique_num_group_case_id_df = train_other_1_df.groupby(by=[\"case_id\"]).agg({\"num_group1\": \"nunique\"}).reset_index().rename({\"num_group1\": \"generated_count_of_previous_applications\"}, axis=1)"
   ]
  },
  {
   "cell_type": "code",
   "execution_count": 20,
   "id": "b46c2afe-6bc2-4daf-8978-3f8ea387c6cf",
   "metadata": {},
   "outputs": [
    {
     "data": {
      "text/plain": [
       "generated_count_of_previous_applications\n",
       "1    51109\n",
       "Name: count, dtype: int64"
      ]
     },
     "execution_count": 20,
     "metadata": {},
     "output_type": "execute_result"
    }
   ],
   "source": [
    "unique_num_group_case_id_df.generated_count_of_previous_applications.value_counts()"
   ]
  },
  {
   "cell_type": "code",
   "execution_count": 23,
   "id": "844f1ff8-12a2-44ca-aacf-5b337b378f3b",
   "metadata": {},
   "outputs": [
    {
     "data": {
      "text/plain": [
       "num_group1\n",
       "0    51109\n",
       "Name: count, dtype: int64"
      ]
     },
     "execution_count": 23,
     "metadata": {},
     "output_type": "execute_result"
    }
   ],
   "source": [
    "train_other_1_df.num_group1.value_counts()"
   ]
  },
  {
   "cell_type": "markdown",
   "id": "3657f2d1-13ac-4708-b6d6-8ba4e0348195",
   "metadata": {},
   "source": [
    "### 1. amtdebitincoming_4809443A"
   ]
  },
  {
   "cell_type": "code",
   "execution_count": 35,
   "id": "01ec81a5-cf28-4140-9f33-e87cda2d2d3e",
   "metadata": {},
   "outputs": [
    {
     "data": {
      "text/plain": [
       "'Incoming debit card transactions amount.'"
      ]
     },
     "execution_count": 35,
     "metadata": {},
     "output_type": "execute_result"
    }
   ],
   "source": [
    "get_column_description(feature_df, \"amtdebitincoming_4809443A\")"
   ]
  },
  {
   "cell_type": "code",
   "execution_count": 36,
   "id": "50164e90-d557-432b-8e9d-344f8ed2ad67",
   "metadata": {},
   "outputs": [],
   "source": [
    "amtdebitincoming_4809443A_indices = get_relevant_indices(train_other_1_df.amtdebitincoming_4809443A) "
   ]
  },
  {
   "cell_type": "code",
   "execution_count": 37,
   "id": "7fd9264b-8f59-4e6f-97e1-973e3bc7d06a",
   "metadata": {},
   "outputs": [
    {
     "data": {
      "text/plain": [
       "<Axes: ylabel='amtdebitincoming_4809443A'>"
      ]
     },
     "execution_count": 37,
     "metadata": {},
     "output_type": "execute_result"
    },
    {
     "data": {
      "image/png": "[encoded data removed]",
      "text/plain": [
       "<Figure size 640x480 with 1 Axes>"
      ]
     },
     "metadata": {},
     "output_type": "display_data"
    }
   ],
   "source": [
    "sns.boxplot(data=train_other_1_df.loc[amtdebitincoming_4809443A_indices], y=\"amtdebitincoming_4809443A\") "
   ]
  },
  {
   "cell_type": "markdown",
   "id": "6d0d34ff-b5f4-4530-8ffc-ad9420e975d3",
   "metadata": {},
   "source": [
    "### 2. amtdebitoutgoing_4809440A"
   ]
  },
  {
   "cell_type": "code",
   "execution_count": 38,
   "id": "cfb0d07e-4409-40e1-8c46-e6a905706806",
   "metadata": {},
   "outputs": [
    {
     "data": {
      "text/plain": [
       "'Outgoing debit card transactions amount.'"
      ]
     },
     "execution_count": 38,
     "metadata": {},
     "output_type": "execute_result"
    }
   ],
   "source": [
    "get_column_description(feature_df, \"amtdebitoutgoing_4809440A\")"
   ]
  },
  {
   "cell_type": "code",
   "execution_count": 39,
   "id": "5c7e2abe-29c2-47f4-a25d-8753bb9abc55",
   "metadata": {},
   "outputs": [],
   "source": [
    "amtdebitoutgoing_4809440A_indices = get_relevant_indices(train_other_1_df.amtdebitoutgoing_4809440A) "
   ]
  },
  {
   "cell_type": "code",
   "execution_count": 41,
   "id": "3f1e2f94-b5e7-4816-8ae9-1438f8e19b7e",
   "metadata": {},
   "outputs": [
    {
     "data": {
      "text/plain": [
       "<Axes: ylabel='amtdebitoutgoing_4809440A'>"
      ]
     },
     "execution_count": 41,
     "metadata": {},
     "output_type": "execute_result"
    },
    {
     "data": {
      "image/png": "[encoded data removed]",
      "text/plain": [
       "<Figure size 640x480 with 1 Axes>"
      ]
     },
     "metadata": {},
     "output_type": "display_data"
    }
   ],
   "source": [
    "sns.boxplot(data=train_other_1_df.loc[amtdebitoutgoing_4809440A_indices], y=\"amtdebitoutgoing_4809440A\")"
   ]
  },
  {
   "cell_type": "markdown",
   "id": "84049222-32a2-4d68-863b-641c5145fee1",
   "metadata": {},
   "source": [
    "### 3. amtdepositbalance_4809441A"
   ]
  },
  {
   "cell_type": "code",
   "execution_count": 42,
   "id": "e7b5d6f8-573c-41b9-935b-053f9f030ec0",
   "metadata": {},
   "outputs": [
    {
     "data": {
      "text/plain": [
       "'Deposit balance of client.'"
      ]
     },
     "execution_count": 42,
     "metadata": {},
     "output_type": "execute_result"
    }
   ],
   "source": [
    "get_column_description(feature_df, \"amtdepositbalance_4809441A\")"
   ]
  },
  {
   "cell_type": "code",
   "execution_count": 43,
   "id": "2fb20c8c-cc1e-4a69-acd8-264ad7c5588f",
   "metadata": {},
   "outputs": [],
   "source": [
    "amtdepositbalance_4809441A_indices = get_relevant_indices(train_other_1_df.amtdepositbalance_4809441A) "
   ]
  },
  {
   "cell_type": "code",
   "execution_count": 44,
   "id": "818c434d-2980-47da-8984-54ee23f8e79e",
   "metadata": {},
   "outputs": [
    {
     "data": {
      "text/plain": [
       "<Axes: ylabel='amtdepositbalance_4809441A'>"
      ]
     },
     "execution_count": 44,
     "metadata": {},
     "output_type": "execute_result"
    },
    {
     "data": {
      "image/png": "[encoded data removed]",
      "text/plain": [
       "<Figure size 640x480 with 1 Axes>"
      ]
     },
     "metadata": {},
     "output_type": "display_data"
    }
   ],
   "source": [
    "sns.boxplot(data=train_other_1_df.loc[amtdepositbalance_4809441A_indices], y=\"amtdepositbalance_4809441A\")"
   ]
  },
  {
   "cell_type": "markdown",
   "id": "660652b0-8192-4bff-b657-7ecc99e65f91",
   "metadata": {},
   "source": [
    "### 4. amtdepositincoming_4809444A"
   ]
  },
  {
   "cell_type": "code",
   "execution_count": 45,
   "id": "b0ea33dc-8989-405a-bfc2-b922f03e81b9",
   "metadata": {},
   "outputs": [
    {
     "data": {
      "text/plain": [
       "\"Amount of incoming deposits to client's account.\""
      ]
     },
     "execution_count": 45,
     "metadata": {},
     "output_type": "execute_result"
    }
   ],
   "source": [
    "get_column_description(feature_df, \"amtdepositincoming_4809444A\")"
   ]
  },
  {
   "cell_type": "code",
   "execution_count": 46,
   "id": "2f5ff241-9d17-4b30-979f-9cf7b18583a3",
   "metadata": {},
   "outputs": [],
   "source": [
    "amtdepositincoming_4809444A_indices = get_relevant_indices(train_other_1_df.amtdepositincoming_4809444A) "
   ]
  },
  {
   "cell_type": "code",
   "execution_count": 47,
   "id": "083968f6-155c-4ac1-8583-0adc5fbebbbb",
   "metadata": {},
   "outputs": [
    {
     "data": {
      "text/plain": [
       "<Axes: ylabel='amtdepositincoming_4809444A'>"
      ]
     },
     "execution_count": 47,
     "metadata": {},
     "output_type": "execute_result"
    },
    {
     "data": {
      "image/png": "[encoded data removed]",
      "text/plain": [
       "<Figure size 640x480 with 1 Axes>"
      ]
     },
     "metadata": {},
     "output_type": "display_data"
    }
   ],
   "source": [
    "sns.boxplot(data=train_other_1_df.loc[amtdepositincoming_4809444A_indices], y=\"amtdepositincoming_4809444A\")"
   ]
  },
  {
   "cell_type": "code",
   "execution_count": 48,
   "id": "83743a6d-35a8-4dc1-a1aa-e8c9eb551d8c",
   "metadata": {},
   "outputs": [
    {
     "data": {
      "text/plain": [
       "<Axes: ylabel='amtdepositincoming_4809444A'>"
      ]
     },
     "execution_count": 48,
     "metadata": {},
     "output_type": "execute_result"
    },
    {
     "data": {
      "image/png": "[encoded data removed]",
      "text/plain": [
       "<Figure size 640x480 with 1 Axes>"
      ]
     },
     "metadata": {},
     "output_type": "display_data"
    }
   ],
   "source": [
    "sns.boxplot(data=train_other_1_df, y=\"amtdepositincoming_4809444A\")"
   ]
  },
  {
   "cell_type": "markdown",
   "id": "4d7d64d5-bff5-4017-9849-9b50f80f2565",
   "metadata": {},
   "source": [
    "### 5. amtdepositoutgoing_4809442A"
   ]
  },
  {
   "cell_type": "code",
   "execution_count": 49,
   "id": "fd2e8067-895b-425b-9ee9-e47d28e9da1e",
   "metadata": {},
   "outputs": [
    {
     "data": {
      "text/plain": [
       "\"Amount of outgoing deposits from client's account.\""
      ]
     },
     "execution_count": 49,
     "metadata": {},
     "output_type": "execute_result"
    }
   ],
   "source": [
    "get_column_description(feature_df, \"amtdepositoutgoing_4809442A\")"
   ]
  },
  {
   "cell_type": "code",
   "execution_count": 50,
   "id": "acb86b70-ff80-4591-8a23-0e1e34135782",
   "metadata": {},
   "outputs": [],
   "source": [
    "amtdepositoutgoing_4809442A_indices = get_relevant_indices(train_other_1_df.amtdepositoutgoing_4809442A) "
   ]
  },
  {
   "cell_type": "code",
   "execution_count": 51,
   "id": "379879bb-86dd-4aaf-924e-e2522fddea15",
   "metadata": {},
   "outputs": [
    {
     "data": {
      "text/plain": [
       "<Axes: ylabel='amtdepositoutgoing_4809442A'>"
      ]
     },
     "execution_count": 51,
     "metadata": {},
     "output_type": "execute_result"
    },
    {
     "data": {
      "image/png": "[encoded data removed]",
      "text/plain": [
       "<Figure size 640x480 with 1 Axes>"
      ]
     },
     "metadata": {},
     "output_type": "display_data"
    }
   ],
   "source": [
    "sns.boxplot(data=train_other_1_df.loc[amtdepositoutgoing_4809442A_indices], y=\"amtdepositoutgoing_4809442A\")"
   ]
  },
  {
   "cell_type": "code",
   "execution_count": null,
   "id": "c9005f20-07b6-4197-bf1c-cfda2896eb2a",
   "metadata": {},
   "outputs": [],
   "source": []
  },
  {
   "cell_type": "code",
   "execution_count": null,
   "id": "b41e1187-ec08-4ebf-811e-5813e336b19a",
   "metadata": {},
   "outputs": [],
   "source": []
  },
  {
   "cell_type": "code",
   "execution_count": null,
   "id": "9eeaeff0-889d-4996-808c-0fdaebf23882",
   "metadata": {},
   "outputs": [],
   "source": []
  },
  {
   "cell_type": "code",
   "execution_count": null,
   "id": "10a90fd6-15c2-4a34-b3a9-abfe1cde31f2",
   "metadata": {},
   "outputs": [],
   "source": []
  }
 ],
 "metadata": {
  "kernelspec": {
   "display_name": "personal_env",
   "language": "python",
   "name": "personal_env"
  },
  "language_info": {
   "codemirror_mode": {
    "name": "ipython",
    "version": 3
   },
   "file_extension": ".py",
   "mimetype": "text/x-python",
   "name": "python",
   "nbconvert_exporter": "python",
   "pygments_lexer": "ipython3",
   "version": "3.9.17"
  }
 },
 "nbformat": 4,
 "nbformat_minor": 5
}
