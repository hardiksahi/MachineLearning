{
 "cells": [
  {
   "cell_type": "code",
   "execution_count": 1,
   "id": "3bb67328-30c2-466e-a30b-c827e91b08f2",
   "metadata": {},
   "outputs": [],
   "source": [
    "%load_ext autoreload\n",
    "%autoreload 2"
   ]
  },
  {
   "cell_type": "code",
   "execution_count": 2,
   "id": "3fb4977d-dffe-408c-bb3e-96f5177b7237",
   "metadata": {},
   "outputs": [
    {
     "data": {
      "text/html": [
       "<style>:root { --jp-notebook-max-width: 100% !important; }</style>"
      ],
      "text/plain": [
       "<IPython.core.display.HTML object>"
      ]
     },
     "metadata": {},
     "output_type": "display_data"
    }
   ],
   "source": [
    "from IPython.display import display, HTML\n",
    "display(HTML(\"<style>:root { --jp-notebook-max-width: 100% !important; }</style>\"))"
   ]
  },
  {
   "cell_type": "code",
   "execution_count": 3,
   "id": "854f3c02-fba3-4eca-aba2-28475414f66d",
   "metadata": {},
   "outputs": [],
   "source": [
    "import pandas as pd\n",
    "import numpy as np"
   ]
  },
  {
   "cell_type": "code",
   "execution_count": 4,
   "id": "fc372d5e-669b-491e-8b06-bb807ef02c0b",
   "metadata": {},
   "outputs": [],
   "source": [
    "import sys\n",
    "import os\n",
    "from collections import defaultdict, Counter"
   ]
  },
  {
   "cell_type": "code",
   "execution_count": 5,
   "id": "76c511bf-2625-4232-9581-893b52855dd9",
   "metadata": {},
   "outputs": [],
   "source": [
    "import math"
   ]
  },
  {
   "cell_type": "code",
   "execution_count": 6,
   "id": "b4755f23-ee07-4f30-bb55-9a6950683133",
   "metadata": {},
   "outputs": [],
   "source": [
    "import seaborn as sns\n",
    "import matplotlib.pyplot as plt "
   ]
  },
  {
   "cell_type": "markdown",
   "id": "13c47012-4b97-4417-be24-1b4972b0b3c0",
   "metadata": {},
   "source": [
    "## Constants"
   ]
  },
  {
   "cell_type": "code",
   "execution_count": 7,
   "id": "845a40a8-3299-4e6f-9bb6-9b82f1a302a2",
   "metadata": {},
   "outputs": [],
   "source": [
    "data_path = \"/Users/hardiksahi/Personal/MachineLearning/kaggle/home-credit-risk-model-stability/data/01_raw/home-credit-credit-risk-model-stability\""
   ]
  },
  {
   "cell_type": "markdown",
   "id": "c4de153a-7b7f-45a7-af4c-b99e6f3381e3",
   "metadata": {},
   "source": [
    "## Get paths of files"
   ]
  },
  {
   "cell_type": "code",
   "execution_count": 8,
   "id": "38dc336c-2c76-4490-8443-3cec7e4f758d",
   "metadata": {},
   "outputs": [],
   "source": [
    "base_file_dict = defaultdict(list)\n",
    "tax_registry_a_1_file_dict = defaultdict(list)\n",
    "for dirname, _, filenames in os.walk(data_path):\n",
    "    for filename in filenames:\n",
    "        file_path = os.path.join(dirname, filename)\n",
    "        if file_path.endswith('parquet'):\n",
    "            file_type = 'train' if 'train' in file_path else 'test'\n",
    "            if 'base' in file_path:\n",
    "                base_file_dict[file_type].append(file_path)\n",
    "            if 'tax_registry_a_1' in file_path:\n",
    "                tax_registry_a_1_file_dict[file_type].append(file_path)"
   ]
  },
  {
   "cell_type": "code",
   "execution_count": 9,
   "id": "00329a12-be0f-4072-9564-beb8cd6962b6",
   "metadata": {},
   "outputs": [
    {
     "data": {
      "text/plain": [
       "['/Users/hardiksahi/Personal/MachineLearning/kaggle/home-credit-risk-model-stability/data/01_raw/home-credit-credit-risk-model-stability/parquet_files/train/train_tax_registry_a_1.parquet']"
      ]
     },
     "execution_count": 9,
     "metadata": {},
     "output_type": "execute_result"
    }
   ],
   "source": [
    "tax_registry_a_1_file_dict.get(\"train\")"
   ]
  },
  {
   "cell_type": "markdown",
   "id": "4c39bc27-08de-4139-b317-f011454495cb",
   "metadata": {},
   "source": [
    "## Functions"
   ]
  },
  {
   "cell_type": "code",
   "execution_count": 10,
   "id": "09b11097-6170-4780-be86-d0a97d98c39f",
   "metadata": {},
   "outputs": [],
   "source": [
    "def get_column_description(feature_def_df, column_name):\n",
    "    return feature_def_df[feature_def_df.Variable == column_name]['Description'].iloc[0]"
   ]
  },
  {
   "cell_type": "code",
   "execution_count": 11,
   "id": "00acefb2-0f64-452f-9dbd-967b04505407",
   "metadata": {},
   "outputs": [],
   "source": [
    "def plot_scatterplot(df, x_col_name, y_col_name, show_x_y_line=False):\n",
    "    assert x_col_name in df.columns, f\"Ensure that {x_col_name} is in the df\"\n",
    "    assert y_col_name in df.columns, f\"Ensure that {y_col_name} is in the df\"\n",
    "    \n",
    "    fig, axs = plt.subplots()\n",
    "    sns.scatterplot(data=df, x=df[x_col_name], y=df[y_col_name], ax=axs)\n",
    "    \n",
    "    if show_x_y_line:\n",
    "        df[x_col_name] = df[x_col_name].replace([np.inf, -np.inf], np.nan)\n",
    "        df[y_col_name] = df[y_col_name].replace([np.inf, -np.inf], np.nan)\n",
    "        not_null_x_filter = ~df[x_col_name].isnull()\n",
    "        not_null_y_filter = ~df[y_col_name].isnull()\n",
    "        not_null_filter = not_null_x_filter & not_null_y_filter\n",
    "        filtered_df = df[not_null_filter]\n",
    "        x_values_series = filtered_df[x_col_name]\n",
    "        y_values_series = filtered_df[y_col_name]\n",
    "        x0, x1 = min(x_values_series), max(x_values_series)\n",
    "        y0, y1 = min(y_values_series), max(y_values_series)\n",
    "        #line_values = [i for i in np.arange(min(x0, y0), max(x1, y1), 0.1)]\n",
    "        lims = [min(x0, y0), max(x1, y1)]\n",
    "        print(f\"lims: {lims}\")\n",
    "        plt.plot(lims, lims)\n",
    "    return fig"
   ]
  },
  {
   "cell_type": "code",
   "execution_count": 12,
   "id": "f652e2c5-48f2-4ebf-8b48-4c2baa5e3b81",
   "metadata": {},
   "outputs": [],
   "source": [
    "def get_percent_of_column(df, groupby_column, target_column):\n",
    "    target_df = df.groupby(by=[groupby_column]).agg({target_column:\"sum\"}).reset_index()\n",
    "    all_rows_df = df.groupby(by=[groupby_column]).size().reset_index().rename({0:\"total_rows\"}, axis=1)\n",
    "    merged_df = target_df.merge(all_rows_df, left_on=[groupby_column], right_on=[groupby_column], how=\"left\")\n",
    "    merged_df[\"percentage_default\"] = 100*merged_df[\"target\"]/merged_df[\"total_rows\"]\n",
    "    merged_df[groupby_column] = merged_df[groupby_column].astype(str)\n",
    "    return merged_df"
   ]
  },
  {
   "cell_type": "code",
   "execution_count": 13,
   "id": "78e46fba-b469-4755-b8b7-c68161d5a306",
   "metadata": {},
   "outputs": [],
   "source": [
    "def plot_barplot(df, percent_column, category_column):\n",
    "    fig, ax = plt.subplots(1,1,figsize=(8,5))\n",
    "    sns.barplot(ax=ax, data=df, y=category_column, x=percent_column, order=df.sort_values(by=[percent_column], ascending=False)[category_column].values)\n",
    "    return fig"
   ]
  },
  {
   "cell_type": "code",
   "execution_count": 14,
   "id": "99e43f9c-d7f1-4c39-831c-fdddae263ea2",
   "metadata": {},
   "outputs": [],
   "source": [
    "def get_relevant_indices(series):\n",
    "    percentile_25 = series.quantile(0.25)\n",
    "    percentile_75 = series.quantile(0.75)\n",
    "    iqr = percentile_75-percentile_25\n",
    "    upper_limit = percentile_75 + 1.5*iqr\n",
    "    lower_limit = percentile_25 - 1.5*iqr\n",
    "\n",
    "    keep_indices = series[(series>=lower_limit) & (series<=upper_limit)].index\n",
    "    return keep_indices "
   ]
  },
  {
   "cell_type": "markdown",
   "id": "42c9b613-f496-4e80-968b-8b03a19bc5b2",
   "metadata": {},
   "source": [
    "## Read datasets"
   ]
  },
  {
   "cell_type": "code",
   "execution_count": 15,
   "id": "284e3f94-6f38-4528-a2f3-55385fc43576",
   "metadata": {},
   "outputs": [
    {
     "name": "stdout",
     "output_type": "stream",
     "text": [
      "Shape of feature_df: (465, 2)\n"
     ]
    }
   ],
   "source": [
    "feature_df = pd.read_csv(f\"{data_path}/feature_definitions.csv\")\n",
    "print(f\"Shape of feature_df: {feature_df.shape}\")"
   ]
  },
  {
   "cell_type": "code",
   "execution_count": 16,
   "id": "e013e2a5-5d1e-4104-835d-b1d4ab8bb59f",
   "metadata": {},
   "outputs": [
    {
     "name": "stdout",
     "output_type": "stream",
     "text": [
      "Shape of train_base_df: (1526659, 5)\n"
     ]
    }
   ],
   "source": [
    "train_base_df = pd.concat([pd.read_parquet(file_path) for file_path in base_file_dict['train']], axis=0)\n",
    "print(f\"Shape of train_base_df: {train_base_df.shape}\")"
   ]
  },
  {
   "cell_type": "markdown",
   "id": "4563d03c-03bc-4ee9-9af6-2e05c22814c7",
   "metadata": {},
   "source": [
    "## Properties: depth=1, internal data source"
   ]
  },
  {
   "cell_type": "code",
   "execution_count": 17,
   "id": "7cbddef1-b6b6-451c-8cd1-5210e66b102e",
   "metadata": {},
   "outputs": [
    {
     "name": "stdout",
     "output_type": "stream",
     "text": [
      "Shape of tax_registry_a_1_df: (3275770, 5)\n"
     ]
    }
   ],
   "source": [
    "tax_registry_a_1_df = pd.concat([pd.read_parquet(file_path) for file_path in tax_registry_a_1_file_dict['train']], axis=0)\n",
    "print(f\"Shape of tax_registry_a_1_df: {tax_registry_a_1_df.shape}\")"
   ]
  },
  {
   "cell_type": "code",
   "execution_count": 18,
   "id": "7c7c43cb-9143-41cd-a88f-9b1d152e57ab",
   "metadata": {},
   "outputs": [
    {
     "data": {
      "text/plain": [
       "Index(['case_id', 'amount_4527230A', 'name_4527232M', 'num_group1',\n",
       "       'recorddate_4527225D'],\n",
       "      dtype='object')"
      ]
     },
     "execution_count": 18,
     "metadata": {},
     "output_type": "execute_result"
    }
   ],
   "source": [
    "tax_registry_a_1_df.columns.unique()"
   ]
  },
  {
   "cell_type": "code",
   "execution_count": 19,
   "id": "294efaae-516f-46e7-9a9c-5a947f10bd36",
   "metadata": {},
   "outputs": [],
   "source": [
    "train_base_df[\"date_decision\"] = pd.to_datetime(train_base_df[\"date_decision\"])\n",
    "\n",
    "tax_registry_a_1_df[\"recorddate_4527225D\"] = pd.to_datetime(tax_registry_a_1_df[\"recorddate_4527225D\"])"
   ]
  },
  {
   "cell_type": "markdown",
   "id": "9a63c48a-ba8c-4dec-ae48-a440a11b9086",
   "metadata": {},
   "source": [
    "## This means that there are multiple rows for each case_id indexed by num_group1"
   ]
  },
  {
   "cell_type": "code",
   "execution_count": 20,
   "id": "f763aa57-a789-4913-9bb0-254a325f34ba",
   "metadata": {},
   "outputs": [],
   "source": [
    "unique_num_group_case_id_df = tax_registry_a_1_df.groupby(by=[\"case_id\"]).agg({\"num_group1\": \"nunique\"}).reset_index().rename({\"num_group1\": \"generated_count_of_tax_information_by_provider_a\"}, axis=1)"
   ]
  },
  {
   "cell_type": "code",
   "execution_count": 21,
   "id": "8d6ceb15-f547-4656-9745-211f180efea7",
   "metadata": {},
   "outputs": [
    {
     "data": {
      "text/html": [
       "<div>\n",
       "<style scoped>\n",
       "    .dataframe tbody tr th:only-of-type {\n",
       "        vertical-align: middle;\n",
       "    }\n",
       "\n",
       "    .dataframe tbody tr th {\n",
       "        vertical-align: top;\n",
       "    }\n",
       "\n",
       "    .dataframe thead th {\n",
       "        text-align: right;\n",
       "    }\n",
       "</style>\n",
       "<table border=\"1\" class=\"dataframe\">\n",
       "  <thead>\n",
       "    <tr style=\"text-align: right;\">\n",
       "      <th></th>\n",
       "      <th>case_id</th>\n",
       "      <th>generated_count_of_tax_information_by_provider_a</th>\n",
       "    </tr>\n",
       "  </thead>\n",
       "  <tbody>\n",
       "    <tr>\n",
       "      <th>371900</th>\n",
       "      <td>1763377</td>\n",
       "      <td>11</td>\n",
       "    </tr>\n",
       "    <tr>\n",
       "      <th>220448</th>\n",
       "      <td>1547262</td>\n",
       "      <td>11</td>\n",
       "    </tr>\n",
       "    <tr>\n",
       "      <th>102269</th>\n",
       "      <td>853226</td>\n",
       "      <td>11</td>\n",
       "    </tr>\n",
       "    <tr>\n",
       "      <th>322970</th>\n",
       "      <td>1694044</td>\n",
       "      <td>11</td>\n",
       "    </tr>\n",
       "    <tr>\n",
       "      <th>322959</th>\n",
       "      <td>1694029</td>\n",
       "      <td>11</td>\n",
       "    </tr>\n",
       "  </tbody>\n",
       "</table>\n",
       "</div>"
      ],
      "text/plain": [
       "        case_id  generated_count_of_tax_information_by_provider_a\n",
       "371900  1763377                                                11\n",
       "220448  1547262                                                11\n",
       "102269   853226                                                11\n",
       "322970  1694044                                                11\n",
       "322959  1694029                                                11"
      ]
     },
     "execution_count": 21,
     "metadata": {},
     "output_type": "execute_result"
    }
   ],
   "source": [
    "unique_num_group_case_id_df[unique_num_group_case_id_df.generated_count_of_tax_information_by_provider_a>10].sort_values(by=[\"generated_count_of_tax_information_by_provider_a\"]).head(5)"
   ]
  },
  {
   "cell_type": "code",
   "execution_count": 22,
   "id": "07fd5b3a-678b-4c09-9dc1-f698ad9abc8f",
   "metadata": {},
   "outputs": [
    {
     "data": {
      "text/html": [
       "<div>\n",
       "<style scoped>\n",
       "    .dataframe tbody tr th:only-of-type {\n",
       "        vertical-align: middle;\n",
       "    }\n",
       "\n",
       "    .dataframe tbody tr th {\n",
       "        vertical-align: top;\n",
       "    }\n",
       "\n",
       "    .dataframe thead th {\n",
       "        text-align: right;\n",
       "    }\n",
       "</style>\n",
       "<table border=\"1\" class=\"dataframe\">\n",
       "  <thead>\n",
       "    <tr style=\"text-align: right;\">\n",
       "      <th></th>\n",
       "      <th>case_id</th>\n",
       "      <th>amount_4527230A</th>\n",
       "      <th>name_4527232M</th>\n",
       "      <th>num_group1</th>\n",
       "      <th>recorddate_4527225D</th>\n",
       "    </tr>\n",
       "  </thead>\n",
       "  <tbody>\n",
       "    <tr>\n",
       "      <th>2268531</th>\n",
       "      <td>1694029</td>\n",
       "      <td>5918.0</td>\n",
       "      <td>ef9f9354</td>\n",
       "      <td>0</td>\n",
       "      <td>2019-12-31</td>\n",
       "    </tr>\n",
       "    <tr>\n",
       "      <th>2268529</th>\n",
       "      <td>1694029</td>\n",
       "      <td>3276.8</td>\n",
       "      <td>ef9f9354</td>\n",
       "      <td>1</td>\n",
       "      <td>2019-12-31</td>\n",
       "    </tr>\n",
       "    <tr>\n",
       "      <th>2268524</th>\n",
       "      <td>1694029</td>\n",
       "      <td>666.2</td>\n",
       "      <td>ef9f9354</td>\n",
       "      <td>2</td>\n",
       "      <td>2019-12-31</td>\n",
       "    </tr>\n",
       "    <tr>\n",
       "      <th>2268527</th>\n",
       "      <td>1694029</td>\n",
       "      <td>2622.8</td>\n",
       "      <td>ef9f9354</td>\n",
       "      <td>3</td>\n",
       "      <td>2019-12-31</td>\n",
       "    </tr>\n",
       "    <tr>\n",
       "      <th>2268521</th>\n",
       "      <td>1694029</td>\n",
       "      <td>604.0</td>\n",
       "      <td>ef9f9354</td>\n",
       "      <td>4</td>\n",
       "      <td>2019-12-31</td>\n",
       "    </tr>\n",
       "  </tbody>\n",
       "</table>\n",
       "</div>"
      ],
      "text/plain": [
       "         case_id  amount_4527230A name_4527232M  num_group1  \\\n",
       "2268531  1694029           5918.0      ef9f9354           0   \n",
       "2268529  1694029           3276.8      ef9f9354           1   \n",
       "2268524  1694029            666.2      ef9f9354           2   \n",
       "2268527  1694029           2622.8      ef9f9354           3   \n",
       "2268521  1694029            604.0      ef9f9354           4   \n",
       "\n",
       "        recorddate_4527225D  \n",
       "2268531          2019-12-31  \n",
       "2268529          2019-12-31  \n",
       "2268524          2019-12-31  \n",
       "2268527          2019-12-31  \n",
       "2268521          2019-12-31  "
      ]
     },
     "execution_count": 22,
     "metadata": {},
     "output_type": "execute_result"
    }
   ],
   "source": [
    "tax_registry_a_1_df[tax_registry_a_1_df.case_id == 1694029].sort_values(by=[\"num_group1\"]).head()"
   ]
  },
  {
   "cell_type": "code",
   "execution_count": 23,
   "id": "435dc70d-9744-4d1b-871e-b71289bc6d54",
   "metadata": {},
   "outputs": [
    {
     "data": {
      "text/plain": [
       "<Axes: ylabel='generated_count_of_tax_information_by_provider_a'>"
      ]
     },
     "execution_count": 23,
     "metadata": {},
     "output_type": "execute_result"
    },
    {
     "data": {
      "image/png": "[encoded data removed]",
      "text/plain": [
       "<Figure size 640x480 with 1 Axes>"
      ]
     },
     "metadata": {},
     "output_type": "display_data"
    }
   ],
   "source": [
    "sns.boxplot(data=unique_num_group_case_id_df, y=\"generated_count_of_tax_information_by_provider_a\")"
   ]
  },
  {
   "cell_type": "markdown",
   "id": "6fd39406-9129-419b-83e3-d4eb4c8d68de",
   "metadata": {},
   "source": [
    "## Number of tax related records provided for case_ids vary from 1 to 99"
   ]
  },
  {
   "cell_type": "markdown",
   "id": "2ba95d87-35aa-4394-bf6d-5a0aad39d65c",
   "metadata": {},
   "source": [
    "### 1. recorddate_4527225D"
   ]
  },
  {
   "cell_type": "code",
   "execution_count": 24,
   "id": "04f01158-b304-40c6-81e0-cdd7b633003e",
   "metadata": {},
   "outputs": [
    {
     "data": {
      "text/plain": [
       "'Date of tax deduction record.'"
      ]
     },
     "execution_count": 24,
     "metadata": {},
     "output_type": "execute_result"
    }
   ],
   "source": [
    "get_column_description(feature_df, \"recorddate_4527225D\")"
   ]
  },
  {
   "cell_type": "code",
   "execution_count": 25,
   "id": "1ce62dd5-261f-4dfc-8ebc-6e76a6464f63",
   "metadata": {},
   "outputs": [
    {
     "data": {
      "text/plain": [
       "recorddate_4527225D\n",
       "False    3275770\n",
       "Name: count, dtype: int64"
      ]
     },
     "execution_count": 25,
     "metadata": {},
     "output_type": "execute_result"
    }
   ],
   "source": [
    "tax_registry_a_1_df.recorddate_4527225D.isnull().value_counts()"
   ]
  },
  {
   "cell_type": "code",
   "execution_count": 26,
   "id": "b7069470-8ce8-43c0-89b7-ecae82764a00",
   "metadata": {},
   "outputs": [],
   "source": [
    "## Check across how unique dates are tax deduction records for a given case_id\n",
    "statistics_recorddate_4527225D_for_case_id_df = tax_registry_a_1_df.groupby(by=[\"case_id\"]).agg({\"recorddate_4527225D\": [\"nunique\", \"max\"]}).reset_index()\n",
    "statistics_recorddate_4527225D_for_case_id_df.columns  = ['case_id' if index_tuple[0] == 'case_id' else f\"generated_{index_tuple[0]}_{index_tuple[1]}\" for index_tuple in statistics_recorddate_4527225D_for_case_id_df.columns]"
   ]
  },
  {
   "cell_type": "code",
   "execution_count": 27,
   "id": "4b00eb68-38fb-421c-aeac-b3a72e308489",
   "metadata": {},
   "outputs": [
    {
     "data": {
      "text/html": [
       "<div>\n",
       "<style scoped>\n",
       "    .dataframe tbody tr th:only-of-type {\n",
       "        vertical-align: middle;\n",
       "    }\n",
       "\n",
       "    .dataframe tbody tr th {\n",
       "        vertical-align: top;\n",
       "    }\n",
       "\n",
       "    .dataframe thead th {\n",
       "        text-align: right;\n",
       "    }\n",
       "</style>\n",
       "<table border=\"1\" class=\"dataframe\">\n",
       "  <thead>\n",
       "    <tr style=\"text-align: right;\">\n",
       "      <th></th>\n",
       "      <th>case_id</th>\n",
       "      <th>generated_recorddate_4527225D_nunique</th>\n",
       "      <th>generated_recorddate_4527225D_max</th>\n",
       "    </tr>\n",
       "  </thead>\n",
       "  <tbody>\n",
       "    <tr>\n",
       "      <th>0</th>\n",
       "      <td>28631</td>\n",
       "      <td>1</td>\n",
       "      <td>2019-09-13</td>\n",
       "    </tr>\n",
       "    <tr>\n",
       "      <th>1</th>\n",
       "      <td>28632</td>\n",
       "      <td>1</td>\n",
       "      <td>2019-09-13</td>\n",
       "    </tr>\n",
       "  </tbody>\n",
       "</table>\n",
       "</div>"
      ],
      "text/plain": [
       "   case_id  generated_recorddate_4527225D_nunique  \\\n",
       "0    28631                                      1   \n",
       "1    28632                                      1   \n",
       "\n",
       "  generated_recorddate_4527225D_max  \n",
       "0                        2019-09-13  \n",
       "1                        2019-09-13  "
      ]
     },
     "execution_count": 27,
     "metadata": {},
     "output_type": "execute_result"
    }
   ],
   "source": [
    "statistics_recorddate_4527225D_for_case_id_df.head(2)"
   ]
  },
  {
   "cell_type": "code",
   "execution_count": 28,
   "id": "f32b6472-0cfb-4eac-927d-6b9fbacab05b",
   "metadata": {},
   "outputs": [
    {
     "data": {
      "text/plain": [
       "generated_recorddate_4527225D_nunique\n",
       "1    457934\n",
       "Name: count, dtype: int64"
      ]
     },
     "execution_count": 28,
     "metadata": {},
     "output_type": "execute_result"
    }
   ],
   "source": [
    "statistics_recorddate_4527225D_for_case_id_df[\"generated_recorddate_4527225D_nunique\"].value_counts()"
   ]
  },
  {
   "cell_type": "markdown",
   "id": "6c156b60-61ac-47a0-ab9d-049ad50f0def",
   "metadata": {},
   "source": [
    "## A case_id is associated with only 1 recorddate_4527225D"
   ]
  },
  {
   "cell_type": "markdown",
   "id": "b001ea12-b3f0-40e0-8852-7a45cc198e2d",
   "metadata": {},
   "source": [
    "## Is this the date on which tax deduction record was provided by the registry to homecredit instead of the date of tx deduction??"
   ]
  },
  {
   "cell_type": "code",
   "execution_count": 29,
   "id": "1a6496a1-30e8-4401-99ff-6938d48071c3",
   "metadata": {},
   "outputs": [
    {
     "name": "stdout",
     "output_type": "stream",
     "text": [
      "Min recorddate_4527225D: 2019-09-13 00:00:00\n",
      "Max recorddate_4527225D: 2020-10-19 00:00:00\n"
     ]
    }
   ],
   "source": [
    "print(f\"Min recorddate_4527225D: {tax_registry_a_1_df.recorddate_4527225D.min()}\")\n",
    "print(f\"Max recorddate_4527225D: {tax_registry_a_1_df.recorddate_4527225D.max()}\")"
   ]
  },
  {
   "cell_type": "markdown",
   "id": "1e330adc-943f-4448-87e7-e50772f3a38d",
   "metadata": {},
   "source": [
    "## This record information is obtained across an year..."
   ]
  },
  {
   "cell_type": "code",
   "execution_count": 31,
   "id": "004bda86-18b5-4eb5-a25c-5bed944ecda4",
   "metadata": {},
   "outputs": [
    {
     "name": "stdout",
     "output_type": "stream",
     "text": [
      "Shape of merged_train_base_statistics_recorddate_4527225D_for_case_id_df: (1526659, 7)\n"
     ]
    }
   ],
   "source": [
    "merged_train_base_statistics_recorddate_4527225D_for_case_id_df = train_base_df.merge(statistics_recorddate_4527225D_for_case_id_df, left_on=[\"case_id\"], right_on=[\"case_id\"], validate=\"one_to_one\", how=\"left\")\n",
    "print(f\"Shape of merged_train_base_statistics_recorddate_4527225D_for_case_id_df: {merged_train_base_statistics_recorddate_4527225D_for_case_id_df.shape}\")"
   ]
  },
  {
   "cell_type": "code",
   "execution_count": 32,
   "id": "a7528fbe-1840-4aff-bfd0-2f7730be71f8",
   "metadata": {},
   "outputs": [],
   "source": [
    "merged_train_base_statistics_recorddate_4527225D_for_case_id_df[\"day_gap_between_recorddate_4527225D_and_date_decision\"] = (merged_train_base_statistics_recorddate_4527225D_for_case_id_df[\"generated_recorddate_4527225D_max\"]-merged_train_base_statistics_recorddate_4527225D_for_case_id_df[\"date_decision\"]).dt.days"
   ]
  },
  {
   "cell_type": "code",
   "execution_count": 33,
   "id": "37fcdd9b-1251-4f00-a26a-7215707645e8",
   "metadata": {},
   "outputs": [
    {
     "data": {
      "text/plain": [
       "day_gap_between_recorddate_4527225D_and_date_decision\n",
       "14.0    447430\n",
       "13.0      5781\n",
       "12.0      1802\n",
       "11.0      1030\n",
       "10.0       707\n",
       "9.0        503\n",
       "8.0        398\n",
       "7.0        275\n",
       "6.0          5\n",
       "4.0          1\n",
       "3.0          1\n",
       "5.0          1\n",
       "Name: count, dtype: int64"
      ]
     },
     "execution_count": 33,
     "metadata": {},
     "output_type": "execute_result"
    }
   ],
   "source": [
    "merged_train_base_statistics_recorddate_4527225D_for_case_id_df[~merged_train_base_statistics_recorddate_4527225D_for_case_id_df.generated_recorddate_4527225D_nunique.isnull()][\"day_gap_between_recorddate_4527225D_and_date_decision\"].value_counts()"
   ]
  },
  {
   "cell_type": "markdown",
   "id": "324fdc09-1d92-44fe-a71b-d4d82230d010",
   "metadata": {},
   "source": [
    "## Provider A provides tax documents within 2 weeks of loan approval date (date_decision)"
   ]
  },
  {
   "cell_type": "markdown",
   "id": "e1cf4f6d-6bf5-4898-a76b-5be963b23d60",
   "metadata": {},
   "source": [
    "### 2. name_4527232M"
   ]
  },
  {
   "cell_type": "code",
   "execution_count": 34,
   "id": "b41e1187-ec08-4ebf-811e-5813e336b19a",
   "metadata": {},
   "outputs": [
    {
     "data": {
      "text/plain": [
       "'Name of employer.'"
      ]
     },
     "execution_count": 34,
     "metadata": {},
     "output_type": "execute_result"
    }
   ],
   "source": [
    "get_column_description(feature_df, \"name_4527232M\")"
   ]
  },
  {
   "cell_type": "code",
   "execution_count": 40,
   "id": "18adedd0-b427-40df-9309-2100ee86aa1e",
   "metadata": {},
   "outputs": [],
   "source": [
    "statistics_name_4527232M_for_case_id_df = tax_registry_a_1_df.groupby(by=[\"case_id\"]).agg(generated_name_4527232M_nunique=pd.NamedAgg(column=\"name_4527232M\", aggfunc=\"nunique\"), generated_name_4527232M_mode=pd.NamedAgg(column=\"name_4527232M\", aggfunc=lambda x:x.value_counts().index[0]))"
   ]
  },
  {
   "cell_type": "code",
   "execution_count": 43,
   "id": "50d0b2b2-a71c-40da-beb6-77dd95097f23",
   "metadata": {},
   "outputs": [
    {
     "data": {
      "text/html": [
       "<div>\n",
       "<style scoped>\n",
       "    .dataframe tbody tr th:only-of-type {\n",
       "        vertical-align: middle;\n",
       "    }\n",
       "\n",
       "    .dataframe tbody tr th {\n",
       "        vertical-align: top;\n",
       "    }\n",
       "\n",
       "    .dataframe thead th {\n",
       "        text-align: right;\n",
       "    }\n",
       "</style>\n",
       "<table border=\"1\" class=\"dataframe\">\n",
       "  <thead>\n",
       "    <tr style=\"text-align: right;\">\n",
       "      <th></th>\n",
       "      <th>generated_name_4527232M_nunique</th>\n",
       "      <th>generated_name_4527232M_mode</th>\n",
       "    </tr>\n",
       "    <tr>\n",
       "      <th>case_id</th>\n",
       "      <th></th>\n",
       "      <th></th>\n",
       "    </tr>\n",
       "  </thead>\n",
       "  <tbody>\n",
       "    <tr>\n",
       "      <th>28631</th>\n",
       "      <td>1</td>\n",
       "      <td>f980a1ea</td>\n",
       "    </tr>\n",
       "    <tr>\n",
       "      <th>28632</th>\n",
       "      <td>1</td>\n",
       "      <td>5f9b74f5</td>\n",
       "    </tr>\n",
       "    <tr>\n",
       "      <th>28633</th>\n",
       "      <td>1</td>\n",
       "      <td>5e180ef0</td>\n",
       "    </tr>\n",
       "    <tr>\n",
       "      <th>28635</th>\n",
       "      <td>1</td>\n",
       "      <td>52c166dc</td>\n",
       "    </tr>\n",
       "    <tr>\n",
       "      <th>28636</th>\n",
       "      <td>1</td>\n",
       "      <td>5574ff1b</td>\n",
       "    </tr>\n",
       "    <tr>\n",
       "      <th>...</th>\n",
       "      <td>...</td>\n",
       "      <td>...</td>\n",
       "    </tr>\n",
       "    <tr>\n",
       "      <th>2697303</th>\n",
       "      <td>1</td>\n",
       "      <td>5e180ef0</td>\n",
       "    </tr>\n",
       "    <tr>\n",
       "      <th>2700297</th>\n",
       "      <td>1</td>\n",
       "      <td>5e180ef0</td>\n",
       "    </tr>\n",
       "    <tr>\n",
       "      <th>2701074</th>\n",
       "      <td>1</td>\n",
       "      <td>35d8278b</td>\n",
       "    </tr>\n",
       "    <tr>\n",
       "      <th>2701515</th>\n",
       "      <td>2</td>\n",
       "      <td>5e180ef0</td>\n",
       "    </tr>\n",
       "    <tr>\n",
       "      <th>2702290</th>\n",
       "      <td>1</td>\n",
       "      <td>94721311</td>\n",
       "    </tr>\n",
       "  </tbody>\n",
       "</table>\n",
       "<p>457934 rows × 2 columns</p>\n",
       "</div>"
      ],
      "text/plain": [
       "         generated_name_4527232M_nunique generated_name_4527232M_mode\n",
       "case_id                                                              \n",
       "28631                                  1                     f980a1ea\n",
       "28632                                  1                     5f9b74f5\n",
       "28633                                  1                     5e180ef0\n",
       "28635                                  1                     52c166dc\n",
       "28636                                  1                     5574ff1b\n",
       "...                                  ...                          ...\n",
       "2697303                                1                     5e180ef0\n",
       "2700297                                1                     5e180ef0\n",
       "2701074                                1                     35d8278b\n",
       "2701515                                2                     5e180ef0\n",
       "2702290                                1                     94721311\n",
       "\n",
       "[457934 rows x 2 columns]"
      ]
     },
     "execution_count": 43,
     "metadata": {},
     "output_type": "execute_result"
    }
   ],
   "source": [
    "statistics_name_4527232M_for_case_id_df"
   ]
  },
  {
   "cell_type": "markdown",
   "id": "fea4fecf-9fc5-4a59-9b5a-cf72a23dbcfb",
   "metadata": {},
   "source": [
    "### 3. amount_4527230A"
   ]
  },
  {
   "cell_type": "code",
   "execution_count": 44,
   "id": "1140b155-89d4-4688-a13e-15574b47271d",
   "metadata": {},
   "outputs": [
    {
     "data": {
      "text/plain": [
       "'Tax deductions amount tracked by the government registry.'"
      ]
     },
     "execution_count": 44,
     "metadata": {},
     "output_type": "execute_result"
    }
   ],
   "source": [
    "get_column_description(feature_df, \"amount_4527230A\")"
   ]
  },
  {
   "cell_type": "code",
   "execution_count": 45,
   "id": "43ec7856-550b-40b1-847b-6ef7bf6ad597",
   "metadata": {},
   "outputs": [],
   "source": [
    "statistics_amount_4527230A_df = tax_registry_a_1_df.groupby(by=[\"case_id\"]).agg({\"amount_4527230A\": [\"max\", \"min\", \"mean\"]}).reset_index()\n",
    "statistics_amount_4527230A_df.columns  = ['case_id' if index_tuple[0] == 'case_id' else f\"generated_{index_tuple[0]}_{index_tuple[1]}\" for index_tuple in statistics_amount_4527230A_df.columns]"
   ]
  },
  {
   "cell_type": "code",
   "execution_count": 49,
   "id": "05e8a637-d48c-4401-b62c-f18fc7541b87",
   "metadata": {},
   "outputs": [
    {
     "data": {
      "text/plain": [
       "(457934, 4)"
      ]
     },
     "execution_count": 49,
     "metadata": {},
     "output_type": "execute_result"
    }
   ],
   "source": [
    "statistics_amount_4527230A_df.shape"
   ]
  },
  {
   "cell_type": "code",
   "execution_count": 48,
   "id": "b5b3dba3-6b19-4b3e-b2c9-27155c62f91c",
   "metadata": {},
   "outputs": [
    {
     "data": {
      "text/html": [
       "<div>\n",
       "<style scoped>\n",
       "    .dataframe tbody tr th:only-of-type {\n",
       "        vertical-align: middle;\n",
       "    }\n",
       "\n",
       "    .dataframe tbody tr th {\n",
       "        vertical-align: top;\n",
       "    }\n",
       "\n",
       "    .dataframe thead th {\n",
       "        text-align: right;\n",
       "    }\n",
       "</style>\n",
       "<table border=\"1\" class=\"dataframe\">\n",
       "  <thead>\n",
       "    <tr style=\"text-align: right;\">\n",
       "      <th></th>\n",
       "      <th>case_id</th>\n",
       "      <th>generated_amount_4527230A_max</th>\n",
       "      <th>generated_amount_4527230A_min</th>\n",
       "      <th>generated_amount_4527230A_mean</th>\n",
       "    </tr>\n",
       "  </thead>\n",
       "  <tbody>\n",
       "    <tr>\n",
       "      <th>12198</th>\n",
       "      <td>49435</td>\n",
       "      <td>850.0</td>\n",
       "      <td>850.0</td>\n",
       "      <td>850.000000</td>\n",
       "    </tr>\n",
       "    <tr>\n",
       "      <th>12232</th>\n",
       "      <td>49490</td>\n",
       "      <td>1337.6</td>\n",
       "      <td>1067.4</td>\n",
       "      <td>1150.966733</td>\n",
       "    </tr>\n",
       "    <tr>\n",
       "      <th>12254</th>\n",
       "      <td>49526</td>\n",
       "      <td>3776.2</td>\n",
       "      <td>3685.8</td>\n",
       "      <td>3731.000000</td>\n",
       "    </tr>\n",
       "  </tbody>\n",
       "</table>\n",
       "</div>"
      ],
      "text/plain": [
       "       case_id  generated_amount_4527230A_max  generated_amount_4527230A_min  \\\n",
       "12198    49435                          850.0                          850.0   \n",
       "12232    49490                         1337.6                         1067.4   \n",
       "12254    49526                         3776.2                         3685.8   \n",
       "\n",
       "       generated_amount_4527230A_mean  \n",
       "12198                      850.000000  \n",
       "12232                     1150.966733  \n",
       "12254                     3731.000000  "
      ]
     },
     "execution_count": 48,
     "metadata": {},
     "output_type": "execute_result"
    }
   ],
   "source": [
    "statistics_amount_4527230A_df[statistics_amount_4527230A_df.case_id.isin([49435, 49490, 49526])]"
   ]
  },
  {
   "cell_type": "code",
   "execution_count": 50,
   "id": "68fb9350-3e06-4589-9367-4df13c9b9789",
   "metadata": {},
   "outputs": [
    {
     "data": {
      "text/html": [
       "<div>\n",
       "<style scoped>\n",
       "    .dataframe tbody tr th:only-of-type {\n",
       "        vertical-align: middle;\n",
       "    }\n",
       "\n",
       "    .dataframe tbody tr th {\n",
       "        vertical-align: top;\n",
       "    }\n",
       "\n",
       "    .dataframe thead th {\n",
       "        text-align: right;\n",
       "    }\n",
       "</style>\n",
       "<table border=\"1\" class=\"dataframe\">\n",
       "  <thead>\n",
       "    <tr style=\"text-align: right;\">\n",
       "      <th></th>\n",
       "      <th>case_id</th>\n",
       "      <th>generated_amount_4527230A_max</th>\n",
       "      <th>generated_amount_4527230A_min</th>\n",
       "      <th>generated_amount_4527230A_mean</th>\n",
       "    </tr>\n",
       "  </thead>\n",
       "  <tbody>\n",
       "    <tr>\n",
       "      <th>0</th>\n",
       "      <td>28631</td>\n",
       "      <td>3616.4001</td>\n",
       "      <td>711.0000</td>\n",
       "      <td>2218.350025</td>\n",
       "    </tr>\n",
       "    <tr>\n",
       "      <th>1</th>\n",
       "      <td>28632</td>\n",
       "      <td>2564.0000</td>\n",
       "      <td>400.0000</td>\n",
       "      <td>1405.180010</td>\n",
       "    </tr>\n",
       "    <tr>\n",
       "      <th>2</th>\n",
       "      <td>28633</td>\n",
       "      <td>151.6000</td>\n",
       "      <td>151.6000</td>\n",
       "      <td>151.600000</td>\n",
       "    </tr>\n",
       "    <tr>\n",
       "      <th>3</th>\n",
       "      <td>28635</td>\n",
       "      <td>5637.8003</td>\n",
       "      <td>5461.8003</td>\n",
       "      <td>5549.800300</td>\n",
       "    </tr>\n",
       "    <tr>\n",
       "      <th>4</th>\n",
       "      <td>28636</td>\n",
       "      <td>2628.6000</td>\n",
       "      <td>850.0000</td>\n",
       "      <td>1773.942871</td>\n",
       "    </tr>\n",
       "  </tbody>\n",
       "</table>\n",
       "</div>"
      ],
      "text/plain": [
       "   case_id  generated_amount_4527230A_max  generated_amount_4527230A_min  \\\n",
       "0    28631                      3616.4001                       711.0000   \n",
       "1    28632                      2564.0000                       400.0000   \n",
       "2    28633                       151.6000                       151.6000   \n",
       "3    28635                      5637.8003                      5461.8003   \n",
       "4    28636                      2628.6000                       850.0000   \n",
       "\n",
       "   generated_amount_4527230A_mean  \n",
       "0                     2218.350025  \n",
       "1                     1405.180010  \n",
       "2                      151.600000  \n",
       "3                     5549.800300  \n",
       "4                     1773.942871  "
      ]
     },
     "execution_count": 50,
     "metadata": {},
     "output_type": "execute_result"
    }
   ],
   "source": [
    "statistics_amount_4527230A_df.sort_values(by=[\"case_id\"]).head()"
   ]
  },
  {
   "cell_type": "code",
   "execution_count": null,
   "id": "63c30e89-ef0a-4fab-bcca-c113b38bd4df",
   "metadata": {},
   "outputs": [],
   "source": []
  }
 ],
 "metadata": {
  "kernelspec": {
   "display_name": "personal_env",
   "language": "python",
   "name": "personal_env"
  },
  "language_info": {
   "codemirror_mode": {
    "name": "ipython",
    "version": 3
   },
   "file_extension": ".py",
   "mimetype": "text/x-python",
   "name": "python",
   "nbconvert_exporter": "python",
   "pygments_lexer": "ipython3",
   "version": "3.9.17"
  }
 },
 "nbformat": 4,
 "nbformat_minor": 5
}
