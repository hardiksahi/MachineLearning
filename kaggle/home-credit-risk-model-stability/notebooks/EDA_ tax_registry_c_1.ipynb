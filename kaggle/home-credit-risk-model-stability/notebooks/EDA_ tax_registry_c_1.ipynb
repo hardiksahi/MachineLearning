{
 "cells": [
  {
   "cell_type": "code",
   "execution_count": 1,
   "id": "3bb67328-30c2-466e-a30b-c827e91b08f2",
   "metadata": {},
   "outputs": [],
   "source": [
    "%load_ext autoreload\n",
    "%autoreload 2"
   ]
  },
  {
   "cell_type": "code",
   "execution_count": 2,
   "id": "3fb4977d-dffe-408c-bb3e-96f5177b7237",
   "metadata": {},
   "outputs": [
    {
     "data": {
      "text/html": [
       "<style>:root { --jp-notebook-max-width: 100% !important; }</style>"
      ],
      "text/plain": [
       "<IPython.core.display.HTML object>"
      ]
     },
     "metadata": {},
     "output_type": "display_data"
    }
   ],
   "source": [
    "from IPython.display import display, HTML\n",
    "display(HTML(\"<style>:root { --jp-notebook-max-width: 100% !important; }</style>\"))"
   ]
  },
  {
   "cell_type": "code",
   "execution_count": 3,
   "id": "854f3c02-fba3-4eca-aba2-28475414f66d",
   "metadata": {},
   "outputs": [],
   "source": [
    "import pandas as pd\n",
    "import numpy as np"
   ]
  },
  {
   "cell_type": "code",
   "execution_count": 4,
   "id": "fc372d5e-669b-491e-8b06-bb807ef02c0b",
   "metadata": {},
   "outputs": [],
   "source": [
    "import sys\n",
    "import os\n",
    "from collections import defaultdict, Counter"
   ]
  },
  {
   "cell_type": "code",
   "execution_count": 5,
   "id": "76c511bf-2625-4232-9581-893b52855dd9",
   "metadata": {},
   "outputs": [],
   "source": [
    "import math"
   ]
  },
  {
   "cell_type": "code",
   "execution_count": 6,
   "id": "b4755f23-ee07-4f30-bb55-9a6950683133",
   "metadata": {},
   "outputs": [],
   "source": [
    "import seaborn as sns\n",
    "import matplotlib.pyplot as plt "
   ]
  },
  {
   "cell_type": "markdown",
   "id": "13c47012-4b97-4417-be24-1b4972b0b3c0",
   "metadata": {},
   "source": [
    "## Constants"
   ]
  },
  {
   "cell_type": "code",
   "execution_count": 7,
   "id": "845a40a8-3299-4e6f-9bb6-9b82f1a302a2",
   "metadata": {},
   "outputs": [],
   "source": [
    "data_path = \"/Users/hardiksahi/Personal/MachineLearning/kaggle/home-credit-risk-model-stability/data/01_raw/home-credit-credit-risk-model-stability\""
   ]
  },
  {
   "cell_type": "markdown",
   "id": "c4de153a-7b7f-45a7-af4c-b99e6f3381e3",
   "metadata": {},
   "source": [
    "## Get paths of files"
   ]
  },
  {
   "cell_type": "code",
   "execution_count": 8,
   "id": "38dc336c-2c76-4490-8443-3cec7e4f758d",
   "metadata": {},
   "outputs": [],
   "source": [
    "base_file_dict = defaultdict(list)\n",
    "tax_registry_c_1_file_dict = defaultdict(list)\n",
    "for dirname, _, filenames in os.walk(data_path):\n",
    "    for filename in filenames:\n",
    "        file_path = os.path.join(dirname, filename)\n",
    "        if file_path.endswith('parquet'):\n",
    "            file_type = 'train' if 'train' in file_path else 'test'\n",
    "            if 'base' in file_path:\n",
    "                base_file_dict[file_type].append(file_path)\n",
    "            if 'tax_registry_c_1' in file_path:\n",
    "                tax_registry_c_1_file_dict[file_type].append(file_path)"
   ]
  },
  {
   "cell_type": "code",
   "execution_count": 9,
   "id": "00329a12-be0f-4072-9564-beb8cd6962b6",
   "metadata": {},
   "outputs": [
    {
     "data": {
      "text/plain": [
       "['/Users/hardiksahi/Personal/MachineLearning/kaggle/home-credit-risk-model-stability/data/01_raw/home-credit-credit-risk-model-stability/parquet_files/train/train_tax_registry_c_1.parquet']"
      ]
     },
     "execution_count": 9,
     "metadata": {},
     "output_type": "execute_result"
    }
   ],
   "source": [
    "tax_registry_c_1_file_dict.get(\"train\")"
   ]
  },
  {
   "cell_type": "markdown",
   "id": "4c39bc27-08de-4139-b317-f011454495cb",
   "metadata": {},
   "source": [
    "## Functions"
   ]
  },
  {
   "cell_type": "code",
   "execution_count": 10,
   "id": "09b11097-6170-4780-be86-d0a97d98c39f",
   "metadata": {},
   "outputs": [],
   "source": [
    "def get_column_description(feature_def_df, column_name):\n",
    "    return feature_def_df[feature_def_df.Variable == column_name]['Description'].iloc[0]"
   ]
  },
  {
   "cell_type": "code",
   "execution_count": 11,
   "id": "00acefb2-0f64-452f-9dbd-967b04505407",
   "metadata": {},
   "outputs": [],
   "source": [
    "def plot_scatterplot(df, x_col_name, y_col_name, show_x_y_line=False):\n",
    "    assert x_col_name in df.columns, f\"Ensure that {x_col_name} is in the df\"\n",
    "    assert y_col_name in df.columns, f\"Ensure that {y_col_name} is in the df\"\n",
    "    \n",
    "    fig, axs = plt.subplots()\n",
    "    sns.scatterplot(data=df, x=df[x_col_name], y=df[y_col_name], ax=axs)\n",
    "    \n",
    "    if show_x_y_line:\n",
    "        df[x_col_name] = df[x_col_name].replace([np.inf, -np.inf], np.nan)\n",
    "        df[y_col_name] = df[y_col_name].replace([np.inf, -np.inf], np.nan)\n",
    "        not_null_x_filter = ~df[x_col_name].isnull()\n",
    "        not_null_y_filter = ~df[y_col_name].isnull()\n",
    "        not_null_filter = not_null_x_filter & not_null_y_filter\n",
    "        filtered_df = df[not_null_filter]\n",
    "        x_values_series = filtered_df[x_col_name]\n",
    "        y_values_series = filtered_df[y_col_name]\n",
    "        x0, x1 = min(x_values_series), max(x_values_series)\n",
    "        y0, y1 = min(y_values_series), max(y_values_series)\n",
    "        #line_values = [i for i in np.arange(min(x0, y0), max(x1, y1), 0.1)]\n",
    "        lims = [min(x0, y0), max(x1, y1)]\n",
    "        print(f\"lims: {lims}\")\n",
    "        plt.plot(lims, lims)\n",
    "    return fig"
   ]
  },
  {
   "cell_type": "code",
   "execution_count": 12,
   "id": "f652e2c5-48f2-4ebf-8b48-4c2baa5e3b81",
   "metadata": {},
   "outputs": [],
   "source": [
    "def get_percent_of_column(df, groupby_column, target_column):\n",
    "    target_df = df.groupby(by=[groupby_column]).agg({target_column:\"sum\"}).reset_index()\n",
    "    all_rows_df = df.groupby(by=[groupby_column]).size().reset_index().rename({0:\"total_rows\"}, axis=1)\n",
    "    merged_df = target_df.merge(all_rows_df, left_on=[groupby_column], right_on=[groupby_column], how=\"left\")\n",
    "    merged_df[\"percentage_default\"] = 100*merged_df[\"target\"]/merged_df[\"total_rows\"]\n",
    "    merged_df[groupby_column] = merged_df[groupby_column].astype(str)\n",
    "    return merged_df"
   ]
  },
  {
   "cell_type": "code",
   "execution_count": 13,
   "id": "78e46fba-b469-4755-b8b7-c68161d5a306",
   "metadata": {},
   "outputs": [],
   "source": [
    "def plot_barplot(df, percent_column, category_column):\n",
    "    fig, ax = plt.subplots(1,1,figsize=(8,5))\n",
    "    sns.barplot(ax=ax, data=df, y=category_column, x=percent_column, order=df.sort_values(by=[percent_column], ascending=False)[category_column].values)\n",
    "    return fig"
   ]
  },
  {
   "cell_type": "code",
   "execution_count": 14,
   "id": "99e43f9c-d7f1-4c39-831c-fdddae263ea2",
   "metadata": {},
   "outputs": [],
   "source": [
    "def get_relevant_indices(series):\n",
    "    percentile_25 = series.quantile(0.25)\n",
    "    percentile_75 = series.quantile(0.75)\n",
    "    iqr = percentile_75-percentile_25\n",
    "    upper_limit = percentile_75 + 1.5*iqr\n",
    "    lower_limit = percentile_25 - 1.5*iqr\n",
    "\n",
    "    keep_indices = series[(series>=lower_limit) & (series<=upper_limit)].index\n",
    "    return keep_indices "
   ]
  },
  {
   "cell_type": "markdown",
   "id": "42c9b613-f496-4e80-968b-8b03a19bc5b2",
   "metadata": {},
   "source": [
    "## Read datasets"
   ]
  },
  {
   "cell_type": "code",
   "execution_count": 15,
   "id": "284e3f94-6f38-4528-a2f3-55385fc43576",
   "metadata": {},
   "outputs": [
    {
     "name": "stdout",
     "output_type": "stream",
     "text": [
      "Shape of feature_df: (465, 2)\n"
     ]
    }
   ],
   "source": [
    "feature_df = pd.read_csv(f\"{data_path}/feature_definitions.csv\")\n",
    "print(f\"Shape of feature_df: {feature_df.shape}\")"
   ]
  },
  {
   "cell_type": "code",
   "execution_count": 16,
   "id": "e013e2a5-5d1e-4104-835d-b1d4ab8bb59f",
   "metadata": {},
   "outputs": [
    {
     "name": "stdout",
     "output_type": "stream",
     "text": [
      "Shape of train_base_df: (1526659, 5)\n"
     ]
    }
   ],
   "source": [
    "train_base_df = pd.concat([pd.read_parquet(file_path) for file_path in base_file_dict['train']], axis=0)\n",
    "print(f\"Shape of train_base_df: {train_base_df.shape}\")"
   ]
  },
  {
   "cell_type": "markdown",
   "id": "4563d03c-03bc-4ee9-9af6-2e05c22814c7",
   "metadata": {},
   "source": [
    "## Properties: depth=1, internal data source"
   ]
  },
  {
   "cell_type": "code",
   "execution_count": 17,
   "id": "7cbddef1-b6b6-451c-8cd1-5210e66b102e",
   "metadata": {},
   "outputs": [
    {
     "name": "stdout",
     "output_type": "stream",
     "text": [
      "Shape of tax_registry_c_1_df: (3343800, 5)\n"
     ]
    }
   ],
   "source": [
    "tax_registry_c_1_df = pd.concat([pd.read_parquet(file_path) for file_path in tax_registry_c_1_file_dict['train']], axis=0)\n",
    "print(f\"Shape of tax_registry_c_1_df: {tax_registry_c_1_df.shape}\")"
   ]
  },
  {
   "cell_type": "code",
   "execution_count": 18,
   "id": "7c7c43cb-9143-41cd-a88f-9b1d152e57ab",
   "metadata": {},
   "outputs": [
    {
     "data": {
      "text/plain": [
       "Index(['case_id', 'employername_160M', 'num_group1', 'pmtamount_36A',\n",
       "       'processingdate_168D'],\n",
       "      dtype='object')"
      ]
     },
     "execution_count": 18,
     "metadata": {},
     "output_type": "execute_result"
    }
   ],
   "source": [
    "tax_registry_c_1_df.columns.unique()"
   ]
  },
  {
   "cell_type": "code",
   "execution_count": 20,
   "id": "294efaae-516f-46e7-9a9c-5a947f10bd36",
   "metadata": {},
   "outputs": [],
   "source": [
    "train_base_df[\"date_decision\"] = pd.to_datetime(train_base_df[\"date_decision\"])\n",
    "\n",
    "tax_registry_c_1_df[\"processingdate_168D\"] = pd.to_datetime(tax_registry_c_1_df[\"processingdate_168D\"])"
   ]
  },
  {
   "cell_type": "markdown",
   "id": "9a63c48a-ba8c-4dec-ae48-a440a11b9086",
   "metadata": {},
   "source": [
    "## This means that there are multiple rows for each case_id indexed by num_group1"
   ]
  },
  {
   "cell_type": "code",
   "execution_count": 21,
   "id": "f763aa57-a789-4913-9bb0-254a325f34ba",
   "metadata": {},
   "outputs": [],
   "source": [
    "unique_num_group_case_id_df = tax_registry_c_1_df.groupby(by=[\"case_id\"]).agg({\"num_group1\": \"nunique\"}).reset_index().rename({\"num_group1\": \"generated_count_of_tax_information_by_provider_c\"}, axis=1)"
   ]
  },
  {
   "cell_type": "code",
   "execution_count": 22,
   "id": "8d6ceb15-f547-4656-9745-211f180efea7",
   "metadata": {},
   "outputs": [
    {
     "data": {
      "text/html": [
       "<div>\n",
       "<style scoped>\n",
       "    .dataframe tbody tr th:only-of-type {\n",
       "        vertical-align: middle;\n",
       "    }\n",
       "\n",
       "    .dataframe tbody tr th {\n",
       "        vertical-align: top;\n",
       "    }\n",
       "\n",
       "    .dataframe thead th {\n",
       "        text-align: right;\n",
       "    }\n",
       "</style>\n",
       "<table border=\"1\" class=\"dataframe\">\n",
       "  <thead>\n",
       "    <tr style=\"text-align: right;\">\n",
       "      <th></th>\n",
       "      <th>case_id</th>\n",
       "      <th>generated_count_of_tax_information_by_provider_c</th>\n",
       "    </tr>\n",
       "  </thead>\n",
       "  <tbody>\n",
       "    <tr>\n",
       "      <th>482264</th>\n",
       "      <td>2629815</td>\n",
       "      <td>11</td>\n",
       "    </tr>\n",
       "    <tr>\n",
       "      <th>135554</th>\n",
       "      <td>712683</td>\n",
       "      <td>11</td>\n",
       "    </tr>\n",
       "    <tr>\n",
       "      <th>344817</th>\n",
       "      <td>1438634</td>\n",
       "      <td>11</td>\n",
       "    </tr>\n",
       "    <tr>\n",
       "      <th>344820</th>\n",
       "      <td>1438640</td>\n",
       "      <td>11</td>\n",
       "    </tr>\n",
       "    <tr>\n",
       "      <th>135522</th>\n",
       "      <td>712639</td>\n",
       "      <td>11</td>\n",
       "    </tr>\n",
       "  </tbody>\n",
       "</table>\n",
       "</div>"
      ],
      "text/plain": [
       "        case_id  generated_count_of_tax_information_by_provider_c\n",
       "482264  2629815                                                11\n",
       "135554   712683                                                11\n",
       "344817  1438634                                                11\n",
       "344820  1438640                                                11\n",
       "135522   712639                                                11"
      ]
     },
     "execution_count": 22,
     "metadata": {},
     "output_type": "execute_result"
    }
   ],
   "source": [
    "unique_num_group_case_id_df[unique_num_group_case_id_df.generated_count_of_tax_information_by_provider_c>10].sort_values(by=[\"generated_count_of_tax_information_by_provider_c\"]).head(5)"
   ]
  },
  {
   "cell_type": "code",
   "execution_count": 23,
   "id": "07fd5b3a-678b-4c09-9dc1-f698ad9abc8f",
   "metadata": {},
   "outputs": [
    {
     "data": {
      "text/html": [
       "<div>\n",
       "<style scoped>\n",
       "    .dataframe tbody tr th:only-of-type {\n",
       "        vertical-align: middle;\n",
       "    }\n",
       "\n",
       "    .dataframe tbody tr th {\n",
       "        vertical-align: top;\n",
       "    }\n",
       "\n",
       "    .dataframe thead th {\n",
       "        text-align: right;\n",
       "    }\n",
       "</style>\n",
       "<table border=\"1\" class=\"dataframe\">\n",
       "  <thead>\n",
       "    <tr style=\"text-align: right;\">\n",
       "      <th></th>\n",
       "      <th>case_id</th>\n",
       "      <th>employername_160M</th>\n",
       "      <th>num_group1</th>\n",
       "      <th>pmtamount_36A</th>\n",
       "      <th>processingdate_168D</th>\n",
       "    </tr>\n",
       "  </thead>\n",
       "  <tbody>\n",
       "  </tbody>\n",
       "</table>\n",
       "</div>"
      ],
      "text/plain": [
       "Empty DataFrame\n",
       "Columns: [case_id, employername_160M, num_group1, pmtamount_36A, processingdate_168D]\n",
       "Index: []"
      ]
     },
     "execution_count": 23,
     "metadata": {},
     "output_type": "execute_result"
    }
   ],
   "source": [
    "tax_registry_c_1_df[tax_registry_c_1_df.case_id == 1846104].sort_values(by=[\"num_group1\"]).head()"
   ]
  },
  {
   "cell_type": "code",
   "execution_count": 24,
   "id": "435dc70d-9744-4d1b-871e-b71289bc6d54",
   "metadata": {},
   "outputs": [
    {
     "data": {
      "text/plain": [
       "<Axes: ylabel='generated_count_of_tax_information_by_provider_c'>"
      ]
     },
     "execution_count": 24,
     "metadata": {},
     "output_type": "execute_result"
    },
    {
     "data": {
      "image/png": "[encoded data removed]",
      "text/plain": [
       "<Figure size 640x480 with 1 Axes>"
      ]
     },
     "metadata": {},
     "output_type": "display_data"
    }
   ],
   "source": [
    "sns.boxplot(data=unique_num_group_case_id_df, y=\"generated_count_of_tax_information_by_provider_c\")"
   ]
  },
  {
   "cell_type": "markdown",
   "id": "6fd39406-9129-419b-83e3-d4eb4c8d68de",
   "metadata": {},
   "source": [
    "## Number of tax related records provided for case_ids vary from 1 to 99"
   ]
  },
  {
   "cell_type": "markdown",
   "id": "2ba95d87-35aa-4394-bf6d-5a0aad39d65c",
   "metadata": {},
   "source": [
    "### 1. processingdate_168D"
   ]
  },
  {
   "cell_type": "code",
   "execution_count": 26,
   "id": "04f01158-b304-40c6-81e0-cdd7b633003e",
   "metadata": {},
   "outputs": [
    {
     "data": {
      "text/plain": [
       "'Date when the tax deduction is processed.'"
      ]
     },
     "execution_count": 26,
     "metadata": {},
     "output_type": "execute_result"
    }
   ],
   "source": [
    "get_column_description(feature_df, \"processingdate_168D\")"
   ]
  },
  {
   "cell_type": "code",
   "execution_count": 28,
   "id": "1ce62dd5-261f-4dfc-8ebc-6e76a6464f63",
   "metadata": {},
   "outputs": [
    {
     "data": {
      "text/plain": [
       "processingdate_168D\n",
       "False    3343800\n",
       "Name: count, dtype: int64"
      ]
     },
     "execution_count": 28,
     "metadata": {},
     "output_type": "execute_result"
    }
   ],
   "source": [
    "tax_registry_c_1_df.processingdate_168D.isnull().value_counts()"
   ]
  },
  {
   "cell_type": "code",
   "execution_count": 29,
   "id": "b7069470-8ce8-43c0-89b7-ecae82764a00",
   "metadata": {},
   "outputs": [],
   "source": [
    "## Check across how unique dates are tax deduction records for a given case_id\n",
    "statistics_processingdate_168D_for_case_id_df = tax_registry_c_1_df.groupby(by=[\"case_id\"]).agg({\"processingdate_168D\": [\"nunique\", \"max\"]}).reset_index()\n",
    "statistics_processingdate_168D_for_case_id_df.columns  = ['case_id' if index_tuple[0] == 'case_id' else f\"generated_{index_tuple[0]}_{index_tuple[1]}\" for index_tuple in statistics_processingdate_168D_for_case_id_df.columns]"
   ]
  },
  {
   "cell_type": "code",
   "execution_count": 30,
   "id": "4b00eb68-38fb-421c-aeac-b3a72e308489",
   "metadata": {},
   "outputs": [
    {
     "data": {
      "text/html": [
       "<div>\n",
       "<style scoped>\n",
       "    .dataframe tbody tr th:only-of-type {\n",
       "        vertical-align: middle;\n",
       "    }\n",
       "\n",
       "    .dataframe tbody tr th {\n",
       "        vertical-align: top;\n",
       "    }\n",
       "\n",
       "    .dataframe thead th {\n",
       "        text-align: right;\n",
       "    }\n",
       "</style>\n",
       "<table border=\"1\" class=\"dataframe\">\n",
       "  <thead>\n",
       "    <tr style=\"text-align: right;\">\n",
       "      <th></th>\n",
       "      <th>case_id</th>\n",
       "      <th>generated_processingdate_168D_nunique</th>\n",
       "      <th>generated_processingdate_168D_max</th>\n",
       "    </tr>\n",
       "  </thead>\n",
       "  <tbody>\n",
       "    <tr>\n",
       "      <th>0</th>\n",
       "      <td>357</td>\n",
       "      <td>6</td>\n",
       "      <td>2019-01-04</td>\n",
       "    </tr>\n",
       "    <tr>\n",
       "      <th>1</th>\n",
       "      <td>381</td>\n",
       "      <td>5</td>\n",
       "      <td>2018-12-27</td>\n",
       "    </tr>\n",
       "  </tbody>\n",
       "</table>\n",
       "</div>"
      ],
      "text/plain": [
       "   case_id  generated_processingdate_168D_nunique  \\\n",
       "0      357                                      6   \n",
       "1      381                                      5   \n",
       "\n",
       "  generated_processingdate_168D_max  \n",
       "0                        2019-01-04  \n",
       "1                        2018-12-27  "
      ]
     },
     "execution_count": 30,
     "metadata": {},
     "output_type": "execute_result"
    }
   ],
   "source": [
    "statistics_processingdate_168D_for_case_id_df.head(2)"
   ]
  },
  {
   "cell_type": "code",
   "execution_count": 31,
   "id": "2fd1d942-831f-4f48-8775-fcd95dd08f07",
   "metadata": {},
   "outputs": [
    {
     "name": "stdout",
     "output_type": "stream",
     "text": [
      "Minimum number of unique dates associated with case_id: 1\n",
      "Maximum number of unique dates associated with case_id: 38\n"
     ]
    }
   ],
   "source": [
    "print(f\"Minimum number of unique dates associated with case_id: {statistics_processingdate_168D_for_case_id_df['generated_processingdate_168D_nunique'].min()}\")\n",
    "print(f\"Maximum number of unique dates associated with case_id: {statistics_processingdate_168D_for_case_id_df['generated_processingdate_168D_nunique'].max()}\")"
   ]
  },
  {
   "cell_type": "markdown",
   "id": "6c156b60-61ac-47a0-ab9d-049ad50f0def",
   "metadata": {},
   "source": [
    "## A case_id is associated with 1 to 38 unique dates"
   ]
  },
  {
   "cell_type": "markdown",
   "id": "b001ea12-b3f0-40e0-8852-7a45cc198e2d",
   "metadata": {},
   "source": [
    "## Is this the date on which tax deduction record was provided by the registry to homecredit instead of the date of tx deduction??"
   ]
  },
  {
   "cell_type": "code",
   "execution_count": 32,
   "id": "1a6496a1-30e8-4401-99ff-6938d48071c3",
   "metadata": {},
   "outputs": [
    {
     "name": "stdout",
     "output_type": "stream",
     "text": [
      "Min processingdate_168D: 2018-07-11 00:00:00\n",
      "Max processingdate_168D: 2019-10-22 00:00:00\n"
     ]
    }
   ],
   "source": [
    "print(f\"Min processingdate_168D: {tax_registry_c_1_df.processingdate_168D.min()}\")\n",
    "print(f\"Max processingdate_168D: {tax_registry_c_1_df.processingdate_168D.max()}\")"
   ]
  },
  {
   "cell_type": "markdown",
   "id": "1e330adc-943f-4448-87e7-e50772f3a38d",
   "metadata": {},
   "source": [
    "## This record information is obtained across an year..."
   ]
  },
  {
   "cell_type": "code",
   "execution_count": 33,
   "id": "004bda86-18b5-4eb5-a25c-5bed944ecda4",
   "metadata": {},
   "outputs": [
    {
     "name": "stdout",
     "output_type": "stream",
     "text": [
      "Shape of merged_train_base_statistics_processingdate_168D_for_case_id_df: (1526659, 7)\n"
     ]
    }
   ],
   "source": [
    "merged_train_base_statistics_processingdate_168D_for_case_id_df = train_base_df.merge(statistics_processingdate_168D_for_case_id_df, left_on=[\"case_id\"], right_on=[\"case_id\"], validate=\"one_to_one\", how=\"left\")\n",
    "print(f\"Shape of merged_train_base_statistics_processingdate_168D_for_case_id_df: {merged_train_base_statistics_processingdate_168D_for_case_id_df.shape}\")"
   ]
  },
  {
   "cell_type": "code",
   "execution_count": 34,
   "id": "478b6a4c-17be-4aa0-8e3a-352069b9221b",
   "metadata": {},
   "outputs": [
    {
     "data": {
      "text/html": [
       "<div>\n",
       "<style scoped>\n",
       "    .dataframe tbody tr th:only-of-type {\n",
       "        vertical-align: middle;\n",
       "    }\n",
       "\n",
       "    .dataframe tbody tr th {\n",
       "        vertical-align: top;\n",
       "    }\n",
       "\n",
       "    .dataframe thead th {\n",
       "        text-align: right;\n",
       "    }\n",
       "</style>\n",
       "<table border=\"1\" class=\"dataframe\">\n",
       "  <thead>\n",
       "    <tr style=\"text-align: right;\">\n",
       "      <th></th>\n",
       "      <th>case_id</th>\n",
       "      <th>date_decision</th>\n",
       "      <th>MONTH</th>\n",
       "      <th>WEEK_NUM</th>\n",
       "      <th>target</th>\n",
       "      <th>generated_processingdate_168D_nunique</th>\n",
       "      <th>generated_processingdate_168D_max</th>\n",
       "    </tr>\n",
       "  </thead>\n",
       "  <tbody>\n",
       "    <tr>\n",
       "      <th>0</th>\n",
       "      <td>0</td>\n",
       "      <td>2019-01-03</td>\n",
       "      <td>201901</td>\n",
       "      <td>0</td>\n",
       "      <td>0</td>\n",
       "      <td>NaN</td>\n",
       "      <td>NaT</td>\n",
       "    </tr>\n",
       "    <tr>\n",
       "      <th>1</th>\n",
       "      <td>1</td>\n",
       "      <td>2019-01-03</td>\n",
       "      <td>201901</td>\n",
       "      <td>0</td>\n",
       "      <td>0</td>\n",
       "      <td>NaN</td>\n",
       "      <td>NaT</td>\n",
       "    </tr>\n",
       "  </tbody>\n",
       "</table>\n",
       "</div>"
      ],
      "text/plain": [
       "   case_id date_decision   MONTH  WEEK_NUM  target  \\\n",
       "0        0    2019-01-03  201901         0       0   \n",
       "1        1    2019-01-03  201901         0       0   \n",
       "\n",
       "   generated_processingdate_168D_nunique generated_processingdate_168D_max  \n",
       "0                                    NaN                               NaT  \n",
       "1                                    NaN                               NaT  "
      ]
     },
     "execution_count": 34,
     "metadata": {},
     "output_type": "execute_result"
    }
   ],
   "source": [
    "merged_train_base_statistics_processingdate_168D_for_case_id_df.head(2)"
   ]
  },
  {
   "cell_type": "code",
   "execution_count": 35,
   "id": "a7528fbe-1840-4aff-bfd0-2f7730be71f8",
   "metadata": {},
   "outputs": [],
   "source": [
    "merged_train_base_statistics_processingdate_168D_for_case_id_df[\"day_gap_between_processingdate_168D_and_date_decision\"] = (merged_train_base_statistics_processingdate_168D_for_case_id_df[\"generated_processingdate_168D_max\"]-merged_train_base_statistics_processingdate_168D_for_case_id_df[\"date_decision\"]).dt.days"
   ]
  },
  {
   "cell_type": "code",
   "execution_count": 36,
   "id": "3b81a392-ca70-4a87-898f-c6fa4990b006",
   "metadata": {},
   "outputs": [
    {
     "data": {
      "text/plain": [
       "<Axes: xlabel='target', ylabel='day_gap_between_processingdate_168D_and_date_decision'>"
      ]
     },
     "execution_count": 36,
     "metadata": {},
     "output_type": "execute_result"
    },
    {
     "data": {
      "image/png": "[encoded data removed]",
      "text/plain": [
       "<Figure size 640x480 with 1 Axes>"
      ]
     },
     "metadata": {},
     "output_type": "display_data"
    }
   ],
   "source": [
    "sns.boxplot(data=merged_train_base_statistics_processingdate_168D_for_case_id_df, y=\"day_gap_between_processingdate_168D_and_date_decision\", x=\"target\")"
   ]
  },
  {
   "cell_type": "markdown",
   "id": "7036ba1d-54b3-4840-9a33-45a0a99848a3",
   "metadata": {},
   "source": [
    "## Some tax deduction was done before date_decision and some after.  "
   ]
  },
  {
   "cell_type": "code",
   "execution_count": 37,
   "id": "37fcdd9b-1251-4f00-a26a-7215707645e8",
   "metadata": {},
   "outputs": [
    {
     "data": {
      "text/plain": [
       "day_gap_between_processingdate_168D_and_date_decision\n",
       " 14.0     74788\n",
       " 10.0     13339\n",
       " 12.0     13313\n",
       " 11.0     13267\n",
       " 9.0      12498\n",
       "          ...  \n",
       "-178.0        3\n",
       "-172.0        2\n",
       "-176.0        1\n",
       "-177.0        1\n",
       "-183.0        1\n",
       "Name: count, Length: 194, dtype: int64"
      ]
     },
     "execution_count": 37,
     "metadata": {},
     "output_type": "execute_result"
    }
   ],
   "source": [
    "merged_train_base_statistics_processingdate_168D_for_case_id_df[~merged_train_base_statistics_processingdate_168D_for_case_id_df.generated_processingdate_168D_nunique.isnull()][\"day_gap_between_processingdate_168D_and_date_decision\"].value_counts()"
   ]
  },
  {
   "cell_type": "markdown",
   "id": "11a3555c-7115-4eaf-af7a-2ba5d5c3a4e8",
   "metadata": {},
   "source": [
    "### 2. pmtamount_36A"
   ]
  },
  {
   "cell_type": "code",
   "execution_count": 38,
   "id": "1be5815d-2679-4f97-a4cd-cf76469538a5",
   "metadata": {},
   "outputs": [
    {
     "data": {
      "text/plain": [
       "'Tax deductions amount for credit bureau payments.'"
      ]
     },
     "execution_count": 38,
     "metadata": {},
     "output_type": "execute_result"
    }
   ],
   "source": [
    "get_column_description(feature_df, \"pmtamount_36A\")"
   ]
  },
  {
   "cell_type": "code",
   "execution_count": 39,
   "id": "5a7ff3a1-fd63-454b-9a98-947cc678d4de",
   "metadata": {},
   "outputs": [],
   "source": [
    "statistics_pmtamount_36A_df = tax_registry_c_1_df.groupby(by=[\"case_id\"]).agg({\"pmtamount_36A\": [\"max\", \"min\", \"mean\"]}).reset_index()\n",
    "statistics_pmtamount_36A_df.columns  = ['case_id' if index_tuple[0] == 'case_id' else f\"generated_{index_tuple[0]}_{index_tuple[1]}\" for index_tuple in statistics_pmtamount_36A_df.columns]"
   ]
  },
  {
   "cell_type": "code",
   "execution_count": 42,
   "id": "20a3d44f-5374-4b01-943e-2bfbab31a19f",
   "metadata": {},
   "outputs": [
    {
     "data": {
      "text/html": [
       "<div>\n",
       "<style scoped>\n",
       "    .dataframe tbody tr th:only-of-type {\n",
       "        vertical-align: middle;\n",
       "    }\n",
       "\n",
       "    .dataframe tbody tr th {\n",
       "        vertical-align: top;\n",
       "    }\n",
       "\n",
       "    .dataframe thead th {\n",
       "        text-align: right;\n",
       "    }\n",
       "</style>\n",
       "<table border=\"1\" class=\"dataframe\">\n",
       "  <thead>\n",
       "    <tr style=\"text-align: right;\">\n",
       "      <th></th>\n",
       "      <th>case_id</th>\n",
       "      <th>generated_pmtamount_36A_max</th>\n",
       "      <th>generated_pmtamount_36A_min</th>\n",
       "      <th>generated_pmtamount_36A_mean</th>\n",
       "    </tr>\n",
       "  </thead>\n",
       "  <tbody>\n",
       "    <tr>\n",
       "      <th>0</th>\n",
       "      <td>357</td>\n",
       "      <td>1200.00000</td>\n",
       "      <td>628.600040</td>\n",
       "      <td>1050.233340</td>\n",
       "    </tr>\n",
       "    <tr>\n",
       "      <th>1</th>\n",
       "      <td>381</td>\n",
       "      <td>690.60004</td>\n",
       "      <td>665.800000</td>\n",
       "      <td>669.933340</td>\n",
       "    </tr>\n",
       "    <tr>\n",
       "      <th>2</th>\n",
       "      <td>388</td>\n",
       "      <td>2708.40010</td>\n",
       "      <td>2200.000000</td>\n",
       "      <td>2424.666683</td>\n",
       "    </tr>\n",
       "    <tr>\n",
       "      <th>3</th>\n",
       "      <td>405</td>\n",
       "      <td>2933.10000</td>\n",
       "      <td>742.060000</td>\n",
       "      <td>1749.706700</td>\n",
       "    </tr>\n",
       "    <tr>\n",
       "      <th>4</th>\n",
       "      <td>409</td>\n",
       "      <td>1610.73400</td>\n",
       "      <td>69.840004</td>\n",
       "      <td>906.411402</td>\n",
       "    </tr>\n",
       "  </tbody>\n",
       "</table>\n",
       "</div>"
      ],
      "text/plain": [
       "   case_id  generated_pmtamount_36A_max  generated_pmtamount_36A_min  \\\n",
       "0      357                   1200.00000                   628.600040   \n",
       "1      381                    690.60004                   665.800000   \n",
       "2      388                   2708.40010                  2200.000000   \n",
       "3      405                   2933.10000                   742.060000   \n",
       "4      409                   1610.73400                    69.840004   \n",
       "\n",
       "   generated_pmtamount_36A_mean  \n",
       "0                   1050.233340  \n",
       "1                    669.933340  \n",
       "2                   2424.666683  \n",
       "3                   1749.706700  \n",
       "4                    906.411402  "
      ]
     },
     "execution_count": 42,
     "metadata": {},
     "output_type": "execute_result"
    }
   ],
   "source": [
    "statistics_pmtamount_36A_df.sort_values(by=[\"case_id\"]).head()"
   ]
  },
  {
   "cell_type": "markdown",
   "id": "6c01c2df-6ffb-403a-b018-6ba19e925c78",
   "metadata": {},
   "source": [
    "### 3. employername_160M"
   ]
  },
  {
   "cell_type": "code",
   "execution_count": 43,
   "id": "85132eab-a902-4949-af24-7c8029618c43",
   "metadata": {},
   "outputs": [
    {
     "data": {
      "text/plain": [
       "\"Employer's name.\""
      ]
     },
     "execution_count": 43,
     "metadata": {},
     "output_type": "execute_result"
    }
   ],
   "source": [
    "get_column_description(feature_df, \"employername_160M\")"
   ]
  },
  {
   "cell_type": "code",
   "execution_count": 45,
   "id": "6d437e2f-6942-4411-944f-8853aca264a0",
   "metadata": {},
   "outputs": [],
   "source": [
    "statistics_employername_160M_for_case_id_df = tax_registry_c_1_df.groupby(by=[\"case_id\"]).agg(generated_employername_160M_nunique=pd.NamedAgg(column=\"employername_160M\", aggfunc=\"nunique\"), generated_employername_160M_mode=pd.NamedAgg(column=\"employername_160M\", aggfunc=lambda x:x.value_counts().index[0]))"
   ]
  },
  {
   "cell_type": "code",
   "execution_count": 46,
   "id": "c9d51bc2-8bee-4c57-93bb-a5c77d93cd31",
   "metadata": {},
   "outputs": [
    {
     "data": {
      "text/html": [
       "<div>\n",
       "<style scoped>\n",
       "    .dataframe tbody tr th:only-of-type {\n",
       "        vertical-align: middle;\n",
       "    }\n",
       "\n",
       "    .dataframe tbody tr th {\n",
       "        vertical-align: top;\n",
       "    }\n",
       "\n",
       "    .dataframe thead th {\n",
       "        text-align: right;\n",
       "    }\n",
       "</style>\n",
       "<table border=\"1\" class=\"dataframe\">\n",
       "  <thead>\n",
       "    <tr style=\"text-align: right;\">\n",
       "      <th></th>\n",
       "      <th>generated_employername_160M_nunique</th>\n",
       "      <th>generated_employername_160M_mode</th>\n",
       "    </tr>\n",
       "    <tr>\n",
       "      <th>case_id</th>\n",
       "      <th></th>\n",
       "      <th></th>\n",
       "    </tr>\n",
       "  </thead>\n",
       "  <tbody>\n",
       "    <tr>\n",
       "      <th>357</th>\n",
       "      <td>1</td>\n",
       "      <td>c91b12ff</td>\n",
       "    </tr>\n",
       "    <tr>\n",
       "      <th>381</th>\n",
       "      <td>1</td>\n",
       "      <td>8026f2a0</td>\n",
       "    </tr>\n",
       "    <tr>\n",
       "      <th>388</th>\n",
       "      <td>1</td>\n",
       "      <td>34cb7f48</td>\n",
       "    </tr>\n",
       "    <tr>\n",
       "      <th>405</th>\n",
       "      <td>2</td>\n",
       "      <td>6771878b</td>\n",
       "    </tr>\n",
       "    <tr>\n",
       "      <th>409</th>\n",
       "      <td>1</td>\n",
       "      <td>1d197dc0</td>\n",
       "    </tr>\n",
       "    <tr>\n",
       "      <th>...</th>\n",
       "      <td>...</td>\n",
       "      <td>...</td>\n",
       "    </tr>\n",
       "    <tr>\n",
       "      <th>2629807</th>\n",
       "      <td>2</td>\n",
       "      <td>1350d5dd</td>\n",
       "    </tr>\n",
       "    <tr>\n",
       "      <th>2629808</th>\n",
       "      <td>2</td>\n",
       "      <td>ebf172fc</td>\n",
       "    </tr>\n",
       "    <tr>\n",
       "      <th>2629809</th>\n",
       "      <td>2</td>\n",
       "      <td>f7202a88</td>\n",
       "    </tr>\n",
       "    <tr>\n",
       "      <th>2629812</th>\n",
       "      <td>1</td>\n",
       "      <td>6069ceca</td>\n",
       "    </tr>\n",
       "    <tr>\n",
       "      <th>2629815</th>\n",
       "      <td>1</td>\n",
       "      <td>378c3e37</td>\n",
       "    </tr>\n",
       "  </tbody>\n",
       "</table>\n",
       "<p>482265 rows × 2 columns</p>\n",
       "</div>"
      ],
      "text/plain": [
       "         generated_employername_160M_nunique generated_employername_160M_mode\n",
       "case_id                                                                      \n",
       "357                                        1                         c91b12ff\n",
       "381                                        1                         8026f2a0\n",
       "388                                        1                         34cb7f48\n",
       "405                                        2                         6771878b\n",
       "409                                        1                         1d197dc0\n",
       "...                                      ...                              ...\n",
       "2629807                                    2                         1350d5dd\n",
       "2629808                                    2                         ebf172fc\n",
       "2629809                                    2                         f7202a88\n",
       "2629812                                    1                         6069ceca\n",
       "2629815                                    1                         378c3e37\n",
       "\n",
       "[482265 rows x 2 columns]"
      ]
     },
     "execution_count": 46,
     "metadata": {},
     "output_type": "execute_result"
    }
   ],
   "source": [
    "statistics_employername_160M_for_case_id_df"
   ]
  },
  {
   "cell_type": "markdown",
   "id": "f39121c3-8229-4f41-8e63-9407e3a5e310",
   "metadata": {},
   "source": [
    "Use tax_registry b and c"
   ]
  },
  {
   "cell_type": "code",
   "execution_count": null,
   "id": "3bacb280-fd93-4212-9a3b-37dee2b4e755",
   "metadata": {},
   "outputs": [],
   "source": []
  }
 ],
 "metadata": {
  "kernelspec": {
   "display_name": "personal_env",
   "language": "python",
   "name": "personal_env"
  },
  "language_info": {
   "codemirror_mode": {
    "name": "ipython",
    "version": 3
   },
   "file_extension": ".py",
   "mimetype": "text/x-python",
   "name": "python",
   "nbconvert_exporter": "python",
   "pygments_lexer": "ipython3",
   "version": "3.9.17"
  }
 },
 "nbformat": 4,
 "nbformat_minor": 5
}
