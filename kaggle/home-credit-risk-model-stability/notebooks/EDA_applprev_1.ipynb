{
 "cells": [
  {
   "cell_type": "code",
   "execution_count": null,
   "id": "3bb67328-30c2-466e-a30b-c827e91b08f2",
   "metadata": {},
   "outputs": [],
   "source": [
    "%load_ext autoreload\n",
    "%autoreload 2"
   ]
  },
  {
   "cell_type": "code",
   "execution_count": null,
   "id": "3fb4977d-dffe-408c-bb3e-96f5177b7237",
   "metadata": {},
   "outputs": [],
   "source": [
    "from IPython.display import display, HTML\n",
    "display(HTML(\"<style>:root { --jp-notebook-max-width: 100% !important; }</style>\"))"
   ]
  },
  {
   "cell_type": "code",
   "execution_count": null,
   "id": "854f3c02-fba3-4eca-aba2-28475414f66d",
   "metadata": {},
   "outputs": [],
   "source": [
    "import pandas as pd\n",
    "import numpy as np"
   ]
  },
  {
   "cell_type": "code",
   "execution_count": null,
   "id": "fc372d5e-669b-491e-8b06-bb807ef02c0b",
   "metadata": {},
   "outputs": [],
   "source": [
    "import sys\n",
    "import os\n",
    "from collections import defaultdict, Counter"
   ]
  },
  {
   "cell_type": "code",
   "execution_count": null,
   "id": "76c511bf-2625-4232-9581-893b52855dd9",
   "metadata": {},
   "outputs": [],
   "source": [
    "import math"
   ]
  },
  {
   "cell_type": "code",
   "execution_count": null,
   "id": "b4755f23-ee07-4f30-bb55-9a6950683133",
   "metadata": {},
   "outputs": [],
   "source": [
    "import seaborn as sns\n",
    "import matplotlib.pyplot as plt "
   ]
  },
  {
   "cell_type": "markdown",
   "id": "13c47012-4b97-4417-be24-1b4972b0b3c0",
   "metadata": {},
   "source": [
    "## Constants"
   ]
  },
  {
   "cell_type": "code",
   "execution_count": null,
   "id": "845a40a8-3299-4e6f-9bb6-9b82f1a302a2",
   "metadata": {},
   "outputs": [],
   "source": [
    "data_path = \"/Users/hardiksahi/Personal/MachineLearning/kaggle/home-credit-risk-model-stability/data/01_raw/home-credit-credit-risk-model-stability\""
   ]
  },
  {
   "cell_type": "markdown",
   "id": "c4de153a-7b7f-45a7-af4c-b99e6f3381e3",
   "metadata": {},
   "source": [
    "## Get paths of files"
   ]
  },
  {
   "cell_type": "code",
   "execution_count": null,
   "id": "38dc336c-2c76-4490-8443-3cec7e4f758d",
   "metadata": {},
   "outputs": [],
   "source": [
    "base_file_dict = defaultdict(list)\n",
    "applprev_1_file_dict = defaultdict(list)\n",
    "for dirname, _, filenames in os.walk(data_path):\n",
    "    for filename in filenames:\n",
    "        file_path = os.path.join(dirname, filename)\n",
    "        if file_path.endswith('parquet'):\n",
    "            file_type = 'train' if 'train' in file_path else 'test'\n",
    "            if 'base' in file_path:\n",
    "                base_file_dict[file_type].append(file_path)\n",
    "            if 'applprev_1' in file_path:\n",
    "                applprev_1_file_dict[file_type].append(file_path)"
   ]
  },
  {
   "cell_type": "code",
   "execution_count": null,
   "id": "00329a12-be0f-4072-9564-beb8cd6962b6",
   "metadata": {},
   "outputs": [],
   "source": [
    "applprev_1_file_dict.get(\"train\")"
   ]
  },
  {
   "cell_type": "markdown",
   "id": "4c39bc27-08de-4139-b317-f011454495cb",
   "metadata": {},
   "source": [
    "## Functions"
   ]
  },
  {
   "cell_type": "code",
   "execution_count": null,
   "id": "09b11097-6170-4780-be86-d0a97d98c39f",
   "metadata": {},
   "outputs": [],
   "source": [
    "def get_column_description(feature_def_df, column_name):\n",
    "    return feature_def_df[feature_def_df.Variable == column_name]['Description'].iloc[0]"
   ]
  },
  {
   "cell_type": "code",
   "execution_count": null,
   "id": "00acefb2-0f64-452f-9dbd-967b04505407",
   "metadata": {},
   "outputs": [],
   "source": [
    "def plot_scatterplot(df, x_col_name, y_col_name, show_x_y_line=False):\n",
    "    assert x_col_name in df.columns, f\"Ensure that {x_col_name} is in the df\"\n",
    "    assert y_col_name in df.columns, f\"Ensure that {y_col_name} is in the df\"\n",
    "    \n",
    "    fig, axs = plt.subplots()\n",
    "    sns.scatterplot(data=df, x=df[x_col_name], y=df[y_col_name], ax=axs)\n",
    "    \n",
    "    if show_x_y_line:\n",
    "        df[x_col_name] = df[x_col_name].replace([np.inf, -np.inf], np.nan)\n",
    "        df[y_col_name] = df[y_col_name].replace([np.inf, -np.inf], np.nan)\n",
    "        not_null_x_filter = ~df[x_col_name].isnull()\n",
    "        not_null_y_filter = ~df[y_col_name].isnull()\n",
    "        not_null_filter = not_null_x_filter & not_null_y_filter\n",
    "        filtered_df = df[not_null_filter]\n",
    "        x_values_series = filtered_df[x_col_name]\n",
    "        y_values_series = filtered_df[y_col_name]\n",
    "        x0, x1 = min(x_values_series), max(x_values_series)\n",
    "        y0, y1 = min(y_values_series), max(y_values_series)\n",
    "        #line_values = [i for i in np.arange(min(x0, y0), max(x1, y1), 0.1)]\n",
    "        lims = [min(x0, y0), max(x1, y1)]\n",
    "        print(f\"lims: {lims}\")\n",
    "        plt.plot(lims, lims)\n",
    "    return fig"
   ]
  },
  {
   "cell_type": "code",
   "execution_count": null,
   "id": "f652e2c5-48f2-4ebf-8b48-4c2baa5e3b81",
   "metadata": {},
   "outputs": [],
   "source": [
    "def get_percent_of_column(df, groupby_column, target_column):\n",
    "    target_df = df.groupby(by=[groupby_column]).agg({target_column:\"sum\"}).reset_index()\n",
    "    all_rows_df = df.groupby(by=[groupby_column]).size().reset_index().rename({0:\"total_rows\"}, axis=1)\n",
    "    merged_df = target_df.merge(all_rows_df, left_on=[groupby_column], right_on=[groupby_column], how=\"left\")\n",
    "    merged_df[\"percentage_default\"] = 100*merged_df[\"target\"]/merged_df[\"total_rows\"]\n",
    "    merged_df[groupby_column] = merged_df[groupby_column].astype(str)\n",
    "    return merged_df"
   ]
  },
  {
   "cell_type": "code",
   "execution_count": null,
   "id": "78e46fba-b469-4755-b8b7-c68161d5a306",
   "metadata": {},
   "outputs": [],
   "source": [
    "def plot_barplot(df, percent_column, category_column):\n",
    "    fig, ax = plt.subplots(1,1,figsize=(8,5))\n",
    "    sns.barplot(ax=ax, data=df, y=category_column, x=percent_column, order=df.sort_values(by=[percent_column], ascending=False)[category_column].values)\n",
    "    return fig"
   ]
  },
  {
   "cell_type": "markdown",
   "id": "42c9b613-f496-4e80-968b-8b03a19bc5b2",
   "metadata": {},
   "source": [
    "## Read datasets"
   ]
  },
  {
   "cell_type": "code",
   "execution_count": null,
   "id": "284e3f94-6f38-4528-a2f3-55385fc43576",
   "metadata": {},
   "outputs": [],
   "source": [
    "feature_df = pd.read_csv(f\"{data_path}/feature_definitions.csv\")\n",
    "print(f\"Shape of feature_df: {feature_df.shape}\")"
   ]
  },
  {
   "cell_type": "markdown",
   "id": "4563d03c-03bc-4ee9-9af6-2e05c22814c7",
   "metadata": {},
   "source": [
    "## Properties: depth=1, internal data source"
   ]
  },
  {
   "cell_type": "code",
   "execution_count": null,
   "id": "7cbddef1-b6b6-451c-8cd1-5210e66b102e",
   "metadata": {},
   "outputs": [],
   "source": [
    "train_applprev_1_df = pd.concat([pd.read_parquet(file_path) for file_path in applprev_1_file_dict['train']], axis=0)\n",
    "print(f\"Shape of train_applprev_1_df: {train_applprev_1_df.shape}\")"
   ]
  },
  {
   "cell_type": "markdown",
   "id": "cdc77397-a772-44df-b702-597d9224c507",
   "metadata": {},
   "source": [
    "## This means that there are multiple rows for each case_id indexed by num_group1"
   ]
  },
  {
   "cell_type": "code",
   "execution_count": null,
   "id": "2b098f35-1ab8-413e-820b-4ac1b0d34919",
   "metadata": {},
   "outputs": [],
   "source": [
    "unique_num_group_case_id_df = train_applprev_1_df.groupby(by=[\"case_id\"]).agg({\"num_group1\": \"nunique\"}).reset_index().rename({\"num_group1\": \"generated_count_of_previous_applications\"}, axis=1)"
   ]
  },
  {
   "cell_type": "code",
   "execution_count": null,
   "id": "4ab3cde9-7864-4512-9b75-ccc109132a68",
   "metadata": {},
   "outputs": [],
   "source": [
    "unique_num_group_case_id_df.head()"
   ]
  },
  {
   "cell_type": "code",
   "execution_count": null,
   "id": "7a1fb9d7-d1a5-4212-8ef6-ed84ddc065e1",
   "metadata": {},
   "outputs": [],
   "source": [
    "sns.boxplot(data=unique_num_group_case_id_df, y=\"generated_count_of_previous_applications\")"
   ]
  },
  {
   "cell_type": "code",
   "execution_count": null,
   "id": "3b891c5e-2d07-41c7-8512-07ba7f2e06d6",
   "metadata": {},
   "outputs": [],
   "source": [
    "unique_num_group_case_id_df[unique_num_group_case_id_df.generated_count_of_previous_applications>15]"
   ]
  },
  {
   "cell_type": "markdown",
   "id": "97e90004-4350-4abd-8b4b-8dcc2311944a",
   "metadata": {},
   "source": [
    "## There are certain case_id values that have a lot of  num_group1 values associated with them. This means there are as many previous aplications associated with this case_id. We need to somehow aggregate them into a single row per case_id. The most recent previous application has lowest num_group1 associated with it (0)"
   ]
  },
  {
   "cell_type": "markdown",
   "id": "87f083f5-df87-474c-8908-24f96e3eb8fe",
   "metadata": {},
   "source": [
    "## Analyse columns"
   ]
  },
  {
   "cell_type": "markdown",
   "id": "4fa4a204-262f-4b0f-a0e9-3c4d8c8670d4",
   "metadata": {},
   "source": [
    "## 1. Previous contract information"
   ]
  },
  {
   "cell_type": "markdown",
   "id": "b9fde6e3-4230-468e-81a9-c4589d4dd0cb",
   "metadata": {},
   "source": [
    "## Assume that if application is approved, then there will be  a not null approvaldate_319D"
   ]
  },
  {
   "cell_type": "code",
   "execution_count": null,
   "id": "02f045cd-a07e-4c89-9d73-6bbc3d657651",
   "metadata": {},
   "outputs": [],
   "source": [
    "train_applprev_1_df[\"creationdate_885D\"] = pd.to_datetime(train_applprev_1_df[\"creationdate_885D\"])\n",
    "train_applprev_1_df[\"approvaldate_319D\"] = pd.to_datetime(train_applprev_1_df[\"approvaldate_319D\"])"
   ]
  },
  {
   "cell_type": "markdown",
   "id": "43971ce5-c8a2-4abb-8033-4b44ac1941cc",
   "metadata": {},
   "source": [
    "### 1.1 creationdate_885D"
   ]
  },
  {
   "cell_type": "code",
   "execution_count": null,
   "id": "a00e11ff-b9f3-4bca-9dad-9e5e680c01c8",
   "metadata": {},
   "outputs": [],
   "source": [
    "get_column_description(feature_df, \"creationdate_885D\")"
   ]
  },
  {
   "cell_type": "code",
   "execution_count": null,
   "id": "22a1ac01-c5ae-4dc5-a0a2-b1518306c48e",
   "metadata": {},
   "outputs": [],
   "source": [
    "train_applprev_1_df.creationdate_885D.isnull().value_counts()"
   ]
  },
  {
   "cell_type": "code",
   "execution_count": null,
   "id": "a9e14703-77da-4e24-a7d3-f4755dc03dfe",
   "metadata": {},
   "outputs": [],
   "source": [
    "train_applprev_1_df[train_applprev_1_df.creationdate_885D.isnull()][\"status_219L\"].isnull().value_counts()\n",
    "## , \"approvaldate_319D\"]"
   ]
  },
  {
   "cell_type": "code",
   "execution_count": null,
   "id": "7d2bf636-815d-45c7-8ad1-5460b0a8cb4d",
   "metadata": {},
   "outputs": [],
   "source": [
    "train_applprev_1_df[train_applprev_1_df.creationdate_885D.isnull()][\"approvaldate_319D\"].isnull().value_counts()"
   ]
  },
  {
   "cell_type": "code",
   "execution_count": null,
   "id": "7fa9901a-365e-4ede-b7ac-052aed2de7c7",
   "metadata": {},
   "outputs": [],
   "source": [
    "not_null_creationdate_885D_df = train_applprev_1_df[~train_applprev_1_df.creationdate_885D.isnull() & ~train_applprev_1_df.approvaldate_319D.isnull()]"
   ]
  },
  {
   "cell_type": "code",
   "execution_count": null,
   "id": "eb0def4c-f1e8-4a8f-90ec-c7575542f4a4",
   "metadata": {},
   "outputs": [],
   "source": [
    "(not_null_creationdate_885D_df[\"creationdate_885D\"]< not_null_creationdate_885D_df[\"approvaldate_319D\"]).value_counts()"
   ]
  },
  {
   "cell_type": "code",
   "execution_count": null,
   "id": "49f7f3a9-893a-4872-a5a7-604b56aebfeb",
   "metadata": {},
   "outputs": [],
   "source": [
    "(not_null_creationdate_885D_df[\"creationdate_885D\"] == not_null_creationdate_885D_df[\"approvaldate_319D\"]).value_counts()"
   ]
  },
  {
   "cell_type": "code",
   "execution_count": null,
   "id": "ea94ee3e-4e0e-4664-9020-4f9165fcffe7",
   "metadata": {},
   "outputs": [],
   "source": [
    "(not_null_creationdate_885D_df[\"creationdate_885D\"] > not_null_creationdate_885D_df[\"approvaldate_319D\"]).value_counts()"
   ]
  },
  {
   "cell_type": "markdown",
   "id": "6fc9b2ac-b9ca-4f52-a628-2ba7d91b2502",
   "metadata": {},
   "source": [
    "## There are 3481795 applications where approval was done the same day the application was created.\n",
    "## There are 32042 applications where approval was done some days after the application was created.\n",
    "## Weirdly enough, there are 1848 applications where approval date is before creation date"
   ]
  },
  {
   "cell_type": "markdown",
   "id": "3b5ce310-ea5a-41f1-941c-6188a4d7c4ea",
   "metadata": {},
   "source": [
    "## Number of days between application creation date and application approval date"
   ]
  },
  {
   "cell_type": "code",
   "execution_count": null,
   "id": "743e6728-b278-4377-aa1f-0a2862c3cdf1",
   "metadata": {},
   "outputs": [],
   "source": [
    "train_applprev_1_df[\"generated_number_of_days_passed_between_application_creation_and_approval\"] = (train_applprev_1_df[\"approvaldate_319D\"] - train_applprev_1_df[\"creationdate_885D\"]).dt.days"
   ]
  },
  {
   "cell_type": "code",
   "execution_count": null,
   "id": "b5a17146-1cf0-4e53-b02b-b09ada8d5a18",
   "metadata": {},
   "outputs": [],
   "source": [
    "sns.boxplot(data=train_applprev_1_df, y=\"generated_number_of_days_passed_between_application_creation_and_approval\", x=\"status_219L\")"
   ]
  },
  {
   "cell_type": "markdown",
   "id": "dd52887f-557f-47b9-929c-028e2ea4aea0",
   "metadata": {},
   "source": [
    "1. A, L, H status are the ones where number_of_days_passed_between_application_creation_and_approval>=0 (Makes sense)\n",
    "2. For remaining, approvaldate_319D<creationdate_885D (Does not make sense)"
   ]
  },
  {
   "cell_type": "code",
   "execution_count": null,
   "id": "402fa124-a3e0-4259-94ca-e196a616dbed",
   "metadata": {},
   "outputs": [],
   "source": [
    "train_applprev_1_df[train_applprev_1_df.generated_number_of_days_passed_between_application_creation_and_approval<=-100].head()"
   ]
  },
  {
   "cell_type": "code",
   "execution_count": null,
   "id": "87d207a4-3684-4283-95af-f987a90809de",
   "metadata": {},
   "outputs": [],
   "source": [
    "train_applprev_1_df[train_applprev_1_df.generated_number_of_days_passed_between_application_creation_and_approval<0].groupby(by=[\"status_219L\"]).size()"
   ]
  },
  {
   "cell_type": "code",
   "execution_count": null,
   "id": "a83b464e-df7a-4cc7-8618-a3b7cda3a044",
   "metadata": {},
   "outputs": [],
   "source": [
    "train_applprev_1_df[train_applprev_1_df.case_id == 104430].sort_values(by=[\"num_group1\"])[[\"num_group1\", \"approvaldate_319D\", \"creationdate_885D\", \"status_219L\", \"generated_number_of_days_passed_between_application_creation_and_approval\"]]"
   ]
  },
  {
   "cell_type": "markdown",
   "id": "84f35081-fd41-407c-95cd-189d9a4e1d15",
   "metadata": {},
   "source": [
    "## Hence use approvaldate_319D and creationdate_885D where creationdate_885D<=approvaldate_319D"
   ]
  },
  {
   "cell_type": "code",
   "execution_count": null,
   "id": "53727433-e5a9-4568-ab31-2160a840817d",
   "metadata": {},
   "outputs": [],
   "source": [
    "sns.boxplot(data=train_applprev_1_df[train_applprev_1_df.generated_number_of_days_passed_between_application_creation_and_approval>=0], y=\"generated_number_of_days_passed_between_application_creation_and_approval\", x=\"status_219L\")"
   ]
  },
  {
   "cell_type": "markdown",
   "id": "80e8f2b4-ddce-43f3-9c72-432a4d40823b",
   "metadata": {},
   "source": [
    "## Days count between creation and approval date is quite varied for status=K"
   ]
  },
  {
   "cell_type": "markdown",
   "id": "067cc003-d693-43bf-a50d-3131ade29e7a",
   "metadata": {},
   "source": [
    "### 1.2 status_219L"
   ]
  },
  {
   "cell_type": "code",
   "execution_count": null,
   "id": "a9a9c2b7-8c10-4fc2-8199-370bf6822131",
   "metadata": {},
   "outputs": [],
   "source": [
    "get_column_description(feature_df, \"status_219L\")"
   ]
  },
  {
   "cell_type": "code",
   "execution_count": null,
   "id": "0507e953-c2ef-4951-a726-f3a3ebe45fdd",
   "metadata": {},
   "outputs": [],
   "source": [
    "## There is no specific status that represents non approval ()\n",
    "set(train_applprev_1_df.status_219L.dropna().unique()).difference(train_applprev_1_df[~train_applprev_1_df.approvaldate_319D.isnull()]['status_219L'].dropna().unique())"
   ]
  },
  {
   "cell_type": "code",
   "execution_count": null,
   "id": "3c26f160-4597-46da-b825-bf12e5be1d15",
   "metadata": {},
   "outputs": [],
   "source": [
    "not_null_approvaldate_319D_status_219L_count_df = train_applprev_1_df[~train_applprev_1_df.approvaldate_319D.isnull()]['status_219L'].value_counts().reset_index().rename({\"count\": \"not_null_approval_date_status_count\"}, axis=1)\n",
    "all_status_219L_count_df = train_applprev_1_df['status_219L'].value_counts().reset_index().rename({\"count\": \"all_status_count\"}, axis=1)\n",
    "merged_status_count_df = all_status_219L_count_df.merge(not_null_approvaldate_319D_status_219L_count_df, left_on=[\"status_219L\"], right_on=[\"status_219L\"], how=\"left\", validate=\"one_to_one\")\n",
    "merged_status_count_df[\"percentage_with_not_null_approval_date\"] = 100*merged_status_count_df[\"not_null_approval_date_status_count\"]/merged_status_count_df[\"all_status_count\"]"
   ]
  },
  {
   "cell_type": "code",
   "execution_count": null,
   "id": "dc9e2f11-e913-4e72-865b-80500c0aa405",
   "metadata": {},
   "outputs": [],
   "source": [
    "merged_status_count_df.sort_values(by=[\"percentage_with_not_null_approval_date\"], ascending=True)"
   ]
  },
  {
   "cell_type": "code",
   "execution_count": null,
   "id": "4724be72-7210-420d-9bee-f612ed2b7281",
   "metadata": {},
   "outputs": [],
   "source": [
    "bar_plot = plot_barplot(merged_status_count_df, \"percentage_with_not_null_approval_date\", \"status_219L\")\n",
    "bar_plot.show()"
   ]
  },
  {
   "cell_type": "markdown",
   "id": "2962ec86-12f3-4b1b-aff7-2cbafc8ae5ab",
   "metadata": {},
   "source": [
    "## Status D is the status where there is loweset percentage of approval date. Interesting..."
   ]
  },
  {
   "cell_type": "markdown",
   "id": "74457ba7-76d4-44ef-bab6-9358ecec8314",
   "metadata": {},
   "source": [
    "## Get number of previous applications with different status"
   ]
  },
  {
   "cell_type": "code",
   "execution_count": null,
   "id": "27fe9333-9d41-4a94-b50b-1dc779a6e955",
   "metadata": {},
   "outputs": [],
   "source": [
    "groupby_case_id_status_219L_count_df = train_applprev_1_df.groupby(by=[\"case_id\", \"status_219L\"]).size().reset_index().rename({0: \"count\"}, axis=1)"
   ]
  },
  {
   "cell_type": "code",
   "execution_count": null,
   "id": "5029b2c2-3aff-478d-b74e-ec529d7697c2",
   "metadata": {},
   "outputs": [],
   "source": [
    "groupby_case_id_status_219L_count_df[\"percentage_of_status\"] = groupby_case_id_status_219L_count_df[\"count\"]/groupby_case_id_status_219L_count_df.groupby(\"case_id\")[\"count\"].transform('sum')"
   ]
  },
  {
   "cell_type": "code",
   "execution_count": null,
   "id": "83a6e3d6-f7df-4a75-b5c3-116bf6f09f1d",
   "metadata": {},
   "outputs": [],
   "source": [
    "percentage_of_applications_for_status_df = pd.pivot_table(groupby_case_id_status_219L_count_df, index=[\"case_id\"], columns=[\"status_219L\"], values=\"percentage_of_status\")"
   ]
  },
  {
   "cell_type": "code",
   "execution_count": null,
   "id": "2bcd6089-ee3d-48a7-b0d2-524e30e30483",
   "metadata": {},
   "outputs": [],
   "source": [
    "percentage_of_applications_for_status_df.columns = [f\"generated_percentage_{percentage_of_applications_for_status_df.columns.name}_{col}\" for col in percentage_of_applications_for_status_df.columns]"
   ]
  },
  {
   "cell_type": "code",
   "execution_count": null,
   "id": "89e89eaf-7c3b-44b8-b7d9-6eddd61ae871",
   "metadata": {},
   "outputs": [],
   "source": [
    "percentage_of_applications_for_status_df.head()"
   ]
  },
  {
   "cell_type": "markdown",
   "id": "70b5a5a5-dcc1-4667-bad0-74680f66affe",
   "metadata": {},
   "source": [
    "### 1.3 actualdpd_943P"
   ]
  },
  {
   "cell_type": "code",
   "execution_count": null,
   "id": "ac851ea5-3399-4511-b242-7ae4860fcb5f",
   "metadata": {},
   "outputs": [],
   "source": [
    "get_column_description(feature_df, \"actualdpd_943P\")"
   ]
  },
  {
   "cell_type": "code",
   "execution_count": null,
   "id": "978b9d65-9ae4-4618-93ff-8154e545eb2d",
   "metadata": {},
   "outputs": [],
   "source": [
    "train_applprev_1_df.actualdpd_943P.isnull().value_counts()"
   ]
  },
  {
   "cell_type": "code",
   "execution_count": null,
   "id": "65ccd0ae-87e9-40a0-b643-08b999e2573d",
   "metadata": {},
   "outputs": [],
   "source": [
    "statistics_actualdpd_943P_df = train_applprev_1_df.groupby(by=[\"case_id\"]).agg({\"actualdpd_943P\": [\"max\", \"min\", \"mean\"]}).reset_index()\n",
    "statistics_actualdpd_943P_df.columns  = ['case_id' if index_tuple[0] == 'case_id' else f\"generated_{index_tuple[0]}_{index_tuple[1]}\" for index_tuple in statistics_actualdpd_943P_df.columns]"
   ]
  },
  {
   "cell_type": "code",
   "execution_count": null,
   "id": "74117706-60f9-42c8-b35e-2d278a4c18cf",
   "metadata": {},
   "outputs": [],
   "source": [
    "most_recent_previous_application_actualdpd_943P_df = train_applprev_1_df.sort_values(by=[\"num_group1\"], ascending=True).groupby(by=[\"case_id\"])[[\"case_id\", \"actualdpd_943P\"]].head(1).rename({\"actualdpd_943P\": \"generated_most_recent_previous_application_actualdpd_943P\"}, axis=1)"
   ]
  },
  {
   "cell_type": "code",
   "execution_count": null,
   "id": "83a8ad3d-1800-4de9-996c-2805ffcfac09",
   "metadata": {},
   "outputs": [],
   "source": [
    "statistics_actualdpd_943P_df = statistics_actualdpd_943P_df.merge(most_recent_previous_application_actualdpd_943P_df, left_on=[\"case_id\"], right_on=[\"case_id\"], validate=\"one_to_one\")"
   ]
  },
  {
   "cell_type": "code",
   "execution_count": null,
   "id": "f784b1ec-bdac-4a20-beb9-fd2bdcff0c5e",
   "metadata": {},
   "outputs": [],
   "source": [
    "sns.boxplot(data=statistics_actualdpd_943P_df, y=\"generated_most_recent_previous_application_actualdpd_943P\")"
   ]
  },
  {
   "cell_type": "markdown",
   "id": "269c5ae5-f093-4fb2-b3ec-ce55815fa755",
   "metadata": {},
   "source": [
    "### 1.4 annuity_853A"
   ]
  },
  {
   "cell_type": "code",
   "execution_count": null,
   "id": "17f979ca-ed5f-45d9-b30b-9815d33360f2",
   "metadata": {},
   "outputs": [],
   "source": [
    "get_column_description(feature_df, \"annuity_853A\")"
   ]
  },
  {
   "cell_type": "code",
   "execution_count": null,
   "id": "e43a3196-6672-4181-badc-e03bc7589517",
   "metadata": {},
   "outputs": [],
   "source": [
    "train_applprev_1_df.annuity_853A.isnull().value_counts()"
   ]
  },
  {
   "cell_type": "code",
   "execution_count": null,
   "id": "042eb53d-4dd2-4ef3-a329-04662b5bacdd",
   "metadata": {},
   "outputs": [],
   "source": [
    "statistics_annuity_853A_df = train_applprev_1_df.groupby(by=[\"case_id\"]).agg({\"annuity_853A\": [\"max\", \"min\", \"mean\"]}).reset_index()\n",
    "statistics_annuity_853A_df.columns  = ['case_id' if index_tuple[0] == 'case_id' else f\"generated_{index_tuple[0]}_{index_tuple[1]}\" for index_tuple in statistics_annuity_853A_df.columns]"
   ]
  },
  {
   "cell_type": "code",
   "execution_count": null,
   "id": "c2a20e5b-8529-48e6-b6c7-75f7f3234bae",
   "metadata": {},
   "outputs": [],
   "source": [
    "most_recent_previous_application_annuity_853A_df = train_applprev_1_df.sort_values(by=[\"num_group1\"], ascending=True).groupby(by=[\"case_id\"])[[\"case_id\", \"annuity_853A\"]].head(1).rename({\"annuity_853A\": \"generated_most_recent_previous_application_annuity_853A\"}, axis=1)"
   ]
  },
  {
   "cell_type": "code",
   "execution_count": null,
   "id": "31399ec3-cd52-4851-88a7-01eba77e33b2",
   "metadata": {},
   "outputs": [],
   "source": [
    "statistics_annuity_853A_df = statistics_annuity_853A_df.merge(most_recent_previous_application_annuity_853A_df, left_on=[\"case_id\"], right_on=[\"case_id\"], validate=\"one_to_one\")"
   ]
  },
  {
   "cell_type": "code",
   "execution_count": null,
   "id": "47783478-3375-4a14-9438-61dbe6b72566",
   "metadata": {},
   "outputs": [],
   "source": [
    "sns.boxplot(data=statistics_annuity_853A_df, y=\"generated_annuity_853A_mean\")"
   ]
  },
  {
   "cell_type": "markdown",
   "id": "bfea3567-4491-4ae7-9150-6e825588cfef",
   "metadata": {},
   "source": [
    "### 1.5 byoccupationinc_3656910L"
   ]
  },
  {
   "cell_type": "code",
   "execution_count": null,
   "id": "26fcc804-c0c9-43f2-8abf-81cdf03e2c44",
   "metadata": {},
   "outputs": [],
   "source": [
    "get_column_description(feature_df, \"byoccupationinc_3656910L\")"
   ]
  },
  {
   "cell_type": "code",
   "execution_count": null,
   "id": "69a6e814-091d-479a-b099-2fd4d02fb6f4",
   "metadata": {},
   "outputs": [],
   "source": [
    "train_applprev_1_df.byoccupationinc_3656910L.isnull().value_counts(normalize=True)"
   ]
  },
  {
   "cell_type": "code",
   "execution_count": null,
   "id": "2c9ce95d-2b27-4d52-af8c-f9f8d1b19fab",
   "metadata": {},
   "outputs": [],
   "source": [
    "train_applprev_1_df.byoccupationinc_3656910L.describe()"
   ]
  },
  {
   "cell_type": "code",
   "execution_count": null,
   "id": "d47c23d0-8ca7-4237-86db-c097b2941ab8",
   "metadata": {},
   "outputs": [],
   "source": [
    "statistics_byoccupationinc_3656910L_df = train_applprev_1_df.groupby(by=[\"case_id\"]).agg({\"byoccupationinc_3656910L\": [\"max\", \"min\", \"mean\"]}).reset_index()\n",
    "statistics_byoccupationinc_3656910L_df.columns  = ['case_id' if index_tuple[0] == 'case_id' else f\"generated_{index_tuple[0]}_{index_tuple[1]}\" for index_tuple in statistics_byoccupationinc_3656910L_df.columns]"
   ]
  },
  {
   "cell_type": "code",
   "execution_count": null,
   "id": "d93f5e0a-6259-4f8c-a4de-39c857be0f07",
   "metadata": {},
   "outputs": [],
   "source": [
    "most_recent_previous_application_byoccupationinc_3656910L_df = train_applprev_1_df.sort_values(by=[\"num_group1\"], ascending=True).groupby(by=[\"case_id\"])[[\"case_id\", \"byoccupationinc_3656910L\"]].head(1).rename({\"byoccupationinc_3656910L\": \"generated_most_recent_previous_application_byoccupationinc_3656910L\"}, axis=1)"
   ]
  },
  {
   "cell_type": "code",
   "execution_count": null,
   "id": "7edc488b-6cc6-47e7-98fd-4dfc7967af93",
   "metadata": {},
   "outputs": [],
   "source": [
    "statistics_byoccupationinc_3656910L_df = statistics_byoccupationinc_3656910L_df.merge(most_recent_previous_application_byoccupationinc_3656910L_df, left_on=[\"case_id\"], right_on=[\"case_id\"], validate=\"one_to_one\")"
   ]
  },
  {
   "cell_type": "code",
   "execution_count": null,
   "id": "7348fc35-5125-4697-ae4d-230b9c6d401c",
   "metadata": {},
   "outputs": [],
   "source": [
    "statistics_byoccupationinc_3656910L_df.tail()"
   ]
  },
  {
   "cell_type": "code",
   "execution_count": null,
   "id": "29bb3d5a-1f08-4fc0-ae66-7684d821769c",
   "metadata": {},
   "outputs": [],
   "source": [
    "sns.boxplot(data=statistics_byoccupationinc_3656910L_df, y=\"generated_byoccupationinc_3656910L_max\")"
   ]
  },
  {
   "cell_type": "code",
   "execution_count": null,
   "id": "920fb70b-cda7-4520-82c8-1777ab44d680",
   "metadata": {},
   "outputs": [],
   "source": [
    "sns.boxplot(data=train_applprev_1_df, y=\"byoccupationinc_3656910L\", x=\"status_219L\")"
   ]
  },
  {
   "cell_type": "markdown",
   "id": "75fbafa2-97d8-49d6-a46c-54d4a0ffe5dc",
   "metadata": {},
   "source": [
    "## H and S have higher byoccupationinc_3656910L "
   ]
  },
  {
   "cell_type": "markdown",
   "id": "f4853950-d0ed-4c8b-829c-45f59d270f89",
   "metadata": {},
   "source": [
    "### 1.6 cancelreason_3545846M"
   ]
  },
  {
   "cell_type": "code",
   "execution_count": null,
   "id": "6207deb7-562d-435d-8436-564fc97fed86",
   "metadata": {},
   "outputs": [],
   "source": [
    "get_column_description(feature_df, \"cancelreason_3545846M\")"
   ]
  },
  {
   "cell_type": "code",
   "execution_count": null,
   "id": "d7275e2f-8968-4787-b01d-f08a94e73ec2",
   "metadata": {},
   "outputs": [],
   "source": [
    "statistics_cancelreason_3545846M_df = train_applprev_1_df.groupby(by=[\"case_id\"]).agg({\"cancelreason_3545846M\":pd.Series.mode}).reset_index().rename({\"cancelreason_3545846M\": \"generated_cancelreason_3545846M_mode\"}, axis=1)"
   ]
  },
  {
   "cell_type": "code",
   "execution_count": null,
   "id": "e442ce0a-97b6-444b-9b10-910c290103e8",
   "metadata": {},
   "outputs": [],
   "source": [
    "most_recent_previous_application_cancelreason_3545846M_df = train_applprev_1_df.sort_values(by=[\"num_group1\"], ascending=True).groupby(by=[\"case_id\"])[[\"case_id\", \"cancelreason_3545846M\"]].head(1).rename({\"cancelreason_3545846M\": \"generated_most_recent_previous_application_cancelreason_3545846M\"}, axis=1)"
   ]
  },
  {
   "cell_type": "code",
   "execution_count": null,
   "id": "cd271086-1085-4c8a-a500-cfe49fb79063",
   "metadata": {},
   "outputs": [],
   "source": [
    "statistics_cancelreason_3545846M_df = statistics_cancelreason_3545846M_df.merge(most_recent_previous_application_cancelreason_3545846M_df, left_on=[\"case_id\"], right_on=[\"case_id\"], validate=\"one_to_one\")"
   ]
  },
  {
   "cell_type": "code",
   "execution_count": null,
   "id": "c7a6101a-73e4-4247-9e78-2d5ac0478579",
   "metadata": {},
   "outputs": [],
   "source": [
    "statistics_cancelreason_3545846M_df.generated_most_recent_previous_application_cancelreason_3545846M.value_counts()"
   ]
  },
  {
   "cell_type": "code",
   "execution_count": null,
   "id": "3de317ae-9cb1-4613-be9a-01c6d51e9be1",
   "metadata": {},
   "outputs": [],
   "source": [
    "statistics_cancelreason_3545846M_df.generated_cancelreason_3545846M_mode.value_counts()"
   ]
  },
  {
   "cell_type": "markdown",
   "id": "42f6e37e-c762-470e-b07a-f73d0ccfdcb0",
   "metadata": {},
   "source": [
    "### 1.7 childnum_21L"
   ]
  },
  {
   "cell_type": "code",
   "execution_count": null,
   "id": "3f27b6f2-5e19-4ce9-97c0-cabf3032e66a",
   "metadata": {},
   "outputs": [],
   "source": [
    "get_column_description(feature_df, \"childnum_21L\")"
   ]
  },
  {
   "cell_type": "code",
   "execution_count": null,
   "id": "03e58395-5a3c-421c-84fc-472e416633e9",
   "metadata": {},
   "outputs": [],
   "source": [
    "statistics_childnum_21L_df = train_applprev_1_df.groupby(by=[\"case_id\"]).agg({\"childnum_21L\": [\"max\"]}).reset_index()\n",
    "statistics_childnum_21L_df.columns  = ['case_id' if index_tuple[0] == 'case_id' else f\"generated_{index_tuple[0]}_{index_tuple[1]}\" for index_tuple in statistics_childnum_21L_df.columns]"
   ]
  },
  {
   "cell_type": "code",
   "execution_count": null,
   "id": "4132129d-97f1-4301-9eef-704fe20e714d",
   "metadata": {},
   "outputs": [],
   "source": [
    "sns.boxplot(data=statistics_childnum_21L_df, y=\"generated_childnum_21L_max\")"
   ]
  },
  {
   "cell_type": "markdown",
   "id": "0cd2c319-2428-42d4-a04d-ed1783a9f3bb",
   "metadata": {},
   "source": [
    "### 1.8 credacc_actualbalance_314A [IGNORE]"
   ]
  },
  {
   "cell_type": "code",
   "execution_count": null,
   "id": "351316b4-e9d9-4041-8ab0-24ff1c6f7d84",
   "metadata": {},
   "outputs": [],
   "source": [
    "get_column_description(feature_df, \"credacc_actualbalance_314A\")"
   ]
  },
  {
   "cell_type": "code",
   "execution_count": null,
   "id": "406c3274-cb06-43dc-9734-6b62df6e3127",
   "metadata": {},
   "outputs": [],
   "source": [
    "train_applprev_1_df.credacc_actualbalance_314A.isnull().value_counts()"
   ]
  },
  {
   "cell_type": "code",
   "execution_count": null,
   "id": "d9c869dd-294f-41ce-82ee-52f965bb1e82",
   "metadata": {},
   "outputs": [],
   "source": [
    "statistics_credacc_actualbalance_314A_df = train_applprev_1_df.groupby(by=[\"case_id\"]).agg({\"credacc_actualbalance_314A\": [\"max\", \"min\", \"mean\"]}).reset_index()\n",
    "statistics_credacc_actualbalance_314A_df.columns  = ['case_id' if index_tuple[0] == 'case_id' else f\"generated_{index_tuple[0]}_{index_tuple[1]}\" for index_tuple in statistics_credacc_actualbalance_314A_df.columns]"
   ]
  },
  {
   "cell_type": "code",
   "execution_count": null,
   "id": "510ef6e8-508d-4048-8f40-f1b707c558c7",
   "metadata": {},
   "outputs": [],
   "source": [
    "sns.boxplot(data=statistics_credacc_actualbalance_314A_df, y=\"generated_credacc_actualbalance_314A_max\")"
   ]
  },
  {
   "cell_type": "code",
   "execution_count": null,
   "id": "731b28b9-a30a-4a23-8937-2286d90a3ec0",
   "metadata": {},
   "outputs": [],
   "source": [
    "statistics_credacc_actualbalance_314A_df.generated_credacc_actualbalance_314A_max.describe()"
   ]
  },
  {
   "cell_type": "markdown",
   "id": "099c4482-3466-45ac-81e3-b23da52e7359",
   "metadata": {},
   "source": [
    "### 1.9 credacc_credlmt_575A"
   ]
  },
  {
   "cell_type": "code",
   "execution_count": null,
   "id": "9f682916-b2d5-4c04-8071-be06288bc898",
   "metadata": {},
   "outputs": [],
   "source": [
    "get_column_description(feature_df, \"credacc_credlmt_575A\")"
   ]
  },
  {
   "cell_type": "code",
   "execution_count": null,
   "id": "456c4763-f644-47cf-acc3-f68f5afa01e2",
   "metadata": {},
   "outputs": [],
   "source": [
    "train_applprev_1_df.credacc_credlmt_575A.isnull().value_counts()"
   ]
  },
  {
   "cell_type": "code",
   "execution_count": null,
   "id": "9e027782-d216-43dc-8888-132f205e156b",
   "metadata": {},
   "outputs": [],
   "source": [
    "statistics_credacc_credlmt_575A_df = train_applprev_1_df.groupby(by=[\"case_id\"]).agg({\"credacc_credlmt_575A\": [\"max\", \"min\", \"mean\"]}).reset_index()\n",
    "statistics_credacc_credlmt_575A_df.columns  = ['case_id' if index_tuple[0] == 'case_id' else f\"generated_{index_tuple[0]}_{index_tuple[1]}\" for index_tuple in statistics_credacc_credlmt_575A_df.columns]"
   ]
  },
  {
   "cell_type": "code",
   "execution_count": null,
   "id": "4d8aa170-dd02-4b46-931c-e1b8365a380b",
   "metadata": {},
   "outputs": [],
   "source": [
    "most_recent_previous_application_credacc_credlmt_575A_df = train_applprev_1_df.sort_values(by=[\"num_group1\"], ascending=True).groupby(by=[\"case_id\"])[[\"case_id\", \"credacc_credlmt_575A\"]].head(1).rename({\"credacc_credlmt_575A\": \"generated_most_recent_previous_application_credacc_credlmt_575A\"}, axis=1)"
   ]
  },
  {
   "cell_type": "code",
   "execution_count": null,
   "id": "6d344cc5-f888-488f-8093-1f4799095d54",
   "metadata": {},
   "outputs": [],
   "source": [
    "statistics_credacc_credlmt_575A_df = statistics_credacc_credlmt_575A_df.merge(most_recent_previous_application_credacc_credlmt_575A_df, left_on=[\"case_id\"], right_on=[\"case_id\"], validate=\"one_to_one\")"
   ]
  },
  {
   "cell_type": "code",
   "execution_count": null,
   "id": "d8cdb215-5cb3-4034-a955-034ba1ca39cd",
   "metadata": {},
   "outputs": [],
   "source": [
    "statistics_credacc_credlmt_575A_df.head(5)"
   ]
  },
  {
   "cell_type": "code",
   "execution_count": null,
   "id": "5a86dd61-a135-4019-ae6b-e7de0790ea3b",
   "metadata": {},
   "outputs": [],
   "source": [
    "sns.boxplot(data=statistics_credacc_credlmt_575A_df, y=\"generated_credacc_credlmt_575A_max\")"
   ]
  },
  {
   "cell_type": "markdown",
   "id": "4956aa48-7250-4156-ac5c-d5f61c4dc2db",
   "metadata": {},
   "source": [
    "### 1.10 credacc_maxhisbal_375A"
   ]
  },
  {
   "cell_type": "code",
   "execution_count": null,
   "id": "aec555d9-b629-4618-9ff5-52abf37962da",
   "metadata": {},
   "outputs": [],
   "source": [
    "get_column_description(feature_df, \"credacc_maxhisbal_375A\")"
   ]
  },
  {
   "cell_type": "code",
   "execution_count": null,
   "id": "6d38c53d-b648-4764-8722-cec8187cd722",
   "metadata": {},
   "outputs": [],
   "source": [
    "train_applprev_1_df[[\"case_id\", \"credacc_actualbalance_314A\", \"credacc_maxhisbal_375A\"]]"
   ]
  },
  {
   "cell_type": "code",
   "execution_count": null,
   "id": "641b8fc6-fd25-477b-872e-d432d2adc017",
   "metadata": {},
   "outputs": [],
   "source": [
    "train_applprev_1_df[train_applprev_1_df.case_id == 2703453][[\"credacc_actualbalance_314A\", \"credacc_maxhisbal_375A\"]]"
   ]
  },
  {
   "cell_type": "markdown",
   "id": "4c82585b-52a2-41b8-ae08-e62599127aad",
   "metadata": {},
   "source": [
    "### 1.11 credacc_minhisbal_90A"
   ]
  },
  {
   "cell_type": "code",
   "execution_count": null,
   "id": "b0a4a3ff-80b1-4118-bc04-0d6712840e92",
   "metadata": {},
   "outputs": [],
   "source": [
    "get_column_description(feature_df, \"credacc_minhisbal_90A\")"
   ]
  },
  {
   "cell_type": "markdown",
   "id": "10de8d1d-6fc0-4eba-b731-a63fb744c687",
   "metadata": {},
   "source": [
    "### 1.12 credacc_status_367L [IGNORE]"
   ]
  },
  {
   "cell_type": "code",
   "execution_count": null,
   "id": "693ce4d2-60b2-46ef-b4ef-b11880365b83",
   "metadata": {},
   "outputs": [],
   "source": [
    "# get_column_description(feature_df, \"credacc_status_367L\")\n",
    "\n",
    "# train_applprev_1_df.credacc_status_367L.value_counts()\n",
    "\n",
    "# train_applprev_1_df.credacc_status_367L.isnull().value_counts(normalize=True)\n",
    "\n",
    "# statistics_credacc_status_367L_df = train_applprev_1_df.groupby(by=[\"case_id\"]).agg({\"credacc_status_367L\":pd.Series.mode}).reset_index().rename({\"credacc_status_367L\": \"generated_credacc_status_367L_mode\"}, axis=1)\n",
    "\n",
    "# most_recent_previous_application_credacc_status_367L_df = train_applprev_1_df.sort_values(by=[\"num_group1\"], ascending=True).groupby(by=[\"case_id\"])[[\"case_id\", \"credacc_status_367L\"]].head(1).rename({\"credacc_status_367L\": \"generated_most_recent_previous_application_credacc_status_367L\"}, axis=1)\n",
    "\n",
    "# statistics_credacc_status_367L_df.generated_credacc_status_367L_mode.value_counts()\n",
    "\n",
    "# most_recent_previous_application_credacc_status_367L_df"
   ]
  },
  {
   "cell_type": "markdown",
   "id": "451b2c6b-c33b-4802-ada2-9a45f251ca76",
   "metadata": {},
   "source": [
    "### 1.13 credacc_transactions_402L"
   ]
  },
  {
   "cell_type": "code",
   "execution_count": null,
   "id": "55f42b6c-7479-40cf-a080-baf68f80772e",
   "metadata": {},
   "outputs": [],
   "source": [
    "get_column_description(feature_df, \"credacc_transactions_402L\")"
   ]
  },
  {
   "cell_type": "code",
   "execution_count": null,
   "id": "60d952b9-e961-4967-b30e-f07704fda097",
   "metadata": {},
   "outputs": [],
   "source": [
    "train_applprev_1_df.credacc_transactions_402L.isnull().value_counts()"
   ]
  },
  {
   "cell_type": "code",
   "execution_count": null,
   "id": "9898e8d0-3895-4edc-ac19-8a263ee61853",
   "metadata": {},
   "outputs": [],
   "source": [
    "statistics_credacc_transactions_402L_df = train_applprev_1_df.groupby(by=[\"case_id\"]).agg({\"credacc_transactions_402L\": [\"max\", \"min\", \"mean\"]}).reset_index()\n",
    "statistics_credacc_transactions_402L_df.columns  = ['case_id' if index_tuple[0] == 'case_id' else f\"generated_{index_tuple[0]}_{index_tuple[1]}\" for index_tuple in statistics_credacc_transactions_402L_df.columns]"
   ]
  },
  {
   "cell_type": "code",
   "execution_count": null,
   "id": "263b56be-2880-4115-8abf-192279ebc4fd",
   "metadata": {},
   "outputs": [],
   "source": [
    "most_recent_previous_application_credacc_transactions_402L_df = train_applprev_1_df.sort_values(by=[\"num_group1\"], ascending=True).groupby(by=[\"case_id\"])[[\"case_id\", \"credacc_transactions_402L\"]].head(1).rename({\"credacc_transactions_402L\": \"generated_most_recent_previous_application_credacc_transactions_402L\"}, axis=1)"
   ]
  },
  {
   "cell_type": "code",
   "execution_count": null,
   "id": "e4c2c9b3-cbc6-491f-9735-9c1c7724c1e4",
   "metadata": {},
   "outputs": [],
   "source": [
    "statistics_credacc_transactions_402L_df = statistics_credacc_transactions_402L_df.merge(most_recent_previous_application_credacc_transactions_402L_df, left_on=[\"case_id\"], right_on=[\"case_id\"], validate=\"one_to_one\")"
   ]
  },
  {
   "cell_type": "code",
   "execution_count": null,
   "id": "e35905f9-9e18-4484-94fe-831e9d2abf7e",
   "metadata": {},
   "outputs": [],
   "source": [
    "sns.boxplot(data=statistics_credacc_transactions_402L_df, y=\"generated_credacc_transactions_402L_max\")"
   ]
  },
  {
   "cell_type": "markdown",
   "id": "2043c5b7-85b7-47da-b975-0b20f6808136",
   "metadata": {},
   "source": [
    "### 1.14 credamount_590A"
   ]
  },
  {
   "cell_type": "code",
   "execution_count": null,
   "id": "c75ff06b-a19f-471d-a23d-0c11d8c220cb",
   "metadata": {},
   "outputs": [],
   "source": [
    "get_column_description(feature_df, \"credamount_590A\")"
   ]
  },
  {
   "cell_type": "code",
   "execution_count": null,
   "id": "ab3bf115-726e-47c8-a4dc-4b4306e6c0f0",
   "metadata": {},
   "outputs": [],
   "source": [
    "statistics_credamount_590A_df = train_applprev_1_df.groupby(by=[\"case_id\"]).agg({\"credamount_590A\": [\"max\", \"min\", \"mean\"]}).reset_index()\n",
    "statistics_credamount_590A_df.columns  = ['case_id' if index_tuple[0] == 'case_id' else f\"generated_{index_tuple[0]}_{index_tuple[1]}\" for index_tuple in statistics_credamount_590A_df.columns]\n",
    "most_recent_previous_application_credamount_590A_df = train_applprev_1_df.sort_values(by=[\"num_group1\"], ascending=True).groupby(by=[\"case_id\"])[[\"case_id\", \"credamount_590A\"]].head(1).rename({\"credamount_590A\": \"generated_most_recent_previous_application_credamount_590A\"}, axis=1)\n",
    "statistics_credamount_590A_df = statistics_credamount_590A_df.merge(most_recent_previous_application_credamount_590A_df, left_on=[\"case_id\"], right_on=[\"case_id\"], validate=\"one_to_one\")"
   ]
  },
  {
   "cell_type": "code",
   "execution_count": null,
   "id": "c801d259-e3e4-4885-9b66-11012b2abb5c",
   "metadata": {},
   "outputs": [],
   "source": [
    "sns.boxplot(data=statistics_credamount_590A_df, y=\"generated_credamount_590A_max\")"
   ]
  },
  {
   "cell_type": "markdown",
   "id": "8344cf58-07ad-4926-8dbb-06e2459bf5a6",
   "metadata": {},
   "source": [
    "### 1.15 credtype_587L"
   ]
  },
  {
   "cell_type": "code",
   "execution_count": null,
   "id": "866d629b-320e-48fd-b884-81c98883554f",
   "metadata": {},
   "outputs": [],
   "source": [
    "get_column_description(feature_df, \"credtype_587L\")"
   ]
  },
  {
   "cell_type": "code",
   "execution_count": null,
   "id": "2ecf4827-851d-4b5d-9d61-25217c98a9b2",
   "metadata": {},
   "outputs": [],
   "source": [
    "train_applprev_1_df.credtype_587L.value_counts()"
   ]
  },
  {
   "cell_type": "code",
   "execution_count": null,
   "id": "e361b753-4259-4114-af35-6349425ac071",
   "metadata": {},
   "outputs": [],
   "source": [
    "statistics_credtype_587L_df = train_applprev_1_df.groupby(by=[\"case_id\"]).agg({\"credtype_587L\":pd.Series.mode}).reset_index().rename({\"credtype_587L\": \"generated_credtype_587L_mode\"}, axis=1)#\n",
    "statistics_credtype_587L_df[\"generated_credtype_587L_mode\"] = statistics_credtype_587L_df[\"generated_credtype_587L_mode\"].apply(lambda x: x if isinstance(x, str) else (x[0] if len(x)>0 else np.nan))\n",
    "most_recent_previous_application_credtype_587L_df = train_applprev_1_df.sort_values(by=[\"num_group1\"], ascending=True).groupby(by=[\"case_id\"])[[\"case_id\", \"credtype_587L\"]].head(1).rename({\"credtype_587L\": \"generated_most_recent_previous_application_credtype_587L\"}, axis=1)"
   ]
  },
  {
   "cell_type": "code",
   "execution_count": null,
   "id": "a6ea206f-f39d-42d7-bd0b-576c8aed3d4a",
   "metadata": {},
   "outputs": [],
   "source": [
    "statistics_credtype_587L_df = statistics_credtype_587L_df.merge(most_recent_previous_application_credtype_587L_df, left_on=[\"case_id\"], right_on=[\"case_id\"], validate=\"one_to_one\")"
   ]
  },
  {
   "cell_type": "markdown",
   "id": "18d95f0a-fabb-4876-a857-e2254afd8b26",
   "metadata": {},
   "source": [
    "### 1.16 currdebt_94A"
   ]
  },
  {
   "cell_type": "code",
   "execution_count": null,
   "id": "5be0a7ec-1189-484a-b702-c5f244421877",
   "metadata": {},
   "outputs": [],
   "source": [
    "get_column_description(feature_df, \"currdebt_94A\")"
   ]
  },
  {
   "cell_type": "code",
   "execution_count": null,
   "id": "352ca642-c0b6-4a3e-a8ba-d9fd8cbd0886",
   "metadata": {},
   "outputs": [],
   "source": [
    "statistics_currdebt_94A_df = train_applprev_1_df.groupby(by=[\"case_id\"]).agg({\"currdebt_94A\": [\"max\", \"min\", \"mean\"]}).reset_index()\n",
    "statistics_currdebt_94A_df.columns  = ['case_id' if index_tuple[0] == 'case_id' else f\"generated_{index_tuple[0]}_{index_tuple[1]}\" for index_tuple in statistics_currdebt_94A_df.columns]\n",
    "most_recent_previous_application_currdebt_94A_df = train_applprev_1_df.sort_values(by=[\"num_group1\"], ascending=True).groupby(by=[\"case_id\"])[[\"case_id\", \"currdebt_94A\"]].head(1).rename({\"currdebt_94A\": \"generated_most_recent_previous_application_currdebt_94A\"}, axis=1)\n",
    "statistics_currdebt_94A_df = statistics_currdebt_94A_df.merge(most_recent_previous_application_currdebt_94A_df, left_on=[\"case_id\"], right_on=[\"case_id\"], validate=\"one_to_one\")"
   ]
  },
  {
   "cell_type": "code",
   "execution_count": null,
   "id": "49634e99-6ef2-4eb8-bbc5-c62a0c22fde0",
   "metadata": {},
   "outputs": [],
   "source": [
    "sns.boxplot(data=statistics_currdebt_94A_df, y=\"generated_currdebt_94A_max\")"
   ]
  },
  {
   "cell_type": "markdown",
   "id": "0327df81-4d01-4a31-89b8-d1adfe1f802a",
   "metadata": {},
   "source": [
    "### 1.17 district_544M"
   ]
  },
  {
   "cell_type": "code",
   "execution_count": null,
   "id": "4d400ae2-7d9d-4b85-a16a-ba6208e4eba8",
   "metadata": {},
   "outputs": [],
   "source": [
    "get_column_description(feature_df, \"district_544M\")"
   ]
  },
  {
   "cell_type": "code",
   "execution_count": null,
   "id": "1cc200a5-41bf-42ad-90f3-53d414788c50",
   "metadata": {},
   "outputs": [],
   "source": [
    "train_applprev_1_df.district_544M.isnull().value_counts()"
   ]
  },
  {
   "cell_type": "code",
   "execution_count": null,
   "id": "9e3c041a-3ef6-4c32-803e-95f0877bd3b9",
   "metadata": {},
   "outputs": [],
   "source": [
    "statistics_district_544M_df = train_applprev_1_df.groupby(by=[\"case_id\"]).agg({\"district_544M\":pd.Series.mode}).reset_index().rename({\"district_544M\": \"generated_district_544M_mode\"}, axis=1)\n",
    "statistics_district_544M_df[\"generated_district_544M_mode\"] = statistics_district_544M_df[\"generated_district_544M_mode\"].apply(lambda x: x if isinstance(x, str) else (x[0] if len(x)>0 else np.nan))\n",
    "most_recent_previous_application_district_544M_df = train_applprev_1_df.sort_values(by=[\"num_group1\"], ascending=True).groupby(by=[\"case_id\"])[[\"case_id\", \"district_544M\"]].head(1).rename({\"district_544M\": \"generated_most_recent_previous_application_district_544M\"}, axis=1)"
   ]
  },
  {
   "cell_type": "code",
   "execution_count": null,
   "id": "129586d3-1d03-4097-b0e2-dbfcb9a2bc34",
   "metadata": {},
   "outputs": [],
   "source": [
    "statistics_district_544M_df = statistics_district_544M_df.merge(most_recent_previous_application_district_544M_df, left_on=[\"case_id\"], right_on=[\"case_id\"], validate=\"one_to_one\")"
   ]
  },
  {
   "cell_type": "code",
   "execution_count": null,
   "id": "4a5d1708-bef9-4873-87de-88627950ce69",
   "metadata": {},
   "outputs": [],
   "source": [
    "statistics_district_544M_df.head(2)"
   ]
  },
  {
   "cell_type": "code",
   "execution_count": null,
   "id": "7d941081-7a07-4f71-a689-d9972528fbac",
   "metadata": {},
   "outputs": [],
   "source": [
    "# (statistics_district_544M_df.generated_district_544M_mode == statistics_district_544M_df.generated_most_recent_previous_application_district_544M).value_counts()"
   ]
  },
  {
   "cell_type": "markdown",
   "id": "6830f4b2-dacd-4c02-a7b4-2e05b1afa6b4",
   "metadata": {},
   "source": [
    "### 1.18 downpmt_134A"
   ]
  },
  {
   "cell_type": "code",
   "execution_count": null,
   "id": "49c47708-ef9c-48e6-ad6c-52f2acfff10b",
   "metadata": {},
   "outputs": [],
   "source": [
    "get_column_description(feature_df, \"downpmt_134A\")"
   ]
  },
  {
   "cell_type": "code",
   "execution_count": null,
   "id": "e3cf48ef-2037-49c9-9c00-c404676e2ec3",
   "metadata": {},
   "outputs": [],
   "source": [
    "train_applprev_1_df.downpmt_134A.isnull().value_counts()"
   ]
  },
  {
   "cell_type": "code",
   "execution_count": null,
   "id": "25f22547-89ac-465d-8036-9cf5ef40ce66",
   "metadata": {},
   "outputs": [],
   "source": [
    "statistics_downpmt_134A_df = train_applprev_1_df.groupby(by=[\"case_id\"]).agg({\"downpmt_134A\": [\"max\", \"min\", \"mean\"]}).reset_index()\n",
    "statistics_downpmt_134A_df.columns  = ['case_id' if index_tuple[0] == 'case_id' else f\"generated_{index_tuple[0]}_{index_tuple[1]}\" for index_tuple in statistics_downpmt_134A_df.columns]\n",
    "most_recent_previous_application_downpmt_134A_df = train_applprev_1_df.sort_values(by=[\"num_group1\"], ascending=True).groupby(by=[\"case_id\"])[[\"case_id\", \"downpmt_134A\"]].head(1).rename({\"downpmt_134A\": \"generated_most_recent_previous_application_downpmt_134A\"}, axis=1)\n",
    "statistics_downpmt_134A_df = statistics_downpmt_134A_df.merge(most_recent_previous_application_downpmt_134A_df, left_on=[\"case_id\"], right_on=[\"case_id\"], validate=\"one_to_one\")"
   ]
  },
  {
   "cell_type": "code",
   "execution_count": null,
   "id": "817270f7-d1c6-48f7-9d28-a3eff1c2ae7d",
   "metadata": {},
   "outputs": [],
   "source": [
    "statistics_downpmt_134A_df.head(2)"
   ]
  },
  {
   "cell_type": "markdown",
   "id": "fffdb9b2-0fc1-4a22-b3e0-b49d13750eed",
   "metadata": {},
   "source": [
    "### 1.19 dtlastpmt_581D"
   ]
  },
  {
   "cell_type": "code",
   "execution_count": null,
   "id": "a725e215-895d-42b0-adcf-8f0e54a76d60",
   "metadata": {},
   "outputs": [],
   "source": [
    "get_column_description(feature_df, \"dtlastpmt_581D\")"
   ]
  },
  {
   "cell_type": "markdown",
   "id": "c2bedaf6-1adc-4349-8923-b8ed7a6b2879",
   "metadata": {},
   "source": [
    "### 1.20 dtlastpmtallstes_3545839D"
   ]
  },
  {
   "cell_type": "code",
   "execution_count": null,
   "id": "51cf038a-951f-4078-9cd5-dcc46063a243",
   "metadata": {},
   "outputs": [],
   "source": [
    "get_column_description(feature_df, \"dtlastpmtallstes_3545839D\")"
   ]
  },
  {
   "cell_type": "markdown",
   "id": "d5f6850f-dfaa-486e-b4c6-0b0dc5cad4d4",
   "metadata": {},
   "source": [
    "### 1.21 education_1138M"
   ]
  },
  {
   "cell_type": "code",
   "execution_count": null,
   "id": "fba57d2a-e094-4361-b37b-ac6598a2ed03",
   "metadata": {},
   "outputs": [],
   "source": [
    "get_column_description(feature_df, \"education_1138M\")"
   ]
  },
  {
   "cell_type": "code",
   "execution_count": null,
   "id": "8bf88dc8-2cb3-4ea3-b196-b9ab9aa9e2b7",
   "metadata": {},
   "outputs": [],
   "source": [
    "train_applprev_1_df.education_1138M.value_counts()"
   ]
  },
  {
   "cell_type": "code",
   "execution_count": null,
   "id": "38380347-a8c7-4695-8f0a-f068f2621ce9",
   "metadata": {},
   "outputs": [],
   "source": [
    "most_recent_previous_application_education_1138M_df = train_applprev_1_df.sort_values(by=[\"num_group1\"], ascending=True).groupby(by=[\"case_id\"])[[\"case_id\", \"education_1138M\"]].head(1).rename({\"education_1138M\": \"generated_most_recent_previous_application_education_1138M\"}, axis=1)"
   ]
  },
  {
   "cell_type": "markdown",
   "id": "95aac534-13f5-424a-aa0b-3ffd0c125d85",
   "metadata": {},
   "source": [
    "### 1.22 employedfrom_700D"
   ]
  },
  {
   "cell_type": "code",
   "execution_count": null,
   "id": "69b1afed-a9d6-4175-a01a-8a1e8d604674",
   "metadata": {},
   "outputs": [],
   "source": [
    "get_column_description(feature_df, \"employedfrom_700D\")"
   ]
  },
  {
   "cell_type": "markdown",
   "id": "c607f65c-4892-4dc0-983e-e661573a7d83",
   "metadata": {},
   "source": [
    "### 1.23 familystate_726L"
   ]
  },
  {
   "cell_type": "code",
   "execution_count": null,
   "id": "9cc1136e-bdb5-44cd-9031-3d72fa03cae4",
   "metadata": {},
   "outputs": [],
   "source": [
    "get_column_description(feature_df, \"familystate_726L\")"
   ]
  },
  {
   "cell_type": "code",
   "execution_count": null,
   "id": "c844c138-5d14-4416-b98b-ef7ae405f074",
   "metadata": {},
   "outputs": [],
   "source": [
    "train_applprev_1_df.familystate_726L.isnull().value_counts()"
   ]
  },
  {
   "cell_type": "code",
   "execution_count": null,
   "id": "5958524d-4123-4a40-ba5c-abe8f4a11b5d",
   "metadata": {},
   "outputs": [],
   "source": [
    "most_recent_previous_application_familystate_726L_df = train_applprev_1_df.sort_values(by=[\"num_group1\"], ascending=True).groupby(by=[\"case_id\"])[[\"case_id\", \"familystate_726L\"]].head(1).rename({\"familystate_726L\": \"generated_most_recent_previous_application_familystate_726L\"}, axis=1)"
   ]
  },
  {
   "cell_type": "markdown",
   "id": "ad13558e-064d-4eb5-ac73-1cb2e4485387",
   "metadata": {},
   "source": [
    "### 1.24 outstandingdebt_522A"
   ]
  },
  {
   "cell_type": "code",
   "execution_count": null,
   "id": "bf18d11e-ed38-4322-89e7-b7204ff1f410",
   "metadata": {},
   "outputs": [],
   "source": [
    "get_column_description(feature_df, \"outstandingdebt_522A\")"
   ]
  },
  {
   "cell_type": "code",
   "execution_count": null,
   "id": "ac65d1a6-7244-4a80-9ac2-4940448e4abd",
   "metadata": {},
   "outputs": [],
   "source": [
    "train_applprev_1_df.outstandingdebt_522A.isnull().value_counts()"
   ]
  },
  {
   "cell_type": "code",
   "execution_count": null,
   "id": "f786f256-17df-4ae0-b8f1-e2a097f5a2bf",
   "metadata": {},
   "outputs": [],
   "source": [
    "statistics_outstandingdebt_522A_df = train_applprev_1_df.groupby(by=[\"case_id\"]).agg({\"outstandingdebt_522A\": [\"max\", \"min\", \"mean\"]}).reset_index()\n",
    "statistics_outstandingdebt_522A_df.columns  = ['case_id' if index_tuple[0] == 'case_id' else f\"generated_{index_tuple[0]}_{index_tuple[1]}\" for index_tuple in statistics_outstandingdebt_522A_df.columns]\n",
    "most_recent_previous_application_outstandingdebt_522A_df = train_applprev_1_df.sort_values(by=[\"num_group1\"], ascending=True).groupby(by=[\"case_id\"])[[\"case_id\", \"outstandingdebt_522A\"]].head(1).rename({\"outstandingdebt_522A\": \"generated_most_recent_previous_application_outstandingdebt_522A\"}, axis=1)\n",
    "statistics_outstandingdebt_522A_df = statistics_outstandingdebt_522A_df.merge(most_recent_previous_application_outstandingdebt_522A_df, left_on=[\"case_id\"], right_on=[\"case_id\"], validate=\"one_to_one\")"
   ]
  },
  {
   "cell_type": "code",
   "execution_count": null,
   "id": "04e97847-ba24-40dc-a346-30600c82263d",
   "metadata": {},
   "outputs": [],
   "source": [
    "statistics_outstandingdebt_522A_df.head()"
   ]
  },
  {
   "cell_type": "markdown",
   "id": "670c1185-f807-4970-812c-fda432e00442",
   "metadata": {},
   "source": [
    "### 1.25 pmtnum_8L"
   ]
  },
  {
   "cell_type": "code",
   "execution_count": null,
   "id": "802945b0-006a-4cbc-b6e1-46221d2acf8c",
   "metadata": {},
   "outputs": [],
   "source": [
    "get_column_description(feature_df, \"pmtnum_8L\")"
   ]
  },
  {
   "cell_type": "code",
   "execution_count": null,
   "id": "b54398cf-f90d-4287-b58e-56dab4572105",
   "metadata": {},
   "outputs": [],
   "source": [
    "train_applprev_1_df.pmtnum_8L.isnull().value_counts()"
   ]
  },
  {
   "cell_type": "code",
   "execution_count": null,
   "id": "25791b30-144c-4178-bf69-13e671492885",
   "metadata": {},
   "outputs": [],
   "source": [
    "statistics_pmtnum_8L_df = train_applprev_1_df.groupby(by=[\"case_id\"]).agg({\"pmtnum_8L\": [\"max\", \"min\", \"mean\"]}).reset_index()\n",
    "statistics_pmtnum_8L_df.columns  = ['case_id' if index_tuple[0] == 'case_id' else f\"generated_{index_tuple[0]}_{index_tuple[1]}\" for index_tuple in statistics_pmtnum_8L_df.columns]\n",
    "most_recent_previous_application_pmtnum_8L_df = train_applprev_1_df.sort_values(by=[\"num_group1\"], ascending=True).groupby(by=[\"case_id\"])[[\"case_id\", \"pmtnum_8L\"]].head(1).rename({\"pmtnum_8L\": \"generated_most_recent_previous_application_pmtnum_8L\"}, axis=1)\n",
    "statistics_pmtnum_8L_df = statistics_pmtnum_8L_df.merge(most_recent_previous_application_pmtnum_8L_df, left_on=[\"case_id\"], right_on=[\"case_id\"], validate=\"one_to_one\")"
   ]
  },
  {
   "cell_type": "code",
   "execution_count": null,
   "id": "ddcf75cc-393e-429b-af9b-a196e2f7db42",
   "metadata": {},
   "outputs": [],
   "source": [
    "statistics_pmtnum_8L_df.head()"
   ]
  },
  {
   "cell_type": "markdown",
   "id": "e948eec3-9590-486e-8609-5e5aa3f216d6",
   "metadata": {},
   "source": [
    "### 1.26 postype_4733339M [IGNORE]"
   ]
  },
  {
   "cell_type": "code",
   "execution_count": null,
   "id": "a6836e4c-f4a9-4b86-bfa9-be2f02a38838",
   "metadata": {},
   "outputs": [],
   "source": [
    "get_column_description(feature_df, \"postype_4733339M\")"
   ]
  },
  {
   "cell_type": "markdown",
   "id": "95c9a317-bdf8-4ccc-b0cc-6964f4bd3372",
   "metadata": {},
   "source": [
    "### 1.27 profession_152M"
   ]
  },
  {
   "cell_type": "code",
   "execution_count": null,
   "id": "6afa587d-7772-42a5-82f1-bde64799ca33",
   "metadata": {},
   "outputs": [],
   "source": [
    "get_column_description(feature_df, \"profession_152M\")"
   ]
  },
  {
   "cell_type": "code",
   "execution_count": null,
   "id": "f4119a91-95e0-41fa-8338-7ac6b5c95bb4",
   "metadata": {},
   "outputs": [],
   "source": [
    "most_recent_previous_application_profession_152M_df = train_applprev_1_df.sort_values(by=[\"num_group1\"], ascending=True).groupby(by=[\"case_id\"])[[\"case_id\", \"profession_152M\"]].head(1).rename({\"education_1138M\": \"generated_most_recent_previous_application_profession_152M\"}, axis=1)"
   ]
  },
  {
   "cell_type": "code",
   "execution_count": null,
   "id": "a4d8798b-49dc-4a64-8576-e90a5c93beee",
   "metadata": {},
   "outputs": [],
   "source": [
    "most_recent_previous_application_profession_152M_df"
   ]
  },
  {
   "cell_type": "markdown",
   "id": "7aaa81b9-7041-416a-b818-0aa64aba8ec7",
   "metadata": {},
   "source": [
    "### 1.28 rejectreason_755M"
   ]
  },
  {
   "cell_type": "code",
   "execution_count": null,
   "id": "820ca827-4dca-46ca-8896-a5262471dcd7",
   "metadata": {},
   "outputs": [],
   "source": [
    "get_column_description(feature_df, \"rejectreason_755M\")"
   ]
  },
  {
   "cell_type": "code",
   "execution_count": null,
   "id": "19b812a5-6bc4-4318-a844-feb3fc517bfb",
   "metadata": {},
   "outputs": [],
   "source": [
    "most_recent_previous_application_rejectreason_755M_df = train_applprev_1_df.sort_values(by=[\"num_group1\"], ascending=True).groupby(by=[\"case_id\"])[[\"case_id\", \"rejectreason_755M\"]].head(1).rename({\"rejectreason_755M\": \"generated_most_recent_previous_application_rejectreason_755M\"}, axis=1)"
   ]
  },
  {
   "cell_type": "code",
   "execution_count": null,
   "id": "6a98b94f-bd4a-4187-adec-a094c6b51da1",
   "metadata": {},
   "outputs": [],
   "source": [
    "most_recent_previous_application_rejectreason_755M_df.generated_most_recent_previous_application_rejectreason_755M.value_counts()"
   ]
  },
  {
   "cell_type": "markdown",
   "id": "1df5f3a9-a38e-44df-9dfc-e812922aa871",
   "metadata": {},
   "source": [
    "### 1.29 tenor_203L"
   ]
  },
  {
   "cell_type": "code",
   "execution_count": null,
   "id": "e0c1d2ef-d0e7-47d1-b513-8adaad49c677",
   "metadata": {},
   "outputs": [],
   "source": [
    "get_column_description(feature_df, \"tenor_203L\")"
   ]
  },
  {
   "cell_type": "code",
   "execution_count": null,
   "id": "65267fe4-9e62-4ea9-8db9-b4093c27332f",
   "metadata": {},
   "outputs": [],
   "source": [
    "statistics_tenor_203L_df = train_applprev_1_df.groupby(by=[\"case_id\"]).agg({\"tenor_203L\": [\"max\", \"min\", \"mean\"]}).reset_index()\n",
    "statistics_tenor_203L_df.columns  = ['case_id' if index_tuple[0] == 'case_id' else f\"generated_{index_tuple[0]}_{index_tuple[1]}\" for index_tuple in statistics_tenor_203L_df.columns]\n",
    "most_recent_previous_application_tenor_203L_df = train_applprev_1_df.sort_values(by=[\"num_group1\"], ascending=True).groupby(by=[\"case_id\"])[[\"case_id\", \"tenor_203L\"]].head(1).rename({\"tenor_203L\": \"generated_most_recent_previous_application_tenor_203L\"}, axis=1)\n",
    "statistics_tenor_203L_df = statistics_tenor_203L_df.merge(most_recent_previous_application_tenor_203L_df, left_on=[\"case_id\"], right_on=[\"case_id\"], validate=\"one_to_one\")"
   ]
  },
  {
   "cell_type": "code",
   "execution_count": null,
   "id": "00a94ecb-3d5f-49b4-8dcb-f8a11f5da57b",
   "metadata": {},
   "outputs": [],
   "source": [
    "statistics_tenor_203L_df"
   ]
  },
  {
   "cell_type": "code",
   "execution_count": null,
   "id": "59e85bb2-bad6-446e-930b-2692734b64ec",
   "metadata": {},
   "outputs": [],
   "source": [
    "sns.boxplot(data=statistics_tenor_203L_df, y=\"generated_tenor_203L_max\")"
   ]
  },
  {
   "cell_type": "code",
   "execution_count": null,
   "id": "acb86b70-ff80-4591-8a23-0e1e34135782",
   "metadata": {},
   "outputs": [],
   "source": []
  }
 ],
 "metadata": {
  "kernelspec": {
   "display_name": "personal_env",
   "language": "python",
   "name": "personal_env"
  },
  "language_info": {
   "codemirror_mode": {
    "name": "ipython",
    "version": 3
   },
   "file_extension": ".py",
   "mimetype": "text/x-python",
   "name": "python",
   "nbconvert_exporter": "python",
   "pygments_lexer": "ipython3",
   "version": "3.9.17"
  }
 },
 "nbformat": 4,
 "nbformat_minor": 5
}
