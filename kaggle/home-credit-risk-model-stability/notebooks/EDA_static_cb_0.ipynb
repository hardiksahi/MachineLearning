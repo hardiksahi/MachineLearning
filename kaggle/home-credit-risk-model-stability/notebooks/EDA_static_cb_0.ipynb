{
 "cells": [
  {
   "cell_type": "code",
   "execution_count": 1,
   "id": "9e95d896-c784-4cd8-8966-58df235e868d",
   "metadata": {},
   "outputs": [],
   "source": [
    "%load_ext autoreload\n",
    "%autoreload 2"
   ]
  },
  {
   "cell_type": "code",
   "execution_count": 2,
   "id": "1940da44-3135-4e96-ae86-c992e961e3ae",
   "metadata": {},
   "outputs": [
    {
     "data": {
      "text/html": [
       "<style>:root { --jp-notebook-max-width: 100% !important; }</style>"
      ],
      "text/plain": [
       "<IPython.core.display.HTML object>"
      ]
     },
     "metadata": {},
     "output_type": "display_data"
    }
   ],
   "source": [
    "from IPython.display import display, HTML\n",
    "display(HTML(\"<style>:root { --jp-notebook-max-width: 100% !important; }</style>\"))"
   ]
  },
  {
   "cell_type": "code",
   "execution_count": 3,
   "id": "b16f405a-221b-4508-b324-0413a0718cab",
   "metadata": {},
   "outputs": [],
   "source": [
    "import pandas as pd\n",
    "import numpy as np"
   ]
  },
  {
   "cell_type": "code",
   "execution_count": 4,
   "id": "fe384d41-342c-420e-9654-3e10a6f9b077",
   "metadata": {},
   "outputs": [],
   "source": [
    "import sys\n",
    "import os\n",
    "from collections import defaultdict, Counter"
   ]
  },
  {
   "cell_type": "code",
   "execution_count": 48,
   "id": "c380ae25-9423-4397-a5e4-6fb94bba5d15",
   "metadata": {},
   "outputs": [],
   "source": [
    "import math"
   ]
  },
  {
   "cell_type": "code",
   "execution_count": 53,
   "id": "0fe71f0d-d5b8-4e3c-925e-0653ec72d76d",
   "metadata": {},
   "outputs": [],
   "source": [
    "import seaborn as sns\n",
    "import matplotlib.pyplot as plt "
   ]
  },
  {
   "cell_type": "markdown",
   "id": "aa3381d5-ebc3-431b-b4e4-4dae67e0b221",
   "metadata": {},
   "source": [
    "## Constants"
   ]
  },
  {
   "cell_type": "code",
   "execution_count": 5,
   "id": "ca2670c5-1ebe-4ad0-ae06-8637d335c12c",
   "metadata": {},
   "outputs": [],
   "source": [
    "data_path = \"/Users/hardiksahi/Personal/MachineLearning/kaggle/home-credit-risk-model-stability/data/01_raw/home-credit-credit-risk-model-stability\""
   ]
  },
  {
   "cell_type": "markdown",
   "id": "6231d9fe-ed6c-4051-8c91-617680a5f748",
   "metadata": {},
   "source": [
    "## Get path of static_cb_0 data"
   ]
  },
  {
   "cell_type": "code",
   "execution_count": 14,
   "id": "49c71903-d6ee-468d-a22a-5b66a5aa6455",
   "metadata": {},
   "outputs": [],
   "source": [
    "base_file_dict = defaultdict(list)\n",
    "static_cb_0_file_dict = defaultdict(list)\n",
    "for dirname, _, filenames in os.walk(data_path):\n",
    "    for filename in filenames:\n",
    "        file_path = os.path.join(dirname, filename)\n",
    "        if file_path.endswith('parquet'):\n",
    "            file_type = 'train' if 'train' in file_path else 'test'\n",
    "            if 'base' in file_path:\n",
    "                base_file_dict[file_type].append(file_path)\n",
    "            if 'static_cb_0' in file_path:\n",
    "                static_cb_0_file_dict[file_type].append(file_path)"
   ]
  },
  {
   "cell_type": "code",
   "execution_count": 15,
   "id": "62a51cac-0450-4ebe-85bd-d48dae8e7ec6",
   "metadata": {},
   "outputs": [
    {
     "data": {
      "text/plain": [
       "defaultdict(list,\n",
       "            {'test': ['/Users/hardiksahi/Personal/MachineLearning/kaggle/home-credit-risk-model-stability/data/01_raw/home-credit-credit-risk-model-stability/parquet_files/test/test_static_cb_0.parquet'],\n",
       "             'train': ['/Users/hardiksahi/Personal/MachineLearning/kaggle/home-credit-risk-model-stability/data/01_raw/home-credit-credit-risk-model-stability/parquet_files/train/train_static_cb_0.parquet']})"
      ]
     },
     "execution_count": 15,
     "metadata": {},
     "output_type": "execute_result"
    }
   ],
   "source": [
    "static_cb_0_file_dict"
   ]
  },
  {
   "cell_type": "code",
   "execution_count": 16,
   "id": "8a9e70f1-4664-42bb-954a-d1b05a910238",
   "metadata": {},
   "outputs": [
    {
     "data": {
      "text/plain": [
       "defaultdict(list,\n",
       "            {'test': ['/Users/hardiksahi/Personal/MachineLearning/kaggle/home-credit-risk-model-stability/data/01_raw/home-credit-credit-risk-model-stability/parquet_files/test/test_base.parquet'],\n",
       "             'train': ['/Users/hardiksahi/Personal/MachineLearning/kaggle/home-credit-risk-model-stability/data/01_raw/home-credit-credit-risk-model-stability/parquet_files/train/train_base.parquet']})"
      ]
     },
     "execution_count": 16,
     "metadata": {},
     "output_type": "execute_result"
    }
   ],
   "source": [
    "base_file_dict"
   ]
  },
  {
   "cell_type": "markdown",
   "id": "07b63686-1a55-47ff-b089-dbf4e218faf4",
   "metadata": {},
   "source": [
    "## Function"
   ]
  },
  {
   "cell_type": "code",
   "execution_count": 24,
   "id": "043b9f0b-4c35-4c70-a38b-2714a0eeaa1c",
   "metadata": {},
   "outputs": [],
   "source": [
    "def get_column_description(feature_def_df, column_name):\n",
    "    return feature_def_df[feature_def_df.Variable == column_name]['Description'].iloc[0]"
   ]
  },
  {
   "cell_type": "code",
   "execution_count": 61,
   "id": "3e4ff8ee-f661-4cb5-9e73-c2738da99b21",
   "metadata": {},
   "outputs": [],
   "source": [
    "def plot_scatterplot(df, x_col_name, y_col_name, show_x_y_line=False):\n",
    "    assert x_col_name in df.columns, f\"Ensure that {x_col_name} is in the df\"\n",
    "    assert y_col_name in df.columns, f\"Ensure that {y_col_name} is in the df\"\n",
    "    \n",
    "    fig, axs = plt.subplots()\n",
    "    sns.scatterplot(data=df, x=df[x_col_name], y=df[y_col_name], ax=axs)\n",
    "    \n",
    "    if show_x_y_line:\n",
    "        df[x_col_name] = df[x_col_name].replace([np.inf, -np.inf], np.nan)\n",
    "        df[y_col_name] = df[y_col_name].replace([np.inf, -np.inf], np.nan)\n",
    "        not_null_x_filter = ~df[x_col_name].isnull()\n",
    "        not_null_y_filter = ~df[y_col_name].isnull()\n",
    "        not_null_filter = not_null_x_filter & not_null_y_filter\n",
    "        filtered_df = df[not_null_filter]\n",
    "        x_values_series = filtered_df[x_col_name]\n",
    "        y_values_series = filtered_df[y_col_name]\n",
    "        x0, x1 = min(x_values_series), max(x_values_series)\n",
    "        y0, y1 = min(y_values_series), max(y_values_series)\n",
    "        #line_values = [i for i in np.arange(min(x0, y0), max(x1, y1), 0.1)]\n",
    "        lims = [min(x0, y0), max(x1, y1)]\n",
    "        print(f\"lims: {lims}\")\n",
    "        plt.plot(lims, lims)\n",
    "    return fig"
   ]
  },
  {
   "cell_type": "code",
   "execution_count": 120,
   "id": "409cf4dc-51d9-41fb-b737-13cc6dd1770c",
   "metadata": {},
   "outputs": [],
   "source": [
    "def get_percent_of_column(df, groupby_column, target_column):\n",
    "    target_df = df.groupby(by=[groupby_column]).agg({target_column:\"sum\"}).reset_index()\n",
    "    all_rows_df = df.groupby(by=[groupby_column]).size().reset_index().rename({0:\"total_rows\"}, axis=1)\n",
    "    merged_df = target_df.merge(all_rows_df, left_on=[groupby_column], right_on=[groupby_column], how=\"left\")\n",
    "    merged_df[\"percentage_default\"] = 100*merged_df[\"target\"]/merged_df[\"total_rows\"]\n",
    "    merged_df[groupby_column] = merged_df[groupby_column].astype(str)\n",
    "    return merged_df"
   ]
  },
  {
   "cell_type": "code",
   "execution_count": 125,
   "id": "fe862dd5-7c6f-4375-bc07-90982fd4356f",
   "metadata": {},
   "outputs": [],
   "source": [
    "def plot_barplot(df, percent_column, category_column):\n",
    "    fig, ax = plt.subplots(1,1,figsize=(8,5))\n",
    "    sns.barplot(ax=ax, data=df, y=category_column, x=percent_column)\n",
    "    return fig"
   ]
  },
  {
   "cell_type": "markdown",
   "id": "db417264-7eab-4004-b7d2-18a9fe8cbc4a",
   "metadata": {},
   "source": [
    "## Read datasets"
   ]
  },
  {
   "cell_type": "code",
   "execution_count": 9,
   "id": "0a8d715c-bce1-45d3-b9f6-26dbb5af8f28",
   "metadata": {},
   "outputs": [
    {
     "name": "stdout",
     "output_type": "stream",
     "text": [
      "Shape of feature_df: (465, 2)\n"
     ]
    }
   ],
   "source": [
    "feature_df = pd.read_csv(f\"{data_path}/feature_definitions.csv\")\n",
    "print(f\"Shape of feature_df: {feature_df.shape}\")"
   ]
  },
  {
   "cell_type": "code",
   "execution_count": 10,
   "id": "18623842-a50a-4e8f-986b-a3c7cde74faa",
   "metadata": {},
   "outputs": [
    {
     "name": "stdout",
     "output_type": "stream",
     "text": [
      "Shape of train_static_cd_0_df: (1500476, 53)\n"
     ]
    }
   ],
   "source": [
    "train_static_cd_0_df = pd.read_parquet(static_cb_0_file_dict.get(\"train\"))\n",
    "print(f\"Shape of train_static_cd_0_df: {train_static_cd_0_df.shape}\")"
   ]
  },
  {
   "cell_type": "code",
   "execution_count": 17,
   "id": "66beb192-47b7-4191-b58d-b3dec54e6f87",
   "metadata": {},
   "outputs": [
    {
     "name": "stdout",
     "output_type": "stream",
     "text": [
      "Shape of train_base_df: (1526659, 5)\n"
     ]
    }
   ],
   "source": [
    "train_base_df = pd.read_parquet(base_file_dict.get(\"train\"))\n",
    "print(f\"Shape of train_base_df: {train_base_df.shape}\")"
   ]
  },
  {
   "cell_type": "markdown",
   "id": "9aea6175-268d-4523-99b4-c3815e243f1d",
   "metadata": {},
   "source": [
    "## Merge datsets on case_id"
   ]
  },
  {
   "cell_type": "code",
   "execution_count": 19,
   "id": "d8ecf418-a7cb-4f6d-af14-cd26d6ef5055",
   "metadata": {},
   "outputs": [
    {
     "name": "stdout",
     "output_type": "stream",
     "text": [
      "Shape of merged_train_static_cd_0_base_df: (1526659, 57)\n"
     ]
    }
   ],
   "source": [
    "merged_train_static_cd_0_base_df = train_base_df.merge(train_static_cd_0_df, left_on=[\"case_id\"], right_on=[\"case_id\"], how=\"left\")\n",
    "print(f\"Shape of merged_train_static_cd_0_base_df: {merged_train_static_cd_0_base_df.shape}\")"
   ]
  },
  {
   "cell_type": "code",
   "execution_count": 80,
   "id": "861978bd-01a1-417a-ad5b-ad74af4acd9b",
   "metadata": {},
   "outputs": [],
   "source": [
    "merged_train_static_cd_0_base_df[\"date_decision\"] = pd.to_datetime(merged_train_static_cd_0_base_df[\"date_decision\"])\n",
    "merged_train_static_cd_0_base_df[\"birthdate_574D\"] = pd.to_datetime(merged_train_static_cd_0_base_df[\"birthdate_574D\"])\n",
    "merged_train_static_cd_0_base_df[\"dateofbirth_337D\"] = pd.to_datetime(merged_train_static_cd_0_base_df[\"dateofbirth_337D\"])\n",
    "merged_train_static_cd_0_base_df[\"dateofbirth_342D\"] = pd.to_datetime(merged_train_static_cd_0_base_df[\"dateofbirth_342D\"])"
   ]
  },
  {
   "cell_type": "markdown",
   "id": "4dc785a0-57ef-4a6a-9cae-2e810dbe27e4",
   "metadata": {},
   "source": [
    "## Understanding features"
   ]
  },
  {
   "cell_type": "markdown",
   "id": "fd6a51b7-36a5-4245-9d4a-7ba7c5ed3fb2",
   "metadata": {},
   "source": [
    "## 1 assignmentdate_238D"
   ]
  },
  {
   "cell_type": "code",
   "execution_count": 25,
   "id": "793996d5-3cb1-4633-a9ce-464d4aec9026",
   "metadata": {},
   "outputs": [
    {
     "data": {
      "text/plain": [
       "'Tax authority data - date of assignment.'"
      ]
     },
     "execution_count": 25,
     "metadata": {},
     "output_type": "execute_result"
    }
   ],
   "source": [
    "get_column_description(feature_df, \"assignmentdate_238D\")"
   ]
  },
  {
   "cell_type": "code",
   "execution_count": 26,
   "id": "9430ca71-d362-4aa3-a070-353d20c991f8",
   "metadata": {},
   "outputs": [
    {
     "data": {
      "text/plain": [
       "assignmentdate_238D\n",
       "True     1389663\n",
       "False     136996\n",
       "Name: count, dtype: int64"
      ]
     },
     "execution_count": 26,
     "metadata": {},
     "output_type": "execute_result"
    }
   ],
   "source": [
    "merged_train_static_cd_0_base_df.assignmentdate_238D.isnull().value_counts()"
   ]
  },
  {
   "cell_type": "code",
   "execution_count": 27,
   "id": "0f5bfb54-88cf-46ee-b5a2-cba8866e7277",
   "metadata": {},
   "outputs": [
    {
     "data": {
      "text/plain": [
       "assignmentdate_238D\n",
       "2019-09-30    811\n",
       "2019-09-25    764\n",
       "2019-09-27    728\n",
       "2019-09-23    719\n",
       "2019-10-02    709\n",
       "             ... \n",
       "2001-10-31      1\n",
       "1995-05-03      1\n",
       "1997-07-20      1\n",
       "1999-12-03      1\n",
       "1991-12-16      1\n",
       "Name: count, Length: 8887, dtype: int64"
      ]
     },
     "execution_count": 27,
     "metadata": {},
     "output_type": "execute_result"
    }
   ],
   "source": [
    "merged_train_static_cd_0_base_df.assignmentdate_238D.value_counts()"
   ]
  },
  {
   "cell_type": "code",
   "execution_count": 30,
   "id": "7c0d02cf-c885-4dfb-83df-bc3e1528489e",
   "metadata": {},
   "outputs": [
    {
     "data": {
      "text/plain": [
       "False    1506169\n",
       "True       20490\n",
       "Name: count, dtype: int64"
      ]
     },
     "execution_count": 30,
     "metadata": {},
     "output_type": "execute_result"
    }
   ],
   "source": [
    "(merged_train_static_cd_0_base_df[\"date_decision\"]<=merged_train_static_cd_0_base_df.assignmentdate_238D).value_counts()"
   ]
  },
  {
   "cell_type": "markdown",
   "id": "4c08adba-cf8c-4cda-bcd7-be1c48d1e72a",
   "metadata": {},
   "source": [
    "## 2. assignmentdate_238D"
   ]
  },
  {
   "cell_type": "code",
   "execution_count": 31,
   "id": "9c2680fd-ebe8-42b3-b13e-181fbde80e0e",
   "metadata": {},
   "outputs": [
    {
     "data": {
      "text/plain": [
       "'Tax authority data - Date of assignment.'"
      ]
     },
     "execution_count": 31,
     "metadata": {},
     "output_type": "execute_result"
    }
   ],
   "source": [
    "get_column_description(feature_df, \"assignmentdate_4527235D\")"
   ]
  },
  {
   "cell_type": "code",
   "execution_count": 32,
   "id": "2a2374b0-95e8-4d42-99f2-03a9c0ac7348",
   "metadata": {},
   "outputs": [
    {
     "data": {
      "text/plain": [
       "'Tax authority assignment date.'"
      ]
     },
     "execution_count": 32,
     "metadata": {},
     "output_type": "execute_result"
    }
   ],
   "source": [
    "get_column_description(feature_df, \"assignmentdate_4955616D\")"
   ]
  },
  {
   "cell_type": "markdown",
   "id": "e3654c86-3538-4ca3-ae33-ba128f2effae",
   "metadata": {},
   "source": [
    "## 3. birthdate_574D"
   ]
  },
  {
   "cell_type": "code",
   "execution_count": 34,
   "id": "0597916c-c41f-4364-ba7b-62c31e891fc5",
   "metadata": {},
   "outputs": [
    {
     "data": {
      "text/plain": [
       "\"Client's date of birth (credit bureau data).\""
      ]
     },
     "execution_count": 34,
     "metadata": {},
     "output_type": "execute_result"
    }
   ],
   "source": [
    "get_column_description(feature_df, \"birthdate_574D\")"
   ]
  },
  {
   "cell_type": "code",
   "execution_count": 35,
   "id": "4ac7655f-7240-4394-bc6a-c48cd3bc9207",
   "metadata": {},
   "outputs": [
    {
     "data": {
      "text/plain": [
       "birthdate_574D\n",
       "True     918788\n",
       "False    607871\n",
       "Name: count, dtype: int64"
      ]
     },
     "execution_count": 35,
     "metadata": {},
     "output_type": "execute_result"
    }
   ],
   "source": [
    "merged_train_static_cd_0_base_df.birthdate_574D.isnull().value_counts()"
   ]
  },
  {
   "cell_type": "code",
   "execution_count": 82,
   "id": "b70b7060-7cdd-432d-8247-0fd1815fa708",
   "metadata": {},
   "outputs": [
    {
     "data": {
      "text/plain": [
       "count                           607871\n",
       "mean     1975-05-21 19:51:26.156766816\n",
       "min                1943-03-01 00:00:00\n",
       "25%                1963-12-01 00:00:00\n",
       "50%                1977-02-01 00:00:00\n",
       "75%                1987-04-01 00:00:00\n",
       "max                1998-09-01 00:00:00\n",
       "Name: birthdate_574D, dtype: object"
      ]
     },
     "execution_count": 82,
     "metadata": {},
     "output_type": "execute_result"
    }
   ],
   "source": [
    "merged_train_static_cd_0_base_df.birthdate_574D.describe()"
   ]
  },
  {
   "cell_type": "code",
   "execution_count": 88,
   "id": "312d09a3-8e8e-42b4-89bd-f8bf7cabbbf8",
   "metadata": {},
   "outputs": [],
   "source": [
    "## Age when the decision was made\n",
    "merged_train_static_cd_0_base_df[\"client_age\"] = (merged_train_static_cd_0_base_df['date_decision'] - merged_train_static_cd_0_base_df['birthdate_574D']) / np.timedelta64(1, 'Y')\n",
    "merged_train_static_cd_0_base_df[\"client_age\"] = merged_train_static_cd_0_base_df[\"client_age\"].apply(lambda x: x if math.isnan(x) else int(x))#.astype('int8')"
   ]
  },
  {
   "cell_type": "code",
   "execution_count": 89,
   "id": "731645df-3403-4658-8337-283c871dd156",
   "metadata": {},
   "outputs": [
    {
     "data": {
      "text/plain": [
       "client_age\n",
       "True     918788\n",
       "False    607871\n",
       "Name: count, dtype: int64"
      ]
     },
     "execution_count": 89,
     "metadata": {},
     "output_type": "execute_result"
    }
   ],
   "source": [
    "merged_train_static_cd_0_base_df[\"client_age\"].isnull().value_counts()"
   ]
  },
  {
   "cell_type": "code",
   "execution_count": 90,
   "id": "e58ac227-6f4b-4047-a18e-35319debbb7e",
   "metadata": {},
   "outputs": [
    {
     "data": {
      "text/plain": [
       "count    607871.000000\n",
       "mean         43.522721\n",
       "std          13.999387\n",
       "min          20.000000\n",
       "25%          32.000000\n",
       "50%          42.000000\n",
       "75%          55.000000\n",
       "max          76.000000\n",
       "Name: client_age, dtype: float64"
      ]
     },
     "execution_count": 90,
     "metadata": {},
     "output_type": "execute_result"
    }
   ],
   "source": [
    "merged_train_static_cd_0_base_df[\"client_age\"].describe()"
   ]
  },
  {
   "cell_type": "code",
   "execution_count": 91,
   "id": "32bc4083-3669-45f9-a49b-a41d7317d21f",
   "metadata": {},
   "outputs": [
    {
     "data": {
      "text/plain": [
       "<Axes: xlabel='target', ylabel='client_age'>"
      ]
     },
     "execution_count": 91,
     "metadata": {},
     "output_type": "execute_result"
    },
    {
     "data": {
      "image/png": "[encoded data removed]",
      "text/plain": [
       "<Figure size 640x480 with 1 Axes>"
      ]
     },
     "metadata": {},
     "output_type": "display_data"
    }
   ],
   "source": [
    "sns.boxplot(data=merged_train_static_cd_0_base_df, y=\"client_age\", x=\"target\")"
   ]
  },
  {
   "cell_type": "code",
   "execution_count": 92,
   "id": "ceab9a9b-7aab-44af-951c-5df55e55b3d9",
   "metadata": {},
   "outputs": [
    {
     "data": {
      "text/plain": [
       "<Axes: xlabel='client_age', ylabel='Proportion'>"
      ]
     },
     "execution_count": 92,
     "metadata": {},
     "output_type": "execute_result"
    },
    {
     "data": {
      "image/png": "[encoded data removed]",
      "text/plain": [
       "<Figure size 640x480 with 1 Axes>"
      ]
     },
     "metadata": {},
     "output_type": "display_data"
    }
   ],
   "source": [
    "sns.ecdfplot(data=merged_train_static_cd_0_base_df, x=\"client_age\", hue=\"target\")"
   ]
  },
  {
   "cell_type": "markdown",
   "id": "9e9ba615-26a0-47a7-9a05-fa3d8d307dad",
   "metadata": {},
   "source": [
    "## target=1 has lower value of client_age"
   ]
  },
  {
   "cell_type": "markdown",
   "id": "8938726f-e34b-48c8-b624-67f506aa389a",
   "metadata": {},
   "source": [
    "## 4. contractssum_5085716L"
   ]
  },
  {
   "cell_type": "code",
   "execution_count": 56,
   "id": "a34b6e1b-c2e2-455c-bab5-da865f9a4192",
   "metadata": {},
   "outputs": [
    {
     "data": {
      "text/plain": [
       "'Total sum of values of contracts retrieved from external credit bureau.'"
      ]
     },
     "execution_count": 56,
     "metadata": {},
     "output_type": "execute_result"
    }
   ],
   "source": [
    "get_column_description(feature_df, \"contractssum_5085716L\")"
   ]
  },
  {
   "cell_type": "code",
   "execution_count": 57,
   "id": "a91f6d8a-4063-4bc5-9086-89e0fce99f62",
   "metadata": {},
   "outputs": [
    {
     "data": {
      "text/plain": [
       "contractssum_5085716L\n",
       "True     1369330\n",
       "False     157329\n",
       "Name: count, dtype: int64"
      ]
     },
     "execution_count": 57,
     "metadata": {},
     "output_type": "execute_result"
    }
   ],
   "source": [
    "merged_train_static_cd_0_base_df.contractssum_5085716L.isnull().value_counts()"
   ]
  },
  {
   "cell_type": "code",
   "execution_count": 58,
   "id": "630c59f3-58a1-4ce5-be0a-91f33ff4394a",
   "metadata": {},
   "outputs": [
    {
     "data": {
      "text/plain": [
       "<Axes: xlabel='target', ylabel='contractssum_5085716L'>"
      ]
     },
     "execution_count": 58,
     "metadata": {},
     "output_type": "execute_result"
    },
    {
     "data": {
      "image/png": "[encoded data removed]",
      "text/plain": [
       "<Figure size 640x480 with 1 Axes>"
      ]
     },
     "metadata": {},
     "output_type": "display_data"
    }
   ],
   "source": [
    "sns.boxplot(data=merged_train_static_cd_0_base_df, y=\"contractssum_5085716L\", x=\"target\")"
   ]
  },
  {
   "cell_type": "code",
   "execution_count": 59,
   "id": "1bf44286-4323-4351-be10-dbe89cb31691",
   "metadata": {},
   "outputs": [
    {
     "data": {
      "text/plain": [
       "<Axes: xlabel='contractssum_5085716L', ylabel='Proportion'>"
      ]
     },
     "execution_count": 59,
     "metadata": {},
     "output_type": "execute_result"
    },
    {
     "data": {
      "image/png": "[encoded data removed]",
      "text/plain": [
       "<Figure size 640x480 with 1 Axes>"
      ]
     },
     "metadata": {},
     "output_type": "display_data"
    }
   ],
   "source": [
    "sns.ecdfplot(data=merged_train_static_cd_0_base_df, x=\"contractssum_5085716L\", hue=\"target\")"
   ]
  },
  {
   "cell_type": "code",
   "execution_count": 64,
   "id": "3a7d2672-aaac-4b5b-8ea5-35a8f07dcdbe",
   "metadata": {},
   "outputs": [],
   "source": [
    "# sc_plot = plot_scatterplot(merged_train_static_cd_0_base_df, \"contractssum_5085716L\", \"client_age\", show_x_y_line=False)\n",
    "# sc_plot.show()"
   ]
  },
  {
   "cell_type": "markdown",
   "id": "2f11c9b6-969c-4af5-b133-8625b63f03ff",
   "metadata": {},
   "source": [
    "## It is possible that this is sum of all the other contracts/ loans that the case_id has"
   ]
  },
  {
   "cell_type": "markdown",
   "id": "c4ec591e-206c-451d-80a0-b55b71c87e34",
   "metadata": {},
   "source": [
    "## 5. dateofbirth_337D"
   ]
  },
  {
   "cell_type": "code",
   "execution_count": 65,
   "id": "09b6bb07-aed5-419d-953d-ea222a12a384",
   "metadata": {},
   "outputs": [
    {
     "data": {
      "text/plain": [
       "\"Client's date of birth.\""
      ]
     },
     "execution_count": 65,
     "metadata": {},
     "output_type": "execute_result"
    }
   ],
   "source": [
    "get_column_description(feature_df, \"dateofbirth_337D\")"
   ]
  },
  {
   "cell_type": "code",
   "execution_count": 66,
   "id": "230f0b41-b4dc-472b-8a30-ed48986b0339",
   "metadata": {},
   "outputs": [
    {
     "data": {
      "text/plain": [
       "dateofbirth_337D\n",
       "False    1385691\n",
       "True      140968\n",
       "Name: count, dtype: int64"
      ]
     },
     "execution_count": 66,
     "metadata": {},
     "output_type": "execute_result"
    }
   ],
   "source": [
    "merged_train_static_cd_0_base_df.dateofbirth_337D.isnull().value_counts()"
   ]
  },
  {
   "cell_type": "code",
   "execution_count": 81,
   "id": "73246d72-f239-40ea-94e6-c01137d194a9",
   "metadata": {},
   "outputs": [
    {
     "data": {
      "text/plain": [
       "count                          1385691\n",
       "mean     1975-03-31 03:29:19.475380960\n",
       "min                1900-01-01 00:00:00\n",
       "25%                1963-12-01 00:00:00\n",
       "50%                1977-01-01 00:00:00\n",
       "75%                1986-11-01 00:00:00\n",
       "max                2020-01-01 00:00:00\n",
       "Name: dateofbirth_337D, dtype: object"
      ]
     },
     "execution_count": 81,
     "metadata": {},
     "output_type": "execute_result"
    }
   ],
   "source": [
    "merged_train_static_cd_0_base_df.dateofbirth_337D.describe()"
   ]
  },
  {
   "cell_type": "markdown",
   "id": "14a04992-34d5-49b9-bec9-25f5361ba585",
   "metadata": {},
   "source": [
    "## 1900-01-01 to 2020-01-01 Does not appear to be correct. IGNORE"
   ]
  },
  {
   "cell_type": "markdown",
   "id": "94a99a9c-23b3-4312-828f-4eb4307b7ab9",
   "metadata": {},
   "source": [
    "## 6. dateofbirth_342D"
   ]
  },
  {
   "cell_type": "code",
   "execution_count": 85,
   "id": "d113f71c-316d-41c0-ba1c-b025c6edabfd",
   "metadata": {},
   "outputs": [
    {
     "data": {
      "text/plain": [
       "\"Client's date of birth.\""
      ]
     },
     "execution_count": 85,
     "metadata": {},
     "output_type": "execute_result"
    }
   ],
   "source": [
    "get_column_description(feature_df, \"dateofbirth_342D\")"
   ]
  },
  {
   "cell_type": "code",
   "execution_count": 86,
   "id": "28b76f1c-ccab-44e6-b15d-30cc205fa404",
   "metadata": {},
   "outputs": [
    {
     "data": {
      "text/plain": [
       "dateofbirth_342D\n",
       "True     1490159\n",
       "False      36500\n",
       "Name: count, dtype: int64"
      ]
     },
     "execution_count": 86,
     "metadata": {},
     "output_type": "execute_result"
    }
   ],
   "source": [
    "merged_train_static_cd_0_base_df.dateofbirth_342D.isnull().value_counts()"
   ]
  },
  {
   "cell_type": "code",
   "execution_count": 87,
   "id": "086a89c0-8781-4a94-bd38-dbc3b92316ad",
   "metadata": {},
   "outputs": [
    {
     "data": {
      "text/plain": [
       "count                            36500\n",
       "mean     1977-09-16 00:28:47.999999968\n",
       "min                1915-01-01 00:00:00\n",
       "25%                1967-12-01 00:00:00\n",
       "50%                1979-08-01 00:00:00\n",
       "75%                1988-08-01 00:00:00\n",
       "max                2015-09-01 00:00:00\n",
       "Name: dateofbirth_342D, dtype: object"
      ]
     },
     "execution_count": 87,
     "metadata": {},
     "output_type": "execute_result"
    }
   ],
   "source": [
    "merged_train_static_cd_0_base_df.dateofbirth_342D.describe()"
   ]
  },
  {
   "cell_type": "markdown",
   "id": "0cc5fbda-71fe-4c4f-a50b-1a7be2e216f0",
   "metadata": {},
   "source": [
    "## 1915-01-01 to 2015-09-01. Does not ppear to be correct. IGNORE"
   ]
  },
  {
   "cell_type": "markdown",
   "id": "e0f96156-62e7-43b4-81f9-d99505262073",
   "metadata": {},
   "source": [
    "## 7. days30_165L"
   ]
  },
  {
   "cell_type": "code",
   "execution_count": 93,
   "id": "4f8f6ff1-0c7a-463d-a2c5-0615351e2ac3",
   "metadata": {},
   "outputs": [
    {
     "data": {
      "text/plain": [
       "'Number of credit bureau queries for the last 30 days.'"
      ]
     },
     "execution_count": 93,
     "metadata": {},
     "output_type": "execute_result"
    }
   ],
   "source": [
    "get_column_description(feature_df, \"days30_165L\")"
   ]
  },
  {
   "cell_type": "code",
   "execution_count": 94,
   "id": "9323bef7-686c-4330-ad2d-905d64f08e0b",
   "metadata": {},
   "outputs": [
    {
     "data": {
      "text/plain": [
       "days30_165L\n",
       "False    0.907662\n",
       "True     0.092338\n",
       "Name: proportion, dtype: float64"
      ]
     },
     "execution_count": 94,
     "metadata": {},
     "output_type": "execute_result"
    }
   ],
   "source": [
    "merged_train_static_cd_0_base_df.days30_165L.isnull().value_counts(normalize=True)"
   ]
  },
  {
   "cell_type": "code",
   "execution_count": 95,
   "id": "54159207-ad40-4293-85fe-ee663e7fcab3",
   "metadata": {},
   "outputs": [
    {
     "data": {
      "text/plain": [
       "<Axes: xlabel='target', ylabel='days30_165L'>"
      ]
     },
     "execution_count": 95,
     "metadata": {},
     "output_type": "execute_result"
    },
    {
     "data": {
      "image/png": "[encoded data removed]",
      "text/plain": [
       "<Figure size 640x480 with 1 Axes>"
      ]
     },
     "metadata": {},
     "output_type": "display_data"
    }
   ],
   "source": [
    "sns.boxplot(data=merged_train_static_cd_0_base_df, y=\"days30_165L\", x=\"target\")"
   ]
  },
  {
   "cell_type": "code",
   "execution_count": 96,
   "id": "532a5650-117d-4d22-a8b1-71583cd4eade",
   "metadata": {},
   "outputs": [
    {
     "data": {
      "text/plain": [
       "<Axes: xlabel='days30_165L', ylabel='Proportion'>"
      ]
     },
     "execution_count": 96,
     "metadata": {},
     "output_type": "execute_result"
    },
    {
     "data": {
      "image/png": "[encoded data removed]",
      "text/plain": [
       "<Figure size 640x480 with 1 Axes>"
      ]
     },
     "metadata": {},
     "output_type": "display_data"
    }
   ],
   "source": [
    "sns.ecdfplot(data=merged_train_static_cd_0_base_df, x=\"days30_165L\", hue=\"target\")"
   ]
  },
  {
   "cell_type": "markdown",
   "id": "b58a3e05-c8c9-4d50-911a-f660f85735e6",
   "metadata": {},
   "source": [
    "## 8. days90_310L"
   ]
  },
  {
   "cell_type": "code",
   "execution_count": 97,
   "id": "821a3fd7-769d-4a2a-9c1f-be376f4419ab",
   "metadata": {},
   "outputs": [
    {
     "data": {
      "text/plain": [
       "'Number of credit bureau queries for the last 90 days.'"
      ]
     },
     "execution_count": 97,
     "metadata": {},
     "output_type": "execute_result"
    }
   ],
   "source": [
    "get_column_description(feature_df, \"days90_310L\")"
   ]
  },
  {
   "cell_type": "code",
   "execution_count": 98,
   "id": "88395adc-5b49-4e14-8bfc-d19d674413d2",
   "metadata": {},
   "outputs": [
    {
     "data": {
      "text/plain": [
       "days90_310L\n",
       "False    0.907662\n",
       "True     0.092338\n",
       "Name: proportion, dtype: float64"
      ]
     },
     "execution_count": 98,
     "metadata": {},
     "output_type": "execute_result"
    }
   ],
   "source": [
    "merged_train_static_cd_0_base_df.days90_310L.isnull().value_counts(normalize=True)"
   ]
  },
  {
   "cell_type": "code",
   "execution_count": 99,
   "id": "b5d39546-5db9-4403-80d6-42933c9683d9",
   "metadata": {},
   "outputs": [
    {
     "data": {
      "text/plain": [
       "<Axes: xlabel='target', ylabel='days90_310L'>"
      ]
     },
     "execution_count": 99,
     "metadata": {},
     "output_type": "execute_result"
    },
    {
     "data": {
      "image/png": "[encoded data removed]",
      "text/plain": [
       "<Figure size 640x480 with 1 Axes>"
      ]
     },
     "metadata": {},
     "output_type": "display_data"
    }
   ],
   "source": [
    "sns.boxplot(data=merged_train_static_cd_0_base_df, y=\"days90_310L\", x=\"target\")"
   ]
  },
  {
   "cell_type": "code",
   "execution_count": 100,
   "id": "66cf310d-9777-4735-830d-7207da49f779",
   "metadata": {},
   "outputs": [
    {
     "data": {
      "text/plain": [
       "<Axes: xlabel='days90_310L', ylabel='Proportion'>"
      ]
     },
     "execution_count": 100,
     "metadata": {},
     "output_type": "execute_result"
    },
    {
     "data": {
      "image/png": "[encoded data removed]",
      "text/plain": [
       "<Figure size 640x480 with 1 Axes>"
      ]
     },
     "metadata": {},
     "output_type": "display_data"
    }
   ],
   "source": [
    "sns.ecdfplot(data=merged_train_static_cd_0_base_df, x=\"days90_310L\", hue=\"target\")"
   ]
  },
  {
   "cell_type": "markdown",
   "id": "a6fe66ed-4bea-4c0c-a6a8-48379e02bebc",
   "metadata": {},
   "source": [
    "## 9. days120_123L"
   ]
  },
  {
   "cell_type": "code",
   "execution_count": 101,
   "id": "ba6b4687-23eb-44b5-a860-0394aaa06355",
   "metadata": {},
   "outputs": [
    {
     "data": {
      "text/plain": [
       "'Number of credit bureau queries for the last 120 days.'"
      ]
     },
     "execution_count": 101,
     "metadata": {},
     "output_type": "execute_result"
    }
   ],
   "source": [
    "get_column_description(feature_df, \"days120_123L\")"
   ]
  },
  {
   "cell_type": "code",
   "execution_count": 102,
   "id": "2a548fb0-d84f-4ef8-a1ca-bd4cae613a9b",
   "metadata": {},
   "outputs": [
    {
     "data": {
      "text/plain": [
       "days120_123L\n",
       "False    0.907662\n",
       "True     0.092338\n",
       "Name: proportion, dtype: float64"
      ]
     },
     "execution_count": 102,
     "metadata": {},
     "output_type": "execute_result"
    }
   ],
   "source": [
    "merged_train_static_cd_0_base_df.days120_123L.isnull().value_counts(normalize=True)"
   ]
  },
  {
   "cell_type": "code",
   "execution_count": 103,
   "id": "435af6b5-71b3-41f3-bb3a-5c1ce14a0e93",
   "metadata": {},
   "outputs": [
    {
     "data": {
      "text/plain": [
       "<Axes: xlabel='target', ylabel='days120_123L'>"
      ]
     },
     "execution_count": 103,
     "metadata": {},
     "output_type": "execute_result"
    },
    {
     "data": {
      "image/png": "[encoded data removed]",
      "text/plain": [
       "<Figure size 640x480 with 1 Axes>"
      ]
     },
     "metadata": {},
     "output_type": "display_data"
    }
   ],
   "source": [
    "sns.boxplot(data=merged_train_static_cd_0_base_df, y=\"days120_123L\", x=\"target\")"
   ]
  },
  {
   "cell_type": "code",
   "execution_count": 104,
   "id": "ad106c21-2ccc-4e43-8ce2-be8fe9079a85",
   "metadata": {},
   "outputs": [
    {
     "data": {
      "text/plain": [
       "<Axes: xlabel='days120_123L', ylabel='Proportion'>"
      ]
     },
     "execution_count": 104,
     "metadata": {},
     "output_type": "execute_result"
    },
    {
     "data": {
      "image/png": "[encoded data removed]",
      "text/plain": [
       "<Figure size 640x480 with 1 Axes>"
      ]
     },
     "metadata": {},
     "output_type": "display_data"
    }
   ],
   "source": [
    "sns.ecdfplot(data=merged_train_static_cd_0_base_df, x=\"days120_123L\", hue=\"target\")"
   ]
  },
  {
   "cell_type": "markdown",
   "id": "e8c37d10-2e1d-4090-a1cf-4639f185622e",
   "metadata": {},
   "source": [
    "## target=1 has higher number of credit queries in past 120 days"
   ]
  },
  {
   "cell_type": "markdown",
   "id": "571c08fc-6675-4796-8dfc-ddd7ccd69858",
   "metadata": {},
   "source": [
    "## 10. days180_256L"
   ]
  },
  {
   "cell_type": "code",
   "execution_count": 105,
   "id": "1d833a0c-7c7e-4d0d-a250-2ee9fcc25f88",
   "metadata": {},
   "outputs": [
    {
     "data": {
      "text/plain": [
       "'Number of credit bureau queries for last 180 days.'"
      ]
     },
     "execution_count": 105,
     "metadata": {},
     "output_type": "execute_result"
    }
   ],
   "source": [
    "get_column_description(feature_df, \"days180_256L\")"
   ]
  },
  {
   "cell_type": "code",
   "execution_count": 106,
   "id": "05fe9289-bd14-415f-be49-acccbb7ff55a",
   "metadata": {},
   "outputs": [
    {
     "data": {
      "text/plain": [
       "days180_256L\n",
       "False    0.907662\n",
       "True     0.092338\n",
       "Name: proportion, dtype: float64"
      ]
     },
     "execution_count": 106,
     "metadata": {},
     "output_type": "execute_result"
    }
   ],
   "source": [
    "merged_train_static_cd_0_base_df.days180_256L.isnull().value_counts(normalize=True)"
   ]
  },
  {
   "cell_type": "code",
   "execution_count": 107,
   "id": "f7130fc5-fb9f-4a8c-91e4-0d27f6b38cf5",
   "metadata": {},
   "outputs": [
    {
     "data": {
      "text/plain": [
       "<Axes: xlabel='target', ylabel='days180_256L'>"
      ]
     },
     "execution_count": 107,
     "metadata": {},
     "output_type": "execute_result"
    },
    {
     "data": {
      "image/png": "[encoded data removed]",
      "text/plain": [
       "<Figure size 640x480 with 1 Axes>"
      ]
     },
     "metadata": {},
     "output_type": "display_data"
    }
   ],
   "source": [
    "sns.boxplot(data=merged_train_static_cd_0_base_df, y=\"days180_256L\", x=\"target\")"
   ]
  },
  {
   "cell_type": "code",
   "execution_count": 108,
   "id": "19f124e4-a5db-4d14-8efe-860e4e3edb08",
   "metadata": {},
   "outputs": [
    {
     "data": {
      "text/plain": [
       "<Axes: xlabel='days180_256L', ylabel='Proportion'>"
      ]
     },
     "execution_count": 108,
     "metadata": {},
     "output_type": "execute_result"
    },
    {
     "data": {
      "image/png": "[encoded data removed]",
      "text/plain": [
       "<Figure size 640x480 with 1 Axes>"
      ]
     },
     "metadata": {},
     "output_type": "display_data"
    }
   ],
   "source": [
    "sns.ecdfplot(data=merged_train_static_cd_0_base_df, x=\"days180_256L\", hue=\"target\")"
   ]
  },
  {
   "cell_type": "markdown",
   "id": "36c7baee-ea96-4071-a133-0644457eecfc",
   "metadata": {},
   "source": [
    "## target=1 has higher number of credit queries in past 180 days"
   ]
  },
  {
   "cell_type": "markdown",
   "id": "bfb2514b-8f0e-4134-86a6-8bd8d94a4846",
   "metadata": {},
   "source": [
    "## 11. days360_512L"
   ]
  },
  {
   "cell_type": "code",
   "execution_count": 113,
   "id": "68770567-bf4d-47d8-8c35-202eab7a036a",
   "metadata": {},
   "outputs": [
    {
     "data": {
      "text/plain": [
       "'Number of Credit Bureau queries for last 360 days.'"
      ]
     },
     "execution_count": 113,
     "metadata": {},
     "output_type": "execute_result"
    }
   ],
   "source": [
    "get_column_description(feature_df, \"days360_512L\")"
   ]
  },
  {
   "cell_type": "code",
   "execution_count": 114,
   "id": "81da7826-ac6e-4f7d-9579-d7c4ad1971c7",
   "metadata": {},
   "outputs": [
    {
     "data": {
      "text/plain": [
       "days360_512L\n",
       "False    0.907662\n",
       "True     0.092338\n",
       "Name: proportion, dtype: float64"
      ]
     },
     "execution_count": 114,
     "metadata": {},
     "output_type": "execute_result"
    }
   ],
   "source": [
    "merged_train_static_cd_0_base_df.days360_512L.isnull().value_counts(normalize=True)"
   ]
  },
  {
   "cell_type": "code",
   "execution_count": 115,
   "id": "7f2d3564-d0e5-4427-b7cc-4c50d300557e",
   "metadata": {},
   "outputs": [
    {
     "data": {
      "text/plain": [
       "<Axes: xlabel='target', ylabel='days360_512L'>"
      ]
     },
     "execution_count": 115,
     "metadata": {},
     "output_type": "execute_result"
    },
    {
     "data": {
      "image/png": "[encoded data removed]",
      "text/plain": [
       "<Figure size 640x480 with 1 Axes>"
      ]
     },
     "metadata": {},
     "output_type": "display_data"
    }
   ],
   "source": [
    "sns.boxplot(data=merged_train_static_cd_0_base_df, y=\"days360_512L\", x=\"target\")"
   ]
  },
  {
   "cell_type": "code",
   "execution_count": 112,
   "id": "6f62e1f2-0b9c-4e96-b9ed-94e8f7842cd1",
   "metadata": {},
   "outputs": [
    {
     "data": {
      "text/plain": [
       "<Axes: xlabel='days360_512L', ylabel='Proportion'>"
      ]
     },
     "execution_count": 112,
     "metadata": {},
     "output_type": "execute_result"
    },
    {
     "data": {
      "image/png": "[encoded data removed]",
      "text/plain": [
       "<Figure size 640x480 with 1 Axes>"
      ]
     },
     "metadata": {},
     "output_type": "display_data"
    }
   ],
   "source": [
    "sns.ecdfplot(data=merged_train_static_cd_0_base_df, x=\"days360_512L\", hue=\"target\")"
   ]
  },
  {
   "cell_type": "markdown",
   "id": "ecf2b5d6-4832-46ae-b8b3-a547b1ee8d14",
   "metadata": {},
   "source": [
    "## target=1 has higher number of credit queries in past 360 days"
   ]
  },
  {
   "cell_type": "markdown",
   "id": "5213c4aa-546e-4c96-858c-d9184c7d6c54",
   "metadata": {},
   "source": [
    "## 12. description_5085714M"
   ]
  },
  {
   "cell_type": "code",
   "execution_count": 117,
   "id": "080898fd-fe4f-4df0-8330-bed863412e9e",
   "metadata": {},
   "outputs": [
    {
     "data": {
      "text/plain": [
       "'Categorization of clients by credit bureau.'"
      ]
     },
     "execution_count": 117,
     "metadata": {},
     "output_type": "execute_result"
    }
   ],
   "source": [
    "get_column_description(feature_df, \"description_5085714M\")"
   ]
  },
  {
   "cell_type": "code",
   "execution_count": 118,
   "id": "66504336-442b-4ab3-8d67-75607ea739fa",
   "metadata": {},
   "outputs": [
    {
     "data": {
      "text/plain": [
       "description_5085714M\n",
       "False    0.982849\n",
       "True     0.017151\n",
       "Name: proportion, dtype: float64"
      ]
     },
     "execution_count": 118,
     "metadata": {},
     "output_type": "execute_result"
    }
   ],
   "source": [
    "merged_train_static_cd_0_base_df.description_5085714M.isnull().value_counts(normalize=True)"
   ]
  },
  {
   "cell_type": "code",
   "execution_count": 119,
   "id": "e138a737-4187-4ee6-863f-f3cf0f6427a5",
   "metadata": {},
   "outputs": [
    {
     "data": {
      "text/plain": [
       "description_5085714M\n",
       "a55475b1    1316125\n",
       "2fc785b2     184351\n",
       "Name: count, dtype: int64"
      ]
     },
     "execution_count": 119,
     "metadata": {},
     "output_type": "execute_result"
    }
   ],
   "source": [
    "merged_train_static_cd_0_base_df.description_5085714M.value_counts()"
   ]
  },
  {
   "cell_type": "code",
   "execution_count": 122,
   "id": "a030fd75-0fe8-4c6b-bb49-0e679c73a039",
   "metadata": {},
   "outputs": [],
   "source": [
    "percentage_default_description_5085714M_df = get_percent_of_column(merged_train_static_cd_0_base_df, \"description_5085714M\", \"target\")"
   ]
  },
  {
   "cell_type": "code",
   "execution_count": 127,
   "id": "fa44ee26-57b3-4afa-b333-fd2e12e1b40e",
   "metadata": {},
   "outputs": [
    {
     "name": "stderr",
     "output_type": "stream",
     "text": [
      "/var/folders/qr/cmfkzy495k7b3bn80b7ygs080000gn/T/ipykernel_17646/3378707336.py:2: UserWarning: Matplotlib is currently using module://matplotlib_inline.backend_inline, which is a non-GUI backend, so cannot show the figure.\n",
      "  bar_plot.show()\n"
     ]
    },
    {
     "data": {
      "image/png": "[encoded data removed]",
      "text/plain": [
       "<Figure size 800x500 with 1 Axes>"
      ]
     },
     "metadata": {},
     "output_type": "display_data"
    }
   ],
   "source": [
    "bar_plot = plot_barplot(percentage_default_description_5085714M_df, \"percentage_default\", \"description_5085714M\")\n",
    "bar_plot.show()"
   ]
  },
  {
   "cell_type": "markdown",
   "id": "66f6cbdc-530e-45f3-9381-ca26532a5d82",
   "metadata": {},
   "source": [
    "## It appears that there is difference in default percentage for differernt description_5085714M"
   ]
  },
  {
   "cell_type": "markdown",
   "id": "208e4de3-7c93-4fd8-802f-eae4a285ca8f",
   "metadata": {},
   "source": [
    "## 13. education_1103M"
   ]
  },
  {
   "cell_type": "code",
   "execution_count": 128,
   "id": "dcc7a100-4450-402f-8db8-818ad7fe89d6",
   "metadata": {},
   "outputs": [
    {
     "data": {
      "text/plain": [
       "'Level of education of the client provided by external source.'"
      ]
     },
     "execution_count": 128,
     "metadata": {},
     "output_type": "execute_result"
    }
   ],
   "source": [
    "get_column_description(feature_df, \"education_1103M\")"
   ]
  },
  {
   "cell_type": "code",
   "execution_count": 129,
   "id": "4d308e5d-d801-40f2-9b4d-b7ef76e236b4",
   "metadata": {},
   "outputs": [
    {
     "data": {
      "text/plain": [
       "education_1103M\n",
       "False    0.982849\n",
       "True     0.017151\n",
       "Name: proportion, dtype: float64"
      ]
     },
     "execution_count": 129,
     "metadata": {},
     "output_type": "execute_result"
    }
   ],
   "source": [
    "merged_train_static_cd_0_base_df.education_1103M.isnull().value_counts(normalize=True)"
   ]
  },
  {
   "cell_type": "code",
   "execution_count": 130,
   "id": "dfaa4f1c-7fda-45a8-b1ab-e62b8af3baeb",
   "metadata": {},
   "outputs": [
    {
     "data": {
      "text/plain": [
       "education_1103M\n",
       "a55475b1    859962\n",
       "6b2ae0fa    452449\n",
       "717ddd49    135342\n",
       "39a0853f     47140\n",
       "c8e1a1d0      5583\n",
       "Name: count, dtype: int64"
      ]
     },
     "execution_count": 130,
     "metadata": {},
     "output_type": "execute_result"
    }
   ],
   "source": [
    "merged_train_static_cd_0_base_df.education_1103M.value_counts()"
   ]
  },
  {
   "cell_type": "code",
   "execution_count": 131,
   "id": "97cf75e3-2806-4341-baef-28002f0c9f17",
   "metadata": {},
   "outputs": [],
   "source": [
    "percentage_default_education_1103M_df = get_percent_of_column(merged_train_static_cd_0_base_df, \"education_1103M\", \"target\")"
   ]
  },
  {
   "cell_type": "code",
   "execution_count": 132,
   "id": "19a4beb7-02f3-4237-9d59-ee1e703a611c",
   "metadata": {},
   "outputs": [
    {
     "name": "stderr",
     "output_type": "stream",
     "text": [
      "/var/folders/qr/cmfkzy495k7b3bn80b7ygs080000gn/T/ipykernel_17646/420501965.py:2: UserWarning: Matplotlib is currently using module://matplotlib_inline.backend_inline, which is a non-GUI backend, so cannot show the figure.\n",
      "  bar_plot.show()\n"
     ]
    },
    {
     "data": {
      "image/png": "[encoded data removed]",
      "text/plain": [
       "<Figure size 800x500 with 1 Axes>"
      ]
     },
     "metadata": {},
     "output_type": "display_data"
    }
   ],
   "source": [
    "bar_plot = plot_barplot(percentage_default_education_1103M_df, \"percentage_default\", \"education_1103M\")\n",
    "bar_plot.show()"
   ]
  },
  {
   "cell_type": "markdown",
   "id": "9b004d92-e6a1-42f6-b152-2d5d98ff8e18",
   "metadata": {},
   "source": [
    "## 14. education_88M"
   ]
  },
  {
   "cell_type": "code",
   "execution_count": 134,
   "id": "2bf7ddbc-6b00-46e7-b4bd-6bdca09e425f",
   "metadata": {},
   "outputs": [
    {
     "data": {
      "text/plain": [
       "'Education level of the client.'"
      ]
     },
     "execution_count": 134,
     "metadata": {},
     "output_type": "execute_result"
    }
   ],
   "source": [
    "get_column_description(feature_df, \"education_88M\")"
   ]
  },
  {
   "cell_type": "code",
   "execution_count": 135,
   "id": "0ca0a001-37a2-4702-a3ef-90c2c5ddcf1a",
   "metadata": {},
   "outputs": [
    {
     "data": {
      "text/plain": [
       "education_88M\n",
       "False    0.982849\n",
       "True     0.017151\n",
       "Name: proportion, dtype: float64"
      ]
     },
     "execution_count": 135,
     "metadata": {},
     "output_type": "execute_result"
    }
   ],
   "source": [
    "merged_train_static_cd_0_base_df.education_88M.isnull().value_counts(normalize=True)"
   ]
  },
  {
   "cell_type": "code",
   "execution_count": 136,
   "id": "85f54f45-02ec-4a93-9452-b5be4a41cfc1",
   "metadata": {},
   "outputs": [
    {
     "data": {
      "text/plain": [
       "education_88M\n",
       "a55475b1    1484960\n",
       "6b2ae0fa      11673\n",
       "717ddd49       3280\n",
       "a34a13c8        437\n",
       "c8e1a1d0        126\n",
       "Name: count, dtype: int64"
      ]
     },
     "execution_count": 136,
     "metadata": {},
     "output_type": "execute_result"
    }
   ],
   "source": [
    "merged_train_static_cd_0_base_df.education_88M.value_counts()"
   ]
  },
  {
   "cell_type": "code",
   "execution_count": 137,
   "id": "171fba23-dfa0-47dc-83bc-7b785bc181af",
   "metadata": {},
   "outputs": [],
   "source": [
    "percentage_default_education_88M_df = get_percent_of_column(merged_train_static_cd_0_base_df, \"education_88M\", \"target\")"
   ]
  },
  {
   "cell_type": "code",
   "execution_count": 138,
   "id": "0182f5eb-010f-4dc5-956a-445e0d0a98c1",
   "metadata": {},
   "outputs": [
    {
     "name": "stderr",
     "output_type": "stream",
     "text": [
      "/var/folders/qr/cmfkzy495k7b3bn80b7ygs080000gn/T/ipykernel_17646/3869461033.py:2: UserWarning: Matplotlib is currently using module://matplotlib_inline.backend_inline, which is a non-GUI backend, so cannot show the figure.\n",
      "  bar_plot.show()\n"
     ]
    },
    {
     "data": {
      "image/png": "[encoded data removed]",
      "text/plain": [
       "<Figure size 800x500 with 1 Axes>"
      ]
     },
     "metadata": {},
     "output_type": "display_data"
    }
   ],
   "source": [
    "bar_plot = plot_barplot(percentage_default_education_88M_df, \"percentage_default\", \"education_88M\")\n",
    "bar_plot.show()"
   ]
  },
  {
   "cell_type": "markdown",
   "id": "11dcdfd4-6056-424c-a31b-35cca6696d7c",
   "metadata": {},
   "source": [
    "## 15. firstquarter_103L, secondquarter_766L, thirdquarter_1082L, fourthquarter_440L"
   ]
  },
  {
   "cell_type": "code",
   "execution_count": 143,
   "id": "50dc38c0-1e91-4258-be19-fe426ac42eb7",
   "metadata": {},
   "outputs": [
    {
     "data": {
      "text/plain": [
       "'Number of results obtained from credit bureau in the first quarter.'"
      ]
     },
     "execution_count": 143,
     "metadata": {},
     "output_type": "execute_result"
    }
   ],
   "source": [
    "get_column_description(feature_df, \"firstquarter_103L\")"
   ]
  },
  {
   "cell_type": "code",
   "execution_count": 140,
   "id": "a9d52d33-31c1-4117-85a6-21adeaf06c64",
   "metadata": {},
   "outputs": [
    {
     "data": {
      "text/plain": [
       "'Number of results in second quarter.'"
      ]
     },
     "execution_count": 140,
     "metadata": {},
     "output_type": "execute_result"
    }
   ],
   "source": [
    "get_column_description(feature_df, \"secondquarter_766L\")"
   ]
  },
  {
   "cell_type": "code",
   "execution_count": 141,
   "id": "85411b6d-ab32-4112-b0b4-0cca58ab9850",
   "metadata": {},
   "outputs": [
    {
     "data": {
      "text/plain": [
       "'Number of results in third quarter.'"
      ]
     },
     "execution_count": 141,
     "metadata": {},
     "output_type": "execute_result"
    }
   ],
   "source": [
    "get_column_description(feature_df, \"thirdquarter_1082L\")"
   ]
  },
  {
   "cell_type": "code",
   "execution_count": 142,
   "id": "db923d0c-2106-426d-a904-9dd60028b35a",
   "metadata": {},
   "outputs": [
    {
     "data": {
      "text/plain": [
       "'Number of results in fourth quarter.'"
      ]
     },
     "execution_count": 142,
     "metadata": {},
     "output_type": "execute_result"
    }
   ],
   "source": [
    "get_column_description(feature_df, \"fourthquarter_440L\")"
   ]
  },
  {
   "cell_type": "markdown",
   "id": "9da62f72-3f02-478d-9340-cd155bf01111",
   "metadata": {},
   "source": [
    "## 16. for3years_128L"
   ]
  },
  {
   "cell_type": "code",
   "execution_count": 144,
   "id": "e9a5f0fd-e13a-4a98-9c91-7884fc2191b7",
   "metadata": {},
   "outputs": [
    {
     "data": {
      "text/plain": [
       "'Number of rejected applications in the past 3 years.'"
      ]
     },
     "execution_count": 144,
     "metadata": {},
     "output_type": "execute_result"
    }
   ],
   "source": [
    "get_column_description(feature_df, \"for3years_128L\")"
   ]
  },
  {
   "cell_type": "code",
   "execution_count": 145,
   "id": "482123b7-8bc2-42c6-8bc2-ddb3e17de68b",
   "metadata": {},
   "outputs": [
    {
     "data": {
      "text/plain": [
       "for3years_128L\n",
       "True     0.976082\n",
       "False    0.023918\n",
       "Name: proportion, dtype: float64"
      ]
     },
     "execution_count": 145,
     "metadata": {},
     "output_type": "execute_result"
    }
   ],
   "source": [
    "merged_train_static_cd_0_base_df.for3years_128L.isnull().value_counts(normalize=True)"
   ]
  },
  {
   "cell_type": "code",
   "execution_count": 152,
   "id": "852c9721-c0f7-4e6d-9280-137ed7bda962",
   "metadata": {},
   "outputs": [
    {
     "data": {
      "text/plain": [
       "for3years_128L\n",
       "0.0    36511\n",
       "1.0        3\n",
       "Name: count, dtype: int64"
      ]
     },
     "execution_count": 152,
     "metadata": {},
     "output_type": "execute_result"
    }
   ],
   "source": [
    "merged_train_static_cd_0_base_df.for3years_128L.value_counts().head(5)"
   ]
  },
  {
   "cell_type": "markdown",
   "id": "ed0717e6-c78e-497c-97cd-fc44486e9600",
   "metadata": {},
   "source": [
    "## 17. for3years_504L"
   ]
  },
  {
   "cell_type": "code",
   "execution_count": 146,
   "id": "d2804cb6-2dcc-4d00-ad85-334f8fb37c36",
   "metadata": {},
   "outputs": [
    {
     "data": {
      "text/plain": [
       "\"Client's credit history data over the last three years.\""
      ]
     },
     "execution_count": 146,
     "metadata": {},
     "output_type": "execute_result"
    }
   ],
   "source": [
    "get_column_description(feature_df, \"for3years_504L\")"
   ]
  },
  {
   "cell_type": "code",
   "execution_count": 147,
   "id": "6c4856df-ca89-4d38-8805-3eb840ae8db4",
   "metadata": {},
   "outputs": [
    {
     "data": {
      "text/plain": [
       "for3years_504L\n",
       "True     0.976082\n",
       "False    0.023918\n",
       "Name: proportion, dtype: float64"
      ]
     },
     "execution_count": 147,
     "metadata": {},
     "output_type": "execute_result"
    }
   ],
   "source": [
    "merged_train_static_cd_0_base_df.for3years_504L.isnull().value_counts(normalize=True)"
   ]
  },
  {
   "cell_type": "code",
   "execution_count": 151,
   "id": "0f64132c-ca7d-4a53-a350-f0e8b2ec832d",
   "metadata": {},
   "outputs": [
    {
     "data": {
      "text/plain": [
       "for3years_504L\n",
       "0.0    10443\n",
       "1.0     5484\n",
       "2.0     3701\n",
       "3.0     2459\n",
       "4.0     2111\n",
       "Name: count, dtype: int64"
      ]
     },
     "execution_count": 151,
     "metadata": {},
     "output_type": "execute_result"
    }
   ],
   "source": [
    "merged_train_static_cd_0_base_df.for3years_504L.value_counts().head(5)"
   ]
  },
  {
   "cell_type": "markdown",
   "id": "e06d0925-ee9f-4fbc-8593-651624483499",
   "metadata": {},
   "source": [
    "## 18. for3years_584L"
   ]
  },
  {
   "cell_type": "code",
   "execution_count": 153,
   "id": "0117c604-3400-4f32-8964-b63d15fbc983",
   "metadata": {},
   "outputs": [
    {
     "data": {
      "text/plain": [
       "'Number of cancellations in the last 3 years.'"
      ]
     },
     "execution_count": 153,
     "metadata": {},
     "output_type": "execute_result"
    }
   ],
   "source": [
    "get_column_description(feature_df, \"for3years_584L\")"
   ]
  },
  {
   "cell_type": "code",
   "execution_count": 154,
   "id": "28b5f974-026d-420a-9e6c-d261e2177249",
   "metadata": {},
   "outputs": [
    {
     "data": {
      "text/plain": [
       "for3years_584L\n",
       "True     0.976082\n",
       "False    0.023918\n",
       "Name: proportion, dtype: float64"
      ]
     },
     "execution_count": 154,
     "metadata": {},
     "output_type": "execute_result"
    }
   ],
   "source": [
    "merged_train_static_cd_0_base_df.for3years_584L.isnull().value_counts(normalize=True)"
   ]
  },
  {
   "cell_type": "code",
   "execution_count": 155,
   "id": "a967113c-1d6d-47a9-85ca-99a15bbdafb9",
   "metadata": {},
   "outputs": [
    {
     "data": {
      "text/plain": [
       "for3years_584L\n",
       "0.0    36245\n",
       "1.0      257\n",
       "2.0       12\n",
       "Name: count, dtype: int64"
      ]
     },
     "execution_count": 155,
     "metadata": {},
     "output_type": "execute_result"
    }
   ],
   "source": [
    "merged_train_static_cd_0_base_df.for3years_584L.value_counts().head(5)"
   ]
  },
  {
   "cell_type": "markdown",
   "id": "3b751898-67ac-4f41-8be6-22dd5234a1dd",
   "metadata": {},
   "source": [
    "## 19. formonth_118L"
   ]
  },
  {
   "cell_type": "code",
   "execution_count": 156,
   "id": "05972372-1492-4867-9572-eca83d7e68e2",
   "metadata": {},
   "outputs": [
    {
     "data": {
      "text/plain": [
       "'Number of rejections in a month.'"
      ]
     },
     "execution_count": 156,
     "metadata": {},
     "output_type": "execute_result"
    }
   ],
   "source": [
    "get_column_description(feature_df, \"formonth_118L\")"
   ]
  },
  {
   "cell_type": "code",
   "execution_count": 157,
   "id": "103346bb-5fb7-4c45-924f-647464891bcc",
   "metadata": {},
   "outputs": [
    {
     "data": {
      "text/plain": [
       "formonth_118L\n",
       "True     0.976082\n",
       "False    0.023918\n",
       "Name: proportion, dtype: float64"
      ]
     },
     "execution_count": 157,
     "metadata": {},
     "output_type": "execute_result"
    }
   ],
   "source": [
    "merged_train_static_cd_0_base_df.formonth_118L.isnull().value_counts(normalize=True)"
   ]
  },
  {
   "cell_type": "code",
   "execution_count": 158,
   "id": "7e6a4f18-8708-414c-aa56-72e1469869f9",
   "metadata": {},
   "outputs": [
    {
     "data": {
      "text/plain": [
       "formonth_118L\n",
       "0.0    36514\n",
       "Name: count, dtype: int64"
      ]
     },
     "execution_count": 158,
     "metadata": {},
     "output_type": "execute_result"
    }
   ],
   "source": [
    "merged_train_static_cd_0_base_df.formonth_118L.value_counts().head(5)"
   ]
  },
  {
   "cell_type": "markdown",
   "id": "ddb7756e-d353-47b5-99c8-1d27cb148ddc",
   "metadata": {},
   "source": [
    "## 20. formonth_206L"
   ]
  },
  {
   "cell_type": "code",
   "execution_count": 159,
   "id": "6059b2f9-a025-4017-a596-92fe65de8e59",
   "metadata": {},
   "outputs": [
    {
     "data": {
      "text/plain": [
       "'Number of cancelations in the previous month.'"
      ]
     },
     "execution_count": 159,
     "metadata": {},
     "output_type": "execute_result"
    }
   ],
   "source": [
    "get_column_description(feature_df, \"formonth_206L\")"
   ]
  },
  {
   "cell_type": "code",
   "execution_count": 160,
   "id": "f1a86bdd-79b9-495a-b3a8-0695349f5225",
   "metadata": {},
   "outputs": [
    {
     "data": {
      "text/plain": [
       "formonth_206L\n",
       "True     0.976082\n",
       "False    0.023918\n",
       "Name: proportion, dtype: float64"
      ]
     },
     "execution_count": 160,
     "metadata": {},
     "output_type": "execute_result"
    }
   ],
   "source": [
    "merged_train_static_cd_0_base_df.formonth_206L.isnull().value_counts(normalize=True)"
   ]
  },
  {
   "cell_type": "code",
   "execution_count": 161,
   "id": "3502ad05-697c-4e26-ad6b-6d25953ed619",
   "metadata": {},
   "outputs": [
    {
     "data": {
      "text/plain": [
       "formonth_206L\n",
       "0.0    36501\n",
       "1.0       13\n",
       "Name: count, dtype: int64"
      ]
     },
     "execution_count": 161,
     "metadata": {},
     "output_type": "execute_result"
    }
   ],
   "source": [
    "merged_train_static_cd_0_base_df.formonth_206L.value_counts().head(5)"
   ]
  },
  {
   "cell_type": "markdown",
   "id": "c92a524b-a00e-4b6d-848b-feffb2bc45d4",
   "metadata": {},
   "source": [
    "## 21. formonth_535L"
   ]
  },
  {
   "cell_type": "code",
   "execution_count": 166,
   "id": "eabdf82f-5224-49b8-9101-2d1f46977991",
   "metadata": {},
   "outputs": [
    {
     "data": {
      "text/plain": [
       "'Credit history for the last month.'"
      ]
     },
     "execution_count": 166,
     "metadata": {},
     "output_type": "execute_result"
    }
   ],
   "source": [
    "get_column_description(feature_df, \"formonth_535L\")"
   ]
  },
  {
   "cell_type": "code",
   "execution_count": 167,
   "id": "cb3541ea-8dcc-4a4b-af3a-4bc9e82cd9e1",
   "metadata": {},
   "outputs": [
    {
     "data": {
      "text/plain": [
       "formonth_535L\n",
       "True     0.976082\n",
       "False    0.023918\n",
       "Name: proportion, dtype: float64"
      ]
     },
     "execution_count": 167,
     "metadata": {},
     "output_type": "execute_result"
    }
   ],
   "source": [
    "merged_train_static_cd_0_base_df.formonth_535L.isnull().value_counts(normalize=True)"
   ]
  },
  {
   "cell_type": "code",
   "execution_count": 168,
   "id": "197b8ec5-8029-4e68-a55f-68484711e4b4",
   "metadata": {},
   "outputs": [
    {
     "data": {
      "text/plain": [
       "formonth_535L\n",
       "0.0    29492\n",
       "1.0     5616\n",
       "2.0     1240\n",
       "3.0      135\n",
       "4.0       20\n",
       "Name: count, dtype: int64"
      ]
     },
     "execution_count": 168,
     "metadata": {},
     "output_type": "execute_result"
    }
   ],
   "source": [
    "merged_train_static_cd_0_base_df.formonth_535L.value_counts().head(5)"
   ]
  },
  {
   "cell_type": "markdown",
   "id": "072b4aac-4254-4dfc-9d31-585464296047",
   "metadata": {},
   "source": [
    "## 22. forquarter_1017L"
   ]
  },
  {
   "cell_type": "code",
   "execution_count": 169,
   "id": "61c95fc5-cc25-4ffa-98b0-52ce20a5b7ca",
   "metadata": {},
   "outputs": [
    {
     "data": {
      "text/plain": [
       "'Number of cancellations recorded in the credit bureau in the last quarter.'"
      ]
     },
     "execution_count": 169,
     "metadata": {},
     "output_type": "execute_result"
    }
   ],
   "source": [
    "get_column_description(feature_df, \"forquarter_1017L\")"
   ]
  },
  {
   "cell_type": "code",
   "execution_count": 170,
   "id": "4c81d716-c732-4063-98fd-dfb89e023d44",
   "metadata": {},
   "outputs": [
    {
     "data": {
      "text/plain": [
       "forquarter_1017L\n",
       "True     0.976082\n",
       "False    0.023918\n",
       "Name: proportion, dtype: float64"
      ]
     },
     "execution_count": 170,
     "metadata": {},
     "output_type": "execute_result"
    }
   ],
   "source": [
    "merged_train_static_cd_0_base_df.forquarter_1017L.isnull().value_counts(normalize=True)"
   ]
  },
  {
   "cell_type": "markdown",
   "id": "6289a6a5-1b53-4a5d-92c4-0b77062d7d13",
   "metadata": {},
   "source": [
    "## 23. forquarter_462L"
   ]
  },
  {
   "cell_type": "code",
   "execution_count": 171,
   "id": "4c832c7a-3718-4766-9760-c3e7f3d4afb2",
   "metadata": {},
   "outputs": [
    {
     "data": {
      "text/plain": [
       "'Number of credit applications that were rejected in the last quarter.'"
      ]
     },
     "execution_count": 171,
     "metadata": {},
     "output_type": "execute_result"
    }
   ],
   "source": [
    "get_column_description(feature_df, \"forquarter_462L\")"
   ]
  },
  {
   "cell_type": "code",
   "execution_count": 172,
   "id": "1b45e1d3-b82f-4bd7-8d5e-16d6e48473d2",
   "metadata": {},
   "outputs": [
    {
     "data": {
      "text/plain": [
       "forquarter_462L\n",
       "True     0.976082\n",
       "False    0.023918\n",
       "Name: proportion, dtype: float64"
      ]
     },
     "execution_count": 172,
     "metadata": {},
     "output_type": "execute_result"
    }
   ],
   "source": [
    "merged_train_static_cd_0_base_df.forquarter_462L.isnull().value_counts(normalize=True)"
   ]
  },
  {
   "cell_type": "code",
   "execution_count": 173,
   "id": "e2d4dd06-ff3e-4164-b9f1-fb8ff0da86f9",
   "metadata": {},
   "outputs": [
    {
     "data": {
      "text/plain": [
       "forquarter_462L\n",
       "0.0    36514\n",
       "Name: count, dtype: int64"
      ]
     },
     "execution_count": 173,
     "metadata": {},
     "output_type": "execute_result"
    }
   ],
   "source": [
    "merged_train_static_cd_0_base_df.forquarter_462L.value_counts().head(5)"
   ]
  },
  {
   "cell_type": "markdown",
   "id": "0bc5263c-47b9-46ea-ad43-18cb2aa4ef6d",
   "metadata": {},
   "source": [
    "## 24. forquarter_634L"
   ]
  },
  {
   "cell_type": "code",
   "execution_count": 174,
   "id": "7fc9e078-901a-442b-9366-bdbbf55fe41a",
   "metadata": {},
   "outputs": [
    {
     "data": {
      "text/plain": [
       "'Credit history for the last quarter.'"
      ]
     },
     "execution_count": 174,
     "metadata": {},
     "output_type": "execute_result"
    }
   ],
   "source": [
    "get_column_description(feature_df, \"forquarter_634L\")"
   ]
  },
  {
   "cell_type": "markdown",
   "id": "30aa5b7e-11c7-4f90-a6e9-78a03c34bc2f",
   "metadata": {},
   "source": [
    "## 25. fortoday_1092L"
   ]
  },
  {
   "cell_type": "code",
   "execution_count": 176,
   "id": "7aeff8b3-8533-4d78-ae7b-3fe29f91ee0b",
   "metadata": {},
   "outputs": [
    {
     "data": {
      "text/plain": [
       "'Number of cancelations in the last week.'"
      ]
     },
     "execution_count": 176,
     "metadata": {},
     "output_type": "execute_result"
    }
   ],
   "source": [
    "get_column_description(feature_df, \"forweek_1077L\")"
   ]
  },
  {
   "cell_type": "markdown",
   "id": "b55faa11-aa47-49e9-b270-34e6f4e38fd9",
   "metadata": {},
   "source": [
    "## 26. maritalst_385M"
   ]
  },
  {
   "cell_type": "code",
   "execution_count": 177,
   "id": "61af6730-e502-409c-af1c-553af68b7450",
   "metadata": {},
   "outputs": [
    {
     "data": {
      "text/plain": [
       "'Marital status of the client.'"
      ]
     },
     "execution_count": 177,
     "metadata": {},
     "output_type": "execute_result"
    }
   ],
   "source": [
    "get_column_description(feature_df, \"maritalst_385M\")"
   ]
  },
  {
   "cell_type": "code",
   "execution_count": 178,
   "id": "ec476575-b81f-49b0-94a4-c8f3a7289f35",
   "metadata": {},
   "outputs": [
    {
     "data": {
      "text/plain": [
       "maritalst_385M\n",
       "False    0.982849\n",
       "True     0.017151\n",
       "Name: proportion, dtype: float64"
      ]
     },
     "execution_count": 178,
     "metadata": {},
     "output_type": "execute_result"
    }
   ],
   "source": [
    "merged_train_static_cd_0_base_df.maritalst_385M.isnull().value_counts(normalize=True)"
   ]
  },
  {
   "cell_type": "code",
   "execution_count": 179,
   "id": "2428a937-04ad-48d4-b3ab-7d806420572f",
   "metadata": {},
   "outputs": [
    {
     "data": {
      "text/plain": [
       "maritalst_385M\n",
       "a55475b1    0.440921\n",
       "3439d993    0.366774\n",
       "a7fcb6e5    0.133991\n",
       "b6cabe76    0.037255\n",
       "38c061ee    0.017895\n",
       "ecd83604    0.003164\n",
       "Name: proportion, dtype: float64"
      ]
     },
     "execution_count": 179,
     "metadata": {},
     "output_type": "execute_result"
    }
   ],
   "source": [
    "merged_train_static_cd_0_base_df.maritalst_385M.value_counts(normalize=True)"
   ]
  },
  {
   "cell_type": "code",
   "execution_count": 180,
   "id": "7e1610b9-6b94-42c3-9b87-e39730c6265a",
   "metadata": {},
   "outputs": [],
   "source": [
    "percentage_default_maritalst_385M_df = get_percent_of_column(merged_train_static_cd_0_base_df, \"maritalst_385M\", \"target\")"
   ]
  },
  {
   "cell_type": "code",
   "execution_count": 181,
   "id": "1bc92ef6-9186-448a-8d83-a03397e79ebb",
   "metadata": {},
   "outputs": [
    {
     "name": "stderr",
     "output_type": "stream",
     "text": [
      "/var/folders/qr/cmfkzy495k7b3bn80b7ygs080000gn/T/ipykernel_17646/4036844696.py:2: UserWarning: Matplotlib is currently using module://matplotlib_inline.backend_inline, which is a non-GUI backend, so cannot show the figure.\n",
      "  bar_plot.show()\n"
     ]
    },
    {
     "data": {
      "image/png": "[encoded data removed]",
      "text/plain": [
       "<Figure size 800x500 with 1 Axes>"
      ]
     },
     "metadata": {},
     "output_type": "display_data"
    }
   ],
   "source": [
    "bar_plot = plot_barplot(percentage_default_maritalst_385M_df, \"percentage_default\", \"maritalst_385M\")\n",
    "bar_plot.show()"
   ]
  },
  {
   "cell_type": "markdown",
   "id": "199ea6de-a4d4-4a99-87f3-e591c4352924",
   "metadata": {},
   "source": [
    "## 27. maritalst_893M"
   ]
  },
  {
   "cell_type": "code",
   "execution_count": 183,
   "id": "407bbbb6-3469-46a3-a886-3bec2b997453",
   "metadata": {},
   "outputs": [
    {
     "data": {
      "text/plain": [
       "'Marital status of the client'"
      ]
     },
     "execution_count": 183,
     "metadata": {},
     "output_type": "execute_result"
    }
   ],
   "source": [
    "get_column_description(feature_df, \"maritalst_893M\")"
   ]
  },
  {
   "cell_type": "code",
   "execution_count": 184,
   "id": "df084546-38af-476e-b3b9-39b93a4af523",
   "metadata": {},
   "outputs": [
    {
     "data": {
      "text/plain": [
       "maritalst_893M\n",
       "False    0.982849\n",
       "True     0.017151\n",
       "Name: proportion, dtype: float64"
      ]
     },
     "execution_count": 184,
     "metadata": {},
     "output_type": "execute_result"
    }
   ],
   "source": [
    "merged_train_static_cd_0_base_df.maritalst_893M.isnull().value_counts(normalize=True)"
   ]
  },
  {
   "cell_type": "markdown",
   "id": "1a491c31-eab0-4cf9-8730-8df1fdfe1d5e",
   "metadata": {},
   "source": [
    "## 28. numberofqueries_373L"
   ]
  },
  {
   "cell_type": "code",
   "execution_count": 185,
   "id": "2d945f52-3394-47f8-8c71-856e2bb415e4",
   "metadata": {},
   "outputs": [
    {
     "data": {
      "text/plain": [
       "'Number of queries to credit bureau.'"
      ]
     },
     "execution_count": 185,
     "metadata": {},
     "output_type": "execute_result"
    }
   ],
   "source": [
    "get_column_description(feature_df, \"numberofqueries_373L\")"
   ]
  },
  {
   "cell_type": "code",
   "execution_count": 186,
   "id": "edb090f8-3b43-4acf-955c-f0a6ec5a523f",
   "metadata": {},
   "outputs": [
    {
     "data": {
      "text/plain": [
       "numberofqueries_373L\n",
       "False    0.907662\n",
       "True     0.092338\n",
       "Name: proportion, dtype: float64"
      ]
     },
     "execution_count": 186,
     "metadata": {},
     "output_type": "execute_result"
    }
   ],
   "source": [
    "merged_train_static_cd_0_base_df.numberofqueries_373L.isnull().value_counts(normalize=True)"
   ]
  },
  {
   "cell_type": "code",
   "execution_count": 187,
   "id": "5ecab30c-bc8a-4c62-b040-c35214d69ae2",
   "metadata": {},
   "outputs": [
    {
     "data": {
      "text/plain": [
       "<Axes: xlabel='target', ylabel='numberofqueries_373L'>"
      ]
     },
     "execution_count": 187,
     "metadata": {},
     "output_type": "execute_result"
    },
    {
     "data": {
      "image/png": "[encoded data removed]",
      "text/plain": [
       "<Figure size 640x480 with 1 Axes>"
      ]
     },
     "metadata": {},
     "output_type": "display_data"
    }
   ],
   "source": [
    "sns.boxplot(data=merged_train_static_cd_0_base_df, y=\"numberofqueries_373L\", x=\"target\")"
   ]
  },
  {
   "cell_type": "code",
   "execution_count": 188,
   "id": "89add475-37bd-452a-afe2-01238cd97bd1",
   "metadata": {},
   "outputs": [
    {
     "data": {
      "text/plain": [
       "<Axes: xlabel='numberofqueries_373L', ylabel='Proportion'>"
      ]
     },
     "execution_count": 188,
     "metadata": {},
     "output_type": "execute_result"
    },
    {
     "data": {
      "image/png": "[encoded data removed]",
      "text/plain": [
       "<Figure size 640x480 with 1 Axes>"
      ]
     },
     "metadata": {},
     "output_type": "display_data"
    }
   ],
   "source": [
    "sns.ecdfplot(data=merged_train_static_cd_0_base_df, x=\"numberofqueries_373L\", hue=\"target\")"
   ]
  },
  {
   "cell_type": "markdown",
   "id": "e5ae38bd-bd70-471b-9258-48c06bf18474",
   "metadata": {},
   "source": [
    "## 29. pmtaverage_3A"
   ]
  },
  {
   "cell_type": "code",
   "execution_count": 189,
   "id": "750cf31e-81db-4e43-83d4-f16e04e0957b",
   "metadata": {},
   "outputs": [
    {
     "data": {
      "text/plain": [
       "'Average of tax deductions.'"
      ]
     },
     "execution_count": 189,
     "metadata": {},
     "output_type": "execute_result"
    }
   ],
   "source": [
    "get_column_description(feature_df, \"pmtaverage_3A\")"
   ]
  },
  {
   "cell_type": "code",
   "execution_count": 190,
   "id": "beaa8955-f8a5-4c98-bd0e-6c356e06ef20",
   "metadata": {},
   "outputs": [
    {
     "data": {
      "text/plain": [
       "'Average of tax deductions.'"
      ]
     },
     "execution_count": 190,
     "metadata": {},
     "output_type": "execute_result"
    }
   ],
   "source": [
    "get_column_description(feature_df, \"pmtaverage_4527227A\")"
   ]
  },
  {
   "cell_type": "code",
   "execution_count": 191,
   "id": "5535041e-9474-4411-87aa-f58ea9e286f6",
   "metadata": {},
   "outputs": [
    {
     "data": {
      "text/plain": [
       "'Average of tax deductions.'"
      ]
     },
     "execution_count": 191,
     "metadata": {},
     "output_type": "execute_result"
    }
   ],
   "source": [
    "get_column_description(feature_df, \"pmtaverage_4955615A\")"
   ]
  },
  {
   "cell_type": "code",
   "execution_count": 197,
   "id": "de9bcc78-fda0-4679-a7eb-b7d39bd3f7c2",
   "metadata": {},
   "outputs": [
    {
     "data": {
      "text/plain": [
       "pmtaverage_3A\n",
       "True     0.905946\n",
       "False    0.094054\n",
       "Name: proportion, dtype: float64"
      ]
     },
     "execution_count": 197,
     "metadata": {},
     "output_type": "execute_result"
    }
   ],
   "source": [
    "merged_train_static_cd_0_base_df.pmtaverage_3A.isnull().value_counts(normalize=True)"
   ]
  },
  {
   "cell_type": "code",
   "execution_count": 198,
   "id": "a3e1a305-6f5d-42d6-8add-8abdc72b93bb",
   "metadata": {},
   "outputs": [
    {
     "data": {
      "text/plain": [
       "<Axes: xlabel='target', ylabel='pmtaverage_3A'>"
      ]
     },
     "execution_count": 198,
     "metadata": {},
     "output_type": "execute_result"
    },
    {
     "data": {
      "image/png": "[encoded data removed]",
      "text/plain": [
       "<Figure size 640x480 with 1 Axes>"
      ]
     },
     "metadata": {},
     "output_type": "display_data"
    }
   ],
   "source": [
    "sns.boxplot(data=merged_train_static_cd_0_base_df, y=\"pmtaverage_3A\", x=\"target\")"
   ]
  },
  {
   "cell_type": "code",
   "execution_count": 199,
   "id": "02cea694-65bc-484e-852b-6301ba873845",
   "metadata": {},
   "outputs": [
    {
     "data": {
      "text/plain": [
       "<Axes: xlabel='pmtaverage_3A', ylabel='Proportion'>"
      ]
     },
     "execution_count": 199,
     "metadata": {},
     "output_type": "execute_result"
    },
    {
     "data": {
      "image/png": "[encoded data removed]",
      "text/plain": [
       "<Figure size 640x480 with 1 Axes>"
      ]
     },
     "metadata": {},
     "output_type": "display_data"
    }
   ],
   "source": [
    "sns.ecdfplot(data=merged_train_static_cd_0_base_df, x=\"pmtaverage_3A\", hue=\"target\")"
   ]
  },
  {
   "cell_type": "markdown",
   "id": "00e3f1c2-f036-41e7-85e2-d38afaeca3dd",
   "metadata": {},
   "source": [
    "## 30. pmtscount_423L"
   ]
  },
  {
   "cell_type": "code",
   "execution_count": 214,
   "id": "5d8d1134-f833-4203-aa49-2f2e17b27d3e",
   "metadata": {},
   "outputs": [
    {
     "data": {
      "text/plain": [
       "'Number of tax deduction payments.'"
      ]
     },
     "execution_count": 214,
     "metadata": {},
     "output_type": "execute_result"
    }
   ],
   "source": [
    "get_column_description(feature_df, \"pmtscount_423L\")"
   ]
  },
  {
   "cell_type": "code",
   "execution_count": 215,
   "id": "4bab69bf-534b-4697-8afd-41389b6e0258",
   "metadata": {},
   "outputs": [
    {
     "data": {
      "text/plain": [
       "pmtscount_423L\n",
       "True     0.624908\n",
       "False    0.375092\n",
       "Name: proportion, dtype: float64"
      ]
     },
     "execution_count": 215,
     "metadata": {},
     "output_type": "execute_result"
    }
   ],
   "source": [
    "merged_train_static_cd_0_base_df.pmtscount_423L.isnull().value_counts(normalize=True)"
   ]
  },
  {
   "cell_type": "code",
   "execution_count": 217,
   "id": "287474a7-48a9-4a12-bd4f-7a0a41910938",
   "metadata": {},
   "outputs": [
    {
     "data": {
      "text/plain": [
       "<Axes: xlabel='target', ylabel='pmtscount_423L'>"
      ]
     },
     "execution_count": 217,
     "metadata": {},
     "output_type": "execute_result"
    },
    {
     "data": {
      "image/png": "[encoded data removed]",
      "text/plain": [
       "<Figure size 640x480 with 1 Axes>"
      ]
     },
     "metadata": {},
     "output_type": "display_data"
    }
   ],
   "source": [
    "sns.boxplot(data=merged_train_static_cd_0_base_df, y=\"pmtscount_423L\", x=\"target\")"
   ]
  },
  {
   "cell_type": "code",
   "execution_count": 218,
   "id": "58332564-57ec-4bc4-bfbe-a9cba0013774",
   "metadata": {},
   "outputs": [
    {
     "data": {
      "text/plain": [
       "<Axes: xlabel='pmtscount_423L', ylabel='Proportion'>"
      ]
     },
     "execution_count": 218,
     "metadata": {},
     "output_type": "execute_result"
    },
    {
     "data": {
      "image/png": "[encoded data removed]",
      "text/plain": [
       "<Figure size 640x480 with 1 Axes>"
      ]
     },
     "metadata": {},
     "output_type": "display_data"
    }
   ],
   "source": [
    "sns.ecdfplot(data=merged_train_static_cd_0_base_df, x=\"pmtscount_423L\", hue=\"target\")"
   ]
  },
  {
   "cell_type": "markdown",
   "id": "dc452bf0-2d5e-4610-bc55-0fd5190f5b91",
   "metadata": {},
   "source": [
    "## 31. pmtssum_45A"
   ]
  },
  {
   "cell_type": "code",
   "execution_count": 219,
   "id": "169a0f55-fcb0-473f-a1e2-35c6e3c60d24",
   "metadata": {},
   "outputs": [
    {
     "data": {
      "text/plain": [
       "'Sum of tax deductions for the client.'"
      ]
     },
     "execution_count": 219,
     "metadata": {},
     "output_type": "execute_result"
    }
   ],
   "source": [
    "get_column_description(feature_df, \"pmtssum_45A\")"
   ]
  },
  {
   "cell_type": "code",
   "execution_count": 220,
   "id": "798185c3-7b5e-4745-9a3e-386d1002a779",
   "metadata": {},
   "outputs": [
    {
     "data": {
      "text/plain": [
       "pmtssum_45A\n",
       "True     0.624908\n",
       "False    0.375092\n",
       "Name: proportion, dtype: float64"
      ]
     },
     "execution_count": 220,
     "metadata": {},
     "output_type": "execute_result"
    }
   ],
   "source": [
    "merged_train_static_cd_0_base_df.pmtssum_45A.isnull().value_counts(normalize=True)"
   ]
  },
  {
   "cell_type": "code",
   "execution_count": 221,
   "id": "554b8a4b-1be7-47b2-b267-c0aa780b9151",
   "metadata": {},
   "outputs": [
    {
     "data": {
      "text/plain": [
       "<Axes: xlabel='target', ylabel='pmtssum_45A'>"
      ]
     },
     "execution_count": 221,
     "metadata": {},
     "output_type": "execute_result"
    },
    {
     "data": {
      "image/png": "[encoded data removed]",
      "text/plain": [
       "<Figure size 640x480 with 1 Axes>"
      ]
     },
     "metadata": {},
     "output_type": "display_data"
    }
   ],
   "source": [
    "sns.boxplot(data=merged_train_static_cd_0_base_df, y=\"pmtssum_45A\", x=\"target\")"
   ]
  },
  {
   "cell_type": "code",
   "execution_count": 222,
   "id": "2360dd5a-cde6-4b5f-afa9-a36f3f74358b",
   "metadata": {},
   "outputs": [
    {
     "data": {
      "text/plain": [
       "<Axes: xlabel='pmtssum_45A', ylabel='Proportion'>"
      ]
     },
     "execution_count": 222,
     "metadata": {},
     "output_type": "execute_result"
    },
    {
     "data": {
      "image/png": "[encoded data removed]",
      "text/plain": [
       "<Figure size 640x480 with 1 Axes>"
      ]
     },
     "metadata": {},
     "output_type": "display_data"
    }
   ],
   "source": [
    "sns.ecdfplot(data=merged_train_static_cd_0_base_df, x=\"pmtssum_45A\", hue=\"target\")"
   ]
  },
  {
   "cell_type": "markdown",
   "id": "df6da76d-1f00-47a4-b252-d6c53c87e4c5",
   "metadata": {},
   "source": [
    "## 32. requesttype_4525192L"
   ]
  },
  {
   "cell_type": "code",
   "execution_count": 223,
   "id": "1843b7ce-42cd-4494-9e09-761ad32442b8",
   "metadata": {},
   "outputs": [
    {
     "data": {
      "text/plain": [
       "'Tax authority request type.'"
      ]
     },
     "execution_count": 223,
     "metadata": {},
     "output_type": "execute_result"
    }
   ],
   "source": [
    "get_column_description(feature_df, \"requesttype_4525192L\")"
   ]
  },
  {
   "cell_type": "code",
   "execution_count": 224,
   "id": "274700ac-b31f-4e8c-ad1e-15ec73a54a3e",
   "metadata": {},
   "outputs": [
    {
     "data": {
      "text/plain": [
       "requesttype_4525192L\n",
       "True     0.558995\n",
       "False    0.441005\n",
       "Name: proportion, dtype: float64"
      ]
     },
     "execution_count": 224,
     "metadata": {},
     "output_type": "execute_result"
    }
   ],
   "source": [
    "merged_train_static_cd_0_base_df.requesttype_4525192L.isnull().value_counts(normalize=True)"
   ]
  },
  {
   "cell_type": "code",
   "execution_count": 225,
   "id": "d4382d9a-3dc4-4c67-bbdf-6628be664c5a",
   "metadata": {},
   "outputs": [
    {
     "data": {
      "text/plain": [
       "requesttype_4525192L\n",
       "DEDUCTION_6    0.817491\n",
       "PENSION_6      0.173850\n",
       "SOCIAL_6       0.008659\n",
       "Name: proportion, dtype: float64"
      ]
     },
     "execution_count": 225,
     "metadata": {},
     "output_type": "execute_result"
    }
   ],
   "source": [
    "merged_train_static_cd_0_base_df.requesttype_4525192L.value_counts(normalize=True)"
   ]
  },
  {
   "cell_type": "code",
   "execution_count": 226,
   "id": "04a87d2c-d965-4970-80a5-521b3915fb3c",
   "metadata": {},
   "outputs": [],
   "source": [
    "percentage_default_requesttype_4525192L_df = get_percent_of_column(merged_train_static_cd_0_base_df, \"requesttype_4525192L\", \"target\")"
   ]
  },
  {
   "cell_type": "code",
   "execution_count": 227,
   "id": "1084e8f1-0a93-4a59-98b3-e974fc45acfe",
   "metadata": {},
   "outputs": [
    {
     "name": "stderr",
     "output_type": "stream",
     "text": [
      "/var/folders/qr/cmfkzy495k7b3bn80b7ygs080000gn/T/ipykernel_17646/2166689233.py:2: UserWarning: Matplotlib is currently using module://matplotlib_inline.backend_inline, which is a non-GUI backend, so cannot show the figure.\n",
      "  bar_plot.show()\n"
     ]
    },
    {
     "data": {
      "image/png": "[encoded data removed]",
      "text/plain": [
       "<Figure size 800x500 with 1 Axes>"
      ]
     },
     "metadata": {},
     "output_type": "display_data"
    }
   ],
   "source": [
    "bar_plot = plot_barplot(percentage_default_requesttype_4525192L_df, \"percentage_default\", \"requesttype_4525192L\")\n",
    "bar_plot.show()"
   ]
  },
  {
   "cell_type": "code",
   "execution_count": 228,
   "id": "2790bce1-afee-4706-8aa4-f09fb1ae3a78",
   "metadata": {},
   "outputs": [
    {
     "data": {
      "text/html": [
       "<div>\n",
       "<style scoped>\n",
       "    .dataframe tbody tr th:only-of-type {\n",
       "        vertical-align: middle;\n",
       "    }\n",
       "\n",
       "    .dataframe tbody tr th {\n",
       "        vertical-align: top;\n",
       "    }\n",
       "\n",
       "    .dataframe thead th {\n",
       "        text-align: right;\n",
       "    }\n",
       "</style>\n",
       "<table border=\"1\" class=\"dataframe\">\n",
       "  <thead>\n",
       "    <tr style=\"text-align: right;\">\n",
       "      <th></th>\n",
       "      <th>requesttype_4525192L</th>\n",
       "      <th>target</th>\n",
       "      <th>total_rows</th>\n",
       "      <th>percentage_default</th>\n",
       "    </tr>\n",
       "  </thead>\n",
       "  <tbody>\n",
       "    <tr>\n",
       "      <th>0</th>\n",
       "      <td>DEDUCTION_6</td>\n",
       "      <td>22605</td>\n",
       "      <td>550387</td>\n",
       "      <td>4.107110</td>\n",
       "    </tr>\n",
       "    <tr>\n",
       "      <th>1</th>\n",
       "      <td>PENSION_6</td>\n",
       "      <td>2933</td>\n",
       "      <td>117047</td>\n",
       "      <td>2.505831</td>\n",
       "    </tr>\n",
       "    <tr>\n",
       "      <th>2</th>\n",
       "      <td>SOCIAL_6</td>\n",
       "      <td>228</td>\n",
       "      <td>5830</td>\n",
       "      <td>3.910806</td>\n",
       "    </tr>\n",
       "  </tbody>\n",
       "</table>\n",
       "</div>"
      ],
      "text/plain": [
       "  requesttype_4525192L  target  total_rows  percentage_default\n",
       "0          DEDUCTION_6   22605      550387            4.107110\n",
       "1            PENSION_6    2933      117047            2.505831\n",
       "2             SOCIAL_6     228        5830            3.910806"
      ]
     },
     "execution_count": 228,
     "metadata": {},
     "output_type": "execute_result"
    }
   ],
   "source": [
    "percentage_default_requesttype_4525192L_df"
   ]
  },
  {
   "cell_type": "markdown",
   "id": "15c53e69-93fb-4588-9944-b50562185953",
   "metadata": {},
   "source": [
    "## 33. riskassesment_302T"
   ]
  },
  {
   "cell_type": "code",
   "execution_count": 231,
   "id": "5b7815ff-ba79-42d5-be98-65eb83ca1f01",
   "metadata": {},
   "outputs": [
    {
     "data": {
      "text/plain": [
       "\"Estimate of client's creditworthiness.\""
      ]
     },
     "execution_count": 231,
     "metadata": {},
     "output_type": "execute_result"
    }
   ],
   "source": [
    "get_column_description(feature_df, \"riskassesment_940T\")"
   ]
  },
  {
   "cell_type": "code",
   "execution_count": null,
   "id": "9f18403c-f578-4514-ab9a-4d778524f59a",
   "metadata": {},
   "outputs": [],
   "source": []
  },
  {
   "cell_type": "code",
   "execution_count": null,
   "id": "3c6d1e4c-630e-48b6-9b57-0267c756dc70",
   "metadata": {},
   "outputs": [],
   "source": []
  },
  {
   "cell_type": "code",
   "execution_count": null,
   "id": "dbd40193-df0f-4893-b356-fddafb876ee9",
   "metadata": {},
   "outputs": [],
   "source": []
  },
  {
   "cell_type": "code",
   "execution_count": null,
   "id": "6947ba9c-3ff8-444f-8bd7-e523a4ed500f",
   "metadata": {},
   "outputs": [],
   "source": []
  },
  {
   "cell_type": "code",
   "execution_count": null,
   "id": "f298a4f8-b20c-46bc-a73e-9ba9933d76d8",
   "metadata": {},
   "outputs": [],
   "source": []
  }
 ],
 "metadata": {
  "kernelspec": {
   "display_name": "personal_env",
   "language": "python",
   "name": "personal_env"
  },
  "language_info": {
   "codemirror_mode": {
    "name": "ipython",
    "version": 3
   },
   "file_extension": ".py",
   "mimetype": "text/x-python",
   "name": "python",
   "nbconvert_exporter": "python",
   "pygments_lexer": "ipython3",
   "version": "3.9.17"
  }
 },
 "nbformat": 4,
 "nbformat_minor": 5
}
