{
 "cells": [
  {
   "cell_type": "code",
   "execution_count": 1,
   "id": "3bb67328-30c2-466e-a30b-c827e91b08f2",
   "metadata": {},
   "outputs": [],
   "source": [
    "%load_ext autoreload\n",
    "%autoreload 2"
   ]
  },
  {
   "cell_type": "code",
   "execution_count": 2,
   "id": "3fb4977d-dffe-408c-bb3e-96f5177b7237",
   "metadata": {},
   "outputs": [
    {
     "data": {
      "text/html": [
       "<style>:root { --jp-notebook-max-width: 100% !important; }</style>"
      ],
      "text/plain": [
       "<IPython.core.display.HTML object>"
      ]
     },
     "metadata": {},
     "output_type": "display_data"
    }
   ],
   "source": [
    "from IPython.display import display, HTML\n",
    "display(HTML(\"<style>:root { --jp-notebook-max-width: 100% !important; }</style>\"))"
   ]
  },
  {
   "cell_type": "code",
   "execution_count": 3,
   "id": "854f3c02-fba3-4eca-aba2-28475414f66d",
   "metadata": {},
   "outputs": [],
   "source": [
    "import pandas as pd\n",
    "import numpy as np"
   ]
  },
  {
   "cell_type": "code",
   "execution_count": 4,
   "id": "fc372d5e-669b-491e-8b06-bb807ef02c0b",
   "metadata": {},
   "outputs": [],
   "source": [
    "import sys\n",
    "import os\n",
    "from collections import defaultdict, Counter"
   ]
  },
  {
   "cell_type": "code",
   "execution_count": 5,
   "id": "76c511bf-2625-4232-9581-893b52855dd9",
   "metadata": {},
   "outputs": [],
   "source": [
    "import math"
   ]
  },
  {
   "cell_type": "code",
   "execution_count": 6,
   "id": "b4755f23-ee07-4f30-bb55-9a6950683133",
   "metadata": {},
   "outputs": [],
   "source": [
    "import seaborn as sns\n",
    "import matplotlib.pyplot as plt "
   ]
  },
  {
   "cell_type": "code",
   "execution_count": 7,
   "id": "ee007988-9b6c-4f25-8b2e-ad78276e7b6d",
   "metadata": {},
   "outputs": [],
   "source": [
    "import random"
   ]
  },
  {
   "cell_type": "markdown",
   "id": "13c47012-4b97-4417-be24-1b4972b0b3c0",
   "metadata": {},
   "source": [
    "## Constants"
   ]
  },
  {
   "cell_type": "code",
   "execution_count": 8,
   "id": "845a40a8-3299-4e6f-9bb6-9b82f1a302a2",
   "metadata": {},
   "outputs": [],
   "source": [
    "data_path = \"/Users/hardiksahi/Personal/MachineLearning/kaggle/home-credit-risk-model-stability/data/01_raw/home-credit-credit-risk-model-stability\""
   ]
  },
  {
   "cell_type": "markdown",
   "id": "c4de153a-7b7f-45a7-af4c-b99e6f3381e3",
   "metadata": {},
   "source": [
    "## Get paths of files"
   ]
  },
  {
   "cell_type": "code",
   "execution_count": 9,
   "id": "38dc336c-2c76-4490-8443-3cec7e4f758d",
   "metadata": {},
   "outputs": [],
   "source": [
    "base_file_dict = defaultdict(list)\n",
    "credit_bureau_a_1_file_dict = defaultdict(list)\n",
    "for dirname, _, filenames in os.walk(data_path):\n",
    "    for filename in filenames:\n",
    "        file_path = os.path.join(dirname, filename)\n",
    "        if file_path.endswith('parquet'):\n",
    "            file_type = 'train' if 'train' in file_path else 'test'\n",
    "            if 'base' in file_path:\n",
    "                base_file_dict[file_type].append(file_path)\n",
    "            if 'credit_bureau_a_1' in file_path:\n",
    "                credit_bureau_a_1_file_dict[file_type].append(file_path)"
   ]
  },
  {
   "cell_type": "code",
   "execution_count": 10,
   "id": "00329a12-be0f-4072-9564-beb8cd6962b6",
   "metadata": {},
   "outputs": [
    {
     "data": {
      "text/plain": [
       "['/Users/hardiksahi/Personal/MachineLearning/kaggle/home-credit-risk-model-stability/data/01_raw/home-credit-credit-risk-model-stability/parquet_files/train/train_credit_bureau_a_1_0.parquet',\n",
       " '/Users/hardiksahi/Personal/MachineLearning/kaggle/home-credit-risk-model-stability/data/01_raw/home-credit-credit-risk-model-stability/parquet_files/train/train_credit_bureau_a_1_1.parquet',\n",
       " '/Users/hardiksahi/Personal/MachineLearning/kaggle/home-credit-risk-model-stability/data/01_raw/home-credit-credit-risk-model-stability/parquet_files/train/train_credit_bureau_a_1_3.parquet',\n",
       " '/Users/hardiksahi/Personal/MachineLearning/kaggle/home-credit-risk-model-stability/data/01_raw/home-credit-credit-risk-model-stability/parquet_files/train/train_credit_bureau_a_1_2.parquet']"
      ]
     },
     "execution_count": 10,
     "metadata": {},
     "output_type": "execute_result"
    }
   ],
   "source": [
    "credit_bureau_a_1_file_dict.get(\"train\")"
   ]
  },
  {
   "cell_type": "markdown",
   "id": "4c39bc27-08de-4139-b317-f011454495cb",
   "metadata": {},
   "source": [
    "## Functions"
   ]
  },
  {
   "cell_type": "code",
   "execution_count": 11,
   "id": "09b11097-6170-4780-be86-d0a97d98c39f",
   "metadata": {},
   "outputs": [],
   "source": [
    "def get_column_description(feature_def_df, column_name):\n",
    "    return feature_def_df[feature_def_df.Variable == column_name]['Description'].iloc[0]"
   ]
  },
  {
   "cell_type": "code",
   "execution_count": 12,
   "id": "00acefb2-0f64-452f-9dbd-967b04505407",
   "metadata": {},
   "outputs": [],
   "source": [
    "def plot_scatterplot(df, x_col_name, y_col_name, show_x_y_line=False):\n",
    "    assert x_col_name in df.columns, f\"Ensure that {x_col_name} is in the df\"\n",
    "    assert y_col_name in df.columns, f\"Ensure that {y_col_name} is in the df\"\n",
    "    \n",
    "    fig, axs = plt.subplots()\n",
    "    sns.scatterplot(data=df, x=df[x_col_name], y=df[y_col_name], ax=axs)\n",
    "    \n",
    "    if show_x_y_line:\n",
    "        df[x_col_name] = df[x_col_name].replace([np.inf, -np.inf], np.nan)\n",
    "        df[y_col_name] = df[y_col_name].replace([np.inf, -np.inf], np.nan)\n",
    "        not_null_x_filter = ~df[x_col_name].isnull()\n",
    "        not_null_y_filter = ~df[y_col_name].isnull()\n",
    "        not_null_filter = not_null_x_filter & not_null_y_filter\n",
    "        filtered_df = df[not_null_filter]\n",
    "        x_values_series = filtered_df[x_col_name]\n",
    "        y_values_series = filtered_df[y_col_name]\n",
    "        x0, x1 = min(x_values_series), max(x_values_series)\n",
    "        y0, y1 = min(y_values_series), max(y_values_series)\n",
    "        #line_values = [i for i in np.arange(min(x0, y0), max(x1, y1), 0.1)]\n",
    "        lims = [min(x0, y0), max(x1, y1)]\n",
    "        print(f\"lims: {lims}\")\n",
    "        plt.plot(lims, lims)\n",
    "    return fig"
   ]
  },
  {
   "cell_type": "code",
   "execution_count": 13,
   "id": "f652e2c5-48f2-4ebf-8b48-4c2baa5e3b81",
   "metadata": {},
   "outputs": [],
   "source": [
    "def get_percent_of_column(df, groupby_column, target_column):\n",
    "    target_df = df.groupby(by=[groupby_column]).agg({target_column:\"sum\"}).reset_index()\n",
    "    all_rows_df = df.groupby(by=[groupby_column]).size().reset_index().rename({0:\"total_rows\"}, axis=1)\n",
    "    merged_df = target_df.merge(all_rows_df, left_on=[groupby_column], right_on=[groupby_column], how=\"left\")\n",
    "    merged_df[\"percentage_default\"] = 100*merged_df[\"target\"]/merged_df[\"total_rows\"]\n",
    "    merged_df[groupby_column] = merged_df[groupby_column].astype(str)\n",
    "    return merged_df"
   ]
  },
  {
   "cell_type": "code",
   "execution_count": 14,
   "id": "78e46fba-b469-4755-b8b7-c68161d5a306",
   "metadata": {},
   "outputs": [],
   "source": [
    "def plot_barplot(df, percent_column, category_column):\n",
    "    fig, ax = plt.subplots(1,1,figsize=(8,5))\n",
    "    sns.barplot(ax=ax, data=df, y=category_column, x=percent_column, order=df.sort_values(by=[percent_column], ascending=False)[category_column].values)\n",
    "    return fig"
   ]
  },
  {
   "cell_type": "code",
   "execution_count": 15,
   "id": "99e43f9c-d7f1-4c39-831c-fdddae263ea2",
   "metadata": {},
   "outputs": [],
   "source": [
    "def get_relevant_indices(series):\n",
    "    percentile_25 = series.quantile(0.25)\n",
    "    percentile_75 = series.quantile(0.75)\n",
    "    iqr = percentile_75-percentile_25\n",
    "    upper_limit = percentile_75 + 1.5*iqr\n",
    "    lower_limit = percentile_25 - 1.5*iqr\n",
    "\n",
    "    keep_indices = series[(series>=lower_limit) & (series<=upper_limit)].index\n",
    "    return keep_indices "
   ]
  },
  {
   "cell_type": "code",
   "execution_count": 16,
   "id": "dba9ce7e-2fba-4743-8632-8896f0030618",
   "metadata": {},
   "outputs": [],
   "source": [
    "def most_common_value(series,ignore_category=None):\n",
    "    counter_dict = Counter(series)\n",
    "    most_common_category_list = counter_dict.most_common()\n",
    "    most_common_category_list_length = len(most_common_category_list)\n",
    "    if (most_common_category_list_length == 0) or (most_common_category_list_length == 1):\n",
    "        if most_common_category_list[0][0] == ignore_category:\n",
    "            return np.nan\n",
    "        else:\n",
    "            return most_common_category_list[0][0]\n",
    "    else:\n",
    "        #print(most_common_category_list_length)\n",
    "        most_common_category = most_common_category_list[0][0]\n",
    "        second_most_common_category = most_common_category_list[1][0]\n",
    "\n",
    "        if most_common_category == ignore_category:\n",
    "            return second_most_common_category\n",
    "        else:\n",
    "            return most_common_category"
   ]
  },
  {
   "cell_type": "markdown",
   "id": "42c9b613-f496-4e80-968b-8b03a19bc5b2",
   "metadata": {},
   "source": [
    "## Read datasets"
   ]
  },
  {
   "cell_type": "code",
   "execution_count": 17,
   "id": "284e3f94-6f38-4528-a2f3-55385fc43576",
   "metadata": {},
   "outputs": [
    {
     "name": "stdout",
     "output_type": "stream",
     "text": [
      "Shape of feature_df: (465, 2)\n"
     ]
    }
   ],
   "source": [
    "feature_df = pd.read_csv(f\"{data_path}/feature_definitions.csv\")\n",
    "print(f\"Shape of feature_df: {feature_df.shape}\")"
   ]
  },
  {
   "cell_type": "code",
   "execution_count": 18,
   "id": "e013e2a5-5d1e-4104-835d-b1d4ab8bb59f",
   "metadata": {},
   "outputs": [
    {
     "name": "stdout",
     "output_type": "stream",
     "text": [
      "Shape of train_base_df: (1526659, 5)\n"
     ]
    }
   ],
   "source": [
    "train_base_df = pd.concat([pd.read_parquet(file_path) for file_path in base_file_dict['train']], axis=0)\n",
    "print(f\"Shape of train_base_df: {train_base_df.shape}\")"
   ]
  },
  {
   "cell_type": "markdown",
   "id": "4563d03c-03bc-4ee9-9af6-2e05c22814c7",
   "metadata": {},
   "source": [
    "## Properties: depth=1, external data source"
   ]
  },
  {
   "cell_type": "code",
   "execution_count": 19,
   "id": "7cbddef1-b6b6-451c-8cd1-5210e66b102e",
   "metadata": {},
   "outputs": [
    {
     "name": "stdout",
     "output_type": "stream",
     "text": [
      "Shape of credit_bureau_a_1_df: (15940537, 79)\n"
     ]
    }
   ],
   "source": [
    "credit_bureau_a_1_df = pd.concat([pd.read_parquet(file_path) for file_path in credit_bureau_a_1_file_dict['train']], axis=0).reset_index(drop=True)\n",
    "print(f\"Shape of credit_bureau_a_1_df: {credit_bureau_a_1_df.shape}\")"
   ]
  },
  {
   "cell_type": "code",
   "execution_count": 20,
   "id": "7c7c43cb-9143-41cd-a88f-9b1d152e57ab",
   "metadata": {},
   "outputs": [
    {
     "data": {
      "text/plain": [
       "Index(['case_id', 'annualeffectiverate_199L', 'annualeffectiverate_63L',\n",
       "       'classificationofcontr_13M', 'classificationofcontr_400M',\n",
       "       'contractst_545M', 'contractst_964M', 'contractsum_5085717L',\n",
       "       'credlmt_230A', 'credlmt_935A', 'dateofcredend_289D',\n",
       "       'dateofcredend_353D', 'dateofcredstart_181D', 'dateofcredstart_739D',\n",
       "       'dateofrealrepmt_138D', 'debtoutstand_525A', 'debtoverdue_47A',\n",
       "       'description_351M', 'dpdmax_139P', 'dpdmax_757P',\n",
       "       'dpdmaxdatemonth_442T', 'dpdmaxdatemonth_89T', 'dpdmaxdateyear_596T',\n",
       "       'dpdmaxdateyear_896T', 'financialinstitution_382M',\n",
       "       'financialinstitution_591M', 'instlamount_768A', 'instlamount_852A',\n",
       "       'interestrate_508L', 'lastupdate_1112D', 'lastupdate_388D',\n",
       "       'monthlyinstlamount_332A', 'monthlyinstlamount_674A',\n",
       "       'nominalrate_281L', 'nominalrate_498L', 'num_group1',\n",
       "       'numberofcontrsvalue_258L', 'numberofcontrsvalue_358L',\n",
       "       'numberofinstls_229L', 'numberofinstls_320L',\n",
       "       'numberofoutstandinstls_520L', 'numberofoutstandinstls_59L',\n",
       "       'numberofoverdueinstlmax_1039L', 'numberofoverdueinstlmax_1151L',\n",
       "       'numberofoverdueinstlmaxdat_148D', 'numberofoverdueinstlmaxdat_641D',\n",
       "       'numberofoverdueinstls_725L', 'numberofoverdueinstls_834L',\n",
       "       'outstandingamount_354A', 'outstandingamount_362A', 'overdueamount_31A',\n",
       "       'overdueamount_659A', 'overdueamountmax2_14A', 'overdueamountmax2_398A',\n",
       "       'overdueamountmax2date_1002D', 'overdueamountmax2date_1142D',\n",
       "       'overdueamountmax_155A', 'overdueamountmax_35A',\n",
       "       'overdueamountmaxdatemonth_284T', 'overdueamountmaxdatemonth_365T',\n",
       "       'overdueamountmaxdateyear_2T', 'overdueamountmaxdateyear_994T',\n",
       "       'periodicityofpmts_1102L', 'periodicityofpmts_837L',\n",
       "       'prolongationcount_1120L', 'prolongationcount_599L',\n",
       "       'purposeofcred_426M', 'purposeofcred_874M', 'refreshdate_3813885D',\n",
       "       'residualamount_488A', 'residualamount_856A', 'subjectrole_182M',\n",
       "       'subjectrole_93M', 'totalamount_6A', 'totalamount_996A',\n",
       "       'totaldebtoverduevalue_178A', 'totaldebtoverduevalue_718A',\n",
       "       'totaloutstanddebtvalue_39A', 'totaloutstanddebtvalue_668A'],\n",
       "      dtype='object')"
      ]
     },
     "execution_count": 20,
     "metadata": {},
     "output_type": "execute_result"
    }
   ],
   "source": [
    "credit_bureau_a_1_df.columns.unique()"
   ]
  },
  {
   "cell_type": "code",
   "execution_count": 21,
   "id": "294efaae-516f-46e7-9a9c-5a947f10bd36",
   "metadata": {},
   "outputs": [],
   "source": [
    "train_base_df[\"date_decision\"] = pd.to_datetime(train_base_df[\"date_decision\"])\n",
    "credit_bureau_a_1_df[\"dateofcredend_289D\"] = pd.to_datetime(credit_bureau_a_1_df[\"dateofcredend_289D\"])\n",
    "credit_bureau_a_1_df[\"dateofcredend_353D\"] = pd.to_datetime(credit_bureau_a_1_df[\"dateofcredend_353D\"])\n",
    "credit_bureau_a_1_df[\"dateofcredstart_181D\"] = pd.to_datetime(credit_bureau_a_1_df[\"dateofcredstart_181D\"])\n",
    "credit_bureau_a_1_df[\"dateofcredstart_739D\"] = pd.to_datetime(credit_bureau_a_1_df[\"dateofcredstart_739D\"])\n",
    "credit_bureau_a_1_df[\"dateofrealrepmt_138D\"] = pd.to_datetime(credit_bureau_a_1_df[\"dateofrealrepmt_138D\"])\n",
    "credit_bureau_a_1_df[\"refreshdate_3813885D\"] = pd.to_datetime(credit_bureau_a_1_df[\"refreshdate_3813885D\"])\n",
    "credit_bureau_a_1_df[\"dateofrealrepmt_138D\"] = pd.to_datetime(credit_bureau_a_1_df[\"dateofrealrepmt_138D\"])"
   ]
  },
  {
   "cell_type": "code",
   "execution_count": 136,
   "id": "e5a35e73-7fc8-43ab-b064-e55f495cb259",
   "metadata": {},
   "outputs": [],
   "source": [
    "date_column_list = [\"dateofcredend_289D\", \"dateofcredend_353D\", \"dateofcredstart_181D\", \"dateofcredstart_739D\", \"dateofrealrepmt_138D\", \"refreshdate_3813885D\", \"dateofrealrepmt_138D\"]\n",
    "for col in date_column_list:\n",
    "    credit_bureau_a_1_df.loc[credit_bureau_a_1_df[col].dt.year.isin([1900, 2098]), col] = np.datetime64('NaT')"
   ]
  },
  {
   "cell_type": "code",
   "execution_count": 137,
   "id": "a5cb0e15-e23a-4937-a818-22bcfb83df04",
   "metadata": {},
   "outputs": [
    {
     "data": {
      "text/html": [
       "<div>\n",
       "<style scoped>\n",
       "    .dataframe tbody tr th:only-of-type {\n",
       "        vertical-align: middle;\n",
       "    }\n",
       "\n",
       "    .dataframe tbody tr th {\n",
       "        vertical-align: top;\n",
       "    }\n",
       "\n",
       "    .dataframe thead th {\n",
       "        text-align: right;\n",
       "    }\n",
       "</style>\n",
       "<table border=\"1\" class=\"dataframe\">\n",
       "  <thead>\n",
       "    <tr style=\"text-align: right;\">\n",
       "      <th></th>\n",
       "      <th>case_id</th>\n",
       "      <th>num_group1</th>\n",
       "      <th>dateofcredend_289D</th>\n",
       "      <th>dateofcredend_353D</th>\n",
       "      <th>dateofcredstart_181D</th>\n",
       "      <th>dateofcredstart_739D</th>\n",
       "      <th>dateofrealrepmt_138D</th>\n",
       "      <th>refreshdate_3813885D</th>\n",
       "    </tr>\n",
       "  </thead>\n",
       "  <tbody>\n",
       "    <tr>\n",
       "      <th>11747397</th>\n",
       "      <td>1929311</td>\n",
       "      <td>0</td>\n",
       "      <td>2021-05-24</td>\n",
       "      <td>2018-05-04</td>\n",
       "      <td>2017-04-14</td>\n",
       "      <td>2013-05-24</td>\n",
       "      <td>2018-05-03</td>\n",
       "      <td>2020-09-29</td>\n",
       "    </tr>\n",
       "    <tr>\n",
       "      <th>11747398</th>\n",
       "      <td>1929311</td>\n",
       "      <td>1</td>\n",
       "      <td>NaT</td>\n",
       "      <td>2019-09-03</td>\n",
       "      <td>2019-06-03</td>\n",
       "      <td>NaT</td>\n",
       "      <td>2019-09-03</td>\n",
       "      <td>2020-09-29</td>\n",
       "    </tr>\n",
       "    <tr>\n",
       "      <th>11747399</th>\n",
       "      <td>1929311</td>\n",
       "      <td>2</td>\n",
       "      <td>NaT</td>\n",
       "      <td>NaT</td>\n",
       "      <td>NaT</td>\n",
       "      <td>NaT</td>\n",
       "      <td>NaT</td>\n",
       "      <td>2020-09-29</td>\n",
       "    </tr>\n",
       "    <tr>\n",
       "      <th>11747400</th>\n",
       "      <td>1929311</td>\n",
       "      <td>3</td>\n",
       "      <td>NaT</td>\n",
       "      <td>NaT</td>\n",
       "      <td>NaT</td>\n",
       "      <td>NaT</td>\n",
       "      <td>NaT</td>\n",
       "      <td>NaT</td>\n",
       "    </tr>\n",
       "    <tr>\n",
       "      <th>11747401</th>\n",
       "      <td>1929311</td>\n",
       "      <td>4</td>\n",
       "      <td>NaT</td>\n",
       "      <td>NaT</td>\n",
       "      <td>NaT</td>\n",
       "      <td>NaT</td>\n",
       "      <td>NaT</td>\n",
       "      <td>2019-01-03</td>\n",
       "    </tr>\n",
       "    <tr>\n",
       "      <th>11747402</th>\n",
       "      <td>1929311</td>\n",
       "      <td>5</td>\n",
       "      <td>NaT</td>\n",
       "      <td>NaT</td>\n",
       "      <td>NaT</td>\n",
       "      <td>NaT</td>\n",
       "      <td>NaT</td>\n",
       "      <td>2020-09-24</td>\n",
       "    </tr>\n",
       "    <tr>\n",
       "      <th>11747403</th>\n",
       "      <td>1929311</td>\n",
       "      <td>6</td>\n",
       "      <td>NaT</td>\n",
       "      <td>NaT</td>\n",
       "      <td>NaT</td>\n",
       "      <td>NaT</td>\n",
       "      <td>NaT</td>\n",
       "      <td>2019-11-03</td>\n",
       "    </tr>\n",
       "    <tr>\n",
       "      <th>11747404</th>\n",
       "      <td>1929311</td>\n",
       "      <td>7</td>\n",
       "      <td>NaT</td>\n",
       "      <td>NaT</td>\n",
       "      <td>NaT</td>\n",
       "      <td>NaT</td>\n",
       "      <td>NaT</td>\n",
       "      <td>2020-04-16</td>\n",
       "    </tr>\n",
       "    <tr>\n",
       "      <th>11747405</th>\n",
       "      <td>1929311</td>\n",
       "      <td>8</td>\n",
       "      <td>NaT</td>\n",
       "      <td>NaT</td>\n",
       "      <td>NaT</td>\n",
       "      <td>NaT</td>\n",
       "      <td>NaT</td>\n",
       "      <td>2020-08-17</td>\n",
       "    </tr>\n",
       "  </tbody>\n",
       "</table>\n",
       "</div>"
      ],
      "text/plain": [
       "          case_id  num_group1 dateofcredend_289D dateofcredend_353D  \\\n",
       "11747397  1929311           0         2021-05-24         2018-05-04   \n",
       "11747398  1929311           1                NaT         2019-09-03   \n",
       "11747399  1929311           2                NaT                NaT   \n",
       "11747400  1929311           3                NaT                NaT   \n",
       "11747401  1929311           4                NaT                NaT   \n",
       "11747402  1929311           5                NaT                NaT   \n",
       "11747403  1929311           6                NaT                NaT   \n",
       "11747404  1929311           7                NaT                NaT   \n",
       "11747405  1929311           8                NaT                NaT   \n",
       "\n",
       "         dateofcredstart_181D dateofcredstart_739D dateofrealrepmt_138D  \\\n",
       "11747397           2017-04-14           2013-05-24           2018-05-03   \n",
       "11747398           2019-06-03                  NaT           2019-09-03   \n",
       "11747399                  NaT                  NaT                  NaT   \n",
       "11747400                  NaT                  NaT                  NaT   \n",
       "11747401                  NaT                  NaT                  NaT   \n",
       "11747402                  NaT                  NaT                  NaT   \n",
       "11747403                  NaT                  NaT                  NaT   \n",
       "11747404                  NaT                  NaT                  NaT   \n",
       "11747405                  NaT                  NaT                  NaT   \n",
       "\n",
       "         refreshdate_3813885D  \n",
       "11747397           2020-09-29  \n",
       "11747398           2020-09-29  \n",
       "11747399           2020-09-29  \n",
       "11747400                  NaT  \n",
       "11747401           2019-01-03  \n",
       "11747402           2020-09-24  \n",
       "11747403           2019-11-03  \n",
       "11747404           2020-04-16  \n",
       "11747405           2020-08-17  "
      ]
     },
     "execution_count": 137,
     "metadata": {},
     "output_type": "execute_result"
    }
   ],
   "source": [
    "credit_bureau_a_1_df[credit_bureau_a_1_df.case_id == random.choice(credit_bureau_a_1_df.case_id.unique())].sort_values(by=[\"num_group1\"])[[\"case_id\", \"num_group1\", \"dateofcredend_289D\", \"dateofcredend_353D\", \"dateofcredstart_181D\", \"dateofcredstart_739D\", \"dateofrealrepmt_138D\", \"refreshdate_3813885D\"]]"
   ]
  },
  {
   "cell_type": "markdown",
   "id": "9a63c48a-ba8c-4dec-ae48-a440a11b9086",
   "metadata": {},
   "source": [
    "## This means that there are multiple rows for each case_id indexed by num_group1"
   ]
  },
  {
   "cell_type": "code",
   "execution_count": 138,
   "id": "f763aa57-a789-4913-9bb0-254a325f34ba",
   "metadata": {},
   "outputs": [],
   "source": [
    "unique_num_group_case_id_df = credit_bureau_a_1_df.groupby(by=[\"case_id\"]).agg({\"num_group1\": \"nunique\"}).reset_index().rename({\"num_group1\": \"generated_count_of_credit_information_by_a\"}, axis=1)"
   ]
  },
  {
   "cell_type": "code",
   "execution_count": 139,
   "id": "8d6ceb15-f547-4656-9745-211f180efea7",
   "metadata": {},
   "outputs": [
    {
     "data": {
      "text/html": [
       "<div>\n",
       "<style scoped>\n",
       "    .dataframe tbody tr th:only-of-type {\n",
       "        vertical-align: middle;\n",
       "    }\n",
       "\n",
       "    .dataframe tbody tr th {\n",
       "        vertical-align: top;\n",
       "    }\n",
       "\n",
       "    .dataframe thead th {\n",
       "        text-align: right;\n",
       "    }\n",
       "</style>\n",
       "<table border=\"1\" class=\"dataframe\">\n",
       "  <thead>\n",
       "    <tr style=\"text-align: right;\">\n",
       "      <th></th>\n",
       "      <th>case_id</th>\n",
       "      <th>generated_count_of_credit_information_by_a</th>\n",
       "    </tr>\n",
       "  </thead>\n",
       "  <tbody>\n",
       "    <tr>\n",
       "      <th>0</th>\n",
       "      <td>388</td>\n",
       "      <td>11</td>\n",
       "    </tr>\n",
       "    <tr>\n",
       "      <th>1202898</th>\n",
       "      <td>1923877</td>\n",
       "      <td>11</td>\n",
       "    </tr>\n",
       "    <tr>\n",
       "      <th>584098</th>\n",
       "      <td>1292778</td>\n",
       "      <td>11</td>\n",
       "    </tr>\n",
       "    <tr>\n",
       "      <th>584097</th>\n",
       "      <td>1292777</td>\n",
       "      <td>11</td>\n",
       "    </tr>\n",
       "    <tr>\n",
       "      <th>1202900</th>\n",
       "      <td>1923879</td>\n",
       "      <td>11</td>\n",
       "    </tr>\n",
       "  </tbody>\n",
       "</table>\n",
       "</div>"
      ],
      "text/plain": [
       "         case_id  generated_count_of_credit_information_by_a\n",
       "0            388                                          11\n",
       "1202898  1923877                                          11\n",
       "584098   1292778                                          11\n",
       "584097   1292777                                          11\n",
       "1202900  1923879                                          11"
      ]
     },
     "execution_count": 139,
     "metadata": {},
     "output_type": "execute_result"
    }
   ],
   "source": [
    "unique_num_group_case_id_df[unique_num_group_case_id_df.generated_count_of_credit_information_by_a>10].sort_values(by=[\"generated_count_of_credit_information_by_a\"]).head(5)"
   ]
  },
  {
   "cell_type": "code",
   "execution_count": 140,
   "id": "435dc70d-9744-4d1b-871e-b71289bc6d54",
   "metadata": {},
   "outputs": [
    {
     "data": {
      "text/plain": [
       "<Axes: ylabel='generated_count_of_credit_information_by_a'>"
      ]
     },
     "execution_count": 140,
     "metadata": {},
     "output_type": "execute_result"
    },
    {
     "data": {
      "image/png": "[encoded data removed]",
      "text/plain": [
       "<Figure size 640x480 with 1 Axes>"
      ]
     },
     "metadata": {},
     "output_type": "display_data"
    }
   ],
   "source": [
    "sns.boxplot(data=unique_num_group_case_id_df, y=\"generated_count_of_credit_information_by_a\")"
   ]
  },
  {
   "cell_type": "code",
   "execution_count": 141,
   "id": "9bf520b5-7fb5-47cd-ba5d-107bd3227ef0",
   "metadata": {},
   "outputs": [
    {
     "data": {
      "text/plain": [
       "count    1.386273e+06\n",
       "mean     1.149884e+01\n",
       "std      4.969215e+00\n",
       "min      1.000000e+00\n",
       "25%      9.000000e+00\n",
       "50%      1.000000e+01\n",
       "75%      1.100000e+01\n",
       "max      5.290000e+02\n",
       "Name: generated_count_of_credit_information_by_a, dtype: float64"
      ]
     },
     "execution_count": 141,
     "metadata": {},
     "output_type": "execute_result"
    }
   ],
   "source": [
    "unique_num_group_case_id_df.generated_count_of_credit_information_by_a.describe()"
   ]
  },
  {
   "cell_type": "markdown",
   "id": "9e506dd3-d087-43c7-a0a7-77224084df8e",
   "metadata": {},
   "source": [
    "## Count of credit records by provider a varies from 1 to 529"
   ]
  },
  {
   "cell_type": "markdown",
   "id": "33d34470-4c5a-45be-849b-20da4c61338a",
   "metadata": {},
   "source": [
    "## 1. dateofcredstart_181D and dateofcredstart_739D"
   ]
  },
  {
   "cell_type": "code",
   "execution_count": 142,
   "id": "6f6ecc90-2a59-4afa-89a6-f69520edf3e5",
   "metadata": {},
   "outputs": [
    {
     "data": {
      "text/plain": [
       "'Date when the credit contract was closed.'"
      ]
     },
     "execution_count": 142,
     "metadata": {},
     "output_type": "execute_result"
    }
   ],
   "source": [
    "get_column_description(feature_df, \"dateofcredstart_181D\")"
   ]
  },
  {
   "cell_type": "code",
   "execution_count": 143,
   "id": "cb0e3dd8-e546-4089-af58-7abe898b11fa",
   "metadata": {},
   "outputs": [
    {
     "data": {
      "text/plain": [
       "'Start date of a closed credit contract.'"
      ]
     },
     "execution_count": 143,
     "metadata": {},
     "output_type": "execute_result"
    }
   ],
   "source": [
    "get_column_description(feature_df, \"dateofcredstart_739D\")"
   ]
  },
  {
   "cell_type": "code",
   "execution_count": 144,
   "id": "e4bf879f-006a-4d76-b2f4-d9ef0e1d853a",
   "metadata": {},
   "outputs": [
    {
     "data": {
      "text/html": [
       "<div>\n",
       "<style scoped>\n",
       "    .dataframe tbody tr th:only-of-type {\n",
       "        vertical-align: middle;\n",
       "    }\n",
       "\n",
       "    .dataframe tbody tr th {\n",
       "        vertical-align: top;\n",
       "    }\n",
       "\n",
       "    .dataframe thead th {\n",
       "        text-align: right;\n",
       "    }\n",
       "</style>\n",
       "<table border=\"1\" class=\"dataframe\">\n",
       "  <thead>\n",
       "    <tr style=\"text-align: right;\">\n",
       "      <th></th>\n",
       "      <th>case_id</th>\n",
       "      <th>num_group1</th>\n",
       "      <th>dateofcredstart_181D</th>\n",
       "      <th>dateofcredstart_739D</th>\n",
       "    </tr>\n",
       "  </thead>\n",
       "  <tbody>\n",
       "    <tr>\n",
       "      <th>5526150</th>\n",
       "      <td>805547</td>\n",
       "      <td>0</td>\n",
       "      <td>NaT</td>\n",
       "      <td>2011-10-19</td>\n",
       "    </tr>\n",
       "    <tr>\n",
       "      <th>5526151</th>\n",
       "      <td>805547</td>\n",
       "      <td>1</td>\n",
       "      <td>NaT</td>\n",
       "      <td>NaT</td>\n",
       "    </tr>\n",
       "    <tr>\n",
       "      <th>5526152</th>\n",
       "      <td>805547</td>\n",
       "      <td>2</td>\n",
       "      <td>NaT</td>\n",
       "      <td>NaT</td>\n",
       "    </tr>\n",
       "    <tr>\n",
       "      <th>5526153</th>\n",
       "      <td>805547</td>\n",
       "      <td>3</td>\n",
       "      <td>NaT</td>\n",
       "      <td>NaT</td>\n",
       "    </tr>\n",
       "    <tr>\n",
       "      <th>5526154</th>\n",
       "      <td>805547</td>\n",
       "      <td>4</td>\n",
       "      <td>NaT</td>\n",
       "      <td>NaT</td>\n",
       "    </tr>\n",
       "    <tr>\n",
       "      <th>5526155</th>\n",
       "      <td>805547</td>\n",
       "      <td>5</td>\n",
       "      <td>NaT</td>\n",
       "      <td>NaT</td>\n",
       "    </tr>\n",
       "    <tr>\n",
       "      <th>5526156</th>\n",
       "      <td>805547</td>\n",
       "      <td>6</td>\n",
       "      <td>NaT</td>\n",
       "      <td>NaT</td>\n",
       "    </tr>\n",
       "    <tr>\n",
       "      <th>5526157</th>\n",
       "      <td>805547</td>\n",
       "      <td>7</td>\n",
       "      <td>NaT</td>\n",
       "      <td>NaT</td>\n",
       "    </tr>\n",
       "    <tr>\n",
       "      <th>5526158</th>\n",
       "      <td>805547</td>\n",
       "      <td>8</td>\n",
       "      <td>NaT</td>\n",
       "      <td>NaT</td>\n",
       "    </tr>\n",
       "  </tbody>\n",
       "</table>\n",
       "</div>"
      ],
      "text/plain": [
       "         case_id  num_group1 dateofcredstart_181D dateofcredstart_739D\n",
       "5526150   805547           0                  NaT           2011-10-19\n",
       "5526151   805547           1                  NaT                  NaT\n",
       "5526152   805547           2                  NaT                  NaT\n",
       "5526153   805547           3                  NaT                  NaT\n",
       "5526154   805547           4                  NaT                  NaT\n",
       "5526155   805547           5                  NaT                  NaT\n",
       "5526156   805547           6                  NaT                  NaT\n",
       "5526157   805547           7                  NaT                  NaT\n",
       "5526158   805547           8                  NaT                  NaT"
      ]
     },
     "execution_count": 144,
     "metadata": {},
     "output_type": "execute_result"
    }
   ],
   "source": [
    "credit_bureau_a_1_df[credit_bureau_a_1_df.case_id == random.choice(credit_bureau_a_1_df.case_id.unique())].sort_values(by=[\"num_group1\"])[[\"case_id\", \"num_group1\", \"dateofcredstart_181D\", \"dateofcredstart_739D\"]]"
   ]
  },
  {
   "cell_type": "code",
   "execution_count": 145,
   "id": "d8e9fd17-51a1-49b2-81b7-68743218f64a",
   "metadata": {},
   "outputs": [],
   "source": [
    "not_null_dateofcredstart_df = credit_bureau_a_1_df[~credit_bureau_a_1_df.dateofcredstart_181D.isnull() & ~credit_bureau_a_1_df.dateofcredstart_739D.isnull()]"
   ]
  },
  {
   "cell_type": "code",
   "execution_count": 146,
   "id": "244591ad-de61-4c15-989d-4fdb59328762",
   "metadata": {},
   "outputs": [
    {
     "data": {
      "text/plain": [
       "True     1689905\n",
       "False     141624\n",
       "Name: count, dtype: int64"
      ]
     },
     "execution_count": 146,
     "metadata": {},
     "output_type": "execute_result"
    }
   ],
   "source": [
    "(not_null_dateofcredstart_df[\"dateofcredstart_181D\"]<=not_null_dateofcredstart_df[\"dateofcredstart_739D\"]).value_counts()"
   ]
  },
  {
   "cell_type": "code",
   "execution_count": 147,
   "id": "f571fd83-f9e6-47c9-99e2-0541535756bf",
   "metadata": {},
   "outputs": [
    {
     "data": {
      "text/html": [
       "<div>\n",
       "<style scoped>\n",
       "    .dataframe tbody tr th:only-of-type {\n",
       "        vertical-align: middle;\n",
       "    }\n",
       "\n",
       "    .dataframe tbody tr th {\n",
       "        vertical-align: top;\n",
       "    }\n",
       "\n",
       "    .dataframe thead th {\n",
       "        text-align: right;\n",
       "    }\n",
       "</style>\n",
       "<table border=\"1\" class=\"dataframe\">\n",
       "  <thead>\n",
       "    <tr style=\"text-align: right;\">\n",
       "      <th></th>\n",
       "      <th>case_id</th>\n",
       "      <th>num_group1</th>\n",
       "      <th>dateofcredstart_181D</th>\n",
       "      <th>dateofcredstart_739D</th>\n",
       "    </tr>\n",
       "  </thead>\n",
       "  <tbody>\n",
       "    <tr>\n",
       "      <th>52214</th>\n",
       "      <td>7233</td>\n",
       "      <td>0</td>\n",
       "      <td>2015-03-25</td>\n",
       "      <td>2014-08-06</td>\n",
       "    </tr>\n",
       "    <tr>\n",
       "      <th>53913</th>\n",
       "      <td>7429</td>\n",
       "      <td>0</td>\n",
       "      <td>2016-12-05</td>\n",
       "      <td>2014-01-08</td>\n",
       "    </tr>\n",
       "    <tr>\n",
       "      <th>55695</th>\n",
       "      <td>7654</td>\n",
       "      <td>0</td>\n",
       "      <td>2018-07-17</td>\n",
       "      <td>2014-09-13</td>\n",
       "    </tr>\n",
       "    <tr>\n",
       "      <th>56275</th>\n",
       "      <td>7731</td>\n",
       "      <td>0</td>\n",
       "      <td>2016-01-01</td>\n",
       "      <td>2014-05-19</td>\n",
       "    </tr>\n",
       "    <tr>\n",
       "      <th>57536</th>\n",
       "      <td>7893</td>\n",
       "      <td>0</td>\n",
       "      <td>2018-01-26</td>\n",
       "      <td>2016-09-14</td>\n",
       "    </tr>\n",
       "  </tbody>\n",
       "</table>\n",
       "</div>"
      ],
      "text/plain": [
       "       case_id  num_group1 dateofcredstart_181D dateofcredstart_739D\n",
       "52214     7233           0           2015-03-25           2014-08-06\n",
       "53913     7429           0           2016-12-05           2014-01-08\n",
       "55695     7654           0           2018-07-17           2014-09-13\n",
       "56275     7731           0           2016-01-01           2014-05-19\n",
       "57536     7893           0           2018-01-26           2016-09-14"
      ]
     },
     "execution_count": 147,
     "metadata": {},
     "output_type": "execute_result"
    }
   ],
   "source": [
    "not_null_dateofcredstart_df[not_null_dateofcredstart_df[\"dateofcredstart_181D\"]>not_null_dateofcredstart_df[\"dateofcredstart_739D\"]][[\"case_id\", \"num_group1\", \"dateofcredstart_181D\", \"dateofcredstart_739D\"]].head()"
   ]
  },
  {
   "cell_type": "markdown",
   "id": "274cd48e-4504-4dfb-9394-327980761dab",
   "metadata": {},
   "source": [
    "## I do not understand the meaning of dateofcredstart_181D, dateofcredstart_739D"
   ]
  },
  {
   "cell_type": "markdown",
   "id": "4e91e402-2bd2-43b0-9e1a-6fb14db1b8da",
   "metadata": {},
   "source": [
    "## 2. dateofcredend_289D and dateofcredend_353D"
   ]
  },
  {
   "cell_type": "code",
   "execution_count": 148,
   "id": "a2a18cfd-5366-4f95-bdf4-73690322209c",
   "metadata": {},
   "outputs": [
    {
     "data": {
      "text/plain": [
       "'End date of an active credit contract.'"
      ]
     },
     "execution_count": 148,
     "metadata": {},
     "output_type": "execute_result"
    }
   ],
   "source": [
    "get_column_description(feature_df, \"dateofcredend_289D\")"
   ]
  },
  {
   "cell_type": "code",
   "execution_count": 149,
   "id": "d867358b-181f-4528-a71b-cb5178adaee8",
   "metadata": {},
   "outputs": [
    {
     "data": {
      "text/plain": [
       "'End date of a closed credit contract.'"
      ]
     },
     "execution_count": 149,
     "metadata": {},
     "output_type": "execute_result"
    }
   ],
   "source": [
    "get_column_description(feature_df, \"dateofcredend_353D\")"
   ]
  },
  {
   "cell_type": "code",
   "execution_count": 150,
   "id": "555fd79d-edd6-4ef9-8302-f55f2338d071",
   "metadata": {},
   "outputs": [
    {
     "data": {
      "text/html": [
       "<div>\n",
       "<style scoped>\n",
       "    .dataframe tbody tr th:only-of-type {\n",
       "        vertical-align: middle;\n",
       "    }\n",
       "\n",
       "    .dataframe tbody tr th {\n",
       "        vertical-align: top;\n",
       "    }\n",
       "\n",
       "    .dataframe thead th {\n",
       "        text-align: right;\n",
       "    }\n",
       "</style>\n",
       "<table border=\"1\" class=\"dataframe\">\n",
       "  <thead>\n",
       "    <tr style=\"text-align: right;\">\n",
       "      <th></th>\n",
       "      <th>case_id</th>\n",
       "      <th>num_group1</th>\n",
       "      <th>dateofcredstart_739D</th>\n",
       "      <th>dateofcredstart_181D</th>\n",
       "      <th>dateofcredend_353D</th>\n",
       "      <th>dateofcredend_289D</th>\n",
       "    </tr>\n",
       "  </thead>\n",
       "  <tbody>\n",
       "    <tr>\n",
       "      <th>1206111</th>\n",
       "      <td>684577</td>\n",
       "      <td>0</td>\n",
       "      <td>2015-01-04</td>\n",
       "      <td>NaT</td>\n",
       "      <td>NaT</td>\n",
       "      <td>2021-01-04</td>\n",
       "    </tr>\n",
       "    <tr>\n",
       "      <th>1206112</th>\n",
       "      <td>684577</td>\n",
       "      <td>1</td>\n",
       "      <td>NaT</td>\n",
       "      <td>NaT</td>\n",
       "      <td>NaT</td>\n",
       "      <td>NaT</td>\n",
       "    </tr>\n",
       "    <tr>\n",
       "      <th>1206113</th>\n",
       "      <td>684577</td>\n",
       "      <td>2</td>\n",
       "      <td>NaT</td>\n",
       "      <td>NaT</td>\n",
       "      <td>NaT</td>\n",
       "      <td>NaT</td>\n",
       "    </tr>\n",
       "    <tr>\n",
       "      <th>1206114</th>\n",
       "      <td>684577</td>\n",
       "      <td>3</td>\n",
       "      <td>NaT</td>\n",
       "      <td>NaT</td>\n",
       "      <td>NaT</td>\n",
       "      <td>NaT</td>\n",
       "    </tr>\n",
       "    <tr>\n",
       "      <th>1206115</th>\n",
       "      <td>684577</td>\n",
       "      <td>4</td>\n",
       "      <td>NaT</td>\n",
       "      <td>NaT</td>\n",
       "      <td>NaT</td>\n",
       "      <td>NaT</td>\n",
       "    </tr>\n",
       "    <tr>\n",
       "      <th>1206116</th>\n",
       "      <td>684577</td>\n",
       "      <td>5</td>\n",
       "      <td>NaT</td>\n",
       "      <td>NaT</td>\n",
       "      <td>NaT</td>\n",
       "      <td>NaT</td>\n",
       "    </tr>\n",
       "    <tr>\n",
       "      <th>1206117</th>\n",
       "      <td>684577</td>\n",
       "      <td>6</td>\n",
       "      <td>NaT</td>\n",
       "      <td>NaT</td>\n",
       "      <td>NaT</td>\n",
       "      <td>NaT</td>\n",
       "    </tr>\n",
       "    <tr>\n",
       "      <th>1206118</th>\n",
       "      <td>684577</td>\n",
       "      <td>7</td>\n",
       "      <td>NaT</td>\n",
       "      <td>NaT</td>\n",
       "      <td>NaT</td>\n",
       "      <td>NaT</td>\n",
       "    </tr>\n",
       "    <tr>\n",
       "      <th>1206119</th>\n",
       "      <td>684577</td>\n",
       "      <td>8</td>\n",
       "      <td>NaT</td>\n",
       "      <td>NaT</td>\n",
       "      <td>NaT</td>\n",
       "      <td>NaT</td>\n",
       "    </tr>\n",
       "    <tr>\n",
       "      <th>1206120</th>\n",
       "      <td>684577</td>\n",
       "      <td>9</td>\n",
       "      <td>NaT</td>\n",
       "      <td>NaT</td>\n",
       "      <td>NaT</td>\n",
       "      <td>NaT</td>\n",
       "    </tr>\n",
       "    <tr>\n",
       "      <th>1206121</th>\n",
       "      <td>684577</td>\n",
       "      <td>10</td>\n",
       "      <td>NaT</td>\n",
       "      <td>NaT</td>\n",
       "      <td>NaT</td>\n",
       "      <td>NaT</td>\n",
       "    </tr>\n",
       "  </tbody>\n",
       "</table>\n",
       "</div>"
      ],
      "text/plain": [
       "         case_id  num_group1 dateofcredstart_739D dateofcredstart_181D  \\\n",
       "1206111   684577           0           2015-01-04                  NaT   \n",
       "1206112   684577           1                  NaT                  NaT   \n",
       "1206113   684577           2                  NaT                  NaT   \n",
       "1206114   684577           3                  NaT                  NaT   \n",
       "1206115   684577           4                  NaT                  NaT   \n",
       "1206116   684577           5                  NaT                  NaT   \n",
       "1206117   684577           6                  NaT                  NaT   \n",
       "1206118   684577           7                  NaT                  NaT   \n",
       "1206119   684577           8                  NaT                  NaT   \n",
       "1206120   684577           9                  NaT                  NaT   \n",
       "1206121   684577          10                  NaT                  NaT   \n",
       "\n",
       "        dateofcredend_353D dateofcredend_289D  \n",
       "1206111                NaT         2021-01-04  \n",
       "1206112                NaT                NaT  \n",
       "1206113                NaT                NaT  \n",
       "1206114                NaT                NaT  \n",
       "1206115                NaT                NaT  \n",
       "1206116                NaT                NaT  \n",
       "1206117                NaT                NaT  \n",
       "1206118                NaT                NaT  \n",
       "1206119                NaT                NaT  \n",
       "1206120                NaT                NaT  \n",
       "1206121                NaT                NaT  "
      ]
     },
     "execution_count": 150,
     "metadata": {},
     "output_type": "execute_result"
    }
   ],
   "source": [
    "credit_bureau_a_1_df[credit_bureau_a_1_df.case_id == random.choice(credit_bureau_a_1_df.case_id.unique())].sort_values(by=[\"num_group1\"])[[\"case_id\", \"num_group1\", \"dateofcredstart_739D\", \"dateofcredstart_181D\", \"dateofcredend_353D\", \"dateofcredend_289D\"]]"
   ]
  },
  {
   "cell_type": "code",
   "execution_count": 151,
   "id": "4ad848d6-5309-4980-877c-4b772646891d",
   "metadata": {},
   "outputs": [
    {
     "data": {
      "text/html": [
       "<div>\n",
       "<style scoped>\n",
       "    .dataframe tbody tr th:only-of-type {\n",
       "        vertical-align: middle;\n",
       "    }\n",
       "\n",
       "    .dataframe tbody tr th {\n",
       "        vertical-align: top;\n",
       "    }\n",
       "\n",
       "    .dataframe thead th {\n",
       "        text-align: right;\n",
       "    }\n",
       "</style>\n",
       "<table border=\"1\" class=\"dataframe\">\n",
       "  <thead>\n",
       "    <tr style=\"text-align: right;\">\n",
       "      <th></th>\n",
       "      <th>case_id</th>\n",
       "      <th>num_group1</th>\n",
       "      <th>dateofcredstart_739D</th>\n",
       "      <th>dateofcredstart_181D</th>\n",
       "      <th>dateofcredend_353D</th>\n",
       "      <th>dateofcredend_289D</th>\n",
       "    </tr>\n",
       "  </thead>\n",
       "  <tbody>\n",
       "    <tr>\n",
       "      <th>0</th>\n",
       "      <td>388</td>\n",
       "      <td>1</td>\n",
       "      <td>2018-08-06</td>\n",
       "      <td>NaT</td>\n",
       "      <td>NaT</td>\n",
       "      <td>2020-08-06</td>\n",
       "    </tr>\n",
       "    <tr>\n",
       "      <th>1</th>\n",
       "      <td>388</td>\n",
       "      <td>0</td>\n",
       "      <td>2018-06-20</td>\n",
       "      <td>NaT</td>\n",
       "      <td>NaT</td>\n",
       "      <td>2023-06-20</td>\n",
       "    </tr>\n",
       "    <tr>\n",
       "      <th>11</th>\n",
       "      <td>405</td>\n",
       "      <td>0</td>\n",
       "      <td>2012-06-06</td>\n",
       "      <td>NaT</td>\n",
       "      <td>NaT</td>\n",
       "      <td>2020-06-06</td>\n",
       "    </tr>\n",
       "    <tr>\n",
       "      <th>12</th>\n",
       "      <td>405</td>\n",
       "      <td>1</td>\n",
       "      <td>2017-11-06</td>\n",
       "      <td>NaT</td>\n",
       "      <td>NaT</td>\n",
       "      <td>2022-11-06</td>\n",
       "    </tr>\n",
       "    <tr>\n",
       "      <th>22</th>\n",
       "      <td>409</td>\n",
       "      <td>2</td>\n",
       "      <td>2018-11-25</td>\n",
       "      <td>NaT</td>\n",
       "      <td>NaT</td>\n",
       "      <td>2019-02-25</td>\n",
       "    </tr>\n",
       "    <tr>\n",
       "      <th>...</th>\n",
       "      <td>...</td>\n",
       "      <td>...</td>\n",
       "      <td>...</td>\n",
       "      <td>...</td>\n",
       "      <td>...</td>\n",
       "      <td>...</td>\n",
       "    </tr>\n",
       "    <tr>\n",
       "      <th>15940460</th>\n",
       "      <td>2683572</td>\n",
       "      <td>0</td>\n",
       "      <td>2019-10-21</td>\n",
       "      <td>2016-10-08</td>\n",
       "      <td>2019-10-08</td>\n",
       "      <td>2023-10-21</td>\n",
       "    </tr>\n",
       "    <tr>\n",
       "      <th>15940490</th>\n",
       "      <td>2683574</td>\n",
       "      <td>0</td>\n",
       "      <td>2019-10-16</td>\n",
       "      <td>2006-06-14</td>\n",
       "      <td>2007-09-14</td>\n",
       "      <td>2034-10-16</td>\n",
       "    </tr>\n",
       "    <tr>\n",
       "      <th>15940501</th>\n",
       "      <td>2683575</td>\n",
       "      <td>0</td>\n",
       "      <td>2018-11-12</td>\n",
       "      <td>NaT</td>\n",
       "      <td>NaT</td>\n",
       "      <td>2020-11-11</td>\n",
       "    </tr>\n",
       "    <tr>\n",
       "      <th>15940510</th>\n",
       "      <td>2683576</td>\n",
       "      <td>0</td>\n",
       "      <td>2013-03-13</td>\n",
       "      <td>2016-03-27</td>\n",
       "      <td>2017-09-27</td>\n",
       "      <td>2021-03-13</td>\n",
       "    </tr>\n",
       "    <tr>\n",
       "      <th>15940528</th>\n",
       "      <td>2683578</td>\n",
       "      <td>0</td>\n",
       "      <td>2020-02-26</td>\n",
       "      <td>2017-10-23</td>\n",
       "      <td>2018-10-23</td>\n",
       "      <td>2020-08-26</td>\n",
       "    </tr>\n",
       "  </tbody>\n",
       "</table>\n",
       "<p>2659270 rows × 6 columns</p>\n",
       "</div>"
      ],
      "text/plain": [
       "          case_id  num_group1 dateofcredstart_739D dateofcredstart_181D  \\\n",
       "0             388           1           2018-08-06                  NaT   \n",
       "1             388           0           2018-06-20                  NaT   \n",
       "11            405           0           2012-06-06                  NaT   \n",
       "12            405           1           2017-11-06                  NaT   \n",
       "22            409           2           2018-11-25                  NaT   \n",
       "...           ...         ...                  ...                  ...   \n",
       "15940460  2683572           0           2019-10-21           2016-10-08   \n",
       "15940490  2683574           0           2019-10-16           2006-06-14   \n",
       "15940501  2683575           0           2018-11-12                  NaT   \n",
       "15940510  2683576           0           2013-03-13           2016-03-27   \n",
       "15940528  2683578           0           2020-02-26           2017-10-23   \n",
       "\n",
       "         dateofcredend_353D dateofcredend_289D  \n",
       "0                       NaT         2020-08-06  \n",
       "1                       NaT         2023-06-20  \n",
       "11                      NaT         2020-06-06  \n",
       "12                      NaT         2022-11-06  \n",
       "22                      NaT         2019-02-25  \n",
       "...                     ...                ...  \n",
       "15940460         2019-10-08         2023-10-21  \n",
       "15940490         2007-09-14         2034-10-16  \n",
       "15940501                NaT         2020-11-11  \n",
       "15940510         2017-09-27         2021-03-13  \n",
       "15940528         2018-10-23         2020-08-26  \n",
       "\n",
       "[2659270 rows x 6 columns]"
      ]
     },
     "execution_count": 151,
     "metadata": {},
     "output_type": "execute_result"
    }
   ],
   "source": [
    "credit_bureau_a_1_df[~credit_bureau_a_1_df.dateofcredstart_739D.isnull() & ~credit_bureau_a_1_df.dateofcredend_289D.isnull()][[\"case_id\", \"num_group1\", \"dateofcredstart_739D\", \"dateofcredstart_181D\", \"dateofcredend_353D\", \"dateofcredend_289D\"]]"
   ]
  },
  {
   "cell_type": "markdown",
   "id": "f38ead42-586e-44cd-8c11-06e040e6ba5b",
   "metadata": {},
   "source": [
    "## It appears that dateofcredstart_181D and dateofcredend_353D are paired together => CLOSED CONTRACT START AND END DATE"
   ]
  },
  {
   "cell_type": "code",
   "execution_count": 152,
   "id": "f9b1668e-890f-488a-86ab-203429ff36e6",
   "metadata": {},
   "outputs": [],
   "source": [
    "not_null_dateofcredstart_181D_and_dateofcredend_353D_df = credit_bureau_a_1_df[~credit_bureau_a_1_df.dateofcredstart_181D.isnull() & ~credit_bureau_a_1_df.dateofcredend_353D.isnull()]"
   ]
  },
  {
   "cell_type": "code",
   "execution_count": 153,
   "id": "d31138fb-4f74-41fd-aba8-64e50ee33a3a",
   "metadata": {},
   "outputs": [
    {
     "data": {
      "text/plain": [
       "51613        179\n",
       "51614        359\n",
       "51615       1096\n",
       "51616        365\n",
       "51617        731\n",
       "            ... \n",
       "15940519     242\n",
       "15940520     358\n",
       "15940521     175\n",
       "15940528     365\n",
       "15940529     182\n",
       "Length: 6751578, dtype: int64"
      ]
     },
     "execution_count": 153,
     "metadata": {},
     "output_type": "execute_result"
    }
   ],
   "source": [
    "(not_null_dateofcredstart_181D_and_dateofcredend_353D_df[\"dateofcredend_353D\"] - not_null_dateofcredstart_181D_and_dateofcredend_353D_df[\"dateofcredstart_181D\"]).dt.days"
   ]
  },
  {
   "cell_type": "code",
   "execution_count": 154,
   "id": "b7de72b9-f4bf-4d0a-b2e9-804144098e1b",
   "metadata": {},
   "outputs": [
    {
     "data": {
      "text/plain": [
       "True     6751391\n",
       "False        187\n",
       "Name: count, dtype: int64"
      ]
     },
     "execution_count": 154,
     "metadata": {},
     "output_type": "execute_result"
    }
   ],
   "source": [
    "(not_null_dateofcredstart_181D_and_dateofcredend_353D_df[\"dateofcredstart_181D\"]<=not_null_dateofcredstart_181D_and_dateofcredend_353D_df[\"dateofcredend_353D\"]).value_counts()"
   ]
  },
  {
   "cell_type": "code",
   "execution_count": 155,
   "id": "e38dafa3-6566-441f-91ba-584e4a81fea7",
   "metadata": {},
   "outputs": [
    {
     "data": {
      "text/plain": [
       "dateofcredstart_181D\n",
       "2012    107\n",
       "2008     48\n",
       "2009     15\n",
       "2013      5\n",
       "2006      3\n",
       "2010      3\n",
       "2007      3\n",
       "2001      2\n",
       "2016      1\n",
       "Freq: A-DEC, Name: count, dtype: int64"
      ]
     },
     "execution_count": 155,
     "metadata": {},
     "output_type": "execute_result"
    }
   ],
   "source": [
    "not_null_dateofcredstart_181D_and_dateofcredend_353D_df[~(not_null_dateofcredstart_181D_and_dateofcredend_353D_df[\"dateofcredstart_181D\"]<=not_null_dateofcredstart_181D_and_dateofcredend_353D_df[\"dateofcredend_353D\"])][\"dateofcredstart_181D\"].dt.to_period('Y').value_counts()"
   ]
  },
  {
   "cell_type": "markdown",
   "id": "e72e380d-3d1b-41c0-a077-c803eeb8f886",
   "metadata": {},
   "source": [
    "## Ignore cases where dateofcredstart_181D<dateofcredend_353D"
   ]
  },
  {
   "cell_type": "markdown",
   "id": "47d2e8ae-0d16-4d0e-9d9e-3e630d939ad2",
   "metadata": {},
   "source": [
    "## Calcuate duration of credit contract using dateofcredstart_181D and dateofcredend_353D"
   ]
  },
  {
   "cell_type": "code",
   "execution_count": 156,
   "id": "5f20d6db-8f8b-4aac-a991-966b358673de",
   "metadata": {},
   "outputs": [],
   "source": [
    "credit_bureau_a_1_df[\"month_lapse_between_start_and_end_date_of_closed_contract\"] = (credit_bureau_a_1_df[\"dateofcredend_353D\"]-credit_bureau_a_1_df[\"dateofcredstart_181D\"])/np.timedelta64(1, 'M')\n",
    "credit_bureau_a_1_df[\"month_lapse_between_start_and_end_date_of_closed_contract\"] = credit_bureau_a_1_df[\"month_lapse_between_start_and_end_date_of_closed_contract\"].apply(lambda x: np.nan if pd.isna(x) else math.ceil(x))\n",
    "credit_bureau_a_1_df.loc[credit_bureau_a_1_df.month_lapse_between_start_and_end_date_of_closed_contract <0, \"month_lapse_between_start_and_end_date_of_closed_contract\"] = np.nan"
   ]
  },
  {
   "cell_type": "code",
   "execution_count": 157,
   "id": "f55b36a1-bca6-48a6-9b05-bc2b5bc164c6",
   "metadata": {},
   "outputs": [
    {
     "data": {
      "text/plain": [
       "<Axes: ylabel='month_lapse_between_start_and_end_date_of_closed_contract'>"
      ]
     },
     "execution_count": 157,
     "metadata": {},
     "output_type": "execute_result"
    },
    {
     "data": {
      "image/png": "[encoded data removed]",
      "text/plain": [
       "<Figure size 640x480 with 1 Axes>"
      ]
     },
     "metadata": {},
     "output_type": "display_data"
    }
   ],
   "source": [
    "sns.boxplot(data=credit_bureau_a_1_df, y=\"month_lapse_between_start_and_end_date_of_closed_contract\")"
   ]
  },
  {
   "cell_type": "code",
   "execution_count": 158,
   "id": "14456a1b-f23f-48b4-8577-fba77f118e75",
   "metadata": {},
   "outputs": [],
   "source": [
    "statistics_month_lapse_between_start_and_end_date_of_closed_contract_df = credit_bureau_a_1_df.groupby(by=[\"case_id\"]).agg({\"month_lapse_between_start_and_end_date_of_closed_contract\": [\"max\", \"min\", \"mean\", \"count\"]}).reset_index()\n",
    "statistics_month_lapse_between_start_and_end_date_of_closed_contract_df.columns  = ['case_id' if index_tuple[0] == 'case_id' else f\"generated_{index_tuple[0]}_{index_tuple[1]}\" for index_tuple in statistics_month_lapse_between_start_and_end_date_of_closed_contract_df.columns]"
   ]
  },
  {
   "cell_type": "code",
   "execution_count": 159,
   "id": "845821a3-ad1e-4e08-bc37-6c2125fa5557",
   "metadata": {},
   "outputs": [
    {
     "name": "stdout",
     "output_type": "stream",
     "text": [
      "Shape of merged_train_base_statistics_month_lapse_between_start_and_end_date_of_closed_contract_for_case_id_df: (1526659, 9)\n"
     ]
    }
   ],
   "source": [
    "merged_train_base_statistics_month_lapse_between_start_and_end_date_of_closed_contract_for_case_id_df = train_base_df.merge(statistics_month_lapse_between_start_and_end_date_of_closed_contract_df, left_on=[\"case_id\"], right_on=[\"case_id\"], validate=\"one_to_one\", how=\"left\")\n",
    "print(f\"Shape of merged_train_base_statistics_month_lapse_between_start_and_end_date_of_closed_contract_for_case_id_df: {merged_train_base_statistics_month_lapse_between_start_and_end_date_of_closed_contract_for_case_id_df.shape}\")"
   ]
  },
  {
   "cell_type": "code",
   "execution_count": 160,
   "id": "f92e0d33-5cdb-4eb6-9615-e57a37280d2d",
   "metadata": {},
   "outputs": [
    {
     "data": {
      "text/plain": [
       "<Axes: xlabel='target', ylabel='generated_month_lapse_between_start_and_end_date_of_closed_contract_max'>"
      ]
     },
     "execution_count": 160,
     "metadata": {},
     "output_type": "execute_result"
    },
    {
     "data": {
      "image/png": "[encoded data removed]",
      "text/plain": [
       "<Figure size 640x480 with 1 Axes>"
      ]
     },
     "metadata": {},
     "output_type": "display_data"
    }
   ],
   "source": [
    "sns.boxplot(data=merged_train_base_statistics_month_lapse_between_start_and_end_date_of_closed_contract_for_case_id_df, y=\"generated_month_lapse_between_start_and_end_date_of_closed_contract_max\", x=\"target\")"
   ]
  },
  {
   "cell_type": "code",
   "execution_count": 161,
   "id": "962376b1-e494-4c77-bb95-f420b8f91df9",
   "metadata": {},
   "outputs": [
    {
     "data": {
      "text/plain": [
       "<Axes: xlabel='target', ylabel='generated_month_lapse_between_start_and_end_date_of_closed_contract_mean'>"
      ]
     },
     "execution_count": 161,
     "metadata": {},
     "output_type": "execute_result"
    },
    {
     "data": {
      "image/png": "[encoded data removed]",
      "text/plain": [
       "<Figure size 640x480 with 1 Axes>"
      ]
     },
     "metadata": {},
     "output_type": "display_data"
    }
   ],
   "source": [
    "sns.boxplot(data=merged_train_base_statistics_month_lapse_between_start_and_end_date_of_closed_contract_for_case_id_df, y=\"generated_month_lapse_between_start_and_end_date_of_closed_contract_mean\", x=\"target\")"
   ]
  },
  {
   "cell_type": "markdown",
   "id": "f6f9dd60-fcdb-4733-bc52-a58644c5228f",
   "metadata": {},
   "source": [
    "## target=1 have shorter duration of CLOSED credict contracts."
   ]
  },
  {
   "cell_type": "markdown",
   "id": "0358ea30-3f83-4f96-9263-930c235b95a7",
   "metadata": {},
   "source": [
    "## 3. dateofcredstart_739D and dateofcredend_289D "
   ]
  },
  {
   "cell_type": "code",
   "execution_count": 162,
   "id": "80c11fe9-56cb-455d-9503-30c7c2032292",
   "metadata": {},
   "outputs": [],
   "source": [
    "not_null_dateofcredstart_739D_and_dateofcredend_289D_df = credit_bureau_a_1_df[~credit_bureau_a_1_df.dateofcredstart_739D.isnull() & ~credit_bureau_a_1_df.dateofcredend_289D.isnull()]"
   ]
  },
  {
   "cell_type": "code",
   "execution_count": 163,
   "id": "5cce3a5f-885f-4fd3-b2c3-127bb560f9f9",
   "metadata": {},
   "outputs": [
    {
     "data": {
      "text/plain": [
       "True    2659270\n",
       "Name: count, dtype: int64"
      ]
     },
     "execution_count": 163,
     "metadata": {},
     "output_type": "execute_result"
    }
   ],
   "source": [
    "(not_null_dateofcredstart_739D_and_dateofcredend_289D_df[\"dateofcredstart_739D\"]<=not_null_dateofcredstart_739D_and_dateofcredend_289D_df[\"dateofcredend_289D\"]).value_counts()"
   ]
  },
  {
   "cell_type": "markdown",
   "id": "71312583-c812-4e1e-907a-7e00576ce771",
   "metadata": {},
   "source": [
    "## All cases have dateofcredstart_739D<=dateofcredend_289D"
   ]
  },
  {
   "cell_type": "markdown",
   "id": "6ac3df70-7f47-4e0d-98da-8fa8d3d8b121",
   "metadata": {},
   "source": [
    "## Calcuate duration of credit contract using dateofcredstart_739D and dateofcredend_289D"
   ]
  },
  {
   "cell_type": "code",
   "execution_count": 164,
   "id": "27c56dac-8aa5-4eac-98a4-6cbb42d6dfba",
   "metadata": {},
   "outputs": [],
   "source": [
    "credit_bureau_a_1_df[\"month_lapse_between_start_and_end_date_of_active_contract\"] = (credit_bureau_a_1_df[\"dateofcredend_289D\"]-credit_bureau_a_1_df[\"dateofcredstart_739D\"])/np.timedelta64(1, 'M')\n",
    "credit_bureau_a_1_df[\"month_lapse_between_start_and_end_date_of_active_contract\"] = credit_bureau_a_1_df[\"month_lapse_between_start_and_end_date_of_active_contract\"].apply(lambda x: np.nan if pd.isna(x) else math.ceil(x))\n",
    "credit_bureau_a_1_df.loc[credit_bureau_a_1_df.month_lapse_between_start_and_end_date_of_active_contract <0, \"month_lapse_between_start_and_end_date_of_active_contract\"] = np.nan"
   ]
  },
  {
   "cell_type": "code",
   "execution_count": 165,
   "id": "d123094e-2e67-45a5-a153-5062c37c5317",
   "metadata": {},
   "outputs": [
    {
     "data": {
      "text/plain": [
       "<Axes: ylabel='month_lapse_between_start_and_end_date_of_active_contract'>"
      ]
     },
     "execution_count": 165,
     "metadata": {},
     "output_type": "execute_result"
    },
    {
     "data": {
      "image/png": "[encoded data removed]",
      "text/plain": [
       "<Figure size 640x480 with 1 Axes>"
      ]
     },
     "metadata": {},
     "output_type": "display_data"
    }
   ],
   "source": [
    "sns.boxplot(data=credit_bureau_a_1_df, y=\"month_lapse_between_start_and_end_date_of_active_contract\")"
   ]
  },
  {
   "cell_type": "code",
   "execution_count": 166,
   "id": "2638e918-2abd-4c74-8147-6830dfd29570",
   "metadata": {},
   "outputs": [],
   "source": [
    "statistics_month_lapse_between_start_and_end_date_of_active_contract_df = credit_bureau_a_1_df.groupby(by=[\"case_id\"]).agg({\"month_lapse_between_start_and_end_date_of_active_contract\": [\"max\", \"min\", \"mean\", \"count\"]}).reset_index()\n",
    "statistics_month_lapse_between_start_and_end_date_of_active_contract_df.columns  = ['case_id' if index_tuple[0] == 'case_id' else f\"generated_{index_tuple[0]}_{index_tuple[1]}\" for index_tuple in statistics_month_lapse_between_start_and_end_date_of_active_contract_df.columns]"
   ]
  },
  {
   "cell_type": "code",
   "execution_count": 167,
   "id": "56b9a993-bf16-428d-b196-b437619c2962",
   "metadata": {},
   "outputs": [
    {
     "name": "stdout",
     "output_type": "stream",
     "text": [
      "Shape of merged_train_base_statistics_month_lapse_between_start_and_end_date_of_active_contract_for_case_id_df: (1526659, 9)\n"
     ]
    }
   ],
   "source": [
    "merged_train_base_statistics_month_lapse_between_start_and_end_date_of_active_contract_for_case_id_df = train_base_df.merge(statistics_month_lapse_between_start_and_end_date_of_active_contract_df, left_on=[\"case_id\"], right_on=[\"case_id\"], validate=\"one_to_one\", how=\"left\")\n",
    "print(f\"Shape of merged_train_base_statistics_month_lapse_between_start_and_end_date_of_active_contract_for_case_id_df: {merged_train_base_statistics_month_lapse_between_start_and_end_date_of_active_contract_for_case_id_df.shape}\")"
   ]
  },
  {
   "cell_type": "code",
   "execution_count": 168,
   "id": "27719b26-47ae-4ebe-92bc-15a9008843b2",
   "metadata": {},
   "outputs": [
    {
     "data": {
      "text/plain": [
       "<Axes: xlabel='target', ylabel='generated_month_lapse_between_start_and_end_date_of_active_contract_max'>"
      ]
     },
     "execution_count": 168,
     "metadata": {},
     "output_type": "execute_result"
    },
    {
     "data": {
      "image/png": "[encoded data removed]",
      "text/plain": [
       "<Figure size 640x480 with 1 Axes>"
      ]
     },
     "metadata": {},
     "output_type": "display_data"
    }
   ],
   "source": [
    "sns.boxplot(data=merged_train_base_statistics_month_lapse_between_start_and_end_date_of_active_contract_for_case_id_df, y=\"generated_month_lapse_between_start_and_end_date_of_active_contract_max\", x=\"target\")"
   ]
  },
  {
   "cell_type": "markdown",
   "id": "5506ab20-2efb-4d9e-b28f-40e43dde780d",
   "metadata": {},
   "source": [
    "## target=1 have shorter duration of ACTIVE credict contracts."
   ]
  },
  {
   "cell_type": "code",
   "execution_count": 169,
   "id": "0b7c6036-dd2e-4b03-9153-69e46c1ecd82",
   "metadata": {},
   "outputs": [],
   "source": [
    "## Get number of active and closed contracts for each case_id\n",
    "credit_bureau_a_1_df[\"generated_has_closed_contract\"] = np.where((~credit_bureau_a_1_df[\"dateofcredend_353D\"].isnull()) & (~credit_bureau_a_1_df[\"dateofcredstart_181D\"].isnull()) & (credit_bureau_a_1_df[\"dateofcredend_353D\"]>=credit_bureau_a_1_df[\"dateofcredstart_181D\"]), 1, 0)\n",
    "credit_bureau_a_1_df[\"generated_has_active_contract\"] = np.where((~credit_bureau_a_1_df[\"dateofcredend_289D\"].isnull()) & (~credit_bureau_a_1_df[\"dateofcredstart_739D\"].isnull()) & (credit_bureau_a_1_df[\"dateofcredend_289D\"]>=credit_bureau_a_1_df[\"dateofcredstart_739D\"]), 1, 0)"
   ]
  },
  {
   "cell_type": "code",
   "execution_count": 170,
   "id": "62fa04ce-37f6-492f-87ac-995b331997b2",
   "metadata": {},
   "outputs": [],
   "source": [
    "credit_bureau_a_1_df[\"generated_number_of_contracts\"] = credit_bureau_a_1_df[\"generated_has_closed_contract\"] + credit_bureau_a_1_df[\"generated_has_active_contract\"]"
   ]
  },
  {
   "cell_type": "code",
   "execution_count": 171,
   "id": "a0fdf7e3-eae0-40ac-b076-fe6fa9430497",
   "metadata": {},
   "outputs": [],
   "source": [
    "statistics_number_of_contracts_df = credit_bureau_a_1_df.groupby(by=[\"case_id\"]).agg({\"generated_number_of_contracts\": [\"count\"]}).reset_index()\n",
    "statistics_number_of_contracts_df.columns  = ['case_id' if index_tuple[0] == 'case_id' else f\"generated_{index_tuple[0]}_{index_tuple[1]}\" for index_tuple in statistics_number_of_contracts_df.columns]"
   ]
  },
  {
   "cell_type": "code",
   "execution_count": 172,
   "id": "cf45a35a-9195-46ef-a82f-18db5520a9e6",
   "metadata": {},
   "outputs": [
    {
     "name": "stdout",
     "output_type": "stream",
     "text": [
      "Shape of merged_train_base_statistics_number_of_contracts_df: (1526659, 6)\n"
     ]
    }
   ],
   "source": [
    "merged_train_base_statistics_number_of_contracts_df = train_base_df.merge(statistics_number_of_contracts_df, left_on=[\"case_id\"], right_on=[\"case_id\"], validate=\"one_to_one\", how=\"left\")\n",
    "print(f\"Shape of merged_train_base_statistics_number_of_contracts_df: {merged_train_base_statistics_number_of_contracts_df.shape}\")"
   ]
  },
  {
   "cell_type": "code",
   "execution_count": 173,
   "id": "a83e55b4-b1e9-4a4f-8ce7-9b56262ee07f",
   "metadata": {},
   "outputs": [
    {
     "data": {
      "text/plain": [
       "<Axes: xlabel='target', ylabel='generated_generated_number_of_contracts_count'>"
      ]
     },
     "execution_count": 173,
     "metadata": {},
     "output_type": "execute_result"
    },
    {
     "data": {
      "image/png": "[encoded data removed]",
      "text/plain": [
       "<Figure size 640x480 with 1 Axes>"
      ]
     },
     "metadata": {},
     "output_type": "display_data"
    }
   ],
   "source": [
    "sns.boxplot(data=merged_train_base_statistics_number_of_contracts_df, y=\"generated_generated_number_of_contracts_count\", x=\"target\")"
   ]
  },
  {
   "cell_type": "markdown",
   "id": "4136c30e-6422-49a0-9e11-253c60aa6b64",
   "metadata": {},
   "source": [
    "## Number of contracts higher for target=0"
   ]
  },
  {
   "cell_type": "markdown",
   "id": "3fbc2867-c561-4708-a93b-bc7e0c2c9cce",
   "metadata": {},
   "source": [
    "## 4. annualeffectiverate_199L and annualeffectiverate_63L "
   ]
  },
  {
   "cell_type": "code",
   "execution_count": 174,
   "id": "2531fbad-4108-4a0b-b41b-e2aa49467ea8",
   "metadata": {},
   "outputs": [
    {
     "data": {
      "text/plain": [
       "'Interest rate of the closed contracts.'"
      ]
     },
     "execution_count": 174,
     "metadata": {},
     "output_type": "execute_result"
    }
   ],
   "source": [
    "get_column_description(feature_df, \"annualeffectiverate_199L\")"
   ]
  },
  {
   "cell_type": "code",
   "execution_count": 175,
   "id": "524921b6-a374-4d45-a838-07bb999df8cd",
   "metadata": {},
   "outputs": [
    {
     "data": {
      "text/plain": [
       "annualeffectiverate_199L\n",
       "True     15213904\n",
       "False      726633\n",
       "Name: count, dtype: int64"
      ]
     },
     "execution_count": 175,
     "metadata": {},
     "output_type": "execute_result"
    }
   ],
   "source": [
    "credit_bureau_a_1_df.annualeffectiverate_199L.isnull().value_counts()"
   ]
  },
  {
   "cell_type": "code",
   "execution_count": 176,
   "id": "66ea6de6-fc82-4d86-9c23-c08771fa3dde",
   "metadata": {},
   "outputs": [
    {
     "data": {
      "text/plain": [
       "'Interest rate for the active contracts.'"
      ]
     },
     "execution_count": 176,
     "metadata": {},
     "output_type": "execute_result"
    }
   ],
   "source": [
    "get_column_description(feature_df, \"annualeffectiverate_63L\")"
   ]
  },
  {
   "cell_type": "code",
   "execution_count": 177,
   "id": "9268bd74-6ecd-460d-9661-bd43e4ec49ad",
   "metadata": {},
   "outputs": [
    {
     "data": {
      "text/plain": [
       "annualeffectiverate_63L\n",
       "True     15629294\n",
       "False      311243\n",
       "Name: count, dtype: int64"
      ]
     },
     "execution_count": 177,
     "metadata": {},
     "output_type": "execute_result"
    }
   ],
   "source": [
    "credit_bureau_a_1_df.annualeffectiverate_63L.isnull().value_counts()"
   ]
  },
  {
   "cell_type": "code",
   "execution_count": 178,
   "id": "56e8a5aa-bc3b-462c-8990-77db4bd25af5",
   "metadata": {},
   "outputs": [
    {
     "data": {
      "text/html": [
       "<div>\n",
       "<style scoped>\n",
       "    .dataframe tbody tr th:only-of-type {\n",
       "        vertical-align: middle;\n",
       "    }\n",
       "\n",
       "    .dataframe tbody tr th {\n",
       "        vertical-align: top;\n",
       "    }\n",
       "\n",
       "    .dataframe thead th {\n",
       "        text-align: right;\n",
       "    }\n",
       "</style>\n",
       "<table border=\"1\" class=\"dataframe\">\n",
       "  <thead>\n",
       "    <tr style=\"text-align: right;\">\n",
       "      <th></th>\n",
       "      <th>case_id</th>\n",
       "      <th>num_group1</th>\n",
       "      <th>generated_has_active_contract</th>\n",
       "      <th>dateofcredstart_739D</th>\n",
       "      <th>dateofcredend_289D</th>\n",
       "      <th>annualeffectiverate_63L</th>\n",
       "    </tr>\n",
       "  </thead>\n",
       "  <tbody>\n",
       "    <tr>\n",
       "      <th>13149413</th>\n",
       "      <td>936684</td>\n",
       "      <td>0</td>\n",
       "      <td>1</td>\n",
       "      <td>2017-07-26</td>\n",
       "      <td>2021-07-26</td>\n",
       "      <td>NaN</td>\n",
       "    </tr>\n",
       "    <tr>\n",
       "      <th>13149414</th>\n",
       "      <td>936684</td>\n",
       "      <td>1</td>\n",
       "      <td>1</td>\n",
       "      <td>2015-03-19</td>\n",
       "      <td>2020-02-24</td>\n",
       "      <td>NaN</td>\n",
       "    </tr>\n",
       "    <tr>\n",
       "      <th>13149412</th>\n",
       "      <td>936684</td>\n",
       "      <td>2</td>\n",
       "      <td>1</td>\n",
       "      <td>2019-11-04</td>\n",
       "      <td>2022-11-04</td>\n",
       "      <td>18.82</td>\n",
       "    </tr>\n",
       "    <tr>\n",
       "      <th>13149415</th>\n",
       "      <td>936684</td>\n",
       "      <td>3</td>\n",
       "      <td>0</td>\n",
       "      <td>NaT</td>\n",
       "      <td>NaT</td>\n",
       "      <td>NaN</td>\n",
       "    </tr>\n",
       "    <tr>\n",
       "      <th>13149416</th>\n",
       "      <td>936684</td>\n",
       "      <td>4</td>\n",
       "      <td>0</td>\n",
       "      <td>NaT</td>\n",
       "      <td>NaT</td>\n",
       "      <td>NaN</td>\n",
       "    </tr>\n",
       "    <tr>\n",
       "      <th>13149417</th>\n",
       "      <td>936684</td>\n",
       "      <td>5</td>\n",
       "      <td>0</td>\n",
       "      <td>NaT</td>\n",
       "      <td>NaT</td>\n",
       "      <td>NaN</td>\n",
       "    </tr>\n",
       "    <tr>\n",
       "      <th>13149418</th>\n",
       "      <td>936684</td>\n",
       "      <td>6</td>\n",
       "      <td>0</td>\n",
       "      <td>NaT</td>\n",
       "      <td>NaT</td>\n",
       "      <td>NaN</td>\n",
       "    </tr>\n",
       "    <tr>\n",
       "      <th>13149419</th>\n",
       "      <td>936684</td>\n",
       "      <td>7</td>\n",
       "      <td>0</td>\n",
       "      <td>NaT</td>\n",
       "      <td>NaT</td>\n",
       "      <td>NaN</td>\n",
       "    </tr>\n",
       "    <tr>\n",
       "      <th>13149420</th>\n",
       "      <td>936684</td>\n",
       "      <td>8</td>\n",
       "      <td>0</td>\n",
       "      <td>NaT</td>\n",
       "      <td>NaT</td>\n",
       "      <td>NaN</td>\n",
       "    </tr>\n",
       "  </tbody>\n",
       "</table>\n",
       "</div>"
      ],
      "text/plain": [
       "          case_id  num_group1  generated_has_active_contract  \\\n",
       "13149413   936684           0                              1   \n",
       "13149414   936684           1                              1   \n",
       "13149412   936684           2                              1   \n",
       "13149415   936684           3                              0   \n",
       "13149416   936684           4                              0   \n",
       "13149417   936684           5                              0   \n",
       "13149418   936684           6                              0   \n",
       "13149419   936684           7                              0   \n",
       "13149420   936684           8                              0   \n",
       "\n",
       "         dateofcredstart_739D dateofcredend_289D  annualeffectiverate_63L  \n",
       "13149413           2017-07-26         2021-07-26                      NaN  \n",
       "13149414           2015-03-19         2020-02-24                      NaN  \n",
       "13149412           2019-11-04         2022-11-04                    18.82  \n",
       "13149415                  NaT                NaT                      NaN  \n",
       "13149416                  NaT                NaT                      NaN  \n",
       "13149417                  NaT                NaT                      NaN  \n",
       "13149418                  NaT                NaT                      NaN  \n",
       "13149419                  NaT                NaT                      NaN  \n",
       "13149420                  NaT                NaT                      NaN  "
      ]
     },
     "execution_count": 178,
     "metadata": {},
     "output_type": "execute_result"
    }
   ],
   "source": [
    "credit_bureau_a_1_df[credit_bureau_a_1_df.case_id == random.choice(credit_bureau_a_1_df.case_id.unique())].sort_values(by=[\"num_group1\"])[[\"case_id\", \"num_group1\", \"generated_has_active_contract\", \"dateofcredstart_739D\", \"dateofcredend_289D\", \"annualeffectiverate_63L\"]]"
   ]
  },
  {
   "cell_type": "markdown",
   "id": "c9c58099-e7d8-4e60-a0ca-487bbf8afbb6",
   "metadata": {},
   "source": [
    "## 5. classificationofcontr_13M, classificationofcontr_400M , contractst_545M, contractst_964M"
   ]
  },
  {
   "cell_type": "code",
   "execution_count": 179,
   "id": "15002fb5-1f86-4e26-9608-74599504278a",
   "metadata": {},
   "outputs": [
    {
     "data": {
      "text/plain": [
       "'Classificiation of the active contract.'"
      ]
     },
     "execution_count": 179,
     "metadata": {},
     "output_type": "execute_result"
    }
   ],
   "source": [
    "get_column_description(feature_df, \"classificationofcontr_13M\")"
   ]
  },
  {
   "cell_type": "code",
   "execution_count": 180,
   "id": "e8df1970-5f0f-4612-8e37-23e79fd82ad0",
   "metadata": {},
   "outputs": [
    {
     "data": {
      "text/plain": [
       "classificationofcontr_13M\n",
       "False    15940537\n",
       "Name: count, dtype: int64"
      ]
     },
     "execution_count": 180,
     "metadata": {},
     "output_type": "execute_result"
    }
   ],
   "source": [
    "credit_bureau_a_1_df.classificationofcontr_13M.isnull().value_counts()"
   ]
  },
  {
   "cell_type": "code",
   "execution_count": 181,
   "id": "1dbb9ede-c623-4da4-a534-a9cc7b16d395",
   "metadata": {},
   "outputs": [
    {
     "data": {
      "text/plain": [
       "classificationofcontr_13M\n",
       "a55475b1    13283816\n",
       "ea6782cc     2305054\n",
       "01f63ac8      226675\n",
       "00135d9c       82598\n",
       "4408ff0f       38248\n",
       "be7b251d        1834\n",
       "1cf4e481        1506\n",
       "2c070815         460\n",
       "87bdbcba         199\n",
       "4a5a01e3         139\n",
       "0d95a828           8\n",
       "Name: count, dtype: int64"
      ]
     },
     "execution_count": 181,
     "metadata": {},
     "output_type": "execute_result"
    }
   ],
   "source": [
    "credit_bureau_a_1_df.classificationofcontr_13M.value_counts()"
   ]
  },
  {
   "cell_type": "code",
   "execution_count": 182,
   "id": "828124ec-7a46-4cd8-8cc7-8d768c81754e",
   "metadata": {},
   "outputs": [
    {
     "data": {
      "text/plain": [
       "'Classificiation of the closed contract.'"
      ]
     },
     "execution_count": 182,
     "metadata": {},
     "output_type": "execute_result"
    }
   ],
   "source": [
    "get_column_description(feature_df, \"classificationofcontr_400M\")"
   ]
  },
  {
   "cell_type": "code",
   "execution_count": 183,
   "id": "58fd5bc1-1a80-43cc-8216-87abcbb6012c",
   "metadata": {},
   "outputs": [
    {
     "data": {
      "text/plain": [
       "classificationofcontr_400M\n",
       "False    15940537\n",
       "Name: count, dtype: int64"
      ]
     },
     "execution_count": 183,
     "metadata": {},
     "output_type": "execute_result"
    }
   ],
   "source": [
    "credit_bureau_a_1_df.classificationofcontr_400M.isnull().value_counts()"
   ]
  },
  {
   "cell_type": "code",
   "execution_count": 184,
   "id": "e4e8e02e-ece3-448a-9f28-745f427d8705",
   "metadata": {},
   "outputs": [
    {
     "data": {
      "text/plain": [
       "classificationofcontr_400M\n",
       "a55475b1    9199492\n",
       "ea6782cc    4113204\n",
       "01f63ac8     987176\n",
       "00135d9c     399620\n",
       "42a42e75     173049\n",
       "             ...   \n",
       "7e90d519          1\n",
       "2d45fbaa          1\n",
       "9d1e605e          1\n",
       "4b2a1f69          1\n",
       "8bd853b1          1\n",
       "Name: count, Length: 389, dtype: int64"
      ]
     },
     "execution_count": 184,
     "metadata": {},
     "output_type": "execute_result"
    }
   ],
   "source": [
    "credit_bureau_a_1_df.classificationofcontr_400M.value_counts()"
   ]
  },
  {
   "cell_type": "code",
   "execution_count": 185,
   "id": "e5383452-c8f1-4de5-9afc-7ca5f7278a95",
   "metadata": {},
   "outputs": [
    {
     "data": {
      "text/plain": [
       "'Contract status.'"
      ]
     },
     "execution_count": 185,
     "metadata": {},
     "output_type": "execute_result"
    }
   ],
   "source": [
    "get_column_description(feature_df, \"contractst_545M\")"
   ]
  },
  {
   "cell_type": "code",
   "execution_count": 186,
   "id": "0d3ecb29-85df-479f-99b1-5d183eb4630e",
   "metadata": {},
   "outputs": [
    {
     "data": {
      "text/plain": [
       "contractst_545M\n",
       "False    15940537\n",
       "Name: count, dtype: int64"
      ]
     },
     "execution_count": 186,
     "metadata": {},
     "output_type": "execute_result"
    }
   ],
   "source": [
    "credit_bureau_a_1_df.contractst_545M.isnull().value_counts()"
   ]
  },
  {
   "cell_type": "code",
   "execution_count": 187,
   "id": "41b041ed-2d40-4978-8a65-7df10429e580",
   "metadata": {},
   "outputs": [
    {
     "data": {
      "text/plain": [
       "contractst_545M\n",
       "a55475b1    13288714\n",
       "7241344e     2569115\n",
       "8f3a197f       23875\n",
       "0dc85f9d       19963\n",
       "dd67cff0        7463\n",
       "Name: count, dtype: int64"
      ]
     },
     "execution_count": 187,
     "metadata": {},
     "output_type": "execute_result"
    }
   ],
   "source": [
    "credit_bureau_a_1_df.contractst_545M.value_counts().head(5)"
   ]
  },
  {
   "cell_type": "code",
   "execution_count": 188,
   "id": "c65263ad-4cf8-4fc6-ad00-6278d9487b9f",
   "metadata": {},
   "outputs": [
    {
     "data": {
      "text/plain": [
       "'Contract status of terminated credit contract.'"
      ]
     },
     "execution_count": 188,
     "metadata": {},
     "output_type": "execute_result"
    }
   ],
   "source": [
    "get_column_description(feature_df, \"contractst_964M\")"
   ]
  },
  {
   "cell_type": "code",
   "execution_count": 189,
   "id": "b882511f-9092-426d-b246-6021ac79c8a2",
   "metadata": {},
   "outputs": [
    {
     "data": {
      "text/plain": [
       "contractst_964M\n",
       "a55475b1    9190981\n",
       "7241344e    6323407\n",
       "8f3a197f     107817\n",
       "a3386307      57211\n",
       "8260bab9      43586\n",
       "Name: count, dtype: int64"
      ]
     },
     "execution_count": 189,
     "metadata": {},
     "output_type": "execute_result"
    }
   ],
   "source": [
    "credit_bureau_a_1_df.contractst_964M.value_counts().head(5)"
   ]
  },
  {
   "cell_type": "code",
   "execution_count": 270,
   "id": "823c0663-50c2-4989-b446-3614c41f9f1e",
   "metadata": {},
   "outputs": [
    {
     "data": {
      "text/html": [
       "<div>\n",
       "<style scoped>\n",
       "    .dataframe tbody tr th:only-of-type {\n",
       "        vertical-align: middle;\n",
       "    }\n",
       "\n",
       "    .dataframe tbody tr th {\n",
       "        vertical-align: top;\n",
       "    }\n",
       "\n",
       "    .dataframe thead th {\n",
       "        text-align: right;\n",
       "    }\n",
       "</style>\n",
       "<table border=\"1\" class=\"dataframe\">\n",
       "  <thead>\n",
       "    <tr style=\"text-align: right;\">\n",
       "      <th></th>\n",
       "      <th>case_id</th>\n",
       "      <th>num_group1</th>\n",
       "      <th>generated_has_active_contract</th>\n",
       "      <th>dateofcredstart_739D</th>\n",
       "      <th>dateofcredend_289D</th>\n",
       "      <th>annualeffectiverate_63L</th>\n",
       "      <th>classificationofcontr_13M</th>\n",
       "      <th>contractst_545M</th>\n",
       "      <th>generated_has_closed_contract</th>\n",
       "      <th>dateofcredstart_181D</th>\n",
       "      <th>dateofcredend_353D</th>\n",
       "      <th>annualeffectiverate_199L</th>\n",
       "      <th>classificationofcontr_400M</th>\n",
       "      <th>contractst_964M</th>\n",
       "      <th>debtoutstand_525A</th>\n",
       "      <th>description_351M</th>\n",
       "    </tr>\n",
       "  </thead>\n",
       "  <tbody>\n",
       "    <tr>\n",
       "      <th>5201634</th>\n",
       "      <td>765044</td>\n",
       "      <td>0</td>\n",
       "      <td>1</td>\n",
       "      <td>2017-08-04</td>\n",
       "      <td>2021-08-04</td>\n",
       "      <td>NaN</td>\n",
       "      <td>ea6782cc</td>\n",
       "      <td>7241344e</td>\n",
       "      <td>0</td>\n",
       "      <td>NaT</td>\n",
       "      <td>NaT</td>\n",
       "      <td>NaN</td>\n",
       "      <td>a55475b1</td>\n",
       "      <td>a55475b1</td>\n",
       "      <td>40034.402</td>\n",
       "      <td>a55475b1</td>\n",
       "    </tr>\n",
       "    <tr>\n",
       "      <th>5201633</th>\n",
       "      <td>765044</td>\n",
       "      <td>1</td>\n",
       "      <td>1</td>\n",
       "      <td>2019-06-11</td>\n",
       "      <td>2022-06-11</td>\n",
       "      <td>NaN</td>\n",
       "      <td>ea6782cc</td>\n",
       "      <td>7241344e</td>\n",
       "      <td>0</td>\n",
       "      <td>NaT</td>\n",
       "      <td>NaT</td>\n",
       "      <td>NaN</td>\n",
       "      <td>a55475b1</td>\n",
       "      <td>a55475b1</td>\n",
       "      <td>NaN</td>\n",
       "      <td>a55475b1</td>\n",
       "    </tr>\n",
       "    <tr>\n",
       "      <th>5201635</th>\n",
       "      <td>765044</td>\n",
       "      <td>2</td>\n",
       "      <td>0</td>\n",
       "      <td>NaT</td>\n",
       "      <td>NaT</td>\n",
       "      <td>NaN</td>\n",
       "      <td>a55475b1</td>\n",
       "      <td>a55475b1</td>\n",
       "      <td>0</td>\n",
       "      <td>NaT</td>\n",
       "      <td>NaT</td>\n",
       "      <td>NaN</td>\n",
       "      <td>a55475b1</td>\n",
       "      <td>a55475b1</td>\n",
       "      <td>NaN</td>\n",
       "      <td>a55475b1</td>\n",
       "    </tr>\n",
       "    <tr>\n",
       "      <th>5201636</th>\n",
       "      <td>765044</td>\n",
       "      <td>3</td>\n",
       "      <td>0</td>\n",
       "      <td>NaT</td>\n",
       "      <td>NaT</td>\n",
       "      <td>NaN</td>\n",
       "      <td>a55475b1</td>\n",
       "      <td>a55475b1</td>\n",
       "      <td>0</td>\n",
       "      <td>NaT</td>\n",
       "      <td>NaT</td>\n",
       "      <td>NaN</td>\n",
       "      <td>a55475b1</td>\n",
       "      <td>a55475b1</td>\n",
       "      <td>NaN</td>\n",
       "      <td>a55475b1</td>\n",
       "    </tr>\n",
       "    <tr>\n",
       "      <th>5201637</th>\n",
       "      <td>765044</td>\n",
       "      <td>4</td>\n",
       "      <td>0</td>\n",
       "      <td>NaT</td>\n",
       "      <td>NaT</td>\n",
       "      <td>NaN</td>\n",
       "      <td>a55475b1</td>\n",
       "      <td>a55475b1</td>\n",
       "      <td>0</td>\n",
       "      <td>NaT</td>\n",
       "      <td>NaT</td>\n",
       "      <td>NaN</td>\n",
       "      <td>a55475b1</td>\n",
       "      <td>a55475b1</td>\n",
       "      <td>NaN</td>\n",
       "      <td>a55475b1</td>\n",
       "    </tr>\n",
       "    <tr>\n",
       "      <th>5201638</th>\n",
       "      <td>765044</td>\n",
       "      <td>5</td>\n",
       "      <td>0</td>\n",
       "      <td>NaT</td>\n",
       "      <td>NaT</td>\n",
       "      <td>NaN</td>\n",
       "      <td>a55475b1</td>\n",
       "      <td>a55475b1</td>\n",
       "      <td>0</td>\n",
       "      <td>NaT</td>\n",
       "      <td>NaT</td>\n",
       "      <td>NaN</td>\n",
       "      <td>a55475b1</td>\n",
       "      <td>a55475b1</td>\n",
       "      <td>NaN</td>\n",
       "      <td>a55475b1</td>\n",
       "    </tr>\n",
       "    <tr>\n",
       "      <th>5201639</th>\n",
       "      <td>765044</td>\n",
       "      <td>6</td>\n",
       "      <td>0</td>\n",
       "      <td>NaT</td>\n",
       "      <td>NaT</td>\n",
       "      <td>NaN</td>\n",
       "      <td>a55475b1</td>\n",
       "      <td>a55475b1</td>\n",
       "      <td>0</td>\n",
       "      <td>NaT</td>\n",
       "      <td>NaT</td>\n",
       "      <td>NaN</td>\n",
       "      <td>a55475b1</td>\n",
       "      <td>a55475b1</td>\n",
       "      <td>NaN</td>\n",
       "      <td>a55475b1</td>\n",
       "    </tr>\n",
       "    <tr>\n",
       "      <th>5201640</th>\n",
       "      <td>765044</td>\n",
       "      <td>7</td>\n",
       "      <td>0</td>\n",
       "      <td>NaT</td>\n",
       "      <td>NaT</td>\n",
       "      <td>NaN</td>\n",
       "      <td>a55475b1</td>\n",
       "      <td>a55475b1</td>\n",
       "      <td>0</td>\n",
       "      <td>NaT</td>\n",
       "      <td>NaT</td>\n",
       "      <td>NaN</td>\n",
       "      <td>a55475b1</td>\n",
       "      <td>a55475b1</td>\n",
       "      <td>NaN</td>\n",
       "      <td>a55475b1</td>\n",
       "    </tr>\n",
       "    <tr>\n",
       "      <th>5201641</th>\n",
       "      <td>765044</td>\n",
       "      <td>8</td>\n",
       "      <td>0</td>\n",
       "      <td>NaT</td>\n",
       "      <td>NaT</td>\n",
       "      <td>NaN</td>\n",
       "      <td>a55475b1</td>\n",
       "      <td>a55475b1</td>\n",
       "      <td>0</td>\n",
       "      <td>NaT</td>\n",
       "      <td>NaT</td>\n",
       "      <td>NaN</td>\n",
       "      <td>a55475b1</td>\n",
       "      <td>a55475b1</td>\n",
       "      <td>NaN</td>\n",
       "      <td>a55475b1</td>\n",
       "    </tr>\n",
       "  </tbody>\n",
       "</table>\n",
       "</div>"
      ],
      "text/plain": [
       "         case_id  num_group1  generated_has_active_contract  \\\n",
       "5201634   765044           0                              1   \n",
       "5201633   765044           1                              1   \n",
       "5201635   765044           2                              0   \n",
       "5201636   765044           3                              0   \n",
       "5201637   765044           4                              0   \n",
       "5201638   765044           5                              0   \n",
       "5201639   765044           6                              0   \n",
       "5201640   765044           7                              0   \n",
       "5201641   765044           8                              0   \n",
       "\n",
       "        dateofcredstart_739D dateofcredend_289D  annualeffectiverate_63L  \\\n",
       "5201634           2017-08-04         2021-08-04                      NaN   \n",
       "5201633           2019-06-11         2022-06-11                      NaN   \n",
       "5201635                  NaT                NaT                      NaN   \n",
       "5201636                  NaT                NaT                      NaN   \n",
       "5201637                  NaT                NaT                      NaN   \n",
       "5201638                  NaT                NaT                      NaN   \n",
       "5201639                  NaT                NaT                      NaN   \n",
       "5201640                  NaT                NaT                      NaN   \n",
       "5201641                  NaT                NaT                      NaN   \n",
       "\n",
       "        classificationofcontr_13M contractst_545M  \\\n",
       "5201634                  ea6782cc        7241344e   \n",
       "5201633                  ea6782cc        7241344e   \n",
       "5201635                  a55475b1        a55475b1   \n",
       "5201636                  a55475b1        a55475b1   \n",
       "5201637                  a55475b1        a55475b1   \n",
       "5201638                  a55475b1        a55475b1   \n",
       "5201639                  a55475b1        a55475b1   \n",
       "5201640                  a55475b1        a55475b1   \n",
       "5201641                  a55475b1        a55475b1   \n",
       "\n",
       "         generated_has_closed_contract dateofcredstart_181D  \\\n",
       "5201634                              0                  NaT   \n",
       "5201633                              0                  NaT   \n",
       "5201635                              0                  NaT   \n",
       "5201636                              0                  NaT   \n",
       "5201637                              0                  NaT   \n",
       "5201638                              0                  NaT   \n",
       "5201639                              0                  NaT   \n",
       "5201640                              0                  NaT   \n",
       "5201641                              0                  NaT   \n",
       "\n",
       "        dateofcredend_353D  annualeffectiverate_199L  \\\n",
       "5201634                NaT                       NaN   \n",
       "5201633                NaT                       NaN   \n",
       "5201635                NaT                       NaN   \n",
       "5201636                NaT                       NaN   \n",
       "5201637                NaT                       NaN   \n",
       "5201638                NaT                       NaN   \n",
       "5201639                NaT                       NaN   \n",
       "5201640                NaT                       NaN   \n",
       "5201641                NaT                       NaN   \n",
       "\n",
       "        classificationofcontr_400M contractst_964M  debtoutstand_525A  \\\n",
       "5201634                   a55475b1        a55475b1          40034.402   \n",
       "5201633                   a55475b1        a55475b1                NaN   \n",
       "5201635                   a55475b1        a55475b1                NaN   \n",
       "5201636                   a55475b1        a55475b1                NaN   \n",
       "5201637                   a55475b1        a55475b1                NaN   \n",
       "5201638                   a55475b1        a55475b1                NaN   \n",
       "5201639                   a55475b1        a55475b1                NaN   \n",
       "5201640                   a55475b1        a55475b1                NaN   \n",
       "5201641                   a55475b1        a55475b1                NaN   \n",
       "\n",
       "        description_351M  \n",
       "5201634         a55475b1  \n",
       "5201633         a55475b1  \n",
       "5201635         a55475b1  \n",
       "5201636         a55475b1  \n",
       "5201637         a55475b1  \n",
       "5201638         a55475b1  \n",
       "5201639         a55475b1  \n",
       "5201640         a55475b1  \n",
       "5201641         a55475b1  "
      ]
     },
     "execution_count": 270,
     "metadata": {},
     "output_type": "execute_result"
    }
   ],
   "source": [
    "\n",
    "credit_bureau_a_1_df[credit_bureau_a_1_df.case_id == random.choice(credit_bureau_a_1_df.case_id.unique())].sort_values(by=[\"num_group1\"], ascending=True)[[\"case_id\", \"num_group1\", \"generated_has_active_contract\", \"dateofcredstart_739D\", \"dateofcredend_289D\", \"annualeffectiverate_63L\", \"classificationofcontr_13M\", \"contractst_545M\", \"generated_has_closed_contract\", \"dateofcredstart_181D\", \"dateofcredend_353D\", \"annualeffectiverate_199L\",  \"classificationofcontr_400M\", \"contractst_964M\", \"debtoutstand_525A\", \"description_351M\"]]"
   ]
  },
  {
   "cell_type": "markdown",
   "id": "3216d7f7-9cea-4764-b0e2-6e8854815191",
   "metadata": {},
   "source": [
    "## Get most common classificationofcontr_13M and classificationofcontr_400M ignoring a55475b1"
   ]
  },
  {
   "cell_type": "code",
   "execution_count": 191,
   "id": "92575691-50a5-40b3-a90e-08280c0f9ab5",
   "metadata": {},
   "outputs": [],
   "source": [
    "statistics_classificationofcontr_13M_for_case_id_df = credit_bureau_a_1_df.groupby(by=[\"case_id\"]).agg(generated_classificationofcontr_13M_nunique=pd.NamedAgg(column=\"classificationofcontr_13M\", aggfunc=\"nunique\"), generated_classificationofcontr_13M_mode=pd.NamedAgg(column=\"classificationofcontr_13M\", aggfunc=lambda x:most_common_value(x, ignore_category=\"a55475b1\")))"
   ]
  },
  {
   "cell_type": "code",
   "execution_count": 192,
   "id": "fa0cf88c-dbfe-41ac-991d-19288616d5cc",
   "metadata": {},
   "outputs": [
    {
     "data": {
      "text/html": [
       "<div>\n",
       "<style scoped>\n",
       "    .dataframe tbody tr th:only-of-type {\n",
       "        vertical-align: middle;\n",
       "    }\n",
       "\n",
       "    .dataframe tbody tr th {\n",
       "        vertical-align: top;\n",
       "    }\n",
       "\n",
       "    .dataframe thead th {\n",
       "        text-align: right;\n",
       "    }\n",
       "</style>\n",
       "<table border=\"1\" class=\"dataframe\">\n",
       "  <thead>\n",
       "    <tr style=\"text-align: right;\">\n",
       "      <th></th>\n",
       "      <th>generated_classificationofcontr_13M_nunique</th>\n",
       "      <th>generated_classificationofcontr_13M_mode</th>\n",
       "    </tr>\n",
       "    <tr>\n",
       "      <th>case_id</th>\n",
       "      <th></th>\n",
       "      <th></th>\n",
       "    </tr>\n",
       "  </thead>\n",
       "  <tbody>\n",
       "    <tr>\n",
       "      <th>388</th>\n",
       "      <td>3</td>\n",
       "      <td>ea6782cc</td>\n",
       "    </tr>\n",
       "    <tr>\n",
       "      <th>405</th>\n",
       "      <td>3</td>\n",
       "      <td>ea6782cc</td>\n",
       "    </tr>\n",
       "    <tr>\n",
       "      <th>409</th>\n",
       "      <td>2</td>\n",
       "      <td>ea6782cc</td>\n",
       "    </tr>\n",
       "    <tr>\n",
       "      <th>410</th>\n",
       "      <td>2</td>\n",
       "      <td>ea6782cc</td>\n",
       "    </tr>\n",
       "    <tr>\n",
       "      <th>411</th>\n",
       "      <td>3</td>\n",
       "      <td>01f63ac8</td>\n",
       "    </tr>\n",
       "  </tbody>\n",
       "</table>\n",
       "</div>"
      ],
      "text/plain": [
       "         generated_classificationofcontr_13M_nunique  \\\n",
       "case_id                                                \n",
       "388                                                3   \n",
       "405                                                3   \n",
       "409                                                2   \n",
       "410                                                2   \n",
       "411                                                3   \n",
       "\n",
       "        generated_classificationofcontr_13M_mode  \n",
       "case_id                                           \n",
       "388                                     ea6782cc  \n",
       "405                                     ea6782cc  \n",
       "409                                     ea6782cc  \n",
       "410                                     ea6782cc  \n",
       "411                                     01f63ac8  "
      ]
     },
     "execution_count": 192,
     "metadata": {},
     "output_type": "execute_result"
    }
   ],
   "source": [
    "statistics_classificationofcontr_13M_for_case_id_df.head()"
   ]
  },
  {
   "cell_type": "code",
   "execution_count": 193,
   "id": "da9a9bbb-a3dd-46a5-bcc2-46bf31971226",
   "metadata": {},
   "outputs": [],
   "source": [
    "statistics_classificationofcontr_400M_for_case_id_df = credit_bureau_a_1_df.groupby(by=[\"case_id\"]).agg(generated_classificationofcontr_400M_nunique=pd.NamedAgg(column=\"classificationofcontr_400M\", aggfunc=\"nunique\"), generated_classificationofcontr_400M_mode=pd.NamedAgg(column=\"classificationofcontr_400M\", aggfunc=lambda x:most_common_value(x, ignore_category=\"a55475b1\")))"
   ]
  },
  {
   "cell_type": "code",
   "execution_count": 194,
   "id": "a6527493-f289-47a9-94c2-26a5049a3a74",
   "metadata": {},
   "outputs": [
    {
     "data": {
      "text/html": [
       "<div>\n",
       "<style scoped>\n",
       "    .dataframe tbody tr th:only-of-type {\n",
       "        vertical-align: middle;\n",
       "    }\n",
       "\n",
       "    .dataframe tbody tr th {\n",
       "        vertical-align: top;\n",
       "    }\n",
       "\n",
       "    .dataframe thead th {\n",
       "        text-align: right;\n",
       "    }\n",
       "</style>\n",
       "<table border=\"1\" class=\"dataframe\">\n",
       "  <thead>\n",
       "    <tr style=\"text-align: right;\">\n",
       "      <th></th>\n",
       "      <th>generated_classificationofcontr_400M_nunique</th>\n",
       "      <th>generated_classificationofcontr_400M_mode</th>\n",
       "    </tr>\n",
       "    <tr>\n",
       "      <th>case_id</th>\n",
       "      <th></th>\n",
       "      <th></th>\n",
       "    </tr>\n",
       "  </thead>\n",
       "  <tbody>\n",
       "    <tr>\n",
       "      <th>2703450</th>\n",
       "      <td>4</td>\n",
       "      <td>ea6782cc</td>\n",
       "    </tr>\n",
       "    <tr>\n",
       "      <th>2703451</th>\n",
       "      <td>2</td>\n",
       "      <td>ea6782cc</td>\n",
       "    </tr>\n",
       "    <tr>\n",
       "      <th>2703452</th>\n",
       "      <td>2</td>\n",
       "      <td>ea6782cc</td>\n",
       "    </tr>\n",
       "    <tr>\n",
       "      <th>2703453</th>\n",
       "      <td>4</td>\n",
       "      <td>ea6782cc</td>\n",
       "    </tr>\n",
       "    <tr>\n",
       "      <th>2703454</th>\n",
       "      <td>4</td>\n",
       "      <td>00135d9c</td>\n",
       "    </tr>\n",
       "  </tbody>\n",
       "</table>\n",
       "</div>"
      ],
      "text/plain": [
       "         generated_classificationofcontr_400M_nunique  \\\n",
       "case_id                                                 \n",
       "2703450                                             4   \n",
       "2703451                                             2   \n",
       "2703452                                             2   \n",
       "2703453                                             4   \n",
       "2703454                                             4   \n",
       "\n",
       "        generated_classificationofcontr_400M_mode  \n",
       "case_id                                            \n",
       "2703450                                  ea6782cc  \n",
       "2703451                                  ea6782cc  \n",
       "2703452                                  ea6782cc  \n",
       "2703453                                  ea6782cc  \n",
       "2703454                                  00135d9c  "
      ]
     },
     "execution_count": 194,
     "metadata": {},
     "output_type": "execute_result"
    }
   ],
   "source": [
    "statistics_classificationofcontr_400M_for_case_id_df.tail()"
   ]
  },
  {
   "cell_type": "markdown",
   "id": "e51a557e-762e-45d7-a53c-0298225dacf1",
   "metadata": {},
   "source": [
    "## Get most common contractst_545M and contractst_964M ignoring a55475b1"
   ]
  },
  {
   "cell_type": "code",
   "execution_count": 195,
   "id": "ef93297d-a549-44cf-8e8a-a60c300245ff",
   "metadata": {},
   "outputs": [],
   "source": [
    "statistics_contractst_545M_for_case_id_df = credit_bureau_a_1_df.groupby(by=[\"case_id\"]).agg(generated_contractst_545M_nunique=pd.NamedAgg(column=\"contractst_545M\", aggfunc=\"nunique\"), generated_contractst_545M_mode=pd.NamedAgg(column=\"contractst_545M\", aggfunc=lambda x:most_common_value(x, ignore_category=\"a55475b1\")))"
   ]
  },
  {
   "cell_type": "code",
   "execution_count": 196,
   "id": "8ebcc676-326d-4b6b-ba76-9b5ee79d9397",
   "metadata": {},
   "outputs": [
    {
     "data": {
      "text/html": [
       "<div>\n",
       "<style scoped>\n",
       "    .dataframe tbody tr th:only-of-type {\n",
       "        vertical-align: middle;\n",
       "    }\n",
       "\n",
       "    .dataframe tbody tr th {\n",
       "        vertical-align: top;\n",
       "    }\n",
       "\n",
       "    .dataframe thead th {\n",
       "        text-align: right;\n",
       "    }\n",
       "</style>\n",
       "<table border=\"1\" class=\"dataframe\">\n",
       "  <thead>\n",
       "    <tr style=\"text-align: right;\">\n",
       "      <th></th>\n",
       "      <th>generated_contractst_545M_nunique</th>\n",
       "      <th>generated_contractst_545M_mode</th>\n",
       "    </tr>\n",
       "    <tr>\n",
       "      <th>case_id</th>\n",
       "      <th></th>\n",
       "      <th></th>\n",
       "    </tr>\n",
       "  </thead>\n",
       "  <tbody>\n",
       "    <tr>\n",
       "      <th>2703450</th>\n",
       "      <td>2</td>\n",
       "      <td>7241344e</td>\n",
       "    </tr>\n",
       "    <tr>\n",
       "      <th>2703451</th>\n",
       "      <td>2</td>\n",
       "      <td>7241344e</td>\n",
       "    </tr>\n",
       "    <tr>\n",
       "      <th>2703452</th>\n",
       "      <td>2</td>\n",
       "      <td>7241344e</td>\n",
       "    </tr>\n",
       "    <tr>\n",
       "      <th>2703453</th>\n",
       "      <td>2</td>\n",
       "      <td>7241344e</td>\n",
       "    </tr>\n",
       "    <tr>\n",
       "      <th>2703454</th>\n",
       "      <td>2</td>\n",
       "      <td>7241344e</td>\n",
       "    </tr>\n",
       "  </tbody>\n",
       "</table>\n",
       "</div>"
      ],
      "text/plain": [
       "         generated_contractst_545M_nunique generated_contractst_545M_mode\n",
       "case_id                                                                  \n",
       "2703450                                  2                       7241344e\n",
       "2703451                                  2                       7241344e\n",
       "2703452                                  2                       7241344e\n",
       "2703453                                  2                       7241344e\n",
       "2703454                                  2                       7241344e"
      ]
     },
     "execution_count": 196,
     "metadata": {},
     "output_type": "execute_result"
    }
   ],
   "source": [
    "statistics_contractst_545M_for_case_id_df.tail()"
   ]
  },
  {
   "cell_type": "code",
   "execution_count": 197,
   "id": "1b73e453-1309-44f3-96d3-7b0b5b057064",
   "metadata": {},
   "outputs": [],
   "source": [
    "statistics_contractst_964M_for_case_id_df = credit_bureau_a_1_df.groupby(by=[\"case_id\"]).agg(generated_contractst_964M_nunique=pd.NamedAgg(column=\"contractst_964M\", aggfunc=\"nunique\"), generated_contractst_964M_mode=pd.NamedAgg(column=\"contractst_964M\", aggfunc=lambda x:most_common_value(x, ignore_category=\"a55475b1\")))"
   ]
  },
  {
   "cell_type": "code",
   "execution_count": 198,
   "id": "6e7a7d14-e243-4f63-90a9-72aaa37574d4",
   "metadata": {},
   "outputs": [
    {
     "data": {
      "text/html": [
       "<div>\n",
       "<style scoped>\n",
       "    .dataframe tbody tr th:only-of-type {\n",
       "        vertical-align: middle;\n",
       "    }\n",
       "\n",
       "    .dataframe tbody tr th {\n",
       "        vertical-align: top;\n",
       "    }\n",
       "\n",
       "    .dataframe thead th {\n",
       "        text-align: right;\n",
       "    }\n",
       "</style>\n",
       "<table border=\"1\" class=\"dataframe\">\n",
       "  <thead>\n",
       "    <tr style=\"text-align: right;\">\n",
       "      <th></th>\n",
       "      <th>generated_contractst_964M_nunique</th>\n",
       "      <th>generated_contractst_964M_mode</th>\n",
       "    </tr>\n",
       "    <tr>\n",
       "      <th>case_id</th>\n",
       "      <th></th>\n",
       "      <th></th>\n",
       "    </tr>\n",
       "  </thead>\n",
       "  <tbody>\n",
       "    <tr>\n",
       "      <th>2703450</th>\n",
       "      <td>2</td>\n",
       "      <td>7241344e</td>\n",
       "    </tr>\n",
       "    <tr>\n",
       "      <th>2703451</th>\n",
       "      <td>2</td>\n",
       "      <td>7241344e</td>\n",
       "    </tr>\n",
       "    <tr>\n",
       "      <th>2703452</th>\n",
       "      <td>2</td>\n",
       "      <td>7241344e</td>\n",
       "    </tr>\n",
       "    <tr>\n",
       "      <th>2703453</th>\n",
       "      <td>2</td>\n",
       "      <td>7241344e</td>\n",
       "    </tr>\n",
       "    <tr>\n",
       "      <th>2703454</th>\n",
       "      <td>2</td>\n",
       "      <td>7241344e</td>\n",
       "    </tr>\n",
       "  </tbody>\n",
       "</table>\n",
       "</div>"
      ],
      "text/plain": [
       "         generated_contractst_964M_nunique generated_contractst_964M_mode\n",
       "case_id                                                                  \n",
       "2703450                                  2                       7241344e\n",
       "2703451                                  2                       7241344e\n",
       "2703452                                  2                       7241344e\n",
       "2703453                                  2                       7241344e\n",
       "2703454                                  2                       7241344e"
      ]
     },
     "execution_count": 198,
     "metadata": {},
     "output_type": "execute_result"
    }
   ],
   "source": [
    "statistics_contractst_964M_for_case_id_df.tail()"
   ]
  },
  {
   "cell_type": "markdown",
   "id": "bb9da7e6-0f47-4573-a119-b481fd25245d",
   "metadata": {},
   "source": [
    "## 6. contractsum_5085717L"
   ]
  },
  {
   "cell_type": "code",
   "execution_count": 199,
   "id": "3ccbb792-7441-43d4-aee2-864626150408",
   "metadata": {},
   "outputs": [
    {
     "data": {
      "text/plain": [
       "'Sum of other contract values.'"
      ]
     },
     "execution_count": 199,
     "metadata": {},
     "output_type": "execute_result"
    }
   ],
   "source": [
    "get_column_description(feature_df, \"contractsum_5085717L\")"
   ]
  },
  {
   "cell_type": "markdown",
   "id": "19c1c57a-13d9-47f0-b528-27bd961606ef",
   "metadata": {},
   "source": [
    "## 6. credlmt_230A and credlmt_935A"
   ]
  },
  {
   "cell_type": "code",
   "execution_count": 200,
   "id": "d8fbd3db-6150-4c3c-bbde-0b8d0d7a3b53",
   "metadata": {},
   "outputs": [
    {
     "data": {
      "text/plain": [
       "'Credit limit of the closed credit contracts from credit bureau.'"
      ]
     },
     "execution_count": 200,
     "metadata": {},
     "output_type": "execute_result"
    }
   ],
   "source": [
    "get_column_description(feature_df, \"credlmt_230A\")"
   ]
  },
  {
   "cell_type": "code",
   "execution_count": 201,
   "id": "f24d9155-4463-4e15-81e9-4b1659c41b5e",
   "metadata": {},
   "outputs": [
    {
     "data": {
      "text/plain": [
       "'Credit limit for active loan.'"
      ]
     },
     "execution_count": 201,
     "metadata": {},
     "output_type": "execute_result"
    }
   ],
   "source": [
    "get_column_description(feature_df, \"credlmt_935A\")"
   ]
  },
  {
   "cell_type": "code",
   "execution_count": 202,
   "id": "eb0e912a-24ae-4f7e-97a4-4f2dba98ecbf",
   "metadata": {},
   "outputs": [
    {
     "data": {
      "text/html": [
       "<div>\n",
       "<style scoped>\n",
       "    .dataframe tbody tr th:only-of-type {\n",
       "        vertical-align: middle;\n",
       "    }\n",
       "\n",
       "    .dataframe tbody tr th {\n",
       "        vertical-align: top;\n",
       "    }\n",
       "\n",
       "    .dataframe thead th {\n",
       "        text-align: right;\n",
       "    }\n",
       "</style>\n",
       "<table border=\"1\" class=\"dataframe\">\n",
       "  <thead>\n",
       "    <tr style=\"text-align: right;\">\n",
       "      <th></th>\n",
       "      <th>case_id</th>\n",
       "      <th>num_group1</th>\n",
       "      <th>generated_has_active_contract</th>\n",
       "      <th>month_lapse_between_start_and_end_date_of_active_contract</th>\n",
       "      <th>dateofcredstart_739D</th>\n",
       "      <th>dateofcredend_289D</th>\n",
       "      <th>credlmt_935A</th>\n",
       "      <th>generated_has_closed_contract</th>\n",
       "      <th>month_lapse_between_start_and_end_date_of_closed_contract</th>\n",
       "      <th>dateofcredstart_181D</th>\n",
       "      <th>dateofcredend_353D</th>\n",
       "      <th>credlmt_230A</th>\n",
       "    </tr>\n",
       "  </thead>\n",
       "  <tbody>\n",
       "    <tr>\n",
       "      <th>13098860</th>\n",
       "      <td>930466</td>\n",
       "      <td>0</td>\n",
       "      <td>1</td>\n",
       "      <td>71.0</td>\n",
       "      <td>2015-06-11</td>\n",
       "      <td>2021-06-11</td>\n",
       "      <td>0.0</td>\n",
       "      <td>1</td>\n",
       "      <td>59.0</td>\n",
       "      <td>2006-01-11</td>\n",
       "      <td>2011-01-10</td>\n",
       "      <td>NaN</td>\n",
       "    </tr>\n",
       "    <tr>\n",
       "      <th>13098859</th>\n",
       "      <td>930466</td>\n",
       "      <td>1</td>\n",
       "      <td>0</td>\n",
       "      <td>NaN</td>\n",
       "      <td>NaT</td>\n",
       "      <td>NaT</td>\n",
       "      <td>NaN</td>\n",
       "      <td>1</td>\n",
       "      <td>24.0</td>\n",
       "      <td>2012-11-28</td>\n",
       "      <td>2014-11-28</td>\n",
       "      <td>6000.0</td>\n",
       "    </tr>\n",
       "    <tr>\n",
       "      <th>13098861</th>\n",
       "      <td>930466</td>\n",
       "      <td>2</td>\n",
       "      <td>0</td>\n",
       "      <td>NaN</td>\n",
       "      <td>NaT</td>\n",
       "      <td>NaT</td>\n",
       "      <td>NaN</td>\n",
       "      <td>1</td>\n",
       "      <td>6.0</td>\n",
       "      <td>2013-05-31</td>\n",
       "      <td>2013-12-01</td>\n",
       "      <td>NaN</td>\n",
       "    </tr>\n",
       "    <tr>\n",
       "      <th>13098857</th>\n",
       "      <td>930466</td>\n",
       "      <td>3</td>\n",
       "      <td>0</td>\n",
       "      <td>NaN</td>\n",
       "      <td>NaT</td>\n",
       "      <td>NaT</td>\n",
       "      <td>NaN</td>\n",
       "      <td>1</td>\n",
       "      <td>12.0</td>\n",
       "      <td>2018-03-03</td>\n",
       "      <td>2019-03-05</td>\n",
       "      <td>NaN</td>\n",
       "    </tr>\n",
       "    <tr>\n",
       "      <th>13098854</th>\n",
       "      <td>930466</td>\n",
       "      <td>4</td>\n",
       "      <td>0</td>\n",
       "      <td>NaN</td>\n",
       "      <td>NaT</td>\n",
       "      <td>NaT</td>\n",
       "      <td>NaN</td>\n",
       "      <td>1</td>\n",
       "      <td>12.0</td>\n",
       "      <td>2018-07-30</td>\n",
       "      <td>2019-07-30</td>\n",
       "      <td>NaN</td>\n",
       "    </tr>\n",
       "    <tr>\n",
       "      <th>13098855</th>\n",
       "      <td>930466</td>\n",
       "      <td>5</td>\n",
       "      <td>0</td>\n",
       "      <td>NaN</td>\n",
       "      <td>NaT</td>\n",
       "      <td>NaT</td>\n",
       "      <td>NaN</td>\n",
       "      <td>1</td>\n",
       "      <td>10.0</td>\n",
       "      <td>2018-12-26</td>\n",
       "      <td>2019-10-26</td>\n",
       "      <td>NaN</td>\n",
       "    </tr>\n",
       "    <tr>\n",
       "      <th>13098856</th>\n",
       "      <td>930466</td>\n",
       "      <td>6</td>\n",
       "      <td>0</td>\n",
       "      <td>NaN</td>\n",
       "      <td>NaT</td>\n",
       "      <td>NaT</td>\n",
       "      <td>NaN</td>\n",
       "      <td>1</td>\n",
       "      <td>12.0</td>\n",
       "      <td>2019-09-05</td>\n",
       "      <td>2020-09-05</td>\n",
       "      <td>NaN</td>\n",
       "    </tr>\n",
       "    <tr>\n",
       "      <th>13098858</th>\n",
       "      <td>930466</td>\n",
       "      <td>7</td>\n",
       "      <td>0</td>\n",
       "      <td>NaN</td>\n",
       "      <td>NaT</td>\n",
       "      <td>NaT</td>\n",
       "      <td>NaN</td>\n",
       "      <td>1</td>\n",
       "      <td>2.0</td>\n",
       "      <td>2019-09-05</td>\n",
       "      <td>2019-10-09</td>\n",
       "      <td>0.0</td>\n",
       "    </tr>\n",
       "    <tr>\n",
       "      <th>13098862</th>\n",
       "      <td>930466</td>\n",
       "      <td>8</td>\n",
       "      <td>0</td>\n",
       "      <td>NaN</td>\n",
       "      <td>NaT</td>\n",
       "      <td>NaT</td>\n",
       "      <td>NaN</td>\n",
       "      <td>0</td>\n",
       "      <td>NaN</td>\n",
       "      <td>NaT</td>\n",
       "      <td>NaT</td>\n",
       "      <td>NaN</td>\n",
       "    </tr>\n",
       "  </tbody>\n",
       "</table>\n",
       "</div>"
      ],
      "text/plain": [
       "          case_id  num_group1  generated_has_active_contract  \\\n",
       "13098860   930466           0                              1   \n",
       "13098859   930466           1                              0   \n",
       "13098861   930466           2                              0   \n",
       "13098857   930466           3                              0   \n",
       "13098854   930466           4                              0   \n",
       "13098855   930466           5                              0   \n",
       "13098856   930466           6                              0   \n",
       "13098858   930466           7                              0   \n",
       "13098862   930466           8                              0   \n",
       "\n",
       "          month_lapse_between_start_and_end_date_of_active_contract  \\\n",
       "13098860                                               71.0           \n",
       "13098859                                                NaN           \n",
       "13098861                                                NaN           \n",
       "13098857                                                NaN           \n",
       "13098854                                                NaN           \n",
       "13098855                                                NaN           \n",
       "13098856                                                NaN           \n",
       "13098858                                                NaN           \n",
       "13098862                                                NaN           \n",
       "\n",
       "         dateofcredstart_739D dateofcredend_289D  credlmt_935A  \\\n",
       "13098860           2015-06-11         2021-06-11           0.0   \n",
       "13098859                  NaT                NaT           NaN   \n",
       "13098861                  NaT                NaT           NaN   \n",
       "13098857                  NaT                NaT           NaN   \n",
       "13098854                  NaT                NaT           NaN   \n",
       "13098855                  NaT                NaT           NaN   \n",
       "13098856                  NaT                NaT           NaN   \n",
       "13098858                  NaT                NaT           NaN   \n",
       "13098862                  NaT                NaT           NaN   \n",
       "\n",
       "          generated_has_closed_contract  \\\n",
       "13098860                              1   \n",
       "13098859                              1   \n",
       "13098861                              1   \n",
       "13098857                              1   \n",
       "13098854                              1   \n",
       "13098855                              1   \n",
       "13098856                              1   \n",
       "13098858                              1   \n",
       "13098862                              0   \n",
       "\n",
       "          month_lapse_between_start_and_end_date_of_closed_contract  \\\n",
       "13098860                                               59.0           \n",
       "13098859                                               24.0           \n",
       "13098861                                                6.0           \n",
       "13098857                                               12.0           \n",
       "13098854                                               12.0           \n",
       "13098855                                               10.0           \n",
       "13098856                                               12.0           \n",
       "13098858                                                2.0           \n",
       "13098862                                                NaN           \n",
       "\n",
       "         dateofcredstart_181D dateofcredend_353D  credlmt_230A  \n",
       "13098860           2006-01-11         2011-01-10           NaN  \n",
       "13098859           2012-11-28         2014-11-28        6000.0  \n",
       "13098861           2013-05-31         2013-12-01           NaN  \n",
       "13098857           2018-03-03         2019-03-05           NaN  \n",
       "13098854           2018-07-30         2019-07-30           NaN  \n",
       "13098855           2018-12-26         2019-10-26           NaN  \n",
       "13098856           2019-09-05         2020-09-05           NaN  \n",
       "13098858           2019-09-05         2019-10-09           0.0  \n",
       "13098862                  NaT                NaT           NaN  "
      ]
     },
     "execution_count": 202,
     "metadata": {},
     "output_type": "execute_result"
    }
   ],
   "source": [
    "credit_bureau_a_1_df[credit_bureau_a_1_df.case_id == random.choice(credit_bureau_a_1_df.case_id.unique())].sort_values(by=[\"num_group1\"], ascending=True)[[\"case_id\", \"num_group1\", \"generated_has_active_contract\", \"month_lapse_between_start_and_end_date_of_active_contract\", \"dateofcredstart_739D\", \"dateofcredend_289D\", \"credlmt_935A\", \"generated_has_closed_contract\", \"month_lapse_between_start_and_end_date_of_closed_contract\", \"dateofcredstart_181D\", \"dateofcredend_353D\", \"credlmt_230A\"]]"
   ]
  },
  {
   "cell_type": "code",
   "execution_count": 203,
   "id": "6bf7581e-1a97-4499-a2e5-791da2abe5a8",
   "metadata": {},
   "outputs": [
    {
     "data": {
      "text/html": [
       "<div>\n",
       "<style scoped>\n",
       "    .dataframe tbody tr th:only-of-type {\n",
       "        vertical-align: middle;\n",
       "    }\n",
       "\n",
       "    .dataframe tbody tr th {\n",
       "        vertical-align: top;\n",
       "    }\n",
       "\n",
       "    .dataframe thead th {\n",
       "        text-align: right;\n",
       "    }\n",
       "</style>\n",
       "<table border=\"1\" class=\"dataframe\">\n",
       "  <thead>\n",
       "    <tr style=\"text-align: right;\">\n",
       "      <th></th>\n",
       "      <th>generated_max_credit_limit_for_active_contract</th>\n",
       "      <th>generated_max_credit_limit_for_closed_contract</th>\n",
       "    </tr>\n",
       "    <tr>\n",
       "      <th>case_id</th>\n",
       "      <th></th>\n",
       "      <th></th>\n",
       "    </tr>\n",
       "  </thead>\n",
       "  <tbody>\n",
       "    <tr>\n",
       "      <th>388</th>\n",
       "      <td>135806.0</td>\n",
       "      <td>NaN</td>\n",
       "    </tr>\n",
       "    <tr>\n",
       "      <th>405</th>\n",
       "      <td>0.0</td>\n",
       "      <td>NaN</td>\n",
       "    </tr>\n",
       "    <tr>\n",
       "      <th>409</th>\n",
       "      <td>NaN</td>\n",
       "      <td>NaN</td>\n",
       "    </tr>\n",
       "    <tr>\n",
       "      <th>410</th>\n",
       "      <td>0.0</td>\n",
       "      <td>NaN</td>\n",
       "    </tr>\n",
       "    <tr>\n",
       "      <th>411</th>\n",
       "      <td>160000.0</td>\n",
       "      <td>NaN</td>\n",
       "    </tr>\n",
       "    <tr>\n",
       "      <th>...</th>\n",
       "      <td>...</td>\n",
       "      <td>...</td>\n",
       "    </tr>\n",
       "    <tr>\n",
       "      <th>2703450</th>\n",
       "      <td>NaN</td>\n",
       "      <td>20600.0</td>\n",
       "    </tr>\n",
       "    <tr>\n",
       "      <th>2703451</th>\n",
       "      <td>NaN</td>\n",
       "      <td>NaN</td>\n",
       "    </tr>\n",
       "    <tr>\n",
       "      <th>2703452</th>\n",
       "      <td>53000.0</td>\n",
       "      <td>4000.0</td>\n",
       "    </tr>\n",
       "    <tr>\n",
       "      <th>2703453</th>\n",
       "      <td>NaN</td>\n",
       "      <td>0.0</td>\n",
       "    </tr>\n",
       "    <tr>\n",
       "      <th>2703454</th>\n",
       "      <td>NaN</td>\n",
       "      <td>35200.0</td>\n",
       "    </tr>\n",
       "  </tbody>\n",
       "</table>\n",
       "<p>1386273 rows × 2 columns</p>\n",
       "</div>"
      ],
      "text/plain": [
       "         generated_max_credit_limit_for_active_contract  \\\n",
       "case_id                                                   \n",
       "388                                            135806.0   \n",
       "405                                                 0.0   \n",
       "409                                                 NaN   \n",
       "410                                                 0.0   \n",
       "411                                            160000.0   \n",
       "...                                                 ...   \n",
       "2703450                                             NaN   \n",
       "2703451                                             NaN   \n",
       "2703452                                         53000.0   \n",
       "2703453                                             NaN   \n",
       "2703454                                             NaN   \n",
       "\n",
       "         generated_max_credit_limit_for_closed_contract  \n",
       "case_id                                                  \n",
       "388                                                 NaN  \n",
       "405                                                 NaN  \n",
       "409                                                 NaN  \n",
       "410                                                 NaN  \n",
       "411                                                 NaN  \n",
       "...                                                 ...  \n",
       "2703450                                         20600.0  \n",
       "2703451                                             NaN  \n",
       "2703452                                          4000.0  \n",
       "2703453                                             0.0  \n",
       "2703454                                         35200.0  \n",
       "\n",
       "[1386273 rows x 2 columns]"
      ]
     },
     "execution_count": 203,
     "metadata": {},
     "output_type": "execute_result"
    }
   ],
   "source": [
    "credit_bureau_a_1_df.groupby(by=[\"case_id\"]).agg(generated_max_credit_limit_for_active_contract=pd.NamedAgg(column=\"credlmt_935A\", aggfunc=\"max\"), generated_max_credit_limit_for_closed_contract=pd.NamedAgg(column=\"credlmt_230A\", aggfunc=\"max\"))"
   ]
  },
  {
   "cell_type": "markdown",
   "id": "a5a874dc-4fe8-4d0b-8309-b7cb1d13e638",
   "metadata": {},
   "source": [
    "## 7. dateofrealrepmt_138D"
   ]
  },
  {
   "cell_type": "code",
   "execution_count": 204,
   "id": "32792b4d-c523-4729-8bf5-f24e62caefd1",
   "metadata": {},
   "outputs": [
    {
     "data": {
      "text/plain": [
       "\"Date of credit's closure (contract termination date).\""
      ]
     },
     "execution_count": 204,
     "metadata": {},
     "output_type": "execute_result"
    }
   ],
   "source": [
    "get_column_description(feature_df, \"dateofrealrepmt_138D\")"
   ]
  },
  {
   "cell_type": "code",
   "execution_count": 205,
   "id": "1cec3c47-61c7-4eb4-b8c7-3d5077ed1fee",
   "metadata": {},
   "outputs": [],
   "source": [
    "credit_bureau_a_1_df.loc[credit_bureau_a_1_df.generated_has_closed_contract == 1, \"generated_closed_contract_end_type\"] = \"on_end_date\"\n",
    "credit_bureau_a_1_df.loc[(credit_bureau_a_1_df.generated_has_closed_contract == 1) & (credit_bureau_a_1_df[\"dateofrealrepmt_138D\"]<credit_bureau_a_1_df[\"dateofcredend_353D\"]), \"generated_closed_contract_end_type\"] = \"before_end_date\"\n",
    "credit_bureau_a_1_df.loc[(credit_bureau_a_1_df.generated_has_closed_contract == 1) & (credit_bureau_a_1_df[\"dateofrealrepmt_138D\"]>credit_bureau_a_1_df[\"dateofcredend_353D\"]), \"generated_closed_contract_end_type\"] = \"after_end_date\""
   ]
  },
  {
   "cell_type": "code",
   "execution_count": 206,
   "id": "e98553df-7116-4b7a-b41e-dbee02d0255c",
   "metadata": {},
   "outputs": [
    {
     "data": {
      "text/plain": [
       "generated_closed_contract_end_type\n",
       "before_end_date    3317682\n",
       "after_end_date     1806575\n",
       "on_end_date        1627935\n",
       "Name: count, dtype: int64"
      ]
     },
     "execution_count": 206,
     "metadata": {},
     "output_type": "execute_result"
    }
   ],
   "source": [
    "credit_bureau_a_1_df.generated_closed_contract_end_type.value_counts()"
   ]
  },
  {
   "cell_type": "code",
   "execution_count": 207,
   "id": "ec893733-c2c6-413a-b078-f5d990ab8b28",
   "metadata": {},
   "outputs": [],
   "source": [
    "credit_bureau_a_1_df[\"generated_days_lapse_between_real_end_and_stated_end_closed_contract\"] = np.nan\n",
    "credit_bureau_a_1_df.loc[(credit_bureau_a_1_df.generated_has_closed_contract == 1) & (credit_bureau_a_1_df.dateofcredstart_181D<=credit_bureau_a_1_df.dateofrealrepmt_138D), \"generated_days_lapse_between_real_end_and_stated_end_closed_contract\"] = (credit_bureau_a_1_df[\"dateofrealrepmt_138D\"]-credit_bureau_a_1_df[\"dateofcredend_353D\"]).dt.days"
   ]
  },
  {
   "cell_type": "code",
   "execution_count": 218,
   "id": "4be96f4f-9b64-4476-be25-df511ae6c052",
   "metadata": {},
   "outputs": [],
   "source": [
    "credit_bureau_a_1_df[\"month_lapse_between_start_and_real_end_date_of_closed_contract\"] = (credit_bureau_a_1_df[\"dateofrealrepmt_138D\"]-credit_bureau_a_1_df[\"dateofcredstart_181D\"])/np.timedelta64(1, 'M')\n",
    "credit_bureau_a_1_df[\"month_lapse_between_start_and_real_end_date_of_closed_contract\"] = credit_bureau_a_1_df[\"month_lapse_between_start_and_real_end_date_of_closed_contract\"].apply(lambda x: np.nan if pd.isna(x) else math.ceil(x))\n",
    "credit_bureau_a_1_df.loc[credit_bureau_a_1_df.month_lapse_between_start_and_real_end_date_of_closed_contract <0, \"month_lapse_between_start_and_real_end_date_of_closed_contract\"] = np.nan"
   ]
  },
  {
   "cell_type": "code",
   "execution_count": 225,
   "id": "469606a1-9630-4fc7-99bf-7a1a9436128d",
   "metadata": {},
   "outputs": [],
   "source": [
    "credit_bureau_a_1_df[\"proportion_of_time_taken_to_finish_contract\"] = credit_bureau_a_1_df[\"month_lapse_between_start_and_real_end_date_of_closed_contract\"]/credit_bureau_a_1_df[\"month_lapse_between_start_and_end_date_of_closed_contract\"]"
   ]
  },
  {
   "cell_type": "code",
   "execution_count": 233,
   "id": "385f9feb-74ef-4361-9100-45d0b5bd40d4",
   "metadata": {},
   "outputs": [
    {
     "data": {
      "text/html": [
       "<div>\n",
       "<style scoped>\n",
       "    .dataframe tbody tr th:only-of-type {\n",
       "        vertical-align: middle;\n",
       "    }\n",
       "\n",
       "    .dataframe tbody tr th {\n",
       "        vertical-align: top;\n",
       "    }\n",
       "\n",
       "    .dataframe thead th {\n",
       "        text-align: right;\n",
       "    }\n",
       "</style>\n",
       "<table border=\"1\" class=\"dataframe\">\n",
       "  <thead>\n",
       "    <tr style=\"text-align: right;\">\n",
       "      <th></th>\n",
       "      <th>generated_has_closed_contract</th>\n",
       "      <th>generated_closed_contract_end_type</th>\n",
       "      <th>contractst_964M</th>\n",
       "      <th>classificationofcontr_400M</th>\n",
       "      <th>dateofcredstart_181D</th>\n",
       "      <th>dateofcredend_353D</th>\n",
       "      <th>dateofrealrepmt_138D</th>\n",
       "      <th>month_lapse_between_start_and_real_end_date_of_closed_contract</th>\n",
       "      <th>month_lapse_between_start_and_end_date_of_closed_contract</th>\n",
       "      <th>proportion_of_time_taken_to_finish_contract</th>\n",
       "    </tr>\n",
       "  </thead>\n",
       "  <tbody>\n",
       "    <tr>\n",
       "      <th>4573541</th>\n",
       "      <td>1</td>\n",
       "      <td>before_end_date</td>\n",
       "      <td>7241344e</td>\n",
       "      <td>ea6782cc</td>\n",
       "      <td>2018-02-13</td>\n",
       "      <td>2020-02-13</td>\n",
       "      <td>2019-02-11</td>\n",
       "      <td>12.0</td>\n",
       "      <td>24.0</td>\n",
       "      <td>0.500000</td>\n",
       "    </tr>\n",
       "    <tr>\n",
       "      <th>4573546</th>\n",
       "      <td>1</td>\n",
       "      <td>before_end_date</td>\n",
       "      <td>7241344e</td>\n",
       "      <td>ea6782cc</td>\n",
       "      <td>2018-10-04</td>\n",
       "      <td>2019-04-03</td>\n",
       "      <td>2018-11-07</td>\n",
       "      <td>2.0</td>\n",
       "      <td>6.0</td>\n",
       "      <td>0.333333</td>\n",
       "    </tr>\n",
       "    <tr>\n",
       "      <th>4573551</th>\n",
       "      <td>0</td>\n",
       "      <td>NaN</td>\n",
       "      <td>a55475b1</td>\n",
       "      <td>a55475b1</td>\n",
       "      <td>NaT</td>\n",
       "      <td>NaT</td>\n",
       "      <td>NaT</td>\n",
       "      <td>NaN</td>\n",
       "      <td>NaN</td>\n",
       "      <td>NaN</td>\n",
       "    </tr>\n",
       "    <tr>\n",
       "      <th>4573552</th>\n",
       "      <td>0</td>\n",
       "      <td>NaN</td>\n",
       "      <td>a55475b1</td>\n",
       "      <td>a55475b1</td>\n",
       "      <td>NaT</td>\n",
       "      <td>NaT</td>\n",
       "      <td>NaT</td>\n",
       "      <td>NaN</td>\n",
       "      <td>NaN</td>\n",
       "      <td>NaN</td>\n",
       "    </tr>\n",
       "    <tr>\n",
       "      <th>4573553</th>\n",
       "      <td>0</td>\n",
       "      <td>NaN</td>\n",
       "      <td>a55475b1</td>\n",
       "      <td>a55475b1</td>\n",
       "      <td>NaT</td>\n",
       "      <td>NaT</td>\n",
       "      <td>NaT</td>\n",
       "      <td>NaN</td>\n",
       "      <td>NaN</td>\n",
       "      <td>NaN</td>\n",
       "    </tr>\n",
       "  </tbody>\n",
       "</table>\n",
       "</div>"
      ],
      "text/plain": [
       "         generated_has_closed_contract generated_closed_contract_end_type  \\\n",
       "4573541                              1                    before_end_date   \n",
       "4573546                              1                    before_end_date   \n",
       "4573551                              0                                NaN   \n",
       "4573552                              0                                NaN   \n",
       "4573553                              0                                NaN   \n",
       "\n",
       "        contractst_964M classificationofcontr_400M dateofcredstart_181D  \\\n",
       "4573541        7241344e                   ea6782cc           2018-02-13   \n",
       "4573546        7241344e                   ea6782cc           2018-10-04   \n",
       "4573551        a55475b1                   a55475b1                  NaT   \n",
       "4573552        a55475b1                   a55475b1                  NaT   \n",
       "4573553        a55475b1                   a55475b1                  NaT   \n",
       "\n",
       "        dateofcredend_353D dateofrealrepmt_138D  \\\n",
       "4573541         2020-02-13           2019-02-11   \n",
       "4573546         2019-04-03           2018-11-07   \n",
       "4573551                NaT                  NaT   \n",
       "4573552                NaT                  NaT   \n",
       "4573553                NaT                  NaT   \n",
       "\n",
       "         month_lapse_between_start_and_real_end_date_of_closed_contract  \\\n",
       "4573541                                               12.0                \n",
       "4573546                                                2.0                \n",
       "4573551                                                NaN                \n",
       "4573552                                                NaN                \n",
       "4573553                                                NaN                \n",
       "\n",
       "         month_lapse_between_start_and_end_date_of_closed_contract  \\\n",
       "4573541                                               24.0           \n",
       "4573546                                                6.0           \n",
       "4573551                                                NaN           \n",
       "4573552                                                NaN           \n",
       "4573553                                                NaN           \n",
       "\n",
       "         proportion_of_time_taken_to_finish_contract  \n",
       "4573541                                     0.500000  \n",
       "4573546                                     0.333333  \n",
       "4573551                                          NaN  \n",
       "4573552                                          NaN  \n",
       "4573553                                          NaN  "
      ]
     },
     "execution_count": 233,
     "metadata": {},
     "output_type": "execute_result"
    }
   ],
   "source": [
    "credit_bureau_a_1_df[credit_bureau_a_1_df.case_id == random.choice(credit_bureau_a_1_df.case_id.unique())].sort_values(by=[\"num_group1\"])[[\"generated_has_closed_contract\", \"generated_closed_contract_end_type\", \"contractst_964M\", \"classificationofcontr_400M\", \"dateofcredstart_181D\", \"dateofcredend_353D\", \"dateofrealrepmt_138D\", \"month_lapse_between_start_and_real_end_date_of_closed_contract\", \"month_lapse_between_start_and_end_date_of_closed_contract\", \"proportion_of_time_taken_to_finish_contract\"]].tail()"
   ]
  },
  {
   "cell_type": "code",
   "execution_count": 242,
   "id": "97e34892-fc4e-4400-aa3c-fe6e4e03fe82",
   "metadata": {},
   "outputs": [
    {
     "data": {
      "text/html": [
       "<div>\n",
       "<style scoped>\n",
       "    .dataframe tbody tr th:only-of-type {\n",
       "        vertical-align: middle;\n",
       "    }\n",
       "\n",
       "    .dataframe tbody tr th {\n",
       "        vertical-align: top;\n",
       "    }\n",
       "\n",
       "    .dataframe thead th {\n",
       "        text-align: right;\n",
       "    }\n",
       "</style>\n",
       "<table border=\"1\" class=\"dataframe\">\n",
       "  <thead>\n",
       "    <tr style=\"text-align: right;\">\n",
       "      <th></th>\n",
       "      <th>generated_has_closed_contract</th>\n",
       "      <th>generated_closed_contract_end_type</th>\n",
       "      <th>contractst_964M</th>\n",
       "      <th>classificationofcontr_400M</th>\n",
       "      <th>dateofcredstart_181D</th>\n",
       "      <th>dateofcredend_353D</th>\n",
       "      <th>dateofrealrepmt_138D</th>\n",
       "      <th>month_lapse_between_start_and_real_end_date_of_closed_contract</th>\n",
       "      <th>month_lapse_between_start_and_end_date_of_closed_contract</th>\n",
       "      <th>proportion_of_time_taken_to_finish_contract</th>\n",
       "    </tr>\n",
       "  </thead>\n",
       "  <tbody>\n",
       "    <tr>\n",
       "      <th>15940519</th>\n",
       "      <td>1</td>\n",
       "      <td>after_end_date</td>\n",
       "      <td>7241344e</td>\n",
       "      <td>ea6782cc</td>\n",
       "      <td>2014-02-14</td>\n",
       "      <td>2014-10-14</td>\n",
       "      <td>2015-07-06</td>\n",
       "      <td>17.0</td>\n",
       "      <td>8.0</td>\n",
       "      <td>2.125000</td>\n",
       "    </tr>\n",
       "    <tr>\n",
       "      <th>15940520</th>\n",
       "      <td>1</td>\n",
       "      <td>before_end_date</td>\n",
       "      <td>7241344e</td>\n",
       "      <td>00135d9c</td>\n",
       "      <td>2015-12-10</td>\n",
       "      <td>2016-12-02</td>\n",
       "      <td>2016-11-22</td>\n",
       "      <td>12.0</td>\n",
       "      <td>12.0</td>\n",
       "      <td>1.000000</td>\n",
       "    </tr>\n",
       "    <tr>\n",
       "      <th>15940521</th>\n",
       "      <td>1</td>\n",
       "      <td>before_end_date</td>\n",
       "      <td>7241344e</td>\n",
       "      <td>00135d9c</td>\n",
       "      <td>2015-08-10</td>\n",
       "      <td>2016-02-01</td>\n",
       "      <td>2015-12-10</td>\n",
       "      <td>4.0</td>\n",
       "      <td>6.0</td>\n",
       "      <td>0.666667</td>\n",
       "    </tr>\n",
       "    <tr>\n",
       "      <th>15940528</th>\n",
       "      <td>1</td>\n",
       "      <td>after_end_date</td>\n",
       "      <td>7241344e</td>\n",
       "      <td>ea6782cc</td>\n",
       "      <td>2017-10-23</td>\n",
       "      <td>2018-10-23</td>\n",
       "      <td>2018-10-24</td>\n",
       "      <td>12.0</td>\n",
       "      <td>12.0</td>\n",
       "      <td>1.000000</td>\n",
       "    </tr>\n",
       "    <tr>\n",
       "      <th>15940529</th>\n",
       "      <td>1</td>\n",
       "      <td>after_end_date</td>\n",
       "      <td>7241344e</td>\n",
       "      <td>ea6782cc</td>\n",
       "      <td>2019-01-02</td>\n",
       "      <td>2019-07-03</td>\n",
       "      <td>2019-07-04</td>\n",
       "      <td>6.0</td>\n",
       "      <td>6.0</td>\n",
       "      <td>1.000000</td>\n",
       "    </tr>\n",
       "  </tbody>\n",
       "</table>\n",
       "</div>"
      ],
      "text/plain": [
       "          generated_has_closed_contract generated_closed_contract_end_type  \\\n",
       "15940519                              1                     after_end_date   \n",
       "15940520                              1                    before_end_date   \n",
       "15940521                              1                    before_end_date   \n",
       "15940528                              1                     after_end_date   \n",
       "15940529                              1                     after_end_date   \n",
       "\n",
       "         contractst_964M classificationofcontr_400M dateofcredstart_181D  \\\n",
       "15940519        7241344e                   ea6782cc           2014-02-14   \n",
       "15940520        7241344e                   00135d9c           2015-12-10   \n",
       "15940521        7241344e                   00135d9c           2015-08-10   \n",
       "15940528        7241344e                   ea6782cc           2017-10-23   \n",
       "15940529        7241344e                   ea6782cc           2019-01-02   \n",
       "\n",
       "         dateofcredend_353D dateofrealrepmt_138D  \\\n",
       "15940519         2014-10-14           2015-07-06   \n",
       "15940520         2016-12-02           2016-11-22   \n",
       "15940521         2016-02-01           2015-12-10   \n",
       "15940528         2018-10-23           2018-10-24   \n",
       "15940529         2019-07-03           2019-07-04   \n",
       "\n",
       "          month_lapse_between_start_and_real_end_date_of_closed_contract  \\\n",
       "15940519                                               17.0                \n",
       "15940520                                               12.0                \n",
       "15940521                                                4.0                \n",
       "15940528                                               12.0                \n",
       "15940529                                                6.0                \n",
       "\n",
       "          month_lapse_between_start_and_end_date_of_closed_contract  \\\n",
       "15940519                                                8.0           \n",
       "15940520                                               12.0           \n",
       "15940521                                                6.0           \n",
       "15940528                                               12.0           \n",
       "15940529                                                6.0           \n",
       "\n",
       "          proportion_of_time_taken_to_finish_contract  \n",
       "15940519                                     2.125000  \n",
       "15940520                                     1.000000  \n",
       "15940521                                     0.666667  \n",
       "15940528                                     1.000000  \n",
       "15940529                                     1.000000  "
      ]
     },
     "execution_count": 242,
     "metadata": {},
     "output_type": "execute_result"
    }
   ],
   "source": [
    "credit_bureau_a_1_df[credit_bureau_a_1_df.month_lapse_between_start_and_end_date_of_closed_contract>1][[\"generated_has_closed_contract\", \"generated_closed_contract_end_type\", \"contractst_964M\", \"classificationofcontr_400M\", \"dateofcredstart_181D\", \"dateofcredend_353D\", \"dateofrealrepmt_138D\", \"month_lapse_between_start_and_real_end_date_of_closed_contract\", \"month_lapse_between_start_and_end_date_of_closed_contract\", \"proportion_of_time_taken_to_finish_contract\"]].tail()"
   ]
  },
  {
   "cell_type": "code",
   "execution_count": 240,
   "id": "cd3f8a16-3f6d-42b7-b819-e8372150500b",
   "metadata": {},
   "outputs": [
    {
     "data": {
      "text/plain": [
       "<Axes: xlabel='proportion_of_time_taken_to_finish_contract'>"
      ]
     },
     "execution_count": 240,
     "metadata": {},
     "output_type": "execute_result"
    },
    {
     "data": {
      "image/png": "[encoded data removed]",
      "text/plain": [
       "<Figure size 640x480 with 1 Axes>"
      ]
     },
     "metadata": {},
     "output_type": "display_data"
    }
   ],
   "source": [
    "sns.boxplot(data=credit_bureau_a_1_df[credit_bureau_a_1_df.month_lapse_between_start_and_end_date_of_closed_contract>1], x=\"proportion_of_time_taken_to_finish_contract\")"
   ]
  },
  {
   "cell_type": "markdown",
   "id": "d20eef41-94bb-4a05-b2e9-ca5376c2e4dc",
   "metadata": {},
   "source": [
    "## 8. debtoutstand_525A"
   ]
  },
  {
   "cell_type": "code",
   "execution_count": 243,
   "id": "5c12e7f9-0147-4de3-ba36-94ff1342562d",
   "metadata": {},
   "outputs": [
    {
     "data": {
      "text/plain": [
       "'Outstanding amount of existing contract.'"
      ]
     },
     "execution_count": 243,
     "metadata": {},
     "output_type": "execute_result"
    }
   ],
   "source": [
    "get_column_description(feature_df, \"debtoutstand_525A\")"
   ]
  },
  {
   "cell_type": "code",
   "execution_count": 247,
   "id": "d069374b-81d8-467f-ac63-575eb6c21f3f",
   "metadata": {},
   "outputs": [
    {
     "data": {
      "text/plain": [
       "debtoutstand_525A\n",
       "True     14554700\n",
       "False     1385837\n",
       "Name: count, dtype: int64"
      ]
     },
     "execution_count": 247,
     "metadata": {},
     "output_type": "execute_result"
    }
   ],
   "source": [
    "credit_bureau_a_1_df.debtoutstand_525A.isnull().value_counts()"
   ]
  },
  {
   "cell_type": "code",
   "execution_count": 244,
   "id": "0f6c46ce-51f8-4674-aba8-3be53dbba25e",
   "metadata": {},
   "outputs": [
    {
     "data": {
      "text/plain": [
       "\"Amount that is currently past due on a client's existing credit contract.\""
      ]
     },
     "execution_count": 244,
     "metadata": {},
     "output_type": "execute_result"
    }
   ],
   "source": [
    "get_column_description(feature_df, \"debtoverdue_47A\")"
   ]
  },
  {
   "cell_type": "code",
   "execution_count": 259,
   "id": "f1e4a612-2b43-4c53-bb1f-57a21fe509ec",
   "metadata": {},
   "outputs": [
    {
     "data": {
      "text/html": [
       "<div>\n",
       "<style scoped>\n",
       "    .dataframe tbody tr th:only-of-type {\n",
       "        vertical-align: middle;\n",
       "    }\n",
       "\n",
       "    .dataframe tbody tr th {\n",
       "        vertical-align: top;\n",
       "    }\n",
       "\n",
       "    .dataframe thead th {\n",
       "        text-align: right;\n",
       "    }\n",
       "</style>\n",
       "<table border=\"1\" class=\"dataframe\">\n",
       "  <thead>\n",
       "    <tr style=\"text-align: right;\">\n",
       "      <th></th>\n",
       "      <th>num_group1</th>\n",
       "      <th>generated_has_active_contract</th>\n",
       "      <th>generated_has_closed_contract</th>\n",
       "      <th>generated_closed_contract_end_type</th>\n",
       "      <th>contractst_964M</th>\n",
       "      <th>classificationofcontr_400M</th>\n",
       "      <th>dateofcredstart_181D</th>\n",
       "      <th>dateofcredend_353D</th>\n",
       "      <th>dateofrealrepmt_138D</th>\n",
       "      <th>month_lapse_between_start_and_real_end_date_of_closed_contract</th>\n",
       "      <th>month_lapse_between_start_and_end_date_of_closed_contract</th>\n",
       "      <th>proportion_of_time_taken_to_finish_contract</th>\n",
       "      <th>debtoutstand_525A</th>\n",
       "    </tr>\n",
       "  </thead>\n",
       "  <tbody>\n",
       "    <tr>\n",
       "      <th>10607940</th>\n",
       "      <td>1</td>\n",
       "      <td>0</td>\n",
       "      <td>1</td>\n",
       "      <td>before_end_date</td>\n",
       "      <td>7241344e</td>\n",
       "      <td>ea6782cc</td>\n",
       "      <td>2019-03-12</td>\n",
       "      <td>2019-09-20</td>\n",
       "      <td>2019-09-11</td>\n",
       "      <td>6.0</td>\n",
       "      <td>7.0</td>\n",
       "      <td>0.857143</td>\n",
       "      <td>44957.16</td>\n",
       "    </tr>\n",
       "    <tr>\n",
       "      <th>10606663</th>\n",
       "      <td>1</td>\n",
       "      <td>0</td>\n",
       "      <td>0</td>\n",
       "      <td>NaN</td>\n",
       "      <td>a55475b1</td>\n",
       "      <td>a55475b1</td>\n",
       "      <td>NaT</td>\n",
       "      <td>NaT</td>\n",
       "      <td>NaT</td>\n",
       "      <td>NaN</td>\n",
       "      <td>NaN</td>\n",
       "      <td>NaN</td>\n",
       "      <td>1630702.80</td>\n",
       "    </tr>\n",
       "    <tr>\n",
       "      <th>10818227</th>\n",
       "      <td>1</td>\n",
       "      <td>1</td>\n",
       "      <td>1</td>\n",
       "      <td>before_end_date</td>\n",
       "      <td>7241344e</td>\n",
       "      <td>ea6782cc</td>\n",
       "      <td>2013-08-20</td>\n",
       "      <td>2019-08-20</td>\n",
       "      <td>2019-05-18</td>\n",
       "      <td>68.0</td>\n",
       "      <td>71.0</td>\n",
       "      <td>0.957746</td>\n",
       "      <td>899535.10</td>\n",
       "    </tr>\n",
       "    <tr>\n",
       "      <th>13485817</th>\n",
       "      <td>1</td>\n",
       "      <td>0</td>\n",
       "      <td>0</td>\n",
       "      <td>NaN</td>\n",
       "      <td>a55475b1</td>\n",
       "      <td>a55475b1</td>\n",
       "      <td>NaT</td>\n",
       "      <td>NaT</td>\n",
       "      <td>NaT</td>\n",
       "      <td>NaN</td>\n",
       "      <td>NaN</td>\n",
       "      <td>NaN</td>\n",
       "      <td>82644.39</td>\n",
       "    </tr>\n",
       "    <tr>\n",
       "      <th>10743626</th>\n",
       "      <td>1</td>\n",
       "      <td>1</td>\n",
       "      <td>1</td>\n",
       "      <td>before_end_date</td>\n",
       "      <td>7241344e</td>\n",
       "      <td>01f63ac8</td>\n",
       "      <td>2018-03-05</td>\n",
       "      <td>2022-03-05</td>\n",
       "      <td>2019-04-30</td>\n",
       "      <td>14.0</td>\n",
       "      <td>48.0</td>\n",
       "      <td>0.291667</td>\n",
       "      <td>546310.94</td>\n",
       "    </tr>\n",
       "  </tbody>\n",
       "</table>\n",
       "</div>"
      ],
      "text/plain": [
       "          num_group1  generated_has_active_contract  \\\n",
       "10607940           1                              0   \n",
       "10606663           1                              0   \n",
       "10818227           1                              1   \n",
       "13485817           1                              0   \n",
       "10743626           1                              1   \n",
       "\n",
       "          generated_has_closed_contract generated_closed_contract_end_type  \\\n",
       "10607940                              1                    before_end_date   \n",
       "10606663                              0                                NaN   \n",
       "10818227                              1                    before_end_date   \n",
       "13485817                              0                                NaN   \n",
       "10743626                              1                    before_end_date   \n",
       "\n",
       "         contractst_964M classificationofcontr_400M dateofcredstart_181D  \\\n",
       "10607940        7241344e                   ea6782cc           2019-03-12   \n",
       "10606663        a55475b1                   a55475b1                  NaT   \n",
       "10818227        7241344e                   ea6782cc           2013-08-20   \n",
       "13485817        a55475b1                   a55475b1                  NaT   \n",
       "10743626        7241344e                   01f63ac8           2018-03-05   \n",
       "\n",
       "         dateofcredend_353D dateofrealrepmt_138D  \\\n",
       "10607940         2019-09-20           2019-09-11   \n",
       "10606663                NaT                  NaT   \n",
       "10818227         2019-08-20           2019-05-18   \n",
       "13485817                NaT                  NaT   \n",
       "10743626         2022-03-05           2019-04-30   \n",
       "\n",
       "          month_lapse_between_start_and_real_end_date_of_closed_contract  \\\n",
       "10607940                                                6.0                \n",
       "10606663                                                NaN                \n",
       "10818227                                               68.0                \n",
       "13485817                                                NaN                \n",
       "10743626                                               14.0                \n",
       "\n",
       "          month_lapse_between_start_and_end_date_of_closed_contract  \\\n",
       "10607940                                                7.0           \n",
       "10606663                                                NaN           \n",
       "10818227                                               71.0           \n",
       "13485817                                                NaN           \n",
       "10743626                                               48.0           \n",
       "\n",
       "          proportion_of_time_taken_to_finish_contract  debtoutstand_525A  \n",
       "10607940                                     0.857143           44957.16  \n",
       "10606663                                          NaN         1630702.80  \n",
       "10818227                                     0.957746          899535.10  \n",
       "13485817                                          NaN           82644.39  \n",
       "10743626                                     0.291667          546310.94  "
      ]
     },
     "execution_count": 259,
     "metadata": {},
     "output_type": "execute_result"
    }
   ],
   "source": [
    "credit_bureau_a_1_df[~credit_bureau_a_1_df.debtoutstand_525A.isnull()].sort_values(by=[\"num_group1\"])[[\"num_group1\", \"generated_has_active_contract\", \"generated_has_closed_contract\", \"generated_closed_contract_end_type\", \"contractst_964M\", \"classificationofcontr_400M\", \"dateofcredstart_181D\", \"dateofcredend_353D\", \"dateofrealrepmt_138D\", \"month_lapse_between_start_and_real_end_date_of_closed_contract\", \"month_lapse_between_start_and_end_date_of_closed_contract\", \"proportion_of_time_taken_to_finish_contract\", \"debtoutstand_525A\"]].tail()"
   ]
  },
  {
   "cell_type": "markdown",
   "id": "ac149432-5bb2-4da6-8760-5446e1baac9b",
   "metadata": {},
   "source": [
    "## 9. description_351M"
   ]
  },
  {
   "cell_type": "code",
   "execution_count": 261,
   "id": "5930f7ab-7fc3-4811-b8c6-004f7724e82a",
   "metadata": {},
   "outputs": [
    {
     "data": {
      "text/plain": [
       "'Categorization of clients by credit bureau.'"
      ]
     },
     "execution_count": 261,
     "metadata": {},
     "output_type": "execute_result"
    }
   ],
   "source": [
    "get_column_description(feature_df, \"description_351M\")"
   ]
  },
  {
   "cell_type": "code",
   "execution_count": 262,
   "id": "2e9379fd-e521-4294-b8ba-992d8c1b6ecf",
   "metadata": {},
   "outputs": [
    {
     "data": {
      "text/plain": [
       "description_351M\n",
       "False    15940537\n",
       "Name: count, dtype: int64"
      ]
     },
     "execution_count": 262,
     "metadata": {},
     "output_type": "execute_result"
    }
   ],
   "source": [
    "credit_bureau_a_1_df.description_351M.isnull().value_counts()"
   ]
  },
  {
   "cell_type": "code",
   "execution_count": 263,
   "id": "cab42889-16e7-4c84-8a66-c2e83fa626d9",
   "metadata": {},
   "outputs": [
    {
     "data": {
      "text/plain": [
       "description_351M\n",
       "a55475b1    15878544\n",
       "6da7c7ed       14573\n",
       "95decc86       10032\n",
       "f8e51f8d        6885\n",
       "53179c19        6599\n",
       "0349102c        6501\n",
       "1d89fa48        6326\n",
       "18e98e64        5547\n",
       "8a7423d5        2711\n",
       "0cb4d552        1960\n",
       "0bfbf8f5         833\n",
       "153cfa61          26\n",
       "Name: count, dtype: int64"
      ]
     },
     "execution_count": 263,
     "metadata": {},
     "output_type": "execute_result"
    }
   ],
   "source": [
    "credit_bureau_a_1_df.description_351M.value_counts()"
   ]
  },
  {
   "cell_type": "code",
   "execution_count": 271,
   "id": "d7e183ca-3f33-497a-aba1-6891018f5d18",
   "metadata": {},
   "outputs": [],
   "source": [
    "statistics_description_351M_for_case_id_df = credit_bureau_a_1_df.groupby(by=[\"case_id\"]).agg(generated_description_351M_nunique=pd.NamedAgg(column=\"description_351M\", aggfunc=\"nunique\"), generated_description_351M_mode=pd.NamedAgg(column=\"description_351M\", aggfunc=lambda x:most_common_value(x, ignore_category=\"\")))"
   ]
  },
  {
   "cell_type": "code",
   "execution_count": 274,
   "id": "ed1cac6b-a323-4b6b-9726-e0a05310c067",
   "metadata": {},
   "outputs": [
    {
     "name": "stdout",
     "output_type": "stream",
     "text": [
      "Shape of merged_train_base_statistics_description_351M_for_case_id_df: (1526659, 7)\n"
     ]
    }
   ],
   "source": [
    "merged_train_base_statistics_description_351M_for_case_id_df = train_base_df.merge(statistics_description_351M_for_case_id_df, left_on=[\"case_id\"], right_on=[\"case_id\"], validate=\"one_to_one\", how=\"left\")\n",
    "print(f\"Shape of merged_train_base_statistics_description_351M_for_case_id_df: {merged_train_base_statistics_description_351M_for_case_id_df.shape}\")"
   ]
  },
  {
   "cell_type": "code",
   "execution_count": 276,
   "id": "783e43cb-b03b-45c9-af91-3cebf051048e",
   "metadata": {},
   "outputs": [],
   "source": [
    "percent_default_for_generated_description_351M_mode_df = get_percent_of_column(merged_train_base_statistics_description_351M_for_case_id_df, \"generated_description_351M_mode\", \"target\")"
   ]
  },
  {
   "cell_type": "code",
   "execution_count": 279,
   "id": "85b2540f-6952-4dc6-9db2-86ef82bb37a1",
   "metadata": {},
   "outputs": [
    {
     "name": "stderr",
     "output_type": "stream",
     "text": [
      "/var/folders/qr/cmfkzy495k7b3bn80b7ygs080000gn/T/ipykernel_6806/3811779417.py:2: UserWarning: Matplotlib is currently using module://matplotlib_inline.backend_inline, which is a non-GUI backend, so cannot show the figure.\n",
      "  bar_plot.show()\n"
     ]
    },
    {
     "data": {
      "image/png": "[encoded data removed]",
      "text/plain": [
       "<Figure size 800x500 with 1 Axes>"
      ]
     },
     "metadata": {},
     "output_type": "display_data"
    }
   ],
   "source": [
    "bar_plot = plot_barplot(percent_default_for_generated_description_351M_mode_df, \"percentage_default\", \"generated_description_351M_mode\")\n",
    "bar_plot.show()"
   ]
  },
  {
   "cell_type": "code",
   "execution_count": 280,
   "id": "78989ec9-06b0-4725-ab82-f23cfee03779",
   "metadata": {},
   "outputs": [
    {
     "data": {
      "text/html": [
       "<div>\n",
       "<style scoped>\n",
       "    .dataframe tbody tr th:only-of-type {\n",
       "        vertical-align: middle;\n",
       "    }\n",
       "\n",
       "    .dataframe tbody tr th {\n",
       "        vertical-align: top;\n",
       "    }\n",
       "\n",
       "    .dataframe thead th {\n",
       "        text-align: right;\n",
       "    }\n",
       "</style>\n",
       "<table border=\"1\" class=\"dataframe\">\n",
       "  <thead>\n",
       "    <tr style=\"text-align: right;\">\n",
       "      <th></th>\n",
       "      <th>generated_description_351M_mode</th>\n",
       "      <th>target</th>\n",
       "      <th>total_rows</th>\n",
       "      <th>percentage_default</th>\n",
       "    </tr>\n",
       "  </thead>\n",
       "  <tbody>\n",
       "    <tr>\n",
       "      <th>0</th>\n",
       "      <td>0349102c</td>\n",
       "      <td>4</td>\n",
       "      <td>23</td>\n",
       "      <td>17.391304</td>\n",
       "    </tr>\n",
       "    <tr>\n",
       "      <th>1</th>\n",
       "      <td>0bfbf8f5</td>\n",
       "      <td>3</td>\n",
       "      <td>15</td>\n",
       "      <td>20.000000</td>\n",
       "    </tr>\n",
       "    <tr>\n",
       "      <th>2</th>\n",
       "      <td>0cb4d552</td>\n",
       "      <td>11</td>\n",
       "      <td>73</td>\n",
       "      <td>15.068493</td>\n",
       "    </tr>\n",
       "    <tr>\n",
       "      <th>3</th>\n",
       "      <td>18e98e64</td>\n",
       "      <td>0</td>\n",
       "      <td>20</td>\n",
       "      <td>0.000000</td>\n",
       "    </tr>\n",
       "    <tr>\n",
       "      <th>4</th>\n",
       "      <td>1d89fa48</td>\n",
       "      <td>4</td>\n",
       "      <td>35</td>\n",
       "      <td>11.428571</td>\n",
       "    </tr>\n",
       "    <tr>\n",
       "      <th>5</th>\n",
       "      <td>53179c19</td>\n",
       "      <td>34</td>\n",
       "      <td>241</td>\n",
       "      <td>14.107884</td>\n",
       "    </tr>\n",
       "    <tr>\n",
       "      <th>6</th>\n",
       "      <td>6da7c7ed</td>\n",
       "      <td>2</td>\n",
       "      <td>25</td>\n",
       "      <td>8.000000</td>\n",
       "    </tr>\n",
       "    <tr>\n",
       "      <th>7</th>\n",
       "      <td>8a7423d5</td>\n",
       "      <td>3</td>\n",
       "      <td>18</td>\n",
       "      <td>16.666667</td>\n",
       "    </tr>\n",
       "    <tr>\n",
       "      <th>8</th>\n",
       "      <td>95decc86</td>\n",
       "      <td>3</td>\n",
       "      <td>55</td>\n",
       "      <td>5.454545</td>\n",
       "    </tr>\n",
       "    <tr>\n",
       "      <th>9</th>\n",
       "      <td>a55475b1</td>\n",
       "      <td>43390</td>\n",
       "      <td>1385691</td>\n",
       "      <td>3.131290</td>\n",
       "    </tr>\n",
       "    <tr>\n",
       "      <th>10</th>\n",
       "      <td>f8e51f8d</td>\n",
       "      <td>7</td>\n",
       "      <td>77</td>\n",
       "      <td>9.090909</td>\n",
       "    </tr>\n",
       "  </tbody>\n",
       "</table>\n",
       "</div>"
      ],
      "text/plain": [
       "   generated_description_351M_mode  target  total_rows  percentage_default\n",
       "0                         0349102c       4          23           17.391304\n",
       "1                         0bfbf8f5       3          15           20.000000\n",
       "2                         0cb4d552      11          73           15.068493\n",
       "3                         18e98e64       0          20            0.000000\n",
       "4                         1d89fa48       4          35           11.428571\n",
       "5                         53179c19      34         241           14.107884\n",
       "6                         6da7c7ed       2          25            8.000000\n",
       "7                         8a7423d5       3          18           16.666667\n",
       "8                         95decc86       3          55            5.454545\n",
       "9                         a55475b1   43390     1385691            3.131290\n",
       "10                        f8e51f8d       7          77            9.090909"
      ]
     },
     "execution_count": 280,
     "metadata": {},
     "output_type": "execute_result"
    }
   ],
   "source": [
    "percent_default_for_generated_description_351M_mode_df"
   ]
  },
  {
   "cell_type": "markdown",
   "id": "9cbe940c-8e69-4177-9b70-a397d61d5443",
   "metadata": {},
   "source": [
    "## 10. dpdmax_139P and dpdmax_757P"
   ]
  },
  {
   "cell_type": "code",
   "execution_count": 281,
   "id": "08aa221b-a0d3-4c33-8c1d-ce1156ee51f4",
   "metadata": {},
   "outputs": [
    {
     "data": {
      "text/plain": [
       "'Maximal days past due for active contract.'"
      ]
     },
     "execution_count": 281,
     "metadata": {},
     "output_type": "execute_result"
    }
   ],
   "source": [
    "get_column_description(feature_df, \"dpdmax_139P\")"
   ]
  },
  {
   "cell_type": "code",
   "execution_count": 282,
   "id": "64b687bd-a93b-4002-84dc-df358f5fd3eb",
   "metadata": {},
   "outputs": [
    {
     "data": {
      "text/plain": [
       "'Maximum days past due for a closed contract.'"
      ]
     },
     "execution_count": 282,
     "metadata": {},
     "output_type": "execute_result"
    }
   ],
   "source": [
    "get_column_description(feature_df, \"dpdmax_757P\")"
   ]
  },
  {
   "cell_type": "code",
   "execution_count": 285,
   "id": "b8db4afe-b283-4dc1-94df-77ca77ba027c",
   "metadata": {},
   "outputs": [],
   "source": [
    "# def statistics_dpd(series):\n",
    "#     early_payment_series = series[series<=0]\n",
    "#     late_payment_series = series[series>0]\n",
    "#     if len(early_payment_series) != 0:\n",
    "#         max_early_payment = early_payment_series.min()\n",
    "#         min_early_payment = early_payment_series.max()\n",
    "#     else:\n",
    "#         max_early_payment = np.nan\n",
    "#         min_early_payment = np.nan\n",
    "\n",
    "#     if len(early_payment_series) !=0:\n",
    "#         max_late_payment = early_payment_series.max()\n",
    "#         min_late_payment = early_payment_series.min()\n",
    "#     else:\n",
    "#         max_late_payment = np.nan\n",
    "#         min_late_payment = np.nan\n",
    "\n",
    "#     return pd.Series([max_early_payment, min_early_payment, max_late_payment, min_late_payment])"
   ]
  },
  {
   "cell_type": "markdown",
   "id": "b90fc882-287a-45e3-8e22-d5986e50329e",
   "metadata": {},
   "source": [
    "## 11. financialinstitution_382M and financialinstitution_591M"
   ]
  },
  {
   "cell_type": "code",
   "execution_count": 287,
   "id": "1ef418eb-440f-4912-bb55-f1e4012501a8",
   "metadata": {},
   "outputs": [
    {
     "data": {
      "text/plain": [
       "'Name of financial institution that is linked to a closed contract.'"
      ]
     },
     "execution_count": 287,
     "metadata": {},
     "output_type": "execute_result"
    }
   ],
   "source": [
    "get_column_description(feature_df, \"financialinstitution_382M\")"
   ]
  },
  {
   "cell_type": "code",
   "execution_count": 288,
   "id": "6a73a7bb-775b-4987-b2b9-72050c426755",
   "metadata": {},
   "outputs": [
    {
     "data": {
      "text/plain": [
       "'Financial institution name of the active contract.'"
      ]
     },
     "execution_count": 288,
     "metadata": {},
     "output_type": "execute_result"
    }
   ],
   "source": [
    "get_column_description(feature_df, \"financialinstitution_591M\")"
   ]
  },
  {
   "cell_type": "code",
   "execution_count": 302,
   "id": "8288e203-e537-4f9b-8345-02b5b8d3cc6c",
   "metadata": {},
   "outputs": [],
   "source": [
    "statistics_financialinstitution_382M_for_case_id_df = credit_bureau_a_1_df.groupby(by=[\"case_id\"]).agg(generated_financialinstitution_382M_nunique=pd.NamedAgg(column=\"financialinstitution_382M\", aggfunc=\"nunique\"), generated_financialinstitution_382M_mode=pd.NamedAgg(column=\"financialinstitution_382M\", aggfunc=lambda x:most_common_value(x, ignore_category=\"\"))).reset_index()"
   ]
  },
  {
   "cell_type": "code",
   "execution_count": 303,
   "id": "f11a5a0c-78a6-48bd-94f0-e6c13cdf78fa",
   "metadata": {},
   "outputs": [],
   "source": [
    "statistics_financialinstitution_591M_for_case_id_df = credit_bureau_a_1_df.groupby(by=[\"case_id\"]).agg(generated_financialinstitution_591M_nunique=pd.NamedAgg(column=\"financialinstitution_591M\", aggfunc=\"nunique\"), generated_financialinstitution_591M_mode=pd.NamedAgg(column=\"financialinstitution_591M\", aggfunc=lambda x:most_common_value(x, ignore_category=\"\"))).reset_index()"
   ]
  },
  {
   "cell_type": "code",
   "execution_count": 304,
   "id": "eb5203a6-9fa3-4de5-a365-c3c59e6e7e3e",
   "metadata": {},
   "outputs": [],
   "source": [
    "statistics_financialinstitution_for_case_id_df = statistics_financialinstitution_382M_for_case_id_df.merge(statistics_financialinstitution_591M_for_case_id_df, left_on=[\"case_id\"], right_on=[\"case_id\"], validate=\"one_to_one\", how=\"outer\")"
   ]
  },
  {
   "cell_type": "code",
   "execution_count": 306,
   "id": "7eebca4d-6ecd-43bc-80f3-4569ab2388a7",
   "metadata": {},
   "outputs": [
    {
     "data": {
      "text/html": [
       "<div>\n",
       "<style scoped>\n",
       "    .dataframe tbody tr th:only-of-type {\n",
       "        vertical-align: middle;\n",
       "    }\n",
       "\n",
       "    .dataframe tbody tr th {\n",
       "        vertical-align: top;\n",
       "    }\n",
       "\n",
       "    .dataframe thead th {\n",
       "        text-align: right;\n",
       "    }\n",
       "</style>\n",
       "<table border=\"1\" class=\"dataframe\">\n",
       "  <thead>\n",
       "    <tr style=\"text-align: right;\">\n",
       "      <th></th>\n",
       "      <th>case_id</th>\n",
       "      <th>generated_financialinstitution_382M_nunique</th>\n",
       "      <th>generated_financialinstitution_382M_mode</th>\n",
       "      <th>generated_financialinstitution_591M_nunique</th>\n",
       "      <th>generated_financialinstitution_591M_mode</th>\n",
       "    </tr>\n",
       "  </thead>\n",
       "  <tbody>\n",
       "    <tr>\n",
       "      <th>127174</th>\n",
       "      <td>188648</td>\n",
       "      <td>5</td>\n",
       "      <td>P102_97_118</td>\n",
       "      <td>2</td>\n",
       "      <td>P102_97_118</td>\n",
       "    </tr>\n",
       "    <tr>\n",
       "      <th>270055</th>\n",
       "      <td>707688</td>\n",
       "      <td>4</td>\n",
       "      <td>P204_66_73</td>\n",
       "      <td>3</td>\n",
       "      <td>P102_97_118</td>\n",
       "    </tr>\n",
       "    <tr>\n",
       "      <th>310810</th>\n",
       "      <td>756122</td>\n",
       "      <td>2</td>\n",
       "      <td>6ac884b8</td>\n",
       "      <td>2</td>\n",
       "      <td>P102_97_118</td>\n",
       "    </tr>\n",
       "    <tr>\n",
       "      <th>322745</th>\n",
       "      <td>770312</td>\n",
       "      <td>4</td>\n",
       "      <td>50babcd4</td>\n",
       "      <td>2</td>\n",
       "      <td>P150_136_157</td>\n",
       "    </tr>\n",
       "    <tr>\n",
       "      <th>491453</th>\n",
       "      <td>967915</td>\n",
       "      <td>2</td>\n",
       "      <td>d6a7d943</td>\n",
       "      <td>5</td>\n",
       "      <td>d6a7d943</td>\n",
       "    </tr>\n",
       "  </tbody>\n",
       "</table>\n",
       "</div>"
      ],
      "text/plain": [
       "        case_id  generated_financialinstitution_382M_nunique  \\\n",
       "127174   188648                                            5   \n",
       "270055   707688                                            4   \n",
       "310810   756122                                            2   \n",
       "322745   770312                                            4   \n",
       "491453   967915                                            2   \n",
       "\n",
       "       generated_financialinstitution_382M_mode  \\\n",
       "127174                              P102_97_118   \n",
       "270055                               P204_66_73   \n",
       "310810                                 6ac884b8   \n",
       "322745                                 50babcd4   \n",
       "491453                                 d6a7d943   \n",
       "\n",
       "        generated_financialinstitution_591M_nunique  \\\n",
       "127174                                            2   \n",
       "270055                                            3   \n",
       "310810                                            2   \n",
       "322745                                            2   \n",
       "491453                                            5   \n",
       "\n",
       "       generated_financialinstitution_591M_mode  \n",
       "127174                              P102_97_118  \n",
       "270055                              P102_97_118  \n",
       "310810                              P102_97_118  \n",
       "322745                             P150_136_157  \n",
       "491453                                 d6a7d943  "
      ]
     },
     "execution_count": 306,
     "metadata": {},
     "output_type": "execute_result"
    }
   ],
   "source": [
    "statistics_financialinstitution_for_case_id_df[(statistics_financialinstitution_for_case_id_df.generated_financialinstitution_382M_mode != \"a55475b1\") & (statistics_financialinstitution_for_case_id_df.generated_financialinstitution_591M_mode != \"a55475b1\")]"
   ]
  },
  {
   "cell_type": "markdown",
   "id": "994458a5-b686-43e2-902a-412e5baa36b4",
   "metadata": {},
   "source": [
    "## 12. instlamount_768A and instlamount_852A"
   ]
  },
  {
   "cell_type": "code",
   "execution_count": 307,
   "id": "ed8b526b-680b-408d-94ec-e151d85b7a2f",
   "metadata": {},
   "outputs": [
    {
     "data": {
      "text/plain": [
       "'Instalment amount for the active contract in credit bureau.'"
      ]
     },
     "execution_count": 307,
     "metadata": {},
     "output_type": "execute_result"
    }
   ],
   "source": [
    "get_column_description(feature_df, \"instlamount_768A\")"
   ]
  },
  {
   "cell_type": "code",
   "execution_count": 308,
   "id": "20eb0f40-ac78-4b80-ab39-ba8520ada6e8",
   "metadata": {},
   "outputs": [
    {
     "data": {
      "text/plain": [
       "'Instalment amount for closed contract.'"
      ]
     },
     "execution_count": 308,
     "metadata": {},
     "output_type": "execute_result"
    }
   ],
   "source": [
    "get_column_description(feature_df, \"instlamount_852A\")"
   ]
  },
  {
   "cell_type": "code",
   "execution_count": 336,
   "id": "5ef7a0e6-bd33-42c4-a56e-aebe556178c3",
   "metadata": {},
   "outputs": [],
   "source": [
    "statistics_instlamount_768A_for_case_id_df = credit_bureau_a_1_df.groupby(by=[\"case_id\"]).agg({\"instlamount_768A\": [\"max\", \"min\", \"mean\", \"count\"]}).reset_index()\n",
    "statistics_instlamount_768A_for_case_id_df.columns  = ['case_id' if index_tuple[0] == 'case_id' else f\"generated_{index_tuple[0]}_{index_tuple[1]}\" for index_tuple in statistics_instlamount_768A_for_case_id_df.columns]"
   ]
  },
  {
   "cell_type": "code",
   "execution_count": 337,
   "id": "1ae7e302-2455-4b62-96a0-ef1a9b207d90",
   "metadata": {},
   "outputs": [],
   "source": [
    "statistics_instlamount_852A_for_case_id_df = credit_bureau_a_1_df.groupby(by=[\"case_id\"]).agg({\"instlamount_852A\": [\"max\", \"min\", \"mean\", \"count\"]}).reset_index()\n",
    "statistics_instlamount_852A_for_case_id_df.columns  = ['case_id' if index_tuple[0] == 'case_id' else f\"generated_{index_tuple[0]}_{index_tuple[1]}\" for index_tuple in statistics_instlamount_852A_for_case_id_df.columns]"
   ]
  },
  {
   "cell_type": "code",
   "execution_count": 338,
   "id": "97542b73-7560-473d-a0bb-2522c6e96a99",
   "metadata": {},
   "outputs": [],
   "source": [
    "statistics_instlamount_for_case_id_df = statistics_instlamount_768A_for_case_id_df.merge(statistics_instlamount_852A_for_case_id_df, left_on=[\"case_id\"], right_on=[\"case_id\"], validate=\"one_to_one\", how=\"outer\")"
   ]
  },
  {
   "cell_type": "code",
   "execution_count": 339,
   "id": "8e348fc2-f8c0-489b-944f-5ea170fccb4e",
   "metadata": {},
   "outputs": [
    {
     "name": "stdout",
     "output_type": "stream",
     "text": [
      "Shape of merged_train_base_statistics_instlamount_for_case_id_df_for_case_id_df: (1526659, 13)\n"
     ]
    }
   ],
   "source": [
    "merged_train_base_statistics_instlamount_for_case_id_df_for_case_id_df = train_base_df.merge(statistics_instlamount_for_case_id_df, left_on=[\"case_id\"], right_on=[\"case_id\"], validate=\"one_to_one\", how=\"left\")\n",
    "print(f\"Shape of merged_train_base_statistics_instlamount_for_case_id_df_for_case_id_df: {merged_train_base_statistics_instlamount_for_case_id_df_for_case_id_df.shape}\")"
   ]
  },
  {
   "cell_type": "code",
   "execution_count": 340,
   "id": "3ecd1b8d-5a59-4d12-8e11-d2bec92a5ec7",
   "metadata": {},
   "outputs": [
    {
     "data": {
      "text/plain": [
       "<Axes: xlabel='target', ylabel='generated_instlamount_768A_max'>"
      ]
     },
     "execution_count": 340,
     "metadata": {},
     "output_type": "execute_result"
    },
    {
     "data": {
      "image/png": "[encoded data removed]",
      "text/plain": [
       "<Figure size 640x480 with 1 Axes>"
      ]
     },
     "metadata": {},
     "output_type": "display_data"
    }
   ],
   "source": [
    "sns.boxplot(data=merged_train_base_statistics_instlamount_for_case_id_df_for_case_id_df, y=\"generated_instlamount_768A_max\", x=\"target\")"
   ]
  },
  {
   "cell_type": "code",
   "execution_count": 341,
   "id": "35631585-ea06-44c5-9ad1-1fda642413ad",
   "metadata": {},
   "outputs": [
    {
     "data": {
      "text/plain": [
       "<Axes: xlabel='target', ylabel='generated_instlamount_852A_max'>"
      ]
     },
     "execution_count": 341,
     "metadata": {},
     "output_type": "execute_result"
    },
    {
     "data": {
      "image/png": "[encoded data removed]",
      "text/plain": [
       "<Figure size 640x480 with 1 Axes>"
      ]
     },
     "metadata": {},
     "output_type": "display_data"
    }
   ],
   "source": [
    "sns.boxplot(data=merged_train_base_statistics_instlamount_for_case_id_df_for_case_id_df, y=\"generated_instlamount_852A_max\", x=\"target\")"
   ]
  },
  {
   "cell_type": "code",
   "execution_count": 327,
   "id": "436f4acb-9458-4bc0-8320-5c53b737758e",
   "metadata": {},
   "outputs": [],
   "source": [
    "#plot_scatterplot(merged_train_base_statistics_financialinstitution_for_case_id_df, \"generated_instlamount_768A_max\", \"generated_instlamount_852A_max\", show_x_y_line=False)"
   ]
  },
  {
   "cell_type": "code",
   "execution_count": null,
   "id": "78fdf6a8-078a-4685-a016-009ae3b3d1ce",
   "metadata": {},
   "outputs": [],
   "source": [
    "## target=0 has higher max instalment amount for active and closed contracts"
   ]
  },
  {
   "cell_type": "markdown",
   "id": "a07900fa-b160-49c8-81ad-ecaf0f54aa68",
   "metadata": {},
   "source": [
    "## 13. interestrate_508L"
   ]
  },
  {
   "cell_type": "code",
   "execution_count": 328,
   "id": "80a4f572-8fe0-4412-a1d9-a1a50584a48b",
   "metadata": {},
   "outputs": [
    {
     "data": {
      "text/plain": [
       "'Interest rate for a closed contract in the credit bureau.'"
      ]
     },
     "execution_count": 328,
     "metadata": {},
     "output_type": "execute_result"
    }
   ],
   "source": [
    "get_column_description(feature_df, \"interestrate_508L\")"
   ]
  },
  {
   "cell_type": "markdown",
   "id": "d822aaac-fb8c-4bf9-930a-32b80186fb9b",
   "metadata": {},
   "source": [
    "## 14. monthlyinstlamount_332A and monthlyinstlamount_674A"
   ]
  },
  {
   "cell_type": "code",
   "execution_count": 330,
   "id": "530bcaa9-6e93-4151-b125-e1464d6ec42f",
   "metadata": {},
   "outputs": [
    {
     "data": {
      "text/plain": [
       "'Monthly instalment amount for active contract.'"
      ]
     },
     "execution_count": 330,
     "metadata": {},
     "output_type": "execute_result"
    }
   ],
   "source": [
    "get_column_description(feature_df, \"monthlyinstlamount_332A\")"
   ]
  },
  {
   "cell_type": "code",
   "execution_count": 331,
   "id": "28d9c3d1-6aae-4aec-979a-3c8a32652cd1",
   "metadata": {},
   "outputs": [
    {
     "data": {
      "text/plain": [
       "'Monthly amount of instalment payment on a closed contract.'"
      ]
     },
     "execution_count": 331,
     "metadata": {},
     "output_type": "execute_result"
    }
   ],
   "source": [
    "get_column_description(feature_df, \"monthlyinstlamount_674A\")"
   ]
  },
  {
   "cell_type": "code",
   "execution_count": 334,
   "id": "9e0e8e97-a915-4249-936c-be4ab71a46dc",
   "metadata": {},
   "outputs": [],
   "source": [
    "statistics_monthlyinstlamount_332A_for_case_id_df = credit_bureau_a_1_df.groupby(by=[\"case_id\"]).agg({\"monthlyinstlamount_332A\": [\"max\", \"min\", \"mean\", \"count\"]}).reset_index()\n",
    "statistics_monthlyinstlamount_332A_for_case_id_df.columns  = ['case_id' if index_tuple[0] == 'case_id' else f\"generated_{index_tuple[0]}_{index_tuple[1]}\" for index_tuple in statistics_monthlyinstlamount_332A_for_case_id_df.columns]"
   ]
  },
  {
   "cell_type": "code",
   "execution_count": 335,
   "id": "393737d7-2664-4888-8594-da422dfc4c63",
   "metadata": {},
   "outputs": [],
   "source": [
    "statistics_monthlyinstlamount_674A_for_case_id_df = credit_bureau_a_1_df.groupby(by=[\"case_id\"]).agg({\"monthlyinstlamount_674A\": [\"max\", \"min\", \"mean\", \"count\"]}).reset_index()\n",
    "statistics_monthlyinstlamount_674A_for_case_id_df.columns  = ['case_id' if index_tuple[0] == 'case_id' else f\"generated_{index_tuple[0]}_{index_tuple[1]}\" for index_tuple in statistics_monthlyinstlamount_674A_for_case_id_df.columns]"
   ]
  },
  {
   "cell_type": "code",
   "execution_count": 342,
   "id": "28b76fe2-2477-4dd4-8e3f-587b15ce784d",
   "metadata": {},
   "outputs": [],
   "source": [
    "statistics_monthlyinstlamount_for_case_id_df = statistics_monthlyinstlamount_332A_for_case_id_df.merge(statistics_monthlyinstlamount_674A_for_case_id_df, left_on=[\"case_id\"], right_on=[\"case_id\"], validate=\"one_to_one\", how=\"outer\")"
   ]
  },
  {
   "cell_type": "code",
   "execution_count": 343,
   "id": "65a9012d-97d5-4897-86ee-e8061f96e53c",
   "metadata": {},
   "outputs": [
    {
     "name": "stdout",
     "output_type": "stream",
     "text": [
      "Shape of merged_train_base_statistics_monthlyinstlamount_for_case_id_df: (1526659, 13)\n"
     ]
    }
   ],
   "source": [
    "merged_train_base_statistics_monthlyinstlamount_for_case_id_df = train_base_df.merge(statistics_monthlyinstlamount_for_case_id_df, left_on=[\"case_id\"], right_on=[\"case_id\"], validate=\"one_to_one\", how=\"left\")\n",
    "print(f\"Shape of merged_train_base_statistics_monthlyinstlamount_for_case_id_df: {merged_train_base_statistics_monthlyinstlamount_for_case_id_df.shape}\")"
   ]
  },
  {
   "cell_type": "code",
   "execution_count": 345,
   "id": "414fb96e-1620-44c5-9ee6-fb3783228484",
   "metadata": {},
   "outputs": [
    {
     "data": {
      "text/plain": [
       "<Axes: xlabel='target', ylabel='generated_monthlyinstlamount_332A_max'>"
      ]
     },
     "execution_count": 345,
     "metadata": {},
     "output_type": "execute_result"
    },
    {
     "data": {
      "image/png": "[encoded data removed]",
      "text/plain": [
       "<Figure size 640x480 with 1 Axes>"
      ]
     },
     "metadata": {},
     "output_type": "display_data"
    }
   ],
   "source": [
    "sns.boxplot(data=merged_train_base_statistics_monthlyinstlamount_for_case_id_df, y=\"generated_monthlyinstlamount_332A_max\", x=\"target\")"
   ]
  },
  {
   "cell_type": "code",
   "execution_count": 346,
   "id": "2b7b2543-2d0a-4a6a-8eb6-1c6a2dbc6c4c",
   "metadata": {},
   "outputs": [
    {
     "data": {
      "text/plain": [
       "<Axes: xlabel='target', ylabel='generated_monthlyinstlamount_674A_max'>"
      ]
     },
     "execution_count": 346,
     "metadata": {},
     "output_type": "execute_result"
    },
    {
     "data": {
      "image/png": "[encoded data removed]",
      "text/plain": [
       "<Figure size 640x480 with 1 Axes>"
      ]
     },
     "metadata": {},
     "output_type": "display_data"
    }
   ],
   "source": [
    "sns.boxplot(data=merged_train_base_statistics_monthlyinstlamount_for_case_id_df, y=\"generated_monthlyinstlamount_674A_max\", x=\"target\")"
   ]
  },
  {
   "cell_type": "code",
   "execution_count": 350,
   "id": "307e94ef-ad1e-40c8-8e92-0e7cf66f31e9",
   "metadata": {},
   "outputs": [],
   "source": [
    "#plot_scatterplot(credit_bureau_a_1_df, \"instlamount_768A\", \"monthlyinstlamount_332A\", show_x_y_line=False)"
   ]
  },
  {
   "cell_type": "markdown",
   "id": "2ba95d87-35aa-4394-bf6d-5a0aad39d65c",
   "metadata": {},
   "source": [
    "### 1. processingdate_168D"
   ]
  },
  {
   "cell_type": "code",
   "execution_count": null,
   "id": "04f01158-b304-40c6-81e0-cdd7b633003e",
   "metadata": {},
   "outputs": [],
   "source": [
    "get_column_description(feature_df, \"processingdate_168D\")"
   ]
  },
  {
   "cell_type": "code",
   "execution_count": null,
   "id": "1ce62dd5-261f-4dfc-8ebc-6e76a6464f63",
   "metadata": {},
   "outputs": [],
   "source": [
    "tax_registry_c_1_df.processingdate_168D.isnull().value_counts()"
   ]
  },
  {
   "cell_type": "code",
   "execution_count": null,
   "id": "b7069470-8ce8-43c0-89b7-ecae82764a00",
   "metadata": {},
   "outputs": [],
   "source": [
    "## Check across how unique dates are tax deduction records for a given case_id\n",
    "statistics_processingdate_168D_for_case_id_df = tax_registry_c_1_df.groupby(by=[\"case_id\"]).agg({\"processingdate_168D\": [\"nunique\", \"max\"]}).reset_index()\n",
    "statistics_processingdate_168D_for_case_id_df.columns  = ['case_id' if index_tuple[0] == 'case_id' else f\"generated_{index_tuple[0]}_{index_tuple[1]}\" for index_tuple in statistics_processingdate_168D_for_case_id_df.columns]"
   ]
  },
  {
   "cell_type": "code",
   "execution_count": null,
   "id": "4b00eb68-38fb-421c-aeac-b3a72e308489",
   "metadata": {},
   "outputs": [],
   "source": [
    "statistics_processingdate_168D_for_case_id_df.head(2)"
   ]
  },
  {
   "cell_type": "code",
   "execution_count": null,
   "id": "2fd1d942-831f-4f48-8775-fcd95dd08f07",
   "metadata": {},
   "outputs": [],
   "source": [
    "print(f\"Minimum number of unique dates associated with case_id: {statistics_processingdate_168D_for_case_id_df['generated_processingdate_168D_nunique'].min()}\")\n",
    "print(f\"Maximum number of unique dates associated with case_id: {statistics_processingdate_168D_for_case_id_df['generated_processingdate_168D_nunique'].max()}\")"
   ]
  },
  {
   "cell_type": "code",
   "execution_count": 351,
   "id": "3bacb280-fd93-4212-9a3b-37dee2b4e755",
   "metadata": {},
   "outputs": [],
   "source": [
    "#plot_scatterplot(credit_bureau_a_1_df, \"instlamount_852A\", \"monthlyinstlamount_674A\", show_x_y_line=False)"
   ]
  },
  {
   "cell_type": "markdown",
   "id": "d43d4887-fb61-4c99-b3c2-ca59f50c4035",
   "metadata": {},
   "source": [
    "## 15. numberofcontrsvalue_258L and numberofcontrsvalue_358L"
   ]
  },
  {
   "cell_type": "code",
   "execution_count": 375,
   "id": "3277d042-e24e-4a94-8c7b-e82653f94e15",
   "metadata": {},
   "outputs": [
    {
     "data": {
      "text/plain": [
       "'Number of active contracts in credit bureau.'"
      ]
     },
     "execution_count": 375,
     "metadata": {},
     "output_type": "execute_result"
    }
   ],
   "source": [
    "get_column_description(feature_df, \"numberofcontrsvalue_258L\")"
   ]
  },
  {
   "cell_type": "code",
   "execution_count": 353,
   "id": "7cbd016a-b2db-4e5f-bb17-171d1bf22ccb",
   "metadata": {},
   "outputs": [
    {
     "data": {
      "text/plain": [
       "'Number of closed credit contracts.'"
      ]
     },
     "execution_count": 353,
     "metadata": {},
     "output_type": "execute_result"
    }
   ],
   "source": [
    "get_column_description(feature_df, \"numberofcontrsvalue_358L\")"
   ]
  },
  {
   "cell_type": "code",
   "execution_count": 367,
   "id": "7eb829a8-8ec3-44ad-80d8-60a45a276f69",
   "metadata": {},
   "outputs": [
    {
     "data": {
      "text/html": [
       "<div>\n",
       "<style scoped>\n",
       "    .dataframe tbody tr th:only-of-type {\n",
       "        vertical-align: middle;\n",
       "    }\n",
       "\n",
       "    .dataframe tbody tr th {\n",
       "        vertical-align: top;\n",
       "    }\n",
       "\n",
       "    .dataframe thead th {\n",
       "        text-align: right;\n",
       "    }\n",
       "</style>\n",
       "<table border=\"1\" class=\"dataframe\">\n",
       "  <thead>\n",
       "    <tr style=\"text-align: right;\">\n",
       "      <th></th>\n",
       "      <th>lastupdate_1112D</th>\n",
       "      <th>dateofcredstart_739D</th>\n",
       "      <th>dateofcredend_289D</th>\n",
       "      <th>numberofcontrsvalue_258L</th>\n",
       "    </tr>\n",
       "  </thead>\n",
       "  <tbody>\n",
       "    <tr>\n",
       "      <th>3577303</th>\n",
       "      <td>2019-02-21</td>\n",
       "      <td>2018-05-02</td>\n",
       "      <td>2023-05-02</td>\n",
       "      <td>3.0</td>\n",
       "    </tr>\n",
       "    <tr>\n",
       "      <th>3577302</th>\n",
       "      <td>2019-02-12</td>\n",
       "      <td>2018-05-18</td>\n",
       "      <td>2020-05-18</td>\n",
       "      <td>NaN</td>\n",
       "    </tr>\n",
       "    <tr>\n",
       "      <th>3577301</th>\n",
       "      <td>2019-02-09</td>\n",
       "      <td>2018-10-12</td>\n",
       "      <td>2020-10-12</td>\n",
       "      <td>NaN</td>\n",
       "    </tr>\n",
       "    <tr>\n",
       "      <th>3577304</th>\n",
       "      <td>None</td>\n",
       "      <td>NaT</td>\n",
       "      <td>NaT</td>\n",
       "      <td>NaN</td>\n",
       "    </tr>\n",
       "    <tr>\n",
       "      <th>3577305</th>\n",
       "      <td>None</td>\n",
       "      <td>NaT</td>\n",
       "      <td>NaT</td>\n",
       "      <td>NaN</td>\n",
       "    </tr>\n",
       "    <tr>\n",
       "      <th>3577306</th>\n",
       "      <td>None</td>\n",
       "      <td>NaT</td>\n",
       "      <td>NaT</td>\n",
       "      <td>NaN</td>\n",
       "    </tr>\n",
       "    <tr>\n",
       "      <th>3577307</th>\n",
       "      <td>None</td>\n",
       "      <td>NaT</td>\n",
       "      <td>NaT</td>\n",
       "      <td>NaN</td>\n",
       "    </tr>\n",
       "    <tr>\n",
       "      <th>3577308</th>\n",
       "      <td>None</td>\n",
       "      <td>NaT</td>\n",
       "      <td>NaT</td>\n",
       "      <td>NaN</td>\n",
       "    </tr>\n",
       "    <tr>\n",
       "      <th>3577309</th>\n",
       "      <td>None</td>\n",
       "      <td>NaT</td>\n",
       "      <td>NaT</td>\n",
       "      <td>NaN</td>\n",
       "    </tr>\n",
       "    <tr>\n",
       "      <th>3577310</th>\n",
       "      <td>None</td>\n",
       "      <td>NaT</td>\n",
       "      <td>NaT</td>\n",
       "      <td>NaN</td>\n",
       "    </tr>\n",
       "    <tr>\n",
       "      <th>3577311</th>\n",
       "      <td>None</td>\n",
       "      <td>NaT</td>\n",
       "      <td>NaT</td>\n",
       "      <td>NaN</td>\n",
       "    </tr>\n",
       "  </tbody>\n",
       "</table>\n",
       "</div>"
      ],
      "text/plain": [
       "        lastupdate_1112D dateofcredstart_739D dateofcredend_289D  \\\n",
       "3577303       2019-02-21           2018-05-02         2023-05-02   \n",
       "3577302       2019-02-12           2018-05-18         2020-05-18   \n",
       "3577301       2019-02-09           2018-10-12         2020-10-12   \n",
       "3577304             None                  NaT                NaT   \n",
       "3577305             None                  NaT                NaT   \n",
       "3577306             None                  NaT                NaT   \n",
       "3577307             None                  NaT                NaT   \n",
       "3577308             None                  NaT                NaT   \n",
       "3577309             None                  NaT                NaT   \n",
       "3577310             None                  NaT                NaT   \n",
       "3577311             None                  NaT                NaT   \n",
       "\n",
       "         numberofcontrsvalue_258L  \n",
       "3577303                       3.0  \n",
       "3577302                       NaN  \n",
       "3577301                       NaN  \n",
       "3577304                       NaN  \n",
       "3577305                       NaN  \n",
       "3577306                       NaN  \n",
       "3577307                       NaN  \n",
       "3577308                       NaN  \n",
       "3577309                       NaN  \n",
       "3577310                       NaN  \n",
       "3577311                       NaN  "
      ]
     },
     "execution_count": 367,
     "metadata": {},
     "output_type": "execute_result"
    }
   ],
   "source": [
    "credit_bureau_a_1_df[credit_bureau_a_1_df.case_id == random.choice(credit_bureau_a_1_df.case_id.unique())].sort_values(by=[\"num_group1\"], ascending=True)[[\"lastupdate_1112D\", \"dateofcredstart_739D\", \"dateofcredend_289D\", \"numberofcontrsvalue_258L\"]]"
   ]
  },
  {
   "cell_type": "code",
   "execution_count": 371,
   "id": "6fc845e6-a9ef-4b87-9e94-1928fc4fd376",
   "metadata": {},
   "outputs": [
    {
     "data": {
      "text/html": [
       "<div>\n",
       "<style scoped>\n",
       "    .dataframe tbody tr th:only-of-type {\n",
       "        vertical-align: middle;\n",
       "    }\n",
       "\n",
       "    .dataframe tbody tr th {\n",
       "        vertical-align: top;\n",
       "    }\n",
       "\n",
       "    .dataframe thead th {\n",
       "        text-align: right;\n",
       "    }\n",
       "</style>\n",
       "<table border=\"1\" class=\"dataframe\">\n",
       "  <thead>\n",
       "    <tr style=\"text-align: right;\">\n",
       "      <th></th>\n",
       "      <th>lastupdate_388D</th>\n",
       "      <th>dateofcredstart_181D</th>\n",
       "      <th>dateofcredend_353D</th>\n",
       "      <th>dateofrealrepmt_138D</th>\n",
       "      <th>numberofcontrsvalue_358L</th>\n",
       "    </tr>\n",
       "  </thead>\n",
       "  <tbody>\n",
       "    <tr>\n",
       "      <th>7393361</th>\n",
       "      <td>2017-05-25</td>\n",
       "      <td>2015-04-13</td>\n",
       "      <td>2016-04-15</td>\n",
       "      <td>2016-04-15</td>\n",
       "      <td>11.0</td>\n",
       "    </tr>\n",
       "    <tr>\n",
       "      <th>7393362</th>\n",
       "      <td>2018-01-16</td>\n",
       "      <td>2016-04-11</td>\n",
       "      <td>2017-01-15</td>\n",
       "      <td>2017-01-15</td>\n",
       "      <td>NaN</td>\n",
       "    </tr>\n",
       "    <tr>\n",
       "      <th>7393359</th>\n",
       "      <td>2017-03-19</td>\n",
       "      <td>2016-09-28</td>\n",
       "      <td>2017-04-14</td>\n",
       "      <td>2017-03-19</td>\n",
       "      <td>NaN</td>\n",
       "    </tr>\n",
       "    <tr>\n",
       "      <th>7393367</th>\n",
       "      <td>2017-11-23</td>\n",
       "      <td>2017-04-28</td>\n",
       "      <td>2022-04-24</td>\n",
       "      <td>2017-11-21</td>\n",
       "      <td>NaN</td>\n",
       "    </tr>\n",
       "    <tr>\n",
       "      <th>7393364</th>\n",
       "      <td>2019-01-01</td>\n",
       "      <td>2017-06-03</td>\n",
       "      <td>2018-06-15</td>\n",
       "      <td>2018-06-15</td>\n",
       "      <td>NaN</td>\n",
       "    </tr>\n",
       "    <tr>\n",
       "      <th>7393360</th>\n",
       "      <td>2019-01-08</td>\n",
       "      <td>2017-08-10</td>\n",
       "      <td>2019-06-14</td>\n",
       "      <td>2019-01-08</td>\n",
       "      <td>NaN</td>\n",
       "    </tr>\n",
       "    <tr>\n",
       "      <th>7393366</th>\n",
       "      <td>2018-08-10</td>\n",
       "      <td>2017-11-21</td>\n",
       "      <td>2022-05-21</td>\n",
       "      <td>2018-08-10</td>\n",
       "      <td>NaN</td>\n",
       "    </tr>\n",
       "    <tr>\n",
       "      <th>7393365</th>\n",
       "      <td>2019-01-09</td>\n",
       "      <td>2017-11-29</td>\n",
       "      <td>2018-11-29</td>\n",
       "      <td>2018-11-29</td>\n",
       "      <td>NaN</td>\n",
       "    </tr>\n",
       "    <tr>\n",
       "      <th>7393363</th>\n",
       "      <td>2018-12-11</td>\n",
       "      <td>2018-03-12</td>\n",
       "      <td>2018-12-10</td>\n",
       "      <td>2018-12-11</td>\n",
       "      <td>NaN</td>\n",
       "    </tr>\n",
       "    <tr>\n",
       "      <th>7393357</th>\n",
       "      <td>2019-08-06</td>\n",
       "      <td>2018-07-20</td>\n",
       "      <td>2019-08-03</td>\n",
       "      <td>2019-08-03</td>\n",
       "      <td>NaN</td>\n",
       "    </tr>\n",
       "    <tr>\n",
       "      <th>7393358</th>\n",
       "      <td>2019-08-01</td>\n",
       "      <td>2019-01-28</td>\n",
       "      <td>2019-07-28</td>\n",
       "      <td>2019-07-28</td>\n",
       "      <td>NaN</td>\n",
       "    </tr>\n",
       "    <tr>\n",
       "      <th>7393368</th>\n",
       "      <td>None</td>\n",
       "      <td>NaT</td>\n",
       "      <td>NaT</td>\n",
       "      <td>NaT</td>\n",
       "      <td>NaN</td>\n",
       "    </tr>\n",
       "    <tr>\n",
       "      <th>7393369</th>\n",
       "      <td>None</td>\n",
       "      <td>NaT</td>\n",
       "      <td>NaT</td>\n",
       "      <td>NaT</td>\n",
       "      <td>NaN</td>\n",
       "    </tr>\n",
       "  </tbody>\n",
       "</table>\n",
       "</div>"
      ],
      "text/plain": [
       "        lastupdate_388D dateofcredstart_181D dateofcredend_353D  \\\n",
       "7393361      2017-05-25           2015-04-13         2016-04-15   \n",
       "7393362      2018-01-16           2016-04-11         2017-01-15   \n",
       "7393359      2017-03-19           2016-09-28         2017-04-14   \n",
       "7393367      2017-11-23           2017-04-28         2022-04-24   \n",
       "7393364      2019-01-01           2017-06-03         2018-06-15   \n",
       "7393360      2019-01-08           2017-08-10         2019-06-14   \n",
       "7393366      2018-08-10           2017-11-21         2022-05-21   \n",
       "7393365      2019-01-09           2017-11-29         2018-11-29   \n",
       "7393363      2018-12-11           2018-03-12         2018-12-10   \n",
       "7393357      2019-08-06           2018-07-20         2019-08-03   \n",
       "7393358      2019-08-01           2019-01-28         2019-07-28   \n",
       "7393368            None                  NaT                NaT   \n",
       "7393369            None                  NaT                NaT   \n",
       "\n",
       "        dateofrealrepmt_138D  numberofcontrsvalue_358L  \n",
       "7393361           2016-04-15                      11.0  \n",
       "7393362           2017-01-15                       NaN  \n",
       "7393359           2017-03-19                       NaN  \n",
       "7393367           2017-11-21                       NaN  \n",
       "7393364           2018-06-15                       NaN  \n",
       "7393360           2019-01-08                       NaN  \n",
       "7393366           2018-08-10                       NaN  \n",
       "7393365           2018-11-29                       NaN  \n",
       "7393363           2018-12-11                       NaN  \n",
       "7393357           2019-08-03                       NaN  \n",
       "7393358           2019-07-28                       NaN  \n",
       "7393368                  NaT                       NaN  \n",
       "7393369                  NaT                       NaN  "
      ]
     },
     "execution_count": 371,
     "metadata": {},
     "output_type": "execute_result"
    }
   ],
   "source": [
    "credit_bureau_a_1_df[credit_bureau_a_1_df.case_id == random.choice(credit_bureau_a_1_df.case_id.unique())].sort_values(by=[\"num_group1\"], ascending=True)[[\"lastupdate_388D\", \"dateofcredstart_181D\", \"dateofcredend_353D\", \"dateofrealrepmt_138D\", \"numberofcontrsvalue_358L\"]]"
   ]
  },
  {
   "cell_type": "markdown",
   "id": "2df0bfca-dd0a-4497-8794-145923f29a4b",
   "metadata": {},
   "source": [
    "## 15. numberofinstls_229L and numberofinstls_320L"
   ]
  },
  {
   "cell_type": "code",
   "execution_count": 372,
   "id": "9765334a-d828-46d9-ba7e-5886b264b00f",
   "metadata": {},
   "outputs": [
    {
     "data": {
      "text/plain": [
       "'Number of instalments on closed contract.'"
      ]
     },
     "execution_count": 372,
     "metadata": {},
     "output_type": "execute_result"
    }
   ],
   "source": [
    "get_column_description(feature_df, \"numberofinstls_229L\")"
   ]
  },
  {
   "cell_type": "code",
   "execution_count": 373,
   "id": "607ad564-9643-4d1a-93c6-6f39087ce95d",
   "metadata": {},
   "outputs": [
    {
     "data": {
      "text/plain": [
       "'Number of instalments of the active contract.'"
      ]
     },
     "execution_count": 373,
     "metadata": {},
     "output_type": "execute_result"
    }
   ],
   "source": [
    "get_column_description(feature_df, \"numberofinstls_320L\")"
   ]
  },
  {
   "cell_type": "code",
   "execution_count": null,
   "id": "a3df90ab-91db-47c4-a85d-9c77885bcc9c",
   "metadata": {},
   "outputs": [],
   "source": []
  },
  {
   "cell_type": "code",
   "execution_count": null,
   "id": "2b3daa84-f765-4631-8c70-0a9030fd5e2a",
   "metadata": {},
   "outputs": [],
   "source": []
  },
  {
   "cell_type": "code",
   "execution_count": null,
   "id": "3350bb88-8da8-4836-b05e-f696abc124fe",
   "metadata": {},
   "outputs": [],
   "source": []
  },
  {
   "cell_type": "code",
   "execution_count": null,
   "id": "a70999b2-2ed0-4126-9a40-d0ed845e2916",
   "metadata": {},
   "outputs": [],
   "source": []
  },
  {
   "cell_type": "code",
   "execution_count": null,
   "id": "b07d460b-a3fe-49fc-a574-c9769e137733",
   "metadata": {},
   "outputs": [],
   "source": []
  },
  {
   "cell_type": "code",
   "execution_count": 354,
   "id": "af109e6f-fc5b-4e7e-a89c-07f2197e4ead",
   "metadata": {},
   "outputs": [
    {
     "data": {
      "text/plain": [
       "numberofcontrsvalue_258L\n",
       "1.0     513114\n",
       "2.0     421487\n",
       "3.0     233551\n",
       "4.0      96311\n",
       "5.0      26296\n",
       "6.0       7740\n",
       "0.0       3489\n",
       "7.0       2092\n",
       "8.0        553\n",
       "9.0        166\n",
       "10.0        67\n",
       "11.0        45\n",
       "12.0        27\n",
       "13.0        16\n",
       "14.0         8\n",
       "15.0         6\n",
       "19.0         5\n",
       "17.0         4\n",
       "32.0         3\n",
       "16.0         3\n",
       "20.0         3\n",
       "46.0         2\n",
       "99.0         1\n",
       "60.0         1\n",
       "28.0         1\n",
       "71.0         1\n",
       "92.0         1\n",
       "56.0         1\n",
       "83.0         1\n",
       "22.0         1\n",
       "50.0         1\n",
       "44.0         1\n",
       "18.0         1\n",
       "24.0         1\n",
       "35.0         1\n",
       "27.0         1\n",
       "21.0         1\n",
       "Name: count, dtype: int64"
      ]
     },
     "execution_count": 354,
     "metadata": {},
     "output_type": "execute_result"
    }
   ],
   "source": [
    "credit_bureau_a_1_df.numberofcontrsvalue_258L.value_counts()"
   ]
  },
  {
   "cell_type": "code",
   "execution_count": null,
   "id": "02394ee3-2ea7-4b78-a999-8979ad7b0c81",
   "metadata": {},
   "outputs": [],
   "source": []
  },
  {
   "cell_type": "code",
   "execution_count": null,
   "id": "7e1c5498-eb1d-49f2-abf6-2b4be860bd96",
   "metadata": {},
   "outputs": [],
   "source": []
  },
  {
   "cell_type": "code",
   "execution_count": null,
   "id": "000e7ecf-3c66-4be9-b3eb-bd6edd8fd050",
   "metadata": {},
   "outputs": [],
   "source": []
  }
 ],
 "metadata": {
  "kernelspec": {
   "display_name": "personal_env",
   "language": "python",
   "name": "personal_env"
  },
  "language_info": {
   "codemirror_mode": {
    "name": "ipython",
    "version": 3
   },
   "file_extension": ".py",
   "mimetype": "text/x-python",
   "name": "python",
   "nbconvert_exporter": "python",
   "pygments_lexer": "ipython3",
   "version": "3.9.17"
  }
 },
 "nbformat": 4,
 "nbformat_minor": 5
}
