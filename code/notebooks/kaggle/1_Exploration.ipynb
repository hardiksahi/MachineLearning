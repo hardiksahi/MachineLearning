{
 "cells": [
  {
   "cell_type": "markdown",
   "id": "eaf796d6-5518-41d7-875a-d235bee1a9e6",
   "metadata": {},
   "source": [
    "## https://www.kaggle.com/competitions/ga-customer-revenue-prediction/data"
   ]
  },
  {
   "cell_type": "code",
   "execution_count": 1,
   "id": "e7f7943e-3356-41b3-b915-fca2f61f91f8",
   "metadata": {},
   "outputs": [],
   "source": [
    "%load_ext autoreload\n",
    "%autoreload 2 "
   ]
  },
  {
   "cell_type": "code",
   "execution_count": 2,
   "id": "85fc17ef-2976-402a-8cd5-dde2a1f48f44",
   "metadata": {},
   "outputs": [
    {
     "data": {
      "text/html": [
       "<style>.container { width:100% !important; }</style>"
      ],
      "text/plain": [
       "<IPython.core.display.HTML object>"
      ]
     },
     "metadata": {},
     "output_type": "display_data"
    }
   ],
   "source": [
    "from IPython.display import display, HTML\n",
    "display(HTML(\"<style>.container { width:100% !important; }</style>\"))"
   ]
  },
  {
   "cell_type": "code",
   "execution_count": 3,
   "id": "edccbc24-cc30-4925-b6cc-4be05804910c",
   "metadata": {},
   "outputs": [],
   "source": [
    "import os "
   ]
  },
  {
   "cell_type": "code",
   "execution_count": 4,
   "id": "f000a856-44fd-4fd6-bbb2-b709e74003b4",
   "metadata": {},
   "outputs": [],
   "source": [
    "import numpy as np\n",
    "import pandas as pd\n",
    "#import dask.dataframe as dd\n",
    "import json"
   ]
  },
  {
   "cell_type": "markdown",
   "id": "bf0c8928-9422-4b2e-a467-90e257949449",
   "metadata": {},
   "source": [
    "## Constants"
   ]
  },
  {
   "cell_type": "code",
   "execution_count": 7,
   "id": "a5e1089e-c1ce-4675-bbf2-a8317e62edcc",
   "metadata": {},
   "outputs": [],
   "source": [
    "data_path = '/Users/hardiksahi/Personal/MachineLearning/kaggle/google-analytics-propensity/data/01_raw/ga-customer-revenue-prediction'"
   ]
  },
  {
   "cell_type": "code",
   "execution_count": 8,
   "id": "38d1e7c4-98cc-4aac-89d5-9aa68cbca9db",
   "metadata": {},
   "outputs": [
    {
     "name": "stdout",
     "output_type": "stream",
     "text": [
      "Shape of train_df: (903653, 12)\n"
     ]
    }
   ],
   "source": [
    "train_df = pd.read_csv(os.path.join(data_path, 'train.csv'), dtype={'fullVisitorId': 'object'})\n",
    "print(f'Shape of train_df: {train_df.shape}')"
   ]
  },
  {
   "cell_type": "code",
   "execution_count": 17,
   "id": "ec0b0577-5789-40ba-a913-3596eefbdc13",
   "metadata": {},
   "outputs": [
    {
     "data": {
      "text/plain": [
       "0         1970YYY01010101\n",
       "1         1970YYY01010101\n",
       "2         1970YYY01010101\n",
       "3         1970YYY01010101\n",
       "4         1970YYY01010101\n",
       "               ...       \n",
       "903648    1970YYY01010101\n",
       "903649    1970YYY01010101\n",
       "903650    1970YYY01010101\n",
       "903651    1970YYY01010101\n",
       "903652    1970YYY01010101\n",
       "Name: date, Length: 903653, dtype: object"
      ]
     },
     "execution_count": 17,
     "metadata": {},
     "output_type": "execute_result"
    }
   ],
   "source": [
    "pd.to_datetime(train_df['date']).dt.strftime(\"%YYYY%m%m%d%d\")#.loc[0].date().isoformat()"
   ]
  },
  {
   "cell_type": "code",
   "execution_count": 18,
   "id": "1794c66e-3b5c-4e5b-af5a-8c3316bf9888",
   "metadata": {},
   "outputs": [
    {
     "data": {
      "text/plain": [
       "array([20160902, 20170126, 20170623, 20170312, 20170203, 20160811,\n",
       "       20170613, 20170113, 20161118, 20161110, 20161112, 20170621,\n",
       "       20161123, 20170501, 20170611, 20170630, 20161213, 20170519,\n",
       "       20170111, 20170624, 20161014, 20170529, 20170515, 20170420,\n",
       "       20160831, 20170801, 20170228, 20161209, 20160917, 20170617,\n",
       "       20161216, 20160820, 20170616, 20160822, 20161129, 20170318,\n",
       "       20161130, 20170303, 20160816, 20161030, 20161230, 20170704,\n",
       "       20170213, 20170511, 20160912, 20161022, 20160824, 20170421,\n",
       "       20170412, 20160805, 20161018, 20170310, 20170428, 20170116,\n",
       "       20170115, 20170102, 20170320, 20170410, 20161125, 20170311,\n",
       "       20170622, 20170329, 20161026, 20170308, 20161124, 20161021,\n",
       "       20170217, 20170627, 20161117, 20161109, 20160819, 20161128,\n",
       "       20160901, 20161122, 20170615, 20170714, 20160915, 20170606,\n",
       "       20161107, 20160929, 20160821, 20160803, 20170321, 20170128,\n",
       "       20160906, 20170724, 20161208, 20170118, 20161020, 20170121,\n",
       "       20170129, 20170522, 20170503, 20161127, 20161015, 20170105,\n",
       "       20170426, 20160813, 20170317, 20170425, 20170429, 20161203,\n",
       "       20170423, 20170607, 20170306, 20170112, 20170620, 20161201,\n",
       "       20170127, 20161114, 20170728, 20161106, 20170207, 20161202,\n",
       "       20161219, 20170723, 20160913, 20161225, 20170525, 20161210,\n",
       "       20170518, 20160930, 20170331, 20170330, 20160826, 20161009,\n",
       "       20170521, 20170216, 20170201, 20161104, 20170706, 20170721,\n",
       "       20160809, 20170506, 20170601, 20170514, 20161221, 20170108,\n",
       "       20161027, 20170508, 20170406, 20161223, 20170205, 20161126,\n",
       "       20160927, 20170618, 20170405, 20170609, 20161207, 20160916,\n",
       "       20170403, 20170131, 20161102, 20160830, 20160910, 20161002,\n",
       "       20160909, 20161211, 20161007, 20161226, 20160904, 20170210,\n",
       "       20170414, 20170313, 20161205, 20170109, 20160914, 20160814,\n",
       "       20170605, 20170214, 20170208, 20161115, 20161013, 20161029,\n",
       "       20160903, 20170504, 20170608, 20170417, 20170703, 20160825,\n",
       "       20160922, 20170225, 20170502, 20170711, 20160812, 20161215,\n",
       "       20170222, 20160911, 20160810, 20170110, 20161101, 20160802,\n",
       "       20161031, 20160924, 20160928, 20170325, 20161017, 20170722,\n",
       "       20161222, 20160905, 20170223, 20170505, 20170702, 20170106,\n",
       "       20161224, 20170528, 20170125, 20170603, 20170416, 20161016,\n",
       "       20161204, 20170705, 20161003, 20170219, 20160801, 20161008,\n",
       "       20160817, 20170202, 20170523, 20170726, 20170323, 20160919,\n",
       "       20170315, 20161025, 20170220, 20170328, 20170309, 20170619,\n",
       "       20170307, 20170430, 20170524, 20161116, 20160829, 20170610,\n",
       "       20161028, 20170701, 20170720, 20161103, 20170304, 20170413,\n",
       "       20161012, 20170314, 20160923, 20161121, 20170124, 20170215,\n",
       "       20170509, 20170707, 20161212, 20170513, 20161218, 20161108,\n",
       "       20170604, 20170123, 20170209, 20161006, 20170327, 20161011,\n",
       "       20170117, 20161206, 20170316, 20170516, 20170507, 20160827,\n",
       "       20170130, 20170224, 20161220, 20160815, 20170713, 20170411,\n",
       "       20170211, 20170206, 20170305, 20170422, 20161024, 20161010,\n",
       "       20170719, 20161001, 20161113, 20161119, 20160804, 20170731,\n",
       "       20170427, 20170424, 20170120, 20170301, 20170712, 20170708,\n",
       "       20170415, 20161228, 20170530, 20170626, 20161105, 20160921,\n",
       "       20160926, 20170218, 20161227, 20161111, 20170119, 20170730,\n",
       "       20170612, 20170402, 20160806, 20170526, 20160823, 20170227,\n",
       "       20160808, 20170710, 20170718, 20170103, 20170404, 20161120,\n",
       "       20170727, 20170716, 20170226, 20170322, 20161214, 20170408,\n",
       "       20170418, 20170122, 20170101, 20170401, 20170302, 20170614,\n",
       "       20170510, 20170419, 20170602, 20170221, 20170527, 20170628,\n",
       "       20160925, 20161004, 20170517, 20161023, 20170725, 20160828,\n",
       "       20170114, 20170407, 20170715, 20160920, 20161231, 20170629,\n",
       "       20170625, 20160818, 20170520, 20170204, 20160918, 20170212,\n",
       "       20170326, 20160908, 20170512, 20170107, 20161005, 20161217,\n",
       "       20161229, 20161019, 20170319, 20170717, 20160907, 20170409,\n",
       "       20170324, 20160807, 20170729, 20170531, 20170709, 20170104])"
      ]
     },
     "execution_count": 18,
     "metadata": {},
     "output_type": "execute_result"
    }
   ],
   "source": [
    "train_df['date'].unique()"
   ]
  },
  {
   "cell_type": "markdown",
   "id": "dc5672d3-0276-4df7-88b5-430f280c0cc2",
   "metadata": {},
   "source": [
    "## Step 1: Normalize data (json columns), standardizing column names by reading a chunk of data at a time since the actual data is very large (25GB)"
   ]
  },
  {
   "cell_type": "code",
   "execution_count": null,
   "id": "28057231-546a-44ba-a794-65b35c643b88",
   "metadata": {
    "scrolled": true
   },
   "outputs": [],
   "source": [
    "with pd.read_csv(os.path.join(data_path, 'train.csv'), chunksize=100) as reader:\n",
    "    row_count = 0\n",
    "    for i, chunk in enumerate(reader):\n",
    "        row_count+=len(chunk)\n",
    "        print(f'Shape of chunk: {i}: {chunk.shape}')"
   ]
  },
  {
   "cell_type": "code",
   "execution_count": null,
   "id": "b0d0e403-fa68-448f-b997-11defd2c8171",
   "metadata": {},
   "outputs": [],
   "source": [
    "903653"
   ]
  },
  {
   "cell_type": "code",
   "execution_count": null,
   "id": "85f116b9-a2d1-4fe1-b0d5-fc5194c27f56",
   "metadata": {},
   "outputs": [],
   "source": [
    "row_count"
   ]
  },
  {
   "cell_type": "code",
   "execution_count": null,
   "id": "760df021-f124-4ca8-bab9-31f32eec1e03",
   "metadata": {},
   "outputs": [],
   "source": [
    "train_df.head()"
   ]
  },
  {
   "cell_type": "code",
   "execution_count": null,
   "id": "f145b793-3bc3-49a1-8185-fff315f7cf1c",
   "metadata": {},
   "outputs": [],
   "source": [
    "dd.json_normalize(json.loads(train_df['device'].loc[0]))"
   ]
  },
  {
   "cell_type": "code",
   "execution_count": 9,
   "id": "565d7427-5a3b-47d4-affe-c6cf72e4432a",
   "metadata": {},
   "outputs": [
    {
     "data": {
      "text/html": [
       "<div>\n",
       "<style scoped>\n",
       "    .dataframe tbody tr th:only-of-type {\n",
       "        vertical-align: middle;\n",
       "    }\n",
       "\n",
       "    .dataframe tbody tr th {\n",
       "        vertical-align: top;\n",
       "    }\n",
       "\n",
       "    .dataframe thead th {\n",
       "        text-align: right;\n",
       "    }\n",
       "</style>\n",
       "<table border=\"1\" class=\"dataframe\">\n",
       "  <thead>\n",
       "    <tr style=\"text-align: right;\">\n",
       "      <th></th>\n",
       "      <th>continent</th>\n",
       "      <th>subContinent</th>\n",
       "      <th>country</th>\n",
       "      <th>region</th>\n",
       "      <th>metro</th>\n",
       "      <th>city</th>\n",
       "      <th>cityId</th>\n",
       "      <th>networkDomain</th>\n",
       "      <th>latitude</th>\n",
       "      <th>longitude</th>\n",
       "      <th>networkLocation</th>\n",
       "    </tr>\n",
       "  </thead>\n",
       "  <tbody>\n",
       "    <tr>\n",
       "      <th>0</th>\n",
       "      <td>Asia</td>\n",
       "      <td>Western Asia</td>\n",
       "      <td>Turkey</td>\n",
       "      <td>Izmir</td>\n",
       "      <td>(not set)</td>\n",
       "      <td>Izmir</td>\n",
       "      <td>not available in demo dataset</td>\n",
       "      <td>ttnet.com.tr</td>\n",
       "      <td>not available in demo dataset</td>\n",
       "      <td>not available in demo dataset</td>\n",
       "      <td>not available in demo dataset</td>\n",
       "    </tr>\n",
       "    <tr>\n",
       "      <th>1</th>\n",
       "      <td>Oceania</td>\n",
       "      <td>Australasia</td>\n",
       "      <td>Australia</td>\n",
       "      <td>not available in demo dataset</td>\n",
       "      <td>not available in demo dataset</td>\n",
       "      <td>not available in demo dataset</td>\n",
       "      <td>not available in demo dataset</td>\n",
       "      <td>dodo.net.au</td>\n",
       "      <td>not available in demo dataset</td>\n",
       "      <td>not available in demo dataset</td>\n",
       "      <td>not available in demo dataset</td>\n",
       "    </tr>\n",
       "    <tr>\n",
       "      <th>2</th>\n",
       "      <td>Europe</td>\n",
       "      <td>Southern Europe</td>\n",
       "      <td>Spain</td>\n",
       "      <td>Community of Madrid</td>\n",
       "      <td>(not set)</td>\n",
       "      <td>Madrid</td>\n",
       "      <td>not available in demo dataset</td>\n",
       "      <td>unknown.unknown</td>\n",
       "      <td>not available in demo dataset</td>\n",
       "      <td>not available in demo dataset</td>\n",
       "      <td>not available in demo dataset</td>\n",
       "    </tr>\n",
       "    <tr>\n",
       "      <th>3</th>\n",
       "      <td>Asia</td>\n",
       "      <td>Southeast Asia</td>\n",
       "      <td>Indonesia</td>\n",
       "      <td>not available in demo dataset</td>\n",
       "      <td>not available in demo dataset</td>\n",
       "      <td>not available in demo dataset</td>\n",
       "      <td>not available in demo dataset</td>\n",
       "      <td>unknown.unknown</td>\n",
       "      <td>not available in demo dataset</td>\n",
       "      <td>not available in demo dataset</td>\n",
       "      <td>not available in demo dataset</td>\n",
       "    </tr>\n",
       "    <tr>\n",
       "      <th>4</th>\n",
       "      <td>Europe</td>\n",
       "      <td>Northern Europe</td>\n",
       "      <td>United Kingdom</td>\n",
       "      <td>not available in demo dataset</td>\n",
       "      <td>not available in demo dataset</td>\n",
       "      <td>not available in demo dataset</td>\n",
       "      <td>not available in demo dataset</td>\n",
       "      <td>unknown.unknown</td>\n",
       "      <td>not available in demo dataset</td>\n",
       "      <td>not available in demo dataset</td>\n",
       "      <td>not available in demo dataset</td>\n",
       "    </tr>\n",
       "    <tr>\n",
       "      <th>...</th>\n",
       "      <td>...</td>\n",
       "      <td>...</td>\n",
       "      <td>...</td>\n",
       "      <td>...</td>\n",
       "      <td>...</td>\n",
       "      <td>...</td>\n",
       "      <td>...</td>\n",
       "      <td>...</td>\n",
       "      <td>...</td>\n",
       "      <td>...</td>\n",
       "      <td>...</td>\n",
       "    </tr>\n",
       "    <tr>\n",
       "      <th>903648</th>\n",
       "      <td>Americas</td>\n",
       "      <td>Caribbean</td>\n",
       "      <td>Puerto Rico</td>\n",
       "      <td>not available in demo dataset</td>\n",
       "      <td>not available in demo dataset</td>\n",
       "      <td>not available in demo dataset</td>\n",
       "      <td>not available in demo dataset</td>\n",
       "      <td>prtc.net</td>\n",
       "      <td>not available in demo dataset</td>\n",
       "      <td>not available in demo dataset</td>\n",
       "      <td>not available in demo dataset</td>\n",
       "    </tr>\n",
       "    <tr>\n",
       "      <th>903649</th>\n",
       "      <td>Asia</td>\n",
       "      <td>Southern Asia</td>\n",
       "      <td>Sri Lanka</td>\n",
       "      <td>not available in demo dataset</td>\n",
       "      <td>not available in demo dataset</td>\n",
       "      <td>not available in demo dataset</td>\n",
       "      <td>not available in demo dataset</td>\n",
       "      <td>unknown.unknown</td>\n",
       "      <td>not available in demo dataset</td>\n",
       "      <td>not available in demo dataset</td>\n",
       "      <td>not available in demo dataset</td>\n",
       "    </tr>\n",
       "    <tr>\n",
       "      <th>903650</th>\n",
       "      <td>Asia</td>\n",
       "      <td>Eastern Asia</td>\n",
       "      <td>South Korea</td>\n",
       "      <td>Seoul</td>\n",
       "      <td>(not set)</td>\n",
       "      <td>Seoul</td>\n",
       "      <td>not available in demo dataset</td>\n",
       "      <td>unknown.unknown</td>\n",
       "      <td>not available in demo dataset</td>\n",
       "      <td>not available in demo dataset</td>\n",
       "      <td>not available in demo dataset</td>\n",
       "    </tr>\n",
       "    <tr>\n",
       "      <th>903651</th>\n",
       "      <td>Asia</td>\n",
       "      <td>Southeast Asia</td>\n",
       "      <td>Indonesia</td>\n",
       "      <td>not available in demo dataset</td>\n",
       "      <td>not available in demo dataset</td>\n",
       "      <td>not available in demo dataset</td>\n",
       "      <td>not available in demo dataset</td>\n",
       "      <td>unknown.unknown</td>\n",
       "      <td>not available in demo dataset</td>\n",
       "      <td>not available in demo dataset</td>\n",
       "      <td>not available in demo dataset</td>\n",
       "    </tr>\n",
       "    <tr>\n",
       "      <th>903652</th>\n",
       "      <td>Americas</td>\n",
       "      <td>Central America</td>\n",
       "      <td>Mexico</td>\n",
       "      <td>not available in demo dataset</td>\n",
       "      <td>not available in demo dataset</td>\n",
       "      <td>not available in demo dataset</td>\n",
       "      <td>not available in demo dataset</td>\n",
       "      <td>cybercable.net.mx</td>\n",
       "      <td>not available in demo dataset</td>\n",
       "      <td>not available in demo dataset</td>\n",
       "      <td>not available in demo dataset</td>\n",
       "    </tr>\n",
       "  </tbody>\n",
       "</table>\n",
       "<p>903653 rows × 11 columns</p>\n",
       "</div>"
      ],
      "text/plain": [
       "       continent     subContinent         country  \\\n",
       "0           Asia     Western Asia          Turkey   \n",
       "1        Oceania      Australasia       Australia   \n",
       "2         Europe  Southern Europe           Spain   \n",
       "3           Asia   Southeast Asia       Indonesia   \n",
       "4         Europe  Northern Europe  United Kingdom   \n",
       "...          ...              ...             ...   \n",
       "903648  Americas        Caribbean     Puerto Rico   \n",
       "903649      Asia    Southern Asia       Sri Lanka   \n",
       "903650      Asia     Eastern Asia     South Korea   \n",
       "903651      Asia   Southeast Asia       Indonesia   \n",
       "903652  Americas  Central America          Mexico   \n",
       "\n",
       "                               region                          metro  \\\n",
       "0                               Izmir                      (not set)   \n",
       "1       not available in demo dataset  not available in demo dataset   \n",
       "2                 Community of Madrid                      (not set)   \n",
       "3       not available in demo dataset  not available in demo dataset   \n",
       "4       not available in demo dataset  not available in demo dataset   \n",
       "...                               ...                            ...   \n",
       "903648  not available in demo dataset  not available in demo dataset   \n",
       "903649  not available in demo dataset  not available in demo dataset   \n",
       "903650                          Seoul                      (not set)   \n",
       "903651  not available in demo dataset  not available in demo dataset   \n",
       "903652  not available in demo dataset  not available in demo dataset   \n",
       "\n",
       "                                 city                         cityId  \\\n",
       "0                               Izmir  not available in demo dataset   \n",
       "1       not available in demo dataset  not available in demo dataset   \n",
       "2                              Madrid  not available in demo dataset   \n",
       "3       not available in demo dataset  not available in demo dataset   \n",
       "4       not available in demo dataset  not available in demo dataset   \n",
       "...                               ...                            ...   \n",
       "903648  not available in demo dataset  not available in demo dataset   \n",
       "903649  not available in demo dataset  not available in demo dataset   \n",
       "903650                          Seoul  not available in demo dataset   \n",
       "903651  not available in demo dataset  not available in demo dataset   \n",
       "903652  not available in demo dataset  not available in demo dataset   \n",
       "\n",
       "            networkDomain                       latitude  \\\n",
       "0            ttnet.com.tr  not available in demo dataset   \n",
       "1             dodo.net.au  not available in demo dataset   \n",
       "2         unknown.unknown  not available in demo dataset   \n",
       "3         unknown.unknown  not available in demo dataset   \n",
       "4         unknown.unknown  not available in demo dataset   \n",
       "...                   ...                            ...   \n",
       "903648           prtc.net  not available in demo dataset   \n",
       "903649    unknown.unknown  not available in demo dataset   \n",
       "903650    unknown.unknown  not available in demo dataset   \n",
       "903651    unknown.unknown  not available in demo dataset   \n",
       "903652  cybercable.net.mx  not available in demo dataset   \n",
       "\n",
       "                            longitude                networkLocation  \n",
       "0       not available in demo dataset  not available in demo dataset  \n",
       "1       not available in demo dataset  not available in demo dataset  \n",
       "2       not available in demo dataset  not available in demo dataset  \n",
       "3       not available in demo dataset  not available in demo dataset  \n",
       "4       not available in demo dataset  not available in demo dataset  \n",
       "...                               ...                            ...  \n",
       "903648  not available in demo dataset  not available in demo dataset  \n",
       "903649  not available in demo dataset  not available in demo dataset  \n",
       "903650  not available in demo dataset  not available in demo dataset  \n",
       "903651  not available in demo dataset  not available in demo dataset  \n",
       "903652  not available in demo dataset  not available in demo dataset  \n",
       "\n",
       "[903653 rows x 11 columns]"
      ]
     },
     "execution_count": 9,
     "metadata": {},
     "output_type": "execute_result"
    }
   ],
   "source": [
    "pd.json_normalize(train_df['geoNetwork'].apply(lambda x: json.loads(x)).tolist())"
   ]
  },
  {
   "cell_type": "code",
   "execution_count": null,
   "id": "4f22ed59-efb3-4858-8b18-2b72cbd2b342",
   "metadata": {},
   "outputs": [],
   "source": [
    "train_df.groupby(by=['fullVisitorId','visitId']).size().value_counts()"
   ]
  },
  {
   "cell_type": "code",
   "execution_count": null,
   "id": "c9d92190-299f-472e-ab67-b2a07d38ff43",
   "metadata": {
    "scrolled": true
   },
   "outputs": [],
   "source": [
    "json.loads(train_df['channelGrouping'].loc[0])"
   ]
  },
  {
   "cell_type": "code",
   "execution_count": null,
   "id": "daeefae9-b549-4316-8f5f-ed66291f4eb1",
   "metadata": {},
   "outputs": [],
   "source": [
    "train_df.dtypes"
   ]
  },
  {
   "cell_type": "code",
   "execution_count": null,
   "id": "43bf577c-a7ff-46d6-a40c-36ae1eeb9d8e",
   "metadata": {},
   "outputs": [],
   "source": [
    "train_df.fullVisitorId.value_counts()"
   ]
  },
  {
   "cell_type": "code",
   "execution_count": null,
   "id": "a9ac9fb8-cbbd-404e-af0c-86bf9824918d",
   "metadata": {},
   "outputs": [],
   "source": [
    "train_df.loc[0]['totals']"
   ]
  },
  {
   "cell_type": "code",
   "execution_count": null,
   "id": "b2575eb0-390b-4e58-8d02-d4dadbc5859f",
   "metadata": {},
   "outputs": [],
   "source": [
    "train_df[train_df.fullVisitorId == 824839726118485274].sort_values(by=['visitNumber']).head()"
   ]
  },
  {
   "cell_type": "code",
   "execution_count": null,
   "id": "cf67b472-adce-4934-867e-322e9bdd7a2e",
   "metadata": {},
   "outputs": [],
   "source": [
    "train_df.groupby(by=['fullVisitorId']).agg({'visitNumber': lambda x: len(set(x))}).sort_values(by=['visitNumber'], ascending=False).head()"
   ]
  },
  {
   "cell_type": "code",
   "execution_count": null,
   "id": "4664b9a6-1cf6-45e3-acb0-4022b4759caf",
   "metadata": {},
   "outputs": [],
   "source": [
    "train_df[train_df.fullVisitorId == 5103959234087].sort_values(by=['visitNumber']).head()"
   ]
  },
  {
   "cell_type": "code",
   "execution_count": null,
   "id": "667f581e-1bd2-4b7e-a6ed-2af0889e7d3c",
   "metadata": {},
   "outputs": [],
   "source": [
    "train_df.socialEngagementType.value_counts()"
   ]
  },
  {
   "cell_type": "code",
   "execution_count": null,
   "id": "0e763354-357d-46ce-9308-9f5d5bad9647",
   "metadata": {},
   "outputs": [],
   "source": []
  }
 ],
 "metadata": {
  "kernelspec": {
   "display_name": "personal_env",
   "language": "python",
   "name": "personal_env"
  },
  "language_info": {
   "codemirror_mode": {
    "name": "ipython",
    "version": 3
   },
   "file_extension": ".py",
   "mimetype": "text/x-python",
   "name": "python",
   "nbconvert_exporter": "python",
   "pygments_lexer": "ipython3",
   "version": "3.9.17"
  }
 },
 "nbformat": 4,
 "nbformat_minor": 5
}
