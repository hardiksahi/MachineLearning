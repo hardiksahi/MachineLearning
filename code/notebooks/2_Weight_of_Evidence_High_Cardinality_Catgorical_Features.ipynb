{
  "nbformat": 4,
  "nbformat_minor": 0,
  "metadata": {
    "colab": {
      "provenance": [],
      "authorship_tag": "ABX9TyN1UPaTNPGdvAAyL3jvhJ+q",
      "include_colab_link": true
    },
    "kernelspec": {
      "name": "python3",
      "display_name": "Python 3"
    },
    "language_info": {
      "name": "python"
    }
  },
  "cells": [
    {
      "cell_type": "markdown",
      "metadata": {
        "id": "view-in-github",
        "colab_type": "text"
      },
      "source": [
        "<a href=\"https://colab.research.google.com/github/hardiksahi/MachineLearning/blob/handle_high_cardinality_categorical/2_Weight_of_Evidence_High_Cardinality_Catgorical_Features.ipynb\" target=\"_parent\"><img src=\"https://colab.research.google.com/assets/colab-badge.svg\" alt=\"Open In Colab\"/></a>"
      ]
    },
    {
      "cell_type": "markdown",
      "source": [
        "This notebook explains Weight of Evidence encoding that is used to handle high cardinality (>100 levels) ordinal variables and / or bin numeric variables"
      ],
      "metadata": {
        "id": "iNcFBOPZuveZ"
      }
    },
    {
      "cell_type": "markdown",
      "source": [
        "**What is WOE encoding?**\n",
        "WoE explains the predictive power of an independent variable in relation to dependent variable. It is described as:\n",
        "\n",
        "$$WOE_{i} = ln(\\frac{P(X=X_{i}|Y=1)}{P(X=X_{i}|Y=0)})$$\n",
        "\n",
        "$$Numerator = \\frac{N_{X=X_{i}, Y=1} + regularization }{N_{Y=1} + 2*regularization}$$\n",
        "$$Denominator = \\frac{N_{X=X_{i}, Y=0}+ regularization }{N_{Y=0} + 2*regularization}$$\n",
        "$X_{i}$ is $i^{th}$ unique category of independent variable X and Y is dependent binary output variable with values 0 indicating non-event and 1 indicating event.\n",
        "\n",
        "If WOE = 0 => Random outcome for the group\n",
        "\n",
        "If WOE>0 => Numerator > Denominator => The given category provides greater evidence for outcome=1\n",
        "\n",
        "If WOE<0 => Numerator < Denominator => The given category provides less evidence for outcome = 1\n",
        "\n",
        "**regularization** is added to prevent division by 0"
      ],
      "metadata": {
        "id": "oQN7xXUwvOQM"
      }
    },
    {
      "cell_type": "markdown",
      "source": [
        "Note: WoE is useful in following cases:\n",
        "\n",
        "\n",
        "*   **Nominal Categorical variable**:\n",
        "      1.   Calculate WoE value for each category.\n",
        "      2. Combine those categories together that have similar WoE value.\n",
        "      3.   Use WOE values rather than raw categories in your model\n",
        "\n",
        "*   **Numeric variable**:\n",
        "      1. Create bins/ categories on continuous independent variable.\n",
        "      2. Calculate WoE value for each category.\n",
        "      3. Combine those categories together that have similar WoE value.\n",
        "      4. Use WoE values instead of raw numeric values.\n",
        "\n",
        "For both cases, categories/ bins which have similar dependent variable distribution in terms of events and non events are assigned similar values.\n",
        "\n",
        "\n",
        "\n",
        "\n"
      ],
      "metadata": {
        "id": "HKfjQQck0RxS"
      }
    },
    {
      "cell_type": "markdown",
      "source": [
        "**Relevant links:**\n",
        "\n",
        "\n",
        "1.   https://www.listendata.com/2015/03/weight-of-evidence-woe-and-information.html\n",
        "2.   https://www.kaggle.com/code/davidbnn92/weight-of-evidence-encoding/notebook#Using-stratified-WOE-encoding-for-final-output\n",
        "\n"
      ],
      "metadata": {
        "id": "8D_SBYF2482c"
      }
    },
    {
      "cell_type": "code",
      "execution_count": 1,
      "metadata": {
        "id": "UYf7XHOXubIU"
      },
      "outputs": [],
      "source": [
        "%load_ext autoreload\n",
        "%autoreload 2"
      ]
    },
    {
      "cell_type": "code",
      "source": [
        "from IPython.display import display, HTML\n",
        "display(HTML(\"<style>.container { width:100% !important; }</style>\"))"
      ],
      "metadata": {
        "colab": {
          "base_uri": "https://localhost:8080/",
          "height": 17
        },
        "id": "sFvQGfM35Mtt",
        "outputId": "d3962ed3-c57b-4544-835c-4df6d5befc07"
      },
      "execution_count": 2,
      "outputs": [
        {
          "output_type": "display_data",
          "data": {
            "text/plain": [
              "<IPython.core.display.HTML object>"
            ],
            "text/html": [
              "<style>.container { width:100% !important; }</style>"
            ]
          },
          "metadata": {}
        }
      ]
    },
    {
      "cell_type": "code",
      "source": [
        "import numpy as np\n",
        "import pandas as pd"
      ],
      "metadata": {
        "id": "dZXvDmLy5Okf"
      },
      "execution_count": 3,
      "outputs": []
    },
    {
      "cell_type": "code",
      "source": [
        "from sklearn.model_selection import train_test_split, StratifiedKFold, cross_validate\n",
        "from sklearn.ensemble import HistGradientBoostingClassifier\n",
        "from sklearn.metrics import precision_recall_curve, auc"
      ],
      "metadata": {
        "id": "xiJVmz9f5Q25"
      },
      "execution_count": 4,
      "outputs": []
    },
    {
      "cell_type": "code",
      "source": [
        "from sklearn.preprocessing import OrdinalEncoder, OneHotEncoder\n",
        "from sklearn.compose import ColumnTransformer\n",
        "from sklearn.pipeline import make_pipeline"
      ],
      "metadata": {
        "id": "wKRoTjOJ5S-F"
      },
      "execution_count": 5,
      "outputs": []
    },
    {
      "cell_type": "code",
      "source": [
        "import seaborn as sns\n",
        "import matplotlib.pyplot as plt"
      ],
      "metadata": {
        "id": "rUVTvzGJ5U3C"
      },
      "execution_count": 6,
      "outputs": []
    },
    {
      "cell_type": "code",
      "source": [
        "! pip install category_encoders"
      ],
      "metadata": {
        "colab": {
          "base_uri": "https://localhost:8080/"
        },
        "id": "rX9kSiNu5XB6",
        "outputId": "0124dd69-cefa-43a1-d68e-cbcf92e056b8"
      },
      "execution_count": 7,
      "outputs": [
        {
          "output_type": "stream",
          "name": "stdout",
          "text": [
            "Collecting category_encoders\n",
            "  Downloading category_encoders-2.6.1-py2.py3-none-any.whl (81 kB)\n",
            "\u001b[?25l     \u001b[90m━━━━━━━━━━━━━━━━━━━━━━━━━━━━━━━━━━━━━━━━\u001b[0m \u001b[32m0.0/81.9 kB\u001b[0m \u001b[31m?\u001b[0m eta \u001b[36m-:--:--\u001b[0m\r\u001b[2K     \u001b[90m━━━━━━━━━━━━━━━━━━━━━━━━━━━━━━━━━━━━━━━━\u001b[0m \u001b[32m81.9/81.9 kB\u001b[0m \u001b[31m9.3 MB/s\u001b[0m eta \u001b[36m0:00:00\u001b[0m\n",
            "\u001b[?25hRequirement already satisfied: numpy>=1.14.0 in /usr/local/lib/python3.10/dist-packages (from category_encoders) (1.22.4)\n",
            "Requirement already satisfied: scikit-learn>=0.20.0 in /usr/local/lib/python3.10/dist-packages (from category_encoders) (1.2.2)\n",
            "Requirement already satisfied: scipy>=1.0.0 in /usr/local/lib/python3.10/dist-packages (from category_encoders) (1.10.1)\n",
            "Requirement already satisfied: statsmodels>=0.9.0 in /usr/local/lib/python3.10/dist-packages (from category_encoders) (0.13.5)\n",
            "Requirement already satisfied: pandas>=1.0.5 in /usr/local/lib/python3.10/dist-packages (from category_encoders) (1.5.3)\n",
            "Requirement already satisfied: patsy>=0.5.1 in /usr/local/lib/python3.10/dist-packages (from category_encoders) (0.5.3)\n",
            "Requirement already satisfied: python-dateutil>=2.8.1 in /usr/local/lib/python3.10/dist-packages (from pandas>=1.0.5->category_encoders) (2.8.2)\n",
            "Requirement already satisfied: pytz>=2020.1 in /usr/local/lib/python3.10/dist-packages (from pandas>=1.0.5->category_encoders) (2022.7.1)\n",
            "Requirement already satisfied: six in /usr/local/lib/python3.10/dist-packages (from patsy>=0.5.1->category_encoders) (1.16.0)\n",
            "Requirement already satisfied: joblib>=1.1.1 in /usr/local/lib/python3.10/dist-packages (from scikit-learn>=0.20.0->category_encoders) (1.2.0)\n",
            "Requirement already satisfied: threadpoolctl>=2.0.0 in /usr/local/lib/python3.10/dist-packages (from scikit-learn>=0.20.0->category_encoders) (3.1.0)\n",
            "Requirement already satisfied: packaging>=21.3 in /usr/local/lib/python3.10/dist-packages (from statsmodels>=0.9.0->category_encoders) (23.1)\n",
            "Installing collected packages: category_encoders\n",
            "Successfully installed category_encoders-2.6.1\n"
          ]
        }
      ]
    },
    {
      "cell_type": "code",
      "source": [
        "from category_encoders import WOEEncoder"
      ],
      "metadata": {
        "id": "bStWmwoV5wKU"
      },
      "execution_count": 8,
      "outputs": []
    },
    {
      "cell_type": "code",
      "source": [
        "from google.colab import drive\n",
        "drive.mount('/content/drive')"
      ],
      "metadata": {
        "colab": {
          "base_uri": "https://localhost:8080/"
        },
        "id": "xyJBu4vs50jX",
        "outputId": "3ddc85e6-a9ed-4128-843d-0f75607844e3"
      },
      "execution_count": 9,
      "outputs": [
        {
          "output_type": "stream",
          "name": "stdout",
          "text": [
            "Mounted at /content/drive\n"
          ]
        }
      ]
    },
    {
      "cell_type": "code",
      "source": [
        "df = pd.read_csv(\"/content/drive/MyDrive/ColabNotebooks/Github/titanic.csv\")"
      ],
      "metadata": {
        "id": "6UuDhcbc59A9"
      },
      "execution_count": 10,
      "outputs": []
    },
    {
      "cell_type": "markdown",
      "source": [
        "## Step 1: Define output column"
      ],
      "metadata": {
        "id": "TB_PGwQD5_pj"
      }
    },
    {
      "cell_type": "code",
      "source": [
        "output_column = 'survived'"
      ],
      "metadata": {
        "id": "tWkUoyQ-6AIq"
      },
      "execution_count": 11,
      "outputs": []
    },
    {
      "cell_type": "markdown",
      "source": [
        "## Step 2: Split data into train and test set"
      ],
      "metadata": {
        "id": "F1eiK4a16Cpf"
      }
    },
    {
      "cell_type": "code",
      "source": [
        "X = df.copy()\n",
        "y = df[output_column]\n",
        "X_train, X_test, y_train, y_test = train_test_split(X, y, test_size=0.2, random_state=42, stratify=y)\n",
        "print(f'Shape of X_train: {X_train.shape}')\n",
        "print(f'Shape of X_test: {X_test.shape}')"
      ],
      "metadata": {
        "colab": {
          "base_uri": "https://localhost:8080/"
        },
        "id": "F0rlPaYe6Ey-",
        "outputId": "eae41ddc-1c36-4d42-b807-0afdf46dd34a"
      },
      "execution_count": 12,
      "outputs": [
        {
          "output_type": "stream",
          "name": "stdout",
          "text": [
            "Shape of X_train: (1047, 14)\n",
            "Shape of X_test: (262, 14)\n"
          ]
        }
      ]
    },
    {
      "cell_type": "code",
      "source": [
        "stats = X['survived'].groupby(X['embarked']).agg(['sum', 'count'])"
      ],
      "metadata": {
        "id": "flFdiu_d90z0"
      },
      "execution_count": 17,
      "outputs": []
    },
    {
      "cell_type": "code",
      "source": [
        "stats['sum']/X['survived'].sum()"
      ],
      "metadata": {
        "colab": {
          "base_uri": "https://localhost:8080/"
        },
        "id": "mikps0Rz-gRB",
        "outputId": "a7493d24-24a4-444e-c8da-f0dcde3a6d28"
      },
      "execution_count": 19,
      "outputs": [
        {
          "output_type": "execute_result",
          "data": {
            "text/plain": [
              "embarked\n",
              "C    0.300\n",
              "Q    0.088\n",
              "S    0.608\n",
              "Name: sum, dtype: float64"
            ]
          },
          "metadata": {},
          "execution_count": 19
        }
      ]
    },
    {
      "cell_type": "code",
      "source": [
        "(stats['count']-stats['sum'])/X['survived'].sum()"
      ],
      "metadata": {
        "id": "EKGCaTns-_-_"
      },
      "execution_count": null,
      "outputs": []
    },
    {
      "cell_type": "code",
      "source": [
        "stats"
      ],
      "metadata": {
        "colab": {
          "base_uri": "https://localhost:8080/",
          "height": 175
        },
        "id": "HKohwnKC-BaI",
        "outputId": "47b50de2-be1f-49db-ca3d-9a24b3e52dcf"
      },
      "execution_count": 18,
      "outputs": [
        {
          "output_type": "execute_result",
          "data": {
            "text/plain": [
              "          sum  count\n",
              "embarked            \n",
              "C         150    270\n",
              "Q          44    123\n",
              "S         304    914"
            ],
            "text/html": [
              "\n",
              "  <div id=\"df-ed45d690-a1b0-42b3-aed6-637b6fdddeb7\">\n",
              "    <div class=\"colab-df-container\">\n",
              "      <div>\n",
              "<style scoped>\n",
              "    .dataframe tbody tr th:only-of-type {\n",
              "        vertical-align: middle;\n",
              "    }\n",
              "\n",
              "    .dataframe tbody tr th {\n",
              "        vertical-align: top;\n",
              "    }\n",
              "\n",
              "    .dataframe thead th {\n",
              "        text-align: right;\n",
              "    }\n",
              "</style>\n",
              "<table border=\"1\" class=\"dataframe\">\n",
              "  <thead>\n",
              "    <tr style=\"text-align: right;\">\n",
              "      <th></th>\n",
              "      <th>sum</th>\n",
              "      <th>count</th>\n",
              "    </tr>\n",
              "    <tr>\n",
              "      <th>embarked</th>\n",
              "      <th></th>\n",
              "      <th></th>\n",
              "    </tr>\n",
              "  </thead>\n",
              "  <tbody>\n",
              "    <tr>\n",
              "      <th>C</th>\n",
              "      <td>150</td>\n",
              "      <td>270</td>\n",
              "    </tr>\n",
              "    <tr>\n",
              "      <th>Q</th>\n",
              "      <td>44</td>\n",
              "      <td>123</td>\n",
              "    </tr>\n",
              "    <tr>\n",
              "      <th>S</th>\n",
              "      <td>304</td>\n",
              "      <td>914</td>\n",
              "    </tr>\n",
              "  </tbody>\n",
              "</table>\n",
              "</div>\n",
              "      <button class=\"colab-df-convert\" onclick=\"convertToInteractive('df-ed45d690-a1b0-42b3-aed6-637b6fdddeb7')\"\n",
              "              title=\"Convert this dataframe to an interactive table.\"\n",
              "              style=\"display:none;\">\n",
              "        \n",
              "  <svg xmlns=\"http://www.w3.org/2000/svg\" height=\"24px\"viewBox=\"0 0 24 24\"\n",
              "       width=\"24px\">\n",
              "    <path d=\"M0 0h24v24H0V0z\" fill=\"none\"/>\n",
              "    <path d=\"M18.56 5.44l.94 2.06.94-2.06 2.06-.94-2.06-.94-.94-2.06-.94 2.06-2.06.94zm-11 1L8.5 8.5l.94-2.06 2.06-.94-2.06-.94L8.5 2.5l-.94 2.06-2.06.94zm10 10l.94 2.06.94-2.06 2.06-.94-2.06-.94-.94-2.06-.94 2.06-2.06.94z\"/><path d=\"M17.41 7.96l-1.37-1.37c-.4-.4-.92-.59-1.43-.59-.52 0-1.04.2-1.43.59L10.3 9.45l-7.72 7.72c-.78.78-.78 2.05 0 2.83L4 21.41c.39.39.9.59 1.41.59.51 0 1.02-.2 1.41-.59l7.78-7.78 2.81-2.81c.8-.78.8-2.07 0-2.86zM5.41 20L4 18.59l7.72-7.72 1.47 1.35L5.41 20z\"/>\n",
              "  </svg>\n",
              "      </button>\n",
              "      \n",
              "  <style>\n",
              "    .colab-df-container {\n",
              "      display:flex;\n",
              "      flex-wrap:wrap;\n",
              "      gap: 12px;\n",
              "    }\n",
              "\n",
              "    .colab-df-convert {\n",
              "      background-color: #E8F0FE;\n",
              "      border: none;\n",
              "      border-radius: 50%;\n",
              "      cursor: pointer;\n",
              "      display: none;\n",
              "      fill: #1967D2;\n",
              "      height: 32px;\n",
              "      padding: 0 0 0 0;\n",
              "      width: 32px;\n",
              "    }\n",
              "\n",
              "    .colab-df-convert:hover {\n",
              "      background-color: #E2EBFA;\n",
              "      box-shadow: 0px 1px 2px rgba(60, 64, 67, 0.3), 0px 1px 3px 1px rgba(60, 64, 67, 0.15);\n",
              "      fill: #174EA6;\n",
              "    }\n",
              "\n",
              "    [theme=dark] .colab-df-convert {\n",
              "      background-color: #3B4455;\n",
              "      fill: #D2E3FC;\n",
              "    }\n",
              "\n",
              "    [theme=dark] .colab-df-convert:hover {\n",
              "      background-color: #434B5C;\n",
              "      box-shadow: 0px 1px 3px 1px rgba(0, 0, 0, 0.15);\n",
              "      filter: drop-shadow(0px 1px 2px rgba(0, 0, 0, 0.3));\n",
              "      fill: #FFFFFF;\n",
              "    }\n",
              "  </style>\n",
              "\n",
              "      <script>\n",
              "        const buttonEl =\n",
              "          document.querySelector('#df-ed45d690-a1b0-42b3-aed6-637b6fdddeb7 button.colab-df-convert');\n",
              "        buttonEl.style.display =\n",
              "          google.colab.kernel.accessAllowed ? 'block' : 'none';\n",
              "\n",
              "        async function convertToInteractive(key) {\n",
              "          const element = document.querySelector('#df-ed45d690-a1b0-42b3-aed6-637b6fdddeb7');\n",
              "          const dataTable =\n",
              "            await google.colab.kernel.invokeFunction('convertToInteractive',\n",
              "                                                     [key], {});\n",
              "          if (!dataTable) return;\n",
              "\n",
              "          const docLinkHtml = 'Like what you see? Visit the ' +\n",
              "            '<a target=\"_blank\" href=https://colab.research.google.com/notebooks/data_table.ipynb>data table notebook</a>'\n",
              "            + ' to learn more about interactive tables.';\n",
              "          element.innerHTML = '';\n",
              "          dataTable['output_type'] = 'display_data';\n",
              "          await google.colab.output.renderOutput(dataTable, element);\n",
              "          const docLink = document.createElement('div');\n",
              "          docLink.innerHTML = docLinkHtml;\n",
              "          element.appendChild(docLink);\n",
              "        }\n",
              "      </script>\n",
              "    </div>\n",
              "  </div>\n",
              "  "
            ]
          },
          "metadata": {},
          "execution_count": 18
        }
      ]
    },
    {
      "cell_type": "code",
      "source": [
        "X[X.embarked == 'C']['survived'].value_counts()"
      ],
      "metadata": {
        "colab": {
          "base_uri": "https://localhost:8080/"
        },
        "id": "KkiRCssXBi1t",
        "outputId": "9a53b25d-25bc-4680-ccd9-7a6a68c81280"
      },
      "execution_count": 21,
      "outputs": [
        {
          "output_type": "execute_result",
          "data": {
            "text/plain": [
              "1    150\n",
              "0    120\n",
              "Name: survived, dtype: int64"
            ]
          },
          "metadata": {},
          "execution_count": 21
        }
      ]
    },
    {
      "cell_type": "code",
      "source": [
        "X['survived'].count()"
      ],
      "metadata": {
        "colab": {
          "base_uri": "https://localhost:8080/"
        },
        "id": "OfqqGue3Bz3B",
        "outputId": "0f3d8700-3fb9-4771-cc8f-bceae92b7ec5"
      },
      "execution_count": 22,
      "outputs": [
        {
          "output_type": "execute_result",
          "data": {
            "text/plain": [
              "1309"
            ]
          },
          "metadata": {},
          "execution_count": 22
        }
      ]
    },
    {
      "cell_type": "markdown",
      "source": [
        "## Step 3: Decide columns to WoE encode"
      ],
      "metadata": {
        "id": "cX-UT4u36HZn"
      }
    },
    {
      "cell_type": "code",
      "source": [
        "woe_columns = [\"home.dest\", \"cabin\", \"embarked\"]"
      ],
      "metadata": {
        "id": "Sj3zXez-6KLk"
      },
      "execution_count": 13,
      "outputs": []
    },
    {
      "cell_type": "markdown",
      "source": [
        "## Step 4: Use WoE to encode columns mentioned in woe_columns. WoEEncoder implementation handles overfitting. We will ensure that there is no data leakage by K fold CV\n"
      ],
      "metadata": {
        "id": "iDOT6C3u6Rob"
      }
    },
    {
      "cell_type": "code",
      "source": [
        "def perform_woe_encoding(train_df, target_col, test_df, columns_to_encode, encode_data_type ='train', handle_data_leakage='k_fold', folds=5, param_dict={'randomized':True, 'sigma':0.05, 'regularization':1.0}):\n",
        "  assert train_df is not None and len(train_df)>0, 'Please pass train_data'\n",
        "  assert target_col is not None, 'Please pass target_col'\n",
        "  assert target_col in train_df.columns, f'Please ensure that {target_col} is a part of train_df'\n",
        "  assert all([col in train_df.columns for col in columns_to_encode]), f'Please ensure columns: {columns_to_encode} are present in train_df'\n",
        "  assert encode_data_type in ['train', 'test'], f'encode_data_type: {encode_data_type} not supported'\n",
        "\n",
        "  if encode_data_type == 'train':\n",
        "    ## perform K fold CV to encode training data with TE\n",
        "    if handle_data_leakage == 'k_fold' and folds>1:\n",
        "      train_labels_data = train_df[target_col]\n",
        "      skf = StratifiedKFold(n_splits=folds, random_state=42, shuffle=True)\n",
        "      encode_train_df_list = []\n",
        "\n",
        "      for i, (train_index, val_index) in enumerate(skf.split(train_df, train_labels_data)):\n",
        "        print(f'[START] Encoding fold number: {i}')\n",
        "        if param_dict is not None:\n",
        "          #handle_missing='value': Tells encoder to replace NA in column with global mean\n",
        "          #handle_unknown='value': Tells encoder to replace unknown/ unseen category during fitting with global mean\n",
        "          enc = WOEEncoder(cols=columns_to_encode, handle_missing='value', handle_unknown='value', return_df=True, **param_dict)\n",
        "        else:\n",
        "          ## smoothing: parameter 𝑓 in definition of lambda => How smoothly do we transition between conditional and global mean\n",
        "          ## min_samples_leaf: parameter k in definition of lambda => Half of number of samples for which we have complete faith in conditional probability.\n",
        "          enc = WOEEncoder(cols=columns_to_encode, handle_missing='value', handle_unknown='value', return_df=True, randomized=True, sigma=0.05, regularization=1.0)\n",
        "\n",
        "        ## Get data to be encoded with TE (kth fold)\n",
        "        kth_fold_train_df = train_df.iloc[val_index]\n",
        "        ## Get remaining k-1 folds that will be used to calculate mean values for categories\n",
        "        remaining_folds_train_df = train_df.iloc[train_index]\n",
        "        remaining_folds_labels_data = train_df[target_col].iloc[train_index]\n",
        "\n",
        "        ## Fit TE on remaining_folds_train_df and remaining_folds_labels_data\n",
        "        enc.fit(remaining_folds_train_df, remaining_folds_labels_data)\n",
        "\n",
        "        ## Transform kth_fold_train_df\n",
        "        kth_fold_encoded_train_df = enc.transform(kth_fold_train_df)\n",
        "\n",
        "        ## Ensure that raw values/ categories in columns_to_encode are also returned\n",
        "        print(f'Concatenate raw columns to woe encoded df')\n",
        "        encoded_column_names = [f'{col}_woe_encoded' for col in columns_to_encode]\n",
        "        kth_fold_encoded_train_df = kth_fold_encoded_train_df.rename(columns=dict(zip(columns_to_encode, encoded_column_names)))\n",
        "        raw_columns_df = kth_fold_train_df[columns_to_encode]\n",
        "        kth_fold_encoded_train_df = pd.concat([kth_fold_encoded_train_df, raw_columns_df], axis=1)\n",
        "\n",
        "        ## Gaussian noise is added automatically when randomized = True\n",
        "\n",
        "        encode_train_df_list.append(kth_fold_encoded_train_df)\n",
        "        print(f'===[END] Encoding fold number: {i}===')\n",
        "\n",
        "      ## Concatenate encode_train_df_list\n",
        "      final_encoded_train_df = pd.concat(encode_train_df_list, axis=0)\n",
        "      return final_encoded_train_df.reindex(train_df.index)\n",
        "\n",
        "  elif encode_data_type == 'test':\n",
        "    assert test_df is not None and len(test_df)>0, 'Please pass test_df'\n",
        "    assert all([col in test_df.columns for col in columns_to_encode]), f'Please ensure columns: {columns_to_encode} are present in test_df'\n",
        "\n",
        "    print(f'[START] Encoding Test data')\n",
        "    if param_dict is not None:\n",
        "      #handle_missing='value': Tells encoder to replace NA in column with global mean\n",
        "      #handle_unknown='value': Tells encoder to replace unknown/ unseen category during fitting with global mean\n",
        "      enc = WOEEncoder(cols=columns_to_encode, handle_missing='value', handle_unknown='value', return_df=True, **param_dict)\n",
        "    else:\n",
        "      ## smoothing: parameter 𝑓 in definition of lambda => How smoothly do we transition between conditional and global mean\n",
        "      ## min_samples_leaf: parameter k in definition of lambda => Half of number of samples for which we have complete faith in conditional probability.\n",
        "      enc = WOEEncoder(cols=columns_to_encode, handle_missing='value', handle_unknown='value', return_df=True, randomized=True, sigma=0.05, regularization=1.0)\n",
        "\n",
        "    ## Fit train_df on enc\n",
        "    train_label_data = train_df[target_col]\n",
        "    enc.fit(train_df, train_label_data)\n",
        "\n",
        "    ## Tranform test_df\n",
        "    encoded_test_df = enc.transform(test_df)\n",
        "\n",
        "    ## Update the column names in test_encoded_train_df\n",
        "    encoded_column_names = [f'{col}_woe_encoded' for col in columns_to_encode]\n",
        "    encoded_test_df = encoded_test_df.rename(columns=dict(zip(columns_to_encode, encoded_column_names)))\n",
        "\n",
        "    ## Ensure that raw columns are also returned\n",
        "    print(f'Concatenate raw columns to target encoded df')\n",
        "    raw_columns_df = test_df[columns_to_encode]\n",
        "    encoded_test_df = pd.concat([encoded_test_df, raw_columns_df], axis=1)\n",
        "\n",
        "    print(f'[END] Encoding Test data')\n",
        "\n",
        "    return encoded_test_df.reindex(test_df.index)\n"
      ],
      "metadata": {
        "id": "Xf-8fAEYPB79"
      },
      "execution_count": 39,
      "outputs": []
    },
    {
      "cell_type": "code",
      "source": [
        "woe_X_train_df = perform_woe_encoding(X_train, output_column, X_test, woe_columns, encode_data_type ='train', handle_data_leakage='k_fold', folds=5, param_dict={'randomized':True, 'sigma':0.05, 'regularization':1.0})\n",
        "print(f'Shape of woe_X_train_df: {woe_X_train_df.shape}')"
      ],
      "metadata": {
        "colab": {
          "base_uri": "https://localhost:8080/"
        },
        "id": "6rdcuv4OQ4qD",
        "outputId": "40bbabf2-1eef-49ff-9669-5a4a0bcd5bf8"
      },
      "execution_count": 40,
      "outputs": [
        {
          "output_type": "stream",
          "name": "stdout",
          "text": [
            "[START] Encoding fold number: 0\n",
            "Concatenate raw columns to woe encoded df\n",
            "===[END] Encoding fold number: 0===\n",
            "[START] Encoding fold number: 1\n",
            "Concatenate raw columns to woe encoded df\n",
            "===[END] Encoding fold number: 1===\n",
            "[START] Encoding fold number: 2\n",
            "Concatenate raw columns to woe encoded df\n",
            "===[END] Encoding fold number: 2===\n",
            "[START] Encoding fold number: 3\n",
            "Concatenate raw columns to woe encoded df\n",
            "===[END] Encoding fold number: 3===\n",
            "[START] Encoding fold number: 4\n",
            "Concatenate raw columns to woe encoded df\n",
            "===[END] Encoding fold number: 4===\n",
            "Shape of woe_X_train_df: (1047, 17)\n"
          ]
        }
      ]
    },
    {
      "cell_type": "code",
      "source": [
        "woe_X_test_df = perform_woe_encoding(X_train, output_column, X_test, woe_columns, encode_data_type ='test', param_dict={'randomized':True, 'sigma':0.05, 'regularization':1.0})\n",
        "print(f'Shape of woe_X_test_df: {woe_X_test_df.shape}')"
      ],
      "metadata": {
        "colab": {
          "base_uri": "https://localhost:8080/"
        },
        "id": "6JxNG6rwRH0N",
        "outputId": "169297e8-71b2-4b9d-bc85-e50ef0c184c7"
      },
      "execution_count": 41,
      "outputs": [
        {
          "output_type": "stream",
          "name": "stdout",
          "text": [
            "[START] Encoding Test data\n",
            "Concatenate raw columns to target encoded df\n",
            "[END] Encoding Test data\n",
            "Shape of woe_X_test_df: (262, 17)\n"
          ]
        }
      ]
    },
    {
      "cell_type": "markdown",
      "source": [
        "## Step 5: Encode remaining columns using sklearn transformer"
      ],
      "metadata": {
        "id": "IQ2qikg0R9it"
      }
    },
    {
      "cell_type": "code",
      "source": [
        "ordinal_categorical_columns = ['pclass']\n",
        "one_hot_categorical_column = [\"sex\"]\n",
        "numerical_columns = ['age', 'sibsp', 'parch', 'fare', 'cabin_woe_encoded', 'embarked_woe_encoded', 'home.dest_woe_encoded']"
      ],
      "metadata": {
        "id": "wIjkELXIR-QF"
      },
      "execution_count": 42,
      "outputs": []
    },
    {
      "cell_type": "code",
      "source": [
        "mixed_preprocessor = ColumnTransformer([(\"numerical\", \"passthrough\", numerical_columns), (\"ordinal_encoding\", OrdinalEncoder(handle_unknown=\"use_encoded_value\", unknown_value=-1), ordinal_categorical_columns), (\"one_hot_encoding\", OneHotEncoder(handle_unknown=\"ignore\", max_categories=20, sparse_output=False), one_hot_categorical_column)], verbose_feature_names_out=False)\n",
        "mixed_preprocessor.set_output(transform=\"pandas\")"
      ],
      "metadata": {
        "colab": {
          "base_uri": "https://localhost:8080/",
          "height": 118
        },
        "id": "gC-CNLYXSGzn",
        "outputId": "8a379d0f-0ec9-4343-9549-29ca5105e27f"
      },
      "execution_count": 43,
      "outputs": [
        {
          "output_type": "execute_result",
          "data": {
            "text/plain": [
              "ColumnTransformer(transformers=[('numerical', 'passthrough',\n",
              "                                 ['age', 'sibsp', 'parch', 'fare',\n",
              "                                  'cabin_woe_encoded', 'embarked_woe_encoded',\n",
              "                                  'home.dest_woe_encoded']),\n",
              "                                ('ordinal_encoding',\n",
              "                                 OrdinalEncoder(handle_unknown='use_encoded_value',\n",
              "                                                unknown_value=-1),\n",
              "                                 ['pclass']),\n",
              "                                ('one_hot_encoding',\n",
              "                                 OneHotEncoder(handle_unknown='ignore',\n",
              "                                               max_categories=20,\n",
              "                                               sparse_output=False),\n",
              "                                 ['sex'])],\n",
              "                  verbose_feature_names_out=False)"
            ],
            "text/html": [
              "<style>#sk-container-id-3 {color: black;background-color: white;}#sk-container-id-3 pre{padding: 0;}#sk-container-id-3 div.sk-toggleable {background-color: white;}#sk-container-id-3 label.sk-toggleable__label {cursor: pointer;display: block;width: 100%;margin-bottom: 0;padding: 0.3em;box-sizing: border-box;text-align: center;}#sk-container-id-3 label.sk-toggleable__label-arrow:before {content: \"▸\";float: left;margin-right: 0.25em;color: #696969;}#sk-container-id-3 label.sk-toggleable__label-arrow:hover:before {color: black;}#sk-container-id-3 div.sk-estimator:hover label.sk-toggleable__label-arrow:before {color: black;}#sk-container-id-3 div.sk-toggleable__content {max-height: 0;max-width: 0;overflow: hidden;text-align: left;background-color: #f0f8ff;}#sk-container-id-3 div.sk-toggleable__content pre {margin: 0.2em;color: black;border-radius: 0.25em;background-color: #f0f8ff;}#sk-container-id-3 input.sk-toggleable__control:checked~div.sk-toggleable__content {max-height: 200px;max-width: 100%;overflow: auto;}#sk-container-id-3 input.sk-toggleable__control:checked~label.sk-toggleable__label-arrow:before {content: \"▾\";}#sk-container-id-3 div.sk-estimator input.sk-toggleable__control:checked~label.sk-toggleable__label {background-color: #d4ebff;}#sk-container-id-3 div.sk-label input.sk-toggleable__control:checked~label.sk-toggleable__label {background-color: #d4ebff;}#sk-container-id-3 input.sk-hidden--visually {border: 0;clip: rect(1px 1px 1px 1px);clip: rect(1px, 1px, 1px, 1px);height: 1px;margin: -1px;overflow: hidden;padding: 0;position: absolute;width: 1px;}#sk-container-id-3 div.sk-estimator {font-family: monospace;background-color: #f0f8ff;border: 1px dotted black;border-radius: 0.25em;box-sizing: border-box;margin-bottom: 0.5em;}#sk-container-id-3 div.sk-estimator:hover {background-color: #d4ebff;}#sk-container-id-3 div.sk-parallel-item::after {content: \"\";width: 100%;border-bottom: 1px solid gray;flex-grow: 1;}#sk-container-id-3 div.sk-label:hover label.sk-toggleable__label {background-color: #d4ebff;}#sk-container-id-3 div.sk-serial::before {content: \"\";position: absolute;border-left: 1px solid gray;box-sizing: border-box;top: 0;bottom: 0;left: 50%;z-index: 0;}#sk-container-id-3 div.sk-serial {display: flex;flex-direction: column;align-items: center;background-color: white;padding-right: 0.2em;padding-left: 0.2em;position: relative;}#sk-container-id-3 div.sk-item {position: relative;z-index: 1;}#sk-container-id-3 div.sk-parallel {display: flex;align-items: stretch;justify-content: center;background-color: white;position: relative;}#sk-container-id-3 div.sk-item::before, #sk-container-id-3 div.sk-parallel-item::before {content: \"\";position: absolute;border-left: 1px solid gray;box-sizing: border-box;top: 0;bottom: 0;left: 50%;z-index: -1;}#sk-container-id-3 div.sk-parallel-item {display: flex;flex-direction: column;z-index: 1;position: relative;background-color: white;}#sk-container-id-3 div.sk-parallel-item:first-child::after {align-self: flex-end;width: 50%;}#sk-container-id-3 div.sk-parallel-item:last-child::after {align-self: flex-start;width: 50%;}#sk-container-id-3 div.sk-parallel-item:only-child::after {width: 0;}#sk-container-id-3 div.sk-dashed-wrapped {border: 1px dashed gray;margin: 0 0.4em 0.5em 0.4em;box-sizing: border-box;padding-bottom: 0.4em;background-color: white;}#sk-container-id-3 div.sk-label label {font-family: monospace;font-weight: bold;display: inline-block;line-height: 1.2em;}#sk-container-id-3 div.sk-label-container {text-align: center;}#sk-container-id-3 div.sk-container {/* jupyter's `normalize.less` sets `[hidden] { display: none; }` but bootstrap.min.css set `[hidden] { display: none !important; }` so we also need the `!important` here to be able to override the default hidden behavior on the sphinx rendered scikit-learn.org. See: https://github.com/scikit-learn/scikit-learn/issues/21755 */display: inline-block !important;position: relative;}#sk-container-id-3 div.sk-text-repr-fallback {display: none;}</style><div id=\"sk-container-id-3\" class=\"sk-top-container\"><div class=\"sk-text-repr-fallback\"><pre>ColumnTransformer(transformers=[(&#x27;numerical&#x27;, &#x27;passthrough&#x27;,\n",
              "                                 [&#x27;age&#x27;, &#x27;sibsp&#x27;, &#x27;parch&#x27;, &#x27;fare&#x27;,\n",
              "                                  &#x27;cabin_woe_encoded&#x27;, &#x27;embarked_woe_encoded&#x27;,\n",
              "                                  &#x27;home.dest_woe_encoded&#x27;]),\n",
              "                                (&#x27;ordinal_encoding&#x27;,\n",
              "                                 OrdinalEncoder(handle_unknown=&#x27;use_encoded_value&#x27;,\n",
              "                                                unknown_value=-1),\n",
              "                                 [&#x27;pclass&#x27;]),\n",
              "                                (&#x27;one_hot_encoding&#x27;,\n",
              "                                 OneHotEncoder(handle_unknown=&#x27;ignore&#x27;,\n",
              "                                               max_categories=20,\n",
              "                                               sparse_output=False),\n",
              "                                 [&#x27;sex&#x27;])],\n",
              "                  verbose_feature_names_out=False)</pre><b>In a Jupyter environment, please rerun this cell to show the HTML representation or trust the notebook. <br />On GitHub, the HTML representation is unable to render, please try loading this page with nbviewer.org.</b></div><div class=\"sk-container\" hidden><div class=\"sk-item sk-dashed-wrapped\"><div class=\"sk-label-container\"><div class=\"sk-label sk-toggleable\"><input class=\"sk-toggleable__control sk-hidden--visually\" id=\"sk-estimator-id-9\" type=\"checkbox\" ><label for=\"sk-estimator-id-9\" class=\"sk-toggleable__label sk-toggleable__label-arrow\">ColumnTransformer</label><div class=\"sk-toggleable__content\"><pre>ColumnTransformer(transformers=[(&#x27;numerical&#x27;, &#x27;passthrough&#x27;,\n",
              "                                 [&#x27;age&#x27;, &#x27;sibsp&#x27;, &#x27;parch&#x27;, &#x27;fare&#x27;,\n",
              "                                  &#x27;cabin_woe_encoded&#x27;, &#x27;embarked_woe_encoded&#x27;,\n",
              "                                  &#x27;home.dest_woe_encoded&#x27;]),\n",
              "                                (&#x27;ordinal_encoding&#x27;,\n",
              "                                 OrdinalEncoder(handle_unknown=&#x27;use_encoded_value&#x27;,\n",
              "                                                unknown_value=-1),\n",
              "                                 [&#x27;pclass&#x27;]),\n",
              "                                (&#x27;one_hot_encoding&#x27;,\n",
              "                                 OneHotEncoder(handle_unknown=&#x27;ignore&#x27;,\n",
              "                                               max_categories=20,\n",
              "                                               sparse_output=False),\n",
              "                                 [&#x27;sex&#x27;])],\n",
              "                  verbose_feature_names_out=False)</pre></div></div></div><div class=\"sk-parallel\"><div class=\"sk-parallel-item\"><div class=\"sk-item\"><div class=\"sk-label-container\"><div class=\"sk-label sk-toggleable\"><input class=\"sk-toggleable__control sk-hidden--visually\" id=\"sk-estimator-id-10\" type=\"checkbox\" ><label for=\"sk-estimator-id-10\" class=\"sk-toggleable__label sk-toggleable__label-arrow\">numerical</label><div class=\"sk-toggleable__content\"><pre>[&#x27;age&#x27;, &#x27;sibsp&#x27;, &#x27;parch&#x27;, &#x27;fare&#x27;, &#x27;cabin_woe_encoded&#x27;, &#x27;embarked_woe_encoded&#x27;, &#x27;home.dest_woe_encoded&#x27;]</pre></div></div></div><div class=\"sk-serial\"><div class=\"sk-item\"><div class=\"sk-estimator sk-toggleable\"><input class=\"sk-toggleable__control sk-hidden--visually\" id=\"sk-estimator-id-11\" type=\"checkbox\" ><label for=\"sk-estimator-id-11\" class=\"sk-toggleable__label sk-toggleable__label-arrow\">passthrough</label><div class=\"sk-toggleable__content\"><pre>passthrough</pre></div></div></div></div></div></div><div class=\"sk-parallel-item\"><div class=\"sk-item\"><div class=\"sk-label-container\"><div class=\"sk-label sk-toggleable\"><input class=\"sk-toggleable__control sk-hidden--visually\" id=\"sk-estimator-id-12\" type=\"checkbox\" ><label for=\"sk-estimator-id-12\" class=\"sk-toggleable__label sk-toggleable__label-arrow\">ordinal_encoding</label><div class=\"sk-toggleable__content\"><pre>[&#x27;pclass&#x27;]</pre></div></div></div><div class=\"sk-serial\"><div class=\"sk-item\"><div class=\"sk-estimator sk-toggleable\"><input class=\"sk-toggleable__control sk-hidden--visually\" id=\"sk-estimator-id-13\" type=\"checkbox\" ><label for=\"sk-estimator-id-13\" class=\"sk-toggleable__label sk-toggleable__label-arrow\">OrdinalEncoder</label><div class=\"sk-toggleable__content\"><pre>OrdinalEncoder(handle_unknown=&#x27;use_encoded_value&#x27;, unknown_value=-1)</pre></div></div></div></div></div></div><div class=\"sk-parallel-item\"><div class=\"sk-item\"><div class=\"sk-label-container\"><div class=\"sk-label sk-toggleable\"><input class=\"sk-toggleable__control sk-hidden--visually\" id=\"sk-estimator-id-14\" type=\"checkbox\" ><label for=\"sk-estimator-id-14\" class=\"sk-toggleable__label sk-toggleable__label-arrow\">one_hot_encoding</label><div class=\"sk-toggleable__content\"><pre>[&#x27;sex&#x27;]</pre></div></div></div><div class=\"sk-serial\"><div class=\"sk-item\"><div class=\"sk-estimator sk-toggleable\"><input class=\"sk-toggleable__control sk-hidden--visually\" id=\"sk-estimator-id-15\" type=\"checkbox\" ><label for=\"sk-estimator-id-15\" class=\"sk-toggleable__label sk-toggleable__label-arrow\">OneHotEncoder</label><div class=\"sk-toggleable__content\"><pre>OneHotEncoder(handle_unknown=&#x27;ignore&#x27;, max_categories=20, sparse_output=False)</pre></div></div></div></div></div></div></div></div></div></div>"
            ]
          },
          "metadata": {},
          "execution_count": 43
        }
      ]
    },
    {
      "cell_type": "code",
      "source": [
        "final_encoded_X_train_df = mixed_preprocessor.fit_transform(woe_X_train_df)\n",
        "final_encoded_X_test_df = mixed_preprocessor.transform(woe_X_test_df)"
      ],
      "metadata": {
        "id": "zfQRI7jZSKzz"
      },
      "execution_count": 44,
      "outputs": []
    },
    {
      "cell_type": "markdown",
      "source": [
        "## Step 6: Train HistGradientBoostingClassifier"
      ],
      "metadata": {
        "id": "fy1c3hXUSQ9q"
      }
    },
    {
      "cell_type": "code",
      "source": [
        "clf = HistGradientBoostingClassifier(verbose=5)"
      ],
      "metadata": {
        "id": "VMrshZbnSRcz"
      },
      "execution_count": 45,
      "outputs": []
    },
    {
      "cell_type": "code",
      "source": [
        "clf.fit(final_encoded_X_train_df, woe_X_train_df[output_column])"
      ],
      "metadata": {
        "id": "daoESLNLSTGn"
      },
      "execution_count": null,
      "outputs": []
    },
    {
      "cell_type": "code",
      "source": [
        "precision_te, recall_te, thresholds_te = precision_recall_curve(woe_X_test_df[output_column], clf.predict_proba(final_encoded_X_test_df)[:,1])\n",
        "area_te = auc(recall_te, precision_te)\n",
        "print(f'area_te: {area_te}')"
      ],
      "metadata": {
        "colab": {
          "base_uri": "https://localhost:8080/"
        },
        "id": "BLZVsKjnSaG3",
        "outputId": "096adf0f-329e-41b4-c866-23f2385a30e7"
      },
      "execution_count": 48,
      "outputs": [
        {
          "output_type": "stream",
          "name": "stdout",
          "text": [
            "area_te: 0.8270117114752922\n"
          ]
        }
      ]
    },
    {
      "cell_type": "markdown",
      "source": [
        "## Step 7: Perform K Fold CV"
      ],
      "metadata": {
        "id": "7s4Rh3ouSnlS"
      }
    },
    {
      "cell_type": "code",
      "source": [
        "def perform_cv(df, output_column, folds = 5):\n",
        "  skf = StratifiedKFold(n_splits=folds, random_state=42, shuffle=True)\n",
        "  recall_list = []\n",
        "  precision_list = []\n",
        "  auc_pr_list = []\n",
        "  for i, (train_index, val_index) in enumerate(skf.split(X, y)):\n",
        "    print(f\"Start evaluating for fold: {i}\")\n",
        "    ## Perform TE on te_columns\n",
        "    train_df = df.iloc[train_index]\n",
        "    target_encoded_train_df = perform_woe_encoding(train_df, output_column, None, woe_columns, encode_data_type ='train', handle_data_leakage='k_fold', folds=folds, param_dict={'randomized':True, 'sigma':0.05, 'regularization':1.0})\n",
        "\n",
        "    ## Perform remaining columns encoding\n",
        "    mixed_preprocessor = ColumnTransformer([(\"numerical\", \"passthrough\", numerical_columns), (\"ordinal_encoding\", OrdinalEncoder(handle_unknown=\"use_encoded_value\", unknown_value=-1), ordinal_categorical_columns), (\"one_hot_encoding\", OneHotEncoder(handle_unknown=\"ignore\", max_categories=20, sparse_output=False), one_hot_categorical_column)], verbose_feature_names_out=False)\n",
        "    mixed_preprocessor.set_output(transform=\"pandas\")\n",
        "    all_encoded_train_df = mixed_preprocessor.fit_transform(target_encoded_train_df)\n",
        "\n",
        "    ## Train classifier\n",
        "    clf = HistGradientBoostingClassifier()\n",
        "    clf.fit(all_encoded_train_df, train_df[output_column])\n",
        "\n",
        "    ## Predict on val_df\n",
        "    val_df = df.loc[val_index]\n",
        "    target_encoded_val_df = perform_woe_encoding(train_df, output_column, val_df, woe_columns, encode_data_type ='test', param_dict={'randomized':True, 'sigma':0.05, 'regularization':1.0})\n",
        "    all_encoded_val_df = mixed_preprocessor.transform(target_encoded_val_df)\n",
        "\n",
        "    ## Predict on all_encoded_val_df\n",
        "    pred_proba = clf.predict_proba(all_encoded_val_df)\n",
        "\n",
        "    precision, recall, _ = precision_recall_curve(val_df[output_column], pred_proba[:,1])\n",
        "    precision_list.append(precision)\n",
        "    recall_list.append(recall)\n",
        "\n",
        "    pr_auc = auc(recall, precision)\n",
        "    auc_pr_list.append(pr_auc)\n",
        "    # print(f'pr_auc: {pr_auc}')\n",
        "\n",
        "    print(f\"End evaluating for fold: {i}\")\n",
        "\n",
        "  return recall_list, precision_list, auc_pr_list\n"
      ],
      "metadata": {
        "id": "5jeQwJKZSnHQ"
      },
      "execution_count": 51,
      "outputs": []
    },
    {
      "cell_type": "code",
      "source": [
        "recall_list, precision_list, auc_pr_list = perform_cv(X, output_column, folds = 5)"
      ],
      "metadata": {
        "id": "8-N2cYaqTsXp"
      },
      "execution_count": null,
      "outputs": []
    },
    {
      "cell_type": "markdown",
      "source": [
        "## Plot PR graph for all folds"
      ],
      "metadata": {
        "id": "5HzxtrNxT2cF"
      }
    },
    {
      "cell_type": "code",
      "source": [
        "max_len = max(len(precision) for precision in precision_list)\n",
        "precisions_arr = np.full((len(precision_list), max_len), np.nan)\n",
        "recalls_arr = np.full((len(recall_list), max_len), np.nan)\n",
        "for i in range(len(precision_list)):\n",
        "    precisions_arr[i, :len(precision_list[i])] = precision_list[i]\n",
        "    recalls_arr[i, :len(recall_list[i])] = recall_list[i]\n",
        "\n",
        "mean_precision = np.nanmean(precisions_arr, axis=0)\n",
        "mean_recall = np.nanmean(recalls_arr, axis=0)\n",
        "sort_inds = np.argsort(mean_recall)\n",
        "mean_precision = mean_precision[sort_inds]\n",
        "mean_recall = mean_recall[sort_inds]\n",
        "mean_auc_pr = auc(mean_recall, mean_precision)"
      ],
      "metadata": {
        "id": "Zg59Xt32T3Jw"
      },
      "execution_count": 57,
      "outputs": []
    },
    {
      "cell_type": "code",
      "source": [
        "for i in range(len(precision_list)):\n",
        "    plt.plot(recall_list[i], precision_list[i], label='Fold %d AUPR=%.4f' % (i+1, auc_pr_list[i]))\n",
        "plt.plot(mean_recall, mean_precision, label='Mean AUPR: {:.4f}'.format(mean_auc_pr))\n",
        "plt.xlabel('Recall')\n",
        "plt.ylabel('Precision')\n",
        "plt.title('Precision-Recall Curve')\n",
        "plt.legend()\n",
        "plt.show()"
      ],
      "metadata": {
        "colab": {
          "base_uri": "https://localhost:8080/",
          "height": 472
        },
        "id": "UB5DMk1VUBdz",
        "outputId": "ad1ea432-f29e-4c6d-c8f6-2b81edb2fafe"
      },
      "execution_count": 58,
      "outputs": [
        {
          "output_type": "display_data",
          "data": {
            "text/plain": [
              "<Figure size 640x480 with 1 Axes>"
            ],
            "image/png": "[encoded data removed]"
          },
          "metadata": {}
        }
      ]
    }
  ]
}