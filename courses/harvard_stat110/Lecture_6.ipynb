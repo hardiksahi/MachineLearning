{
  "nbformat": 4,
  "nbformat_minor": 0,
  "metadata": {
    "colab": {
      "provenance": []
    },
    "kernelspec": {
      "name": "python3",
      "display_name": "Python 3"
    },
    "language_info": {
      "name": "python"
    }
  },
  "cells": [
    {
      "cell_type": "markdown",
      "source": [
        "**Monty Hall Problem**\n",
        "There are 3 doors. One door has a car behind it and the remaiing two have a goat behind it. The following sequence of steps happen:\n",
        "1. Contestant chooses a door randomly with equal probability.\n",
        "2. The host opens one of the doors out of the two remaning to reveal a goat\n",
        "3. The host gives the contestant an option to swicth his choice (i.e. Stick with choice made in Step 1 or choose the one remaning door)\n",
        "\n",
        "Implicit assumptions in this problem:\n",
        "1. The host knows the door behind which there is the car.\n",
        "2. In step 2, host always opens the door which has a goat (never the car)\n",
        "3. In case both the remaining doors in step 2 have goats, the host chooses a door to reveal randomly with equal probability.\n",
        "4. Obviously, the contestant in interested in the car, not the goat\n",
        "\n",
        "Question: Should the contestant switch?"
      ],
      "metadata": {
        "id": "BVb5QfV83rDU"
      }
    },
    {
      "cell_type": "code",
      "execution_count": null,
      "metadata": {
        "id": "TLEEnEVA3pDG"
      },
      "outputs": [],
      "source": [
        "import numpy as np\n",
        "import pandas as pd\n",
        "import random\n",
        "import seaborn as sns\n",
        "import scipy.stats as stats\n",
        "from operator import itemgetter"
      ]
    },
    {
      "cell_type": "code",
      "source": [
        "def execute_month_hall_problem(iterations = 1000, door_count = 3):\n",
        "\n",
        "  def set_up_monty_hall_game(door_count = 3):\n",
        "    return random.sample(['C'] + ['G']*(door_count-1), door_count)\n",
        "\n",
        "  number_wins_with_switch = 0\n",
        "  number_wins_without_switch = 0\n",
        "\n",
        "  for index in range(iterations):\n",
        "    ## Step 0: Set up the game\n",
        "    game = set_up_monty_hall_game(door_count = door_count)\n",
        "    car_known_to_host_door_index = game.index('C')\n",
        "\n",
        "    ## Step 1: Contestant chooses a door randomly\n",
        "    contestant_choice_door_index = random.choice(range(door_count))\n",
        "\n",
        "    ## Step 2: Host reveals one of the remaining doors\n",
        "    if car_known_to_host_door_index == contestant_choice_door_index:\n",
        "      ## Case 1: Both the remaning doors have goats. Hence the host chooses the door to reveal with equal probability.\n",
        "      door_index_list = list(range(door_count))\n",
        "      door_index_list.remove(contestant_choice_door_index)\n",
        "      host_reveal_goat_door_index = random.choice(door_index_list)\n",
        "    else:\n",
        "      ## Case 2: Contestant chose the door with a goat. This means that the 2 remaning doors have a car and a goat. The host has option to choose only 1 (with goat) door to reveal\n",
        "      door_index_list = list(range(door_count))\n",
        "      door_index_list.remove(contestant_choice_door_index)\n",
        "      door_index_list.remove(car_known_to_host_door_index)\n",
        "      host_reveal_goat_door_index = door_index_list[0]\n",
        "\n",
        "\n",
        "    ## Case 1: Contestant does not switch\n",
        "    number_wins_without_switch = number_wins_without_switch+1 if contestant_choice_door_index == car_known_to_host_door_index else number_wins_without_switch\n",
        "\n",
        "    ## Case 2: Contestant makes the switch\n",
        "    door_index_list = list(range(door_count))\n",
        "    door_index_list.remove(contestant_choice_door_index)\n",
        "    door_index_list.remove(host_reveal_goat_door_index)\n",
        "\n",
        "    new_contestant_choice =  door_index_list[0]\n",
        "    number_wins_with_switch = number_wins_with_switch + 1 if new_contestant_choice == car_known_to_host_door_index else number_wins_with_switch\n",
        "\n",
        "  return {'P_win_with_switch':number_wins_with_switch/iterations, 'P_win_without_switch':number_wins_without_switch/iterations}\n",
        ""
      ],
      "metadata": {
        "id": "xZ-HCU3T4gcj"
      },
      "execution_count": null,
      "outputs": []
    },
    {
      "cell_type": "code",
      "source": [
        "monty_hall_probability_dict_list = [execute_month_hall_problem(iterations = 1000, door_count = 3) for i in range(100)]"
      ],
      "metadata": {
        "id": "-3gpaEWi8HJx"
      },
      "execution_count": null,
      "outputs": []
    },
    {
      "cell_type": "code",
      "source": [
        "monty_hall_probability_win_with_switch = list(map(itemgetter('P_win_with_switch'), monty_hall_probability_dict_list))\n",
        "monty_hall_probability_win_without_switch = list(map(itemgetter('P_win_without_switch'), monty_hall_probability_dict_list))"
      ],
      "metadata": {
        "id": "46y25t4p_K1y"
      },
      "execution_count": null,
      "outputs": []
    },
    {
      "cell_type": "code",
      "source": [
        "prob_df_with_switch = pd.DataFrame({'probability_win':monty_hall_probability_win_with_switch, 'strategy':'Contestant should switch'})\n",
        "prob_df_without_switch = pd.DataFrame({'probability_win':monty_hall_probability_win_without_switch, 'strategy':'Contestant should not switch'})\n",
        "prob_df = pd.concat([prob_df_with_switch, prob_df_without_switch], axis=0).reset_index(drop=True)"
      ],
      "metadata": {
        "id": "TAwwrxRp_-Ti"
      },
      "execution_count": null,
      "outputs": []
    },
    {
      "cell_type": "code",
      "source": [
        "sns.histplot(data=prob_df, x='probability_win', hue='strategy')"
      ],
      "metadata": {
        "colab": {
          "base_uri": "https://localhost:8080/",
          "height": 297
        },
        "id": "3kMzIeZu_V_O",
        "outputId": "c8c7d1ca-b593-443d-8c2a-12932c6140a2"
      },
      "execution_count": null,
      "outputs": [
        {
          "output_type": "execute_result",
          "data": {
            "text/plain": [
              "<matplotlib.axes._subplots.AxesSubplot at 0x7f2eca642910>"
            ]
          },
          "metadata": {},
          "execution_count": 6
        },
        {
          "output_type": "display_data",
          "data": {
            "text/plain": [
              "<Figure size 432x288 with 1 Axes>"
            ],
            "image/png": "[encoded data removed]"
          },
          "metadata": {
            "needs_background": "light"
          }
        }
      ]
    },
    {
      "cell_type": "code",
      "source": [
        "stats.ttest_1samp(a=monty_hall_probability_win_with_switch, popmean=2/3)"
      ],
      "metadata": {
        "colab": {
          "base_uri": "https://localhost:8080/"
        },
        "id": "Ue3_BU4uA6u5",
        "outputId": "e89465ac-bfb3-4a07-ff43-39ce8f6c425d"
      },
      "execution_count": null,
      "outputs": [
        {
          "output_type": "execute_result",
          "data": {
            "text/plain": [
              "Ttest_1sampResult(statistic=0.6011128846623238, pvalue=0.549138680978057)"
            ]
          },
          "metadata": {},
          "execution_count": 7
        }
      ]
    },
    {
      "cell_type": "code",
      "source": [
        "stats.ttest_1samp(a=monty_hall_probability_win_without_switch, popmean=1/3)"
      ],
      "metadata": {
        "colab": {
          "base_uri": "https://localhost:8080/"
        },
        "id": "RZk0m65gA-7g",
        "outputId": "db232f45-e40d-4068-cd78-00bc659bb12d"
      },
      "execution_count": null,
      "outputs": [
        {
          "output_type": "execute_result",
          "data": {
            "text/plain": [
              "Ttest_1sampResult(statistic=-0.6011128846621919, pvalue=0.5491386809781444)"
            ]
          },
          "metadata": {},
          "execution_count": 8
        }
      ]
    },
    {
      "cell_type": "markdown",
      "source": [
        "It can be clearly seen from the graph above that the probability of winning when the person decides to switch > probability of winning when the person does not switch.\n",
        "\n",
        "Using the T test, we can see that for the case when the person makes a switch, the data does not provide enough evidence to reject the null hypothesis that probability = 2/3\n",
        "\n",
        "Similarly, we can see that when the person does not make a switch, the data does not provide enough evidence to reject the null hypothesis that the probability = 1/3"
      ],
      "metadata": {
        "id": "J7W8wvgjAulc"
      }
    },
    {
      "cell_type": "markdown",
      "source": [
        "**Simpsons paradox**: Each jar contains orange and yellow jellybeans. Consider following\n",
        "1.   Set 1: 2 jars. Jar 1 has higher probability of orange jellybeans as compared to Jar 2\n",
        "2.   Set 2: 2 jars. Jar 1 has higher probability of orange jellybeans as compared to Jar 2\n",
        "\n",
        "We can have a scenario where probability of orange jellybeans in jar 1 (set1 and set2) can be lesser than probability of orange jellybeans in jar 2 (set1 and set2). This is called SImpsons paradox\n",
        "\n",
        "In terms of events:\n",
        "\n",
        "**O: Event that we get orange jellybean**\n",
        "\n",
        "**S: Set 1**\n",
        "\n",
        "**J: Jar 1**\n",
        "\n",
        "P(O|S, J) > P(O|S, J_comp)\n",
        "\n",
        "P(O|S_comp, J) > P(O|S_comp, J_comp)\n",
        "\n",
        "BUT\n",
        "\n",
        "P(O|J) < P(O|J_comp)\n",
        "\n",
        "In this example S is confounder variable\n"
      ],
      "metadata": {
        "id": "dyOIRlcBBs-R"
      }
    },
    {
      "cell_type": "code",
      "source": [
        "class JellyBean:\n",
        "  def __init__(self, value, set_number, jar_number):\n",
        "    self.value = value\n",
        "    self.set_number = set_number\n",
        "    self.jar_number = jar_number"
      ],
      "metadata": {
        "id": "S1Rs7_tXbzIC"
      },
      "execution_count": null,
      "outputs": []
    },
    {
      "cell_type": "code",
      "source": [
        "# S1_J1_list = [JellyBean(val, 'S1', 'J1') for val in ['O']*6 + ['Y']*4]\n",
        "# S1_J2_list = [JellyBean(val, 'S1', 'J2') for val in ['O']*4 + ['Y']*6]\n",
        "# S2_J1_list = [JellyBean(val, 'S2', 'J1') for val in ['O']*4 + ['Y']*1]\n",
        "# S2_J2_list = [JellyBean(val, 'S2', 'J2') for val in ['O']*14 + ['Y']*6]\n",
        "# complete_list = S1_J1_list + S1_J2_list + S2_J1_list + S2_J2_list\n",
        "# random.shuffle(complete_list)"
      ],
      "metadata": {
        "id": "2D9sqJ9ocD7R"
      },
      "execution_count": null,
      "outputs": []
    },
    {
      "cell_type": "code",
      "source": [
        "def simpsons_paradox_example(iterations=1000):\n",
        "\n",
        "  ## Create a list of jellybeans\n",
        "  S1_J1_list = [JellyBean(val, 'S1', 'J1') for val in ['O']*70 + ['Y']*20]\n",
        "  S1_J2_list = [JellyBean(val, 'S1', 'J2') for val in ['O']*3+ ['Y']*7]\n",
        "  S2_J1_list = [JellyBean(val, 'S2', 'J1') for val in ['O']*9 + ['Y']*1]\n",
        "  S2_J2_list = [JellyBean(val, 'S2', 'J2') for val in ['O']*80 + ['Y']*10]\n",
        "  jellybean_list = S1_J1_list + S1_J2_list + S2_J1_list + S2_J2_list\n",
        "  random.shuffle(jellybean_list)\n",
        "\n",
        "  count_J1_S1 = 0\n",
        "  count_J2_S1 = 0\n",
        "  count_J1_S2 = 0\n",
        "  count_J2_S2 = 0\n",
        "  count_J1 = 0\n",
        "  count_J2 = 0\n",
        "\n",
        "  count_O_J1_S1 = 0\n",
        "  count_O_J2_S1 = 0\n",
        "  count_O_J1_S2 = 0\n",
        "  count_O_J2_S2 = 0\n",
        "  count_O_J1 = 0\n",
        "  count_O_J2 = 0\n",
        "\n",
        "  for index in range(iterations):\n",
        "\n",
        "    ## Step 1: Randomy pick a jellybean\n",
        "    jellybean_object = jellybean_list[random.randrange(len(jellybean_list))]\n",
        "    jellybean_value = jellybean_object.value\n",
        "    jellybean_set_number = jellybean_object.set_number\n",
        "    jellybean_jar_number = jellybean_object.jar_number\n",
        "\n",
        "    # if jellybean_value == 'Y':\n",
        "    #   continue\n",
        "\n",
        "    if jellybean_jar_number == 'J1':\n",
        "      count_J1 +=1\n",
        "      if jellybean_value == 'O':\n",
        "        count_O_J1+=1\n",
        "        if jellybean_set_number == 'S1':\n",
        "          count_J1_S1+=1\n",
        "          count_O_J1_S1+=1\n",
        "        elif jellybean_set_number == 'S2':\n",
        "          count_J1_S2+=1\n",
        "          count_O_J1_S2+=1\n",
        "\n",
        "      elif jellybean_value == 'Y':\n",
        "        if jellybean_set_number == 'S1':\n",
        "          count_J1_S1+=1\n",
        "        elif jellybean_set_number == 'S2':\n",
        "          count_J1_S2+=1\n",
        "\n",
        "\n",
        "    elif jellybean_jar_number == 'J2':\n",
        "      count_J2+=1\n",
        "      if jellybean_value == 'O':\n",
        "        count_O_J2+=1\n",
        "        if jellybean_set_number == 'S1':\n",
        "          count_J2_S1+=1\n",
        "          count_O_J2_S1+=1\n",
        "        elif jellybean_set_number == 'S2':\n",
        "          count_J2_S2+=1\n",
        "          count_O_J2_S2+=1\n",
        "\n",
        "      elif jellybean_value == 'Y':\n",
        "        if jellybean_set_number == 'S1':\n",
        "          count_J2_S1+=1\n",
        "        elif jellybean_set_number == 'S2':\n",
        "          count_J2_S2+=1\n",
        "\n",
        "  return {'P_O_given_J1':count_O_J1/count_J1, 'P_O_given_J2':count_O_J2/count_J2, 'P_O_given_J1_S1':count_O_J1_S1/count_J1_S1, 'P_O_given_J2_S1': count_O_J2_S1/count_J2_S1, 'P_O_given_J1_S2':count_O_J1_S2/count_J1_S2, 'P_O_given_J2_S2':count_O_J2_S2/count_J2_S2}"
      ],
      "metadata": {
        "id": "29oay9AZY9qm"
      },
      "execution_count": null,
      "outputs": []
    },
    {
      "cell_type": "code",
      "source": [
        "simpson_empirical_probability_dict_list = [simpsons_paradox_example(iterations=1000) for i in range(100)]"
      ],
      "metadata": {
        "id": "RTvC8dJSktbr"
      },
      "execution_count": null,
      "outputs": []
    },
    {
      "cell_type": "code",
      "source": [
        "simpson_empirical_probability_dict_list[0]"
      ],
      "metadata": {
        "colab": {
          "base_uri": "https://localhost:8080/"
        },
        "id": "eicEQgUbl5ti",
        "outputId": "772a6d09-990f-41cc-fa61-4693aab722ea"
      },
      "execution_count": null,
      "outputs": [
        {
          "output_type": "execute_result",
          "data": {
            "text/plain": [
              "{'P_O_given_J1': 0.7803837953091685,\n",
              " 'P_O_given_J2': 0.8361581920903954,\n",
              " 'P_O_given_J1_S1': 0.7785547785547785,\n",
              " 'P_O_given_J2_S1': 0.25,\n",
              " 'P_O_given_J1_S2': 0.8,\n",
              " 'P_O_given_J2_S2': 0.8891170431211499}"
            ]
          },
          "metadata": {},
          "execution_count": 62
        }
      ]
    },
    {
      "cell_type": "code",
      "source": [
        "P_O_given_J1_prob_list = list(map(itemgetter('P_O_given_J1'), simpson_empirical_probability_dict_list))\n",
        "P_O_given_J2_prob_list = list(map(itemgetter('P_O_given_J2'), simpson_empirical_probability_dict_list))\n",
        "P_O_given_J1_S1_prob_list = list(map(itemgetter('P_O_given_J1_S1'), simpson_empirical_probability_dict_list))\n",
        "\n",
        "P_O_given_J2_S1_prob_list = list(map(itemgetter('P_O_given_J2_S1'), simpson_empirical_probability_dict_list))\n",
        "P_O_given_J1_S2_prob_list = list(map(itemgetter('P_O_given_J1_S2'), simpson_empirical_probability_dict_list))\n",
        "P_O_given_J2_S2_prob_list = list(map(itemgetter('P_O_given_J2_S2'), simpson_empirical_probability_dict_list))"
      ],
      "metadata": {
        "id": "I7_EfJVul42U"
      },
      "execution_count": null,
      "outputs": []
    },
    {
      "cell_type": "code",
      "source": [
        "sns.histplot(x=P_O_given_J1_prob_list)"
      ],
      "metadata": {
        "colab": {
          "base_uri": "https://localhost:8080/",
          "height": 282
        },
        "id": "UOdXx2C-mKwE",
        "outputId": "033fed95-244a-4b6e-eae0-2ef0bfaa7416"
      },
      "execution_count": null,
      "outputs": [
        {
          "output_type": "execute_result",
          "data": {
            "text/plain": [
              "<matplotlib.axes._subplots.AxesSubplot at 0x7f2ec7760ac0>"
            ]
          },
          "metadata": {},
          "execution_count": 64
        },
        {
          "output_type": "display_data",
          "data": {
            "text/plain": [
              "<Figure size 432x288 with 1 Axes>"
            ],
            "image/png": "[encoded data removed]"
          },
          "metadata": {
            "needs_background": "light"
          }
        }
      ]
    },
    {
      "cell_type": "code",
      "source": [
        "stats.ttest_1samp(a=P_O_given_J1_prob_list, popmean=0.79)"
      ],
      "metadata": {
        "colab": {
          "base_uri": "https://localhost:8080/"
        },
        "id": "sZE6Gt4_mTvt",
        "outputId": "5d4d4516-5765-472a-d238-de938344bd70"
      },
      "execution_count": null,
      "outputs": [
        {
          "output_type": "execute_result",
          "data": {
            "text/plain": [
              "Ttest_1sampResult(statistic=-0.47902572268669724, pvalue=0.6329767092396794)"
            ]
          },
          "metadata": {},
          "execution_count": 65
        }
      ]
    },
    {
      "cell_type": "code",
      "source": [
        "sns.histplot(x=P_O_given_J2_prob_list)"
      ],
      "metadata": {
        "colab": {
          "base_uri": "https://localhost:8080/",
          "height": 282
        },
        "id": "u2Fx0IKFmPB_",
        "outputId": "6277597e-b8ce-42aa-f7f8-27a94d0cc3ab"
      },
      "execution_count": null,
      "outputs": [
        {
          "output_type": "execute_result",
          "data": {
            "text/plain": [
              "<matplotlib.axes._subplots.AxesSubplot at 0x7f2ec7535910>"
            ]
          },
          "metadata": {},
          "execution_count": 66
        },
        {
          "output_type": "display_data",
          "data": {
            "text/plain": [
              "<Figure size 432x288 with 1 Axes>"
            ],
            "image/png": "[encoded data removed]"
          },
          "metadata": {
            "needs_background": "light"
          }
        }
      ]
    },
    {
      "cell_type": "code",
      "source": [
        "stats.ttest_1samp(a=P_O_given_J2_prob_list, popmean=0.83)"
      ],
      "metadata": {
        "colab": {
          "base_uri": "https://localhost:8080/"
        },
        "id": "P-zsDHxFmffa",
        "outputId": "02dbea27-729b-425e-a263-30c2c10afaa9"
      },
      "execution_count": null,
      "outputs": [
        {
          "output_type": "execute_result",
          "data": {
            "text/plain": [
              "Ttest_1sampResult(statistic=0.19921851093698734, pvalue=0.8425004104270297)"
            ]
          },
          "metadata": {},
          "execution_count": 67
        }
      ]
    },
    {
      "cell_type": "code",
      "source": [
        "sns.histplot(x=P_O_given_J1_S1_prob_list)"
      ],
      "metadata": {
        "colab": {
          "base_uri": "https://localhost:8080/",
          "height": 282
        },
        "id": "YjWyK7X5mlrV",
        "outputId": "ab2eb186-e759-454f-f27c-1fb14923593f"
      },
      "execution_count": null,
      "outputs": [
        {
          "output_type": "execute_result",
          "data": {
            "text/plain": [
              "<matplotlib.axes._subplots.AxesSubplot at 0x7f2ec7479f40>"
            ]
          },
          "metadata": {},
          "execution_count": 68
        },
        {
          "output_type": "display_data",
          "data": {
            "text/plain": [
              "<Figure size 432x288 with 1 Axes>"
            ],
            "image/png": "[encoded data removed]"
          },
          "metadata": {
            "needs_background": "light"
          }
        }
      ]
    },
    {
      "cell_type": "code",
      "source": [
        "stats.ttest_1samp(a=P_O_given_J1_S1_prob_list, popmean=7/9)"
      ],
      "metadata": {
        "colab": {
          "base_uri": "https://localhost:8080/"
        },
        "id": "g4Xk9clhmo9A",
        "outputId": "08610582-53ca-4c42-cb34-8e201eb8fc06"
      },
      "execution_count": null,
      "outputs": [
        {
          "output_type": "execute_result",
          "data": {
            "text/plain": [
              "Ttest_1sampResult(statistic=-0.6139266890846382, pvalue=0.5406719486721648)"
            ]
          },
          "metadata": {},
          "execution_count": 69
        }
      ]
    },
    {
      "cell_type": "code",
      "source": [
        "sns.histplot(x=P_O_given_J2_S1_prob_list)"
      ],
      "metadata": {
        "colab": {
          "base_uri": "https://localhost:8080/",
          "height": 285
        },
        "id": "ge5ACDABnEo-",
        "outputId": "bca58887-51e1-406f-8beb-0176a09f1be6"
      },
      "execution_count": null,
      "outputs": [
        {
          "output_type": "execute_result",
          "data": {
            "text/plain": [
              "<matplotlib.axes._subplots.AxesSubplot at 0x7f2ec73b0070>"
            ]
          },
          "metadata": {},
          "execution_count": 70
        },
        {
          "output_type": "display_data",
          "data": {
            "text/plain": [
              "<Figure size 432x288 with 1 Axes>"
            ],
            "image/png": "[encoded data removed]"
          },
          "metadata": {
            "needs_background": "light"
          }
        }
      ]
    },
    {
      "cell_type": "code",
      "source": [
        "stats.ttest_1samp(a=P_O_given_J2_S1_prob_list, popmean=0.3)"
      ],
      "metadata": {
        "colab": {
          "base_uri": "https://localhost:8080/"
        },
        "id": "7H79i7sEnHJq",
        "outputId": "abc2c2c4-e207-4c9f-a474-c30ff1f05d24"
      },
      "execution_count": null,
      "outputs": [
        {
          "output_type": "execute_result",
          "data": {
            "text/plain": [
              "Ttest_1sampResult(statistic=-1.0046919595183996, pvalue=0.3174945600630184)"
            ]
          },
          "metadata": {},
          "execution_count": 71
        }
      ]
    },
    {
      "cell_type": "code",
      "source": [
        "sns.histplot(x=P_O_given_J1_S2_prob_list)"
      ],
      "metadata": {
        "colab": {
          "base_uri": "https://localhost:8080/",
          "height": 282
        },
        "id": "MUuN-wbenLEy",
        "outputId": "081138c2-a531-4ac3-b4de-412d2ec2a6b6"
      },
      "execution_count": null,
      "outputs": [
        {
          "output_type": "execute_result",
          "data": {
            "text/plain": [
              "<matplotlib.axes._subplots.AxesSubplot at 0x7f2ec739e820>"
            ]
          },
          "metadata": {},
          "execution_count": 72
        },
        {
          "output_type": "display_data",
          "data": {
            "text/plain": [
              "<Figure size 432x288 with 1 Axes>"
            ],
            "image/png": "[encoded data removed]"
          },
          "metadata": {
            "needs_background": "light"
          }
        }
      ]
    },
    {
      "cell_type": "code",
      "source": [
        "stats.ttest_1samp(a=P_O_given_J1_S2_prob_list, popmean=0.9)"
      ],
      "metadata": {
        "colab": {
          "base_uri": "https://localhost:8080/"
        },
        "id": "PmzVX6cAnOCo",
        "outputId": "ae81ffb4-ca5d-4542-8566-0e3bb60b3e59"
      },
      "execution_count": null,
      "outputs": [
        {
          "output_type": "execute_result",
          "data": {
            "text/plain": [
              "Ttest_1sampResult(statistic=0.40609833860308187, pvalue=0.6855467926332186)"
            ]
          },
          "metadata": {},
          "execution_count": 73
        }
      ]
    },
    {
      "cell_type": "code",
      "source": [
        "sns.histplot(x=P_O_given_J2_S2_prob_list)"
      ],
      "metadata": {
        "colab": {
          "base_uri": "https://localhost:8080/",
          "height": 282
        },
        "id": "w-RlwlqonRaI",
        "outputId": "cde37cc6-d8e2-4cf2-c0e1-78d484f89d43"
      },
      "execution_count": null,
      "outputs": [
        {
          "output_type": "execute_result",
          "data": {
            "text/plain": [
              "<matplotlib.axes._subplots.AxesSubplot at 0x7f2ec740dc40>"
            ]
          },
          "metadata": {},
          "execution_count": 74
        },
        {
          "output_type": "display_data",
          "data": {
            "text/plain": [
              "<Figure size 432x288 with 1 Axes>"
            ],
            "image/png": "[encoded data removed]"
          },
          "metadata": {
            "needs_background": "light"
          }
        }
      ]
    },
    {
      "cell_type": "code",
      "source": [
        "stats.ttest_1samp(a=P_O_given_J2_S2_prob_list, popmean=8/9)"
      ],
      "metadata": {
        "colab": {
          "base_uri": "https://localhost:8080/"
        },
        "id": "wMUYJlYMnWNO",
        "outputId": "f62f4714-d47a-468d-e410-7080e0410fae"
      },
      "execution_count": null,
      "outputs": [
        {
          "output_type": "execute_result",
          "data": {
            "text/plain": [
              "Ttest_1sampResult(statistic=0.5531525190763453, pvalue=0.5814059687189188)"
            ]
          },
          "metadata": {},
          "execution_count": 75
        }
      ]
    },
    {
      "cell_type": "markdown",
      "source": [
        "P(O|S, J) = 7/9 > P(O|S, J_comp)=3/10\n",
        "\n",
        "P(O|S_comp, J)=9/10 > P(O|S_comp, J_comp)=8/9\n",
        "\n",
        "BUT\n",
        "\n",
        "P(O|J)=0.79 < P(O|J_comp)=0.83"
      ],
      "metadata": {
        "id": "o7i2A4tq7Mqv"
      }
    }
  ]
}