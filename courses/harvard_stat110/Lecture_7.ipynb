{
  "nbformat": 4,
  "nbformat_minor": 0,
  "metadata": {
    "colab": {
      "provenance": []
    },
    "kernelspec": {
      "name": "python3",
      "display_name": "Python 3"
    },
    "language_info": {
      "name": "python"
    }
  },
  "cells": [
    {
      "cell_type": "markdown",
      "source": [
        "**Gambler's ruin**"
      ],
      "metadata": {
        "id": "t1ueParHkzOH"
      }
    },
    {
      "cell_type": "markdown",
      "source": [
        "Consider 2 gamblers **A** and **B**. A starts with \\$i and B with \\$N-i. They play multiple rounds in a game. In each round, they bet \\$1. The game ends when either of the gamblers goes bankrupt.\n",
        "\n",
        "Prob of A winning a round = p, Prob B winning a round = q = (1-p)\n",
        "\n",
        "Assumptions:\n",
        "1. Each round is independent. => P(A winning round|A lost/won previous round) = P(A winning round | A has \\$i) = P(A winning round) = p\n",
        "\n",
        "Calculate **P(A winning the game| A has \\$i)**\n",
        "\n",
        "Solution:\n",
        "1. If p=q=0.5, **P(A winning game | A has \\$i)=i/N**\n",
        "2. If p!=q, **P(A winning game | A has \\$i)=(1-(q/p)^i)/(1-(q/p)^N)**"
      ],
      "metadata": {
        "id": "gXMcSfyw747B"
      }
    },
    {
      "cell_type": "code",
      "execution_count": null,
      "metadata": {
        "id": "NY9ehqankw9v"
      },
      "outputs": [],
      "source": [
        "import numpy as np\n",
        "import pandas as pd\n",
        "import random\n",
        "import seaborn as sns\n",
        "import scipy.stats as stats\n",
        "from operator import itemgetter\n",
        "from tqdm import tqdm\n",
        "from collections import Counter"
      ]
    },
    {
      "cell_type": "code",
      "source": [
        "def execute_gamblers_ruin(N, i, prob_gambler_A_wins=0.5, game_count = 100):\n",
        "\n",
        "  def execute_game(N, i, prob_gambler_A_wins):\n",
        "    #prob_range = [pp for pp in np.arange (0, 1.001, 0.01)]\n",
        "    #int_upper_limit_gamabler_A_wins = int(10*prob_gambler_A_wins)\n",
        "    money_gambler_A_at_start_of_round = i\n",
        "    round_count = 0\n",
        "\n",
        "    ## Execute rounds within the game\n",
        "    while money_gambler_A_at_start_of_round not in [0, N]:\n",
        "      round_count+=1\n",
        "      person_winning = 'A' if random.uniform(0, 1)<=prob_gambler_A_wins else 'B'\n",
        "      if person_winning == 'A':\n",
        "        money_gambler_A_at_start_of_round+=1\n",
        "      else:\n",
        "        money_gambler_A_at_start_of_round-=1\n",
        "\n",
        "    person_winning_game = 'A' if money_gambler_A_at_start_of_round == N else 'B'\n",
        "    return person_winning_game\n",
        "\n",
        "  game_result_list = [execute_game(N, i, prob_gambler_A_wins) for game_count in range(game_count)]\n",
        "  game_result_counter = Counter(game_result_list)\n",
        "  return {f'P(A wins game|starts with ${i})':game_result_counter.get('A', 0)/len(game_result_list), f'P(B wins game |starts with ${N-i})':game_result_counter.get('B', 0)/len(game_result_list)}"
      ],
      "metadata": {
        "id": "uRAkLyLtluZZ"
      },
      "execution_count": null,
      "outputs": []
    },
    {
      "cell_type": "code",
      "source": [
        "N = 20\n",
        "i = 10\n",
        "probability_list_when_p_equal_q = [execute_gamblers_ruin(N, i, prob_gambler_A_wins=0.5, game_count = 1000) for _ in range(100)]\n",
        "A_winning_game_when_p_equal_q = list(map(itemgetter(f'P(A wins game|starts with ${i})'), probability_list_when_p_equal_q))\n",
        "stats.ttest_1samp(a=A_winning_game_when_p_equal_q, popmean=i/N)"
      ],
      "metadata": {
        "colab": {
          "base_uri": "https://localhost:8080/"
        },
        "id": "Qs1pRuBiGvQ_",
        "outputId": "7f7823bb-212a-4050-97dd-69f69772d013"
      },
      "execution_count": null,
      "outputs": [
        {
          "output_type": "execute_result",
          "data": {
            "text/plain": [
              "Ttest_1sampResult(statistic=-2.555281911816174, pvalue=0.01213196122567597)"
            ]
          },
          "metadata": {},
          "execution_count": 78
        }
      ]
    },
    {
      "cell_type": "code",
      "source": [
        "sns.histplot(x=A_winning_game_when_p_equal_q)"
      ],
      "metadata": {
        "colab": {
          "base_uri": "https://localhost:8080/",
          "height": 286
        },
        "id": "t4maXKofKf1C",
        "outputId": "6c5aa6e7-9bb2-4e2c-c3c2-33944109518b"
      },
      "execution_count": null,
      "outputs": [
        {
          "output_type": "execute_result",
          "data": {
            "text/plain": [
              "<matplotlib.axes._subplots.AxesSubplot at 0x7f187fffc2b0>"
            ]
          },
          "metadata": {},
          "execution_count": 79
        },
        {
          "output_type": "display_data",
          "data": {
            "text/plain": [
              "<Figure size 432x288 with 1 Axes>"
            ],
            "image/png": "[encoded data removed]"
          },
          "metadata": {
            "needs_background": "light"
          }
        }
      ]
    },
    {
      "cell_type": "code",
      "source": [
        "N = 20\n",
        "i = 3\n",
        "probability_list_when_p_equal_q = [execute_gamblers_ruin(N, i, prob_gambler_A_wins=0.5, game_count = 1000) for _ in range(100)]\n",
        "A_winning_game_when_p_equal_q = list(map(itemgetter(f'P(A wins game|starts with ${i})'), probability_list_when_p_equal_q))\n",
        "stats.ttest_1samp(a=A_winning_game_when_p_equal_q, popmean=i/N)"
      ],
      "metadata": {
        "colab": {
          "base_uri": "https://localhost:8080/"
        },
        "id": "VjshJI2GKogV",
        "outputId": "247e8d09-f4b9-428b-83c6-105142405930"
      },
      "execution_count": null,
      "outputs": [
        {
          "output_type": "execute_result",
          "data": {
            "text/plain": [
              "Ttest_1sampResult(statistic=-0.7709353970352271, pvalue=0.44258127269004954)"
            ]
          },
          "metadata": {},
          "execution_count": 76
        }
      ]
    },
    {
      "cell_type": "code",
      "source": [
        "sns.histplot(x=A_winning_game_when_p_equal_q)"
      ],
      "metadata": {
        "colab": {
          "base_uri": "https://localhost:8080/",
          "height": 283
        },
        "id": "HNz34K0FDS8o",
        "outputId": "b3607f4e-4121-4234-9b93-f4e21694948f"
      },
      "execution_count": null,
      "outputs": [
        {
          "output_type": "execute_result",
          "data": {
            "text/plain": [
              "<matplotlib.axes._subplots.AxesSubplot at 0x7f187ffc9c70>"
            ]
          },
          "metadata": {},
          "execution_count": 77
        },
        {
          "output_type": "display_data",
          "data": {
            "text/plain": [
              "<Figure size 432x288 with 1 Axes>"
            ],
            "image/png": "[encoded data removed]"
          },
          "metadata": {
            "needs_background": "light"
          }
        }
      ]
    },
    {
      "cell_type": "code",
      "source": [
        "N = 20\n",
        "i = 18\n",
        "probability_list_when_p_equal_q = [execute_gamblers_ruin(N, i, prob_gambler_A_wins=0.5, game_count = 1000) for _ in range(100)]\n",
        "A_winning_game_when_p_equal_q = list(map(itemgetter(f'P(A wins game|starts with ${i})'), probability_list_when_p_equal_q))\n",
        "stats.ttest_1samp(a=A_winning_game_when_p_equal_q, popmean=i/N)"
      ],
      "metadata": {
        "colab": {
          "base_uri": "https://localhost:8080/"
        },
        "id": "s9xzcHpsDY-2",
        "outputId": "420b8b98-336a-4b4f-9981-c79feb6ad7bb"
      },
      "execution_count": null,
      "outputs": [
        {
          "output_type": "execute_result",
          "data": {
            "text/plain": [
              "Ttest_1sampResult(statistic=1.5275720300227933, pvalue=0.12980759035277953)"
            ]
          },
          "metadata": {},
          "execution_count": 74
        }
      ]
    },
    {
      "cell_type": "code",
      "source": [
        "sns.histplot(x=A_winning_game_when_p_equal_q)"
      ],
      "metadata": {
        "colab": {
          "base_uri": "https://localhost:8080/",
          "height": 283
        },
        "id": "dyOtQBAsDdaJ",
        "outputId": "27f96139-ffcc-4b1f-c9bf-f8525d41537c"
      },
      "execution_count": null,
      "outputs": [
        {
          "output_type": "execute_result",
          "data": {
            "text/plain": [
              "<matplotlib.axes._subplots.AxesSubplot at 0x7f188010afd0>"
            ]
          },
          "metadata": {},
          "execution_count": 75
        },
        {
          "output_type": "display_data",
          "data": {
            "text/plain": [
              "<Figure size 432x288 with 1 Axes>"
            ],
            "image/png": "[encoded data removed]"
          },
          "metadata": {
            "needs_background": "light"
          }
        }
      ]
    },
    {
      "cell_type": "markdown",
      "source": [
        "Case 2: p!=q"
      ],
      "metadata": {
        "id": "egZL4rPkGP5T"
      }
    },
    {
      "cell_type": "code",
      "source": [
        "N = 20\n",
        "i = 10\n",
        "p = 0.65\n",
        "probability_list_when_p_not_equal_q = [execute_gamblers_ruin(N, i, prob_gambler_A_wins=p, game_count = 1000) for _ in range(100)]\n",
        "A_winning_game_when_p_not_equal_q = list(map(itemgetter(f'P(A wins game|starts with ${i})'), probability_list_when_p_not_equal_q))\n",
        "stats.ttest_1samp(a=A_winning_game_when_p_not_equal_q, popmean=(1-((1-p)/p)**i)/(1-((1-p)/p)**N))"
      ],
      "metadata": {
        "colab": {
          "base_uri": "https://localhost:8080/"
        },
        "id": "BSxxC8xmGPSz",
        "outputId": "36c01da7-df28-404f-f9a3-160a3125a3b5"
      },
      "execution_count": null,
      "outputs": [
        {
          "output_type": "execute_result",
          "data": {
            "text/plain": [
              "Ttest_1sampResult(statistic=0.6259493955810402, pvalue=0.5327886217769251)"
            ]
          },
          "metadata": {},
          "execution_count": 71
        }
      ]
    },
    {
      "cell_type": "code",
      "source": [
        "(1-((1-p)/p)**i)/(1-((1-p)/p)**N)"
      ],
      "metadata": {
        "colab": {
          "base_uri": "https://localhost:8080/"
        },
        "id": "7B0eAfgv-t1j",
        "outputId": "334edf54-307f-4206-de91-e65e1a23ebb6"
      },
      "execution_count": null,
      "outputs": [
        {
          "output_type": "execute_result",
          "data": {
            "text/plain": [
              "0.9979551667044606"
            ]
          },
          "metadata": {},
          "execution_count": 72
        }
      ]
    },
    {
      "cell_type": "code",
      "source": [
        "sns.histplot(x=A_winning_game_when_p_not_equal_q)"
      ],
      "metadata": {
        "colab": {
          "base_uri": "https://localhost:8080/",
          "height": 283
        },
        "id": "nLR3MiC0GuSv",
        "outputId": "8cc9c50b-f56e-4d6f-f613-979e687b13ab"
      },
      "execution_count": null,
      "outputs": [
        {
          "output_type": "execute_result",
          "data": {
            "text/plain": [
              "<matplotlib.axes._subplots.AxesSubplot at 0x7f188002de50>"
            ]
          },
          "metadata": {},
          "execution_count": 73
        },
        {
          "output_type": "display_data",
          "data": {
            "text/plain": [
              "<Figure size 432x288 with 1 Axes>"
            ],
            "image/png": "[encoded data removed]"
          },
          "metadata": {
            "needs_background": "light"
          }
        }
      ]
    },
    {
      "cell_type": "code",
      "source": [
        "N = 20\n",
        "i = 3\n",
        "p = 0.65\n",
        "probability_list_when_p_not_equal_q = [execute_gamblers_ruin(N, i, prob_gambler_A_wins=p, game_count = 1000) for _ in range(100)]\n",
        "A_winning_game_when_p_not_equal_q = list(map(itemgetter(f'P(A wins game|starts with ${i})'), probability_list_when_p_not_equal_q))\n",
        "stats.ttest_1samp(a=A_winning_game_when_p_not_equal_q, popmean=(1-((1-p)/p)**i)/(1-((1-p)/p)**N))"
      ],
      "metadata": {
        "colab": {
          "base_uri": "https://localhost:8080/"
        },
        "id": "IqJhijYjHQxY",
        "outputId": "1f6a43ec-7c8a-4ed2-de38-7edb88d26803"
      },
      "execution_count": null,
      "outputs": [
        {
          "output_type": "execute_result",
          "data": {
            "text/plain": [
              "Ttest_1sampResult(statistic=0.20293272607695015, pvalue=0.8396041090465306)"
            ]
          },
          "metadata": {},
          "execution_count": 68
        }
      ]
    },
    {
      "cell_type": "code",
      "source": [
        "(1-((1-p)/p)**i)/(1-((1-p)/p)**N)"
      ],
      "metadata": {
        "colab": {
          "base_uri": "https://localhost:8080/"
        },
        "id": "c_YlnrsZHjOa",
        "outputId": "1513da53-b120-423f-81e1-0f0ea4f973ab"
      },
      "execution_count": null,
      "outputs": [
        {
          "output_type": "execute_result",
          "data": {
            "text/plain": [
              "0.8438815585090813"
            ]
          },
          "metadata": {},
          "execution_count": 69
        }
      ]
    },
    {
      "cell_type": "code",
      "source": [
        "sns.histplot(x=A_winning_game_when_p_not_equal_q)"
      ],
      "metadata": {
        "colab": {
          "base_uri": "https://localhost:8080/",
          "height": 283
        },
        "id": "l8t-2wpgHVCd",
        "outputId": "c2daf41b-8491-47b9-a73d-276a805b9442"
      },
      "execution_count": null,
      "outputs": [
        {
          "output_type": "execute_result",
          "data": {
            "text/plain": [
              "<matplotlib.axes._subplots.AxesSubplot at 0x7f18800cfbe0>"
            ]
          },
          "metadata": {},
          "execution_count": 70
        },
        {
          "output_type": "display_data",
          "data": {
            "text/plain": [
              "<Figure size 432x288 with 1 Axes>"
            ],
            "image/png": "[encoded data removed]"
          },
          "metadata": {
            "needs_background": "light"
          }
        }
      ]
    },
    {
      "cell_type": "code",
      "source": [
        "N = 20\n",
        "i = 3\n",
        "p = 0.35\n",
        "probability_list_when_p_not_equal_q = [execute_gamblers_ruin(N, i, prob_gambler_A_wins=p, game_count = 1000) for _ in range(200)]\n",
        "A_winning_game_when_p_not_equal_q = list(map(itemgetter(f'P(A wins game|starts with ${i})'), probability_list_when_p_not_equal_q))\n",
        "stats.ttest_1samp(a=A_winning_game_when_p_not_equal_q, popmean=(1-((1-p)/p)**i)/(1-((1-p)/p)**N))"
      ],
      "metadata": {
        "colab": {
          "base_uri": "https://localhost:8080/"
        },
        "id": "_uSad_r__IX9",
        "outputId": "bdcd9362-df9a-48fc-ce46-86c0022019fd"
      },
      "execution_count": null,
      "outputs": [
        {
          "output_type": "execute_result",
          "data": {
            "text/plain": [
              "Ttest_1sampResult(statistic=0.20835896091202452, pvalue=0.8351617984173202)"
            ]
          },
          "metadata": {},
          "execution_count": 66
        }
      ]
    },
    {
      "cell_type": "code",
      "source": [
        "sns.histplot(x=A_winning_game_when_p_not_equal_q)"
      ],
      "metadata": {
        "colab": {
          "base_uri": "https://localhost:8080/",
          "height": 283
        },
        "id": "P4_zd-e__T7A",
        "outputId": "edb402d6-a387-47ee-844c-991d2c63e6f4"
      },
      "execution_count": null,
      "outputs": [
        {
          "output_type": "execute_result",
          "data": {
            "text/plain": [
              "<matplotlib.axes._subplots.AxesSubplot at 0x7f188019c1c0>"
            ]
          },
          "metadata": {},
          "execution_count": 67
        },
        {
          "output_type": "display_data",
          "data": {
            "text/plain": [
              "<Figure size 432x288 with 1 Axes>"
            ],
            "image/png": "[encoded data removed]"
          },
          "metadata": {
            "needs_background": "light"
          }
        }
      ]
    }
  ]
}