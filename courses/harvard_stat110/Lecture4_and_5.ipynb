{
  "nbformat": 4,
  "nbformat_minor": 0,
  "metadata": {
    "colab": {
      "provenance": []
    },
    "kernelspec": {
      "name": "python3",
      "display_name": "Python 3"
    },
    "language_info": {
      "name": "python"
    }
  },
  "cells": [
    {
      "cell_type": "markdown",
      "source": [
        "**Calculation of probability empirically using code will never give the exact value. This is because of randomness in the process.**"
      ],
      "metadata": {
        "id": "4zut9Yjl8KwL"
      }
    },
    {
      "cell_type": "markdown",
      "source": [
        "## Independence of events. Visualize Independent event using https://bransingle.wixsite.com/home/post/visualizing-independent-events-for-probabilities-no-more-venn-diagrams"
      ],
      "metadata": {
        "id": "TUsvUxEIdPpf"
      }
    },
    {
      "cell_type": "markdown",
      "source": [
        "**Case 1**:\n",
        "- E1: Get a number <=4 in a first roll of dice\n",
        "- E2: Get an even number in second roll of dice\n",
        "\n",
        "P(E1) = {1,2,3,4}/{1,2,3,4,5,6} = 4/6 = 2/3\n",
        "\n",
        "P(E2) = {2,4,6}/ {1,2,3,4,5,6} = 3/6 = 1/2\n",
        "\n",
        "**Logic**: These 2 events are independent as E1 has no impact on E2 because they are 2 separate rolls of dice. P(E1, E2) = (4/6)x(3/6) = 1/3 -> (1)\n",
        "\n",
        "**Assuming independence**: P(E1, E2) = P(E1) * P(E2) = 1/3. -> (2)\n",
        "\n",
        "**Conclusion**: Since (1) and (2) values are same, this implies that the events are independent. This can also be seen empirically using code"
      ],
      "metadata": {
        "id": "8UgSTqpYpb6n"
      }
    },
    {
      "cell_type": "code",
      "source": [
        "import numpy as np\n",
        "import random\n",
        "import seaborn as sns\n",
        "import scipy.stats as stats\n",
        "from operator import itemgetter"
      ],
      "metadata": {
        "id": "zLosR6AVhVXH"
      },
      "execution_count": null,
      "outputs": []
    },
    {
      "cell_type": "code",
      "execution_count": null,
      "metadata": {
        "id": "AIDWFzBodNz3"
      },
      "outputs": [],
      "source": [
        "def get_empirical_joint_probability_case1(iterations = 1000):\n",
        "  count_e1_e2 = 0\n",
        "  for i in range(iterations):\n",
        "    ## perform E1 by randomly rolling a dice\n",
        "    e1_result = np.random.choice([1,2,3,4,5,6], size=1) in [1,2,3,4]\n",
        "    e2_result = np.random.choice([1,2,3,4,5,6], size=1) in [2,4,6]\n",
        "\n",
        "    if e1_result and e2_result:\n",
        "      count_e1_e2 = count_e1_e2 + 1\n",
        "\n",
        "  return count_e1_e2/iterations\n"
      ]
    },
    {
      "cell_type": "code",
      "source": [
        "# empirical_probability_e1_and_e2_case1 = get_empirical_joint_probability_case1(iterations = 1000)\n",
        "# print(empirical_probability_e1_and_e2_case1)"
      ],
      "metadata": {
        "id": "gj1MF3I8hgOU"
      },
      "execution_count": null,
      "outputs": []
    },
    {
      "cell_type": "code",
      "source": [
        "case1_empirical_joint_probability_list = [get_empirical_joint_probability_case1(iterations = 1000) for i in range(100)]"
      ],
      "metadata": {
        "id": "XZF9cYOU9rqu"
      },
      "execution_count": null,
      "outputs": []
    },
    {
      "cell_type": "code",
      "source": [
        "sns.histplot(x=case1_empirical_joint_probability_list)"
      ],
      "metadata": {
        "colab": {
          "base_uri": "https://localhost:8080/",
          "height": 285
        },
        "id": "LfLiC7Pu9ykd",
        "outputId": "a9ee05d7-afd4-40ec-a414-430efe833323"
      },
      "execution_count": null,
      "outputs": [
        {
          "output_type": "execute_result",
          "data": {
            "text/plain": [
              "<matplotlib.axes._subplots.AxesSubplot at 0x7f9a19ef1160>"
            ]
          },
          "metadata": {},
          "execution_count": 149
        },
        {
          "output_type": "display_data",
          "data": {
            "text/plain": [
              "<Figure size 432x288 with 1 Axes>"
            ],
            "image/png": "[encoded data removed]"
          },
          "metadata": {
            "needs_background": "light"
          }
        }
      ]
    },
    {
      "cell_type": "code",
      "source": [
        "stats.ttest_1samp(a=case1_empirical_joint_probability_list, popmean=1/3)"
      ],
      "metadata": {
        "colab": {
          "base_uri": "https://localhost:8080/"
        },
        "id": "xEiA0Syg_NTX",
        "outputId": "40a16fdf-bb7b-4ab7-8b89-2f4a7ec0797b"
      },
      "execution_count": null,
      "outputs": [
        {
          "output_type": "execute_result",
          "data": {
            "text/plain": [
              "Ttest_1sampResult(statistic=-0.6269758746202317, pvalue=0.5321183017507739)"
            ]
          },
          "metadata": {},
          "execution_count": 150
        }
      ]
    },
    {
      "cell_type": "markdown",
      "source": [
        "As can be seen from the histplot above, the empirical joint probability is very close to 0.33 (=1/3). This can also be seen from the 1 sample T test with p-val >=0.05. Hence null hypothesis is true. This proves that the events are independent"
      ],
      "metadata": {
        "id": "0qJPh5iC9f8R"
      }
    },
    {
      "cell_type": "markdown",
      "source": [
        "**Case 2**:\n",
        "- E1: Get a number <=4 in a roll of dice\n",
        "- E2: Get an even number in same roll of dice\n",
        "\n",
        "P(E1) = {1,2,3,4}/{1,2,3,4,5,6} = 4/6 = 2/3\n",
        "\n",
        "P(E2) = P(E1, E2) + P(E1_complement, E2) (Breaking it down as sum of 2 disjoint events) = {2,4}/{1,2,3,4,5,6} + {6}/{1,2,3,4,5,6} = 2/6 + 1/6 = 3/6 = 1/2\n",
        "\n",
        "**Logic**: We know that E1, E2 contains {2,4} as possible outcomes. So P(E1, E2) = {2,4}/{1,2,3,4,5,6} = 1/3. -> (1)\n",
        "\n",
        "**Assuming independence**:P(E1, E2) = P(E1) * P(E2) = 1/3. -> (2)\n",
        "\n",
        "**Conclusion**: Since (1) and (2) values are same, this implies that the events are independent. This can also be seen empirically using code"
      ],
      "metadata": {
        "id": "CK-_-lJqpf23"
      }
    },
    {
      "cell_type": "code",
      "source": [
        "def get_empirical_joint_probability_case2(iterations = 1000):\n",
        "  count_e1_e2 = 0\n",
        "  for i in range(iterations):\n",
        "    random_choice = np.random.choice([1,2,3,4,5,6], size=1)\n",
        "    e1_result = random_choice in [1,2,3,4]\n",
        "    e2_result = random_choice in [2,4,6]\n",
        "\n",
        "    if e1_result and e2_result:\n",
        "      count_e1_e2 = count_e1_e2 + 1\n",
        "\n",
        "  return count_e1_e2/iterations\n"
      ],
      "metadata": {
        "id": "LapGTmjIp93u"
      },
      "execution_count": null,
      "outputs": []
    },
    {
      "cell_type": "code",
      "source": [
        "case2_empirical_joint_probability_list = [get_empirical_joint_probability_case2(iterations = 1000) for i in range(100)]"
      ],
      "metadata": {
        "id": "TTQJcoFrqNT1"
      },
      "execution_count": null,
      "outputs": []
    },
    {
      "cell_type": "code",
      "source": [
        "sns.histplot(x=case2_empirical_joint_probability_list)"
      ],
      "metadata": {
        "colab": {
          "base_uri": "https://localhost:8080/",
          "height": 282
        },
        "id": "hjsJiyWCAwRN",
        "outputId": "d8add0cc-25b8-4ae3-da59-805ad75dfcbf"
      },
      "execution_count": null,
      "outputs": [
        {
          "output_type": "execute_result",
          "data": {
            "text/plain": [
              "<matplotlib.axes._subplots.AxesSubplot at 0x7f9a19ee5ca0>"
            ]
          },
          "metadata": {},
          "execution_count": 152
        },
        {
          "output_type": "display_data",
          "data": {
            "text/plain": [
              "<Figure size 432x288 with 1 Axes>"
            ],
            "image/png": "[encoded data removed]"
          },
          "metadata": {
            "needs_background": "light"
          }
        }
      ]
    },
    {
      "cell_type": "code",
      "source": [
        "stats.ttest_1samp(a=case2_empirical_joint_probability_list, popmean=1/3)"
      ],
      "metadata": {
        "colab": {
          "base_uri": "https://localhost:8080/"
        },
        "id": "jzfOvnV5AzFQ",
        "outputId": "c8df705f-937a-4fdd-b337-9ba398b2057b"
      },
      "execution_count": null,
      "outputs": [
        {
          "output_type": "execute_result",
          "data": {
            "text/plain": [
              "Ttest_1sampResult(statistic=-0.8444377961059272, pvalue=0.4004608113086402)"
            ]
          },
          "metadata": {},
          "execution_count": 153
        }
      ]
    },
    {
      "cell_type": "markdown",
      "source": [
        "As can be seen from the histplot above, the empirical joint probability is very close to 0.33 (=1/3). This can also be seen from the 1 sample T test with p-val >=0.05. Hence null hypothesis is true. This proves that the events are independent"
      ],
      "metadata": {
        "id": "F5mp8vDuA2MW"
      }
    },
    {
      "cell_type": "markdown",
      "source": [
        "**Case 3**:\n",
        "- E1: Get an even number in a 1st roll of dice\n",
        "- E2: Get an odd number in 2nd roll of dice\n",
        "\n",
        "P(E1) = {2,4,6}/{1,2,3,4,5,6} = 3/6 = 1/2\n",
        "\n",
        "P(E2) = {1,3,5}/{1,2,3,4,5,6} = 3/6 = 1/2\n",
        "\n",
        "**Logic**: Since the 2 dice throws are indepedent, the events E1 and E2 are also independent. P(E1, E2) = P(E1)* P(E2) = 1/4 -> (1)\n",
        "\n",
        "**Assuming independence**: P(E1, E2) = P(E1) * P(E2) = 1/4. -> (2)\n",
        "\n",
        "**Conclusion**: Since (1) and (2) values are same, this implies that the events are independent. This can also be seen empirically using code"
      ],
      "metadata": {
        "id": "PdNW8bSLuax0"
      }
    },
    {
      "cell_type": "code",
      "source": [
        "def get_empirical_joint_probability_case3(iterations = 1000):\n",
        "  count_e1_e2 = 0\n",
        "  for i in range(iterations):\n",
        "    ## perform E1 by randomly rolling a dice\n",
        "    e1_result = np.random.choice([1,2,3,4,5,6], size=1) in [2,4,6]\n",
        "    e2_result = np.random.choice([1,2,3,4,5,6], size=1) in [1,3,5]\n",
        "\n",
        "    if e1_result and e2_result:\n",
        "      count_e1_e2 = count_e1_e2 + 1\n",
        "\n",
        "  return count_e1_e2/iterations\n"
      ],
      "metadata": {
        "id": "Teu1DWCavLXf"
      },
      "execution_count": null,
      "outputs": []
    },
    {
      "cell_type": "code",
      "source": [
        "case3_empirical_joint_probability_list = [get_empirical_joint_probability_case3(iterations = 1000) for i in range(100)]"
      ],
      "metadata": {
        "id": "tXVMJXZAva3e"
      },
      "execution_count": null,
      "outputs": []
    },
    {
      "cell_type": "code",
      "source": [
        "sns.histplot(x=case3_empirical_joint_probability_list)"
      ],
      "metadata": {
        "colab": {
          "base_uri": "https://localhost:8080/",
          "height": 282
        },
        "id": "jC0txGTTBn99",
        "outputId": "dc58abc6-2c58-4761-d992-05fa2f62387f"
      },
      "execution_count": null,
      "outputs": [
        {
          "output_type": "execute_result",
          "data": {
            "text/plain": [
              "<matplotlib.axes._subplots.AxesSubplot at 0x7f9a1a629a00>"
            ]
          },
          "metadata": {},
          "execution_count": 155
        },
        {
          "output_type": "display_data",
          "data": {
            "text/plain": [
              "<Figure size 432x288 with 1 Axes>"
            ],
            "image/png": "[encoded data removed]"
          },
          "metadata": {
            "needs_background": "light"
          }
        }
      ]
    },
    {
      "cell_type": "code",
      "source": [
        "stats.ttest_1samp(a=case3_empirical_joint_probability_list, popmean=1/4)"
      ],
      "metadata": {
        "colab": {
          "base_uri": "https://localhost:8080/"
        },
        "id": "qqTzNUl4Brmt",
        "outputId": "90567e60-b39d-4273-f655-2c3e508ad2b5"
      },
      "execution_count": null,
      "outputs": [
        {
          "output_type": "execute_result",
          "data": {
            "text/plain": [
              "Ttest_1sampResult(statistic=-0.13444063786272129, pvalue=0.8933270892545353)"
            ]
          },
          "metadata": {},
          "execution_count": 156
        }
      ]
    },
    {
      "cell_type": "markdown",
      "source": [
        "As can be seen from the histplot above, the empirical joint probability is very close to 0.25 (=1/4). This can also be seen from the 1 sample T test with p-val >=0.05. Hence null hypothesis is true. This proves that the events are independent"
      ],
      "metadata": {
        "id": "iUZ1D2CUrWOV"
      }
    },
    {
      "cell_type": "markdown",
      "source": [
        "## Dependence of events"
      ],
      "metadata": {
        "id": "p9ei_erdrlGX"
      }
    },
    {
      "cell_type": "markdown",
      "source": [
        "**Case 4**:\n",
        "- E1: Get an even number in a roll of dice\n",
        "- E2: Get an odd number in same roll of dice\n",
        "\n",
        "P(E1) = {2,4, 6}/{1,2,3,4,5,6} = 3/6 = 1/2\n",
        "\n",
        "P(E2) = P(E1, E2) + P(E1_comp, E2) = 0/6 + {1,3,5}/{1,2,3,4,5,6} = 3/6 = 1/2\n",
        "\n",
        "\n",
        "**Logic**: E1 and E2 are disjoint events. i.e. P(E1, E2) = 0. -> (1)\n",
        "\n",
        "**Assuming independence**: P(E1, E2) = P(E1) * P(E2) = 1/4. -> (2)\n",
        "\n",
        "**Conclusion**: Since (1) and (2) values are not same, this implies that the events are dependent. This can also be seen empirically using code"
      ],
      "metadata": {
        "id": "5zjSpOAgrhZQ"
      }
    },
    {
      "cell_type": "code",
      "source": [
        "def get_empirical_joint_probability_case4(iterations = 1000):\n",
        "  count_e1_e2 = 0\n",
        "  for i in range(iterations):\n",
        "    ## perform E1 by randomly rolling a dice\n",
        "    random_choice = np.random.choice([1,2,3,4,5,6], size=1)\n",
        "    e1_result = random_choice in [2,4,6]\n",
        "    e2_result = random_choice in [1,3,5]\n",
        "\n",
        "    if e1_result and e2_result:\n",
        "      count_e1_e2 = count_e1_e2 + 1\n",
        "\n",
        "  return count_e1_e2/iterations\n"
      ],
      "metadata": {
        "id": "E7TD9xlUttRR"
      },
      "execution_count": null,
      "outputs": []
    },
    {
      "cell_type": "code",
      "source": [
        "case4_empirical_joint_probability_list = [get_empirical_joint_probability_case4(iterations = 1000) for i in range(100)]"
      ],
      "metadata": {
        "id": "O2fxUOq_uLcR"
      },
      "execution_count": null,
      "outputs": []
    },
    {
      "cell_type": "code",
      "source": [
        "sns.histplot(x=case4_empirical_joint_probability_list)"
      ],
      "metadata": {
        "colab": {
          "base_uri": "https://localhost:8080/",
          "height": 282
        },
        "id": "N9CRxbtKCO4F",
        "outputId": "2f4fdacb-b1d0-49a8-aadb-8d6e29eb855b"
      },
      "execution_count": null,
      "outputs": [
        {
          "output_type": "execute_result",
          "data": {
            "text/plain": [
              "<matplotlib.axes._subplots.AxesSubplot at 0x7f9a19d4d910>"
            ]
          },
          "metadata": {},
          "execution_count": 159
        },
        {
          "output_type": "display_data",
          "data": {
            "text/plain": [
              "<Figure size 432x288 with 1 Axes>"
            ],
            "image/png": "[encoded data removed]"
          },
          "metadata": {
            "needs_background": "light"
          }
        }
      ]
    },
    {
      "cell_type": "code",
      "source": [
        "stats.ttest_1samp(a=case4_empirical_joint_probability_list, popmean=1/4)"
      ],
      "metadata": {
        "colab": {
          "base_uri": "https://localhost:8080/"
        },
        "id": "H0VN5KIHCVsM",
        "outputId": "b9d42541-954e-4c53-c637-df0c38b69032"
      },
      "execution_count": null,
      "outputs": [
        {
          "output_type": "execute_result",
          "data": {
            "text/plain": [
              "Ttest_1sampResult(statistic=-inf, pvalue=0.0)"
            ]
          },
          "metadata": {},
          "execution_count": 160
        }
      ]
    },
    {
      "cell_type": "markdown",
      "source": [
        "As can be seen from the histplot above, the empirical joint probability is very close to 0 (!= 1/4). This can also be seen from the 1 sample T test with p-val =0. Hence we have enough evidence to reject the null hypothesis that empirical prob is 0.25. This proves that the events are DEPENDENT"
      ],
      "metadata": {
        "id": "v2Hh5HsiCZgY"
      }
    },
    {
      "cell_type": "markdown",
      "source": [
        "**Case 5**:\n",
        "- E1: Draw a black card from a deck of 52 cards without replacement\n",
        "- E2: Draw another black card from a deck\n",
        "\n",
        "P(E1) = 26/52 = 1/2\n",
        "\n",
        "P(E2) = P(E1, E2) + P(E1_complement, E2) = P(1st black, 2nd black) + P(1st not black, 2nd black) = (26/52)x(25/51) + (26/52)x(26/51) = (26/52)x((25+26)/51) = 26/52 = 1/2\n",
        "\n",
        "**Logic**: P(E1, E2) = P(1st Black, 2nd Black) = P(2nd black|1st black)xP(1st black)= (25/51)x(26/52) = 0.2451 -> (1)\n",
        "\n",
        "**Assuming independence**: P(E1, E2) = 1/4 = 0.25. -> (2)\n",
        "\n",
        "**Conclusion**: Since (1) and (2) values are not same, this implies that the events are dependent. This can also be seen empirically using code"
      ],
      "metadata": {
        "id": "Y47yB5kdvve1"
      }
    },
    {
      "cell_type": "code",
      "source": [
        "def get_empirical_probabilities_case5(iterations = 1000):\n",
        "  e1_count = 0\n",
        "  e2_count = 0\n",
        "  count_e1_e2 = 0\n",
        "  for i in range(iterations):\n",
        "    ## Step 1: Set a deck of 52 cards with 26R and 26 B\n",
        "    card_deck = random.sample(['R']*26 + ['B']*26, 52)\n",
        "\n",
        "    ## Step 2: Randomly sample a card from card_deck without replcement\n",
        "    first_card_choice = card_deck.pop(random.randrange(len(card_deck)))\n",
        "    if first_card_choice == 'B':\n",
        "      e1_count = e1_count + 1\n",
        "\n",
        "    ## Step 3: Randomly sample a card from card_deck\n",
        "    second_card_choice = card_deck.pop(random.randrange(len(card_deck)))\n",
        "    if second_card_choice == 'B':\n",
        "      e2_count = e2_count + 1\n",
        "\n",
        "    if (first_card_choice == 'B') and (second_card_choice == 'B'):\n",
        "      count_e1_e2 = count_e1_e2 + 1\n",
        "\n",
        "  return {'P_E1':e1_count/iterations, 'P_E2':e2_count/iterations, 'P_E1_E2': count_e1_e2/iterations, 'P_E2_given_E1':count_e1_e2/e1_count, 'P_E1_given_E2':count_e1_e2/e2_count }"
      ],
      "metadata": {
        "id": "4fDNovBMuQ5L"
      },
      "execution_count": null,
      "outputs": []
    },
    {
      "cell_type": "code",
      "source": [
        "case5_empirical_joint_probability_list = [get_empirical_probabilities_case5(iterations = 1000)['P_E1_E2'] for i in range(100)]"
      ],
      "metadata": {
        "id": "9Oiauf3RxaJb"
      },
      "execution_count": null,
      "outputs": []
    },
    {
      "cell_type": "code",
      "source": [
        "sns.histplot(x=case5_empirical_joint_probability_list)"
      ],
      "metadata": {
        "colab": {
          "base_uri": "https://localhost:8080/",
          "height": 285
        },
        "id": "l8E4ZVKp3nTL",
        "outputId": "a935f19d-c9fb-4f4d-c7fc-5b7916580b8a"
      },
      "execution_count": null,
      "outputs": [
        {
          "output_type": "execute_result",
          "data": {
            "text/plain": [
              "<matplotlib.axes._subplots.AxesSubplot at 0x7f9a19b76970>"
            ]
          },
          "metadata": {},
          "execution_count": 168
        },
        {
          "output_type": "display_data",
          "data": {
            "text/plain": [
              "<Figure size 432x288 with 1 Axes>"
            ],
            "image/png": "[encoded data removed]"
          },
          "metadata": {
            "needs_background": "light"
          }
        }
      ]
    },
    {
      "cell_type": "code",
      "source": [
        "stats.ttest_1samp(a=case5_empirical_joint_probability_list, popmean=0.25)"
      ],
      "metadata": {
        "colab": {
          "base_uri": "https://localhost:8080/"
        },
        "id": "RF0_euP-Dzl9",
        "outputId": "d750989e-fb28-4967-aea6-36bf554058f2"
      },
      "execution_count": null,
      "outputs": [
        {
          "output_type": "execute_result",
          "data": {
            "text/plain": [
              "Ttest_1sampResult(statistic=-4.560736474320722, pvalue=1.4621018314297452e-05)"
            ]
          },
          "metadata": {},
          "execution_count": 188
        }
      ]
    },
    {
      "cell_type": "markdown",
      "source": [
        "As can be seen from the histplot above, the empirical joint probability is not equal to 0.25. This can also be seen from the 1 sample T test with very low p-val. Hence we have enough evidence to reject the null hypothesis that empirical joint prob is 0.25. This proves that the events are DEPENDENT"
      ],
      "metadata": {
        "id": "rJRFBdv2D_mp"
      }
    },
    {
      "cell_type": "markdown",
      "source": [
        "**Case 6**:\n",
        "A fair 6-sided dice is rolled\n",
        "- E1: Number is prime\n",
        "- E2: Number is even\n",
        "\n",
        "P(E1) = P(E1, E2) + P(E1, E2_complement) = {2}/{1,2,3,4,5,6} + {3,5}/{1,2,3,4,5,6} = 1/6 + 2/6 = 1/2\n",
        "\n",
        "P(E2) = P(E1, E2) + P(E1_comp, E2) = {2}/{1,2,3,4,5,6} + {4,6}/{1,2,3,4,5,6} = 1/6 + 2/6 = 1/2\n",
        "\n",
        "**Logic**: P(E1, E2) = P(Number is prime and even) = P(Even|Prime) * P(Prime) = {2}/{2,3,5} x {2,3,5}/{1,2,3,4,5,6} = 1/3x3/6 = {2}/{1,2,3,4,5,6} = 1/6 -> (1)\n",
        "\n",
        "**Assuming independence**: P(E1, E2) = P(E1)*P(E2) = 1/4 -> (2)\n",
        "\n",
        "**Conclusion**: Since (1) and (2) values are not same, this implies that the events are dependent. This can also be seen empirically using code"
      ],
      "metadata": {
        "id": "GXjoDqp8IKsR"
      }
    },
    {
      "cell_type": "code",
      "source": [
        "def get_empirical_probabilities_case6(iterations = 1000):\n",
        "  e1_count = 0\n",
        "  e2_count = 0\n",
        "  count_e1_e2 = 0\n",
        "  for i in range(iterations):\n",
        "    random_choice = np.random.choice([1,2,3,4,5,6], size=1)\n",
        "    e1_result = random_choice in [2,3,5]\n",
        "    e2_result = random_choice in [2,4,6]\n",
        "\n",
        "    if e1_result:\n",
        "      e1_count +=1\n",
        "    if e2_result:\n",
        "      e2_count+=1\n",
        "    if e1_result and e2_result:\n",
        "      count_e1_e2+=1\n",
        "\n",
        "  return {'P_E1':e1_count/iterations, 'P_E2':e2_count/iterations, 'P_E1_E2': count_e1_e2/iterations, 'P_E2_given_E1':count_e1_e2/e1_count, 'P_E1_given_E2':count_e1_e2/e2_count }"
      ],
      "metadata": {
        "id": "uDKfYmmQM2um"
      },
      "execution_count": null,
      "outputs": []
    },
    {
      "cell_type": "code",
      "source": [
        "case6_empirical_probability_dict_list = [get_empirical_probabilities_case6(iterations = 1000) for i in range(100)]"
      ],
      "metadata": {
        "id": "6SiiOeXzQoIs"
      },
      "execution_count": null,
      "outputs": []
    },
    {
      "cell_type": "code",
      "source": [
        "e1_prob_list = list(map(itemgetter('P_E1'), case6_empirical_probability_dict_list))\n",
        "e2_prob_list = list(map(itemgetter('P_E2'), case6_empirical_probability_dict_list))\n",
        "e1_e2_prob_list = list(map(itemgetter('P_E1_E2'), case6_empirical_probability_dict_list))\n",
        "e1_given_e2_prob_list = list(map(itemgetter('P_E1_given_E2'), case6_empirical_probability_dict_list))\n",
        "e2_given_e1_prob_list = list(map(itemgetter('P_E2_given_E1'), case6_empirical_probability_dict_list))"
      ],
      "metadata": {
        "id": "zYvO5bmURuxz"
      },
      "execution_count": null,
      "outputs": []
    },
    {
      "cell_type": "code",
      "source": [
        "stats.ttest_1samp(a=e1_prob_list, popmean=0.5)"
      ],
      "metadata": {
        "colab": {
          "base_uri": "https://localhost:8080/"
        },
        "id": "u2dd0x8zSM_d",
        "outputId": "5e21e60f-1fdd-49e2-b5bd-f5e6ee2b642e"
      },
      "execution_count": null,
      "outputs": [
        {
          "output_type": "execute_result",
          "data": {
            "text/plain": [
              "Ttest_1sampResult(statistic=0.8306246759570025, pvalue=0.4081843855820537)"
            ]
          },
          "metadata": {},
          "execution_count": 178
        }
      ]
    },
    {
      "cell_type": "code",
      "source": [
        "stats.ttest_1samp(a=e2_prob_list, popmean=0.5)"
      ],
      "metadata": {
        "colab": {
          "base_uri": "https://localhost:8080/"
        },
        "id": "-saMK2pdSU0d",
        "outputId": "7bfb74c9-14d3-4915-f631-0efa6e1716a6"
      },
      "execution_count": null,
      "outputs": [
        {
          "output_type": "execute_result",
          "data": {
            "text/plain": [
              "Ttest_1sampResult(statistic=-0.026935957534927647, pvalue=0.9785650363637117)"
            ]
          },
          "metadata": {},
          "execution_count": 179
        }
      ]
    },
    {
      "cell_type": "code",
      "source": [
        "stats.ttest_1samp(a=e1_e2_prob_list, popmean=1/6)"
      ],
      "metadata": {
        "colab": {
          "base_uri": "https://localhost:8080/"
        },
        "id": "f1lUPZg_SXpe",
        "outputId": "491fad92-46db-479e-c837-f686fa26b664"
      },
      "execution_count": null,
      "outputs": [
        {
          "output_type": "execute_result",
          "data": {
            "text/plain": [
              "Ttest_1sampResult(statistic=0.2832632435576985, pvalue=0.777566533001381)"
            ]
          },
          "metadata": {},
          "execution_count": 182
        }
      ]
    },
    {
      "cell_type": "code",
      "source": [
        "stats.ttest_1samp(a=e1_given_e2_prob_list, popmean=1/3)"
      ],
      "metadata": {
        "colab": {
          "base_uri": "https://localhost:8080/"
        },
        "id": "UXcSWGU4SkRT",
        "outputId": "c0939967-7e0d-4964-a42c-adc75b979197"
      },
      "execution_count": null,
      "outputs": [
        {
          "output_type": "execute_result",
          "data": {
            "text/plain": [
              "Ttest_1sampResult(statistic=0.3210866622560989, pvalue=0.7488215676630177)"
            ]
          },
          "metadata": {},
          "execution_count": 183
        }
      ]
    },
    {
      "cell_type": "code",
      "source": [
        "stats.ttest_1samp(a=e2_given_e1_prob_list, popmean=1/3)"
      ],
      "metadata": {
        "colab": {
          "base_uri": "https://localhost:8080/"
        },
        "id": "Gna-IqkQSngz",
        "outputId": "ae66c7d5-64cd-405e-db9f-ea6cb3b08e46"
      },
      "execution_count": null,
      "outputs": [
        {
          "output_type": "execute_result",
          "data": {
            "text/plain": [
              "Ttest_1sampResult(statistic=-0.07983815913145274, pvalue=0.9365271403397495)"
            ]
          },
          "metadata": {},
          "execution_count": 184
        }
      ]
    },
    {
      "cell_type": "code",
      "source": [
        "sns.histplot(x=e1_e2_prob_list)"
      ],
      "metadata": {
        "colab": {
          "base_uri": "https://localhost:8080/",
          "height": 282
        },
        "id": "Y9QoH71OSq7q",
        "outputId": "e8d12edc-aa2d-4e5e-f45d-f51af5c91756"
      },
      "execution_count": null,
      "outputs": [
        {
          "output_type": "execute_result",
          "data": {
            "text/plain": [
              "<matplotlib.axes._subplots.AxesSubplot at 0x7f9a19b6d6d0>"
            ]
          },
          "metadata": {},
          "execution_count": 185
        },
        {
          "output_type": "display_data",
          "data": {
            "text/plain": [
              "<Figure size 432x288 with 1 Axes>"
            ],
            "image/png": "[encoded data removed]"
          },
          "metadata": {
            "needs_background": "light"
          }
        }
      ]
    },
    {
      "cell_type": "code",
      "source": [
        "stats.ttest_1samp(a=e1_e2_prob_list, popmean=1/4)"
      ],
      "metadata": {
        "colab": {
          "base_uri": "https://localhost:8080/"
        },
        "id": "wMFGo4X2Su-D",
        "outputId": "6f612458-c213-4df5-a0b6-ebba9aa7e610"
      },
      "execution_count": null,
      "outputs": [
        {
          "output_type": "execute_result",
          "data": {
            "text/plain": [
              "Ttest_1sampResult(statistic=-72.72272736410083, pvalue=9.702080677219872e-88)"
            ]
          },
          "metadata": {},
          "execution_count": 186
        }
      ]
    },
    {
      "cell_type": "markdown",
      "source": [
        "As can be seen from the histplot above, the empirical joint probability is not equal to 0.25. This can also be seen from the 1 sample T test with very low p-val. Hence we have enough evidence to reject the null hypothesis that empirical joint prob is 0.25. This proves that the events are DEPENDENT"
      ],
      "metadata": {
        "id": "n2lIXg-pS1d9"
      }
    },
    {
      "cell_type": "markdown",
      "source": [
        "**Case 7**:\n",
        "A standard deck of 52 cards. A 2 card hand is drawn.\n",
        "- E1: 1st Card is an ace\n",
        "- E2: 2nd Card is an ace\n",
        "\n",
        "P(E1) = P(E1, E2) + P(E1, E2_complement) = (4/52)\\*(3/51) + (4/52)\\*(48/51) = 4/52\n",
        "\n",
        "P(E2) = P(E1, E2) + P(E1_comp, E2) = (4/52)\\*(3/51) + (48/52)\\*(4/51) = 4/52\n",
        "\n",
        "**Logic**: P(E1, E2) = P(1st card is Ace and 2nd card is Ace) = P(2nd ace | 1st ace) * P(1st Ace) = (3/51)\\*(4/52)-> (1)\n",
        "\n",
        "**Assuming independence**: P(E1, E2) = P(E1)*P(E2) = (4/52)\\*(4/52) -> (2)\n",
        "\n",
        "**Conclusion**: Since (1) and (2) values are not same, this implies that the events are dependent. This can also be seen empirically using code"
      ],
      "metadata": {
        "id": "scDhKD6wO6xW"
      }
    },
    {
      "cell_type": "code",
      "source": [
        "class Card:\n",
        "  def __init__(self, value, suit):\n",
        "    self.value = value\n",
        "    self.suit = suit\n",
        "\n",
        "    if self.suit in ['hearts', 'diamonds']:\n",
        "      self.color = 'R'\n",
        "    else:\n",
        "      self.color = 'B'\n",
        "\n",
        "value_list = [val for val in range(2,11)] + [\"K\",\"Q\",\"J\",\"A\"]\n",
        "suit_list = [\"spades\", \"hearts\", \"clubs\", \"diamonds\"]"
      ],
      "metadata": {
        "id": "cjVN8CktQbK1"
      },
      "execution_count": null,
      "outputs": []
    },
    {
      "cell_type": "code",
      "source": [
        "def get_empirical_probabilities_case7(iterations = 1000):\n",
        "  e1_count = 0\n",
        "  e2_count = 0\n",
        "  count_e1_e2 = 0\n",
        "\n",
        "  for i in range(iterations):\n",
        "    is_first_card_ace = False\n",
        "    is_second_card_ace = False\n",
        "    ## Step1 : Create deck of cards and shuffle it\n",
        "    deck = [Card(value, suit) for value in value_list for suit in suit_list]\n",
        "    random.shuffle(deck)\n",
        "\n",
        "    ## Step 2: Randomly sample a card from card_deck without replcement\n",
        "    first_card = deck.pop(random.randrange(len(deck)))\n",
        "\n",
        "    if first_card.value == 'A':\n",
        "      e1_count = e1_count + 1\n",
        "      is_first_card_ace = True\n",
        "\n",
        "    ## Step 3: Randomly sample a card from card_deck\n",
        "    second_card = deck.pop(random.randrange(len(deck)))\n",
        "    if second_card.value == 'A':\n",
        "      e2_count = e2_count + 1\n",
        "      is_second_card_ace = True\n",
        "\n",
        "    if is_first_card_ace and is_second_card_ace:\n",
        "      count_e1_e2 = count_e1_e2 + 1\n",
        "\n",
        "  return {'P_E1':e1_count/iterations, 'P_E2':e2_count/iterations, 'P_E1_E2': count_e1_e2/iterations, 'P_E2_given_E1':count_e1_e2/e1_count, 'P_E1_given_E2':count_e1_e2/e2_count }"
      ],
      "metadata": {
        "id": "wdVWYSeRTztY"
      },
      "execution_count": null,
      "outputs": []
    },
    {
      "cell_type": "code",
      "source": [
        "case7_empirical_probability_dict_list = [get_empirical_probabilities_case7(iterations = 1000) for i in range(100)]"
      ],
      "metadata": {
        "id": "tlS8uvhGU9Yx"
      },
      "execution_count": null,
      "outputs": []
    },
    {
      "cell_type": "code",
      "source": [
        "case7_e1_e2_prob_list = list(map(itemgetter('P_E1_E2'), case7_empirical_probability_dict_list))"
      ],
      "metadata": {
        "id": "sKUiBU4mVdqp"
      },
      "execution_count": null,
      "outputs": []
    },
    {
      "cell_type": "code",
      "source": [
        "sns.histplot(x=case7_e1_e2_prob_list)"
      ],
      "metadata": {
        "colab": {
          "base_uri": "https://localhost:8080/",
          "height": 283
        },
        "id": "O3FMRGQvVjG0",
        "outputId": "dcf6297d-100e-4ef2-c994-f9e5e20c3157"
      },
      "execution_count": null,
      "outputs": [
        {
          "output_type": "execute_result",
          "data": {
            "text/plain": [
              "<matplotlib.axes._subplots.AxesSubplot at 0x7f2f2bf5ffa0>"
            ]
          },
          "metadata": {},
          "execution_count": 26
        },
        {
          "output_type": "display_data",
          "data": {
            "text/plain": [
              "<Figure size 432x288 with 1 Axes>"
            ],
            "image/png": "[encoded data removed]"
          },
          "metadata": {
            "needs_background": "light"
          }
        }
      ]
    },
    {
      "cell_type": "code",
      "source": [
        "stats.ttest_1samp(a=case7_e1_e2_prob_list, popmean=16/(52*52))"
      ],
      "metadata": {
        "colab": {
          "base_uri": "https://localhost:8080/"
        },
        "id": "iWhZOOl0Vm1H",
        "outputId": "872dc260-5e26-42f7-9bcf-6806ebdf9902"
      },
      "execution_count": null,
      "outputs": [
        {
          "output_type": "execute_result",
          "data": {
            "text/plain": [
              "Ttest_1sampResult(statistic=-6.753823141765594, pvalue=9.958787705110743e-10)"
            ]
          },
          "metadata": {},
          "execution_count": 27
        }
      ]
    },
    {
      "cell_type": "markdown",
      "source": [
        "As can be seen from the histplot above, the empirical joint probability is not equal to 16/(52\\*52). This can also be seen from the 1 sample T test with very low p-val. Hence we have enough evidence to reject the null hypothesis that empirical joint prob is 16/(52\\*52). This proves that the events are DEPENDENT"
      ],
      "metadata": {
        "id": "UUasq3b1WigB"
      }
    },
    {
      "cell_type": "code",
      "source": [
        "stats.ttest_1samp(a=case7_e1_e2_prob_list, popmean=12/(52*51))"
      ],
      "metadata": {
        "colab": {
          "base_uri": "https://localhost:8080/"
        },
        "id": "N1I2xmlgVwhd",
        "outputId": "a0b4c050-30ff-433f-a5f3-bd109e4226b3"
      },
      "execution_count": null,
      "outputs": [
        {
          "output_type": "execute_result",
          "data": {
            "text/plain": [
              "Ttest_1sampResult(statistic=-0.3007456753235323, pvalue=0.7642391234382097)"
            ]
          },
          "metadata": {},
          "execution_count": 28
        }
      ]
    },
    {
      "cell_type": "markdown",
      "source": [
        "**Case 8**:\n",
        "Consider a 6 sided fair dice\n",
        "- A/E1: Dice is rolled and 3 shows up\n",
        "- B/E2: Dice is rolled and 4 shows up\n",
        "\n",
        "P(A) = P(B) = 1/6\n",
        "\n",
        "A, B are independent events so P(A,B) = P(A)\\*P(B) = 1/36\n",
        "\n",
        "Now, let there is event C: Total sum of numbers is even. This restricts what can occur in B because C has to be satisfied. Are events A|C and B|C independent? (Note: A, B are independent events)\n",
        "\n",
        "**Logic**:\n",
        "\n",
        "Way 1:\n",
        "\n",
        "*   P(B|A,C) = P(B,A|C)/P(A|C) = Number of outcomes in B,A|C / Number of outcomes in A|C = 0/|{(3,1), (3,3), (3,5)}| = 0/3 = 0\n",
        "*   P(B|C) = Number of outcomes in B,C / Number of outcomes in C = |{(4,2), (4,4), (4,6)}|/18 = 3/18 = 1/6\n",
        "\n",
        "We can see that P(B|A,C) != P(B|C). This shows that given C, A and B are not Independent events\n",
        "\n",
        "We can also show that P(AB|C) != P(A|C)\\*P(B|C) (0 != 1/36)\n",
        "\n",
        "**Conclusion**: We can see that uncondtional on C, A and B are independent events. But when conditional on C, A and B become dependent events. This can be shown through code as well"
      ],
      "metadata": {
        "id": "kHredv1d43Wf"
      }
    },
    {
      "cell_type": "code",
      "source": [
        "def get_empirical_probabilities_case8(iterations = 1000):\n",
        "  e1_count = 0\n",
        "  e2_count = 0\n",
        "  e1_e2_count = 0\n",
        "\n",
        "  condition_satisfied_count = 0\n",
        "  conditional_e1_count = 0\n",
        "  conditional_e2_count = 0\n",
        "  conditional_e1_e2_count = 0\n",
        "  e2_condition_count = 0\n",
        "  e1_condition_count = 0\n",
        "  e1_e2_condition_count = 0\n",
        "\n",
        "  for i in range(iterations):\n",
        "    e1_number = np.random.choice([1,2,3,4,5,6], size=1)\n",
        "    e2_number = np.random.choice([1,2,3,4,5,6], size=1)\n",
        "\n",
        "    e1_result = e1_number == 3\n",
        "    e2_result = e2_number == 4\n",
        "    is_sum_even = (e1_number+e2_number)%2 == 0\n",
        "    condition_satisfied_count = condition_satisfied_count+1 if is_sum_even else condition_satisfied_count\n",
        "    e1_condition_count = e1_condition_count + 1 if (is_sum_even and e1_result) else e1_condition_count\n",
        "    e2_condition_count = e2_condition_count + 1 if (is_sum_even and e2_result) else e2_condition_count\n",
        "    e1_e2_condition_count = e1_e2_condition_count + 1 if (is_sum_even and e1_result and e2_result) else e1_e2_condition_count\n",
        "\n",
        "    if e1_result:\n",
        "      e1_count +=1\n",
        "      if is_sum_even:\n",
        "        ## C is satisfied\n",
        "        conditional_e1_count = conditional_e1_count + 1\n",
        "\n",
        "    if e2_result:\n",
        "      e2_count+=1\n",
        "      if is_sum_even:\n",
        "        ## C is satisfied\n",
        "        conditional_e2_count = conditional_e2_count + 1\n",
        "\n",
        "    if (e1_result and e2_result):\n",
        "      e1_e2_count+=1\n",
        "      if is_sum_even:\n",
        "        #print(f'is_sum_even is {(e1_number+e2_number)%2 == 0} when E1: {e1_number} and E2: {e2_number}')\n",
        "        ## C is satisfied\n",
        "        conditional_e1_e2_count = conditional_e1_e2_count + 1\n",
        "\n",
        "  #print(f'conditional_e1_e2_count: {conditional_e1_e2_count}')\n",
        "  #print(f'conditional_e1_count: {conditional_e1_count}')\n",
        "  return {'P_E1':e1_count/iterations, 'P_E2':e2_count/iterations, 'P_E1_E2': e1_e2_count/iterations, 'P_E1_given_E2':e1_e2_count/e2_count, 'P_E2_given_E1':e1_e2_count/e1_count, 'P_E2_given_E1_C':conditional_e1_e2_count/conditional_e1_count, 'P_E1_given_C':e1_condition_count/condition_satisfied_count, 'P_E2_given_C':e2_condition_count/condition_satisfied_count, 'P_E1_E2_given_C_way1':e1_e2_condition_count/condition_satisfied_count, 'P_E1_E2_given_C_way2':conditional_e1_e2_count/iterations}"
      ],
      "metadata": {
        "id": "T_A-4scG7Kes"
      },
      "execution_count": null,
      "outputs": []
    },
    {
      "cell_type": "code",
      "source": [
        "get_empirical_probabilities_case8(iterations = 1000)"
      ],
      "metadata": {
        "colab": {
          "base_uri": "https://localhost:8080/"
        },
        "id": "7ccRvHWkCf3Q",
        "outputId": "78eafb06-66d6-4820-b225-7b6d73c8e533"
      },
      "execution_count": null,
      "outputs": [
        {
          "output_type": "execute_result",
          "data": {
            "text/plain": [
              "{'P_E1': 0.167,\n",
              " 'P_E2': 0.184,\n",
              " 'P_E1_E2': 0.038,\n",
              " 'P_E1_given_E2': 0.20652173913043478,\n",
              " 'P_E2_given_E1': 0.2275449101796407,\n",
              " 'P_E2_given_E1_C': 0.0,\n",
              " 'P_E1_given_C': 0.1659919028340081,\n",
              " 'P_E2_given_C': 0.18421052631578946,\n",
              " 'P_E1_E2_given_C_way1': 0.0,\n",
              " 'P_E1_E2_given_C_way2': 0.0}"
            ]
          },
          "metadata": {},
          "execution_count": 44
        }
      ]
    },
    {
      "cell_type": "code",
      "source": [
        "case8_empirical_probability_dict_list = [get_empirical_probabilities_case8(iterations = 1000) for i in range(100)]"
      ],
      "metadata": {
        "id": "n4kVaNxyDw1Y"
      },
      "execution_count": null,
      "outputs": []
    },
    {
      "cell_type": "code",
      "source": [
        "case8_e1_e2_given_c_prob_list = list(map(itemgetter('P_E1_E2_given_C_way1'), case8_empirical_probability_dict_list))\n",
        "case8_e1_given_c_prob_list = list(map(itemgetter('P_E1_given_C'), case8_empirical_probability_dict_list))\n",
        "case8_e2_given_c_prob_list = list(map(itemgetter('P_E2_given_C'), case8_empirical_probability_dict_list))"
      ],
      "metadata": {
        "id": "YPQCIyqZFlxl"
      },
      "execution_count": null,
      "outputs": []
    },
    {
      "cell_type": "code",
      "source": [
        "sns.histplot(x=case8_e2_given_c_prob_list)"
      ],
      "metadata": {
        "colab": {
          "base_uri": "https://localhost:8080/",
          "height": 285
        },
        "id": "_NDMTDAzF9VP",
        "outputId": "0a0127d5-634e-4ebe-a166-54fcf69b45e1"
      },
      "execution_count": null,
      "outputs": [
        {
          "output_type": "execute_result",
          "data": {
            "text/plain": [
              "<matplotlib.axes._subplots.AxesSubplot at 0x7f263c4ef3a0>"
            ]
          },
          "metadata": {},
          "execution_count": 50
        },
        {
          "output_type": "display_data",
          "data": {
            "text/plain": [
              "<Figure size 432x288 with 1 Axes>"
            ],
            "image/png": "[encoded data removed]"
          },
          "metadata": {
            "needs_background": "light"
          }
        }
      ]
    },
    {
      "cell_type": "code",
      "source": [
        "stats.ttest_1samp(a=case8_e1_e2_given_c_prob_list, popmean=1/36)"
      ],
      "metadata": {
        "colab": {
          "base_uri": "https://localhost:8080/"
        },
        "id": "23OcwqKCGFi_",
        "outputId": "3f48c8cf-5926-4f16-9131-a13a91a7b338"
      },
      "execution_count": null,
      "outputs": [
        {
          "output_type": "execute_result",
          "data": {
            "text/plain": [
              "Ttest_1sampResult(statistic=-inf, pvalue=0.0)"
            ]
          },
          "metadata": {},
          "execution_count": 53
        }
      ]
    }
  ]
}