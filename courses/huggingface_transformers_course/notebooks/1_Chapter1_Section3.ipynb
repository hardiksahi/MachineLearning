{
  "nbformat": 4,
  "nbformat_minor": 0,
  "metadata": {
    "colab": {
      "provenance": [],
      "gpuType": "T4",
      "authorship_tag": "ABX9TyO521ID4NEZoNylWEi2FWyB",
      "include_colab_link": true
    },
    "kernelspec": {
      "name": "python3",
      "display_name": "Python 3"
    },
    "language_info": {
      "name": "python"
    },
    "accelerator": "GPU"
  },
  "cells": [
    {
      "cell_type": "markdown",
      "metadata": {
        "id": "view-in-github",
        "colab_type": "text"
      },
      "source": [
        "<a href=\"https://colab.research.google.com/github/hardiksahi/MachineLearning/blob/HS-hf_transformers_course/courses/huggingface_transformers_course/notebooks/1_Chapter1_Section3.ipynb\" target=\"_parent\"><img src=\"https://colab.research.google.com/assets/colab-badge.svg\" alt=\"Open In Colab\"/></a>"
      ]
    },
    {
      "cell_type": "markdown",
      "source": [
        "## Follow: https://huggingface.co/learn/llm-course/en/chapter1/3?fw=pt\n",
        "## NB: https://github.com/huggingface/notebooks/blob/main/course/en/chapter1/section3.ipynb\n",
        "## Name: Transformers, what can they do?"
      ],
      "metadata": {
        "id": "05Scp_hHhVxq"
      }
    },
    {
      "cell_type": "markdown",
      "source": [
        "Notes:\n",
        "1. The 🤗 Transformers library provides the functionality to create and use those shared models.\n",
        "2. The Model Hub contains millions of pretrained models that anyone can download and use"
      ],
      "metadata": {
        "id": "49gqnhStheb3"
      }
    },
    {
      "cell_type": "markdown",
      "source": [
        "Pipeline API:\n",
        "1. Github: https://github.com/huggingface/transformers/blob/main/src/transformers/pipelines/__init__.py\n",
        "2. Encapsulates pre-processing, model and post-processing steps for a chosen NLP usecase like classification, summarization etc.\n",
        "3. List of pretrained models for different usecases: https://huggingface.co/models"
      ],
      "metadata": {
        "id": "jdrRgkuBhfKu"
      }
    },
    {
      "cell_type": "code",
      "execution_count": null,
      "metadata": {
        "collapsed": true,
        "id": "b-lyYJ5XhR4V"
      },
      "outputs": [],
      "source": [
        "!pip install datasets evaluate transformers[sentencepiece]"
      ]
    },
    {
      "cell_type": "code",
      "source": [
        "from transformers import pipeline"
      ],
      "metadata": {
        "id": "aQvxwLO7h48v"
      },
      "execution_count": null,
      "outputs": []
    },
    {
      "cell_type": "markdown",
      "source": [
        "### Task1: Text classification\n",
        "- Model list: https://huggingface.co/models?pipeline_tag=text-classification&sort=trending\n",
        "- Default: \"distilbert/distilbert-base-uncased-finetuned-sst-2-english\" as mentioned in https://github.com/huggingface/transformers/blob/main/src/transformers/pipelines/__init__.py#L200\n",
        "- Default: BERT base model with distillation => DistilBERT base model (uncased) => fine tuned on SST2 binary classification dataset (https://huggingface.co/distilbert/distilbert-base-uncased-finetuned-sst-2-english)"
      ],
      "metadata": {
        "id": "jmSh4Z3dhvqd"
      }
    },
    {
      "cell_type": "code",
      "source": [
        "classification_pipeline = pipeline(task=\"text-classification\", model=\"distilbert/distilbert-base-uncased-finetuned-sst-2-english\")"
      ],
      "metadata": {
        "id": "LQkfDhE7h09v"
      },
      "execution_count": null,
      "outputs": []
    },
    {
      "cell_type": "code",
      "source": [
        "classification_pipeline([\"I am very happy today\", \"My vacation starts from next week\", \"Gruesome attack in Kashmir\"])"
      ],
      "metadata": {
        "id": "-3TuTD0ZiDFL"
      },
      "execution_count": null,
      "outputs": []
    },
    {
      "cell_type": "markdown",
      "source": [
        "### Task2: Zero shot classification\n",
        "1. Model list: https://huggingface.co/models?pipeline_tag=zero-shot-classification&sort=trending\n",
        "2. Default: facebook/bart-large-mnli as mentioned at https://github.com/huggingface/transformers/blob/main/src/transformers/pipelines/__init__.py#L313C25-L313C49\n",
        "3. Default:\n",
        "- Enc(BERT based) + Dec (Autoregressive like GPT) based Seq2seq model (https://huggingface.co/facebook/bart-large)\n",
        "- Finetune on MNLI dataset (https://huggingface.co/facebook/bart-large-mnli)\n",
        "4. Default: MNLI dataset has premise and hypothesis with labels: contradiction, neutral, entailment\n",
        "5. Zero shot classification as an NLI task: https://joeddav.github.io/blog/2020/05/29/ZSL.html\n"
      ],
      "metadata": {
        "id": "EouKx03Miki9"
      }
    },
    {
      "cell_type": "code",
      "source": [
        "zero_shot_classifier = pipeline(task=\"zero-shot-classification\", model=\"facebook/bart-large-mnli\")"
      ],
      "metadata": {
        "id": "Ka4QnS3Ymdgv"
      },
      "execution_count": null,
      "outputs": []
    },
    {
      "cell_type": "code",
      "source": [
        "zero_shot_classifier([\"what mahatama gandhi faced in south africa is a system of apartheid\", \"Israel is committing a genocide in Gaza\"], candidate_labels=[\"education\", \"business\", \"politics\", \"society\"])"
      ],
      "metadata": {
        "id": "pry-Upganm0p"
      },
      "execution_count": null,
      "outputs": []
    },
    {
      "cell_type": "markdown",
      "source": [
        "### Task3: Text generation\n",
        "1. Model list: https://huggingface.co/models?pipeline_tag=text-generation&sort=trending\n",
        "2. Default: openai-community/gpt2 as mentioned at https://github.com/huggingface/transformers/blob/main/src/transformers/pipelines/__init__.py#L304C39-L304C60\n",
        "3. Default: GPT2 model trained by HF (https://huggingface.co/openai-community/gpt2)\n",
        "3. Default: It is a decoder based autoregressive model\n"
      ],
      "metadata": {
        "id": "9eFOZoAho6Eg"
      }
    },
    {
      "cell_type": "code",
      "source": [
        "generation_pipeline = pipeline(task=\"text-generation\", model=\"openai-community/gpt2\")"
      ],
      "metadata": {
        "id": "U4B_byIqrKHg"
      },
      "execution_count": null,
      "outputs": []
    },
    {
      "cell_type": "code",
      "source": [
        "generation_pipeline(\"Sometimes I wonder that the world is moving fast towards fascism\", num_return_sequences=5)"
      ],
      "metadata": {
        "id": "A2sa8HbDo9eO"
      },
      "execution_count": null,
      "outputs": []
    },
    {
      "cell_type": "code",
      "source": [
        "generation_pipeline2 = pipeline(task=\"text-generation\", model=\"HuggingFaceTB/SmolLM2-360M\")"
      ],
      "metadata": {
        "id": "V74rJCEgsrxy"
      },
      "execution_count": null,
      "outputs": []
    },
    {
      "cell_type": "code",
      "source": [
        "# generation_pipeline2(\n",
        "#     \"In this course, we will teach you how to\",\n",
        "#     max_length=30,\n",
        "#     num_return_sequences=2,\n",
        "# )"
      ],
      "metadata": {
        "id": "X6gzze6dswuP"
      },
      "execution_count": null,
      "outputs": []
    },
    {
      "cell_type": "markdown",
      "source": [
        "### Task4: Fill mask\n",
        "1. Model list: https://huggingface.co/models?pipeline_tag=fill-mask&sort=trending\n",
        "2. Default: distilbert/distilroberta-base as mentioned in https://github.com/huggingface/transformers/blob/main/src/transformers/pipelines/__init__.py#L266C25-L266C54\n",
        "3. Default: RoBERTa base model (pretrained using MLM objective) -> distillation to get distilbert/distilroberta-base\n"
      ],
      "metadata": {
        "id": "gEjY2oknwo-K"
      }
    },
    {
      "cell_type": "code",
      "source": [
        "fill_mask_pipeline = pipeline(task=\"fill-mask\", model=\"distilbert/distilroberta-base\")"
      ],
      "metadata": {
        "id": "aI1S1ENGxSK4"
      },
      "execution_count": null,
      "outputs": []
    },
    {
      "cell_type": "code",
      "source": [
        "fill_mask_pipeline([\"The world is a <mask> place to be\"], top_k=2)"
      ],
      "metadata": {
        "id": "fatQDu3Ex6UP"
      },
      "execution_count": null,
      "outputs": []
    },
    {
      "cell_type": "code",
      "source": [
        "fill_mask_pipeline2 = pipeline(task=\"fill-mask\", model=\"google-bert/bert-base-cased\")"
      ],
      "metadata": {
        "id": "qhBb4liqypEE"
      },
      "execution_count": null,
      "outputs": []
    },
    {
      "cell_type": "code",
      "source": [
        "fill_mask_pipeline2([\"The world is a [MASK] place to be\"], top_k=2)"
      ],
      "metadata": {
        "id": "uiIltpGKyw-5"
      },
      "execution_count": null,
      "outputs": []
    },
    {
      "cell_type": "code",
      "source": [
        "fill_mask_pipeline2([\"I have a wierd feeling when I [MASK] in dark\"], top_k=2)"
      ],
      "metadata": {
        "id": "J8p7Zlury5-I"
      },
      "execution_count": null,
      "outputs": []
    },
    {
      "cell_type": "markdown",
      "source": [
        "### Task5: Named Entity Recognition + POS tagging\n",
        "1. Model list: https://huggingface.co/models?pipeline_tag=token-classification&sort=trending\n",
        "2. Default: dbmdz/bert-large-cased-finetuned-conll03-english as mentioned in https://github.com/huggingface/transformers/blob/main/src/transformers/pipelines/__init__.py#L212\n",
        "3. Default: No model card is available\n"
      ],
      "metadata": {
        "id": "c2CdapIyzSId"
      }
    },
    {
      "cell_type": "code",
      "source": [
        "ner_pipeline = pipeline(\"token-classification\", model=\"dbmdz/bert-large-cased-finetuned-conll03-english\", grouped_entities=True)"
      ],
      "metadata": {
        "id": "pzJ-iuoMzRoN"
      },
      "execution_count": null,
      "outputs": []
    },
    {
      "cell_type": "code",
      "source": [
        "ner_pipeline(\"My name is Hardik Sahi. I am currently in India but I live in York, Canada.\")"
      ],
      "metadata": {
        "id": "Go1vqYL928_P"
      },
      "execution_count": null,
      "outputs": []
    },
    {
      "cell_type": "code",
      "source": [
        "pos_pipeline = pipeline(\"token-classification\", model=\"vblagoje/bert-english-uncased-finetuned-pos\")"
      ],
      "metadata": {
        "id": "oGbAPF9p3ZCE"
      },
      "execution_count": null,
      "outputs": []
    },
    {
      "cell_type": "code",
      "source": [
        "pos_pipeline(\"My name is Hardik Sahi. I am currently in India but I live in York, Canada.\", grouped_entities=True)"
      ],
      "metadata": {
        "collapsed": true,
        "id": "1ioBOjLY3qCj"
      },
      "execution_count": null,
      "outputs": []
    },
    {
      "cell_type": "markdown",
      "source": [
        "### Task6: Question answering\n",
        "1. Model list: https://huggingface.co/models?pipeline_tag=question-answering&sort=trending&search=pos\n",
        "2. Default: distilbert/distilbert-base-cased-distilled-squad as mentioned in https://github.com/huggingface/transformers/blob/main/src/transformers/pipelines/__init__.py#L224\n",
        "3. Default: BERT based model -> Distil BERT base -> Fine tune on Squadv1.1 dataset (https://huggingface.co/distilbert/distilbert-base-cased-distilled-squad)\n"
      ],
      "metadata": {
        "id": "IUUmt3Ez4CJz"
      }
    },
    {
      "cell_type": "code",
      "source": [
        "qa_pipeline = pipeline(task=\"question-answering\", model=\"distilbert/distilbert-base-cased-distilled-squad\")"
      ],
      "metadata": {
        "id": "HnUXEK785BWl"
      },
      "execution_count": null,
      "outputs": []
    },
    {
      "cell_type": "code",
      "source": [
        "qa_pipeline(question=\"Where do I reside\", context=\"The name that hangs outside my door is Hardik Sahi, Indian citizen and resident of Canada\")"
      ],
      "metadata": {
        "id": "mStYXxF456OQ"
      },
      "execution_count": null,
      "outputs": []
    },
    {
      "cell_type": "markdown",
      "source": [
        "### Task7: Summarization\n",
        "1. Model list: https://huggingface.co/models?pipeline_tag=summarization&sort=trending\n",
        "2. Default: sshleifer/distilbart-cnn-12-6 as mentioned in https://github.com/huggingface/transformers/blob/main/src/transformers/pipelines/__init__.py#L277\n",
        "3. Default: https://huggingface.co/sshleifer/distilbart-cnn-12-6\n"
      ],
      "metadata": {
        "id": "3ozDOc7h_HAU"
      }
    },
    {
      "cell_type": "code",
      "source": [
        "summarizer = pipeline(task=\"summarization\", model=\"sshleifer/distilbart-cnn-12-6\")"
      ],
      "metadata": {
        "id": "rPX9beeDAEgz"
      },
      "execution_count": null,
      "outputs": []
    },
    {
      "cell_type": "code",
      "source": [
        "summarizer(\n",
        "    \"\"\"\n",
        "    America has changed dramatically during recent years. Not only has the number of\n",
        "    graduates in traditional engineering disciplines such as mechanical, civil,\n",
        "    electrical, chemical, and aeronautical engineering declined, but in most of\n",
        "    the premier American universities engineering curricula now concentrate on\n",
        "    and encourage largely the study of engineering science. As a result, there\n",
        "    are declining offerings in engineering subjects dealing with infrastructure,\n",
        "    the environment, and related issues, and greater concentration on high\n",
        "    technology subjects, largely supporting increasingly complex scientific\n",
        "    developments. While the latter is important, it should not be at the expense\n",
        "    of more traditional engineering.\n",
        "\n",
        "    Rapidly developing economies such as China and India, as well as other\n",
        "    industrial countries in Europe and Asia, continue to encourage and advance\n",
        "    the teaching of engineering. Both China and India, respectively, graduate\n",
        "    six and eight times as many traditional engineers as does the United States.\n",
        "    Other industrial countries at minimum maintain their output, while America\n",
        "    suffers an increasingly serious decline in the number of engineering graduates\n",
        "    and a lack of well-educated engineers.\n",
        "\"\"\"\n",
        ")"
      ],
      "metadata": {
        "id": "Ug8imyzKAVe7"
      },
      "execution_count": null,
      "outputs": []
    },
    {
      "cell_type": "markdown",
      "source": [
        "### Task8: Translation\n",
        "1. Model list: https://huggingface.co/models?pipeline_tag=translation&sort=trending\n",
        "2. Default: google-t5/t5-base from https://github.com/huggingface/transformers/blob/main/src/transformers/pipelines/__init__.py#L287\n",
        "3. Default: Seq2Seq T5 model (https://huggingface.co/google-t5/t5-base)\n"
      ],
      "metadata": {
        "id": "tLxvEJMsA1Pd"
      }
    },
    {
      "cell_type": "code",
      "source": [
        "translation_pipeline = pipeline(task=\"translation_en_to_fr\", model=\"google-t5/t5-base\")"
      ],
      "metadata": {
        "id": "5FKlPklODWn4"
      },
      "execution_count": null,
      "outputs": []
    },
    {
      "cell_type": "code",
      "source": [
        "translation_pipeline(\"My name is hardik Sahi and i live in canada\")"
      ],
      "metadata": {
        "id": "ZGy_EmCiBzXN"
      },
      "execution_count": null,
      "outputs": []
    }
  ]
}