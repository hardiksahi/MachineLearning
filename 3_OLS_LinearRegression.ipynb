{
  "nbformat": 4,
  "nbformat_minor": 0,
  "metadata": {
    "colab": {
      "provenance": [],
      "authorship_tag": "ABX9TyN+U3WelZfw41WyAo4PrYUA",
      "include_colab_link": true
    },
    "kernelspec": {
      "name": "python3",
      "display_name": "Python 3"
    },
    "language_info": {
      "name": "python"
    }
  },
  "cells": [
    {
      "cell_type": "markdown",
      "metadata": {
        "id": "view-in-github",
        "colab_type": "text"
      },
      "source": [
        "<a href=\"https://colab.research.google.com/github/hardiksahi/MachineLearning/blob/main/3_OLS_LinearRegression.ipynb\" target=\"_parent\"><img src=\"https://colab.research.google.com/assets/colab-badge.svg\" alt=\"Open In Colab\"/></a>"
      ]
    },
    {
      "cell_type": "markdown",
      "source": [
        "Ridge regression:\n",
        "- https://www.youtube.com/watch?v=Q81RR3yKn30\n",
        "- https://stats.stackexchange.com/questions/104779/why-does-ridge-regression-work-well-in-the-presence-of-multicollinearity\n",
        "- https://stats.stackexchange.com/questions/70899/what-correlation-makes-a-matrix-singular-and-what-are-implications-of-singularit/70910#70910"
      ],
      "metadata": {
        "id": "G5N1kCi6RSW-"
      }
    },
    {
      "cell_type": "markdown",
      "source": [
        "**Singular/ Nearly singular matrix (Ill-conditioned)**\n",
        "\n",
        "https://stats.stackexchange.com/questions/70899/what-correlation-makes-a-matrix-singular-and-what-are-implications-of-singularit/70910#70910\n",
        "\n",
        "Consider a matrix with collinear/ nearly collinear columns(linear interdependence) X.\n",
        "Then, Matrix XTX is singular/ nealy singular\n",
        "\n",
        "1. The dependency observed in such matrix between its columns is actually that same dependency as the dependency between the variables in the data observed after the variables have been centered (their means brought to 0) or standardized (if we mean correlation rather than covariance matrix).\n",
        "\n",
        "**Singularity as geometric collinearity**\n",
        "\n",
        "In geometrical viewpoint, singularity is (multi)collinearity (or \"complanarity\"): variables displayed as vectors (arrows) in space lie in the space of dimentionality lesser than the number of variables - in a reduced space\n",
        "\n",
        "**Collinearity in regression: a geometric explanation and implications**\n",
        "1. No collinear columns => Normal regression/ OLS possible since XTX is invertible/ non singular => Unique plae through the data points exists.\n",
        "\n",
        "2. Columns completely collinear => Some columns redundant => Drop them and learn unique plane in reduced dimension OR Use Ridge regression etc\n",
        "\n",
        "3. Nearly collinear columns => Very small angle between variables represented as vectors => Even slight change in data will change vector => Huge change in plane fitted through data points => UNRELIABLE COEFFICIENT ESTIMATES AS CAN BE SEEN FROM HUGE STANDARD DEVIATIONS\n",
        "\n",
        "\n",
        "\n"
      ],
      "metadata": {
        "id": "jsogiFm6fF1y"
      }
    },
    {
      "cell_type": "markdown",
      "source": [
        "**Comparison of OLS and Ridge in terms of variance and bias (overfitting)**\n",
        "\n",
        "Ordinary Least Squares:\n",
        "\n",
        "\n",
        "1.   OLS generally overfits the training data as its only purpose is to minize SSR.\n",
        "2.   This leads to parameters getting large values => 1 unit change in input leads to large average change in output\n",
        "3. This means that output is very sensitive to small changes in input. This implies very high variance.\n",
        "\n",
        "Ridge regression:\n",
        "\n",
        "\n",
        "1.   Ridge regression helps resolve this by introducing some bias (by forcing parameters to take smaller values). This ensures that 1 unit change in input leads to small chage in output on average.\n",
        "2.   Prevent overfitting on training data by introducing some bias\n",
        "3. Make model less sensitive to changes in input variables by shrinking parameter values (reduce variance)\n"
      ],
      "metadata": {
        "id": "caSIGsNwSh4_"
      }
    },
    {
      "cell_type": "markdown",
      "source": [
        "**Comparison of OLS and Ridge in terms of handling high dimensional data**\n",
        "\n",
        "OLS:\n",
        "1. Needs #rows >= # features to be able to find unique solution.\n",
        "2. With # rows < # features => XTX will be singular/ ill conditioned matrix (singularity is (multi)collinearity (or \"complanarity\")) => Inverse of XTX does not exist => Unable to solve\n",
        "\n",
        "Ridge regression:\n",
        "\n",
        "1. Can work with high dimensional data where # rows/ examples < # features\n",
        "2. Very useful in a lot of cases where we have limited data/ data collection is expensive"
      ],
      "metadata": {
        "id": "v0Y-kIb7VoYk"
      }
    },
    {
      "cell_type": "markdown",
      "source": [
        "**Comparison of OLS and Ridge regression in terms of handling collinear/ nearly collinear independent variables (multicollinearity)**\n",
        "\n",
        "https://stats.stackexchange.com/questions/104779/why-does-ridge-regression-work-well-in-the-presence-of-multicollinearity\n",
        "\n",
        "OLS:\n",
        "\n",
        "\n",
        "\n",
        "1.   Fails to work since XTX is singular/ non invertible\n",
        "\n",
        "Ridge:\n",
        "\n",
        "1. Imposes contraint that coefficients should be small.\n",
        "2. This means that for 2 correlated variables X1, X2 with small coefficients (due to penalty), change in input does not have a huge impact on output.\n",
        "\n"
      ],
      "metadata": {
        "id": "CqDaK7m3YwaH"
      }
    },
    {
      "cell_type": "code",
      "execution_count": 1,
      "metadata": {
        "id": "icEsAfFIOuCw"
      },
      "outputs": [],
      "source": [
        "import pandas as pd\n",
        "import numpy as np"
      ]
    },
    {
      "cell_type": "code",
      "source": [
        "import random"
      ],
      "metadata": {
        "id": "MZEPltruau8q"
      },
      "execution_count": 2,
      "outputs": []
    },
    {
      "cell_type": "code",
      "source": [
        "from numpy.linalg import cond, inv"
      ],
      "metadata": {
        "id": "3xj0KqDiLN7P"
      },
      "execution_count": 3,
      "outputs": []
    },
    {
      "cell_type": "code",
      "source": [
        "from sklearn.model_selection import train_test_split\n",
        "from sklearn.metrics import mean_squared_error"
      ],
      "metadata": {
        "id": "82ej3lNXQOHa"
      },
      "execution_count": 288,
      "outputs": []
    },
    {
      "cell_type": "code",
      "source": [
        "from statsmodels.stats.outliers_influence import variance_inflation_factor\n",
        "from statsmodels.formula.api import ols\n",
        "import statsmodels.api as sm"
      ],
      "metadata": {
        "id": "jlaQv4XeQu80"
      },
      "execution_count": 5,
      "outputs": []
    },
    {
      "cell_type": "code",
      "source": [
        "from sklearn.preprocessing import StandardScaler"
      ],
      "metadata": {
        "id": "RtSql_y8pvTx"
      },
      "execution_count": 6,
      "outputs": []
    },
    {
      "cell_type": "code",
      "source": [
        "from sklearn.model_selection import cross_val_score, cross_validate\n",
        "from sklearn.model_selection import KFold"
      ],
      "metadata": {
        "id": "T5vGoO31tLup"
      },
      "execution_count": 336,
      "outputs": []
    },
    {
      "cell_type": "code",
      "source": [
        "from sklearn.linear_model import LinearRegression\n",
        "from sklearn.metrics import mean_squared_error, mean_absolute_percentage_error, r2_score, make_scorer"
      ],
      "metadata": {
        "id": "qJMnFZ7Vtpvb"
      },
      "execution_count": 322,
      "outputs": []
    },
    {
      "cell_type": "code",
      "source": [
        "## 1. Covariance and correlation of matrix (non collinear and collinear columns)\n",
        "## 2. OLS (Impact of standardization)"
      ],
      "metadata": {
        "id": "mu0R2q-7hza5"
      },
      "execution_count": null,
      "outputs": []
    },
    {
      "cell_type": "markdown",
      "source": [
        "## Step 1: Calculate covariance between 2 RV (2 vectors x and y)"
      ],
      "metadata": {
        "id": "oHs70ysK-nS1"
      }
    },
    {
      "cell_type": "code",
      "source": [
        "x_vector = np.random.rand(20,)\n",
        "y_vector = np.random.rand(20,)"
      ],
      "metadata": {
        "id": "FF8zH5ZS-mPQ"
      },
      "execution_count": 7,
      "outputs": []
    },
    {
      "cell_type": "code",
      "source": [
        "cov_x_y = np.dot(x_vector-np.mean(x_vector), y_vector-np.mean(y_vector))/(x_vector.shape[0]-1)\n",
        "print(f\"cov_x_y: {cov_x_y}\")\n",
        "print(f\"Is calculated covariance same as numpy covariance: {np.allclose(np.cov(x_vector, y_vector)[0][1], cov_x_y)}\")"
      ],
      "metadata": {
        "colab": {
          "base_uri": "https://localhost:8080/"
        },
        "id": "0ANKgJaO-Xvz",
        "outputId": "4e33bc7a-4e88-40be-b109-c869b2201592"
      },
      "execution_count": 8,
      "outputs": [
        {
          "output_type": "stream",
          "name": "stdout",
          "text": [
            "cov_x_y: -0.007758992149440621\n",
            "Is calculated covariance same as numpy covariance: True\n"
          ]
        }
      ]
    },
    {
      "cell_type": "code",
      "source": [
        "## Calculate covariance as Expected values : Cov(X, Y) = E(XY)- E(X)E(Y)\n",
        "## For this calculation we need Joint Probabiulity distribution of X, Y\n",
        "## https://online.stat.psu.edu/stat414/lesson/18/18.1"
      ],
      "metadata": {
        "id": "6gLgak6pBOOu"
      },
      "execution_count": null,
      "outputs": []
    },
    {
      "cell_type": "markdown",
      "source": [
        "## Step 2: Calculate Covariance Matrix"
      ],
      "metadata": {
        "id": "6YdyyxAkGPQ_"
      }
    },
    {
      "cell_type": "code",
      "source": [
        "def calculate_covariance_matrix(X):\n",
        "  row_count = X.shape[0]\n",
        "  column_mean_vector = np.mean(X, axis=0)\n",
        "  centered_X = X-column_mean_vector\n",
        "  cov_matrix = np.dot(centered_X.transpose(), centered_X)\n",
        "  cov_matrix = cov_matrix/(row_count-1)\n",
        "  return cov_matrix"
      ],
      "metadata": {
        "id": "QTX1v2jfHn6M"
      },
      "execution_count": 9,
      "outputs": []
    },
    {
      "cell_type": "code",
      "source": [
        "def calculate_vif(df):\n",
        "  vif_df = pd.DataFrame()\n",
        "  vif_df[\"feature\"] = df.columns\n",
        "  vif_df[\"VIF\"] = [variance_inflation_factor(df.values, i) for i in range(len(df.columns))]\n",
        "  return vif_df"
      ],
      "metadata": {
        "id": "GEbviu8vSOlS"
      },
      "execution_count": 10,
      "outputs": []
    },
    {
      "cell_type": "code",
      "source": [
        "def calculate_correlation_matrix(X):\n",
        "  covariance_matrix = calculate_covariance_matrix(X)\n",
        "  variance_array = covariance_matrix.diagonal()\n",
        "  std_array = np.sqrt(variance_array)\n",
        "\n",
        "  correlation_matrix = covariance_matrix/std_array.reshape(1,-1)\n",
        "  correlation_matrix = correlation_matrix/std_array.reshape(-1,1)\n",
        "  return correlation_matrix"
      ],
      "metadata": {
        "id": "Ib6TUJl6ijyZ"
      },
      "execution_count": 11,
      "outputs": []
    },
    {
      "cell_type": "code",
      "source": [
        "def check_invertibility(square_matrix):\n",
        "  condition_number = cond(square_matrix)\n",
        "  inverse = inv(square_matrix)\n",
        "  return condition_number, np.allclose(square_matrix @ inverse, np.eye(square_matrix.shape[0])), np.allclose(np.eye(square_matrix.shape[0]), square_matrix @ inverse)"
      ],
      "metadata": {
        "id": "riKAGEymi-6h"
      },
      "execution_count": 12,
      "outputs": []
    },
    {
      "cell_type": "markdown",
      "source": [
        "## Case1: # rows > # columns (Covariance matrix is invertible since # rows > # columns)\n"
      ],
      "metadata": {
        "id": "2yn_BkosNQaa"
      }
    },
    {
      "cell_type": "code",
      "source": [
        "case1_n_rows = 4\n",
        "case1_n_columns = 3\n",
        "case1_X = pd.DataFrame(np.random.rand(case1_n_rows, case1_n_columns))\n",
        "case1_X.columns = [f\"feature_{col}\" for col in case1_X.columns]\n",
        "print(f\"Shape of case1_X: {case1_X.shape}\")"
      ],
      "metadata": {
        "colab": {
          "base_uri": "https://localhost:8080/"
        },
        "id": "cSCASzygBsrg",
        "outputId": "e49b6f60-5c85-410e-cc6f-91c70c2fa4d6"
      },
      "execution_count": 13,
      "outputs": [
        {
          "output_type": "stream",
          "name": "stdout",
          "text": [
            "Shape of case1_X: (4, 3)\n"
          ]
        }
      ]
    },
    {
      "cell_type": "code",
      "source": [
        "## Clear that the features are not collinear\n",
        "calculate_vif(case1_X).sort_values(by=[\"VIF\"], ascending=False).head()"
      ],
      "metadata": {
        "colab": {
          "base_uri": "https://localhost:8080/",
          "height": 143
        },
        "id": "Iw46tHYSS7GB",
        "outputId": "42f89f1b-24ed-42b3-f108-06140e07db57"
      },
      "execution_count": 14,
      "outputs": [
        {
          "output_type": "execute_result",
          "data": {
            "text/plain": [
              "     feature        VIF\n",
              "1  feature_1  23.072377\n",
              "0  feature_0  14.265499\n",
              "2  feature_2   5.439282"
            ],
            "text/html": [
              "\n",
              "  <div id=\"df-e9cbf356-137e-4c84-8745-194b5535b60d\" class=\"colab-df-container\">\n",
              "    <div>\n",
              "<style scoped>\n",
              "    .dataframe tbody tr th:only-of-type {\n",
              "        vertical-align: middle;\n",
              "    }\n",
              "\n",
              "    .dataframe tbody tr th {\n",
              "        vertical-align: top;\n",
              "    }\n",
              "\n",
              "    .dataframe thead th {\n",
              "        text-align: right;\n",
              "    }\n",
              "</style>\n",
              "<table border=\"1\" class=\"dataframe\">\n",
              "  <thead>\n",
              "    <tr style=\"text-align: right;\">\n",
              "      <th></th>\n",
              "      <th>feature</th>\n",
              "      <th>VIF</th>\n",
              "    </tr>\n",
              "  </thead>\n",
              "  <tbody>\n",
              "    <tr>\n",
              "      <th>1</th>\n",
              "      <td>feature_1</td>\n",
              "      <td>23.072377</td>\n",
              "    </tr>\n",
              "    <tr>\n",
              "      <th>0</th>\n",
              "      <td>feature_0</td>\n",
              "      <td>14.265499</td>\n",
              "    </tr>\n",
              "    <tr>\n",
              "      <th>2</th>\n",
              "      <td>feature_2</td>\n",
              "      <td>5.439282</td>\n",
              "    </tr>\n",
              "  </tbody>\n",
              "</table>\n",
              "</div>\n",
              "    <div class=\"colab-df-buttons\">\n",
              "\n",
              "  <div class=\"colab-df-container\">\n",
              "    <button class=\"colab-df-convert\" onclick=\"convertToInteractive('df-e9cbf356-137e-4c84-8745-194b5535b60d')\"\n",
              "            title=\"Convert this dataframe to an interactive table.\"\n",
              "            style=\"display:none;\">\n",
              "\n",
              "  <svg xmlns=\"http://www.w3.org/2000/svg\" height=\"24px\" viewBox=\"0 -960 960 960\">\n",
              "    <path d=\"M120-120v-720h720v720H120Zm60-500h600v-160H180v160Zm220 220h160v-160H400v160Zm0 220h160v-160H400v160ZM180-400h160v-160H180v160Zm440 0h160v-160H620v160ZM180-180h160v-160H180v160Zm440 0h160v-160H620v160Z\"/>\n",
              "  </svg>\n",
              "    </button>\n",
              "\n",
              "  <style>\n",
              "    .colab-df-container {\n",
              "      display:flex;\n",
              "      gap: 12px;\n",
              "    }\n",
              "\n",
              "    .colab-df-convert {\n",
              "      background-color: #E8F0FE;\n",
              "      border: none;\n",
              "      border-radius: 50%;\n",
              "      cursor: pointer;\n",
              "      display: none;\n",
              "      fill: #1967D2;\n",
              "      height: 32px;\n",
              "      padding: 0 0 0 0;\n",
              "      width: 32px;\n",
              "    }\n",
              "\n",
              "    .colab-df-convert:hover {\n",
              "      background-color: #E2EBFA;\n",
              "      box-shadow: 0px 1px 2px rgba(60, 64, 67, 0.3), 0px 1px 3px 1px rgba(60, 64, 67, 0.15);\n",
              "      fill: #174EA6;\n",
              "    }\n",
              "\n",
              "    .colab-df-buttons div {\n",
              "      margin-bottom: 4px;\n",
              "    }\n",
              "\n",
              "    [theme=dark] .colab-df-convert {\n",
              "      background-color: #3B4455;\n",
              "      fill: #D2E3FC;\n",
              "    }\n",
              "\n",
              "    [theme=dark] .colab-df-convert:hover {\n",
              "      background-color: #434B5C;\n",
              "      box-shadow: 0px 1px 3px 1px rgba(0, 0, 0, 0.15);\n",
              "      filter: drop-shadow(0px 1px 2px rgba(0, 0, 0, 0.3));\n",
              "      fill: #FFFFFF;\n",
              "    }\n",
              "  </style>\n",
              "\n",
              "    <script>\n",
              "      const buttonEl =\n",
              "        document.querySelector('#df-e9cbf356-137e-4c84-8745-194b5535b60d button.colab-df-convert');\n",
              "      buttonEl.style.display =\n",
              "        google.colab.kernel.accessAllowed ? 'block' : 'none';\n",
              "\n",
              "      async function convertToInteractive(key) {\n",
              "        const element = document.querySelector('#df-e9cbf356-137e-4c84-8745-194b5535b60d');\n",
              "        const dataTable =\n",
              "          await google.colab.kernel.invokeFunction('convertToInteractive',\n",
              "                                                    [key], {});\n",
              "        if (!dataTable) return;\n",
              "\n",
              "        const docLinkHtml = 'Like what you see? Visit the ' +\n",
              "          '<a target=\"_blank\" href=https://colab.research.google.com/notebooks/data_table.ipynb>data table notebook</a>'\n",
              "          + ' to learn more about interactive tables.';\n",
              "        element.innerHTML = '';\n",
              "        dataTable['output_type'] = 'display_data';\n",
              "        await google.colab.output.renderOutput(dataTable, element);\n",
              "        const docLink = document.createElement('div');\n",
              "        docLink.innerHTML = docLinkHtml;\n",
              "        element.appendChild(docLink);\n",
              "      }\n",
              "    </script>\n",
              "  </div>\n",
              "\n",
              "\n",
              "<div id=\"df-877e6619-31b0-4849-9987-479c8c8d8d04\">\n",
              "  <button class=\"colab-df-quickchart\" onclick=\"quickchart('df-877e6619-31b0-4849-9987-479c8c8d8d04')\"\n",
              "            title=\"Suggest charts\"\n",
              "            style=\"display:none;\">\n",
              "\n",
              "<svg xmlns=\"http://www.w3.org/2000/svg\" height=\"24px\"viewBox=\"0 0 24 24\"\n",
              "     width=\"24px\">\n",
              "    <g>\n",
              "        <path d=\"M19 3H5c-1.1 0-2 .9-2 2v14c0 1.1.9 2 2 2h14c1.1 0 2-.9 2-2V5c0-1.1-.9-2-2-2zM9 17H7v-7h2v7zm4 0h-2V7h2v10zm4 0h-2v-4h2v4z\"/>\n",
              "    </g>\n",
              "</svg>\n",
              "  </button>\n",
              "\n",
              "<style>\n",
              "  .colab-df-quickchart {\n",
              "      --bg-color: #E8F0FE;\n",
              "      --fill-color: #1967D2;\n",
              "      --hover-bg-color: #E2EBFA;\n",
              "      --hover-fill-color: #174EA6;\n",
              "      --disabled-fill-color: #AAA;\n",
              "      --disabled-bg-color: #DDD;\n",
              "  }\n",
              "\n",
              "  [theme=dark] .colab-df-quickchart {\n",
              "      --bg-color: #3B4455;\n",
              "      --fill-color: #D2E3FC;\n",
              "      --hover-bg-color: #434B5C;\n",
              "      --hover-fill-color: #FFFFFF;\n",
              "      --disabled-bg-color: #3B4455;\n",
              "      --disabled-fill-color: #666;\n",
              "  }\n",
              "\n",
              "  .colab-df-quickchart {\n",
              "    background-color: var(--bg-color);\n",
              "    border: none;\n",
              "    border-radius: 50%;\n",
              "    cursor: pointer;\n",
              "    display: none;\n",
              "    fill: var(--fill-color);\n",
              "    height: 32px;\n",
              "    padding: 0;\n",
              "    width: 32px;\n",
              "  }\n",
              "\n",
              "  .colab-df-quickchart:hover {\n",
              "    background-color: var(--hover-bg-color);\n",
              "    box-shadow: 0 1px 2px rgba(60, 64, 67, 0.3), 0 1px 3px 1px rgba(60, 64, 67, 0.15);\n",
              "    fill: var(--button-hover-fill-color);\n",
              "  }\n",
              "\n",
              "  .colab-df-quickchart-complete:disabled,\n",
              "  .colab-df-quickchart-complete:disabled:hover {\n",
              "    background-color: var(--disabled-bg-color);\n",
              "    fill: var(--disabled-fill-color);\n",
              "    box-shadow: none;\n",
              "  }\n",
              "\n",
              "  .colab-df-spinner {\n",
              "    border: 2px solid var(--fill-color);\n",
              "    border-color: transparent;\n",
              "    border-bottom-color: var(--fill-color);\n",
              "    animation:\n",
              "      spin 1s steps(1) infinite;\n",
              "  }\n",
              "\n",
              "  @keyframes spin {\n",
              "    0% {\n",
              "      border-color: transparent;\n",
              "      border-bottom-color: var(--fill-color);\n",
              "      border-left-color: var(--fill-color);\n",
              "    }\n",
              "    20% {\n",
              "      border-color: transparent;\n",
              "      border-left-color: var(--fill-color);\n",
              "      border-top-color: var(--fill-color);\n",
              "    }\n",
              "    30% {\n",
              "      border-color: transparent;\n",
              "      border-left-color: var(--fill-color);\n",
              "      border-top-color: var(--fill-color);\n",
              "      border-right-color: var(--fill-color);\n",
              "    }\n",
              "    40% {\n",
              "      border-color: transparent;\n",
              "      border-right-color: var(--fill-color);\n",
              "      border-top-color: var(--fill-color);\n",
              "    }\n",
              "    60% {\n",
              "      border-color: transparent;\n",
              "      border-right-color: var(--fill-color);\n",
              "    }\n",
              "    80% {\n",
              "      border-color: transparent;\n",
              "      border-right-color: var(--fill-color);\n",
              "      border-bottom-color: var(--fill-color);\n",
              "    }\n",
              "    90% {\n",
              "      border-color: transparent;\n",
              "      border-bottom-color: var(--fill-color);\n",
              "    }\n",
              "  }\n",
              "</style>\n",
              "\n",
              "  <script>\n",
              "    async function quickchart(key) {\n",
              "      const quickchartButtonEl =\n",
              "        document.querySelector('#' + key + ' button');\n",
              "      quickchartButtonEl.disabled = true;  // To prevent multiple clicks.\n",
              "      quickchartButtonEl.classList.add('colab-df-spinner');\n",
              "      try {\n",
              "        const charts = await google.colab.kernel.invokeFunction(\n",
              "            'suggestCharts', [key], {});\n",
              "      } catch (error) {\n",
              "        console.error('Error during call to suggestCharts:', error);\n",
              "      }\n",
              "      quickchartButtonEl.classList.remove('colab-df-spinner');\n",
              "      quickchartButtonEl.classList.add('colab-df-quickchart-complete');\n",
              "    }\n",
              "    (() => {\n",
              "      let quickchartButtonEl =\n",
              "        document.querySelector('#df-877e6619-31b0-4849-9987-479c8c8d8d04 button');\n",
              "      quickchartButtonEl.style.display =\n",
              "        google.colab.kernel.accessAllowed ? 'block' : 'none';\n",
              "    })();\n",
              "  </script>\n",
              "</div>\n",
              "\n",
              "    </div>\n",
              "  </div>\n"
            ],
            "application/vnd.google.colaboratory.intrinsic+json": {
              "type": "dataframe",
              "summary": "{\n  \"name\": \"calculate_vif(case1_X)\",\n  \"rows\": 3,\n  \"fields\": [\n    {\n      \"column\": \"feature\",\n      \"properties\": {\n        \"dtype\": \"string\",\n        \"num_unique_values\": 3,\n        \"samples\": [\n          \"feature_1\",\n          \"feature_0\",\n          \"feature_2\"\n        ],\n        \"semantic_type\": \"\",\n        \"description\": \"\"\n      }\n    },\n    {\n      \"column\": \"VIF\",\n      \"properties\": {\n        \"dtype\": \"number\",\n        \"std\": 8.816549321802144,\n        \"min\": 5.439281967498234,\n        \"max\": 23.072377076479967,\n        \"num_unique_values\": 3,\n        \"samples\": [\n          23.072377076479967,\n          14.265498519503371,\n          5.439281967498234\n        ],\n        \"semantic_type\": \"\",\n        \"description\": \"\"\n      }\n    }\n  ]\n}"
            }
          },
          "metadata": {},
          "execution_count": 14
        }
      ]
    },
    {
      "cell_type": "code",
      "source": [
        "case1_cov_matrix = calculate_covariance_matrix(case1_X)\n",
        "print(f\"case1_cov_matrix:\\n {case1_cov_matrix}\")\n",
        "print(f\"Is calculated covariance same as numpy covariance: {np.allclose(case1_cov_matrix, np.cov(case1_X, rowvar=False, bias=False))}\")"
      ],
      "metadata": {
        "colab": {
          "base_uri": "https://localhost:8080/"
        },
        "id": "gOqLpx4YH2ER",
        "outputId": "71c5634f-def0-4190-8b53-b5b4826e8268"
      },
      "execution_count": 15,
      "outputs": [
        {
          "output_type": "stream",
          "name": "stdout",
          "text": [
            "case1_cov_matrix:\n",
            " [[ 0.13739123  0.08447621 -0.1334639 ]\n",
            " [ 0.08447621  0.10506623 -0.03883213]\n",
            " [-0.1334639  -0.03883213  0.18865037]]\n",
            "Is calculated covariance same as numpy covariance: True\n"
          ]
        }
      ]
    },
    {
      "cell_type": "code",
      "source": [
        "case1_corr_matrix = calculate_correlation_matrix(case1_X)\n",
        "print(f\"case1_corr_matrix:\\n {case1_corr_matrix}\")\n",
        "print(f\"Is calculated correlation same as numpy correlation: {np.allclose(case1_corr_matrix, np.corrcoef(case1_X, rowvar=False))}\")"
      ],
      "metadata": {
        "colab": {
          "base_uri": "https://localhost:8080/"
        },
        "id": "lCvnF4siisyz",
        "outputId": "bfdcfe22-c501-460a-adb9-11cb0ffc4a3f"
      },
      "execution_count": 16,
      "outputs": [
        {
          "output_type": "stream",
          "name": "stdout",
          "text": [
            "case1_corr_matrix:\n",
            " [[ 1.          0.70311012 -0.82900183]\n",
            " [ 0.70311012  1.         -0.27582321]\n",
            " [-0.82900183 -0.27582321  1.        ]]\n",
            "Is calculated correlation same as numpy correlation: True\n"
          ]
        }
      ]
    },
    {
      "cell_type": "code",
      "source": [
        "scaled_case1_X = StandardScaler(with_mean=True, with_std=True).fit_transform(case1_X)\n",
        "case1_corr_matrix_using_scaler = np.dot(scaled_case1_X.transpose(), scaled_case1_X)/(scaled_case1_X.shape[0])\n",
        "np.allclose(case1_corr_matrix_using_scaler, np.corrcoef(case1_X, rowvar=False))"
      ],
      "metadata": {
        "colab": {
          "base_uri": "https://localhost:8080/"
        },
        "id": "ndUu7vQSr-U_",
        "outputId": "b287eb1a-e0ad-439a-afeb-f878954ab03b"
      },
      "execution_count": 17,
      "outputs": [
        {
          "output_type": "execute_result",
          "data": {
            "text/plain": [
              "True"
            ]
          },
          "metadata": {},
          "execution_count": 17
        }
      ]
    },
    {
      "cell_type": "code",
      "source": [
        "## Check if case1_cov_matrix is invertible => YES => WELL CONDITIONED MATRIX\n",
        "# case1_cov_matrix_inv = inv(case1_cov_matrix)\n",
        "# print(np.allclose(case1_cov_matrix @ case1_cov_matrix_inv, np.eye(case1_cov_matrix.shape[0])))\n",
        "# print(np.allclose(np.eye(case1_cov_matrix.shape[0]), case1_cov_matrix @ case1_cov_matrix_inv))\n",
        "# print(f\"Condition number of case1_cov_matrix: {cond(case1_cov_matrix)}\")\n",
        "check_invertibility(case1_corr_matrix)"
      ],
      "metadata": {
        "colab": {
          "base_uri": "https://localhost:8080/"
        },
        "id": "fl7XJEqnKyqV",
        "outputId": "a66b42b8-720b-4fec-d02a-7ff8806a49a3"
      },
      "execution_count": 18,
      "outputs": [
        {
          "output_type": "execute_result",
          "data": {
            "text/plain": [
              "(56.84323156124705, True, True)"
            ]
          },
          "metadata": {},
          "execution_count": 18
        }
      ]
    },
    {
      "cell_type": "code",
      "source": [
        "check_invertibility(case1_corr_matrix)"
      ],
      "metadata": {
        "colab": {
          "base_uri": "https://localhost:8080/"
        },
        "id": "QXbTq7y9jiQh",
        "outputId": "2ff952ae-5f2b-4f20-e2e9-fba38ccf4523"
      },
      "execution_count": 19,
      "outputs": [
        {
          "output_type": "execute_result",
          "data": {
            "text/plain": [
              "(56.84323156124705, True, True)"
            ]
          },
          "metadata": {},
          "execution_count": 19
        }
      ]
    },
    {
      "cell_type": "code",
      "source": [
        "check_invertibility(case1_corr_matrix_using_scaler)"
      ],
      "metadata": {
        "colab": {
          "base_uri": "https://localhost:8080/"
        },
        "id": "YKLyN2voup1F",
        "outputId": "c90f422e-f575-4d44-f77d-6c7635a21ca8"
      },
      "execution_count": 20,
      "outputs": [
        {
          "output_type": "execute_result",
          "data": {
            "text/plain": [
              "(56.84323156124709, True, True)"
            ]
          },
          "metadata": {},
          "execution_count": 20
        }
      ]
    },
    {
      "cell_type": "code",
      "source": [
        "case1_XTX = np.dot(case1_X.transpose(), case1_X)\n",
        "check_invertibility(case1_XTX)"
      ],
      "metadata": {
        "colab": {
          "base_uri": "https://localhost:8080/"
        },
        "id": "jvNqAqJDPpzG",
        "outputId": "74a71530-8536-43b3-fd87-5b8f5cedb730"
      },
      "execution_count": 21,
      "outputs": [
        {
          "output_type": "execute_result",
          "data": {
            "text/plain": [
              "(98.61438382700535, True, True)"
            ]
          },
          "metadata": {},
          "execution_count": 21
        }
      ]
    },
    {
      "cell_type": "markdown",
      "source": [
        "## Case2: # rows < # columns (Covariance matrix is NOT invertible since # rows < # columns) (High dimensional data suffering from curse of dimensionality)\n"
      ],
      "metadata": {
        "id": "B7HbafnSNZrJ"
      }
    },
    {
      "cell_type": "code",
      "source": [
        "case2_n_rows = 200\n",
        "case2_n_columns = 201\n",
        "case2_X = pd.DataFrame(np.random.rand(case2_n_rows, case2_n_columns))\n",
        "case2_X.columns = [f\"feature_{col}\" for col in case2_X.columns]\n",
        "print(f\"Shape of case2_X: {case2_X.shape}\")"
      ],
      "metadata": {
        "colab": {
          "base_uri": "https://localhost:8080/"
        },
        "id": "U0nK5RiyL9Tb",
        "outputId": "ce5857d4-ea52-419c-f104-aa149f932c5c"
      },
      "execution_count": 22,
      "outputs": [
        {
          "output_type": "stream",
          "name": "stdout",
          "text": [
            "Shape of case2_X: (200, 201)\n"
          ]
        }
      ]
    },
    {
      "cell_type": "code",
      "source": [
        "## Clear that there is high degree of collinearity in this case when # features > # rows/ observations\n",
        "calculate_vif(case2_X).sort_values(by=[\"VIF\"], ascending=False).head()"
      ],
      "metadata": {
        "colab": {
          "base_uri": "https://localhost:8080/",
          "height": 278
        },
        "id": "5u1hn9SHTner",
        "outputId": "4a72ae31-ac3e-4354-efb0-c13df7538b84"
      },
      "execution_count": 23,
      "outputs": [
        {
          "output_type": "stream",
          "name": "stderr",
          "text": [
            "/usr/local/lib/python3.10/dist-packages/statsmodels/stats/outliers_influence.py:197: RuntimeWarning: divide by zero encountered in scalar divide\n",
            "  vif = 1. / (1. - r_squared_i)\n",
            "/usr/local/lib/python3.10/dist-packages/pandas/core/nanops.py:1010: RuntimeWarning: invalid value encountered in subtract\n",
            "  sqr = _ensure_numeric((avg - values) ** 2)\n"
          ]
        },
        {
          "output_type": "execute_result",
          "data": {
            "text/plain": [
              "         feature  VIF\n",
              "0      feature_0  inf\n",
              "138  feature_138  inf\n",
              "128  feature_128  inf\n",
              "129  feature_129  inf\n",
              "130  feature_130  inf"
            ],
            "text/html": [
              "\n",
              "  <div id=\"df-79a0cd3a-659c-43fb-8e55-7926b166bd91\" class=\"colab-df-container\">\n",
              "    <div>\n",
              "<style scoped>\n",
              "    .dataframe tbody tr th:only-of-type {\n",
              "        vertical-align: middle;\n",
              "    }\n",
              "\n",
              "    .dataframe tbody tr th {\n",
              "        vertical-align: top;\n",
              "    }\n",
              "\n",
              "    .dataframe thead th {\n",
              "        text-align: right;\n",
              "    }\n",
              "</style>\n",
              "<table border=\"1\" class=\"dataframe\">\n",
              "  <thead>\n",
              "    <tr style=\"text-align: right;\">\n",
              "      <th></th>\n",
              "      <th>feature</th>\n",
              "      <th>VIF</th>\n",
              "    </tr>\n",
              "  </thead>\n",
              "  <tbody>\n",
              "    <tr>\n",
              "      <th>0</th>\n",
              "      <td>feature_0</td>\n",
              "      <td>inf</td>\n",
              "    </tr>\n",
              "    <tr>\n",
              "      <th>138</th>\n",
              "      <td>feature_138</td>\n",
              "      <td>inf</td>\n",
              "    </tr>\n",
              "    <tr>\n",
              "      <th>128</th>\n",
              "      <td>feature_128</td>\n",
              "      <td>inf</td>\n",
              "    </tr>\n",
              "    <tr>\n",
              "      <th>129</th>\n",
              "      <td>feature_129</td>\n",
              "      <td>inf</td>\n",
              "    </tr>\n",
              "    <tr>\n",
              "      <th>130</th>\n",
              "      <td>feature_130</td>\n",
              "      <td>inf</td>\n",
              "    </tr>\n",
              "  </tbody>\n",
              "</table>\n",
              "</div>\n",
              "    <div class=\"colab-df-buttons\">\n",
              "\n",
              "  <div class=\"colab-df-container\">\n",
              "    <button class=\"colab-df-convert\" onclick=\"convertToInteractive('df-79a0cd3a-659c-43fb-8e55-7926b166bd91')\"\n",
              "            title=\"Convert this dataframe to an interactive table.\"\n",
              "            style=\"display:none;\">\n",
              "\n",
              "  <svg xmlns=\"http://www.w3.org/2000/svg\" height=\"24px\" viewBox=\"0 -960 960 960\">\n",
              "    <path d=\"M120-120v-720h720v720H120Zm60-500h600v-160H180v160Zm220 220h160v-160H400v160Zm0 220h160v-160H400v160ZM180-400h160v-160H180v160Zm440 0h160v-160H620v160ZM180-180h160v-160H180v160Zm440 0h160v-160H620v160Z\"/>\n",
              "  </svg>\n",
              "    </button>\n",
              "\n",
              "  <style>\n",
              "    .colab-df-container {\n",
              "      display:flex;\n",
              "      gap: 12px;\n",
              "    }\n",
              "\n",
              "    .colab-df-convert {\n",
              "      background-color: #E8F0FE;\n",
              "      border: none;\n",
              "      border-radius: 50%;\n",
              "      cursor: pointer;\n",
              "      display: none;\n",
              "      fill: #1967D2;\n",
              "      height: 32px;\n",
              "      padding: 0 0 0 0;\n",
              "      width: 32px;\n",
              "    }\n",
              "\n",
              "    .colab-df-convert:hover {\n",
              "      background-color: #E2EBFA;\n",
              "      box-shadow: 0px 1px 2px rgba(60, 64, 67, 0.3), 0px 1px 3px 1px rgba(60, 64, 67, 0.15);\n",
              "      fill: #174EA6;\n",
              "    }\n",
              "\n",
              "    .colab-df-buttons div {\n",
              "      margin-bottom: 4px;\n",
              "    }\n",
              "\n",
              "    [theme=dark] .colab-df-convert {\n",
              "      background-color: #3B4455;\n",
              "      fill: #D2E3FC;\n",
              "    }\n",
              "\n",
              "    [theme=dark] .colab-df-convert:hover {\n",
              "      background-color: #434B5C;\n",
              "      box-shadow: 0px 1px 3px 1px rgba(0, 0, 0, 0.15);\n",
              "      filter: drop-shadow(0px 1px 2px rgba(0, 0, 0, 0.3));\n",
              "      fill: #FFFFFF;\n",
              "    }\n",
              "  </style>\n",
              "\n",
              "    <script>\n",
              "      const buttonEl =\n",
              "        document.querySelector('#df-79a0cd3a-659c-43fb-8e55-7926b166bd91 button.colab-df-convert');\n",
              "      buttonEl.style.display =\n",
              "        google.colab.kernel.accessAllowed ? 'block' : 'none';\n",
              "\n",
              "      async function convertToInteractive(key) {\n",
              "        const element = document.querySelector('#df-79a0cd3a-659c-43fb-8e55-7926b166bd91');\n",
              "        const dataTable =\n",
              "          await google.colab.kernel.invokeFunction('convertToInteractive',\n",
              "                                                    [key], {});\n",
              "        if (!dataTable) return;\n",
              "\n",
              "        const docLinkHtml = 'Like what you see? Visit the ' +\n",
              "          '<a target=\"_blank\" href=https://colab.research.google.com/notebooks/data_table.ipynb>data table notebook</a>'\n",
              "          + ' to learn more about interactive tables.';\n",
              "        element.innerHTML = '';\n",
              "        dataTable['output_type'] = 'display_data';\n",
              "        await google.colab.output.renderOutput(dataTable, element);\n",
              "        const docLink = document.createElement('div');\n",
              "        docLink.innerHTML = docLinkHtml;\n",
              "        element.appendChild(docLink);\n",
              "      }\n",
              "    </script>\n",
              "  </div>\n",
              "\n",
              "\n",
              "<div id=\"df-b99d6ef1-e74c-46e3-8204-6e2a4ddfb5ad\">\n",
              "  <button class=\"colab-df-quickchart\" onclick=\"quickchart('df-b99d6ef1-e74c-46e3-8204-6e2a4ddfb5ad')\"\n",
              "            title=\"Suggest charts\"\n",
              "            style=\"display:none;\">\n",
              "\n",
              "<svg xmlns=\"http://www.w3.org/2000/svg\" height=\"24px\"viewBox=\"0 0 24 24\"\n",
              "     width=\"24px\">\n",
              "    <g>\n",
              "        <path d=\"M19 3H5c-1.1 0-2 .9-2 2v14c0 1.1.9 2 2 2h14c1.1 0 2-.9 2-2V5c0-1.1-.9-2-2-2zM9 17H7v-7h2v7zm4 0h-2V7h2v10zm4 0h-2v-4h2v4z\"/>\n",
              "    </g>\n",
              "</svg>\n",
              "  </button>\n",
              "\n",
              "<style>\n",
              "  .colab-df-quickchart {\n",
              "      --bg-color: #E8F0FE;\n",
              "      --fill-color: #1967D2;\n",
              "      --hover-bg-color: #E2EBFA;\n",
              "      --hover-fill-color: #174EA6;\n",
              "      --disabled-fill-color: #AAA;\n",
              "      --disabled-bg-color: #DDD;\n",
              "  }\n",
              "\n",
              "  [theme=dark] .colab-df-quickchart {\n",
              "      --bg-color: #3B4455;\n",
              "      --fill-color: #D2E3FC;\n",
              "      --hover-bg-color: #434B5C;\n",
              "      --hover-fill-color: #FFFFFF;\n",
              "      --disabled-bg-color: #3B4455;\n",
              "      --disabled-fill-color: #666;\n",
              "  }\n",
              "\n",
              "  .colab-df-quickchart {\n",
              "    background-color: var(--bg-color);\n",
              "    border: none;\n",
              "    border-radius: 50%;\n",
              "    cursor: pointer;\n",
              "    display: none;\n",
              "    fill: var(--fill-color);\n",
              "    height: 32px;\n",
              "    padding: 0;\n",
              "    width: 32px;\n",
              "  }\n",
              "\n",
              "  .colab-df-quickchart:hover {\n",
              "    background-color: var(--hover-bg-color);\n",
              "    box-shadow: 0 1px 2px rgba(60, 64, 67, 0.3), 0 1px 3px 1px rgba(60, 64, 67, 0.15);\n",
              "    fill: var(--button-hover-fill-color);\n",
              "  }\n",
              "\n",
              "  .colab-df-quickchart-complete:disabled,\n",
              "  .colab-df-quickchart-complete:disabled:hover {\n",
              "    background-color: var(--disabled-bg-color);\n",
              "    fill: var(--disabled-fill-color);\n",
              "    box-shadow: none;\n",
              "  }\n",
              "\n",
              "  .colab-df-spinner {\n",
              "    border: 2px solid var(--fill-color);\n",
              "    border-color: transparent;\n",
              "    border-bottom-color: var(--fill-color);\n",
              "    animation:\n",
              "      spin 1s steps(1) infinite;\n",
              "  }\n",
              "\n",
              "  @keyframes spin {\n",
              "    0% {\n",
              "      border-color: transparent;\n",
              "      border-bottom-color: var(--fill-color);\n",
              "      border-left-color: var(--fill-color);\n",
              "    }\n",
              "    20% {\n",
              "      border-color: transparent;\n",
              "      border-left-color: var(--fill-color);\n",
              "      border-top-color: var(--fill-color);\n",
              "    }\n",
              "    30% {\n",
              "      border-color: transparent;\n",
              "      border-left-color: var(--fill-color);\n",
              "      border-top-color: var(--fill-color);\n",
              "      border-right-color: var(--fill-color);\n",
              "    }\n",
              "    40% {\n",
              "      border-color: transparent;\n",
              "      border-right-color: var(--fill-color);\n",
              "      border-top-color: var(--fill-color);\n",
              "    }\n",
              "    60% {\n",
              "      border-color: transparent;\n",
              "      border-right-color: var(--fill-color);\n",
              "    }\n",
              "    80% {\n",
              "      border-color: transparent;\n",
              "      border-right-color: var(--fill-color);\n",
              "      border-bottom-color: var(--fill-color);\n",
              "    }\n",
              "    90% {\n",
              "      border-color: transparent;\n",
              "      border-bottom-color: var(--fill-color);\n",
              "    }\n",
              "  }\n",
              "</style>\n",
              "\n",
              "  <script>\n",
              "    async function quickchart(key) {\n",
              "      const quickchartButtonEl =\n",
              "        document.querySelector('#' + key + ' button');\n",
              "      quickchartButtonEl.disabled = true;  // To prevent multiple clicks.\n",
              "      quickchartButtonEl.classList.add('colab-df-spinner');\n",
              "      try {\n",
              "        const charts = await google.colab.kernel.invokeFunction(\n",
              "            'suggestCharts', [key], {});\n",
              "      } catch (error) {\n",
              "        console.error('Error during call to suggestCharts:', error);\n",
              "      }\n",
              "      quickchartButtonEl.classList.remove('colab-df-spinner');\n",
              "      quickchartButtonEl.classList.add('colab-df-quickchart-complete');\n",
              "    }\n",
              "    (() => {\n",
              "      let quickchartButtonEl =\n",
              "        document.querySelector('#df-b99d6ef1-e74c-46e3-8204-6e2a4ddfb5ad button');\n",
              "      quickchartButtonEl.style.display =\n",
              "        google.colab.kernel.accessAllowed ? 'block' : 'none';\n",
              "    })();\n",
              "  </script>\n",
              "</div>\n",
              "\n",
              "    </div>\n",
              "  </div>\n"
            ],
            "application/vnd.google.colaboratory.intrinsic+json": {
              "type": "dataframe",
              "repr_error": "Out of range float values are not JSON compliant: inf"
            }
          },
          "metadata": {},
          "execution_count": 23
        }
      ]
    },
    {
      "cell_type": "code",
      "source": [
        "case2_cov_matrix = calculate_covariance_matrix(case2_X)\n",
        "print(f\"case2_cov_matrix: {case2_cov_matrix}\")\n",
        "print(f\"Is calculated covariance same as numpy covariance: {np.allclose(case2_cov_matrix, np.cov(case2_X, rowvar=False, bias=False))}\")"
      ],
      "metadata": {
        "colab": {
          "base_uri": "https://localhost:8080/"
        },
        "id": "U7DkROSlOAVy",
        "outputId": "1cdf3fb1-36e4-4225-878d-2c5f1ca56545"
      },
      "execution_count": 24,
      "outputs": [
        {
          "output_type": "stream",
          "name": "stdout",
          "text": [
            "case2_cov_matrix: [[ 8.54892205e-02 -8.00968889e-04 -6.12717697e-03 ...  7.78679382e-04\n",
            "  -8.01350247e-03 -2.66485593e-05]\n",
            " [-8.00968889e-04  8.19348415e-02  2.35536518e-03 ...  1.06153780e-03\n",
            "   5.19425846e-03  7.28368847e-03]\n",
            " [-6.12717697e-03  2.35536518e-03  7.79697160e-02 ...  3.19331769e-03\n",
            "   2.83019888e-03  4.53842456e-03]\n",
            " ...\n",
            " [ 7.78679382e-04  1.06153780e-03  3.19331769e-03 ...  9.51212946e-02\n",
            "   7.86406349e-03  1.65238282e-03]\n",
            " [-8.01350247e-03  5.19425846e-03  2.83019888e-03 ...  7.86406349e-03\n",
            "   9.13131249e-02 -2.05019619e-03]\n",
            " [-2.66485593e-05  7.28368847e-03  4.53842456e-03 ...  1.65238282e-03\n",
            "  -2.05019619e-03  8.02643264e-02]]\n",
            "Is calculated covariance same as numpy covariance: True\n"
          ]
        }
      ]
    },
    {
      "cell_type": "code",
      "source": [
        "case2_corr_matrix = calculate_correlation_matrix(case2_X)\n",
        "print(f\"case2_corr_matrix:\\n {case2_corr_matrix}\")\n",
        "print(f\"Is calculated correlation same as numpy correlation: {np.allclose(case2_corr_matrix, np.corrcoef(case2_X, rowvar=False))}\")"
      ],
      "metadata": {
        "colab": {
          "base_uri": "https://localhost:8080/"
        },
        "id": "qypjr8zikFpV",
        "outputId": "92e67165-aad7-470e-b091-f5211c6c79ba"
      },
      "execution_count": 25,
      "outputs": [
        {
          "output_type": "stream",
          "name": "stdout",
          "text": [
            "case2_corr_matrix:\n",
            " [[ 1.00000000e+00 -9.57030239e-03 -7.50484574e-02 ...  8.63503537e-03\n",
            "  -9.06984978e-02 -3.21704231e-04]\n",
            " [-9.57030239e-03  1.00000000e+00  2.94686992e-02 ...  1.20243685e-02\n",
            "   6.00513318e-02  8.98164263e-02]\n",
            " [-7.50484574e-02  2.94686992e-02  1.00000000e+00 ...  3.70800469e-02\n",
            "   3.35418781e-02  5.73694732e-02]\n",
            " ...\n",
            " [ 8.63503537e-03  1.20243685e-02  3.70800469e-02 ...  1.00000000e+00\n",
            "   8.43803908e-02  1.89108266e-02]\n",
            " [-9.06984978e-02  6.00513318e-02  3.35418781e-02 ...  8.43803908e-02\n",
            "   1.00000000e+00 -2.39479055e-02]\n",
            " [-3.21704231e-04  8.98164263e-02  5.73694732e-02 ...  1.89108266e-02\n",
            "  -2.39479055e-02  1.00000000e+00]]\n",
            "Is calculated correlation same as numpy correlation: True\n"
          ]
        }
      ]
    },
    {
      "cell_type": "code",
      "source": [
        "scaled_case2_X = StandardScaler(with_mean=True, with_std=True).fit_transform(case2_X)\n",
        "case2_corr_matrix_using_scaler = np.dot(scaled_case2_X.transpose(), scaled_case2_X)/(scaled_case2_X.shape[0])\n",
        "np.allclose(case2_corr_matrix_using_scaler, np.corrcoef(case2_X, rowvar=False))"
      ],
      "metadata": {
        "colab": {
          "base_uri": "https://localhost:8080/"
        },
        "id": "pGWxGaKpscQY",
        "outputId": "ff1b6a1f-b65c-4693-be3b-45e17d185530"
      },
      "execution_count": 26,
      "outputs": [
        {
          "output_type": "execute_result",
          "data": {
            "text/plain": [
              "True"
            ]
          },
          "metadata": {},
          "execution_count": 26
        }
      ]
    },
    {
      "cell_type": "code",
      "source": [
        "check_invertibility(case2_cov_matrix)"
      ],
      "metadata": {
        "colab": {
          "base_uri": "https://localhost:8080/"
        },
        "id": "fDun61tmkdJ2",
        "outputId": "8f8fb15e-e0d3-4615-edfd-abea95f6956d"
      },
      "execution_count": 27,
      "outputs": [
        {
          "output_type": "execute_result",
          "data": {
            "text/plain": [
              "(5.080114051211909e+16, False, False)"
            ]
          },
          "metadata": {},
          "execution_count": 27
        }
      ]
    },
    {
      "cell_type": "code",
      "source": [
        "check_invertibility(case2_corr_matrix)"
      ],
      "metadata": {
        "colab": {
          "base_uri": "https://localhost:8080/"
        },
        "id": "o-E4cik3kgFs",
        "outputId": "3e255412-6b11-4ff7-9450-440c4e5f98d8"
      },
      "execution_count": 28,
      "outputs": [
        {
          "output_type": "execute_result",
          "data": {
            "text/plain": [
              "(8.887956518261245e+16, False, False)"
            ]
          },
          "metadata": {},
          "execution_count": 28
        }
      ]
    },
    {
      "cell_type": "code",
      "source": [
        "check_invertibility(case2_corr_matrix_using_scaler)"
      ],
      "metadata": {
        "colab": {
          "base_uri": "https://localhost:8080/"
        },
        "id": "5wGRGNZksf_P",
        "outputId": "9c70dd0e-88ea-404d-b6c5-897819707209"
      },
      "execution_count": 29,
      "outputs": [
        {
          "output_type": "execute_result",
          "data": {
            "text/plain": [
              "(4.897857352665361e+16, False, False)"
            ]
          },
          "metadata": {},
          "execution_count": 29
        }
      ]
    },
    {
      "cell_type": "code",
      "source": [
        "case2_XTX = np.dot(case2_X.transpose(), case2_X)\n",
        "check_invertibility(case2_XTX)"
      ],
      "metadata": {
        "colab": {
          "base_uri": "https://localhost:8080/"
        },
        "id": "Abow6BArkj38",
        "outputId": "6d6cab52-e6c8-4ebe-95e0-edebe3c20432"
      },
      "execution_count": 30,
      "outputs": [
        {
          "output_type": "execute_result",
          "data": {
            "text/plain": [
              "(1.757725749112051e+17, False, False)"
            ]
          },
          "metadata": {},
          "execution_count": 30
        }
      ]
    },
    {
      "cell_type": "markdown",
      "source": [
        "This shows that standardizing variables (as in covariance/ correlation matrix) does not impact the singularity/ non singularity of the matrix.\n",
        "\n",
        "- This is similar in observation to fitting OLS i.e. if the data has multicollinearity that is NOT STRUCTURAL, it cannot be gotten rid of by standardization (https://statisticsbyjim.com/regression/multicollinearity-in-regression-analysis/)"
      ],
      "metadata": {
        "id": "KjrW9v7sQHe9"
      }
    },
    {
      "cell_type": "markdown",
      "source": [
        "TL:DR;\n",
        "- Given a design matrix X, XTX is well conditioned/ invertible/ non-singular if #rows > #columns. Equivalently, X has non collinear columns. Hence no issue of multicollinearity as can be checked using VIF scores\n",
        "\n",
        "- Given a design matrix X, XTX is ill conditioned/ non-invertible/ singular if #rows < #columns. Equivalently, X has multicollinearity (CURSE OF DIMENSIONALITY)"
      ],
      "metadata": {
        "id": "Ab0E3RKhXs7u"
      }
    },
    {
      "cell_type": "markdown",
      "source": [
        "## Case3: # rows > # columns BUT columns are collinear => 1 column is linear combination of others"
      ],
      "metadata": {
        "id": "pBfzECZPYgJ4"
      }
    },
    {
      "cell_type": "code",
      "source": [
        "case3_n_rows = 100\n",
        "case3_n_columns = 3\n",
        "\n",
        "case3_X = pd.DataFrame(np.random.rand(case3_n_rows, case3_n_columns-1))\n",
        "case3_X[case3_n_columns-1] = np.sum(case3_X, axis=1)\n",
        "case3_X.columns = [f\"feature_{col}\" for col in case3_X.columns]\n",
        "print(f\"Shape of case3_X: {case3_X.shape}\")"
      ],
      "metadata": {
        "colab": {
          "base_uri": "https://localhost:8080/"
        },
        "id": "5FGKY8k0Yqn0",
        "outputId": "612f597b-35a3-4c08-ef2c-3974e8712eae"
      },
      "execution_count": 32,
      "outputs": [
        {
          "output_type": "stream",
          "name": "stdout",
          "text": [
            "Shape of case3_X: (100, 3)\n"
          ]
        }
      ]
    },
    {
      "cell_type": "code",
      "source": [
        "## Clear that the features are collinear\n",
        "calculate_vif(case3_X).sort_values(by=[\"VIF\"], ascending=False).head()"
      ],
      "metadata": {
        "colab": {
          "base_uri": "https://localhost:8080/",
          "height": 215
        },
        "id": "MEka1-M-ZQpi",
        "outputId": "f37339da-0f95-4309-8358-17e8c903a4ed"
      },
      "execution_count": 33,
      "outputs": [
        {
          "output_type": "stream",
          "name": "stderr",
          "text": [
            "/usr/local/lib/python3.10/dist-packages/statsmodels/stats/outliers_influence.py:197: RuntimeWarning: divide by zero encountered in scalar divide\n",
            "  vif = 1. / (1. - r_squared_i)\n",
            "/usr/local/lib/python3.10/dist-packages/pandas/core/nanops.py:1010: RuntimeWarning: invalid value encountered in subtract\n",
            "  sqr = _ensure_numeric((avg - values) ** 2)\n"
          ]
        },
        {
          "output_type": "execute_result",
          "data": {
            "text/plain": [
              "     feature  VIF\n",
              "0  feature_0  inf\n",
              "1  feature_1  inf\n",
              "2  feature_2  inf"
            ],
            "text/html": [
              "\n",
              "  <div id=\"df-edb1f010-c815-4097-872f-6e3874d53bd1\" class=\"colab-df-container\">\n",
              "    <div>\n",
              "<style scoped>\n",
              "    .dataframe tbody tr th:only-of-type {\n",
              "        vertical-align: middle;\n",
              "    }\n",
              "\n",
              "    .dataframe tbody tr th {\n",
              "        vertical-align: top;\n",
              "    }\n",
              "\n",
              "    .dataframe thead th {\n",
              "        text-align: right;\n",
              "    }\n",
              "</style>\n",
              "<table border=\"1\" class=\"dataframe\">\n",
              "  <thead>\n",
              "    <tr style=\"text-align: right;\">\n",
              "      <th></th>\n",
              "      <th>feature</th>\n",
              "      <th>VIF</th>\n",
              "    </tr>\n",
              "  </thead>\n",
              "  <tbody>\n",
              "    <tr>\n",
              "      <th>0</th>\n",
              "      <td>feature_0</td>\n",
              "      <td>inf</td>\n",
              "    </tr>\n",
              "    <tr>\n",
              "      <th>1</th>\n",
              "      <td>feature_1</td>\n",
              "      <td>inf</td>\n",
              "    </tr>\n",
              "    <tr>\n",
              "      <th>2</th>\n",
              "      <td>feature_2</td>\n",
              "      <td>inf</td>\n",
              "    </tr>\n",
              "  </tbody>\n",
              "</table>\n",
              "</div>\n",
              "    <div class=\"colab-df-buttons\">\n",
              "\n",
              "  <div class=\"colab-df-container\">\n",
              "    <button class=\"colab-df-convert\" onclick=\"convertToInteractive('df-edb1f010-c815-4097-872f-6e3874d53bd1')\"\n",
              "            title=\"Convert this dataframe to an interactive table.\"\n",
              "            style=\"display:none;\">\n",
              "\n",
              "  <svg xmlns=\"http://www.w3.org/2000/svg\" height=\"24px\" viewBox=\"0 -960 960 960\">\n",
              "    <path d=\"M120-120v-720h720v720H120Zm60-500h600v-160H180v160Zm220 220h160v-160H400v160Zm0 220h160v-160H400v160ZM180-400h160v-160H180v160Zm440 0h160v-160H620v160ZM180-180h160v-160H180v160Zm440 0h160v-160H620v160Z\"/>\n",
              "  </svg>\n",
              "    </button>\n",
              "\n",
              "  <style>\n",
              "    .colab-df-container {\n",
              "      display:flex;\n",
              "      gap: 12px;\n",
              "    }\n",
              "\n",
              "    .colab-df-convert {\n",
              "      background-color: #E8F0FE;\n",
              "      border: none;\n",
              "      border-radius: 50%;\n",
              "      cursor: pointer;\n",
              "      display: none;\n",
              "      fill: #1967D2;\n",
              "      height: 32px;\n",
              "      padding: 0 0 0 0;\n",
              "      width: 32px;\n",
              "    }\n",
              "\n",
              "    .colab-df-convert:hover {\n",
              "      background-color: #E2EBFA;\n",
              "      box-shadow: 0px 1px 2px rgba(60, 64, 67, 0.3), 0px 1px 3px 1px rgba(60, 64, 67, 0.15);\n",
              "      fill: #174EA6;\n",
              "    }\n",
              "\n",
              "    .colab-df-buttons div {\n",
              "      margin-bottom: 4px;\n",
              "    }\n",
              "\n",
              "    [theme=dark] .colab-df-convert {\n",
              "      background-color: #3B4455;\n",
              "      fill: #D2E3FC;\n",
              "    }\n",
              "\n",
              "    [theme=dark] .colab-df-convert:hover {\n",
              "      background-color: #434B5C;\n",
              "      box-shadow: 0px 1px 3px 1px rgba(0, 0, 0, 0.15);\n",
              "      filter: drop-shadow(0px 1px 2px rgba(0, 0, 0, 0.3));\n",
              "      fill: #FFFFFF;\n",
              "    }\n",
              "  </style>\n",
              "\n",
              "    <script>\n",
              "      const buttonEl =\n",
              "        document.querySelector('#df-edb1f010-c815-4097-872f-6e3874d53bd1 button.colab-df-convert');\n",
              "      buttonEl.style.display =\n",
              "        google.colab.kernel.accessAllowed ? 'block' : 'none';\n",
              "\n",
              "      async function convertToInteractive(key) {\n",
              "        const element = document.querySelector('#df-edb1f010-c815-4097-872f-6e3874d53bd1');\n",
              "        const dataTable =\n",
              "          await google.colab.kernel.invokeFunction('convertToInteractive',\n",
              "                                                    [key], {});\n",
              "        if (!dataTable) return;\n",
              "\n",
              "        const docLinkHtml = 'Like what you see? Visit the ' +\n",
              "          '<a target=\"_blank\" href=https://colab.research.google.com/notebooks/data_table.ipynb>data table notebook</a>'\n",
              "          + ' to learn more about interactive tables.';\n",
              "        element.innerHTML = '';\n",
              "        dataTable['output_type'] = 'display_data';\n",
              "        await google.colab.output.renderOutput(dataTable, element);\n",
              "        const docLink = document.createElement('div');\n",
              "        docLink.innerHTML = docLinkHtml;\n",
              "        element.appendChild(docLink);\n",
              "      }\n",
              "    </script>\n",
              "  </div>\n",
              "\n",
              "\n",
              "<div id=\"df-0de98984-2f1e-41ec-bc66-45573e145067\">\n",
              "  <button class=\"colab-df-quickchart\" onclick=\"quickchart('df-0de98984-2f1e-41ec-bc66-45573e145067')\"\n",
              "            title=\"Suggest charts\"\n",
              "            style=\"display:none;\">\n",
              "\n",
              "<svg xmlns=\"http://www.w3.org/2000/svg\" height=\"24px\"viewBox=\"0 0 24 24\"\n",
              "     width=\"24px\">\n",
              "    <g>\n",
              "        <path d=\"M19 3H5c-1.1 0-2 .9-2 2v14c0 1.1.9 2 2 2h14c1.1 0 2-.9 2-2V5c0-1.1-.9-2-2-2zM9 17H7v-7h2v7zm4 0h-2V7h2v10zm4 0h-2v-4h2v4z\"/>\n",
              "    </g>\n",
              "</svg>\n",
              "  </button>\n",
              "\n",
              "<style>\n",
              "  .colab-df-quickchart {\n",
              "      --bg-color: #E8F0FE;\n",
              "      --fill-color: #1967D2;\n",
              "      --hover-bg-color: #E2EBFA;\n",
              "      --hover-fill-color: #174EA6;\n",
              "      --disabled-fill-color: #AAA;\n",
              "      --disabled-bg-color: #DDD;\n",
              "  }\n",
              "\n",
              "  [theme=dark] .colab-df-quickchart {\n",
              "      --bg-color: #3B4455;\n",
              "      --fill-color: #D2E3FC;\n",
              "      --hover-bg-color: #434B5C;\n",
              "      --hover-fill-color: #FFFFFF;\n",
              "      --disabled-bg-color: #3B4455;\n",
              "      --disabled-fill-color: #666;\n",
              "  }\n",
              "\n",
              "  .colab-df-quickchart {\n",
              "    background-color: var(--bg-color);\n",
              "    border: none;\n",
              "    border-radius: 50%;\n",
              "    cursor: pointer;\n",
              "    display: none;\n",
              "    fill: var(--fill-color);\n",
              "    height: 32px;\n",
              "    padding: 0;\n",
              "    width: 32px;\n",
              "  }\n",
              "\n",
              "  .colab-df-quickchart:hover {\n",
              "    background-color: var(--hover-bg-color);\n",
              "    box-shadow: 0 1px 2px rgba(60, 64, 67, 0.3), 0 1px 3px 1px rgba(60, 64, 67, 0.15);\n",
              "    fill: var(--button-hover-fill-color);\n",
              "  }\n",
              "\n",
              "  .colab-df-quickchart-complete:disabled,\n",
              "  .colab-df-quickchart-complete:disabled:hover {\n",
              "    background-color: var(--disabled-bg-color);\n",
              "    fill: var(--disabled-fill-color);\n",
              "    box-shadow: none;\n",
              "  }\n",
              "\n",
              "  .colab-df-spinner {\n",
              "    border: 2px solid var(--fill-color);\n",
              "    border-color: transparent;\n",
              "    border-bottom-color: var(--fill-color);\n",
              "    animation:\n",
              "      spin 1s steps(1) infinite;\n",
              "  }\n",
              "\n",
              "  @keyframes spin {\n",
              "    0% {\n",
              "      border-color: transparent;\n",
              "      border-bottom-color: var(--fill-color);\n",
              "      border-left-color: var(--fill-color);\n",
              "    }\n",
              "    20% {\n",
              "      border-color: transparent;\n",
              "      border-left-color: var(--fill-color);\n",
              "      border-top-color: var(--fill-color);\n",
              "    }\n",
              "    30% {\n",
              "      border-color: transparent;\n",
              "      border-left-color: var(--fill-color);\n",
              "      border-top-color: var(--fill-color);\n",
              "      border-right-color: var(--fill-color);\n",
              "    }\n",
              "    40% {\n",
              "      border-color: transparent;\n",
              "      border-right-color: var(--fill-color);\n",
              "      border-top-color: var(--fill-color);\n",
              "    }\n",
              "    60% {\n",
              "      border-color: transparent;\n",
              "      border-right-color: var(--fill-color);\n",
              "    }\n",
              "    80% {\n",
              "      border-color: transparent;\n",
              "      border-right-color: var(--fill-color);\n",
              "      border-bottom-color: var(--fill-color);\n",
              "    }\n",
              "    90% {\n",
              "      border-color: transparent;\n",
              "      border-bottom-color: var(--fill-color);\n",
              "    }\n",
              "  }\n",
              "</style>\n",
              "\n",
              "  <script>\n",
              "    async function quickchart(key) {\n",
              "      const quickchartButtonEl =\n",
              "        document.querySelector('#' + key + ' button');\n",
              "      quickchartButtonEl.disabled = true;  // To prevent multiple clicks.\n",
              "      quickchartButtonEl.classList.add('colab-df-spinner');\n",
              "      try {\n",
              "        const charts = await google.colab.kernel.invokeFunction(\n",
              "            'suggestCharts', [key], {});\n",
              "      } catch (error) {\n",
              "        console.error('Error during call to suggestCharts:', error);\n",
              "      }\n",
              "      quickchartButtonEl.classList.remove('colab-df-spinner');\n",
              "      quickchartButtonEl.classList.add('colab-df-quickchart-complete');\n",
              "    }\n",
              "    (() => {\n",
              "      let quickchartButtonEl =\n",
              "        document.querySelector('#df-0de98984-2f1e-41ec-bc66-45573e145067 button');\n",
              "      quickchartButtonEl.style.display =\n",
              "        google.colab.kernel.accessAllowed ? 'block' : 'none';\n",
              "    })();\n",
              "  </script>\n",
              "</div>\n",
              "\n",
              "    </div>\n",
              "  </div>\n"
            ],
            "application/vnd.google.colaboratory.intrinsic+json": {
              "type": "dataframe",
              "repr_error": "Out of range float values are not JSON compliant: inf"
            }
          },
          "metadata": {},
          "execution_count": 33
        }
      ]
    },
    {
      "cell_type": "code",
      "source": [
        "case3_cov_matrix = calculate_covariance_matrix(case3_X)\n",
        "print(f\"case3_cov_matrix: {case3_cov_matrix}\")\n",
        "print(f\"Is calculated covariance same as numpy covariance: {np.allclose(case3_cov_matrix, np.cov(case3_X, rowvar=False, bias=False))}\")"
      ],
      "metadata": {
        "colab": {
          "base_uri": "https://localhost:8080/"
        },
        "id": "JK-wwuWvZdoH",
        "outputId": "cb3279ae-26f9-4121-e46f-1e45633fd7cc"
      },
      "execution_count": 34,
      "outputs": [
        {
          "output_type": "stream",
          "name": "stdout",
          "text": [
            "case3_cov_matrix: [[0.08985599 0.00770104 0.09755703]\n",
            " [0.00770104 0.07408521 0.08178625]\n",
            " [0.09755703 0.08178625 0.17934329]]\n",
            "Is calculated covariance same as numpy covariance: True\n"
          ]
        }
      ]
    },
    {
      "cell_type": "code",
      "source": [
        "case3_corr_matrix = calculate_correlation_matrix(case3_X)\n",
        "print(f\"case3_corr_matrix:\\n {case3_corr_matrix}\")\n",
        "print(f\"Is calculated correlation same as numpy correlation: {np.allclose(case3_corr_matrix, np.corrcoef(case3_X, rowvar=False))}\")"
      ],
      "metadata": {
        "colab": {
          "base_uri": "https://localhost:8080/"
        },
        "id": "oc5G2_bJkyMk",
        "outputId": "2f111e36-24a9-419e-df1f-dbf4dee3d75f"
      },
      "execution_count": 35,
      "outputs": [
        {
          "output_type": "stream",
          "name": "stdout",
          "text": [
            "case3_corr_matrix:\n",
            " [[1.         0.09438656 0.76849757]\n",
            " [0.09438656 1.         0.709532  ]\n",
            " [0.76849757 0.709532   1.        ]]\n",
            "Is calculated correlation same as numpy correlation: True\n"
          ]
        }
      ]
    },
    {
      "cell_type": "code",
      "source": [
        "scaled_case3_X = StandardScaler(with_mean=True, with_std=True).fit_transform(case3_X)\n",
        "case3_corr_matrix_using_scaler = np.dot(scaled_case3_X.transpose(), scaled_case3_X)/(scaled_case3_X.shape[0])\n",
        "np.allclose(case3_corr_matrix_using_scaler, np.corrcoef(case3_X, rowvar=False))"
      ],
      "metadata": {
        "colab": {
          "base_uri": "https://localhost:8080/"
        },
        "id": "_d9OWJJ_t6h9",
        "outputId": "0d0a0665-3483-4554-b732-135f971f7651"
      },
      "execution_count": 36,
      "outputs": [
        {
          "output_type": "execute_result",
          "data": {
            "text/plain": [
              "True"
            ]
          },
          "metadata": {},
          "execution_count": 36
        }
      ]
    },
    {
      "cell_type": "code",
      "source": [
        "check_invertibility(case3_cov_matrix)"
      ],
      "metadata": {
        "colab": {
          "base_uri": "https://localhost:8080/"
        },
        "id": "neSfrjMXk5PO",
        "outputId": "7f1b2c9c-eb4c-4eeb-f759-c463813af2dd"
      },
      "execution_count": 37,
      "outputs": [
        {
          "output_type": "execute_result",
          "data": {
            "text/plain": [
              "(5892431816569248.0, False, False)"
            ]
          },
          "metadata": {},
          "execution_count": 37
        }
      ]
    },
    {
      "cell_type": "code",
      "source": [
        "check_invertibility(case3_corr_matrix)"
      ],
      "metadata": {
        "colab": {
          "base_uri": "https://localhost:8080/"
        },
        "id": "Pk2aY0Jwk7NQ",
        "outputId": "6a8fe49c-5eee-4d94-e7c3-99fe3b23837c"
      },
      "execution_count": 38,
      "outputs": [
        {
          "output_type": "execute_result",
          "data": {
            "text/plain": [
              "(7451681118708913.0, False, False)"
            ]
          },
          "metadata": {},
          "execution_count": 38
        }
      ]
    },
    {
      "cell_type": "code",
      "source": [
        "check_invertibility(case3_corr_matrix_using_scaler)"
      ],
      "metadata": {
        "colab": {
          "base_uri": "https://localhost:8080/"
        },
        "id": "Lf1EpnrzuBgH",
        "outputId": "dac173c0-134a-4dac-fb20-8ba4aae181d4"
      },
      "execution_count": 39,
      "outputs": [
        {
          "output_type": "execute_result",
          "data": {
            "text/plain": [
              "(4012443679304795.5, False, False)"
            ]
          },
          "metadata": {},
          "execution_count": 39
        }
      ]
    },
    {
      "cell_type": "code",
      "source": [
        "case3_XTX = np.dot(case3_X.transpose(), case3_X)\n",
        "check_invertibility(case3_XTX)"
      ],
      "metadata": {
        "colab": {
          "base_uri": "https://localhost:8080/"
        },
        "id": "XddrgvmFk-0_",
        "outputId": "c179ab5b-044d-408a-dbb4-c904dc712e7a"
      },
      "execution_count": 40,
      "outputs": [
        {
          "output_type": "execute_result",
          "data": {
            "text/plain": [
              "(5928576176928156.0, False, False)"
            ]
          },
          "metadata": {},
          "execution_count": 40
        }
      ]
    },
    {
      "cell_type": "markdown",
      "source": [
        "- Clearly, if columns are collinear => inverse does not exist/ XTX is singular/ non-invertible"
      ],
      "metadata": {
        "id": "ONJa8HbAZqrF"
      }
    },
    {
      "cell_type": "markdown",
      "source": [
        "## Case4: # rows > # columns BUT a column is standardized version of another [This case should not occur in real datasets.]"
      ],
      "metadata": {
        "id": "xvsIuCA1acRc"
      }
    },
    {
      "cell_type": "code",
      "source": [
        "case4_n_rows = 100\n",
        "case4_n_columns = 5\n",
        "\n",
        "case4_X = pd.DataFrame(np.random.rand(case4_n_rows, case4_n_columns-1))\n",
        "choose_random_feature_index = random.choice(range(case4_n_columns-1))\n",
        "case4_X[case4_n_columns-1] = (case4_X[choose_random_feature_index]-np.mean(case4_X[choose_random_feature_index]))#/np.var(case4_X[choose_random_feature_index])\n",
        "case4_X.columns = [f\"feature_{col}\" for col in case4_X.columns]\n",
        "print(f\"Shape of case4_X: {case4_X.shape}\")"
      ],
      "metadata": {
        "colab": {
          "base_uri": "https://localhost:8080/"
        },
        "id": "HRCb88tzZzmD",
        "outputId": "f7e2cff8-6cd4-489e-d9b8-7d6956bcbd87"
      },
      "execution_count": 41,
      "outputs": [
        {
          "output_type": "stream",
          "name": "stdout",
          "text": [
            "Shape of case4_X: (100, 5)\n"
          ]
        }
      ]
    },
    {
      "cell_type": "code",
      "source": [
        "## COlumns are not collinear\n",
        "calculate_vif(case4_X).sort_values(by=[\"VIF\"], ascending=False).head()"
      ],
      "metadata": {
        "colab": {
          "base_uri": "https://localhost:8080/",
          "height": 206
        },
        "id": "SQ_-kBi6aoQT",
        "outputId": "187f79e7-1183-4fd4-b2cf-f528ec67bc58"
      },
      "execution_count": 42,
      "outputs": [
        {
          "output_type": "execute_result",
          "data": {
            "text/plain": [
              "     feature        VIF\n",
              "1  feature_1  13.161066\n",
              "4  feature_4   3.405338\n",
              "2  feature_2   1.064522\n",
              "3  feature_3   1.049254\n",
              "0  feature_0   1.036445"
            ],
            "text/html": [
              "\n",
              "  <div id=\"df-3a50ae3d-7ea0-4a3e-a669-794249eb0925\" class=\"colab-df-container\">\n",
              "    <div>\n",
              "<style scoped>\n",
              "    .dataframe tbody tr th:only-of-type {\n",
              "        vertical-align: middle;\n",
              "    }\n",
              "\n",
              "    .dataframe tbody tr th {\n",
              "        vertical-align: top;\n",
              "    }\n",
              "\n",
              "    .dataframe thead th {\n",
              "        text-align: right;\n",
              "    }\n",
              "</style>\n",
              "<table border=\"1\" class=\"dataframe\">\n",
              "  <thead>\n",
              "    <tr style=\"text-align: right;\">\n",
              "      <th></th>\n",
              "      <th>feature</th>\n",
              "      <th>VIF</th>\n",
              "    </tr>\n",
              "  </thead>\n",
              "  <tbody>\n",
              "    <tr>\n",
              "      <th>1</th>\n",
              "      <td>feature_1</td>\n",
              "      <td>13.161066</td>\n",
              "    </tr>\n",
              "    <tr>\n",
              "      <th>4</th>\n",
              "      <td>feature_4</td>\n",
              "      <td>3.405338</td>\n",
              "    </tr>\n",
              "    <tr>\n",
              "      <th>2</th>\n",
              "      <td>feature_2</td>\n",
              "      <td>1.064522</td>\n",
              "    </tr>\n",
              "    <tr>\n",
              "      <th>3</th>\n",
              "      <td>feature_3</td>\n",
              "      <td>1.049254</td>\n",
              "    </tr>\n",
              "    <tr>\n",
              "      <th>0</th>\n",
              "      <td>feature_0</td>\n",
              "      <td>1.036445</td>\n",
              "    </tr>\n",
              "  </tbody>\n",
              "</table>\n",
              "</div>\n",
              "    <div class=\"colab-df-buttons\">\n",
              "\n",
              "  <div class=\"colab-df-container\">\n",
              "    <button class=\"colab-df-convert\" onclick=\"convertToInteractive('df-3a50ae3d-7ea0-4a3e-a669-794249eb0925')\"\n",
              "            title=\"Convert this dataframe to an interactive table.\"\n",
              "            style=\"display:none;\">\n",
              "\n",
              "  <svg xmlns=\"http://www.w3.org/2000/svg\" height=\"24px\" viewBox=\"0 -960 960 960\">\n",
              "    <path d=\"M120-120v-720h720v720H120Zm60-500h600v-160H180v160Zm220 220h160v-160H400v160Zm0 220h160v-160H400v160ZM180-400h160v-160H180v160Zm440 0h160v-160H620v160ZM180-180h160v-160H180v160Zm440 0h160v-160H620v160Z\"/>\n",
              "  </svg>\n",
              "    </button>\n",
              "\n",
              "  <style>\n",
              "    .colab-df-container {\n",
              "      display:flex;\n",
              "      gap: 12px;\n",
              "    }\n",
              "\n",
              "    .colab-df-convert {\n",
              "      background-color: #E8F0FE;\n",
              "      border: none;\n",
              "      border-radius: 50%;\n",
              "      cursor: pointer;\n",
              "      display: none;\n",
              "      fill: #1967D2;\n",
              "      height: 32px;\n",
              "      padding: 0 0 0 0;\n",
              "      width: 32px;\n",
              "    }\n",
              "\n",
              "    .colab-df-convert:hover {\n",
              "      background-color: #E2EBFA;\n",
              "      box-shadow: 0px 1px 2px rgba(60, 64, 67, 0.3), 0px 1px 3px 1px rgba(60, 64, 67, 0.15);\n",
              "      fill: #174EA6;\n",
              "    }\n",
              "\n",
              "    .colab-df-buttons div {\n",
              "      margin-bottom: 4px;\n",
              "    }\n",
              "\n",
              "    [theme=dark] .colab-df-convert {\n",
              "      background-color: #3B4455;\n",
              "      fill: #D2E3FC;\n",
              "    }\n",
              "\n",
              "    [theme=dark] .colab-df-convert:hover {\n",
              "      background-color: #434B5C;\n",
              "      box-shadow: 0px 1px 3px 1px rgba(0, 0, 0, 0.15);\n",
              "      filter: drop-shadow(0px 1px 2px rgba(0, 0, 0, 0.3));\n",
              "      fill: #FFFFFF;\n",
              "    }\n",
              "  </style>\n",
              "\n",
              "    <script>\n",
              "      const buttonEl =\n",
              "        document.querySelector('#df-3a50ae3d-7ea0-4a3e-a669-794249eb0925 button.colab-df-convert');\n",
              "      buttonEl.style.display =\n",
              "        google.colab.kernel.accessAllowed ? 'block' : 'none';\n",
              "\n",
              "      async function convertToInteractive(key) {\n",
              "        const element = document.querySelector('#df-3a50ae3d-7ea0-4a3e-a669-794249eb0925');\n",
              "        const dataTable =\n",
              "          await google.colab.kernel.invokeFunction('convertToInteractive',\n",
              "                                                    [key], {});\n",
              "        if (!dataTable) return;\n",
              "\n",
              "        const docLinkHtml = 'Like what you see? Visit the ' +\n",
              "          '<a target=\"_blank\" href=https://colab.research.google.com/notebooks/data_table.ipynb>data table notebook</a>'\n",
              "          + ' to learn more about interactive tables.';\n",
              "        element.innerHTML = '';\n",
              "        dataTable['output_type'] = 'display_data';\n",
              "        await google.colab.output.renderOutput(dataTable, element);\n",
              "        const docLink = document.createElement('div');\n",
              "        docLink.innerHTML = docLinkHtml;\n",
              "        element.appendChild(docLink);\n",
              "      }\n",
              "    </script>\n",
              "  </div>\n",
              "\n",
              "\n",
              "<div id=\"df-b937f966-8d8c-4eba-8551-dc22b0f1f40e\">\n",
              "  <button class=\"colab-df-quickchart\" onclick=\"quickchart('df-b937f966-8d8c-4eba-8551-dc22b0f1f40e')\"\n",
              "            title=\"Suggest charts\"\n",
              "            style=\"display:none;\">\n",
              "\n",
              "<svg xmlns=\"http://www.w3.org/2000/svg\" height=\"24px\"viewBox=\"0 0 24 24\"\n",
              "     width=\"24px\">\n",
              "    <g>\n",
              "        <path d=\"M19 3H5c-1.1 0-2 .9-2 2v14c0 1.1.9 2 2 2h14c1.1 0 2-.9 2-2V5c0-1.1-.9-2-2-2zM9 17H7v-7h2v7zm4 0h-2V7h2v10zm4 0h-2v-4h2v4z\"/>\n",
              "    </g>\n",
              "</svg>\n",
              "  </button>\n",
              "\n",
              "<style>\n",
              "  .colab-df-quickchart {\n",
              "      --bg-color: #E8F0FE;\n",
              "      --fill-color: #1967D2;\n",
              "      --hover-bg-color: #E2EBFA;\n",
              "      --hover-fill-color: #174EA6;\n",
              "      --disabled-fill-color: #AAA;\n",
              "      --disabled-bg-color: #DDD;\n",
              "  }\n",
              "\n",
              "  [theme=dark] .colab-df-quickchart {\n",
              "      --bg-color: #3B4455;\n",
              "      --fill-color: #D2E3FC;\n",
              "      --hover-bg-color: #434B5C;\n",
              "      --hover-fill-color: #FFFFFF;\n",
              "      --disabled-bg-color: #3B4455;\n",
              "      --disabled-fill-color: #666;\n",
              "  }\n",
              "\n",
              "  .colab-df-quickchart {\n",
              "    background-color: var(--bg-color);\n",
              "    border: none;\n",
              "    border-radius: 50%;\n",
              "    cursor: pointer;\n",
              "    display: none;\n",
              "    fill: var(--fill-color);\n",
              "    height: 32px;\n",
              "    padding: 0;\n",
              "    width: 32px;\n",
              "  }\n",
              "\n",
              "  .colab-df-quickchart:hover {\n",
              "    background-color: var(--hover-bg-color);\n",
              "    box-shadow: 0 1px 2px rgba(60, 64, 67, 0.3), 0 1px 3px 1px rgba(60, 64, 67, 0.15);\n",
              "    fill: var(--button-hover-fill-color);\n",
              "  }\n",
              "\n",
              "  .colab-df-quickchart-complete:disabled,\n",
              "  .colab-df-quickchart-complete:disabled:hover {\n",
              "    background-color: var(--disabled-bg-color);\n",
              "    fill: var(--disabled-fill-color);\n",
              "    box-shadow: none;\n",
              "  }\n",
              "\n",
              "  .colab-df-spinner {\n",
              "    border: 2px solid var(--fill-color);\n",
              "    border-color: transparent;\n",
              "    border-bottom-color: var(--fill-color);\n",
              "    animation:\n",
              "      spin 1s steps(1) infinite;\n",
              "  }\n",
              "\n",
              "  @keyframes spin {\n",
              "    0% {\n",
              "      border-color: transparent;\n",
              "      border-bottom-color: var(--fill-color);\n",
              "      border-left-color: var(--fill-color);\n",
              "    }\n",
              "    20% {\n",
              "      border-color: transparent;\n",
              "      border-left-color: var(--fill-color);\n",
              "      border-top-color: var(--fill-color);\n",
              "    }\n",
              "    30% {\n",
              "      border-color: transparent;\n",
              "      border-left-color: var(--fill-color);\n",
              "      border-top-color: var(--fill-color);\n",
              "      border-right-color: var(--fill-color);\n",
              "    }\n",
              "    40% {\n",
              "      border-color: transparent;\n",
              "      border-right-color: var(--fill-color);\n",
              "      border-top-color: var(--fill-color);\n",
              "    }\n",
              "    60% {\n",
              "      border-color: transparent;\n",
              "      border-right-color: var(--fill-color);\n",
              "    }\n",
              "    80% {\n",
              "      border-color: transparent;\n",
              "      border-right-color: var(--fill-color);\n",
              "      border-bottom-color: var(--fill-color);\n",
              "    }\n",
              "    90% {\n",
              "      border-color: transparent;\n",
              "      border-bottom-color: var(--fill-color);\n",
              "    }\n",
              "  }\n",
              "</style>\n",
              "\n",
              "  <script>\n",
              "    async function quickchart(key) {\n",
              "      const quickchartButtonEl =\n",
              "        document.querySelector('#' + key + ' button');\n",
              "      quickchartButtonEl.disabled = true;  // To prevent multiple clicks.\n",
              "      quickchartButtonEl.classList.add('colab-df-spinner');\n",
              "      try {\n",
              "        const charts = await google.colab.kernel.invokeFunction(\n",
              "            'suggestCharts', [key], {});\n",
              "      } catch (error) {\n",
              "        console.error('Error during call to suggestCharts:', error);\n",
              "      }\n",
              "      quickchartButtonEl.classList.remove('colab-df-spinner');\n",
              "      quickchartButtonEl.classList.add('colab-df-quickchart-complete');\n",
              "    }\n",
              "    (() => {\n",
              "      let quickchartButtonEl =\n",
              "        document.querySelector('#df-b937f966-8d8c-4eba-8551-dc22b0f1f40e button');\n",
              "      quickchartButtonEl.style.display =\n",
              "        google.colab.kernel.accessAllowed ? 'block' : 'none';\n",
              "    })();\n",
              "  </script>\n",
              "</div>\n",
              "\n",
              "    </div>\n",
              "  </div>\n"
            ],
            "application/vnd.google.colaboratory.intrinsic+json": {
              "type": "dataframe",
              "summary": "{\n  \"name\": \"calculate_vif(case4_X)\",\n  \"rows\": 5,\n  \"fields\": [\n    {\n      \"column\": \"feature\",\n      \"properties\": {\n        \"dtype\": \"string\",\n        \"num_unique_values\": 5,\n        \"samples\": [\n          \"feature_4\",\n          \"feature_0\",\n          \"feature_2\"\n        ],\n        \"semantic_type\": \"\",\n        \"description\": \"\"\n      }\n    },\n    {\n      \"column\": \"VIF\",\n      \"properties\": {\n        \"dtype\": \"number\",\n        \"std\": 5.252839161284909,\n        \"min\": 1.0364445315851536,\n        \"max\": 13.161065503565036,\n        \"num_unique_values\": 5,\n        \"samples\": [\n          3.405338076937296,\n          1.0364445315851536,\n          1.0645222085189234\n        ],\n        \"semantic_type\": \"\",\n        \"description\": \"\"\n      }\n    }\n  ]\n}"
            }
          },
          "metadata": {},
          "execution_count": 42
        }
      ]
    },
    {
      "cell_type": "code",
      "source": [
        "case4_cov_matrix = calculate_covariance_matrix(case4_X)\n",
        "print(f\"case4_cov_matrix: {case4_cov_matrix}\")\n",
        "print(f\"Is calculated covariance same as numpy covariance: {np.allclose(case4_cov_matrix, np.cov(case4_X, rowvar=False, bias=False))}\")"
      ],
      "metadata": {
        "colab": {
          "base_uri": "https://localhost:8080/"
        },
        "id": "_DDVHUM-bjBF",
        "outputId": "3bd02879-84db-41ec-9704-6a5f168c784e"
      },
      "execution_count": 43,
      "outputs": [
        {
          "output_type": "stream",
          "name": "stdout",
          "text": [
            "case4_cov_matrix: [[ 0.07718275  0.00655642  0.00491709 -0.01205426  0.00655642]\n",
            " [ 0.00655642  0.08367158  0.02078118  0.01023961  0.08367158]\n",
            " [ 0.00491709  0.02078118  0.09749076  0.00897982  0.02078118]\n",
            " [-0.01205426  0.01023961  0.00897982  0.08390721  0.01023961]\n",
            " [ 0.00655642  0.08367158  0.02078118  0.01023961  0.08367158]]\n",
            "Is calculated covariance same as numpy covariance: True\n"
          ]
        }
      ]
    },
    {
      "cell_type": "code",
      "source": [
        "case4_corr_matrix = calculate_correlation_matrix(case4_X)\n",
        "print(f\"case4_corr_matrix:\\n {case4_corr_matrix}\")\n",
        "print(f\"Is calculated correlation same as numpy correlation: {np.allclose(case4_corr_matrix, np.corrcoef(case4_X, rowvar=False))}\")"
      ],
      "metadata": {
        "colab": {
          "base_uri": "https://localhost:8080/"
        },
        "id": "1iHQ1yURlQgn",
        "outputId": "3ec2dc9f-ed39-40f6-9c38-ef372d1375e5"
      },
      "execution_count": 44,
      "outputs": [
        {
          "output_type": "stream",
          "name": "stdout",
          "text": [
            "case4_corr_matrix:\n",
            " [[ 1.          0.0815864   0.05668481 -0.14978933  0.0815864 ]\n",
            " [ 0.0815864   1.          0.23009091  0.12220669  1.        ]\n",
            " [ 0.05668481  0.23009091  1.          0.0992856   0.23009091]\n",
            " [-0.14978933  0.12220669  0.0992856   1.          0.12220669]\n",
            " [ 0.0815864   1.          0.23009091  0.12220669  1.        ]]\n",
            "Is calculated correlation same as numpy correlation: True\n"
          ]
        }
      ]
    },
    {
      "cell_type": "code",
      "source": [
        "scaled_case4_X = StandardScaler(with_mean=True, with_std=True).fit_transform(case4_X)\n",
        "case4_corr_matrix_using_scaler = np.dot(scaled_case4_X.transpose(), scaled_case4_X)/(scaled_case4_X.shape[0])\n",
        "np.allclose(case4_corr_matrix_using_scaler, np.corrcoef(case4_X, rowvar=False))"
      ],
      "metadata": {
        "colab": {
          "base_uri": "https://localhost:8080/"
        },
        "id": "haJ40er_uO6O",
        "outputId": "3814d5a6-1471-420e-bba6-1f24074af09a"
      },
      "execution_count": 45,
      "outputs": [
        {
          "output_type": "execute_result",
          "data": {
            "text/plain": [
              "True"
            ]
          },
          "metadata": {},
          "execution_count": 45
        }
      ]
    },
    {
      "cell_type": "code",
      "source": [
        "check_invertibility(case4_cov_matrix)"
      ],
      "metadata": {
        "colab": {
          "base_uri": "https://localhost:8080/",
          "height": 293
        },
        "id": "zXDRCQ-9lQjP",
        "outputId": "0c7de672-a7c6-4a05-abae-5067d9f2d0c7"
      },
      "execution_count": 46,
      "outputs": [
        {
          "output_type": "error",
          "ename": "LinAlgError",
          "evalue": "Singular matrix",
          "traceback": [
            "\u001b[0;31m---------------------------------------------------------------------------\u001b[0m",
            "\u001b[0;31mLinAlgError\u001b[0m                               Traceback (most recent call last)",
            "\u001b[0;32m<ipython-input-46-edd009de39c7>\u001b[0m in \u001b[0;36m<cell line: 1>\u001b[0;34m()\u001b[0m\n\u001b[0;32m----> 1\u001b[0;31m \u001b[0mcheck_invertibility\u001b[0m\u001b[0;34m(\u001b[0m\u001b[0mcase4_cov_matrix\u001b[0m\u001b[0;34m)\u001b[0m\u001b[0;34m\u001b[0m\u001b[0;34m\u001b[0m\u001b[0m\n\u001b[0m",
            "\u001b[0;32m<ipython-input-12-fda3029b03a7>\u001b[0m in \u001b[0;36mcheck_invertibility\u001b[0;34m(square_matrix)\u001b[0m\n\u001b[1;32m      1\u001b[0m \u001b[0;32mdef\u001b[0m \u001b[0mcheck_invertibility\u001b[0m\u001b[0;34m(\u001b[0m\u001b[0msquare_matrix\u001b[0m\u001b[0;34m)\u001b[0m\u001b[0;34m:\u001b[0m\u001b[0;34m\u001b[0m\u001b[0;34m\u001b[0m\u001b[0m\n\u001b[1;32m      2\u001b[0m   \u001b[0mcondition_number\u001b[0m \u001b[0;34m=\u001b[0m \u001b[0mcond\u001b[0m\u001b[0;34m(\u001b[0m\u001b[0msquare_matrix\u001b[0m\u001b[0;34m)\u001b[0m\u001b[0;34m\u001b[0m\u001b[0;34m\u001b[0m\u001b[0m\n\u001b[0;32m----> 3\u001b[0;31m   \u001b[0minverse\u001b[0m \u001b[0;34m=\u001b[0m \u001b[0minv\u001b[0m\u001b[0;34m(\u001b[0m\u001b[0msquare_matrix\u001b[0m\u001b[0;34m)\u001b[0m\u001b[0;34m\u001b[0m\u001b[0;34m\u001b[0m\u001b[0m\n\u001b[0m\u001b[1;32m      4\u001b[0m   \u001b[0;32mreturn\u001b[0m \u001b[0mcondition_number\u001b[0m\u001b[0;34m,\u001b[0m \u001b[0mnp\u001b[0m\u001b[0;34m.\u001b[0m\u001b[0mallclose\u001b[0m\u001b[0;34m(\u001b[0m\u001b[0msquare_matrix\u001b[0m \u001b[0;34m@\u001b[0m \u001b[0minverse\u001b[0m\u001b[0;34m,\u001b[0m \u001b[0mnp\u001b[0m\u001b[0;34m.\u001b[0m\u001b[0meye\u001b[0m\u001b[0;34m(\u001b[0m\u001b[0msquare_matrix\u001b[0m\u001b[0;34m.\u001b[0m\u001b[0mshape\u001b[0m\u001b[0;34m[\u001b[0m\u001b[0;36m0\u001b[0m\u001b[0;34m]\u001b[0m\u001b[0;34m)\u001b[0m\u001b[0;34m)\u001b[0m\u001b[0;34m,\u001b[0m \u001b[0mnp\u001b[0m\u001b[0;34m.\u001b[0m\u001b[0mallclose\u001b[0m\u001b[0;34m(\u001b[0m\u001b[0mnp\u001b[0m\u001b[0;34m.\u001b[0m\u001b[0meye\u001b[0m\u001b[0;34m(\u001b[0m\u001b[0msquare_matrix\u001b[0m\u001b[0;34m.\u001b[0m\u001b[0mshape\u001b[0m\u001b[0;34m[\u001b[0m\u001b[0;36m0\u001b[0m\u001b[0;34m]\u001b[0m\u001b[0;34m)\u001b[0m\u001b[0;34m,\u001b[0m \u001b[0msquare_matrix\u001b[0m \u001b[0;34m@\u001b[0m \u001b[0minverse\u001b[0m\u001b[0;34m)\u001b[0m\u001b[0;34m\u001b[0m\u001b[0;34m\u001b[0m\u001b[0m\n",
            "\u001b[0;32m/usr/local/lib/python3.10/dist-packages/numpy/linalg/linalg.py\u001b[0m in \u001b[0;36minv\u001b[0;34m(a)\u001b[0m\n\u001b[1;32m    559\u001b[0m     \u001b[0msignature\u001b[0m \u001b[0;34m=\u001b[0m \u001b[0;34m'D->D'\u001b[0m \u001b[0;32mif\u001b[0m \u001b[0misComplexType\u001b[0m\u001b[0;34m(\u001b[0m\u001b[0mt\u001b[0m\u001b[0;34m)\u001b[0m \u001b[0;32melse\u001b[0m \u001b[0;34m'd->d'\u001b[0m\u001b[0;34m\u001b[0m\u001b[0;34m\u001b[0m\u001b[0m\n\u001b[1;32m    560\u001b[0m     \u001b[0mextobj\u001b[0m \u001b[0;34m=\u001b[0m \u001b[0mget_linalg_error_extobj\u001b[0m\u001b[0;34m(\u001b[0m\u001b[0m_raise_linalgerror_singular\u001b[0m\u001b[0;34m)\u001b[0m\u001b[0;34m\u001b[0m\u001b[0;34m\u001b[0m\u001b[0m\n\u001b[0;32m--> 561\u001b[0;31m     \u001b[0mainv\u001b[0m \u001b[0;34m=\u001b[0m \u001b[0m_umath_linalg\u001b[0m\u001b[0;34m.\u001b[0m\u001b[0minv\u001b[0m\u001b[0;34m(\u001b[0m\u001b[0ma\u001b[0m\u001b[0;34m,\u001b[0m \u001b[0msignature\u001b[0m\u001b[0;34m=\u001b[0m\u001b[0msignature\u001b[0m\u001b[0;34m,\u001b[0m \u001b[0mextobj\u001b[0m\u001b[0;34m=\u001b[0m\u001b[0mextobj\u001b[0m\u001b[0;34m)\u001b[0m\u001b[0;34m\u001b[0m\u001b[0;34m\u001b[0m\u001b[0m\n\u001b[0m\u001b[1;32m    562\u001b[0m     \u001b[0;32mreturn\u001b[0m \u001b[0mwrap\u001b[0m\u001b[0;34m(\u001b[0m\u001b[0mainv\u001b[0m\u001b[0;34m.\u001b[0m\u001b[0mastype\u001b[0m\u001b[0;34m(\u001b[0m\u001b[0mresult_t\u001b[0m\u001b[0;34m,\u001b[0m \u001b[0mcopy\u001b[0m\u001b[0;34m=\u001b[0m\u001b[0;32mFalse\u001b[0m\u001b[0;34m)\u001b[0m\u001b[0;34m)\u001b[0m\u001b[0;34m\u001b[0m\u001b[0;34m\u001b[0m\u001b[0m\n\u001b[1;32m    563\u001b[0m \u001b[0;34m\u001b[0m\u001b[0m\n",
            "\u001b[0;32m/usr/local/lib/python3.10/dist-packages/numpy/linalg/linalg.py\u001b[0m in \u001b[0;36m_raise_linalgerror_singular\u001b[0;34m(err, flag)\u001b[0m\n\u001b[1;32m    110\u001b[0m \u001b[0;34m\u001b[0m\u001b[0m\n\u001b[1;32m    111\u001b[0m \u001b[0;32mdef\u001b[0m \u001b[0m_raise_linalgerror_singular\u001b[0m\u001b[0;34m(\u001b[0m\u001b[0merr\u001b[0m\u001b[0;34m,\u001b[0m \u001b[0mflag\u001b[0m\u001b[0;34m)\u001b[0m\u001b[0;34m:\u001b[0m\u001b[0;34m\u001b[0m\u001b[0;34m\u001b[0m\u001b[0m\n\u001b[0;32m--> 112\u001b[0;31m     \u001b[0;32mraise\u001b[0m \u001b[0mLinAlgError\u001b[0m\u001b[0;34m(\u001b[0m\u001b[0;34m\"Singular matrix\"\u001b[0m\u001b[0;34m)\u001b[0m\u001b[0;34m\u001b[0m\u001b[0;34m\u001b[0m\u001b[0m\n\u001b[0m\u001b[1;32m    113\u001b[0m \u001b[0;34m\u001b[0m\u001b[0m\n\u001b[1;32m    114\u001b[0m \u001b[0;32mdef\u001b[0m \u001b[0m_raise_linalgerror_nonposdef\u001b[0m\u001b[0;34m(\u001b[0m\u001b[0merr\u001b[0m\u001b[0;34m,\u001b[0m \u001b[0mflag\u001b[0m\u001b[0;34m)\u001b[0m\u001b[0;34m:\u001b[0m\u001b[0;34m\u001b[0m\u001b[0;34m\u001b[0m\u001b[0m\n",
            "\u001b[0;31mLinAlgError\u001b[0m: Singular matrix"
          ]
        }
      ]
    },
    {
      "cell_type": "code",
      "source": [
        "check_invertibility(case4_corr_matrix)"
      ],
      "metadata": {
        "colab": {
          "base_uri": "https://localhost:8080/",
          "height": 293
        },
        "id": "jRfHBPfblqM7",
        "outputId": "093003ca-56f5-4add-9d93-c4e5c0c9564a"
      },
      "execution_count": 47,
      "outputs": [
        {
          "output_type": "error",
          "ename": "LinAlgError",
          "evalue": "Singular matrix",
          "traceback": [
            "\u001b[0;31m---------------------------------------------------------------------------\u001b[0m",
            "\u001b[0;31mLinAlgError\u001b[0m                               Traceback (most recent call last)",
            "\u001b[0;32m<ipython-input-47-40cac0c8887a>\u001b[0m in \u001b[0;36m<cell line: 1>\u001b[0;34m()\u001b[0m\n\u001b[0;32m----> 1\u001b[0;31m \u001b[0mcheck_invertibility\u001b[0m\u001b[0;34m(\u001b[0m\u001b[0mcase4_corr_matrix\u001b[0m\u001b[0;34m)\u001b[0m\u001b[0;34m\u001b[0m\u001b[0;34m\u001b[0m\u001b[0m\n\u001b[0m",
            "\u001b[0;32m<ipython-input-12-fda3029b03a7>\u001b[0m in \u001b[0;36mcheck_invertibility\u001b[0;34m(square_matrix)\u001b[0m\n\u001b[1;32m      1\u001b[0m \u001b[0;32mdef\u001b[0m \u001b[0mcheck_invertibility\u001b[0m\u001b[0;34m(\u001b[0m\u001b[0msquare_matrix\u001b[0m\u001b[0;34m)\u001b[0m\u001b[0;34m:\u001b[0m\u001b[0;34m\u001b[0m\u001b[0;34m\u001b[0m\u001b[0m\n\u001b[1;32m      2\u001b[0m   \u001b[0mcondition_number\u001b[0m \u001b[0;34m=\u001b[0m \u001b[0mcond\u001b[0m\u001b[0;34m(\u001b[0m\u001b[0msquare_matrix\u001b[0m\u001b[0;34m)\u001b[0m\u001b[0;34m\u001b[0m\u001b[0;34m\u001b[0m\u001b[0m\n\u001b[0;32m----> 3\u001b[0;31m   \u001b[0minverse\u001b[0m \u001b[0;34m=\u001b[0m \u001b[0minv\u001b[0m\u001b[0;34m(\u001b[0m\u001b[0msquare_matrix\u001b[0m\u001b[0;34m)\u001b[0m\u001b[0;34m\u001b[0m\u001b[0;34m\u001b[0m\u001b[0m\n\u001b[0m\u001b[1;32m      4\u001b[0m   \u001b[0;32mreturn\u001b[0m \u001b[0mcondition_number\u001b[0m\u001b[0;34m,\u001b[0m \u001b[0mnp\u001b[0m\u001b[0;34m.\u001b[0m\u001b[0mallclose\u001b[0m\u001b[0;34m(\u001b[0m\u001b[0msquare_matrix\u001b[0m \u001b[0;34m@\u001b[0m \u001b[0minverse\u001b[0m\u001b[0;34m,\u001b[0m \u001b[0mnp\u001b[0m\u001b[0;34m.\u001b[0m\u001b[0meye\u001b[0m\u001b[0;34m(\u001b[0m\u001b[0msquare_matrix\u001b[0m\u001b[0;34m.\u001b[0m\u001b[0mshape\u001b[0m\u001b[0;34m[\u001b[0m\u001b[0;36m0\u001b[0m\u001b[0;34m]\u001b[0m\u001b[0;34m)\u001b[0m\u001b[0;34m)\u001b[0m\u001b[0;34m,\u001b[0m \u001b[0mnp\u001b[0m\u001b[0;34m.\u001b[0m\u001b[0mallclose\u001b[0m\u001b[0;34m(\u001b[0m\u001b[0mnp\u001b[0m\u001b[0;34m.\u001b[0m\u001b[0meye\u001b[0m\u001b[0;34m(\u001b[0m\u001b[0msquare_matrix\u001b[0m\u001b[0;34m.\u001b[0m\u001b[0mshape\u001b[0m\u001b[0;34m[\u001b[0m\u001b[0;36m0\u001b[0m\u001b[0;34m]\u001b[0m\u001b[0;34m)\u001b[0m\u001b[0;34m,\u001b[0m \u001b[0msquare_matrix\u001b[0m \u001b[0;34m@\u001b[0m \u001b[0minverse\u001b[0m\u001b[0;34m)\u001b[0m\u001b[0;34m\u001b[0m\u001b[0;34m\u001b[0m\u001b[0m\n",
            "\u001b[0;32m/usr/local/lib/python3.10/dist-packages/numpy/linalg/linalg.py\u001b[0m in \u001b[0;36minv\u001b[0;34m(a)\u001b[0m\n\u001b[1;32m    559\u001b[0m     \u001b[0msignature\u001b[0m \u001b[0;34m=\u001b[0m \u001b[0;34m'D->D'\u001b[0m \u001b[0;32mif\u001b[0m \u001b[0misComplexType\u001b[0m\u001b[0;34m(\u001b[0m\u001b[0mt\u001b[0m\u001b[0;34m)\u001b[0m \u001b[0;32melse\u001b[0m \u001b[0;34m'd->d'\u001b[0m\u001b[0;34m\u001b[0m\u001b[0;34m\u001b[0m\u001b[0m\n\u001b[1;32m    560\u001b[0m     \u001b[0mextobj\u001b[0m \u001b[0;34m=\u001b[0m \u001b[0mget_linalg_error_extobj\u001b[0m\u001b[0;34m(\u001b[0m\u001b[0m_raise_linalgerror_singular\u001b[0m\u001b[0;34m)\u001b[0m\u001b[0;34m\u001b[0m\u001b[0;34m\u001b[0m\u001b[0m\n\u001b[0;32m--> 561\u001b[0;31m     \u001b[0mainv\u001b[0m \u001b[0;34m=\u001b[0m \u001b[0m_umath_linalg\u001b[0m\u001b[0;34m.\u001b[0m\u001b[0minv\u001b[0m\u001b[0;34m(\u001b[0m\u001b[0ma\u001b[0m\u001b[0;34m,\u001b[0m \u001b[0msignature\u001b[0m\u001b[0;34m=\u001b[0m\u001b[0msignature\u001b[0m\u001b[0;34m,\u001b[0m \u001b[0mextobj\u001b[0m\u001b[0;34m=\u001b[0m\u001b[0mextobj\u001b[0m\u001b[0;34m)\u001b[0m\u001b[0;34m\u001b[0m\u001b[0;34m\u001b[0m\u001b[0m\n\u001b[0m\u001b[1;32m    562\u001b[0m     \u001b[0;32mreturn\u001b[0m \u001b[0mwrap\u001b[0m\u001b[0;34m(\u001b[0m\u001b[0mainv\u001b[0m\u001b[0;34m.\u001b[0m\u001b[0mastype\u001b[0m\u001b[0;34m(\u001b[0m\u001b[0mresult_t\u001b[0m\u001b[0;34m,\u001b[0m \u001b[0mcopy\u001b[0m\u001b[0;34m=\u001b[0m\u001b[0;32mFalse\u001b[0m\u001b[0;34m)\u001b[0m\u001b[0;34m)\u001b[0m\u001b[0;34m\u001b[0m\u001b[0;34m\u001b[0m\u001b[0m\n\u001b[1;32m    563\u001b[0m \u001b[0;34m\u001b[0m\u001b[0m\n",
            "\u001b[0;32m/usr/local/lib/python3.10/dist-packages/numpy/linalg/linalg.py\u001b[0m in \u001b[0;36m_raise_linalgerror_singular\u001b[0;34m(err, flag)\u001b[0m\n\u001b[1;32m    110\u001b[0m \u001b[0;34m\u001b[0m\u001b[0m\n\u001b[1;32m    111\u001b[0m \u001b[0;32mdef\u001b[0m \u001b[0m_raise_linalgerror_singular\u001b[0m\u001b[0;34m(\u001b[0m\u001b[0merr\u001b[0m\u001b[0;34m,\u001b[0m \u001b[0mflag\u001b[0m\u001b[0;34m)\u001b[0m\u001b[0;34m:\u001b[0m\u001b[0;34m\u001b[0m\u001b[0;34m\u001b[0m\u001b[0m\n\u001b[0;32m--> 112\u001b[0;31m     \u001b[0;32mraise\u001b[0m \u001b[0mLinAlgError\u001b[0m\u001b[0;34m(\u001b[0m\u001b[0;34m\"Singular matrix\"\u001b[0m\u001b[0;34m)\u001b[0m\u001b[0;34m\u001b[0m\u001b[0;34m\u001b[0m\u001b[0m\n\u001b[0m\u001b[1;32m    113\u001b[0m \u001b[0;34m\u001b[0m\u001b[0m\n\u001b[1;32m    114\u001b[0m \u001b[0;32mdef\u001b[0m \u001b[0m_raise_linalgerror_nonposdef\u001b[0m\u001b[0;34m(\u001b[0m\u001b[0merr\u001b[0m\u001b[0;34m,\u001b[0m \u001b[0mflag\u001b[0m\u001b[0;34m)\u001b[0m\u001b[0;34m:\u001b[0m\u001b[0;34m\u001b[0m\u001b[0;34m\u001b[0m\u001b[0m\n",
            "\u001b[0;31mLinAlgError\u001b[0m: Singular matrix"
          ]
        }
      ]
    },
    {
      "cell_type": "code",
      "source": [
        "check_invertibility(case4_corr_matrix_using_scaler)"
      ],
      "metadata": {
        "colab": {
          "base_uri": "https://localhost:8080/",
          "height": 293
        },
        "id": "QhH709-xuVH5",
        "outputId": "9cb4f7ba-29a5-423b-b489-373045227fe8"
      },
      "execution_count": 48,
      "outputs": [
        {
          "output_type": "error",
          "ename": "LinAlgError",
          "evalue": "Singular matrix",
          "traceback": [
            "\u001b[0;31m---------------------------------------------------------------------------\u001b[0m",
            "\u001b[0;31mLinAlgError\u001b[0m                               Traceback (most recent call last)",
            "\u001b[0;32m<ipython-input-48-37ed63daf6b5>\u001b[0m in \u001b[0;36m<cell line: 1>\u001b[0;34m()\u001b[0m\n\u001b[0;32m----> 1\u001b[0;31m \u001b[0mcheck_invertibility\u001b[0m\u001b[0;34m(\u001b[0m\u001b[0mcase4_corr_matrix_using_scaler\u001b[0m\u001b[0;34m)\u001b[0m\u001b[0;34m\u001b[0m\u001b[0;34m\u001b[0m\u001b[0m\n\u001b[0m",
            "\u001b[0;32m<ipython-input-12-fda3029b03a7>\u001b[0m in \u001b[0;36mcheck_invertibility\u001b[0;34m(square_matrix)\u001b[0m\n\u001b[1;32m      1\u001b[0m \u001b[0;32mdef\u001b[0m \u001b[0mcheck_invertibility\u001b[0m\u001b[0;34m(\u001b[0m\u001b[0msquare_matrix\u001b[0m\u001b[0;34m)\u001b[0m\u001b[0;34m:\u001b[0m\u001b[0;34m\u001b[0m\u001b[0;34m\u001b[0m\u001b[0m\n\u001b[1;32m      2\u001b[0m   \u001b[0mcondition_number\u001b[0m \u001b[0;34m=\u001b[0m \u001b[0mcond\u001b[0m\u001b[0;34m(\u001b[0m\u001b[0msquare_matrix\u001b[0m\u001b[0;34m)\u001b[0m\u001b[0;34m\u001b[0m\u001b[0;34m\u001b[0m\u001b[0m\n\u001b[0;32m----> 3\u001b[0;31m   \u001b[0minverse\u001b[0m \u001b[0;34m=\u001b[0m \u001b[0minv\u001b[0m\u001b[0;34m(\u001b[0m\u001b[0msquare_matrix\u001b[0m\u001b[0;34m)\u001b[0m\u001b[0;34m\u001b[0m\u001b[0;34m\u001b[0m\u001b[0m\n\u001b[0m\u001b[1;32m      4\u001b[0m   \u001b[0;32mreturn\u001b[0m \u001b[0mcondition_number\u001b[0m\u001b[0;34m,\u001b[0m \u001b[0mnp\u001b[0m\u001b[0;34m.\u001b[0m\u001b[0mallclose\u001b[0m\u001b[0;34m(\u001b[0m\u001b[0msquare_matrix\u001b[0m \u001b[0;34m@\u001b[0m \u001b[0minverse\u001b[0m\u001b[0;34m,\u001b[0m \u001b[0mnp\u001b[0m\u001b[0;34m.\u001b[0m\u001b[0meye\u001b[0m\u001b[0;34m(\u001b[0m\u001b[0msquare_matrix\u001b[0m\u001b[0;34m.\u001b[0m\u001b[0mshape\u001b[0m\u001b[0;34m[\u001b[0m\u001b[0;36m0\u001b[0m\u001b[0;34m]\u001b[0m\u001b[0;34m)\u001b[0m\u001b[0;34m)\u001b[0m\u001b[0;34m,\u001b[0m \u001b[0mnp\u001b[0m\u001b[0;34m.\u001b[0m\u001b[0mallclose\u001b[0m\u001b[0;34m(\u001b[0m\u001b[0mnp\u001b[0m\u001b[0;34m.\u001b[0m\u001b[0meye\u001b[0m\u001b[0;34m(\u001b[0m\u001b[0msquare_matrix\u001b[0m\u001b[0;34m.\u001b[0m\u001b[0mshape\u001b[0m\u001b[0;34m[\u001b[0m\u001b[0;36m0\u001b[0m\u001b[0;34m]\u001b[0m\u001b[0;34m)\u001b[0m\u001b[0;34m,\u001b[0m \u001b[0msquare_matrix\u001b[0m \u001b[0;34m@\u001b[0m \u001b[0minverse\u001b[0m\u001b[0;34m)\u001b[0m\u001b[0;34m\u001b[0m\u001b[0;34m\u001b[0m\u001b[0m\n",
            "\u001b[0;32m/usr/local/lib/python3.10/dist-packages/numpy/linalg/linalg.py\u001b[0m in \u001b[0;36minv\u001b[0;34m(a)\u001b[0m\n\u001b[1;32m    559\u001b[0m     \u001b[0msignature\u001b[0m \u001b[0;34m=\u001b[0m \u001b[0;34m'D->D'\u001b[0m \u001b[0;32mif\u001b[0m \u001b[0misComplexType\u001b[0m\u001b[0;34m(\u001b[0m\u001b[0mt\u001b[0m\u001b[0;34m)\u001b[0m \u001b[0;32melse\u001b[0m \u001b[0;34m'd->d'\u001b[0m\u001b[0;34m\u001b[0m\u001b[0;34m\u001b[0m\u001b[0m\n\u001b[1;32m    560\u001b[0m     \u001b[0mextobj\u001b[0m \u001b[0;34m=\u001b[0m \u001b[0mget_linalg_error_extobj\u001b[0m\u001b[0;34m(\u001b[0m\u001b[0m_raise_linalgerror_singular\u001b[0m\u001b[0;34m)\u001b[0m\u001b[0;34m\u001b[0m\u001b[0;34m\u001b[0m\u001b[0m\n\u001b[0;32m--> 561\u001b[0;31m     \u001b[0mainv\u001b[0m \u001b[0;34m=\u001b[0m \u001b[0m_umath_linalg\u001b[0m\u001b[0;34m.\u001b[0m\u001b[0minv\u001b[0m\u001b[0;34m(\u001b[0m\u001b[0ma\u001b[0m\u001b[0;34m,\u001b[0m \u001b[0msignature\u001b[0m\u001b[0;34m=\u001b[0m\u001b[0msignature\u001b[0m\u001b[0;34m,\u001b[0m \u001b[0mextobj\u001b[0m\u001b[0;34m=\u001b[0m\u001b[0mextobj\u001b[0m\u001b[0;34m)\u001b[0m\u001b[0;34m\u001b[0m\u001b[0;34m\u001b[0m\u001b[0m\n\u001b[0m\u001b[1;32m    562\u001b[0m     \u001b[0;32mreturn\u001b[0m \u001b[0mwrap\u001b[0m\u001b[0;34m(\u001b[0m\u001b[0mainv\u001b[0m\u001b[0;34m.\u001b[0m\u001b[0mastype\u001b[0m\u001b[0;34m(\u001b[0m\u001b[0mresult_t\u001b[0m\u001b[0;34m,\u001b[0m \u001b[0mcopy\u001b[0m\u001b[0;34m=\u001b[0m\u001b[0;32mFalse\u001b[0m\u001b[0;34m)\u001b[0m\u001b[0;34m)\u001b[0m\u001b[0;34m\u001b[0m\u001b[0;34m\u001b[0m\u001b[0m\n\u001b[1;32m    563\u001b[0m \u001b[0;34m\u001b[0m\u001b[0m\n",
            "\u001b[0;32m/usr/local/lib/python3.10/dist-packages/numpy/linalg/linalg.py\u001b[0m in \u001b[0;36m_raise_linalgerror_singular\u001b[0;34m(err, flag)\u001b[0m\n\u001b[1;32m    110\u001b[0m \u001b[0;34m\u001b[0m\u001b[0m\n\u001b[1;32m    111\u001b[0m \u001b[0;32mdef\u001b[0m \u001b[0m_raise_linalgerror_singular\u001b[0m\u001b[0;34m(\u001b[0m\u001b[0merr\u001b[0m\u001b[0;34m,\u001b[0m \u001b[0mflag\u001b[0m\u001b[0;34m)\u001b[0m\u001b[0;34m:\u001b[0m\u001b[0;34m\u001b[0m\u001b[0;34m\u001b[0m\u001b[0m\n\u001b[0;32m--> 112\u001b[0;31m     \u001b[0;32mraise\u001b[0m \u001b[0mLinAlgError\u001b[0m\u001b[0;34m(\u001b[0m\u001b[0;34m\"Singular matrix\"\u001b[0m\u001b[0;34m)\u001b[0m\u001b[0;34m\u001b[0m\u001b[0;34m\u001b[0m\u001b[0m\n\u001b[0m\u001b[1;32m    113\u001b[0m \u001b[0;34m\u001b[0m\u001b[0m\n\u001b[1;32m    114\u001b[0m \u001b[0;32mdef\u001b[0m \u001b[0m_raise_linalgerror_nonposdef\u001b[0m\u001b[0;34m(\u001b[0m\u001b[0merr\u001b[0m\u001b[0;34m,\u001b[0m \u001b[0mflag\u001b[0m\u001b[0;34m)\u001b[0m\u001b[0;34m:\u001b[0m\u001b[0;34m\u001b[0m\u001b[0;34m\u001b[0m\u001b[0m\n",
            "\u001b[0;31mLinAlgError\u001b[0m: Singular matrix"
          ]
        }
      ]
    },
    {
      "cell_type": "code",
      "source": [
        "case4_XTX = np.dot(case4_X.transpose(), case4_X)\n",
        "check_invertibility(case4_XTX)"
      ],
      "metadata": {
        "colab": {
          "base_uri": "https://localhost:8080/"
        },
        "id": "2RFA0AH9lQlx",
        "outputId": "083c1425-ff0a-439a-ae84-dc36d8ee86ca"
      },
      "execution_count": 49,
      "outputs": [
        {
          "output_type": "execute_result",
          "data": {
            "text/plain": [
              "(90.05579799653138, True, True)"
            ]
          },
          "metadata": {},
          "execution_count": 49
        }
      ]
    },
    {
      "cell_type": "markdown",
      "source": [
        "- Case4: Covariance matrix is singular/ has very high condition number"
      ],
      "metadata": {
        "id": "QaslSGRTcyPO"
      }
    },
    {
      "cell_type": "markdown",
      "source": [
        "Conclusion:\n",
        "1. Case1: # rows > # features and columns are not collinear => COV/ CORR: Invertible, XTX Invertible\n",
        "2. Case3: # rows > # features AND columns are collinear/ linearly dependent => COV/ CORR: Non Invertible, XTX Non invertible\n",
        "3. Case 4: # rows > # features AND a column is merely centered OR standardized version of another column => COV/ CORR: Non Invertible, XTX Invertible\n",
        "4. Case2: # rows < # features => COV/ CORR: Non Invertible, XTX Non invertible\n",
        "\n"
      ],
      "metadata": {
        "id": "wmbP6if9dbJh"
      }
    },
    {
      "cell_type": "markdown",
      "source": [
        "## Can adding some noise to XTX along diagnal make singular matrix to non singular??"
      ],
      "metadata": {
        "id": "PRuE1yHSmAXb"
      }
    },
    {
      "cell_type": "code",
      "source": [
        "lambda_val = 0.01"
      ],
      "metadata": {
        "id": "usUbmf3_mUTO"
      },
      "execution_count": 50,
      "outputs": []
    },
    {
      "cell_type": "markdown",
      "source": [
        "## Case 1: Adding some noise along diagnal makes matrix invertible"
      ],
      "metadata": {
        "id": "3nFRs76XmnHX"
      }
    },
    {
      "cell_type": "code",
      "source": [
        "check_invertibility(case1_cov_matrix + lambda_val*np.eye(case1_cov_matrix.shape[0]))"
      ],
      "metadata": {
        "colab": {
          "base_uri": "https://localhost:8080/"
        },
        "id": "ws7ASSJemHzL",
        "outputId": "d4c65366-c7e3-4050-a1b0-23dd31a48def"
      },
      "execution_count": 51,
      "outputs": [
        {
          "output_type": "execute_result",
          "data": {
            "text/plain": [
              "(21.919847227861844, True, True)"
            ]
          },
          "metadata": {},
          "execution_count": 51
        }
      ]
    },
    {
      "cell_type": "code",
      "source": [
        "check_invertibility(case1_corr_matrix + lambda_val*np.eye(case1_corr_matrix.shape[0]))"
      ],
      "metadata": {
        "colab": {
          "base_uri": "https://localhost:8080/"
        },
        "id": "Y6pbh8xMmdYt",
        "outputId": "051731af-df34-4d2f-ce0a-69222be38efb"
      },
      "execution_count": 52,
      "outputs": [
        {
          "output_type": "execute_result",
          "data": {
            "text/plain": [
              "(45.50945476773307, True, True)"
            ]
          },
          "metadata": {},
          "execution_count": 52
        }
      ]
    },
    {
      "cell_type": "code",
      "source": [
        "## case1_corr_matrix_using_scaler\n",
        "check_invertibility(case1_corr_matrix_using_scaler + lambda_val*np.eye(case1_corr_matrix_using_scaler.shape[0]))"
      ],
      "metadata": {
        "colab": {
          "base_uri": "https://localhost:8080/"
        },
        "id": "OrMlIwPBuu1X",
        "outputId": "6baa4fcc-f276-48f1-ddc7-a2f9e5782e86"
      },
      "execution_count": 53,
      "outputs": [
        {
          "output_type": "execute_result",
          "data": {
            "text/plain": [
              "(45.50945476773315, True, True)"
            ]
          },
          "metadata": {},
          "execution_count": 53
        }
      ]
    },
    {
      "cell_type": "code",
      "source": [
        "check_invertibility(case1_XTX + lambda_val*np.eye(case1_XTX.shape[0]))"
      ],
      "metadata": {
        "colab": {
          "base_uri": "https://localhost:8080/"
        },
        "id": "FZo1a0eVn8kk",
        "outputId": "2c5d83ea-abde-4f1c-897b-373b5a55cee8"
      },
      "execution_count": 54,
      "outputs": [
        {
          "output_type": "execute_result",
          "data": {
            "text/plain": [
              "(76.736051868382, True, True)"
            ]
          },
          "metadata": {},
          "execution_count": 54
        }
      ]
    },
    {
      "cell_type": "markdown",
      "source": [
        "## Case 2: Adding some noise along diagnal makes matrix invertible"
      ],
      "metadata": {
        "id": "8rwrzQPtmtGB"
      }
    },
    {
      "cell_type": "code",
      "source": [
        "check_invertibility(case2_cov_matrix + lambda_val*np.eye(case2_cov_matrix.shape[0]))"
      ],
      "metadata": {
        "colab": {
          "base_uri": "https://localhost:8080/"
        },
        "id": "NPd05ys_mYpz",
        "outputId": "c0faba16-98c7-4ddb-b8bd-a4b6062245a7"
      },
      "execution_count": 55,
      "outputs": [
        {
          "output_type": "execute_result",
          "data": {
            "text/plain": [
              "(33.928320115151664, True, True)"
            ]
          },
          "metadata": {},
          "execution_count": 55
        }
      ]
    },
    {
      "cell_type": "code",
      "source": [
        "check_invertibility(case2_corr_matrix + lambda_val*np.eye(case2_corr_matrix.shape[0]))"
      ],
      "metadata": {
        "colab": {
          "base_uri": "https://localhost:8080/"
        },
        "id": "2scveCHsmiCg",
        "outputId": "183ed477-acde-4ad2-a65c-8d41bba87ab3"
      },
      "execution_count": 56,
      "outputs": [
        {
          "output_type": "execute_result",
          "data": {
            "text/plain": [
              "(392.750416812755, True, True)"
            ]
          },
          "metadata": {},
          "execution_count": 56
        }
      ]
    },
    {
      "cell_type": "code",
      "source": [
        "check_invertibility(case2_corr_matrix_using_scaler + lambda_val*np.eye(case2_corr_matrix_using_scaler.shape[0]))"
      ],
      "metadata": {
        "colab": {
          "base_uri": "https://localhost:8080/"
        },
        "id": "n0XCQeNVtyYn",
        "outputId": "06d05422-55ce-47ee-9268-8588b2110418"
      },
      "execution_count": 57,
      "outputs": [
        {
          "output_type": "execute_result",
          "data": {
            "text/plain": [
              "(392.75041681275087, True, True)"
            ]
          },
          "metadata": {},
          "execution_count": 57
        }
      ]
    },
    {
      "cell_type": "code",
      "source": [
        "check_invertibility(case2_XTX + lambda_val*np.eye(case2_XTX.shape[0]))"
      ],
      "metadata": {
        "colab": {
          "base_uri": "https://localhost:8080/"
        },
        "id": "qOQgTlynoILj",
        "outputId": "d90fe3c3-93e2-4808-d191-fec0317e4173"
      },
      "execution_count": 58,
      "outputs": [
        {
          "output_type": "execute_result",
          "data": {
            "text/plain": [
              "(1006514.138416777, True, True)"
            ]
          },
          "metadata": {},
          "execution_count": 58
        }
      ]
    },
    {
      "cell_type": "markdown",
      "source": [
        "## Case 3: Adding some noise along diagnal makes matrix invertible"
      ],
      "metadata": {
        "id": "620z2VazoT3x"
      }
    },
    {
      "cell_type": "code",
      "source": [
        "check_invertibility(case3_cov_matrix + lambda_val*np.eye(case3_cov_matrix.shape[0]))"
      ],
      "metadata": {
        "colab": {
          "base_uri": "https://localhost:8080/"
        },
        "id": "oi-i3gtaoVMu",
        "outputId": "49896778-51e2-475e-d8d6-7e43a73a7f07"
      },
      "execution_count": 59,
      "outputs": [
        {
          "output_type": "execute_result",
          "data": {
            "text/plain": [
              "(27.99681188686429, True, True)"
            ]
          },
          "metadata": {},
          "execution_count": 59
        }
      ]
    },
    {
      "cell_type": "code",
      "source": [
        "check_invertibility(case3_corr_matrix + lambda_val*np.eye(case3_corr_matrix.shape[0]))"
      ],
      "metadata": {
        "colab": {
          "base_uri": "https://localhost:8080/"
        },
        "id": "j4C-nyYqor0j",
        "outputId": "90b2db16-1a4a-4ec0-d0a9-5f9809944f41"
      },
      "execution_count": 60,
      "outputs": [
        {
          "output_type": "execute_result",
          "data": {
            "text/plain": [
              "(210.40816442207904, True, True)"
            ]
          },
          "metadata": {},
          "execution_count": 60
        }
      ]
    },
    {
      "cell_type": "code",
      "source": [
        "## case3_corr_matrix_using_scaler\n",
        "check_invertibility(case3_corr_matrix_using_scaler + lambda_val*np.eye(case3_corr_matrix_using_scaler.shape[0]))"
      ],
      "metadata": {
        "colab": {
          "base_uri": "https://localhost:8080/"
        },
        "id": "aas_KGdJuGw6",
        "outputId": "621ab98a-5124-4c2e-fff4-3bdd8a700647"
      },
      "execution_count": 61,
      "outputs": [
        {
          "output_type": "execute_result",
          "data": {
            "text/plain": [
              "(210.40816442208134, True, True)"
            ]
          },
          "metadata": {},
          "execution_count": 61
        }
      ]
    },
    {
      "cell_type": "code",
      "source": [
        "check_invertibility(case3_XTX + lambda_val*np.eye(case3_XTX.shape[0]))"
      ],
      "metadata": {
        "colab": {
          "base_uri": "https://localhost:8080/"
        },
        "id": "wTqKWCZnowey",
        "outputId": "9e9210f8-0ded-472d-e174-5065fdbbbc72"
      },
      "execution_count": 62,
      "outputs": [
        {
          "output_type": "execute_result",
          "data": {
            "text/plain": [
              "(19686.952347091, True, True)"
            ]
          },
          "metadata": {},
          "execution_count": 62
        }
      ]
    },
    {
      "cell_type": "markdown",
      "source": [
        "## Case 4: Adding some noise along diagnal makes matrix invertible"
      ],
      "metadata": {
        "id": "wTltBagDo0zl"
      }
    },
    {
      "cell_type": "code",
      "source": [
        "check_invertibility(case4_cov_matrix + lambda_val*np.eye(case4_cov_matrix.shape[0]))"
      ],
      "metadata": {
        "colab": {
          "base_uri": "https://localhost:8080/"
        },
        "id": "R0o956Peo2KN",
        "outputId": "c3245496-322a-4181-f11c-822d3333b068"
      },
      "execution_count": 63,
      "outputs": [
        {
          "output_type": "execute_result",
          "data": {
            "text/plain": [
              "(19.159176287602026, True, True)"
            ]
          },
          "metadata": {},
          "execution_count": 63
        }
      ]
    },
    {
      "cell_type": "code",
      "source": [
        "check_invertibility(case4_corr_matrix + lambda_val*np.eye(case4_corr_matrix.shape[0]))"
      ],
      "metadata": {
        "colab": {
          "base_uri": "https://localhost:8080/"
        },
        "id": "u0uSCmHBo4kT",
        "outputId": "c7b3c31f-6913-429b-b697-ef4e1c20aa1a"
      },
      "execution_count": 64,
      "outputs": [
        {
          "output_type": "execute_result",
          "data": {
            "text/plain": [
              "(214.88108655091278, True, True)"
            ]
          },
          "metadata": {},
          "execution_count": 64
        }
      ]
    },
    {
      "cell_type": "code",
      "source": [
        "## case4_corr_matrix_using_scaler\n",
        "check_invertibility(case4_corr_matrix_using_scaler + lambda_val*np.eye(case4_corr_matrix_using_scaler.shape[0]))"
      ],
      "metadata": {
        "colab": {
          "base_uri": "https://localhost:8080/"
        },
        "id": "Q9bWxlvOualz",
        "outputId": "e3fe9110-47c9-4869-e32e-405793b53e72"
      },
      "execution_count": 65,
      "outputs": [
        {
          "output_type": "execute_result",
          "data": {
            "text/plain": [
              "(214.88108655091577, True, True)"
            ]
          },
          "metadata": {},
          "execution_count": 65
        }
      ]
    },
    {
      "cell_type": "code",
      "source": [
        "check_invertibility(case4_XTX + lambda_val*np.eye(case4_XTX.shape[0]))"
      ],
      "metadata": {
        "colab": {
          "base_uri": "https://localhost:8080/"
        },
        "id": "SNjxByBko7vr",
        "outputId": "ac0503ea-435b-4a85-859e-b3acdbecacdc"
      },
      "execution_count": 66,
      "outputs": [
        {
          "output_type": "execute_result",
          "data": {
            "text/plain": [
              "(89.31476956371614, True, True)"
            ]
          },
          "metadata": {},
          "execution_count": 66
        }
      ]
    },
    {
      "cell_type": "markdown",
      "source": [
        "- This shows that adding noise long diagnol makes previously singular matrices not singular."
      ],
      "metadata": {
        "id": "6pvZe4aQpBiT"
      }
    },
    {
      "cell_type": "markdown",
      "source": [
        "# Linear Regression (OLS)\n",
        "- https://machinelearningcompass.com/machine_learning_models/linear_regression/"
      ],
      "metadata": {
        "id": "-Du4Ym4PwWLc"
      }
    },
    {
      "cell_type": "code",
      "source": [
        "from sklearn.datasets import make_regression\n",
        "import seaborn as sns\n",
        "import matplotlib.pyplot as plt"
      ],
      "metadata": {
        "id": "b5h6jLx3waK8"
      },
      "execution_count": 67,
      "outputs": []
    },
    {
      "cell_type": "code",
      "source": [
        "X, y = make_regression(n_samples=20, n_features=1, noise=20, bias=100, random_state=42)\n",
        "gt_df = pd.DataFrame({\"feature_1\": X.reshape(-1,), \"y\": y, \"type\": \"gt\"})\n",
        "print(f\"Shape of X: {X.shape}\")\n",
        "print(f\"Shape of y: {y.shape}\")"
      ],
      "metadata": {
        "colab": {
          "base_uri": "https://localhost:8080/"
        },
        "id": "eX0nKmTarh3a",
        "outputId": "4b90a739-aac7-4274-a6e4-325ada29fa32"
      },
      "execution_count": 68,
      "outputs": [
        {
          "output_type": "stream",
          "name": "stdout",
          "text": [
            "Shape of X: (20, 1)\n",
            "Shape of y: (20,)\n"
          ]
        }
      ]
    },
    {
      "cell_type": "code",
      "source": [
        "sns.scatterplot(data=gt_df, x=\"feature_1\", y=\"y\")"
      ],
      "metadata": {
        "colab": {
          "base_uri": "https://localhost:8080/",
          "height": 468
        },
        "id": "otJPgqsprh5e",
        "outputId": "d0c22058-c49b-4655-af84-eaa4163d8320"
      },
      "execution_count": 69,
      "outputs": [
        {
          "output_type": "execute_result",
          "data": {
            "text/plain": [
              "<Axes: xlabel='feature_1', ylabel='y'>"
            ]
          },
          "metadata": {},
          "execution_count": 69
        },
        {
          "output_type": "display_data",
          "data": {
            "text/plain": [
              "<Figure size 640x480 with 1 Axes>"
            ],
            "image/png": "[encoded data removed]"
          },
          "metadata": {}
        }
      ]
    },
    {
      "cell_type": "code",
      "source": [
        "beta_ols = np.dot(inv(np.dot (X.transpose(), X)), np.dot(X.transpose(),y.reshape(y.shape[0], 1)))"
      ],
      "metadata": {
        "id": "dlqo6KwdSVBF"
      },
      "execution_count": 70,
      "outputs": []
    },
    {
      "cell_type": "code",
      "source": [
        "beta_ols"
      ],
      "metadata": {
        "colab": {
          "base_uri": "https://localhost:8080/"
        },
        "id": "fZMhNf5PYOMx",
        "outputId": "da557b3d-ad59-4da9-f9b9-9d3c9d0c618d"
      },
      "execution_count": 71,
      "outputs": [
        {
          "output_type": "execute_result",
          "data": {
            "text/plain": [
              "array([[25.87673055]])"
            ]
          },
          "metadata": {},
          "execution_count": 71
        }
      ]
    },
    {
      "cell_type": "code",
      "source": [
        "prediction_ols = np.dot(X, beta_ols)\n",
        "print(f\"Shape of prediction_ols: {prediction_ols.shape}\")"
      ],
      "metadata": {
        "colab": {
          "base_uri": "https://localhost:8080/"
        },
        "id": "-fy9pa9lTK_T",
        "outputId": "2e85e556-75e9-4167-b682-0c3f4800c191"
      },
      "execution_count": 72,
      "outputs": [
        {
          "output_type": "stream",
          "name": "stdout",
          "text": [
            "Shape of prediction_ols: (20, 1)\n"
          ]
        }
      ]
    },
    {
      "cell_type": "code",
      "source": [
        "ols_prediction_df = pd.DataFrame({\"feature_1\": X.reshape(-1,), \"y\": prediction_ols.reshape(-1,), \"type\": \"ols_prediction\"})"
      ],
      "metadata": {
        "id": "0ILOpqE4TLBh"
      },
      "execution_count": 73,
      "outputs": []
    },
    {
      "cell_type": "code",
      "source": [
        "concat_ols_prediction_df = pd.concat([gt_df, ols_prediction_df], axis=0)"
      ],
      "metadata": {
        "id": "pqTSo8VXThFg"
      },
      "execution_count": 74,
      "outputs": []
    },
    {
      "cell_type": "code",
      "source": [
        "fig, axes = plt.subplots(1,1)\n",
        "sns.scatterplot(data=concat_ols_prediction_df, x=\"feature_1\", y=\"y\", hue=\"type\", ax=axes)\n",
        "axes.axhline(0, color='r', linestyle=\"--\")\n",
        "axes.axvline(0, color='r', linestyle=\"--\")"
      ],
      "metadata": {
        "colab": {
          "base_uri": "https://localhost:8080/",
          "height": 468
        },
        "id": "m3G8rGdpUqUc",
        "outputId": "f3770e06-adb3-4428-83ea-1d2368f8722f"
      },
      "execution_count": 75,
      "outputs": [
        {
          "output_type": "execute_result",
          "data": {
            "text/plain": [
              "<matplotlib.lines.Line2D at 0x7c1024453550>"
            ]
          },
          "metadata": {},
          "execution_count": 75
        },
        {
          "output_type": "display_data",
          "data": {
            "text/plain": [
              "<Figure size 640x480 with 1 Axes>"
            ],
            "image/png": "[encoded data removed]"
          },
          "metadata": {}
        }
      ]
    },
    {
      "cell_type": "markdown",
      "source": [
        "- If there is no bias term, the model is forced to pass through origin"
      ],
      "metadata": {
        "id": "qDn1DaSyWcB7"
      }
    },
    {
      "cell_type": "code",
      "source": [
        "sm.OLS(y,X).fit().summary()"
      ],
      "metadata": {
        "colab": {
          "base_uri": "https://localhost:8080/",
          "height": 448
        },
        "id": "mAja57PVgZWI",
        "outputId": "41f47ebe-6896-4826-c295-e46a098723f8"
      },
      "execution_count": 76,
      "outputs": [
        {
          "output_type": "execute_result",
          "data": {
            "text/plain": [
              "<class 'statsmodels.iolib.summary.Summary'>\n",
              "\"\"\"\n",
              "                                 OLS Regression Results                                \n",
              "=======================================================================================\n",
              "Dep. Variable:                      y   R-squared (uncentered):                   0.052\n",
              "Model:                            OLS   Adj. R-squared (uncentered):              0.002\n",
              "Method:                 Least Squares   F-statistic:                              1.041\n",
              "Date:                Sun, 04 Aug 2024   Prob (F-statistic):                       0.320\n",
              "Time:                        03:00:53   Log-Likelihood:                         -121.49\n",
              "No. Observations:                  20   AIC:                                      245.0\n",
              "Df Residuals:                      19   BIC:                                      246.0\n",
              "Df Model:                           1                                                  \n",
              "Covariance Type:            nonrobust                                                  \n",
              "==============================================================================\n",
              "                 coef    std err          t      P>|t|      [0.025      0.975]\n",
              "------------------------------------------------------------------------------\n",
              "x1            25.8767     25.364      1.020      0.320     -27.210      78.964\n",
              "==============================================================================\n",
              "Omnibus:                        0.493   Durbin-Watson:                   0.129\n",
              "Prob(Omnibus):                  0.781   Jarque-Bera (JB):                0.490\n",
              "Skew:                           0.315   Prob(JB):                        0.783\n",
              "Kurtosis:                       2.564   Cond. No.                         1.00\n",
              "==============================================================================\n",
              "\n",
              "Notes:\n",
              "[1] R² is computed without centering (uncentered) since the model does not contain a constant.\n",
              "[2] Standard Errors assume that the covariance matrix of the errors is correctly specified.\n",
              "\"\"\""
            ],
            "text/html": [
              "<table class=\"simpletable\">\n",
              "<caption>OLS Regression Results</caption>\n",
              "<tr>\n",
              "  <th>Dep. Variable:</th>            <td>y</td>        <th>  R-squared (uncentered):</th>      <td>   0.052</td>\n",
              "</tr>\n",
              "<tr>\n",
              "  <th>Model:</th>                   <td>OLS</td>       <th>  Adj. R-squared (uncentered):</th> <td>   0.002</td>\n",
              "</tr>\n",
              "<tr>\n",
              "  <th>Method:</th>             <td>Least Squares</td>  <th>  F-statistic:       </th>          <td>   1.041</td>\n",
              "</tr>\n",
              "<tr>\n",
              "  <th>Date:</th>             <td>Sun, 04 Aug 2024</td> <th>  Prob (F-statistic):</th>           <td> 0.320</td> \n",
              "</tr>\n",
              "<tr>\n",
              "  <th>Time:</th>                 <td>03:00:53</td>     <th>  Log-Likelihood:    </th>          <td> -121.49</td>\n",
              "</tr>\n",
              "<tr>\n",
              "  <th>No. Observations:</th>      <td>    20</td>      <th>  AIC:               </th>          <td>   245.0</td>\n",
              "</tr>\n",
              "<tr>\n",
              "  <th>Df Residuals:</th>          <td>    19</td>      <th>  BIC:               </th>          <td>   246.0</td>\n",
              "</tr>\n",
              "<tr>\n",
              "  <th>Df Model:</th>              <td>     1</td>      <th>                     </th>              <td> </td>   \n",
              "</tr>\n",
              "<tr>\n",
              "  <th>Covariance Type:</th>      <td>nonrobust</td>    <th>                     </th>              <td> </td>   \n",
              "</tr>\n",
              "</table>\n",
              "<table class=\"simpletable\">\n",
              "<tr>\n",
              "   <td></td>     <th>coef</th>     <th>std err</th>      <th>t</th>      <th>P>|t|</th>  <th>[0.025</th>    <th>0.975]</th>  \n",
              "</tr>\n",
              "<tr>\n",
              "  <th>x1</th> <td>   25.8767</td> <td>   25.364</td> <td>    1.020</td> <td> 0.320</td> <td>  -27.210</td> <td>   78.964</td>\n",
              "</tr>\n",
              "</table>\n",
              "<table class=\"simpletable\">\n",
              "<tr>\n",
              "  <th>Omnibus:</th>       <td> 0.493</td> <th>  Durbin-Watson:     </th> <td>   0.129</td>\n",
              "</tr>\n",
              "<tr>\n",
              "  <th>Prob(Omnibus):</th> <td> 0.781</td> <th>  Jarque-Bera (JB):  </th> <td>   0.490</td>\n",
              "</tr>\n",
              "<tr>\n",
              "  <th>Skew:</th>          <td> 0.315</td> <th>  Prob(JB):          </th> <td>   0.783</td>\n",
              "</tr>\n",
              "<tr>\n",
              "  <th>Kurtosis:</th>      <td> 2.564</td> <th>  Cond. No.          </th> <td>    1.00</td>\n",
              "</tr>\n",
              "</table><br/><br/>Notes:<br/>[1] R² is computed without centering (uncentered) since the model does not contain a constant.<br/>[2] Standard Errors assume that the covariance matrix of the errors is correctly specified."
            ],
            "text/latex": "\\begin{center}\n\\begin{tabular}{lclc}\n\\toprule\n\\textbf{Dep. Variable:}    &        y         & \\textbf{  R-squared (uncentered):}      &     0.052   \\\\\n\\textbf{Model:}            &       OLS        & \\textbf{  Adj. R-squared (uncentered):} &     0.002   \\\\\n\\textbf{Method:}           &  Least Squares   & \\textbf{  F-statistic:       }          &     1.041   \\\\\n\\textbf{Date:}             & Sun, 04 Aug 2024 & \\textbf{  Prob (F-statistic):}          &    0.320    \\\\\n\\textbf{Time:}             &     03:00:53     & \\textbf{  Log-Likelihood:    }          &   -121.49   \\\\\n\\textbf{No. Observations:} &          20      & \\textbf{  AIC:               }          &     245.0   \\\\\n\\textbf{Df Residuals:}     &          19      & \\textbf{  BIC:               }          &     246.0   \\\\\n\\textbf{Df Model:}         &           1      & \\textbf{                     }          &             \\\\\n\\textbf{Covariance Type:}  &    nonrobust     & \\textbf{                     }          &             \\\\\n\\bottomrule\n\\end{tabular}\n\\begin{tabular}{lcccccc}\n            & \\textbf{coef} & \\textbf{std err} & \\textbf{t} & \\textbf{P$> |$t$|$} & \\textbf{[0.025} & \\textbf{0.975]}  \\\\\n\\midrule\n\\textbf{x1} &      25.8767  &       25.364     &     1.020  &         0.320        &      -27.210    &       78.964     \\\\\n\\bottomrule\n\\end{tabular}\n\\begin{tabular}{lclc}\n\\textbf{Omnibus:}       &  0.493 & \\textbf{  Durbin-Watson:     } &    0.129  \\\\\n\\textbf{Prob(Omnibus):} &  0.781 & \\textbf{  Jarque-Bera (JB):  } &    0.490  \\\\\n\\textbf{Skew:}          &  0.315 & \\textbf{  Prob(JB):          } &    0.783  \\\\\n\\textbf{Kurtosis:}      &  2.564 & \\textbf{  Cond. No.          } &     1.00  \\\\\n\\bottomrule\n\\end{tabular}\n%\\caption{OLS Regression Results}\n\\end{center}\n\nNotes: \\newline\n [1] R² is computed without centering (uncentered) since the model does not contain a constant. \\newline\n [2] Standard Errors assume that the covariance matrix of the errors is correctly specified."
          },
          "metadata": {},
          "execution_count": 76
        }
      ]
    },
    {
      "cell_type": "markdown",
      "source": [
        "## Way 1: Do not centre variables BUT add bias\n",
        "## Why add bias: https://stackoverflow.com/questions/60726185/in-what-circumstances-might-using-biases-in-a-neural-network-not-be-beneficial#:~:text=It%20is%20clearer%20to%20see,process%20is%20Y%3D3000)."
      ],
      "metadata": {
        "id": "Vf0cyomhZb-I"
      }
    },
    {
      "cell_type": "code",
      "source": [
        "## Since the data is not centered, add bias term to let model learn its value\n",
        "X_with_bias = np.hstack((X, np.ones((X.shape[0], 1))))\n",
        "print(f\"Shape of X_with_bias: {X_with_bias.shape}\")"
      ],
      "metadata": {
        "colab": {
          "base_uri": "https://localhost:8080/"
        },
        "id": "Z6VSIsaHTj32",
        "outputId": "8bac93e7-be3d-43e6-b182-1dfa8735fe52"
      },
      "execution_count": 77,
      "outputs": [
        {
          "output_type": "stream",
          "name": "stdout",
          "text": [
            "Shape of X_with_bias: (20, 2)\n"
          ]
        }
      ]
    },
    {
      "cell_type": "code",
      "source": [
        "beta_ols_with_bias = np.dot(inv(np.dot(X_with_bias.transpose(), X_with_bias)), np.dot(X_with_bias.transpose(), y))\n",
        "print(f\"Shape of beta_ols_with_bias: {beta_ols_with_bias.shape}\")"
      ],
      "metadata": {
        "colab": {
          "base_uri": "https://localhost:8080/"
        },
        "id": "cP7u00vQTj6I",
        "outputId": "045bfff4-e6f3-4686-b7ca-e143875bd9a5"
      },
      "execution_count": 78,
      "outputs": [
        {
          "output_type": "stream",
          "name": "stdout",
          "text": [
            "Shape of beta_ols_with_bias: (2,)\n"
          ]
        }
      ]
    },
    {
      "cell_type": "code",
      "source": [
        "beta_ols_with_bias"
      ],
      "metadata": {
        "colab": {
          "base_uri": "https://localhost:8080/"
        },
        "id": "TzjRaqYfZO_s",
        "outputId": "8ddde2ef-c6c5-42b5-f36e-21eea230805e"
      },
      "execution_count": 79,
      "outputs": [
        {
          "output_type": "execute_result",
          "data": {
            "text/plain": [
              "array([ 45.71245144, 104.78571437])"
            ]
          },
          "metadata": {},
          "execution_count": 79
        }
      ]
    },
    {
      "cell_type": "code",
      "source": [
        "prediction_ols_with_bias = np.dot(X_with_bias, beta_ols_with_bias)\n",
        "print(f\"Shape of prediction_ols_with_bias: {prediction_ols_with_bias.shape}\")"
      ],
      "metadata": {
        "colab": {
          "base_uri": "https://localhost:8080/"
        },
        "id": "hgafffgFriBe",
        "outputId": "2120f052-3965-43e7-f652-1b85793930cf"
      },
      "execution_count": 80,
      "outputs": [
        {
          "output_type": "stream",
          "name": "stdout",
          "text": [
            "Shape of prediction_ols_with_bias: (20,)\n"
          ]
        }
      ]
    },
    {
      "cell_type": "code",
      "source": [
        "ols_prediction_with_bias_df = pd.DataFrame({\"feature_1\": X.reshape(-1,), \"y\": prediction_ols_with_bias.reshape(-1,), \"type\": \"ols_prediction_with_bias\"})"
      ],
      "metadata": {
        "id": "JoLI6wD5riDk"
      },
      "execution_count": 81,
      "outputs": []
    },
    {
      "cell_type": "code",
      "source": [
        "concat_ols_prediction_with_bias_df = pd.concat([gt_df, ols_prediction_with_bias_df], axis=0)"
      ],
      "metadata": {
        "id": "2D7NsgferiFu"
      },
      "execution_count": 82,
      "outputs": []
    },
    {
      "cell_type": "code",
      "source": [
        "fig, axes = plt.subplots(1,1)\n",
        "sns.scatterplot(data=concat_ols_prediction_with_bias_df, x=\"feature_1\", y=\"y\", hue=\"type\", ax=axes)\n",
        "axes.axhline(0, color='r', linestyle=\"--\")\n",
        "axes.axvline(0, color='r', linestyle=\"--\")"
      ],
      "metadata": {
        "colab": {
          "base_uri": "https://localhost:8080/",
          "height": 468
        },
        "id": "23gU3UchYrvf",
        "outputId": "6188d629-e048-4686-996d-8950d92b93a5"
      },
      "execution_count": 167,
      "outputs": [
        {
          "output_type": "execute_result",
          "data": {
            "text/plain": [
              "<matplotlib.lines.Line2D at 0x7c10227c9c90>"
            ]
          },
          "metadata": {},
          "execution_count": 167
        },
        {
          "output_type": "display_data",
          "data": {
            "text/plain": [
              "<Figure size 640x480 with 1 Axes>"
            ],
            "image/png": "[encoded data removed]"
          },
          "metadata": {}
        }
      ]
    },
    {
      "cell_type": "markdown",
      "source": [
        "- It is clear that that bias helps move the line up or down and not force it through origin. This gives better fit in this case"
      ],
      "metadata": {
        "id": "o7usA3daZq8d"
      }
    },
    {
      "cell_type": "code",
      "source": [
        "## AUtomatically adds constant column for bias\n",
        "model1 = ols('y ~ feature_1', data=gt_df).fit()"
      ],
      "metadata": {
        "id": "92igBe-oriKF"
      },
      "execution_count": 84,
      "outputs": []
    },
    {
      "cell_type": "code",
      "source": [
        "model1.summary()"
      ],
      "metadata": {
        "colab": {
          "base_uri": "https://localhost:8080/",
          "height": 452
        },
        "id": "531JNyM8Z0B6",
        "outputId": "43cdc07f-96c8-46a3-cb5a-14dd424e94b2"
      },
      "execution_count": 85,
      "outputs": [
        {
          "output_type": "execute_result",
          "data": {
            "text/plain": [
              "<class 'statsmodels.iolib.summary.Summary'>\n",
              "\"\"\"\n",
              "                            OLS Regression Results                            \n",
              "==============================================================================\n",
              "Dep. Variable:                      y   R-squared:                       0.807\n",
              "Model:                            OLS   Adj. R-squared:                  0.797\n",
              "Method:                 Least Squares   F-statistic:                     75.38\n",
              "Date:                Sun, 04 Aug 2024   Prob (F-statistic):           7.50e-08\n",
              "Time:                        03:01:24   Log-Likelihood:                -89.176\n",
              "No. Observations:                  20   AIC:                             182.4\n",
              "Df Residuals:                      18   BIC:                             184.3\n",
              "Df Model:                           1                                         \n",
              "Covariance Type:            nonrobust                                         \n",
              "==============================================================================\n",
              "                 coef    std err          t      P>|t|      [0.025      0.975]\n",
              "------------------------------------------------------------------------------\n",
              "Intercept    104.7857      5.009     20.921      0.000      94.263     115.308\n",
              "feature_1     45.7125      5.265      8.682      0.000      34.651      56.774\n",
              "==============================================================================\n",
              "Omnibus:                        5.325   Durbin-Watson:                   1.719\n",
              "Prob(Omnibus):                  0.070   Jarque-Bera (JB):                3.386\n",
              "Skew:                           0.982   Prob(JB):                        0.184\n",
              "Kurtosis:                       3.450   Cond. No.                         1.21\n",
              "==============================================================================\n",
              "\n",
              "Notes:\n",
              "[1] Standard Errors assume that the covariance matrix of the errors is correctly specified.\n",
              "\"\"\""
            ],
            "text/html": [
              "<table class=\"simpletable\">\n",
              "<caption>OLS Regression Results</caption>\n",
              "<tr>\n",
              "  <th>Dep. Variable:</th>            <td>y</td>        <th>  R-squared:         </th> <td>   0.807</td>\n",
              "</tr>\n",
              "<tr>\n",
              "  <th>Model:</th>                   <td>OLS</td>       <th>  Adj. R-squared:    </th> <td>   0.797</td>\n",
              "</tr>\n",
              "<tr>\n",
              "  <th>Method:</th>             <td>Least Squares</td>  <th>  F-statistic:       </th> <td>   75.38</td>\n",
              "</tr>\n",
              "<tr>\n",
              "  <th>Date:</th>             <td>Sun, 04 Aug 2024</td> <th>  Prob (F-statistic):</th> <td>7.50e-08</td>\n",
              "</tr>\n",
              "<tr>\n",
              "  <th>Time:</th>                 <td>03:01:24</td>     <th>  Log-Likelihood:    </th> <td> -89.176</td>\n",
              "</tr>\n",
              "<tr>\n",
              "  <th>No. Observations:</th>      <td>    20</td>      <th>  AIC:               </th> <td>   182.4</td>\n",
              "</tr>\n",
              "<tr>\n",
              "  <th>Df Residuals:</th>          <td>    18</td>      <th>  BIC:               </th> <td>   184.3</td>\n",
              "</tr>\n",
              "<tr>\n",
              "  <th>Df Model:</th>              <td>     1</td>      <th>                     </th>     <td> </td>   \n",
              "</tr>\n",
              "<tr>\n",
              "  <th>Covariance Type:</th>      <td>nonrobust</td>    <th>                     </th>     <td> </td>   \n",
              "</tr>\n",
              "</table>\n",
              "<table class=\"simpletable\">\n",
              "<tr>\n",
              "      <td></td>         <th>coef</th>     <th>std err</th>      <th>t</th>      <th>P>|t|</th>  <th>[0.025</th>    <th>0.975]</th>  \n",
              "</tr>\n",
              "<tr>\n",
              "  <th>Intercept</th> <td>  104.7857</td> <td>    5.009</td> <td>   20.921</td> <td> 0.000</td> <td>   94.263</td> <td>  115.308</td>\n",
              "</tr>\n",
              "<tr>\n",
              "  <th>feature_1</th> <td>   45.7125</td> <td>    5.265</td> <td>    8.682</td> <td> 0.000</td> <td>   34.651</td> <td>   56.774</td>\n",
              "</tr>\n",
              "</table>\n",
              "<table class=\"simpletable\">\n",
              "<tr>\n",
              "  <th>Omnibus:</th>       <td> 5.325</td> <th>  Durbin-Watson:     </th> <td>   1.719</td>\n",
              "</tr>\n",
              "<tr>\n",
              "  <th>Prob(Omnibus):</th> <td> 0.070</td> <th>  Jarque-Bera (JB):  </th> <td>   3.386</td>\n",
              "</tr>\n",
              "<tr>\n",
              "  <th>Skew:</th>          <td> 0.982</td> <th>  Prob(JB):          </th> <td>   0.184</td>\n",
              "</tr>\n",
              "<tr>\n",
              "  <th>Kurtosis:</th>      <td> 3.450</td> <th>  Cond. No.          </th> <td>    1.21</td>\n",
              "</tr>\n",
              "</table><br/><br/>Notes:<br/>[1] Standard Errors assume that the covariance matrix of the errors is correctly specified."
            ],
            "text/latex": "\\begin{center}\n\\begin{tabular}{lclc}\n\\toprule\n\\textbf{Dep. Variable:}    &        y         & \\textbf{  R-squared:         } &     0.807   \\\\\n\\textbf{Model:}            &       OLS        & \\textbf{  Adj. R-squared:    } &     0.797   \\\\\n\\textbf{Method:}           &  Least Squares   & \\textbf{  F-statistic:       } &     75.38   \\\\\n\\textbf{Date:}             & Sun, 04 Aug 2024 & \\textbf{  Prob (F-statistic):} &  7.50e-08   \\\\\n\\textbf{Time:}             &     03:01:24     & \\textbf{  Log-Likelihood:    } &   -89.176   \\\\\n\\textbf{No. Observations:} &          20      & \\textbf{  AIC:               } &     182.4   \\\\\n\\textbf{Df Residuals:}     &          18      & \\textbf{  BIC:               } &     184.3   \\\\\n\\textbf{Df Model:}         &           1      & \\textbf{                     } &             \\\\\n\\textbf{Covariance Type:}  &    nonrobust     & \\textbf{                     } &             \\\\\n\\bottomrule\n\\end{tabular}\n\\begin{tabular}{lcccccc}\n                    & \\textbf{coef} & \\textbf{std err} & \\textbf{t} & \\textbf{P$> |$t$|$} & \\textbf{[0.025} & \\textbf{0.975]}  \\\\\n\\midrule\n\\textbf{Intercept}  &     104.7857  &        5.009     &    20.921  &         0.000        &       94.263    &      115.308     \\\\\n\\textbf{feature\\_1} &      45.7125  &        5.265     &     8.682  &         0.000        &       34.651    &       56.774     \\\\\n\\bottomrule\n\\end{tabular}\n\\begin{tabular}{lclc}\n\\textbf{Omnibus:}       &  5.325 & \\textbf{  Durbin-Watson:     } &    1.719  \\\\\n\\textbf{Prob(Omnibus):} &  0.070 & \\textbf{  Jarque-Bera (JB):  } &    3.386  \\\\\n\\textbf{Skew:}          &  0.982 & \\textbf{  Prob(JB):          } &    0.184  \\\\\n\\textbf{Kurtosis:}      &  3.450 & \\textbf{  Cond. No.          } &     1.21  \\\\\n\\bottomrule\n\\end{tabular}\n%\\caption{OLS Regression Results}\n\\end{center}\n\nNotes: \\newline\n [1] Standard Errors assume that the covariance matrix of the errors is correctly specified."
          },
          "metadata": {},
          "execution_count": 85
        }
      ]
    },
    {
      "cell_type": "markdown",
      "source": [
        "- Coefficients from beta_ols_with_bias and statsmodels library match"
      ],
      "metadata": {
        "id": "XkdzfcNKaV3F"
      }
    },
    {
      "cell_type": "code",
      "source": [
        "sm.OLS(y,sm.add_constant(X), hasconst=True).fit().summary()"
      ],
      "metadata": {
        "colab": {
          "base_uri": "https://localhost:8080/",
          "height": 452
        },
        "id": "FoecwIngagPo",
        "outputId": "ece0f325-fec7-4170-bd13-e1ff4d446457"
      },
      "execution_count": 86,
      "outputs": [
        {
          "output_type": "execute_result",
          "data": {
            "text/plain": [
              "<class 'statsmodels.iolib.summary.Summary'>\n",
              "\"\"\"\n",
              "                            OLS Regression Results                            \n",
              "==============================================================================\n",
              "Dep. Variable:                      y   R-squared:                       0.807\n",
              "Model:                            OLS   Adj. R-squared:                  0.797\n",
              "Method:                 Least Squares   F-statistic:                     75.38\n",
              "Date:                Sun, 04 Aug 2024   Prob (F-statistic):           7.50e-08\n",
              "Time:                        03:01:29   Log-Likelihood:                -89.176\n",
              "No. Observations:                  20   AIC:                             182.4\n",
              "Df Residuals:                      18   BIC:                             184.3\n",
              "Df Model:                           1                                         \n",
              "Covariance Type:            nonrobust                                         \n",
              "==============================================================================\n",
              "                 coef    std err          t      P>|t|      [0.025      0.975]\n",
              "------------------------------------------------------------------------------\n",
              "const        104.7857      5.009     20.921      0.000      94.263     115.308\n",
              "x1            45.7125      5.265      8.682      0.000      34.651      56.774\n",
              "==============================================================================\n",
              "Omnibus:                        5.325   Durbin-Watson:                   1.719\n",
              "Prob(Omnibus):                  0.070   Jarque-Bera (JB):                3.386\n",
              "Skew:                           0.982   Prob(JB):                        0.184\n",
              "Kurtosis:                       3.450   Cond. No.                         1.21\n",
              "==============================================================================\n",
              "\n",
              "Notes:\n",
              "[1] Standard Errors assume that the covariance matrix of the errors is correctly specified.\n",
              "\"\"\""
            ],
            "text/html": [
              "<table class=\"simpletable\">\n",
              "<caption>OLS Regression Results</caption>\n",
              "<tr>\n",
              "  <th>Dep. Variable:</th>            <td>y</td>        <th>  R-squared:         </th> <td>   0.807</td>\n",
              "</tr>\n",
              "<tr>\n",
              "  <th>Model:</th>                   <td>OLS</td>       <th>  Adj. R-squared:    </th> <td>   0.797</td>\n",
              "</tr>\n",
              "<tr>\n",
              "  <th>Method:</th>             <td>Least Squares</td>  <th>  F-statistic:       </th> <td>   75.38</td>\n",
              "</tr>\n",
              "<tr>\n",
              "  <th>Date:</th>             <td>Sun, 04 Aug 2024</td> <th>  Prob (F-statistic):</th> <td>7.50e-08</td>\n",
              "</tr>\n",
              "<tr>\n",
              "  <th>Time:</th>                 <td>03:01:29</td>     <th>  Log-Likelihood:    </th> <td> -89.176</td>\n",
              "</tr>\n",
              "<tr>\n",
              "  <th>No. Observations:</th>      <td>    20</td>      <th>  AIC:               </th> <td>   182.4</td>\n",
              "</tr>\n",
              "<tr>\n",
              "  <th>Df Residuals:</th>          <td>    18</td>      <th>  BIC:               </th> <td>   184.3</td>\n",
              "</tr>\n",
              "<tr>\n",
              "  <th>Df Model:</th>              <td>     1</td>      <th>                     </th>     <td> </td>   \n",
              "</tr>\n",
              "<tr>\n",
              "  <th>Covariance Type:</th>      <td>nonrobust</td>    <th>                     </th>     <td> </td>   \n",
              "</tr>\n",
              "</table>\n",
              "<table class=\"simpletable\">\n",
              "<tr>\n",
              "    <td></td>       <th>coef</th>     <th>std err</th>      <th>t</th>      <th>P>|t|</th>  <th>[0.025</th>    <th>0.975]</th>  \n",
              "</tr>\n",
              "<tr>\n",
              "  <th>const</th> <td>  104.7857</td> <td>    5.009</td> <td>   20.921</td> <td> 0.000</td> <td>   94.263</td> <td>  115.308</td>\n",
              "</tr>\n",
              "<tr>\n",
              "  <th>x1</th>    <td>   45.7125</td> <td>    5.265</td> <td>    8.682</td> <td> 0.000</td> <td>   34.651</td> <td>   56.774</td>\n",
              "</tr>\n",
              "</table>\n",
              "<table class=\"simpletable\">\n",
              "<tr>\n",
              "  <th>Omnibus:</th>       <td> 5.325</td> <th>  Durbin-Watson:     </th> <td>   1.719</td>\n",
              "</tr>\n",
              "<tr>\n",
              "  <th>Prob(Omnibus):</th> <td> 0.070</td> <th>  Jarque-Bera (JB):  </th> <td>   3.386</td>\n",
              "</tr>\n",
              "<tr>\n",
              "  <th>Skew:</th>          <td> 0.982</td> <th>  Prob(JB):          </th> <td>   0.184</td>\n",
              "</tr>\n",
              "<tr>\n",
              "  <th>Kurtosis:</th>      <td> 3.450</td> <th>  Cond. No.          </th> <td>    1.21</td>\n",
              "</tr>\n",
              "</table><br/><br/>Notes:<br/>[1] Standard Errors assume that the covariance matrix of the errors is correctly specified."
            ],
            "text/latex": "\\begin{center}\n\\begin{tabular}{lclc}\n\\toprule\n\\textbf{Dep. Variable:}    &        y         & \\textbf{  R-squared:         } &     0.807   \\\\\n\\textbf{Model:}            &       OLS        & \\textbf{  Adj. R-squared:    } &     0.797   \\\\\n\\textbf{Method:}           &  Least Squares   & \\textbf{  F-statistic:       } &     75.38   \\\\\n\\textbf{Date:}             & Sun, 04 Aug 2024 & \\textbf{  Prob (F-statistic):} &  7.50e-08   \\\\\n\\textbf{Time:}             &     03:01:29     & \\textbf{  Log-Likelihood:    } &   -89.176   \\\\\n\\textbf{No. Observations:} &          20      & \\textbf{  AIC:               } &     182.4   \\\\\n\\textbf{Df Residuals:}     &          18      & \\textbf{  BIC:               } &     184.3   \\\\\n\\textbf{Df Model:}         &           1      & \\textbf{                     } &             \\\\\n\\textbf{Covariance Type:}  &    nonrobust     & \\textbf{                     } &             \\\\\n\\bottomrule\n\\end{tabular}\n\\begin{tabular}{lcccccc}\n               & \\textbf{coef} & \\textbf{std err} & \\textbf{t} & \\textbf{P$> |$t$|$} & \\textbf{[0.025} & \\textbf{0.975]}  \\\\\n\\midrule\n\\textbf{const} &     104.7857  &        5.009     &    20.921  &         0.000        &       94.263    &      115.308     \\\\\n\\textbf{x1}    &      45.7125  &        5.265     &     8.682  &         0.000        &       34.651    &       56.774     \\\\\n\\bottomrule\n\\end{tabular}\n\\begin{tabular}{lclc}\n\\textbf{Omnibus:}       &  5.325 & \\textbf{  Durbin-Watson:     } &    1.719  \\\\\n\\textbf{Prob(Omnibus):} &  0.070 & \\textbf{  Jarque-Bera (JB):  } &    3.386  \\\\\n\\textbf{Skew:}          &  0.982 & \\textbf{  Prob(JB):          } &    0.184  \\\\\n\\textbf{Kurtosis:}      &  3.450 & \\textbf{  Cond. No.          } &     1.21  \\\\\n\\bottomrule\n\\end{tabular}\n%\\caption{OLS Regression Results}\n\\end{center}\n\nNotes: \\newline\n [1] Standard Errors assume that the covariance matrix of the errors is correctly specified."
          },
          "metadata": {},
          "execution_count": 86
        }
      ]
    },
    {
      "cell_type": "markdown",
      "source": [
        "## Way 2: Centre input and output variables WITHOUT ADDING BIAS\n",
        "## This is known as standardized regression. The interpretation of coefficients changes. Refer to https://www.statlect.com/fundamentals-of-statistics/linear-regression-with-standardized-variables for more details\n",
        "\n",
        "- No need to add constant when doing standardized regression"
      ],
      "metadata": {
        "id": "_R6q8Z08buF9"
      }
    },
    {
      "cell_type": "code",
      "source": [
        "X_standardize = StandardScaler().fit_transform(X)\n",
        "y_standardize = StandardScaler().fit_transform(y.reshape(y.shape[0], 1))\n",
        "standardize_gt_df = pd.DataFrame({\"feature_1\": X_standardize.reshape(-1,), \"y\": y_standardize.reshape(-1,), \"type\": \"gt\"})\n",
        "print(f\"Shape of X_standardize: {X_standardize.shape}\")"
      ],
      "metadata": {
        "colab": {
          "base_uri": "https://localhost:8080/"
        },
        "id": "DApcmGi8bqid",
        "outputId": "0e77a0f3-d8a8-4c88-cef3-b776ecff6b1b"
      },
      "execution_count": 87,
      "outputs": [
        {
          "output_type": "stream",
          "name": "stdout",
          "text": [
            "Shape of X_standardize: (20, 1)\n"
          ]
        }
      ]
    },
    {
      "cell_type": "code",
      "source": [
        "sns.scatterplot(data=standardize_gt_df, x=\"feature_1\", y=\"y\")"
      ],
      "metadata": {
        "colab": {
          "base_uri": "https://localhost:8080/",
          "height": 468
        },
        "id": "wlyXubM2bqkr",
        "outputId": "3b9c3637-62a8-4f52-d407-7732b0f3b6a1"
      },
      "execution_count": 88,
      "outputs": [
        {
          "output_type": "execute_result",
          "data": {
            "text/plain": [
              "<Axes: xlabel='feature_1', ylabel='y'>"
            ]
          },
          "metadata": {},
          "execution_count": 88
        },
        {
          "output_type": "display_data",
          "data": {
            "text/plain": [
              "<Figure size 640x480 with 1 Axes>"
            ],
            "image/png": "[encoded data removed]"
          },
          "metadata": {}
        }
      ]
    },
    {
      "cell_type": "code",
      "source": [
        "standardize_beta_ols = np.dot(inv(np.dot (X_standardize.transpose(), X_standardize)), np.dot(X_standardize.transpose(),y_standardize.reshape(y_standardize.shape[0], 1)))"
      ],
      "metadata": {
        "id": "qy_WHSf1bqmn"
      },
      "execution_count": 89,
      "outputs": []
    },
    {
      "cell_type": "code",
      "source": [
        "standardize_beta_ols"
      ],
      "metadata": {
        "colab": {
          "base_uri": "https://localhost:8080/"
        },
        "id": "TBpdyGj9bqox",
        "outputId": "7fa01210-4dc9-447b-dca4-8b0cb44e1b9e"
      },
      "execution_count": 90,
      "outputs": [
        {
          "output_type": "execute_result",
          "data": {
            "text/plain": [
              "array([[0.89846139]])"
            ]
          },
          "metadata": {},
          "execution_count": 90
        }
      ]
    },
    {
      "cell_type": "code",
      "source": [
        "prediction_ols_standardize = np.dot(X_standardize, standardize_beta_ols)\n",
        "print(f\"Shape of prediction_ols_standardize: {prediction_ols_standardize.shape}\")"
      ],
      "metadata": {
        "colab": {
          "base_uri": "https://localhost:8080/"
        },
        "id": "CAg4UMKibqq2",
        "outputId": "afe2cfbd-d28b-4c5b-9809-0cd5d3eb1199"
      },
      "execution_count": 91,
      "outputs": [
        {
          "output_type": "stream",
          "name": "stdout",
          "text": [
            "Shape of prediction_ols_standardize: (20, 1)\n"
          ]
        }
      ]
    },
    {
      "cell_type": "code",
      "source": [
        "ols_prediction_standardize_df = pd.DataFrame({\"feature_1\": X_standardize.reshape(-1,), \"y\": prediction_ols_standardize.reshape(-1,), \"type\": \"ols_prediction_standardize\"})"
      ],
      "metadata": {
        "id": "afmA5m5Xc7Wb"
      },
      "execution_count": 92,
      "outputs": []
    },
    {
      "cell_type": "code",
      "source": [
        "concat_ols_prediction_standardize_df = pd.concat([standardize_gt_df, ols_prediction_standardize_df], axis=0)"
      ],
      "metadata": {
        "id": "tILWS3n_c7Yh"
      },
      "execution_count": 93,
      "outputs": []
    },
    {
      "cell_type": "code",
      "source": [
        "fig, axes = plt.subplots(1,1)\n",
        "sns.scatterplot(data=concat_ols_prediction_standardize_df, x=\"feature_1\", y=\"y\", hue=\"type\", ax=axes)\n",
        "axes.axhline(0, color='r', linestyle=\"--\")\n",
        "axes.axvline(0, color='r', linestyle=\"--\")"
      ],
      "metadata": {
        "colab": {
          "base_uri": "https://localhost:8080/",
          "height": 468
        },
        "id": "mHHQSE-kc7ap",
        "outputId": "1a69bbc8-b11c-44ac-bbb4-12c0da08fc1d"
      },
      "execution_count": 94,
      "outputs": [
        {
          "output_type": "execute_result",
          "data": {
            "text/plain": [
              "<matplotlib.lines.Line2D at 0x7c1024291e10>"
            ]
          },
          "metadata": {},
          "execution_count": 94
        },
        {
          "output_type": "display_data",
          "data": {
            "text/plain": [
              "<Figure size 640x480 with 1 Axes>"
            ],
            "image/png": "[encoded data removed]"
          },
          "metadata": {}
        }
      ]
    },
    {
      "cell_type": "code",
      "source": [
        "## Validate above using statsmodels\n",
        "sm.OLS(y_standardize,X_standardize, hasconst=False).fit().summary()"
      ],
      "metadata": {
        "colab": {
          "base_uri": "https://localhost:8080/",
          "height": 448
        },
        "id": "q0pj0F6kVm9W",
        "outputId": "1c2ca770-6a5f-4b39-fe5c-9d386c0feb0b"
      },
      "execution_count": 143,
      "outputs": [
        {
          "output_type": "execute_result",
          "data": {
            "text/plain": [
              "<class 'statsmodels.iolib.summary.Summary'>\n",
              "\"\"\"\n",
              "                                 OLS Regression Results                                \n",
              "=======================================================================================\n",
              "Dep. Variable:                      y   R-squared (uncentered):                   0.807\n",
              "Model:                            OLS   Adj. R-squared (uncentered):              0.797\n",
              "Method:                 Least Squares   F-statistic:                              79.56\n",
              "Date:                Sun, 04 Aug 2024   Prob (F-statistic):                    3.21e-08\n",
              "Time:                        03:27:11   Log-Likelihood:                         -11.916\n",
              "No. Observations:                  20   AIC:                                      25.83\n",
              "Df Residuals:                      19   BIC:                                      26.83\n",
              "Df Model:                           1                                                  \n",
              "Covariance Type:            nonrobust                                                  \n",
              "==============================================================================\n",
              "                 coef    std err          t      P>|t|      [0.025      0.975]\n",
              "------------------------------------------------------------------------------\n",
              "x1             0.8985      0.101      8.920      0.000       0.688       1.109\n",
              "==============================================================================\n",
              "Omnibus:                        5.325   Durbin-Watson:                   1.719\n",
              "Prob(Omnibus):                  0.070   Jarque-Bera (JB):                3.386\n",
              "Skew:                           0.982   Prob(JB):                        0.184\n",
              "Kurtosis:                       3.450   Cond. No.                         1.00\n",
              "==============================================================================\n",
              "\n",
              "Notes:\n",
              "[1] R² is computed without centering (uncentered) since the model does not contain a constant.\n",
              "[2] Standard Errors assume that the covariance matrix of the errors is correctly specified.\n",
              "\"\"\""
            ],
            "text/html": [
              "<table class=\"simpletable\">\n",
              "<caption>OLS Regression Results</caption>\n",
              "<tr>\n",
              "  <th>Dep. Variable:</th>            <td>y</td>        <th>  R-squared (uncentered):</th>      <td>   0.807</td>\n",
              "</tr>\n",
              "<tr>\n",
              "  <th>Model:</th>                   <td>OLS</td>       <th>  Adj. R-squared (uncentered):</th> <td>   0.797</td>\n",
              "</tr>\n",
              "<tr>\n",
              "  <th>Method:</th>             <td>Least Squares</td>  <th>  F-statistic:       </th>          <td>   79.56</td>\n",
              "</tr>\n",
              "<tr>\n",
              "  <th>Date:</th>             <td>Sun, 04 Aug 2024</td> <th>  Prob (F-statistic):</th>          <td>3.21e-08</td>\n",
              "</tr>\n",
              "<tr>\n",
              "  <th>Time:</th>                 <td>03:27:11</td>     <th>  Log-Likelihood:    </th>          <td> -11.916</td>\n",
              "</tr>\n",
              "<tr>\n",
              "  <th>No. Observations:</th>      <td>    20</td>      <th>  AIC:               </th>          <td>   25.83</td>\n",
              "</tr>\n",
              "<tr>\n",
              "  <th>Df Residuals:</th>          <td>    19</td>      <th>  BIC:               </th>          <td>   26.83</td>\n",
              "</tr>\n",
              "<tr>\n",
              "  <th>Df Model:</th>              <td>     1</td>      <th>                     </th>              <td> </td>   \n",
              "</tr>\n",
              "<tr>\n",
              "  <th>Covariance Type:</th>      <td>nonrobust</td>    <th>                     </th>              <td> </td>   \n",
              "</tr>\n",
              "</table>\n",
              "<table class=\"simpletable\">\n",
              "<tr>\n",
              "   <td></td>     <th>coef</th>     <th>std err</th>      <th>t</th>      <th>P>|t|</th>  <th>[0.025</th>    <th>0.975]</th>  \n",
              "</tr>\n",
              "<tr>\n",
              "  <th>x1</th> <td>    0.8985</td> <td>    0.101</td> <td>    8.920</td> <td> 0.000</td> <td>    0.688</td> <td>    1.109</td>\n",
              "</tr>\n",
              "</table>\n",
              "<table class=\"simpletable\">\n",
              "<tr>\n",
              "  <th>Omnibus:</th>       <td> 5.325</td> <th>  Durbin-Watson:     </th> <td>   1.719</td>\n",
              "</tr>\n",
              "<tr>\n",
              "  <th>Prob(Omnibus):</th> <td> 0.070</td> <th>  Jarque-Bera (JB):  </th> <td>   3.386</td>\n",
              "</tr>\n",
              "<tr>\n",
              "  <th>Skew:</th>          <td> 0.982</td> <th>  Prob(JB):          </th> <td>   0.184</td>\n",
              "</tr>\n",
              "<tr>\n",
              "  <th>Kurtosis:</th>      <td> 3.450</td> <th>  Cond. No.          </th> <td>    1.00</td>\n",
              "</tr>\n",
              "</table><br/><br/>Notes:<br/>[1] R² is computed without centering (uncentered) since the model does not contain a constant.<br/>[2] Standard Errors assume that the covariance matrix of the errors is correctly specified."
            ],
            "text/latex": "\\begin{center}\n\\begin{tabular}{lclc}\n\\toprule\n\\textbf{Dep. Variable:}    &        y         & \\textbf{  R-squared (uncentered):}      &     0.807   \\\\\n\\textbf{Model:}            &       OLS        & \\textbf{  Adj. R-squared (uncentered):} &     0.797   \\\\\n\\textbf{Method:}           &  Least Squares   & \\textbf{  F-statistic:       }          &     79.56   \\\\\n\\textbf{Date:}             & Sun, 04 Aug 2024 & \\textbf{  Prob (F-statistic):}          &  3.21e-08   \\\\\n\\textbf{Time:}             &     03:27:11     & \\textbf{  Log-Likelihood:    }          &   -11.916   \\\\\n\\textbf{No. Observations:} &          20      & \\textbf{  AIC:               }          &     25.83   \\\\\n\\textbf{Df Residuals:}     &          19      & \\textbf{  BIC:               }          &     26.83   \\\\\n\\textbf{Df Model:}         &           1      & \\textbf{                     }          &             \\\\\n\\textbf{Covariance Type:}  &    nonrobust     & \\textbf{                     }          &             \\\\\n\\bottomrule\n\\end{tabular}\n\\begin{tabular}{lcccccc}\n            & \\textbf{coef} & \\textbf{std err} & \\textbf{t} & \\textbf{P$> |$t$|$} & \\textbf{[0.025} & \\textbf{0.975]}  \\\\\n\\midrule\n\\textbf{x1} &       0.8985  &        0.101     &     8.920  &         0.000        &        0.688    &        1.109     \\\\\n\\bottomrule\n\\end{tabular}\n\\begin{tabular}{lclc}\n\\textbf{Omnibus:}       &  5.325 & \\textbf{  Durbin-Watson:     } &    1.719  \\\\\n\\textbf{Prob(Omnibus):} &  0.070 & \\textbf{  Jarque-Bera (JB):  } &    3.386  \\\\\n\\textbf{Skew:}          &  0.982 & \\textbf{  Prob(JB):          } &    0.184  \\\\\n\\textbf{Kurtosis:}      &  3.450 & \\textbf{  Cond. No.          } &     1.00  \\\\\n\\bottomrule\n\\end{tabular}\n%\\caption{OLS Regression Results}\n\\end{center}\n\nNotes: \\newline\n [1] R² is computed without centering (uncentered) since the model does not contain a constant. \\newline\n [2] Standard Errors assume that the covariance matrix of the errors is correctly specified."
          },
          "metadata": {},
          "execution_count": 143
        }
      ]
    },
    {
      "cell_type": "code",
      "source": [
        "standardize_stats_model = sm.OLS(y_standardize,sm.add_constant(X_standardize), hasconst=True)#.fit().summary()\n",
        "standardize_stats_model_results = standardize_stats_model.fit()"
      ],
      "metadata": {
        "id": "hfVW1B9jVm_d"
      },
      "execution_count": 144,
      "outputs": []
    },
    {
      "cell_type": "code",
      "source": [
        "standardize_stats_model_results.summary()"
      ],
      "metadata": {
        "colab": {
          "base_uri": "https://localhost:8080/",
          "height": 452
        },
        "id": "b_-O7H1xYkbA",
        "outputId": "ecebccbd-1a61-40a0-a912-bb454bebcb34"
      },
      "execution_count": 145,
      "outputs": [
        {
          "output_type": "execute_result",
          "data": {
            "text/plain": [
              "<class 'statsmodels.iolib.summary.Summary'>\n",
              "\"\"\"\n",
              "                            OLS Regression Results                            \n",
              "==============================================================================\n",
              "Dep. Variable:                      y   R-squared:                       0.807\n",
              "Model:                            OLS   Adj. R-squared:                  0.797\n",
              "Method:                 Least Squares   F-statistic:                     75.38\n",
              "Date:                Sun, 04 Aug 2024   Prob (F-statistic):           7.50e-08\n",
              "Time:                        03:27:24   Log-Likelihood:                -11.916\n",
              "No. Observations:                  20   AIC:                             27.83\n",
              "Df Residuals:                      18   BIC:                             29.82\n",
              "Df Model:                           1                                         \n",
              "Covariance Type:            nonrobust                                         \n",
              "==============================================================================\n",
              "                 coef    std err          t      P>|t|      [0.025      0.975]\n",
              "------------------------------------------------------------------------------\n",
              "const       8.327e-17      0.103   8.05e-16      1.000      -0.217       0.217\n",
              "x1             0.8985      0.103      8.682      0.000       0.681       1.116\n",
              "==============================================================================\n",
              "Omnibus:                        5.325   Durbin-Watson:                   1.719\n",
              "Prob(Omnibus):                  0.070   Jarque-Bera (JB):                3.386\n",
              "Skew:                           0.982   Prob(JB):                        0.184\n",
              "Kurtosis:                       3.450   Cond. No.                         1.00\n",
              "==============================================================================\n",
              "\n",
              "Notes:\n",
              "[1] Standard Errors assume that the covariance matrix of the errors is correctly specified.\n",
              "\"\"\""
            ],
            "text/html": [
              "<table class=\"simpletable\">\n",
              "<caption>OLS Regression Results</caption>\n",
              "<tr>\n",
              "  <th>Dep. Variable:</th>            <td>y</td>        <th>  R-squared:         </th> <td>   0.807</td>\n",
              "</tr>\n",
              "<tr>\n",
              "  <th>Model:</th>                   <td>OLS</td>       <th>  Adj. R-squared:    </th> <td>   0.797</td>\n",
              "</tr>\n",
              "<tr>\n",
              "  <th>Method:</th>             <td>Least Squares</td>  <th>  F-statistic:       </th> <td>   75.38</td>\n",
              "</tr>\n",
              "<tr>\n",
              "  <th>Date:</th>             <td>Sun, 04 Aug 2024</td> <th>  Prob (F-statistic):</th> <td>7.50e-08</td>\n",
              "</tr>\n",
              "<tr>\n",
              "  <th>Time:</th>                 <td>03:27:24</td>     <th>  Log-Likelihood:    </th> <td> -11.916</td>\n",
              "</tr>\n",
              "<tr>\n",
              "  <th>No. Observations:</th>      <td>    20</td>      <th>  AIC:               </th> <td>   27.83</td>\n",
              "</tr>\n",
              "<tr>\n",
              "  <th>Df Residuals:</th>          <td>    18</td>      <th>  BIC:               </th> <td>   29.82</td>\n",
              "</tr>\n",
              "<tr>\n",
              "  <th>Df Model:</th>              <td>     1</td>      <th>                     </th>     <td> </td>   \n",
              "</tr>\n",
              "<tr>\n",
              "  <th>Covariance Type:</th>      <td>nonrobust</td>    <th>                     </th>     <td> </td>   \n",
              "</tr>\n",
              "</table>\n",
              "<table class=\"simpletable\">\n",
              "<tr>\n",
              "    <td></td>       <th>coef</th>     <th>std err</th>      <th>t</th>      <th>P>|t|</th>  <th>[0.025</th>    <th>0.975]</th>  \n",
              "</tr>\n",
              "<tr>\n",
              "  <th>const</th> <td> 8.327e-17</td> <td>    0.103</td> <td> 8.05e-16</td> <td> 1.000</td> <td>   -0.217</td> <td>    0.217</td>\n",
              "</tr>\n",
              "<tr>\n",
              "  <th>x1</th>    <td>    0.8985</td> <td>    0.103</td> <td>    8.682</td> <td> 0.000</td> <td>    0.681</td> <td>    1.116</td>\n",
              "</tr>\n",
              "</table>\n",
              "<table class=\"simpletable\">\n",
              "<tr>\n",
              "  <th>Omnibus:</th>       <td> 5.325</td> <th>  Durbin-Watson:     </th> <td>   1.719</td>\n",
              "</tr>\n",
              "<tr>\n",
              "  <th>Prob(Omnibus):</th> <td> 0.070</td> <th>  Jarque-Bera (JB):  </th> <td>   3.386</td>\n",
              "</tr>\n",
              "<tr>\n",
              "  <th>Skew:</th>          <td> 0.982</td> <th>  Prob(JB):          </th> <td>   0.184</td>\n",
              "</tr>\n",
              "<tr>\n",
              "  <th>Kurtosis:</th>      <td> 3.450</td> <th>  Cond. No.          </th> <td>    1.00</td>\n",
              "</tr>\n",
              "</table><br/><br/>Notes:<br/>[1] Standard Errors assume that the covariance matrix of the errors is correctly specified."
            ],
            "text/latex": "\\begin{center}\n\\begin{tabular}{lclc}\n\\toprule\n\\textbf{Dep. Variable:}    &        y         & \\textbf{  R-squared:         } &     0.807   \\\\\n\\textbf{Model:}            &       OLS        & \\textbf{  Adj. R-squared:    } &     0.797   \\\\\n\\textbf{Method:}           &  Least Squares   & \\textbf{  F-statistic:       } &     75.38   \\\\\n\\textbf{Date:}             & Sun, 04 Aug 2024 & \\textbf{  Prob (F-statistic):} &  7.50e-08   \\\\\n\\textbf{Time:}             &     03:27:24     & \\textbf{  Log-Likelihood:    } &   -11.916   \\\\\n\\textbf{No. Observations:} &          20      & \\textbf{  AIC:               } &     27.83   \\\\\n\\textbf{Df Residuals:}     &          18      & \\textbf{  BIC:               } &     29.82   \\\\\n\\textbf{Df Model:}         &           1      & \\textbf{                     } &             \\\\\n\\textbf{Covariance Type:}  &    nonrobust     & \\textbf{                     } &             \\\\\n\\bottomrule\n\\end{tabular}\n\\begin{tabular}{lcccccc}\n               & \\textbf{coef} & \\textbf{std err} & \\textbf{t} & \\textbf{P$> |$t$|$} & \\textbf{[0.025} & \\textbf{0.975]}  \\\\\n\\midrule\n\\textbf{const} &    8.327e-17  &        0.103     &  8.05e-16  &         1.000        &       -0.217    &        0.217     \\\\\n\\textbf{x1}    &       0.8985  &        0.103     &     8.682  &         0.000        &        0.681    &        1.116     \\\\\n\\bottomrule\n\\end{tabular}\n\\begin{tabular}{lclc}\n\\textbf{Omnibus:}       &  5.325 & \\textbf{  Durbin-Watson:     } &    1.719  \\\\\n\\textbf{Prob(Omnibus):} &  0.070 & \\textbf{  Jarque-Bera (JB):  } &    3.386  \\\\\n\\textbf{Skew:}          &  0.982 & \\textbf{  Prob(JB):          } &    0.184  \\\\\n\\textbf{Kurtosis:}      &  3.450 & \\textbf{  Cond. No.          } &     1.00  \\\\\n\\bottomrule\n\\end{tabular}\n%\\caption{OLS Regression Results}\n\\end{center}\n\nNotes: \\newline\n [1] Standard Errors assume that the covariance matrix of the errors is correctly specified."
          },
          "metadata": {},
          "execution_count": 145
        }
      ]
    },
    {
      "cell_type": "code",
      "source": [
        "standardize_stats_model_prediction = standardize_stats_model.predict(params=standardize_stats_model_results.params, exog=sm.add_constant(X_standardize))\n",
        "standardize_stats_model_df = pd.DataFrame({\"feature_1\": X_standardize.reshape(-1,), \"y\": standardize_stats_model_prediction.reshape(-1,), \"type\": \"ols_prediction_standardize_stats_model\"})"
      ],
      "metadata": {
        "id": "jU1UmhWGYkdQ"
      },
      "execution_count": 146,
      "outputs": []
    },
    {
      "cell_type": "code",
      "source": [
        "concat_standardize_stats_model_df = pd.concat([standardize_gt_df, standardize_stats_model_df], axis=0)"
      ],
      "metadata": {
        "id": "JyW8yV02YkfD"
      },
      "execution_count": 148,
      "outputs": []
    },
    {
      "cell_type": "code",
      "source": [
        "fig, axes = plt.subplots(1,1)\n",
        "sns.scatterplot(data=concat_standardize_stats_model_df, x=\"feature_1\", y=\"y\", hue=\"type\", ax=axes)\n",
        "axes.axhline(0, color='r', linestyle=\"--\")\n",
        "axes.axvline(0, color='r', linestyle=\"--\")"
      ],
      "metadata": {
        "colab": {
          "base_uri": "https://localhost:8080/",
          "height": 468
        },
        "id": "4Y3thyd8aMde",
        "outputId": "7b5bf60e-5d56-40ee-8a35-33b7e6179dd1"
      },
      "execution_count": 149,
      "outputs": [
        {
          "output_type": "execute_result",
          "data": {
            "text/plain": [
              "<matplotlib.lines.Line2D at 0x7c10231af5e0>"
            ]
          },
          "metadata": {},
          "execution_count": 149
        },
        {
          "output_type": "display_data",
          "data": {
            "text/plain": [
              "<Figure size 640x480 with 1 Axes>"
            ],
            "image/png": "[encoded data removed]"
          },
          "metadata": {}
        }
      ]
    },
    {
      "cell_type": "markdown",
      "source": [
        "## Way 3: Standardize ONLY input variables, not output variable BUT ALSO ADD BIAS"
      ],
      "metadata": {
        "id": "zKAK6IytbhT8"
      }
    },
    {
      "cell_type": "code",
      "source": [
        "# X_standardize = StandardScaler().fit_transform(X)\n",
        "# y_standardize = StandardScaler().fit_transform(y.reshape(y.shape[0], 1))\n",
        "X_standardize_with_bias = np.hstack((StandardScaler().fit_transform(X), np.ones((X.shape[0], 1))))\n",
        "way3_standardize_gt_df = pd.DataFrame({\"feature_1\": X_standardize_with_bias[:, 0].reshape(-1,), \"y\": y.reshape(-1,), \"type\": \"gt\"})\n",
        "print(f\"Shape of X_standardize_with_bias: {X_standardize_with_bias.shape}\")"
      ],
      "metadata": {
        "colab": {
          "base_uri": "https://localhost:8080/"
        },
        "id": "mQgudV2zbgnc",
        "outputId": "af96dda5-c9c1-479a-cdb2-3527778e941a"
      },
      "execution_count": 153,
      "outputs": [
        {
          "output_type": "stream",
          "name": "stdout",
          "text": [
            "Shape of X_standardize_with_bias: (20, 2)\n"
          ]
        }
      ]
    },
    {
      "cell_type": "code",
      "source": [
        "standardize_with_bias_beta_ols = np.dot(inv(np.dot (X_standardize_with_bias.transpose(), X_standardize_with_bias)), np.dot(X_standardize_with_bias.transpose(),y.reshape(y.shape[0], 1)))"
      ],
      "metadata": {
        "id": "8h1dGop6cWP6"
      },
      "execution_count": 156,
      "outputs": []
    },
    {
      "cell_type": "code",
      "source": [
        "standardize_with_bias_beta_ols"
      ],
      "metadata": {
        "colab": {
          "base_uri": "https://localhost:8080/"
        },
        "id": "5tgycRZDcWSO",
        "outputId": "9590b1a4-691f-4309-dfec-94e572af06f1"
      },
      "execution_count": 157,
      "outputs": [
        {
          "output_type": "execute_result",
          "data": {
            "text/plain": [
              "array([[42.77405318],\n",
              "       [96.9552372 ]])"
            ]
          },
          "metadata": {},
          "execution_count": 157
        }
      ]
    },
    {
      "cell_type": "code",
      "source": [
        "prediction_ols_standardize_with_bias = np.dot(X_standardize_with_bias, standardize_with_bias_beta_ols)\n",
        "print(f\"Shape of prediction_ols_standardize_with_bias: {prediction_ols_standardize_with_bias.shape}\")"
      ],
      "metadata": {
        "colab": {
          "base_uri": "https://localhost:8080/"
        },
        "id": "8cLyxyFrbojE",
        "outputId": "3da6c040-7679-4ecc-a34f-116e3fa0a7ce"
      },
      "execution_count": 158,
      "outputs": [
        {
          "output_type": "stream",
          "name": "stdout",
          "text": [
            "Shape of prediction_ols_standardize_with_bias: (20, 1)\n"
          ]
        }
      ]
    },
    {
      "cell_type": "code",
      "source": [
        "ols_prediction_standardize_with_bias_df = pd.DataFrame({\"feature_1\": X_standardize_with_bias[:, 0].reshape(-1,), \"y\": prediction_ols_standardize_with_bias.reshape(-1,), \"type\": \"ols_prediction_standardize_with_bias\"})"
      ],
      "metadata": {
        "id": "Xwk47XssbolF"
      },
      "execution_count": 159,
      "outputs": []
    },
    {
      "cell_type": "code",
      "source": [
        "concat_ols_prediction_standardize_with_bias_df = pd.concat([way3_standardize_gt_df, ols_prediction_standardize_with_bias_df], axis=0)"
      ],
      "metadata": {
        "id": "27224W7Tboqt"
      },
      "execution_count": 163,
      "outputs": []
    },
    {
      "cell_type": "code",
      "source": [
        "fig, axes = plt.subplots(1,1)\n",
        "sns.scatterplot(data=concat_ols_prediction_standardize_with_bias_df, x=\"feature_1\", y=\"y\", hue=\"type\", ax=axes)\n",
        "axes.axhline(0, color='r', linestyle=\"--\")\n",
        "axes.axvline(0, color='r', linestyle=\"--\")"
      ],
      "metadata": {
        "colab": {
          "base_uri": "https://localhost:8080/",
          "height": 468
        },
        "id": "K19DqBcldHDI",
        "outputId": "66b41534-20c8-4feb-c263-7e6955da3854"
      },
      "execution_count": 165,
      "outputs": [
        {
          "output_type": "execute_result",
          "data": {
            "text/plain": [
              "<matplotlib.lines.Line2D at 0x7c10231dc400>"
            ]
          },
          "metadata": {},
          "execution_count": 165
        },
        {
          "output_type": "display_data",
          "data": {
            "text/plain": [
              "<Figure size 640x480 with 1 Axes>"
            ],
            "image/png": "[encoded data removed]"
          },
          "metadata": {}
        }
      ]
    },
    {
      "cell_type": "markdown",
      "source": [
        "## Best option is to standardize input and output variables WITHOUT bias"
      ],
      "metadata": {
        "id": "3xBqwcPXdxf9"
      }
    },
    {
      "cell_type": "markdown",
      "source": [
        "## Check whether OLS estimates are scale invariant?\n",
        "=> If the input features are all at different scales, does it impact the coefficients?\n",
        "\n",
        "## https://www.statlect.com/fundamentals-of-statistics/ridge-regression"
      ],
      "metadata": {
        "id": "HwuUsVSohpwH"
      }
    },
    {
      "cell_type": "code",
      "source": [
        "def scale_feature_and_perform_ols(X, y, scale_factor_list=[0.001, 0.1, 1, 5, 100, 535]):\n",
        "  result_df = pd.DataFrame({\"feature\": X.reshape(-1,), \"y\":y, \"type\": \"gt\"})\n",
        "  for scale_factor in scale_factor_list:\n",
        "    #print(f\"scale_factor: {scale_factor}\")\n",
        "    ## Step 1: Randomly choose a feature\n",
        "    random_feature_to_scale_index= random.choice(range(X.shape[1]))\n",
        "\n",
        "    ## Step 2: Scale the chosen feature\n",
        "    new_X = X.copy()\n",
        "    new_X = X[:, random_feature_to_scale_index].reshape(-1, 1) * scale_factor\n",
        "    new_X = np.hstack((new_X, np.ones((new_X.shape[0], 1))))\n",
        "    #print(f\"Shape of new_X: {new_X.shape}\")\n",
        "\n",
        "    ## Step 3: Perform OLS (This gives coefficients that are inverse scaled compared to NON SCALED X OLS REGRESSION)\n",
        "    beta_ols = np.dot(inv(np.dot (new_X.transpose(), new_X)), np.dot(new_X.transpose(),y.reshape(y.shape[0], 1)))\n",
        "\n",
        "    ## print(beta_ols)\n",
        "    #print(f\"Shape of beta_ols: {beta_ols.shape}\")\n",
        "\n",
        "    ## Step 4: Perform prediction (Exactly same as NON SCALED OLS REGRESSION)\n",
        "    prediction_ols = np.dot(new_X, beta_ols)\n",
        "    #print(f\"Shape of prediction_ols: {prediction_ols.shape}\")\n",
        "\n",
        "    ## Step 5: Create dataframe\n",
        "    current_prediction_df = pd.DataFrame({\"feature\": X[:, 0].reshape(-1,), \"y\": prediction_ols.reshape(-1,), \"type\": f\"ols_regression{scale_factor}\"})\n",
        "    #print(f\"Shape of current_prediction_df: {current_prediction_df.shape}\")\n",
        "\n",
        "    result_df = pd.concat([result_df, current_prediction_df], axis=0)\n",
        "\n",
        "  return result_df"
      ],
      "metadata": {
        "id": "fM_rwsW9eFaM"
      },
      "execution_count": 252,
      "outputs": []
    },
    {
      "cell_type": "code",
      "source": [
        "scale_feature_perform_ols_df = scale_feature_and_perform_ols(X, y, scale_factor_list=[0.001, 0.1, 5, 100, 535])"
      ],
      "metadata": {
        "id": "uWJG8Yt-e5HE"
      },
      "execution_count": 253,
      "outputs": []
    },
    {
      "cell_type": "code",
      "source": [
        "sns.scatterplot(data=scale_feature_perform_ols_df, x=\"feature\", y=\"y\", hue=\"type\").set_title(\"OLS regression prediction is scale invariant\")"
      ],
      "metadata": {
        "colab": {
          "base_uri": "https://localhost:8080/",
          "height": 467
        },
        "id": "wuZQCcCsgTZE",
        "outputId": "2365f339-78b2-46db-fbd3-1a8294e71b5a"
      },
      "execution_count": 254,
      "outputs": [
        {
          "output_type": "execute_result",
          "data": {
            "text/plain": [
              "<Axes: xlabel='feature', ylabel='y'>"
            ]
          },
          "metadata": {},
          "execution_count": 254
        },
        {
          "output_type": "display_data",
          "data": {
            "text/plain": [
              "<Figure size 640x480 with 1 Axes>"
            ],
            "image/png": "[encoded data removed]"
          },
          "metadata": {}
        }
      ]
    },
    {
      "cell_type": "markdown",
      "source": [
        "## This clearly shows that OLS regression yields same predictions no matter how scaled the input variables are!!!!\n",
        "## Ridge regression does not possess this quality"
      ],
      "metadata": {
        "id": "L4tywR0CnuRJ"
      }
    },
    {
      "cell_type": "markdown",
      "source": [
        "## This shows that when regressors/ inputs are multipled/ scaled by a factor, the corrsponding coefficients are also inverse scaled\n",
        "## OLS coefficients are scale invariant."
      ],
      "metadata": {
        "id": "mUxQ09b0jCLO"
      }
    },
    {
      "cell_type": "markdown",
      "source": [
        "NOte:\n",
        "1. It is very important to ass a constant column to design matrix. Otherwise the line/ plane is forced to pass through origin\n",
        "2. OR centrize the features and output before fitting the line"
      ],
      "metadata": {
        "id": "tjqq5gNpbarU"
      }
    },
    {
      "cell_type": "markdown",
      "source": [
        "## Shoe that OLS has high variance and hence OVERFITS"
      ],
      "metadata": {
        "id": "FtYE4KLo59ur"
      }
    },
    {
      "cell_type": "code",
      "source": [
        "## https://stackoverflow.com/questions/51972637/nonlinear-regression-with-python-whats-a-simple-method-to-fit-this-data-bette\n",
        "xData = np.array([19.1647, 18.0189, 16.9550, 15.7683, 14.7044, 13.6269, 12.6040, 11.4309, 10.2987, 9.23465, 8.18440, 7.89789, 7.62498, 7.36571, 7.01106, 6.71094, 6.46548, 6.27436, 6.16543, 6.05569, 5.91904, 5.78247, 5.53661, 4.85425, 4.29468, 3.74888, 3.16206, 2.58882, 1.93371, 1.52426, 1.14211, 0.719035, 0.377708, 0.0226971, -0.223181, -0.537231, -0.878491, -1.27484, -1.45266, -1.57583, -1.61717])\n",
        "yData = np.array([0.644557, 0.641059, 0.637555, 0.634059, 0.634135, 0.631825, 0.631899, 0.627209, 0.622516, 0.617818, 0.616103, 0.613736, 0.610175, 0.606613, 0.605445, 0.603676, 0.604887, 0.600127, 0.604909, 0.588207, 0.581056, 0.576292, 0.566761, 0.555472, 0.545367, 0.538842, 0.529336, 0.518635, 0.506747, 0.499018, 0.491885, 0.484754, 0.475230, 0.464514, 0.454387, 0.444861, 0.437128, 0.415076, 0.401363, 0.390034, 0.378698])"
      ],
      "metadata": {
        "id": "0BzJ04915gv5"
      },
      "execution_count": 377,
      "outputs": []
    },
    {
      "cell_type": "code",
      "source": [
        "X_train, X_test, y_train, y_test = train_test_split(xData, yData, test_size=0.20, shuffle=True)\n",
        "print(f\"Shape of X_train: {X_train.shape}\")\n",
        "print(f\"Shape of X_test: {X_test.shape}\")"
      ],
      "metadata": {
        "colab": {
          "base_uri": "https://localhost:8080/"
        },
        "id": "shwWUpczoP_1",
        "outputId": "0b563111-85fc-4d25-c09f-03a60212a2b7"
      },
      "execution_count": 378,
      "outputs": [
        {
          "output_type": "stream",
          "name": "stdout",
          "text": [
            "Shape of X_train: (32,)\n",
            "Shape of X_test: (9,)\n"
          ]
        }
      ]
    },
    {
      "cell_type": "code",
      "source": [
        "train_df = pd.DataFrame({\"x\": X_train.reshape(-1,), \"y\":y_train, \"type\": \"train\"})\n",
        "test_df = pd.DataFrame({\"x\": X_test.reshape(-1,), \"y\":y_test, \"type\": \"test\"})"
      ],
      "metadata": {
        "id": "3oIix7jOpYPq"
      },
      "execution_count": 379,
      "outputs": []
    },
    {
      "cell_type": "code",
      "source": [
        "split_df = pd.concat([train_df, test_df], axis=0)"
      ],
      "metadata": {
        "id": "aT6_BgShoQB2"
      },
      "execution_count": 380,
      "outputs": []
    },
    {
      "cell_type": "code",
      "source": [
        "sns.scatterplot(data=split_df, x=\"x\", y=\"y\", hue=\"type\")"
      ],
      "metadata": {
        "colab": {
          "base_uri": "https://localhost:8080/",
          "height": 467
        },
        "id": "_ZGW-TWroQD_",
        "outputId": "be0cc4b9-3c56-4f6b-e1a3-d37c8f635e4f"
      },
      "execution_count": 381,
      "outputs": [
        {
          "output_type": "execute_result",
          "data": {
            "text/plain": [
              "<Axes: xlabel='x', ylabel='y'>"
            ]
          },
          "metadata": {},
          "execution_count": 381
        },
        {
          "output_type": "display_data",
          "data": {
            "text/plain": [
              "<Figure size 640x480 with 1 Axes>"
            ],
            "image/png": "[encoded data removed]"
          },
          "metadata": {}
        }
      ]
    },
    {
      "cell_type": "code",
      "source": [
        "split_model = ols('y ~ x', data=train_df).fit()"
      ],
      "metadata": {
        "id": "WPn-IgkHpPD2"
      },
      "execution_count": 382,
      "outputs": []
    },
    {
      "cell_type": "code",
      "source": [
        "split_model.summary()"
      ],
      "metadata": {
        "colab": {
          "base_uri": "https://localhost:8080/",
          "height": 452
        },
        "id": "ful15UQToQGH",
        "outputId": "c6e2b5cc-3bad-48cd-a651-094ef42df34d"
      },
      "execution_count": 383,
      "outputs": [
        {
          "output_type": "execute_result",
          "data": {
            "text/plain": [
              "<class 'statsmodels.iolib.summary.Summary'>\n",
              "\"\"\"\n",
              "                            OLS Regression Results                            \n",
              "==============================================================================\n",
              "Dep. Variable:                      y   R-squared:                       0.795\n",
              "Model:                            OLS   Adj. R-squared:                  0.788\n",
              "Method:                 Least Squares   F-statistic:                     116.5\n",
              "Date:                Sun, 04 Aug 2024   Prob (F-statistic):           7.51e-12\n",
              "Time:                        05:39:25   Log-Likelihood:                 60.023\n",
              "No. Observations:                  32   AIC:                            -116.0\n",
              "Df Residuals:                      30   BIC:                            -113.1\n",
              "Df Model:                           1                                         \n",
              "Covariance Type:            nonrobust                                         \n",
              "==============================================================================\n",
              "                 coef    std err          t      P>|t|      [0.025      0.975]\n",
              "------------------------------------------------------------------------------\n",
              "Intercept      0.4755      0.010     49.058      0.000       0.456       0.495\n",
              "x              0.0124      0.001     10.793      0.000       0.010       0.015\n",
              "==============================================================================\n",
              "Omnibus:                        2.969   Durbin-Watson:                   1.835\n",
              "Prob(Omnibus):                  0.227   Jarque-Bera (JB):                2.344\n",
              "Skew:                          -0.527   Prob(JB):                        0.310\n",
              "Kurtosis:                       2.196   Cond. No.                         12.2\n",
              "==============================================================================\n",
              "\n",
              "Notes:\n",
              "[1] Standard Errors assume that the covariance matrix of the errors is correctly specified.\n",
              "\"\"\""
            ],
            "text/html": [
              "<table class=\"simpletable\">\n",
              "<caption>OLS Regression Results</caption>\n",
              "<tr>\n",
              "  <th>Dep. Variable:</th>            <td>y</td>        <th>  R-squared:         </th> <td>   0.795</td>\n",
              "</tr>\n",
              "<tr>\n",
              "  <th>Model:</th>                   <td>OLS</td>       <th>  Adj. R-squared:    </th> <td>   0.788</td>\n",
              "</tr>\n",
              "<tr>\n",
              "  <th>Method:</th>             <td>Least Squares</td>  <th>  F-statistic:       </th> <td>   116.5</td>\n",
              "</tr>\n",
              "<tr>\n",
              "  <th>Date:</th>             <td>Sun, 04 Aug 2024</td> <th>  Prob (F-statistic):</th> <td>7.51e-12</td>\n",
              "</tr>\n",
              "<tr>\n",
              "  <th>Time:</th>                 <td>05:39:25</td>     <th>  Log-Likelihood:    </th> <td>  60.023</td>\n",
              "</tr>\n",
              "<tr>\n",
              "  <th>No. Observations:</th>      <td>    32</td>      <th>  AIC:               </th> <td>  -116.0</td>\n",
              "</tr>\n",
              "<tr>\n",
              "  <th>Df Residuals:</th>          <td>    30</td>      <th>  BIC:               </th> <td>  -113.1</td>\n",
              "</tr>\n",
              "<tr>\n",
              "  <th>Df Model:</th>              <td>     1</td>      <th>                     </th>     <td> </td>   \n",
              "</tr>\n",
              "<tr>\n",
              "  <th>Covariance Type:</th>      <td>nonrobust</td>    <th>                     </th>     <td> </td>   \n",
              "</tr>\n",
              "</table>\n",
              "<table class=\"simpletable\">\n",
              "<tr>\n",
              "      <td></td>         <th>coef</th>     <th>std err</th>      <th>t</th>      <th>P>|t|</th>  <th>[0.025</th>    <th>0.975]</th>  \n",
              "</tr>\n",
              "<tr>\n",
              "  <th>Intercept</th> <td>    0.4755</td> <td>    0.010</td> <td>   49.058</td> <td> 0.000</td> <td>    0.456</td> <td>    0.495</td>\n",
              "</tr>\n",
              "<tr>\n",
              "  <th>x</th>         <td>    0.0124</td> <td>    0.001</td> <td>   10.793</td> <td> 0.000</td> <td>    0.010</td> <td>    0.015</td>\n",
              "</tr>\n",
              "</table>\n",
              "<table class=\"simpletable\">\n",
              "<tr>\n",
              "  <th>Omnibus:</th>       <td> 2.969</td> <th>  Durbin-Watson:     </th> <td>   1.835</td>\n",
              "</tr>\n",
              "<tr>\n",
              "  <th>Prob(Omnibus):</th> <td> 0.227</td> <th>  Jarque-Bera (JB):  </th> <td>   2.344</td>\n",
              "</tr>\n",
              "<tr>\n",
              "  <th>Skew:</th>          <td>-0.527</td> <th>  Prob(JB):          </th> <td>   0.310</td>\n",
              "</tr>\n",
              "<tr>\n",
              "  <th>Kurtosis:</th>      <td> 2.196</td> <th>  Cond. No.          </th> <td>    12.2</td>\n",
              "</tr>\n",
              "</table><br/><br/>Notes:<br/>[1] Standard Errors assume that the covariance matrix of the errors is correctly specified."
            ],
            "text/latex": "\\begin{center}\n\\begin{tabular}{lclc}\n\\toprule\n\\textbf{Dep. Variable:}    &        y         & \\textbf{  R-squared:         } &     0.795   \\\\\n\\textbf{Model:}            &       OLS        & \\textbf{  Adj. R-squared:    } &     0.788   \\\\\n\\textbf{Method:}           &  Least Squares   & \\textbf{  F-statistic:       } &     116.5   \\\\\n\\textbf{Date:}             & Sun, 04 Aug 2024 & \\textbf{  Prob (F-statistic):} &  7.51e-12   \\\\\n\\textbf{Time:}             &     05:39:25     & \\textbf{  Log-Likelihood:    } &    60.023   \\\\\n\\textbf{No. Observations:} &          32      & \\textbf{  AIC:               } &    -116.0   \\\\\n\\textbf{Df Residuals:}     &          30      & \\textbf{  BIC:               } &    -113.1   \\\\\n\\textbf{Df Model:}         &           1      & \\textbf{                     } &             \\\\\n\\textbf{Covariance Type:}  &    nonrobust     & \\textbf{                     } &             \\\\\n\\bottomrule\n\\end{tabular}\n\\begin{tabular}{lcccccc}\n                   & \\textbf{coef} & \\textbf{std err} & \\textbf{t} & \\textbf{P$> |$t$|$} & \\textbf{[0.025} & \\textbf{0.975]}  \\\\\n\\midrule\n\\textbf{Intercept} &       0.4755  &        0.010     &    49.058  &         0.000        &        0.456    &        0.495     \\\\\n\\textbf{x}         &       0.0124  &        0.001     &    10.793  &         0.000        &        0.010    &        0.015     \\\\\n\\bottomrule\n\\end{tabular}\n\\begin{tabular}{lclc}\n\\textbf{Omnibus:}       &  2.969 & \\textbf{  Durbin-Watson:     } &    1.835  \\\\\n\\textbf{Prob(Omnibus):} &  0.227 & \\textbf{  Jarque-Bera (JB):  } &    2.344  \\\\\n\\textbf{Skew:}          & -0.527 & \\textbf{  Prob(JB):          } &    0.310  \\\\\n\\textbf{Kurtosis:}      &  2.196 & \\textbf{  Cond. No.          } &     12.2  \\\\\n\\bottomrule\n\\end{tabular}\n%\\caption{OLS Regression Results}\n\\end{center}\n\nNotes: \\newline\n [1] Standard Errors assume that the covariance matrix of the errors is correctly specified."
          },
          "metadata": {},
          "execution_count": 383
        }
      ]
    },
    {
      "cell_type": "code",
      "source": [
        "split_model_train_prediction = split_model.predict(train_df)\n",
        "split_model_test_prediction = split_model.predict(test_df)"
      ],
      "metadata": {
        "id": "cDF5GodloQH_"
      },
      "execution_count": 384,
      "outputs": []
    },
    {
      "cell_type": "code",
      "source": [
        "split_model.params.loc[\"Intercept\"]"
      ],
      "metadata": {
        "colab": {
          "base_uri": "https://localhost:8080/"
        },
        "id": "XPD8UqParZP8",
        "outputId": "03fb2f5e-b51f-4c4f-ba29-53f1541ff551"
      },
      "execution_count": 385,
      "outputs": [
        {
          "output_type": "execute_result",
          "data": {
            "text/plain": [
              "0.4754771821757162"
            ]
          },
          "metadata": {},
          "execution_count": 385
        }
      ]
    },
    {
      "cell_type": "code",
      "source": [
        "fig, axes = plt.subplots(1,1)\n",
        "sns.scatterplot(data=split_df, x=\"x\", y=\"y\", hue=\"type\", ax=axes)\n",
        "x_values = np.linspace(split_df.x.min(), split_df.x.max(), 100)\n",
        "y_values = split_model.params.loc[\"x\"]*x_values + split_model.params.loc[\"Intercept\"]\n",
        "axes.plot(x_values, y_values, '-r', label=\"OLS\")\n",
        "axes.legend(loc='upper left')"
      ],
      "metadata": {
        "colab": {
          "base_uri": "https://localhost:8080/",
          "height": 467
        },
        "id": "3p8zyxTFoQKI",
        "outputId": "077cd0a1-403c-4c04-8598-4098e4e45293"
      },
      "execution_count": 386,
      "outputs": [
        {
          "output_type": "execute_result",
          "data": {
            "text/plain": [
              "<matplotlib.legend.Legend at 0x7c1020c8abf0>"
            ]
          },
          "metadata": {},
          "execution_count": 386
        },
        {
          "output_type": "display_data",
          "data": {
            "text/plain": [
              "<Figure size 640x480 with 1 Axes>"
            ],
            "image/png": "[encoded data removed]"
          },
          "metadata": {}
        }
      ]
    },
    {
      "cell_type": "code",
      "source": [
        "mean_squared_error(train_df[\"y\"], split_model_train_prediction)"
      ],
      "metadata": {
        "colab": {
          "base_uri": "https://localhost:8080/"
        },
        "id": "eJoJB7VKoQMa",
        "outputId": "708ee7ad-f314-4a05-d0a8-5a84dd75a145"
      },
      "execution_count": 387,
      "outputs": [
        {
          "output_type": "execute_result",
          "data": {
            "text/plain": [
              "0.0013750222907062577"
            ]
          },
          "metadata": {},
          "execution_count": 387
        }
      ]
    },
    {
      "cell_type": "code",
      "source": [
        "mean_squared_error(test_df[\"y\"], split_model_test_prediction)"
      ],
      "metadata": {
        "colab": {
          "base_uri": "https://localhost:8080/"
        },
        "id": "Vi8cJgJEoQOi",
        "outputId": "ec69bc25-ae3a-4343-8b9c-111f92f949e4"
      },
      "execution_count": 388,
      "outputs": [
        {
          "output_type": "execute_result",
          "data": {
            "text/plain": [
              "0.0010837428298496683"
            ]
          },
          "metadata": {},
          "execution_count": 388
        }
      ]
    },
    {
      "cell_type": "code",
      "source": [
        "ols_cv_results = cross_validate(LinearRegression(), X_train.reshape(-1, 1), y_train, cv=3, return_train_score=True, scoring=('r2', 'neg_mean_squared_error', 'neg_mean_absolute_percentage_error'))"
      ],
      "metadata": {
        "id": "CMo2cLRvoQQ-"
      },
      "execution_count": 391,
      "outputs": []
    },
    {
      "cell_type": "code",
      "source": [
        "print(f\"Mean r2: train:{np.mean(ols_cv_results['train_r2'])}\")\n",
        "print(f\"Mean r2: test:{np.mean(ols_cv_results['test_r2'])}\")\n",
        "\n",
        "print(f\"Mean neg_mean_squared_error: train:{np.mean(ols_cv_results['train_neg_mean_squared_error'])}\")\n",
        "print(f\"Mean neg_mean_squared_error: test:{np.mean(ols_cv_results['test_neg_mean_squared_error'])}\")\n",
        "\n",
        "print(f\"Mean neg_mean_absolute_percentage_error: train:{np.mean(ols_cv_results['train_neg_mean_absolute_percentage_error'])}\")\n",
        "print(f\"Mean neg_mean_absolute_percentage_error: test:{np.mean(ols_cv_results['test_neg_mean_absolute_percentage_error'])}\")"
      ],
      "metadata": {
        "colab": {
          "base_uri": "https://localhost:8080/"
        },
        "id": "pvIgxS8xt6lV",
        "outputId": "fd24569b-3eab-4442-af32-668dfef4a6c3"
      },
      "execution_count": 392,
      "outputs": [
        {
          "output_type": "stream",
          "name": "stdout",
          "text": [
            "Mean r2: train:0.8004455455350827\n",
            "Mean r2: test:0.6633008114519688\n",
            "Mean neg_mean_squared_error: train:-0.0012951359044663672\n",
            "Mean neg_mean_squared_error: test:-0.0018886913756536354\n",
            "Mean neg_mean_absolute_percentage_error: train:-0.0570130213741945\n",
            "Mean neg_mean_absolute_percentage_error: test:-0.06904884984518626\n"
          ]
        }
      ]
    },
    {
      "cell_type": "markdown",
      "source": [
        "This clearly shows that the model is overfitting since mean r2 for train << mean r2 for validation sets"
      ],
      "metadata": {
        "id": "T4tVfF5cxKlH"
      }
    },
    {
      "cell_type": "markdown",
      "source": [
        "## Plot OLS regression lines using CV. As dat points change, the line should also shift significantly, indicating high sensitivity to change in input"
      ],
      "metadata": {
        "id": "Acm3LKinyhqw"
      }
    },
    {
      "cell_type": "code",
      "source": [
        "def perfom_ols_with_cv(X, y, n_folds=3):\n",
        "  return_df = pd.DataFrame()\n",
        "  kf = KFold(n_splits=n_folds)\n",
        "  for i, (train_index, test_index) in enumerate(kf.split(X)):\n",
        "    X_train, y_train = X[train_index], y[train_index]\n",
        "    X_test, y_test = X[test_index], y[test_index]\n",
        "    # print(f\"Shape of X_train: {X_train.shape}\")\n",
        "    # print(f\"Shape of y_train: {y_train.shape}\")\n",
        "    # print(f\"Shape of X_test: {X_test.shape}\")\n",
        "    # print(f\"Shape of y_test: {y_test.shape}\")\n",
        "    # print(\"=====\")\n",
        "    train_df = pd.DataFrame({\"x\": X_train.reshape(-1,), \"y\": y_train, \"type\": \"train\"})\n",
        "    test_df = pd.DataFrame({\"x\": X_test.reshape(-1,), \"y\": y_test, \"type\": \"test\"})\n",
        "    split_model = ols('y ~ x', data=train_df).fit()\n",
        "    #print(split_model.params)\n",
        "\n",
        "    x_values = np.linspace(X.min(), X.max(), 100)\n",
        "    predictions = split_model.params.loc[\"x\"]*x_values + split_model.params.loc[\"Intercept\"]\n",
        "    prediction_df = pd.DataFrame({\"x\": x_values, \"y\": predictions, \"type\": \"prediction\"})\n",
        "\n",
        "    combined_df = pd.concat([train_df, test_df, prediction_df], axis=0)\n",
        "    combined_df[\"fold\"] = f\"fold{i}_slope{round(split_model.params.loc['x'], 4)}\"\n",
        "    #combined_df[\"slope\"] = split_model.params.loc[\"x\"]\n",
        "    return_df = pd.concat([return_df, combined_df], axis=0)\n",
        "\n",
        "  return return_df"
      ],
      "metadata": {
        "id": "2QIW16NTytsr"
      },
      "execution_count": 402,
      "outputs": []
    },
    {
      "cell_type": "code",
      "source": [
        "# ## https://inria.github.io/scikit-learn-mooc/python_scripts/linear_regression_non_linear_link.html\n",
        "# # rng = np.random.RandomState(0)\n",
        "# # n_sample = 100\n",
        "# # data_max, data_min = 1.4, -1.4\n",
        "# # len_data = data_max - data_min\n",
        "# # # sort the data to make plotting easier later\n",
        "# # data = np.sort(rng.rand(n_sample) * len_data - len_data / 2)\n",
        "# # noise = rng.randn(n_sample) * 0.3\n",
        "# # target = data**3 - 0.5 * data**2 + noise\n",
        "# ## https://stackoverflow.com/questions/51972637/nonlinear-regression-with-python-whats-a-simple-method-to-fit-this-data-bette\n",
        "# xData = np.array([19.1647, 18.0189, 16.9550, 15.7683, 14.7044, 13.6269, 12.6040, 11.4309, 10.2987, 9.23465, 8.18440, 7.89789, 7.62498, 7.36571, 7.01106, 6.71094, 6.46548, 6.27436, 6.16543, 6.05569, 5.91904, 5.78247, 5.53661, 4.85425, 4.29468, 3.74888, 3.16206, 2.58882, 1.93371, 1.52426, 1.14211, 0.719035, 0.377708, 0.0226971, -0.223181, -0.537231, -0.878491, -1.27484, -1.45266, -1.57583, -1.61717])\n",
        "# yData = np.array([0.644557, 0.641059, 0.637555, 0.634059, 0.634135, 0.631825, 0.631899, 0.627209, 0.622516, 0.617818, 0.616103, 0.613736, 0.610175, 0.606613, 0.605445, 0.603676, 0.604887, 0.600127, 0.604909, 0.588207, 0.581056, 0.576292, 0.566761, 0.555472, 0.545367, 0.538842, 0.529336, 0.518635, 0.506747, 0.499018, 0.491885, 0.484754, 0.475230, 0.464514, 0.454387, 0.444861, 0.437128, 0.415076, 0.401363, 0.390034, 0.378698])"
      ],
      "metadata": {
        "id": "1o14ISjN3p22"
      },
      "execution_count": 393,
      "outputs": []
    },
    {
      "cell_type": "code",
      "source": [
        "cv_prediction_df = perfom_ols_with_cv(xData, yData, n_folds=3)"
      ],
      "metadata": {
        "id": "ePItS0dFzjg0"
      },
      "execution_count": 403,
      "outputs": []
    },
    {
      "cell_type": "code",
      "source": [
        "g = sns.FacetGrid(cv_prediction_df, col=\"fold\", hue=\"type\", sharex=True)\n",
        "g.map(sns.scatterplot, \"x\", \"y\")\n",
        "g.set_titles(col_template=\"{col_name}\")\n",
        "g.add_legend()"
      ],
      "metadata": {
        "colab": {
          "base_uri": "https://localhost:8080/",
          "height": 325
        },
        "id": "mQgPlPPu2LEJ",
        "outputId": "7cc2260b-9ee7-4b4b-b657-0f9463f4ba98"
      },
      "execution_count": 404,
      "outputs": [
        {
          "output_type": "execute_result",
          "data": {
            "text/plain": [
              "<seaborn.axisgrid.FacetGrid at 0x7c101f85bc40>"
            ]
          },
          "metadata": {},
          "execution_count": 404
        },
        {
          "output_type": "display_data",
          "data": {
            "text/plain": [
              "<Figure size 1019.88x300 with 3 Axes>"
            ],
            "image/png": "[encoded data removed]"
          },
          "metadata": {}
        }
      ]
    },
    {
      "cell_type": "markdown",
      "source": [
        "Clear that the slope of the learned line changes with change in data. This means that the model is very senstive to change in input => High variance => Overfitting"
      ],
      "metadata": {
        "id": "7kqszLEm4tbr"
      }
    },
    {
      "cell_type": "markdown",
      "source": [
        "## Ridge regression\n",
        "1. Always standardize both input and output variables. This is a requirement since Ridge coefficients are NOT SCALE INVARIANT. This means that as scale of input variable changes => the coefficient changes (not in proportion to scale). Standardization ensures that all columns/ features are at same scale\n",
        "\n",
        "2. No need to add constant since we will have to use standardized variables (input/ output)\n",
        "\n",
        "2. Ridge coefficients achieve low variance but introducing some bias i.e. forcing model paramaters to have smaller values\n",
        "\n",
        "3. Ridge regrression is very useful when OLS fails i.e. multicollinearity / large number of predictors etc.\n",
        "4. Helps in model regularization by forcing model to have lower slope => less sensitivity to change in input\n",
        "5. by the Gauss-Markov theorem, the OLS estimator has the lowest variance (and the lowest MSE) among the estimators that are unbiased, there exists a biased estimator (a ridge estimator) whose MSE is lower than that of OLS.\n",
        "\n",
        "https://www.statlect.com/fundamentals-of-statistics/ridge-regression"
      ],
      "metadata": {
        "id": "qcgl7v7ekFs5"
      }
    }
  ]
}